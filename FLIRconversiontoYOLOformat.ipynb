{
 "cells": [
  {
   "cell_type": "code",
   "execution_count": 1,
   "id": "8250f801",
   "metadata": {},
   "outputs": [],
   "source": [
    "#this script should be inside FLIR_ADAS_1_3 directory where there is train, val\n",
    "#first run: pip install opencv-python\n",
    "from pathlib import Path\n",
    "from tqdm import tqdm\n",
    "import numpy as np\n",
    "import json\n",
    "import urllib\n",
    "import PIL.Image as Image\n",
    "import cv2\n",
    "import torch\n",
    "import torchvision\n",
    "from IPython.display import display\n",
    "from sklearn.model_selection import train_test_split\n",
    "\n",
    "\n",
    "import cv2 as cv\n",
    "import numpy as np\n",
    "import matplotlib.pyplot as plt\n",
    "\n",
    "import seaborn as sns\n",
    "from pylab import rcParams\n",
    "import matplotlib.pyplot as plt\n",
    "from matplotlib import rc"
   ]
  },
  {
   "cell_type": "code",
   "execution_count": 2,
   "id": "f2a34ce5",
   "metadata": {},
   "outputs": [
    {
     "name": "stdout",
     "output_type": "stream",
     "text": [
      "C:\\Users\\jdove\\Project-6825\\yolov5\n"
     ]
    }
   ],
   "source": [
    "cd yolov5"
   ]
  },
  {
   "cell_type": "code",
   "execution_count": 11,
   "id": "6a04274c",
   "metadata": {},
   "outputs": [],
   "source": [
    "# %matplotlib inline\n",
    "# %config InlineBackend.figure_format='retina'\n",
    "# sns.set(style='whitegrid', palette='muted', font_scale=1.2)\n",
    "# rcParams['figure.figsize'] = 16, 10\n",
    "\n",
    "np.random.seed(42)\n",
    "# from nuimages import NuImages\n",
    "# nuim = NuImages(dataroot='./', version='v1.0-mini', verbose=True, lazy=True) #to change\n",
    "\n",
    "#1. get samples_train and samples_val\n",
    "# Opening JSON file to read sample.json\n",
    "f = open('data/images_thermal_train/coco.json', mode='r') \n",
    "# returns JSON object as a dictionary\n",
    "samples_train = json.load(f)    #each sample is an annotated image basically\n",
    "# Closing file\n",
    "f.close()"
   ]
  },
  {
   "cell_type": "code",
   "execution_count": 12,
   "id": "c5ef66e9",
   "metadata": {},
   "outputs": [],
   "source": [
    "# Opening JSON file to read sample.json\n",
    "f = open('data/images_thermal_val/coco.json', mode='r') \n",
    "# returns JSON object as a dictionary\n",
    "samples_val = json.load(f)    #each sample is an annotated image basically\n",
    "# Closing file\n",
    "f.close()"
   ]
  },
  {
   "cell_type": "code",
   "execution_count": 13,
   "id": "ffffbad7",
   "metadata": {},
   "outputs": [],
   "source": [
    "#2. create list of images_json\n",
    "images_train = samples_train.get('images')\n",
    "images_val = samples_val.get('images')"
   ]
  },
  {
   "cell_type": "code",
   "execution_count": 15,
   "id": "09343c01",
   "metadata": {},
   "outputs": [],
   "source": [
    "#3. create list of categories using dict.get('key')\n",
    "categories_dict = samples_train.get('categories') #categories_dict is an array of dictionaries\n",
    "# print('categories is: ',categories_dict)\n",
    "categories = []\n",
    "for d in categories_dict:\n",
    "    categories.append(d['name'])\n",
    "# print('categories is: ', categories)"
   ]
  },
  {
   "cell_type": "code",
   "execution_count": 16,
   "id": "81d51671",
   "metadata": {},
   "outputs": [],
   "source": [
    "#4. create annotations for train and val\n",
    "annotations_train = samples_train.get('annotations')\n",
    "annotations_val = samples_val.get('annotations')\n"
   ]
  },
  {
   "cell_type": "code",
   "execution_count": 38,
   "id": "68f52e93",
   "metadata": {},
   "outputs": [],
   "source": [
    "def create_dataset(dataset_type, annotations, images_json):\n",
    "    IMG_W = 640\n",
    "    IMG_H = 512\n",
    "    images_path = Path(f\"../{dataset_type}/images\")\n",
    "    images_path.mkdir(parents=True, exist_ok=True)\n",
    "    labels_path = Path(f\"../{dataset_type}/labels\")\n",
    "    # labels_path = Path(f\"clothing/labels/{dataset_type}\")\n",
    "    labels_path.mkdir(parents=True, exist_ok=True)\n",
    "    for img_id, row in enumerate(tqdm(images_json)):\n",
    "        #img_id is 0 to n, row is just an element in images_json\n",
    "        image_name = f\"{img_id}.jpeg\"\n",
    "        ###testing\n",
    "        # row = train_clothing[0] #row is just an image in training set\n",
    "        # row = train_clothing[0]   #row is row \n",
    "        # print('row is ',row)\n",
    "\n",
    "        #1. get img id and img path\n",
    "        img_path = 'data/' + dataset_type + '/' + row['file_name'] #edit this part (to be editted)\n",
    "        # print(' \\n image path is: ',img_path) #testing delete after done\n",
    "\n",
    "        # img_path = row['file_name']\n",
    "        img_id = row['id']\n",
    "        # key_camera_token = row['key_camera_token'] \n",
    "        # for sample_data in samples_data:  ##for each sample_data in sample_data.json\n",
    "        #     if key_camera_token == sample_data['token']:\n",
    "        #       img_path = sample_data['filename']    #row is just an image in training set\n",
    "\n",
    "\n",
    "        #method1: Resize image resize using opencv or cv\n",
    "        # from google.colab.patches import cv2_imshow\n",
    "        #step 1: resize using cv\n",
    "        #img = cv.imread(img_path, 0) #1 for image color, 0 for gray color\n",
    "        #img = cv.resize(img, (416,416), interpolation = cv.INTER_CUBIC)\n",
    "        #step 2: save the img using cv\n",
    "        #im_path = str(images_path / image_name)\n",
    "        #print('im_path',im_path)\n",
    "        #cv.imwrite(im_path, img)    #e.g.: cv.imwrite('/content/savedImage.jpg', img)\n",
    "\n",
    "        ###################################\n",
    "\n",
    "        #method2: original   \n",
    "        img = Image.open(img_path)\n",
    "        img.save(str(images_path / image_name), \"JPEG\")\n",
    "        #end of original\n",
    "\n",
    "        label_name = f\"{img_id}.txt\"\n",
    "\n",
    "        with (labels_path / label_name).open(mode=\"w\") as label_file: \n",
    "            # category_token = ''     \n",
    "            for obj_anno in annotations:  #write all annotations and category for this image using object_ann.json\n",
    "                if img_id == obj_anno['image_id']:\n",
    "                    # label = ''\n",
    "                    #get bounding box\n",
    "                    b_box = obj_anno['bbox']\n",
    "                    x_min, y_min, w, h = b_box[0], b_box[1], b_box[2], b_box[3]\n",
    "                    #normalized the data\n",
    "                    w_norm = w / IMG_W \n",
    "                    h_norm = h / IMG_H\n",
    "                    x_cent_norm = (x_min + w/2) / IMG_W\n",
    "                    y_cent_norm = (y_min + h/2) / IMG_H\n",
    "\n",
    "                    #get category id\n",
    "                    category_idx = obj_anno['category_id'] - 1 # minus 1 because annotation in json start at 1 but list start at 0  \n",
    "\n",
    "                    # category_token = obj_anno['category_token']   \n",
    "                    # bbox_width = x2 - x1\n",
    "                    # bbox_height = y2 - y1\n",
    "\n",
    "                    # #normalized the data\n",
    "                    # w = bbox_width / 1600\n",
    "                    # h = bbox_height/900\n",
    "                    # x_cent = (x1 + bbox_width/2) /1600\n",
    "                    # y_cent = (y1 + bbox_height/2) /900\n",
    "\n",
    "                    label_file.write(f\"{category_idx} {x_cent_norm} {y_cent_norm} {w_norm} {h_norm}\\n\")\n",
    "                    # # for a in row['annotation']:     #for each image\n",
    "                    # key_camera_token\n",
    "                    # for label in a['label']:      #write all annotations and category for this image using object_ann.json\n",
    "            label_file.close()"
   ]
  },
  {
   "cell_type": "code",
   "execution_count": 39,
   "id": "cba8201e",
   "metadata": {},
   "outputs": [
    {
     "name": "stderr",
     "output_type": "stream",
     "text": [
      "  0%|          | 3/10742 [00:00<06:36, 27.09it/s]"
     ]
    },
    {
     "name": "stdout",
     "output_type": "stream",
     "text": [
      "0.txt\n",
      "1.txt\n",
      "2.txt\n",
      "3.txt\n",
      "4.txt\n",
      "5.txt\n",
      "6.txt\n"
     ]
    },
    {
     "name": "stderr",
     "output_type": "stream",
     "text": [
      "  0%|          | 11/10742 [00:00<06:21, 28.12it/s]"
     ]
    },
    {
     "name": "stdout",
     "output_type": "stream",
     "text": [
      "7.txt\n",
      "8.txt\n",
      "9.txt\n",
      "10.txt\n",
      "11.txt\n"
     ]
    },
    {
     "name": "stderr",
     "output_type": "stream",
     "text": [
      "\r",
      "  0%|          | 14/10742 [00:00<06:32, 27.34it/s]"
     ]
    },
    {
     "name": "stdout",
     "output_type": "stream",
     "text": [
      "12.txt\n",
      "13.txt\n",
      "14.txt\n",
      "15.txt\n",
      "16.txt\n"
     ]
    },
    {
     "name": "stderr",
     "output_type": "stream",
     "text": [
      "  0%|          | 20/10742 [00:00<06:53, 25.93it/s]"
     ]
    },
    {
     "name": "stdout",
     "output_type": "stream",
     "text": [
      "17.txt\n",
      "18.txt\n",
      "19.txt\n",
      "20.txt\n",
      "21.txt\n",
      "22.txt\n"
     ]
    },
    {
     "name": "stderr",
     "output_type": "stream",
     "text": [
      "  0%|          | 26/10742 [00:00<06:51, 26.02it/s]"
     ]
    },
    {
     "name": "stdout",
     "output_type": "stream",
     "text": [
      "23.txt\n",
      "24.txt\n",
      "25.txt\n",
      "26.txt\n",
      "27.txt\n"
     ]
    },
    {
     "name": "stderr",
     "output_type": "stream",
     "text": [
      "  0%|          | 32/10742 [00:01<07:16, 24.53it/s]"
     ]
    },
    {
     "name": "stdout",
     "output_type": "stream",
     "text": [
      "28.txt\n",
      "29.txt\n",
      "30.txt\n",
      "31.txt\n",
      "32.txt\n"
     ]
    },
    {
     "name": "stderr",
     "output_type": "stream",
     "text": [
      "\r",
      "  0%|          | 35/10742 [00:01<07:40, 23.25it/s]"
     ]
    },
    {
     "name": "stdout",
     "output_type": "stream",
     "text": [
      "33.txt\n",
      "34.txt\n",
      "35.txt\n",
      "36.txt\n",
      "37.txt\n"
     ]
    },
    {
     "name": "stderr",
     "output_type": "stream",
     "text": [
      "  0%|          | 41/10742 [00:01<08:45, 20.37it/s]"
     ]
    },
    {
     "name": "stdout",
     "output_type": "stream",
     "text": [
      "38.txt\n",
      "39.txt\n",
      "40.txt\n",
      "41.txt\n"
     ]
    },
    {
     "name": "stderr",
     "output_type": "stream",
     "text": [
      "  0%|          | 47/10742 [00:01<07:56, 22.42it/s]"
     ]
    },
    {
     "name": "stdout",
     "output_type": "stream",
     "text": [
      "42.txt\n",
      "43.txt\n",
      "44.txt\n",
      "45.txt\n",
      "46.txt\n"
     ]
    },
    {
     "name": "stderr",
     "output_type": "stream",
     "text": [
      "\r",
      "  0%|          | 50/10742 [00:02<07:41, 23.18it/s]"
     ]
    },
    {
     "name": "stdout",
     "output_type": "stream",
     "text": [
      "47.txt\n",
      "48.txt\n",
      "49.txt\n",
      "50.txt\n",
      "51.txt\n",
      "52.txt\n"
     ]
    },
    {
     "name": "stderr",
     "output_type": "stream",
     "text": [
      "  1%|          | 56/10742 [00:02<07:40, 23.19it/s]"
     ]
    },
    {
     "name": "stdout",
     "output_type": "stream",
     "text": [
      "53.txt\n",
      "54.txt\n",
      "55.txt\n",
      "56.txt\n",
      "57.txt\n"
     ]
    },
    {
     "name": "stderr",
     "output_type": "stream",
     "text": [
      "  1%|          | 62/10742 [00:02<08:30, 20.93it/s]"
     ]
    },
    {
     "name": "stdout",
     "output_type": "stream",
     "text": [
      "58.txt\n",
      "59.txt\n",
      "60.txt\n",
      "61.txt\n"
     ]
    },
    {
     "name": "stderr",
     "output_type": "stream",
     "text": [
      "\r",
      "  1%|          | 65/10742 [00:02<08:55, 19.92it/s]"
     ]
    },
    {
     "name": "stdout",
     "output_type": "stream",
     "text": [
      "62.txt\n",
      "63.txt\n",
      "64.txt\n",
      "65.txt\n"
     ]
    },
    {
     "name": "stderr",
     "output_type": "stream",
     "text": [
      "\r",
      "  1%|          | 68/10742 [00:02<09:02, 19.69it/s]"
     ]
    },
    {
     "name": "stdout",
     "output_type": "stream",
     "text": [
      "66.txt\n",
      "67.txt\n",
      "68.txt\n",
      "69.txt\n",
      "70.txt\n"
     ]
    },
    {
     "name": "stderr",
     "output_type": "stream",
     "text": [
      "  1%|          | 74/10742 [00:03<08:17, 21.42it/s]"
     ]
    },
    {
     "name": "stdout",
     "output_type": "stream",
     "text": [
      "71.txt\n",
      "72.txt\n",
      "73.txt\n",
      "74.txt\n",
      "75.txt\n"
     ]
    },
    {
     "name": "stderr",
     "output_type": "stream",
     "text": [
      "  1%|          | 80/10742 [00:03<07:37, 23.33it/s]"
     ]
    },
    {
     "name": "stdout",
     "output_type": "stream",
     "text": [
      "76.txt\n",
      "77.txt\n",
      "78.txt\n",
      "79.txt\n",
      "80.txt\n",
      "81.txt\n"
     ]
    },
    {
     "name": "stderr",
     "output_type": "stream",
     "text": [
      "  1%|          | 86/10742 [00:03<07:25, 23.93it/s]"
     ]
    },
    {
     "name": "stdout",
     "output_type": "stream",
     "text": [
      "82.txt\n",
      "83.txt\n",
      "84.txt\n",
      "85.txt\n",
      "86.txt\n",
      "87.txt\n"
     ]
    },
    {
     "name": "stderr",
     "output_type": "stream",
     "text": [
      "  1%|          | 93/10742 [00:03<06:33, 27.04it/s]"
     ]
    },
    {
     "name": "stdout",
     "output_type": "stream",
     "text": [
      "88.txt\n",
      "89.txt\n",
      "90.txt\n",
      "91.txt\n",
      "92.txt\n",
      "93.txt\n",
      "94.txt\n"
     ]
    },
    {
     "name": "stderr",
     "output_type": "stream",
     "text": [
      "  1%|          | 99/10742 [00:04<06:16, 28.31it/s]"
     ]
    },
    {
     "name": "stdout",
     "output_type": "stream",
     "text": [
      "95.txt\n",
      "96.txt\n",
      "97.txt\n",
      "98.txt\n",
      "99.txt\n",
      "100.txt\n"
     ]
    },
    {
     "name": "stderr",
     "output_type": "stream",
     "text": [
      "  1%|          | 106/10742 [00:04<06:02, 29.38it/s]"
     ]
    },
    {
     "name": "stdout",
     "output_type": "stream",
     "text": [
      "101.txt\n",
      "102.txt\n",
      "103.txt\n",
      "104.txt\n",
      "105.txt\n",
      "106.txt\n",
      "107.txt\n"
     ]
    },
    {
     "name": "stderr",
     "output_type": "stream",
     "text": [
      "  1%|          | 114/10742 [00:04<05:51, 30.24it/s]"
     ]
    },
    {
     "name": "stdout",
     "output_type": "stream",
     "text": [
      "108.txt\n",
      "109.txt\n",
      "110.txt\n",
      "111.txt\n",
      "112.txt\n",
      "113.txt\n",
      "114.txt\n"
     ]
    },
    {
     "name": "stderr",
     "output_type": "stream",
     "text": [
      "\r",
      "  1%|          | 118/10742 [00:04<05:48, 30.50it/s]"
     ]
    },
    {
     "name": "stdout",
     "output_type": "stream",
     "text": [
      "115.txt\n",
      "116.txt\n",
      "117.txt\n",
      "118.txt\n",
      "119.txt\n",
      "120.txt\n",
      "121.txt\n"
     ]
    },
    {
     "name": "stderr",
     "output_type": "stream",
     "text": [
      "  1%|          | 126/10742 [00:05<05:44, 30.79it/s]"
     ]
    },
    {
     "name": "stdout",
     "output_type": "stream",
     "text": [
      "122.txt\n",
      "123.txt\n",
      "124.txt\n",
      "125.txt\n",
      "126.txt\n",
      "127.txt\n"
     ]
    },
    {
     "name": "stderr",
     "output_type": "stream",
     "text": [
      "\r",
      "  1%|          | 130/10742 [00:05<05:53, 30.03it/s]"
     ]
    },
    {
     "name": "stdout",
     "output_type": "stream",
     "text": [
      "128.txt\n",
      "129.txt\n",
      "130.txt\n",
      "131.txt\n",
      "132.txt\n"
     ]
    },
    {
     "name": "stderr",
     "output_type": "stream",
     "text": [
      "  1%|▏         | 137/10742 [00:05<06:37, 26.70it/s]"
     ]
    },
    {
     "name": "stdout",
     "output_type": "stream",
     "text": [
      "133.txt\n",
      "134.txt\n",
      "135.txt\n",
      "136.txt\n",
      "137.txt\n",
      "138.txt\n"
     ]
    },
    {
     "name": "stderr",
     "output_type": "stream",
     "text": [
      "  1%|▏         | 143/10742 [00:05<06:51, 25.77it/s]"
     ]
    },
    {
     "name": "stdout",
     "output_type": "stream",
     "text": [
      "139.txt\n",
      "140.txt\n",
      "141.txt\n",
      "142.txt\n",
      "143.txt\n",
      "144.txt\n"
     ]
    },
    {
     "name": "stderr",
     "output_type": "stream",
     "text": [
      "  1%|▏         | 149/10742 [00:05<07:02, 25.05it/s]"
     ]
    },
    {
     "name": "stdout",
     "output_type": "stream",
     "text": [
      "145.txt\n",
      "146.txt\n",
      "147.txt\n",
      "148.txt\n",
      "149.txt\n",
      "150.txt\n"
     ]
    },
    {
     "name": "stderr",
     "output_type": "stream",
     "text": [
      "  1%|▏         | 157/10742 [00:06<06:13, 28.38it/s]"
     ]
    },
    {
     "name": "stdout",
     "output_type": "stream",
     "text": [
      "151.txt\n",
      "152.txt\n",
      "153.txt\n",
      "154.txt\n",
      "155.txt\n",
      "156.txt\n",
      "157.txt\n"
     ]
    },
    {
     "name": "stderr",
     "output_type": "stream",
     "text": [
      "  2%|▏         | 164/10742 [00:06<06:00, 29.34it/s]"
     ]
    },
    {
     "name": "stdout",
     "output_type": "stream",
     "text": [
      "158.txt\n",
      "159.txt\n",
      "160.txt\n",
      "161.txt\n",
      "162.txt\n",
      "163.txt\n"
     ]
    },
    {
     "name": "stderr",
     "output_type": "stream",
     "text": [
      "\r",
      "  2%|▏         | 167/10742 [00:06<05:59, 29.45it/s]"
     ]
    },
    {
     "name": "stdout",
     "output_type": "stream",
     "text": [
      "164.txt\n",
      "165.txt\n",
      "166.txt\n",
      "167.txt\n",
      "168.txt\n",
      "169.txt\n"
     ]
    },
    {
     "name": "stderr",
     "output_type": "stream",
     "text": [
      "  2%|▏         | 173/10742 [00:06<06:08, 28.68it/s]"
     ]
    },
    {
     "name": "stdout",
     "output_type": "stream",
     "text": [
      "170.txt\n",
      "171.txt\n",
      "172.txt\n",
      "173.txt\n",
      "174.txt\n",
      "175.txt\n"
     ]
    },
    {
     "name": "stderr",
     "output_type": "stream",
     "text": [
      "  2%|▏         | 181/10742 [00:06<05:47, 30.38it/s]"
     ]
    },
    {
     "name": "stdout",
     "output_type": "stream",
     "text": [
      "176.txt\n",
      "177.txt\n",
      "178.txt\n",
      "179.txt\n",
      "180.txt\n",
      "181.txt\n",
      "182.txt\n"
     ]
    },
    {
     "name": "stderr",
     "output_type": "stream",
     "text": [
      "  2%|▏         | 189/10742 [00:07<05:46, 30.46it/s]"
     ]
    },
    {
     "name": "stdout",
     "output_type": "stream",
     "text": [
      "183.txt\n",
      "184.txt\n",
      "185.txt\n",
      "186.txt\n",
      "187.txt\n",
      "188.txt\n"
     ]
    },
    {
     "name": "stderr",
     "output_type": "stream",
     "text": [
      "\r",
      "  2%|▏         | 193/10742 [00:07<05:44, 30.65it/s]"
     ]
    },
    {
     "name": "stdout",
     "output_type": "stream",
     "text": [
      "189.txt\n",
      "190.txt\n",
      "191.txt\n",
      "192.txt\n",
      "193.txt\n",
      "194.txt\n"
     ]
    },
    {
     "name": "stderr",
     "output_type": "stream",
     "text": [
      "  2%|▏         | 201/10742 [00:07<05:43, 30.65it/s]"
     ]
    },
    {
     "name": "stdout",
     "output_type": "stream",
     "text": [
      "195.txt\n",
      "196.txt\n",
      "197.txt\n",
      "198.txt\n",
      "199.txt\n",
      "200.txt\n",
      "201.txt\n",
      "202.txt\n"
     ]
    },
    {
     "name": "stderr",
     "output_type": "stream",
     "text": [
      "  2%|▏         | 209/10742 [00:07<05:39, 31.04it/s]"
     ]
    },
    {
     "name": "stdout",
     "output_type": "stream",
     "text": [
      "203.txt\n",
      "204.txt\n",
      "205.txt\n",
      "206.txt\n",
      "207.txt\n",
      "208.txt\n"
     ]
    },
    {
     "name": "stderr",
     "output_type": "stream",
     "text": [
      "\r",
      "  2%|▏         | 213/10742 [00:08<05:57, 29.44it/s]"
     ]
    },
    {
     "name": "stdout",
     "output_type": "stream",
     "text": [
      "209.txt\n",
      "210.txt\n",
      "211.txt\n",
      "212.txt\n",
      "213.txt\n",
      "214.txt\n"
     ]
    },
    {
     "name": "stderr",
     "output_type": "stream",
     "text": [
      "  2%|▏         | 219/10742 [00:08<06:40, 26.28it/s]"
     ]
    },
    {
     "name": "stdout",
     "output_type": "stream",
     "text": [
      "215.txt\n",
      "216.txt\n",
      "217.txt\n",
      "218.txt\n",
      "219.txt\n"
     ]
    },
    {
     "name": "stderr",
     "output_type": "stream",
     "text": [
      "\r",
      "  2%|▏         | 222/10742 [00:08<06:42, 26.12it/s]"
     ]
    },
    {
     "name": "stdout",
     "output_type": "stream",
     "text": [
      "220.txt\n",
      "221.txt\n",
      "222.txt\n",
      "223.txt\n",
      "224.txt\n"
     ]
    },
    {
     "name": "stderr",
     "output_type": "stream",
     "text": [
      "  2%|▏         | 228/10742 [00:08<06:54, 25.38it/s]"
     ]
    },
    {
     "name": "stdout",
     "output_type": "stream",
     "text": [
      "225.txt\n",
      "226.txt\n",
      "227.txt\n",
      "228.txt\n",
      "229.txt\n"
     ]
    },
    {
     "name": "stderr",
     "output_type": "stream",
     "text": [
      "  2%|▏         | 234/10742 [00:08<06:32, 26.75it/s]"
     ]
    },
    {
     "name": "stdout",
     "output_type": "stream",
     "text": [
      "230.txt\n",
      "231.txt\n",
      "232.txt\n",
      "233.txt\n",
      "234.txt\n",
      "235.txt\n",
      "236.txt\n"
     ]
    },
    {
     "name": "stderr",
     "output_type": "stream",
     "text": [
      "  2%|▏         | 241/10742 [00:09<06:15, 28.00it/s]"
     ]
    },
    {
     "name": "stdout",
     "output_type": "stream",
     "text": [
      "237.txt\n",
      "238.txt\n",
      "239.txt\n",
      "240.txt\n",
      "241.txt\n",
      "242.txt\n",
      "243.txt\n"
     ]
    },
    {
     "name": "stderr",
     "output_type": "stream",
     "text": [
      "  2%|▏         | 249/10742 [00:09<05:53, 29.66it/s]"
     ]
    },
    {
     "name": "stdout",
     "output_type": "stream",
     "text": [
      "244.txt\n",
      "245.txt\n",
      "246.txt\n",
      "247.txt\n",
      "248.txt\n",
      "249.txt\n",
      "250.txt\n"
     ]
    },
    {
     "name": "stderr",
     "output_type": "stream",
     "text": [
      "  2%|▏         | 257/10742 [00:09<05:47, 30.20it/s]"
     ]
    },
    {
     "name": "stdout",
     "output_type": "stream",
     "text": [
      "251.txt\n",
      "252.txt\n",
      "253.txt\n",
      "254.txt\n",
      "255.txt\n",
      "256.txt\n",
      "257.txt\n"
     ]
    },
    {
     "name": "stderr",
     "output_type": "stream",
     "text": [
      "\r",
      "  2%|▏         | 261/10742 [00:09<05:56, 29.43it/s]"
     ]
    },
    {
     "name": "stdout",
     "output_type": "stream",
     "text": [
      "258.txt\n",
      "259.txt\n",
      "260.txt\n",
      "261.txt\n",
      "262.txt\n",
      "263.txt\n",
      "264.txt\n"
     ]
    },
    {
     "name": "stderr",
     "output_type": "stream",
     "text": [
      "  3%|▎         | 269/10742 [00:10<05:47, 30.11it/s]"
     ]
    },
    {
     "name": "stdout",
     "output_type": "stream",
     "text": [
      "265.txt\n",
      "266.txt\n",
      "267.txt\n",
      "268.txt\n",
      "269.txt\n",
      "270.txt\n",
      "271.txt\n"
     ]
    },
    {
     "name": "stderr",
     "output_type": "stream",
     "text": [
      "  3%|▎         | 277/10742 [00:10<05:40, 30.77it/s]"
     ]
    },
    {
     "name": "stdout",
     "output_type": "stream",
     "text": [
      "272.txt\n",
      "273.txt\n",
      "274.txt\n",
      "275.txt\n",
      "276.txt\n",
      "277.txt\n",
      "278.txt\n"
     ]
    },
    {
     "name": "stderr",
     "output_type": "stream",
     "text": [
      "  3%|▎         | 285/10742 [00:10<05:36, 31.08it/s]"
     ]
    },
    {
     "name": "stdout",
     "output_type": "stream",
     "text": [
      "279.txt\n",
      "280.txt\n",
      "281.txt\n",
      "282.txt\n",
      "283.txt\n",
      "284.txt\n"
     ]
    },
    {
     "name": "stderr",
     "output_type": "stream",
     "text": [
      "\r",
      "  3%|▎         | 289/10742 [00:10<05:38, 30.89it/s]"
     ]
    },
    {
     "name": "stdout",
     "output_type": "stream",
     "text": [
      "285.txt\n",
      "286.txt\n",
      "287.txt\n",
      "288.txt\n",
      "289.txt\n",
      "290.txt\n",
      "291.txt\n"
     ]
    },
    {
     "name": "stderr",
     "output_type": "stream",
     "text": [
      "  3%|▎         | 297/10742 [00:10<05:49, 29.90it/s]"
     ]
    },
    {
     "name": "stdout",
     "output_type": "stream",
     "text": [
      "292.txt\n",
      "293.txt\n",
      "294.txt\n",
      "295.txt\n",
      "296.txt\n",
      "297.txt\n"
     ]
    },
    {
     "name": "stderr",
     "output_type": "stream",
     "text": [
      "\r",
      "  3%|▎         | 300/10742 [00:11<06:06, 28.50it/s]"
     ]
    },
    {
     "name": "stdout",
     "output_type": "stream",
     "text": [
      "298.txt\n",
      "299.txt\n",
      "300.txt\n",
      "301.txt\n",
      "302.txt\n"
     ]
    },
    {
     "name": "stderr",
     "output_type": "stream",
     "text": [
      "  3%|▎         | 306/10742 [00:11<06:29, 26.82it/s]"
     ]
    },
    {
     "name": "stdout",
     "output_type": "stream",
     "text": [
      "303.txt\n",
      "304.txt\n",
      "305.txt\n",
      "306.txt\n",
      "307.txt\n"
     ]
    },
    {
     "name": "stderr",
     "output_type": "stream",
     "text": [
      "  3%|▎         | 312/10742 [00:11<06:38, 26.20it/s]"
     ]
    },
    {
     "name": "stdout",
     "output_type": "stream",
     "text": [
      "308.txt\n",
      "309.txt\n",
      "310.txt\n",
      "311.txt\n",
      "312.txt\n",
      "313.txt\n"
     ]
    },
    {
     "name": "stderr",
     "output_type": "stream",
     "text": [
      "  3%|▎         | 318/10742 [00:11<06:33, 26.52it/s]"
     ]
    },
    {
     "name": "stdout",
     "output_type": "stream",
     "text": [
      "314.txt\n",
      "315.txt\n",
      "316.txt\n",
      "317.txt\n",
      "318.txt\n",
      "319.txt\n",
      "320.txt\n"
     ]
    },
    {
     "name": "stderr",
     "output_type": "stream",
     "text": [
      "  3%|▎         | 326/10742 [00:12<05:58, 29.03it/s]"
     ]
    },
    {
     "name": "stdout",
     "output_type": "stream",
     "text": [
      "321.txt\n",
      "322.txt\n",
      "323.txt\n",
      "324.txt\n",
      "325.txt\n",
      "326.txt\n",
      "327.txt\n"
     ]
    },
    {
     "name": "stderr",
     "output_type": "stream",
     "text": [
      "  3%|▎         | 334/10742 [00:12<05:43, 30.28it/s]"
     ]
    },
    {
     "name": "stdout",
     "output_type": "stream",
     "text": [
      "328.txt\n",
      "329.txt\n",
      "330.txt\n",
      "331.txt\n",
      "332.txt\n",
      "333.txt\n",
      "334.txt\n"
     ]
    },
    {
     "name": "stderr",
     "output_type": "stream",
     "text": [
      "  3%|▎         | 342/10742 [00:12<05:37, 30.85it/s]"
     ]
    },
    {
     "name": "stdout",
     "output_type": "stream",
     "text": [
      "335.txt\n",
      "336.txt\n",
      "337.txt\n",
      "338.txt\n",
      "339.txt\n",
      "340.txt\n",
      "341.txt\n"
     ]
    },
    {
     "name": "stderr",
     "output_type": "stream",
     "text": [
      "\r",
      "  3%|▎         | 346/10742 [00:12<05:46, 30.04it/s]"
     ]
    },
    {
     "name": "stdout",
     "output_type": "stream",
     "text": [
      "342.txt\n",
      "343.txt\n",
      "344.txt\n",
      "345.txt\n",
      "346.txt\n",
      "347.txt\n"
     ]
    },
    {
     "name": "stderr",
     "output_type": "stream",
     "text": [
      "  3%|▎         | 354/10742 [00:12<05:44, 30.15it/s]"
     ]
    },
    {
     "name": "stdout",
     "output_type": "stream",
     "text": [
      "348.txt\n",
      "349.txt\n",
      "350.txt\n",
      "351.txt\n",
      "352.txt\n",
      "353.txt\n"
     ]
    },
    {
     "name": "stderr",
     "output_type": "stream",
     "text": [
      "\r",
      "  3%|▎         | 358/10742 [00:13<05:42, 30.36it/s]"
     ]
    },
    {
     "name": "stdout",
     "output_type": "stream",
     "text": [
      "354.txt\n",
      "355.txt\n",
      "356.txt\n",
      "357.txt\n",
      "358.txt\n",
      "359.txt\n"
     ]
    },
    {
     "name": "stderr",
     "output_type": "stream",
     "text": [
      "  3%|▎         | 366/10742 [00:13<05:38, 30.63it/s]"
     ]
    },
    {
     "name": "stdout",
     "output_type": "stream",
     "text": [
      "360.txt\n",
      "361.txt\n",
      "362.txt\n",
      "363.txt\n",
      "364.txt\n",
      "365.txt\n",
      "366.txt\n"
     ]
    },
    {
     "name": "stderr",
     "output_type": "stream",
     "text": [
      "\r",
      "  3%|▎         | 370/10742 [00:13<05:39, 30.59it/s]"
     ]
    },
    {
     "name": "stdout",
     "output_type": "stream",
     "text": [
      "367.txt\n",
      "368.txt\n",
      "369.txt\n",
      "370.txt\n",
      "371.txt\n",
      "372.txt\n",
      "373.txt\n"
     ]
    },
    {
     "name": "stderr",
     "output_type": "stream",
     "text": [
      "  4%|▎         | 378/10742 [00:13<06:02, 28.56it/s]"
     ]
    },
    {
     "name": "stdout",
     "output_type": "stream",
     "text": [
      "374.txt\n",
      "375.txt\n",
      "376.txt\n",
      "377.txt\n",
      "378.txt\n"
     ]
    },
    {
     "name": "stderr",
     "output_type": "stream",
     "text": [
      "  4%|▎         | 384/10742 [00:14<06:34, 26.27it/s]"
     ]
    },
    {
     "name": "stdout",
     "output_type": "stream",
     "text": [
      "379.txt\n",
      "380.txt\n",
      "381.txt\n",
      "382.txt\n",
      "383.txt\n"
     ]
    },
    {
     "name": "stderr",
     "output_type": "stream",
     "text": [
      "\r",
      "  4%|▎         | 387/10742 [00:14<06:37, 26.06it/s]"
     ]
    },
    {
     "name": "stdout",
     "output_type": "stream",
     "text": [
      "384.txt\n",
      "385.txt\n",
      "386.txt\n",
      "387.txt\n",
      "388.txt\n",
      "389.txt\n"
     ]
    },
    {
     "name": "stderr",
     "output_type": "stream",
     "text": [
      "  4%|▎         | 393/10742 [00:14<06:45, 25.55it/s]"
     ]
    },
    {
     "name": "stdout",
     "output_type": "stream",
     "text": [
      "390.txt\n",
      "391.txt\n",
      "392.txt\n",
      "393.txt\n",
      "394.txt\n"
     ]
    },
    {
     "name": "stderr",
     "output_type": "stream",
     "text": [
      "  4%|▎         | 400/10742 [00:14<06:19, 27.28it/s]"
     ]
    },
    {
     "name": "stdout",
     "output_type": "stream",
     "text": [
      "395.txt\n",
      "396.txt\n",
      "397.txt\n",
      "398.txt\n",
      "399.txt\n",
      "400.txt\n",
      "401.txt\n"
     ]
    },
    {
     "name": "stderr",
     "output_type": "stream",
     "text": [
      "  4%|▍         | 407/10742 [00:14<06:05, 28.31it/s]"
     ]
    },
    {
     "name": "stdout",
     "output_type": "stream",
     "text": [
      "402.txt\n",
      "403.txt\n",
      "404.txt\n",
      "405.txt\n",
      "406.txt\n",
      "407.txt\n",
      "408.txt\n"
     ]
    },
    {
     "name": "stderr",
     "output_type": "stream",
     "text": [
      "  4%|▍         | 414/10742 [00:15<05:52, 29.32it/s]"
     ]
    },
    {
     "name": "stdout",
     "output_type": "stream",
     "text": [
      "409.txt\n",
      "410.txt\n",
      "411.txt\n",
      "412.txt\n",
      "413.txt\n",
      "414.txt\n",
      "415.txt\n"
     ]
    },
    {
     "name": "stderr",
     "output_type": "stream",
     "text": [
      "  4%|▍         | 422/10742 [00:15<05:41, 30.23it/s]"
     ]
    },
    {
     "name": "stdout",
     "output_type": "stream",
     "text": [
      "416.txt\n",
      "417.txt\n",
      "418.txt\n",
      "419.txt\n",
      "420.txt\n",
      "421.txt\n",
      "422.txt\n"
     ]
    },
    {
     "name": "stderr",
     "output_type": "stream",
     "text": [
      "\r",
      "  4%|▍         | 426/10742 [00:15<05:41, 30.25it/s]"
     ]
    },
    {
     "name": "stdout",
     "output_type": "stream",
     "text": [
      "423.txt\n",
      "424.txt\n",
      "425.txt\n",
      "426.txt\n",
      "427.txt\n",
      "428.txt\n",
      "429.txt\n"
     ]
    },
    {
     "name": "stderr",
     "output_type": "stream",
     "text": [
      "  4%|▍         | 434/10742 [00:15<05:41, 30.17it/s]"
     ]
    },
    {
     "name": "stdout",
     "output_type": "stream",
     "text": [
      "430.txt\n",
      "431.txt\n",
      "432.txt\n",
      "433.txt\n",
      "434.txt\n",
      "435.txt\n"
     ]
    },
    {
     "name": "stderr",
     "output_type": "stream",
     "text": [
      "  4%|▍         | 442/10742 [00:16<05:39, 30.34it/s]"
     ]
    },
    {
     "name": "stdout",
     "output_type": "stream",
     "text": [
      "436.txt\n",
      "437.txt\n",
      "438.txt\n",
      "439.txt\n",
      "440.txt\n",
      "441.txt\n"
     ]
    },
    {
     "name": "stderr",
     "output_type": "stream",
     "text": [
      "\r",
      "  4%|▍         | 446/10742 [00:16<05:39, 30.33it/s]"
     ]
    },
    {
     "name": "stdout",
     "output_type": "stream",
     "text": [
      "442.txt\n",
      "443.txt\n",
      "444.txt\n",
      "445.txt\n",
      "446.txt\n",
      "447.txt\n"
     ]
    },
    {
     "name": "stderr",
     "output_type": "stream",
     "text": [
      "  4%|▍         | 454/10742 [00:16<05:45, 29.75it/s]"
     ]
    },
    {
     "name": "stdout",
     "output_type": "stream",
     "text": [
      "448.txt\n",
      "449.txt\n",
      "450.txt\n",
      "451.txt\n",
      "452.txt\n",
      "453.txt\n"
     ]
    },
    {
     "name": "stderr",
     "output_type": "stream",
     "text": [
      "\r",
      "  4%|▍         | 457/10742 [00:16<05:59, 28.59it/s]"
     ]
    },
    {
     "name": "stdout",
     "output_type": "stream",
     "text": [
      "454.txt\n",
      "455.txt\n",
      "456.txt\n",
      "457.txt\n",
      "458.txt\n"
     ]
    },
    {
     "name": "stderr",
     "output_type": "stream",
     "text": [
      "  4%|▍         | 463/10742 [00:16<06:59, 24.53it/s]"
     ]
    },
    {
     "name": "stdout",
     "output_type": "stream",
     "text": [
      "459.txt\n",
      "460.txt\n",
      "461.txt\n",
      "462.txt\n"
     ]
    },
    {
     "name": "stderr",
     "output_type": "stream",
     "text": [
      "\r",
      "  4%|▍         | 466/10742 [00:16<07:06, 24.07it/s]"
     ]
    },
    {
     "name": "stdout",
     "output_type": "stream",
     "text": [
      "463.txt\n",
      "464.txt\n",
      "465.txt\n",
      "466.txt\n",
      "467.txt\n"
     ]
    },
    {
     "name": "stderr",
     "output_type": "stream",
     "text": [
      "  4%|▍         | 472/10742 [00:17<07:38, 22.41it/s]"
     ]
    },
    {
     "name": "stdout",
     "output_type": "stream",
     "text": [
      "468.txt\n",
      "469.txt\n",
      "470.txt\n",
      "471.txt\n",
      "472.txt\n"
     ]
    },
    {
     "name": "stderr",
     "output_type": "stream",
     "text": [
      "\r",
      "  4%|▍         | 475/10742 [00:17<07:29, 22.82it/s]"
     ]
    },
    {
     "name": "stdout",
     "output_type": "stream",
     "text": [
      "473.txt\n",
      "474.txt\n",
      "475.txt\n",
      "476.txt\n",
      "477.txt\n"
     ]
    },
    {
     "name": "stderr",
     "output_type": "stream",
     "text": [
      "  4%|▍         | 481/10742 [00:17<07:06, 24.05it/s]"
     ]
    },
    {
     "name": "stdout",
     "output_type": "stream",
     "text": [
      "478.txt\n",
      "479.txt\n",
      "480.txt\n",
      "481.txt\n",
      "482.txt\n",
      "483.txt\n"
     ]
    },
    {
     "name": "stderr",
     "output_type": "stream",
     "text": [
      "  5%|▍         | 487/10742 [00:17<06:50, 25.00it/s]"
     ]
    },
    {
     "name": "stdout",
     "output_type": "stream",
     "text": [
      "484.txt\n",
      "485.txt\n",
      "486.txt\n",
      "487.txt\n",
      "488.txt\n",
      "489.txt\n"
     ]
    },
    {
     "name": "stderr",
     "output_type": "stream",
     "text": [
      "  5%|▍         | 496/10742 [00:18<06:13, 27.44it/s]"
     ]
    },
    {
     "name": "stdout",
     "output_type": "stream",
     "text": [
      "490.txt\n",
      "491.txt\n",
      "492.txt\n",
      "493.txt\n",
      "494.txt\n",
      "495.txt\n"
     ]
    },
    {
     "name": "stderr",
     "output_type": "stream",
     "text": [
      "\r",
      "  5%|▍         | 499/10742 [00:18<06:05, 28.01it/s]"
     ]
    },
    {
     "name": "stdout",
     "output_type": "stream",
     "text": [
      "496.txt\n",
      "497.txt\n",
      "498.txt\n",
      "499.txt\n",
      "500.txt\n",
      "501.txt\n",
      "502.txt\n"
     ]
    },
    {
     "name": "stderr",
     "output_type": "stream",
     "text": [
      "  5%|▍         | 507/10742 [00:18<05:44, 29.69it/s]"
     ]
    },
    {
     "name": "stdout",
     "output_type": "stream",
     "text": [
      "503.txt\n",
      "504.txt\n",
      "505.txt\n",
      "506.txt\n",
      "507.txt\n",
      "508.txt\n",
      "509.txt\n"
     ]
    },
    {
     "name": "stderr",
     "output_type": "stream",
     "text": [
      "  5%|▍         | 515/10742 [00:18<05:37, 30.32it/s]"
     ]
    },
    {
     "name": "stdout",
     "output_type": "stream",
     "text": [
      "510.txt\n",
      "511.txt\n",
      "512.txt\n",
      "513.txt\n",
      "514.txt\n",
      "515.txt\n",
      "516.txt\n"
     ]
    },
    {
     "name": "stderr",
     "output_type": "stream",
     "text": [
      "\r",
      "  5%|▍         | 519/10742 [00:18<05:35, 30.49it/s]"
     ]
    },
    {
     "name": "stdout",
     "output_type": "stream",
     "text": [
      "517.txt\n",
      "518.txt\n",
      "519.txt\n",
      "520.txt\n",
      "521.txt\n",
      "522.txt\n"
     ]
    },
    {
     "name": "stderr",
     "output_type": "stream",
     "text": [
      "  5%|▍         | 526/10742 [00:19<06:12, 27.42it/s]"
     ]
    },
    {
     "name": "stdout",
     "output_type": "stream",
     "text": [
      "523.txt\n",
      "524.txt\n",
      "525.txt\n",
      "526.txt\n"
     ]
    },
    {
     "name": "stderr",
     "output_type": "stream",
     "text": [
      "  5%|▍         | 533/10742 [00:19<06:13, 27.36it/s]"
     ]
    },
    {
     "name": "stdout",
     "output_type": "stream",
     "text": [
      "527.txt\n",
      "528.txt\n",
      "529.txt\n",
      "530.txt\n",
      "531.txt\n",
      "532.txt\n"
     ]
    },
    {
     "name": "stderr",
     "output_type": "stream",
     "text": [
      "\r",
      "  5%|▍         | 536/10742 [00:19<06:05, 27.96it/s]"
     ]
    },
    {
     "name": "stdout",
     "output_type": "stream",
     "text": [
      "533.txt\n",
      "534.txt\n",
      "535.txt\n",
      "536.txt\n",
      "537.txt\n",
      "538.txt\n"
     ]
    },
    {
     "name": "stderr",
     "output_type": "stream",
     "text": [
      "  5%|▌         | 542/10742 [00:19<06:42, 25.33it/s]"
     ]
    },
    {
     "name": "stdout",
     "output_type": "stream",
     "text": [
      "539.txt\n",
      "540.txt\n",
      "541.txt\n",
      "542.txt\n",
      "543.txt\n"
     ]
    },
    {
     "name": "stderr",
     "output_type": "stream",
     "text": [
      "  5%|▌         | 548/10742 [00:20<06:49, 24.90it/s]"
     ]
    },
    {
     "name": "stdout",
     "output_type": "stream",
     "text": [
      "544.txt\n",
      "545.txt\n",
      "546.txt\n",
      "547.txt\n",
      "548.txt\n",
      "549.txt\n"
     ]
    },
    {
     "name": "stderr",
     "output_type": "stream",
     "text": [
      "  5%|▌         | 554/10742 [00:20<06:45, 25.13it/s]"
     ]
    },
    {
     "name": "stdout",
     "output_type": "stream",
     "text": [
      "550.txt\n",
      "551.txt\n",
      "552.txt\n",
      "553.txt\n",
      "554.txt\n"
     ]
    },
    {
     "name": "stderr",
     "output_type": "stream",
     "text": [
      "  5%|▌         | 561/10742 [00:20<06:07, 27.70it/s]"
     ]
    },
    {
     "name": "stdout",
     "output_type": "stream",
     "text": [
      "555.txt\n",
      "556.txt\n",
      "557.txt\n",
      "558.txt\n",
      "559.txt\n",
      "560.txt\n",
      "561.txt\n",
      "562.txt\n"
     ]
    },
    {
     "name": "stderr",
     "output_type": "stream",
     "text": [
      "  5%|▌         | 568/10742 [00:20<06:01, 28.13it/s]"
     ]
    },
    {
     "name": "stdout",
     "output_type": "stream",
     "text": [
      "563.txt\n",
      "564.txt\n",
      "565.txt\n",
      "566.txt\n",
      "567.txt\n",
      "568.txt\n"
     ]
    },
    {
     "name": "stderr",
     "output_type": "stream",
     "text": [
      "\r",
      "  5%|▌         | 572/10742 [00:20<05:57, 28.44it/s]"
     ]
    },
    {
     "name": "stdout",
     "output_type": "stream",
     "text": [
      "569.txt\n",
      "570.txt\n",
      "571.txt\n",
      "572.txt\n",
      "573.txt\n",
      "574.txt\n"
     ]
    },
    {
     "name": "stderr",
     "output_type": "stream",
     "text": [
      "  5%|▌         | 578/10742 [00:21<06:16, 26.96it/s]"
     ]
    },
    {
     "name": "stdout",
     "output_type": "stream",
     "text": [
      "575.txt\n",
      "576.txt\n",
      "577.txt\n",
      "578.txt\n",
      "579.txt\n",
      "580.txt\n"
     ]
    },
    {
     "name": "stderr",
     "output_type": "stream",
     "text": [
      "  5%|▌         | 584/10742 [00:21<06:20, 26.70it/s]"
     ]
    },
    {
     "name": "stdout",
     "output_type": "stream",
     "text": [
      "581.txt\n",
      "582.txt\n",
      "583.txt\n",
      "584.txt\n",
      "585.txt\n",
      "586.txt\n"
     ]
    },
    {
     "name": "stderr",
     "output_type": "stream",
     "text": [
      "  6%|▌         | 591/10742 [00:21<06:22, 26.54it/s]"
     ]
    },
    {
     "name": "stdout",
     "output_type": "stream",
     "text": [
      "587.txt\n",
      "588.txt\n",
      "589.txt\n",
      "590.txt\n",
      "591.txt\n",
      "592.txt\n"
     ]
    },
    {
     "name": "stderr",
     "output_type": "stream",
     "text": [
      "  6%|▌         | 599/10742 [00:21<05:54, 28.65it/s]"
     ]
    },
    {
     "name": "stdout",
     "output_type": "stream",
     "text": [
      "593.txt\n",
      "594.txt\n",
      "595.txt\n",
      "596.txt\n",
      "597.txt\n",
      "598.txt\n"
     ]
    },
    {
     "name": "stderr",
     "output_type": "stream",
     "text": [
      "\r",
      "  6%|▌         | 602/10742 [00:22<06:13, 27.16it/s]"
     ]
    },
    {
     "name": "stdout",
     "output_type": "stream",
     "text": [
      "599.txt\n",
      "600.txt\n",
      "601.txt\n",
      "602.txt\n",
      "603.txt\n",
      "604.txt\n"
     ]
    },
    {
     "name": "stderr",
     "output_type": "stream",
     "text": [
      "  6%|▌         | 609/10742 [00:22<06:23, 26.40it/s]"
     ]
    },
    {
     "name": "stdout",
     "output_type": "stream",
     "text": [
      "605.txt\n",
      "606.txt\n",
      "607.txt\n",
      "608.txt\n",
      "609.txt\n",
      "610.txt\n"
     ]
    },
    {
     "name": "stderr",
     "output_type": "stream",
     "text": [
      "  6%|▌         | 615/10742 [00:22<06:28, 26.06it/s]"
     ]
    },
    {
     "name": "stdout",
     "output_type": "stream",
     "text": [
      "611.txt\n",
      "612.txt\n",
      "613.txt\n",
      "614.txt\n",
      "615.txt\n"
     ]
    },
    {
     "name": "stderr",
     "output_type": "stream",
     "text": [
      "  6%|▌         | 621/10742 [00:22<06:55, 24.34it/s]"
     ]
    },
    {
     "name": "stdout",
     "output_type": "stream",
     "text": [
      "616.txt\n",
      "617.txt\n",
      "618.txt\n",
      "619.txt\n",
      "620.txt\n"
     ]
    },
    {
     "name": "stderr",
     "output_type": "stream",
     "text": [
      "\r",
      "  6%|▌         | 624/10742 [00:22<07:22, 22.88it/s]"
     ]
    },
    {
     "name": "stdout",
     "output_type": "stream",
     "text": [
      "621.txt\n",
      "622.txt\n",
      "623.txt\n",
      "624.txt\n"
     ]
    },
    {
     "name": "stderr",
     "output_type": "stream",
     "text": [
      "  6%|▌         | 630/10742 [00:23<07:14, 23.25it/s]"
     ]
    },
    {
     "name": "stdout",
     "output_type": "stream",
     "text": [
      "625.txt\n",
      "626.txt\n",
      "627.txt\n",
      "628.txt\n",
      "629.txt\n"
     ]
    },
    {
     "name": "stderr",
     "output_type": "stream",
     "text": [
      "\r",
      "  6%|▌         | 633/10742 [00:23<07:01, 24.01it/s]"
     ]
    },
    {
     "name": "stdout",
     "output_type": "stream",
     "text": [
      "630.txt\n",
      "631.txt\n",
      "632.txt\n",
      "633.txt\n",
      "634.txt\n",
      "635.txt\n"
     ]
    },
    {
     "name": "stderr",
     "output_type": "stream",
     "text": [
      "  6%|▌         | 639/10742 [00:23<06:39, 25.27it/s]"
     ]
    },
    {
     "name": "stdout",
     "output_type": "stream",
     "text": [
      "636.txt\n",
      "637.txt\n",
      "638.txt\n",
      "639.txt\n",
      "640.txt\n",
      "641.txt\n"
     ]
    },
    {
     "name": "stderr",
     "output_type": "stream",
     "text": [
      "  6%|▌         | 646/10742 [00:23<06:14, 26.97it/s]"
     ]
    },
    {
     "name": "stdout",
     "output_type": "stream",
     "text": [
      "642.txt\n",
      "643.txt\n",
      "644.txt\n",
      "645.txt\n",
      "646.txt\n",
      "647.txt\n"
     ]
    },
    {
     "name": "stderr",
     "output_type": "stream",
     "text": [
      "  6%|▌         | 652/10742 [00:24<06:25, 26.18it/s]"
     ]
    },
    {
     "name": "stdout",
     "output_type": "stream",
     "text": [
      "648.txt\n",
      "649.txt\n",
      "650.txt\n",
      "651.txt\n",
      "652.txt\n",
      "653.txt\n"
     ]
    },
    {
     "name": "stderr",
     "output_type": "stream",
     "text": [
      "  6%|▌         | 660/10742 [00:24<05:43, 29.35it/s]"
     ]
    },
    {
     "name": "stdout",
     "output_type": "stream",
     "text": [
      "824.txt\n",
      "825.txt\n",
      "826.txt\n",
      "827.txt\n",
      "828.txt\n",
      "829.txt\n",
      "830.txt\n"
     ]
    },
    {
     "name": "stderr",
     "output_type": "stream",
     "text": [
      "\r",
      "  6%|▌         | 663/10742 [00:24<05:50, 28.72it/s]"
     ]
    },
    {
     "name": "stdout",
     "output_type": "stream",
     "text": [
      "831.txt\n",
      "832.txt\n",
      "833.txt\n",
      "834.txt\n",
      "835.txt\n"
     ]
    },
    {
     "name": "stderr",
     "output_type": "stream",
     "text": [
      "  6%|▌         | 669/10742 [00:24<06:26, 26.05it/s]"
     ]
    },
    {
     "name": "stdout",
     "output_type": "stream",
     "text": [
      "851.txt\n",
      "852.txt\n",
      "853.txt\n",
      "854.txt\n",
      "855.txt\n",
      "856.txt\n"
     ]
    },
    {
     "name": "stderr",
     "output_type": "stream",
     "text": [
      "  6%|▋         | 677/10742 [00:24<05:53, 28.50it/s]"
     ]
    },
    {
     "name": "stdout",
     "output_type": "stream",
     "text": [
      "857.txt\n",
      "858.txt\n",
      "859.txt\n",
      "860.txt\n",
      "861.txt\n",
      "862.txt\n",
      "863.txt\n"
     ]
    },
    {
     "name": "stderr",
     "output_type": "stream",
     "text": [
      "  6%|▋         | 683/10742 [00:25<06:15, 26.75it/s]"
     ]
    },
    {
     "name": "stdout",
     "output_type": "stream",
     "text": [
      "864.txt\n",
      "865.txt\n",
      "866.txt\n",
      "867.txt\n",
      "868.txt\n",
      "869.txt\n"
     ]
    },
    {
     "name": "stderr",
     "output_type": "stream",
     "text": [
      "  6%|▋         | 690/10742 [00:25<05:52, 28.53it/s]"
     ]
    },
    {
     "name": "stdout",
     "output_type": "stream",
     "text": [
      "870.txt\n",
      "871.txt\n",
      "872.txt\n",
      "873.txt\n",
      "874.txt\n",
      "875.txt\n",
      "876.txt\n"
     ]
    },
    {
     "name": "stderr",
     "output_type": "stream",
     "text": [
      "  6%|▋         | 696/10742 [00:25<06:09, 27.17it/s]"
     ]
    },
    {
     "name": "stdout",
     "output_type": "stream",
     "text": [
      "877.txt\n",
      "878.txt\n",
      "879.txt\n",
      "880.txt\n",
      "881.txt\n",
      "882.txt\n"
     ]
    },
    {
     "name": "stderr",
     "output_type": "stream",
     "text": [
      "  7%|▋         | 702/10742 [00:25<07:15, 23.04it/s]"
     ]
    },
    {
     "name": "stdout",
     "output_type": "stream",
     "text": [
      "883.txt\n",
      "884.txt\n",
      "885.txt\n",
      "886.txt\n"
     ]
    },
    {
     "name": "stderr",
     "output_type": "stream",
     "text": [
      "\r",
      "  7%|▋         | 705/10742 [00:26<07:02, 23.77it/s]"
     ]
    },
    {
     "name": "stdout",
     "output_type": "stream",
     "text": [
      "887.txt\n",
      "888.txt\n",
      "889.txt\n",
      "890.txt\n",
      "891.txt\n"
     ]
    },
    {
     "name": "stderr",
     "output_type": "stream",
     "text": [
      "  7%|▋         | 711/10742 [00:26<06:50, 24.43it/s]"
     ]
    },
    {
     "name": "stdout",
     "output_type": "stream",
     "text": [
      "892.txt\n",
      "893.txt\n",
      "894.txt\n",
      "895.txt\n",
      "896.txt\n",
      "897.txt\n",
      "898.txt\n"
     ]
    },
    {
     "name": "stderr",
     "output_type": "stream",
     "text": [
      "  7%|▋         | 718/10742 [00:26<06:07, 27.30it/s]"
     ]
    },
    {
     "name": "stdout",
     "output_type": "stream",
     "text": [
      "899.txt\n",
      "900.txt\n",
      "901.txt\n",
      "902.txt\n",
      "903.txt\n",
      "904.txt\n",
      "905.txt\n"
     ]
    },
    {
     "name": "stderr",
     "output_type": "stream",
     "text": [
      "  7%|▋         | 725/10742 [00:26<05:49, 28.67it/s]"
     ]
    },
    {
     "name": "stdout",
     "output_type": "stream",
     "text": [
      "906.txt\n",
      "907.txt\n",
      "908.txt\n",
      "909.txt\n",
      "910.txt\n",
      "911.txt\n",
      "912.txt\n"
     ]
    },
    {
     "name": "stderr",
     "output_type": "stream",
     "text": [
      "  7%|▋         | 733/10742 [00:26<05:27, 30.52it/s]"
     ]
    },
    {
     "name": "stdout",
     "output_type": "stream",
     "text": [
      "913.txt\n",
      "914.txt\n",
      "915.txt\n",
      "916.txt\n",
      "917.txt\n",
      "918.txt\n",
      "919.txt\n"
     ]
    },
    {
     "name": "stderr",
     "output_type": "stream",
     "text": [
      "  7%|▋         | 741/10742 [00:27<05:20, 31.17it/s]"
     ]
    },
    {
     "name": "stdout",
     "output_type": "stream",
     "text": [
      "920.txt\n",
      "921.txt\n",
      "922.txt\n",
      "923.txt\n",
      "924.txt\n",
      "925.txt\n"
     ]
    },
    {
     "name": "stderr",
     "output_type": "stream",
     "text": [
      "\r",
      "  7%|▋         | 745/10742 [00:27<05:20, 31.22it/s]"
     ]
    },
    {
     "name": "stdout",
     "output_type": "stream",
     "text": [
      "926.txt\n",
      "927.txt\n",
      "928.txt\n",
      "929.txt\n",
      "930.txt\n",
      "931.txt\n",
      "932.txt\n"
     ]
    },
    {
     "name": "stderr",
     "output_type": "stream",
     "text": [
      "  7%|▋         | 753/10742 [00:27<05:23, 30.84it/s]"
     ]
    },
    {
     "name": "stdout",
     "output_type": "stream",
     "text": [
      "933.txt\n",
      "934.txt\n",
      "935.txt\n",
      "936.txt\n",
      "937.txt\n",
      "938.txt\n",
      "939.txt\n"
     ]
    },
    {
     "name": "stderr",
     "output_type": "stream",
     "text": [
      "  7%|▋         | 761/10742 [00:27<05:18, 31.36it/s]"
     ]
    },
    {
     "name": "stdout",
     "output_type": "stream",
     "text": [
      "940.txt\n",
      "941.txt\n",
      "942.txt\n",
      "943.txt\n",
      "944.txt\n",
      "945.txt\n"
     ]
    },
    {
     "name": "stderr",
     "output_type": "stream",
     "text": [
      "\r",
      "  7%|▋         | 765/10742 [00:27<05:19, 31.28it/s]"
     ]
    },
    {
     "name": "stdout",
     "output_type": "stream",
     "text": [
      "946.txt\n",
      "947.txt\n",
      "948.txt\n",
      "949.txt\n",
      "950.txt\n",
      "951.txt\n",
      "952.txt\n"
     ]
    },
    {
     "name": "stderr",
     "output_type": "stream",
     "text": [
      "  7%|▋         | 773/10742 [00:28<05:12, 31.85it/s]"
     ]
    },
    {
     "name": "stdout",
     "output_type": "stream",
     "text": [
      "953.txt\n",
      "954.txt\n",
      "955.txt\n",
      "956.txt\n",
      "957.txt\n",
      "958.txt\n",
      "959.txt\n"
     ]
    },
    {
     "name": "stderr",
     "output_type": "stream",
     "text": [
      "\r",
      "  7%|▋         | 777/10742 [00:28<05:28, 30.36it/s]"
     ]
    },
    {
     "name": "stdout",
     "output_type": "stream",
     "text": [
      "960.txt\n",
      "961.txt\n",
      "962.txt\n",
      "963.txt\n",
      "964.txt\n",
      "965.txt\n"
     ]
    },
    {
     "name": "stderr",
     "output_type": "stream",
     "text": [
      "  7%|▋         | 784/10742 [00:28<05:58, 27.81it/s]"
     ]
    },
    {
     "name": "stdout",
     "output_type": "stream",
     "text": [
      "966.txt\n",
      "967.txt\n",
      "968.txt\n",
      "969.txt\n",
      "970.txt\n"
     ]
    },
    {
     "name": "stderr",
     "output_type": "stream",
     "text": [
      "  7%|▋         | 790/10742 [00:28<06:27, 25.66it/s]"
     ]
    },
    {
     "name": "stdout",
     "output_type": "stream",
     "text": [
      "971.txt\n",
      "972.txt\n",
      "973.txt\n",
      "974.txt\n",
      "975.txt\n",
      "976.txt\n"
     ]
    },
    {
     "name": "stderr",
     "output_type": "stream",
     "text": [
      "  7%|▋         | 796/10742 [00:29<06:26, 25.73it/s]"
     ]
    },
    {
     "name": "stdout",
     "output_type": "stream",
     "text": [
      "977.txt\n",
      "978.txt\n",
      "979.txt\n",
      "980.txt\n",
      "981.txt\n",
      "982.txt\n"
     ]
    },
    {
     "name": "stderr",
     "output_type": "stream",
     "text": [
      "  7%|▋         | 804/10742 [00:29<05:46, 28.66it/s]"
     ]
    },
    {
     "name": "stdout",
     "output_type": "stream",
     "text": [
      "983.txt\n",
      "984.txt\n",
      "985.txt\n",
      "986.txt\n",
      "987.txt\n",
      "988.txt\n"
     ]
    },
    {
     "name": "stderr",
     "output_type": "stream",
     "text": [
      "\r",
      "  8%|▊         | 808/10742 [00:29<05:37, 29.40it/s]"
     ]
    },
    {
     "name": "stdout",
     "output_type": "stream",
     "text": [
      "989.txt\n",
      "990.txt\n",
      "991.txt\n",
      "992.txt\n",
      "993.txt\n",
      "994.txt\n",
      "995.txt\n"
     ]
    },
    {
     "name": "stderr",
     "output_type": "stream",
     "text": [
      "  8%|▊         | 816/10742 [00:29<05:38, 29.28it/s]"
     ]
    },
    {
     "name": "stdout",
     "output_type": "stream",
     "text": [
      "996.txt\n",
      "997.txt\n",
      "998.txt\n",
      "999.txt\n",
      "1000.txt\n",
      "1001.txt\n",
      "1002.txt\n"
     ]
    },
    {
     "name": "stderr",
     "output_type": "stream",
     "text": [
      "  8%|▊         | 824/10742 [00:30<05:23, 30.66it/s]"
     ]
    },
    {
     "name": "stdout",
     "output_type": "stream",
     "text": [
      "1003.txt\n",
      "1004.txt\n",
      "1005.txt\n",
      "1006.txt\n",
      "1007.txt\n",
      "1008.txt\n"
     ]
    },
    {
     "name": "stderr",
     "output_type": "stream",
     "text": [
      "\r",
      "  8%|▊         | 828/10742 [00:30<05:23, 30.68it/s]"
     ]
    },
    {
     "name": "stdout",
     "output_type": "stream",
     "text": [
      "1009.txt\n",
      "1010.txt\n",
      "1011.txt\n",
      "1012.txt\n",
      "1013.txt\n",
      "1014.txt\n",
      "1015.txt\n"
     ]
    },
    {
     "name": "stderr",
     "output_type": "stream",
     "text": [
      "  8%|▊         | 836/10742 [00:30<05:23, 30.66it/s]"
     ]
    },
    {
     "name": "stdout",
     "output_type": "stream",
     "text": [
      "1016.txt\n",
      "1017.txt\n",
      "1018.txt\n",
      "1019.txt\n",
      "1020.txt\n",
      "1021.txt\n",
      "1022.txt\n"
     ]
    },
    {
     "name": "stderr",
     "output_type": "stream",
     "text": [
      "  8%|▊         | 844/10742 [00:30<05:18, 31.07it/s]"
     ]
    },
    {
     "name": "stdout",
     "output_type": "stream",
     "text": [
      "1023.txt\n",
      "1024.txt\n",
      "1025.txt\n",
      "1026.txt\n",
      "1027.txt\n",
      "1028.txt\n",
      "1029.txt\n"
     ]
    },
    {
     "name": "stderr",
     "output_type": "stream",
     "text": [
      "  8%|▊         | 852/10742 [00:30<05:14, 31.46it/s]"
     ]
    },
    {
     "name": "stdout",
     "output_type": "stream",
     "text": [
      "1030.txt\n",
      "1031.txt\n",
      "1032.txt\n",
      "1033.txt\n",
      "1034.txt\n",
      "1035.txt\n",
      "1036.txt\n"
     ]
    },
    {
     "name": "stderr",
     "output_type": "stream",
     "text": [
      "\r",
      "  8%|▊         | 856/10742 [00:31<05:15, 31.34it/s]"
     ]
    },
    {
     "name": "stdout",
     "output_type": "stream",
     "text": [
      "1037.txt\n",
      "1038.txt\n",
      "1039.txt\n",
      "1040.txt\n",
      "1041.txt\n",
      "1042.txt\n"
     ]
    },
    {
     "name": "stderr",
     "output_type": "stream",
     "text": [
      "  8%|▊         | 863/10742 [00:31<05:40, 29.03it/s]"
     ]
    },
    {
     "name": "stdout",
     "output_type": "stream",
     "text": [
      "1043.txt\n",
      "1044.txt\n",
      "1045.txt\n",
      "1046.txt\n",
      "1047.txt\n"
     ]
    },
    {
     "name": "stderr",
     "output_type": "stream",
     "text": [
      "\r",
      "  8%|▊         | 866/10742 [00:31<05:53, 27.96it/s]"
     ]
    },
    {
     "name": "stdout",
     "output_type": "stream",
     "text": [
      "1136.txt\n",
      "1137.txt\n",
      "1138.txt\n",
      "1139.txt\n",
      "1140.txt\n",
      "1141.txt\n"
     ]
    },
    {
     "name": "stderr",
     "output_type": "stream",
     "text": [
      "  8%|▊         | 872/10742 [00:31<06:14, 26.32it/s]"
     ]
    },
    {
     "name": "stdout",
     "output_type": "stream",
     "text": [
      "1142.txt\n",
      "1143.txt\n",
      "1144.txt\n",
      "1145.txt\n",
      "1146.txt\n"
     ]
    },
    {
     "name": "stderr",
     "output_type": "stream",
     "text": [
      "  8%|▊         | 878/10742 [00:31<06:21, 25.85it/s]"
     ]
    },
    {
     "name": "stdout",
     "output_type": "stream",
     "text": [
      "1147.txt\n",
      "1148.txt\n",
      "1149.txt\n",
      "1150.txt\n",
      "1151.txt\n",
      "1152.txt\n"
     ]
    },
    {
     "name": "stderr",
     "output_type": "stream",
     "text": [
      "  8%|▊         | 885/10742 [00:32<05:47, 28.34it/s]"
     ]
    },
    {
     "name": "stdout",
     "output_type": "stream",
     "text": [
      "1153.txt\n",
      "1154.txt\n",
      "1155.txt\n",
      "1156.txt\n",
      "1157.txt\n",
      "1158.txt\n",
      "1159.txt\n"
     ]
    },
    {
     "name": "stderr",
     "output_type": "stream",
     "text": [
      "  8%|▊         | 892/10742 [00:32<05:40, 28.93it/s]"
     ]
    },
    {
     "name": "stdout",
     "output_type": "stream",
     "text": [
      "1160.txt\n",
      "1161.txt\n",
      "1162.txt\n",
      "1163.txt\n",
      "1164.txt\n",
      "1165.txt\n"
     ]
    },
    {
     "name": "stderr",
     "output_type": "stream",
     "text": [
      "  8%|▊         | 898/10742 [00:32<05:55, 27.68it/s]"
     ]
    },
    {
     "name": "stdout",
     "output_type": "stream",
     "text": [
      "1166.txt\n",
      "1167.txt\n",
      "1168.txt\n",
      "1169.txt\n",
      "1170.txt\n",
      "1171.txt\n"
     ]
    },
    {
     "name": "stderr",
     "output_type": "stream",
     "text": [
      "  8%|▊         | 904/10742 [00:32<05:56, 27.62it/s]"
     ]
    },
    {
     "name": "stdout",
     "output_type": "stream",
     "text": [
      "1172.txt\n",
      "1173.txt\n",
      "1174.txt\n",
      "1175.txt\n",
      "1176.txt\n",
      "1177.txt\n"
     ]
    },
    {
     "name": "stderr",
     "output_type": "stream",
     "text": [
      "  8%|▊         | 910/10742 [00:33<06:13, 26.29it/s]"
     ]
    },
    {
     "name": "stdout",
     "output_type": "stream",
     "text": [
      "1178.txt\n",
      "1179.txt\n",
      "1180.txt\n",
      "1181.txt\n",
      "1182.txt\n"
     ]
    },
    {
     "name": "stderr",
     "output_type": "stream",
     "text": [
      "  9%|▊         | 916/10742 [00:33<05:56, 27.52it/s]"
     ]
    },
    {
     "name": "stdout",
     "output_type": "stream",
     "text": [
      "1183.txt\n",
      "1184.txt\n",
      "1185.txt\n",
      "1186.txt\n",
      "1187.txt\n",
      "1188.txt\n"
     ]
    },
    {
     "name": "stderr",
     "output_type": "stream",
     "text": [
      "\r",
      "  9%|▊         | 919/10742 [00:33<06:03, 27.05it/s]"
     ]
    },
    {
     "name": "stdout",
     "output_type": "stream",
     "text": [
      "1189.txt\n",
      "1190.txt\n",
      "1191.txt\n",
      "1192.txt\n",
      "1193.txt\n",
      "1194.txt\n"
     ]
    },
    {
     "name": "stderr",
     "output_type": "stream",
     "text": [
      "  9%|▊         | 925/10742 [00:33<05:57, 27.45it/s]"
     ]
    },
    {
     "name": "stdout",
     "output_type": "stream",
     "text": [
      "1195.txt\n",
      "1196.txt\n",
      "1197.txt\n",
      "1198.txt\n",
      "1199.txt\n",
      "1200.txt\n"
     ]
    },
    {
     "name": "stderr",
     "output_type": "stream",
     "text": [
      "  9%|▊         | 931/10742 [00:33<06:00, 27.22it/s]"
     ]
    },
    {
     "name": "stdout",
     "output_type": "stream",
     "text": [
      "1201.txt\n",
      "1202.txt\n",
      "1203.txt\n",
      "1204.txt\n",
      "1205.txt\n"
     ]
    },
    {
     "name": "stderr",
     "output_type": "stream",
     "text": [
      "  9%|▊         | 937/10742 [00:34<05:54, 27.65it/s]"
     ]
    },
    {
     "name": "stdout",
     "output_type": "stream",
     "text": [
      "1206.txt\n",
      "1207.txt\n",
      "1208.txt\n",
      "1209.txt\n",
      "1210.txt\n",
      "1211.txt\n"
     ]
    },
    {
     "name": "stderr",
     "output_type": "stream",
     "text": [
      "  9%|▉         | 943/10742 [00:34<06:02, 27.01it/s]"
     ]
    },
    {
     "name": "stdout",
     "output_type": "stream",
     "text": [
      "1212.txt\n",
      "1213.txt\n",
      "1214.txt\n",
      "1215.txt\n",
      "1216.txt\n",
      "1217.txt\n"
     ]
    },
    {
     "name": "stderr",
     "output_type": "stream",
     "text": [
      "  9%|▉         | 949/10742 [00:34<06:21, 25.66it/s]"
     ]
    },
    {
     "name": "stdout",
     "output_type": "stream",
     "text": [
      "1218.txt\n",
      "1219.txt\n",
      "1220.txt\n",
      "1221.txt\n",
      "1222.txt\n"
     ]
    },
    {
     "name": "stderr",
     "output_type": "stream",
     "text": [
      "  9%|▉         | 955/10742 [00:34<06:37, 24.62it/s]"
     ]
    },
    {
     "name": "stdout",
     "output_type": "stream",
     "text": [
      "1223.txt\n",
      "1224.txt\n",
      "1225.txt\n",
      "1226.txt\n",
      "1227.txt\n"
     ]
    },
    {
     "name": "stderr",
     "output_type": "stream",
     "text": [
      "\r",
      "  9%|▉         | 958/10742 [00:34<06:25, 25.38it/s]"
     ]
    },
    {
     "name": "stdout",
     "output_type": "stream",
     "text": [
      "1228.txt\n",
      "1229.txt\n",
      "1230.txt\n",
      "1231.txt\n",
      "1232.txt\n",
      "1233.txt\n"
     ]
    },
    {
     "name": "stderr",
     "output_type": "stream",
     "text": [
      "  9%|▉         | 966/10742 [00:35<05:40, 28.72it/s]"
     ]
    },
    {
     "name": "stdout",
     "output_type": "stream",
     "text": [
      "1234.txt\n",
      "1235.txt\n",
      "1236.txt\n",
      "1237.txt\n",
      "1238.txt\n",
      "1239.txt\n",
      "1240.txt\n"
     ]
    },
    {
     "name": "stderr",
     "output_type": "stream",
     "text": [
      "  9%|▉         | 974/10742 [00:35<05:21, 30.40it/s]"
     ]
    },
    {
     "name": "stdout",
     "output_type": "stream",
     "text": [
      "1241.txt\n",
      "1242.txt\n",
      "1243.txt\n",
      "1244.txt\n",
      "1245.txt\n",
      "1246.txt\n",
      "1247.txt\n"
     ]
    },
    {
     "name": "stderr",
     "output_type": "stream",
     "text": [
      "\r",
      "  9%|▉         | 978/10742 [00:35<05:20, 30.48it/s]"
     ]
    },
    {
     "name": "stdout",
     "output_type": "stream",
     "text": [
      "1248.txt\n",
      "1249.txt\n",
      "1250.txt\n",
      "1251.txt\n",
      "1252.txt\n",
      "1253.txt\n",
      "1254.txt\n"
     ]
    },
    {
     "name": "stderr",
     "output_type": "stream",
     "text": [
      "  9%|▉         | 986/10742 [00:35<05:21, 30.38it/s]"
     ]
    },
    {
     "name": "stdout",
     "output_type": "stream",
     "text": [
      "1255.txt\n",
      "1256.txt\n",
      "1257.txt\n",
      "1258.txt\n",
      "1259.txt\n",
      "1260.txt\n"
     ]
    },
    {
     "name": "stderr",
     "output_type": "stream",
     "text": [
      "  9%|▉         | 994/10742 [00:36<05:20, 30.37it/s]"
     ]
    },
    {
     "name": "stdout",
     "output_type": "stream",
     "text": [
      "1261.txt\n",
      "1262.txt\n",
      "1263.txt\n",
      "1264.txt\n",
      "1265.txt\n",
      "1266.txt\n"
     ]
    },
    {
     "name": "stderr",
     "output_type": "stream",
     "text": [
      "\r",
      "  9%|▉         | 998/10742 [00:36<05:21, 30.30it/s]"
     ]
    },
    {
     "name": "stdout",
     "output_type": "stream",
     "text": [
      "1267.txt\n",
      "1268.txt\n",
      "1269.txt\n",
      "1270.txt\n",
      "1271.txt\n",
      "1272.txt\n"
     ]
    },
    {
     "name": "stderr",
     "output_type": "stream",
     "text": [
      "  9%|▉         | 1006/10742 [00:36<05:19, 30.44it/s]"
     ]
    },
    {
     "name": "stdout",
     "output_type": "stream",
     "text": [
      "1273.txt\n",
      "1274.txt\n",
      "1275.txt\n",
      "1276.txt\n",
      "1277.txt\n",
      "1278.txt\n"
     ]
    },
    {
     "name": "stderr",
     "output_type": "stream",
     "text": [
      "\r",
      "  9%|▉         | 1010/10742 [00:36<05:22, 30.18it/s]"
     ]
    },
    {
     "name": "stdout",
     "output_type": "stream",
     "text": [
      "1279.txt\n",
      "1280.txt\n",
      "1281.txt\n",
      "1282.txt\n",
      "1283.txt\n",
      "1284.txt\n",
      "1285.txt\n"
     ]
    },
    {
     "name": "stderr",
     "output_type": "stream",
     "text": [
      "  9%|▉         | 1018/10742 [00:36<05:19, 30.43it/s]"
     ]
    },
    {
     "name": "stdout",
     "output_type": "stream",
     "text": [
      "1286.txt\n",
      "1287.txt\n",
      "1288.txt\n",
      "1289.txt\n",
      "1290.txt\n",
      "1291.txt\n"
     ]
    },
    {
     "name": "stderr",
     "output_type": "stream",
     "text": [
      "\r",
      " 10%|▉         | 1022/10742 [00:37<05:53, 27.53it/s]"
     ]
    },
    {
     "name": "stdout",
     "output_type": "stream",
     "text": [
      "1292.txt\n",
      "1293.txt\n",
      "1294.txt\n",
      "1295.txt\n",
      "1296.txt\n"
     ]
    },
    {
     "name": "stderr",
     "output_type": "stream",
     "text": [
      " 10%|▉         | 1028/10742 [00:37<06:17, 25.76it/s]"
     ]
    },
    {
     "name": "stdout",
     "output_type": "stream",
     "text": [
      "1297.txt\n",
      "1298.txt\n",
      "1299.txt\n",
      "1300.txt\n",
      "1301.txt\n",
      "1302.txt\n"
     ]
    },
    {
     "name": "stderr",
     "output_type": "stream",
     "text": [
      " 10%|▉         | 1034/10742 [00:37<06:20, 25.54it/s]"
     ]
    },
    {
     "name": "stdout",
     "output_type": "stream",
     "text": [
      "1303.txt\n",
      "1304.txt\n",
      "1305.txt\n",
      "1306.txt\n",
      "1307.txt\n",
      "1308.txt\n"
     ]
    },
    {
     "name": "stderr",
     "output_type": "stream",
     "text": [
      " 10%|▉         | 1040/10742 [00:37<06:51, 23.56it/s]"
     ]
    },
    {
     "name": "stdout",
     "output_type": "stream",
     "text": [
      "1309.txt\n",
      "1310.txt\n",
      "1311.txt\n",
      "1312.txt\n",
      "1313.txt\n"
     ]
    },
    {
     "name": "stderr",
     "output_type": "stream",
     "text": [
      " 10%|▉         | 1047/10742 [00:38<05:59, 26.95it/s]"
     ]
    },
    {
     "name": "stdout",
     "output_type": "stream",
     "text": [
      "1314.txt\n",
      "1315.txt\n",
      "1316.txt\n",
      "1317.txt\n",
      "1318.txt\n",
      "1319.txt\n",
      "1320.txt\n"
     ]
    },
    {
     "name": "stderr",
     "output_type": "stream",
     "text": [
      " 10%|▉         | 1055/10742 [00:38<05:25, 29.76it/s]"
     ]
    },
    {
     "name": "stdout",
     "output_type": "stream",
     "text": [
      "1321.txt\n",
      "1322.txt\n",
      "1455.txt\n",
      "1456.txt\n",
      "1457.txt\n",
      "1458.txt\n",
      "1459.txt\n"
     ]
    },
    {
     "name": "stderr",
     "output_type": "stream",
     "text": [
      "\r",
      " 10%|▉         | 1059/10742 [00:38<05:20, 30.24it/s]"
     ]
    },
    {
     "name": "stdout",
     "output_type": "stream",
     "text": [
      "1460.txt\n",
      "1461.txt\n",
      "1462.txt\n",
      "1463.txt\n",
      "1464.txt\n",
      "1465.txt\n",
      "1466.txt\n"
     ]
    },
    {
     "name": "stderr",
     "output_type": "stream",
     "text": [
      " 10%|▉         | 1067/10742 [00:38<05:13, 30.84it/s]"
     ]
    },
    {
     "name": "stdout",
     "output_type": "stream",
     "text": [
      "1467.txt\n",
      "1468.txt\n",
      "1469.txt\n",
      "1470.txt\n",
      "1471.txt\n",
      "1472.txt\n",
      "1473.txt\n"
     ]
    },
    {
     "name": "stderr",
     "output_type": "stream",
     "text": [
      " 10%|█         | 1075/10742 [00:38<05:18, 30.38it/s]"
     ]
    },
    {
     "name": "stdout",
     "output_type": "stream",
     "text": [
      "1474.txt\n",
      "1475.txt\n",
      "1476.txt\n",
      "1477.txt\n",
      "1478.txt\n",
      "1479.txt\n"
     ]
    },
    {
     "name": "stderr",
     "output_type": "stream",
     "text": [
      "\r",
      " 10%|█         | 1079/10742 [00:39<05:13, 30.80it/s]"
     ]
    },
    {
     "name": "stdout",
     "output_type": "stream",
     "text": [
      "1480.txt\n",
      "1481.txt\n",
      "1482.txt\n",
      "1483.txt\n",
      "1484.txt\n",
      "1485.txt\n",
      "1486.txt\n"
     ]
    },
    {
     "name": "stderr",
     "output_type": "stream",
     "text": [
      " 10%|█         | 1087/10742 [00:39<05:09, 31.17it/s]"
     ]
    },
    {
     "name": "stdout",
     "output_type": "stream",
     "text": [
      "1487.txt\n",
      "1488.txt\n",
      "1489.txt\n",
      "1490.txt\n",
      "1491.txt\n",
      "1492.txt\n",
      "1493.txt\n",
      "1494.txt\n"
     ]
    },
    {
     "name": "stderr",
     "output_type": "stream",
     "text": [
      " 10%|█         | 1095/10742 [00:39<05:04, 31.67it/s]"
     ]
    },
    {
     "name": "stdout",
     "output_type": "stream",
     "text": [
      "1495.txt\n",
      "1496.txt\n",
      "1497.txt\n",
      "1498.txt\n",
      "1499.txt\n",
      "1500.txt\n",
      "1501.txt\n",
      "1502.txt\n"
     ]
    },
    {
     "name": "stderr",
     "output_type": "stream",
     "text": [
      " 10%|█         | 1103/10742 [00:39<05:04, 31.68it/s]"
     ]
    },
    {
     "name": "stdout",
     "output_type": "stream",
     "text": [
      "1503.txt\n",
      "1504.txt\n",
      "1505.txt\n",
      "1506.txt\n",
      "1507.txt\n",
      "1508.txt\n",
      "1509.txt\n"
     ]
    },
    {
     "name": "stderr",
     "output_type": "stream",
     "text": [
      " 10%|█         | 1110/10742 [00:40<05:44, 27.98it/s]"
     ]
    },
    {
     "name": "stdout",
     "output_type": "stream",
     "text": [
      "1510.txt\n",
      "1511.txt\n",
      "1512.txt\n",
      "1513.txt\n",
      "1514.txt\n"
     ]
    },
    {
     "name": "stderr",
     "output_type": "stream",
     "text": [
      "\r",
      " 10%|█         | 1113/10742 [00:40<05:51, 27.36it/s]"
     ]
    },
    {
     "name": "stdout",
     "output_type": "stream",
     "text": [
      "1515.txt\n",
      "1516.txt\n",
      "1517.txt\n",
      "1518.txt\n",
      "1519.txt\n"
     ]
    },
    {
     "name": "stderr",
     "output_type": "stream",
     "text": [
      " 10%|█         | 1119/10742 [00:40<06:06, 26.28it/s]"
     ]
    },
    {
     "name": "stdout",
     "output_type": "stream",
     "text": [
      "1520.txt\n",
      "1521.txt\n",
      "1522.txt\n",
      "1523.txt\n",
      "1524.txt\n",
      "1525.txt\n"
     ]
    },
    {
     "name": "stderr",
     "output_type": "stream",
     "text": [
      " 10%|█         | 1125/10742 [00:40<06:22, 25.11it/s]"
     ]
    },
    {
     "name": "stdout",
     "output_type": "stream",
     "text": [
      "1526.txt\n",
      "1527.txt\n",
      "1528.txt\n",
      "1529.txt\n",
      "1530.txt\n"
     ]
    },
    {
     "name": "stderr",
     "output_type": "stream",
     "text": [
      " 11%|█         | 1132/10742 [00:40<05:46, 27.72it/s]"
     ]
    },
    {
     "name": "stdout",
     "output_type": "stream",
     "text": [
      "1531.txt\n",
      "1532.txt\n",
      "1533.txt\n",
      "1534.txt\n",
      "1535.txt\n",
      "1536.txt\n"
     ]
    },
    {
     "name": "stderr",
     "output_type": "stream",
     "text": [
      "\r",
      " 11%|█         | 1135/10742 [00:41<05:50, 27.42it/s]"
     ]
    },
    {
     "name": "stdout",
     "output_type": "stream",
     "text": [
      "1537.txt\n",
      "1538.txt\n",
      "1539.txt\n",
      "1540.txt\n",
      "1541.txt\n",
      "1542.txt\n"
     ]
    },
    {
     "name": "stderr",
     "output_type": "stream",
     "text": [
      " 11%|█         | 1142/10742 [00:41<05:34, 28.70it/s]"
     ]
    },
    {
     "name": "stdout",
     "output_type": "stream",
     "text": [
      "1543.txt\n",
      "1544.txt\n",
      "1545.txt\n",
      "1546.txt\n",
      "1547.txt\n",
      "1548.txt\n",
      "1549.txt\n"
     ]
    },
    {
     "name": "stderr",
     "output_type": "stream",
     "text": [
      " 11%|█         | 1150/10742 [00:41<05:21, 29.83it/s]"
     ]
    },
    {
     "name": "stdout",
     "output_type": "stream",
     "text": [
      "1550.txt\n",
      "1551.txt\n",
      "1552.txt\n",
      "1553.txt\n",
      "1554.txt\n",
      "1555.txt\n",
      "1556.txt\n"
     ]
    },
    {
     "name": "stderr",
     "output_type": "stream",
     "text": [
      " 11%|█         | 1157/10742 [00:41<05:14, 30.45it/s]"
     ]
    },
    {
     "name": "stdout",
     "output_type": "stream",
     "text": [
      "1557.txt\n",
      "1558.txt\n",
      "1559.txt\n",
      "1560.txt\n",
      "1561.txt\n",
      "1562.txt\n",
      "1563.txt\n"
     ]
    },
    {
     "name": "stderr",
     "output_type": "stream",
     "text": [
      " 11%|█         | 1165/10742 [00:42<05:08, 31.03it/s]"
     ]
    },
    {
     "name": "stdout",
     "output_type": "stream",
     "text": [
      "1564.txt\n",
      "1565.txt\n",
      "1566.txt\n",
      "1567.txt\n",
      "1568.txt\n",
      "1569.txt\n"
     ]
    },
    {
     "name": "stderr",
     "output_type": "stream",
     "text": [
      "\r",
      " 11%|█         | 1169/10742 [00:42<05:06, 31.20it/s]"
     ]
    },
    {
     "name": "stdout",
     "output_type": "stream",
     "text": [
      "1570.txt\n",
      "1571.txt\n",
      "1572.txt\n",
      "1573.txt\n",
      "1574.txt\n",
      "1575.txt\n",
      "1576.txt\n"
     ]
    },
    {
     "name": "stderr",
     "output_type": "stream",
     "text": [
      " 11%|█         | 1177/10742 [00:42<05:08, 31.03it/s]"
     ]
    },
    {
     "name": "stdout",
     "output_type": "stream",
     "text": [
      "1577.txt\n",
      "1578.txt\n",
      "1579.txt\n",
      "1580.txt\n",
      "1581.txt\n",
      "1582.txt\n",
      "1583.txt\n",
      "1584.txt\n"
     ]
    },
    {
     "name": "stderr",
     "output_type": "stream",
     "text": [
      " 11%|█         | 1185/10742 [00:42<05:07, 31.06it/s]"
     ]
    },
    {
     "name": "stdout",
     "output_type": "stream",
     "text": [
      "1585.txt\n",
      "1586.txt\n",
      "1587.txt\n",
      "1588.txt\n",
      "1589.txt\n",
      "1590.txt\n",
      "1591.txt\n"
     ]
    },
    {
     "name": "stderr",
     "output_type": "stream",
     "text": [
      " 11%|█         | 1192/10742 [00:42<05:36, 28.37it/s]"
     ]
    },
    {
     "name": "stdout",
     "output_type": "stream",
     "text": [
      "1592.txt\n",
      "1593.txt\n",
      "1594.txt\n",
      "1595.txt\n",
      "1596.txt\n"
     ]
    },
    {
     "name": "stderr",
     "output_type": "stream",
     "text": [
      "\r",
      " 11%|█         | 1195/10742 [00:43<05:52, 27.12it/s]"
     ]
    },
    {
     "name": "stdout",
     "output_type": "stream",
     "text": [
      "1597.txt\n",
      "1598.txt\n",
      "1599.txt\n",
      "1600.txt\n",
      "1601.txt\n"
     ]
    },
    {
     "name": "stderr",
     "output_type": "stream",
     "text": [
      " 11%|█         | 1201/10742 [00:43<06:05, 26.12it/s]"
     ]
    },
    {
     "name": "stdout",
     "output_type": "stream",
     "text": [
      "1602.txt\n",
      "1603.txt\n",
      "1604.txt\n",
      "1605.txt\n",
      "1606.txt\n",
      "1607.txt\n"
     ]
    },
    {
     "name": "stderr",
     "output_type": "stream",
     "text": [
      " 11%|█         | 1207/10742 [00:43<06:11, 25.66it/s]"
     ]
    },
    {
     "name": "stdout",
     "output_type": "stream",
     "text": [
      "1608.txt\n",
      "1609.txt\n",
      "1610.txt\n",
      "1611.txt\n",
      "1612.txt\n"
     ]
    },
    {
     "name": "stderr",
     "output_type": "stream",
     "text": [
      " 11%|█▏        | 1213/10742 [00:43<06:00, 26.43it/s]"
     ]
    },
    {
     "name": "stdout",
     "output_type": "stream",
     "text": [
      "1613.txt\n",
      "1614.txt\n",
      "1615.txt\n",
      "1616.txt\n",
      "1617.txt\n",
      "1618.txt\n"
     ]
    },
    {
     "name": "stderr",
     "output_type": "stream",
     "text": [
      " 11%|█▏        | 1219/10742 [00:43<05:43, 27.74it/s]"
     ]
    },
    {
     "name": "stdout",
     "output_type": "stream",
     "text": [
      "1619.txt\n",
      "1620.txt\n",
      "1621.txt\n",
      "1622.txt\n",
      "1623.txt\n",
      "1624.txt\n",
      "1625.txt\n"
     ]
    },
    {
     "name": "stderr",
     "output_type": "stream",
     "text": [
      " 11%|█▏        | 1226/10742 [00:44<05:21, 29.59it/s]"
     ]
    },
    {
     "name": "stdout",
     "output_type": "stream",
     "text": [
      "1626.txt\n",
      "1627.txt\n",
      "1628.txt\n",
      "1629.txt\n",
      "1630.txt\n",
      "1631.txt\n",
      "1632.txt\n",
      "1633.txt\n"
     ]
    },
    {
     "name": "stderr",
     "output_type": "stream",
     "text": [
      " 11%|█▏        | 1234/10742 [00:44<05:08, 30.81it/s]"
     ]
    },
    {
     "name": "stdout",
     "output_type": "stream",
     "text": [
      "1634.txt\n",
      "1635.txt\n",
      "1636.txt\n",
      "1637.txt\n",
      "1638.txt\n",
      "1639.txt\n",
      "1640.txt\n",
      "1641.txt\n"
     ]
    },
    {
     "name": "stderr",
     "output_type": "stream",
     "text": [
      " 12%|█▏        | 1242/10742 [00:44<05:07, 30.92it/s]"
     ]
    },
    {
     "name": "stdout",
     "output_type": "stream",
     "text": [
      "1642.txt\n",
      "1643.txt\n",
      "1644.txt\n",
      "1645.txt\n",
      "1646.txt\n",
      "1647.txt\n",
      "1648.txt\n"
     ]
    },
    {
     "name": "stderr",
     "output_type": "stream",
     "text": [
      " 12%|█▏        | 1250/10742 [00:44<05:03, 31.24it/s]"
     ]
    },
    {
     "name": "stdout",
     "output_type": "stream",
     "text": [
      "1649.txt\n",
      "1650.txt\n",
      "1651.txt\n",
      "1652.txt\n",
      "1653.txt\n",
      "1654.txt\n",
      "1655.txt\n"
     ]
    },
    {
     "name": "stderr",
     "output_type": "stream",
     "text": [
      " 12%|█▏        | 1258/10742 [00:45<05:00, 31.56it/s]"
     ]
    },
    {
     "name": "stdout",
     "output_type": "stream",
     "text": [
      "1656.txt\n",
      "1657.txt\n",
      "1658.txt\n",
      "1659.txt\n",
      "1660.txt\n",
      "1661.txt\n",
      "1662.txt\n"
     ]
    },
    {
     "name": "stderr",
     "output_type": "stream",
     "text": [
      "\r",
      " 12%|█▏        | 1262/10742 [00:45<05:06, 30.94it/s]"
     ]
    },
    {
     "name": "stdout",
     "output_type": "stream",
     "text": [
      "1663.txt\n",
      "1664.txt\n",
      "1665.txt\n",
      "1666.txt\n",
      "1667.txt\n",
      "1668.txt\n"
     ]
    },
    {
     "name": "stderr",
     "output_type": "stream",
     "text": [
      " 12%|█▏        | 1270/10742 [00:45<04:58, 31.70it/s]"
     ]
    },
    {
     "name": "stdout",
     "output_type": "stream",
     "text": [
      "1669.txt\n",
      "1670.txt\n",
      "1671.txt\n",
      "1672.txt\n",
      "1673.txt\n",
      "1674.txt\n"
     ]
    },
    {
     "name": "stderr",
     "output_type": "stream",
     "text": [
      "\r",
      " 12%|█▏        | 1274/10742 [00:45<05:19, 29.67it/s]"
     ]
    },
    {
     "name": "stdout",
     "output_type": "stream",
     "text": [
      "1675.txt\n",
      "1676.txt\n",
      "1677.txt\n",
      "1678.txt\n",
      "1679.txt\n",
      "1680.txt\n"
     ]
    },
    {
     "name": "stderr",
     "output_type": "stream",
     "text": [
      " 12%|█▏        | 1280/10742 [00:45<05:42, 27.59it/s]"
     ]
    },
    {
     "name": "stdout",
     "output_type": "stream",
     "text": [
      "1681.txt\n",
      "1682.txt\n",
      "1683.txt\n",
      "1684.txt\n",
      "1685.txt\n",
      "1686.txt\n"
     ]
    },
    {
     "name": "stderr",
     "output_type": "stream",
     "text": [
      " 12%|█▏        | 1286/10742 [00:46<05:56, 26.50it/s]"
     ]
    },
    {
     "name": "stdout",
     "output_type": "stream",
     "text": [
      "1687.txt\n",
      "1688.txt\n",
      "1689.txt\n",
      "1690.txt\n",
      "1691.txt\n",
      "1692.txt\n"
     ]
    },
    {
     "name": "stderr",
     "output_type": "stream",
     "text": [
      " 12%|█▏        | 1292/10742 [00:46<06:00, 26.20it/s]"
     ]
    },
    {
     "name": "stdout",
     "output_type": "stream",
     "text": [
      "1693.txt\n",
      "1694.txt\n",
      "1695.txt\n",
      "1696.txt\n",
      "1697.txt\n",
      "1698.txt\n"
     ]
    },
    {
     "name": "stderr",
     "output_type": "stream",
     "text": [
      " 12%|█▏        | 1300/10742 [00:46<05:35, 28.14it/s]"
     ]
    },
    {
     "name": "stdout",
     "output_type": "stream",
     "text": [
      "1699.txt\n",
      "1700.txt\n",
      "1701.txt\n",
      "1702.txt\n",
      "1703.txt\n",
      "1704.txt\n"
     ]
    },
    {
     "name": "stderr",
     "output_type": "stream",
     "text": [
      "\r",
      " 12%|█▏        | 1303/10742 [00:46<05:33, 28.34it/s]"
     ]
    },
    {
     "name": "stdout",
     "output_type": "stream",
     "text": [
      "1705.txt\n",
      "1706.txt\n",
      "1707.txt\n",
      "1708.txt\n",
      "1709.txt\n",
      "1710.txt\n",
      "1711.txt\n"
     ]
    },
    {
     "name": "stderr",
     "output_type": "stream",
     "text": [
      " 12%|█▏        | 1310/10742 [00:47<05:24, 29.05it/s]"
     ]
    },
    {
     "name": "stdout",
     "output_type": "stream",
     "text": [
      "1712.txt\n",
      "1713.txt\n",
      "1714.txt\n",
      "1715.txt\n",
      "1716.txt\n",
      "1717.txt\n"
     ]
    },
    {
     "name": "stderr",
     "output_type": "stream",
     "text": [
      " 12%|█▏        | 1316/10742 [00:47<05:43, 27.41it/s]"
     ]
    },
    {
     "name": "stdout",
     "output_type": "stream",
     "text": [
      "1718.txt\n",
      "1719.txt\n",
      "1720.txt\n",
      "1721.txt\n",
      "1722.txt\n",
      "1723.txt\n"
     ]
    },
    {
     "name": "stderr",
     "output_type": "stream",
     "text": [
      " 12%|█▏        | 1324/10742 [00:47<05:19, 29.49it/s]"
     ]
    },
    {
     "name": "stdout",
     "output_type": "stream",
     "text": [
      "1724.txt\n",
      "1725.txt\n",
      "1726.txt\n",
      "1727.txt\n",
      "1728.txt\n",
      "1729.txt\n",
      "1730.txt\n"
     ]
    },
    {
     "name": "stderr",
     "output_type": "stream",
     "text": [
      " 12%|█▏        | 1331/10742 [00:47<05:11, 30.22it/s]"
     ]
    },
    {
     "name": "stdout",
     "output_type": "stream",
     "text": [
      "1731.txt\n",
      "1732.txt\n",
      "1733.txt\n",
      "1734.txt\n",
      "1735.txt\n",
      "1736.txt\n",
      "1737.txt\n",
      "1738.txt\n"
     ]
    },
    {
     "name": "stderr",
     "output_type": "stream",
     "text": [
      " 12%|█▏        | 1339/10742 [00:48<05:03, 30.94it/s]"
     ]
    },
    {
     "name": "stdout",
     "output_type": "stream",
     "text": [
      "1739.txt\n",
      "1740.txt\n",
      "1741.txt\n",
      "1742.txt\n",
      "1743.txt\n",
      "1744.txt\n",
      "1745.txt\n"
     ]
    },
    {
     "name": "stderr",
     "output_type": "stream",
     "text": [
      " 13%|█▎        | 1347/10742 [00:48<04:57, 31.55it/s]"
     ]
    },
    {
     "name": "stdout",
     "output_type": "stream",
     "text": [
      "1746.txt\n",
      "1747.txt\n",
      "1748.txt\n",
      "1749.txt\n",
      "1750.txt\n",
      "1751.txt\n",
      "1752.txt\n"
     ]
    },
    {
     "name": "stderr",
     "output_type": "stream",
     "text": [
      "\r",
      " 13%|█▎        | 1351/10742 [00:48<05:01, 31.18it/s]"
     ]
    },
    {
     "name": "stdout",
     "output_type": "stream",
     "text": [
      "1753.txt\n",
      "1754.txt\n",
      "1755.txt\n",
      "1756.txt\n",
      "1757.txt\n",
      "1758.txt\n"
     ]
    },
    {
     "name": "stderr",
     "output_type": "stream",
     "text": [
      " 13%|█▎        | 1358/10742 [00:48<05:49, 26.84it/s]"
     ]
    },
    {
     "name": "stdout",
     "output_type": "stream",
     "text": [
      "1759.txt\n",
      "1760.txt\n",
      "1761.txt\n",
      "1762.txt\n",
      "1763.txt\n"
     ]
    },
    {
     "name": "stderr",
     "output_type": "stream",
     "text": [
      "\r",
      " 13%|█▎        | 1361/10742 [00:48<06:01, 25.94it/s]"
     ]
    },
    {
     "name": "stdout",
     "output_type": "stream",
     "text": [
      "1764.txt\n",
      "1765.txt\n",
      "1766.txt\n",
      "1767.txt\n",
      "1768.txt\n"
     ]
    },
    {
     "name": "stderr",
     "output_type": "stream",
     "text": [
      " 13%|█▎        | 1367/10742 [00:49<07:02, 22.21it/s]"
     ]
    },
    {
     "name": "stdout",
     "output_type": "stream",
     "text": [
      "1769.txt\n",
      "1770.txt\n",
      "1771.txt\n",
      "1772.txt\n"
     ]
    },
    {
     "name": "stderr",
     "output_type": "stream",
     "text": [
      " 13%|█▎        | 1373/10742 [00:49<06:59, 22.33it/s]"
     ]
    },
    {
     "name": "stdout",
     "output_type": "stream",
     "text": [
      "1773.txt\n",
      "1774.txt\n",
      "1775.txt\n",
      "1776.txt\n",
      "1777.txt\n"
     ]
    },
    {
     "name": "stderr",
     "output_type": "stream",
     "text": [
      "\r",
      " 13%|█▎        | 1376/10742 [00:49<06:46, 23.06it/s]"
     ]
    },
    {
     "name": "stdout",
     "output_type": "stream",
     "text": [
      "1778.txt\n",
      "1779.txt\n",
      "1780.txt\n",
      "1781.txt\n",
      "1782.txt\n",
      "1783.txt\n"
     ]
    },
    {
     "name": "stderr",
     "output_type": "stream",
     "text": [
      " 13%|█▎        | 1383/10742 [00:49<06:14, 25.01it/s]"
     ]
    },
    {
     "name": "stdout",
     "output_type": "stream",
     "text": [
      "1784.txt\n",
      "1785.txt\n",
      "1786.txt\n",
      "1787.txt\n",
      "1788.txt\n",
      "1789.txt\n"
     ]
    },
    {
     "name": "stderr",
     "output_type": "stream",
     "text": [
      " 13%|█▎        | 1389/10742 [00:50<05:58, 26.09it/s]"
     ]
    },
    {
     "name": "stdout",
     "output_type": "stream",
     "text": [
      "1790.txt\n",
      "1791.txt\n",
      "1792.txt\n",
      "1793.txt\n",
      "1794.txt\n",
      "1795.txt\n",
      "1796.txt\n"
     ]
    },
    {
     "name": "stderr",
     "output_type": "stream",
     "text": [
      " 13%|█▎        | 1397/10742 [00:50<05:23, 28.89it/s]"
     ]
    },
    {
     "name": "stdout",
     "output_type": "stream",
     "text": [
      "1797.txt\n",
      "1798.txt\n",
      "1799.txt\n",
      "1800.txt\n",
      "1801.txt\n",
      "1802.txt\n",
      "1803.txt\n"
     ]
    },
    {
     "name": "stderr",
     "output_type": "stream",
     "text": [
      " 13%|█▎        | 1405/10742 [00:50<05:06, 30.43it/s]"
     ]
    },
    {
     "name": "stdout",
     "output_type": "stream",
     "text": [
      "1804.txt\n",
      "1805.txt\n",
      "1806.txt\n",
      "1807.txt\n",
      "1808.txt\n",
      "1809.txt\n",
      "1810.txt\n"
     ]
    },
    {
     "name": "stderr",
     "output_type": "stream",
     "text": [
      " 13%|█▎        | 1413/10742 [00:50<05:03, 30.70it/s]"
     ]
    },
    {
     "name": "stdout",
     "output_type": "stream",
     "text": [
      "1811.txt\n",
      "1812.txt\n",
      "1813.txt\n",
      "1814.txt\n",
      "1815.txt\n",
      "1816.txt\n",
      "1817.txt\n"
     ]
    },
    {
     "name": "stderr",
     "output_type": "stream",
     "text": [
      "\r",
      " 13%|█▎        | 1417/10742 [00:50<05:04, 30.67it/s]"
     ]
    },
    {
     "name": "stdout",
     "output_type": "stream",
     "text": [
      "1818.txt\n",
      "1819.txt\n",
      "1820.txt\n",
      "1821.txt\n",
      "1822.txt\n",
      "1823.txt\n"
     ]
    },
    {
     "name": "stderr",
     "output_type": "stream",
     "text": [
      " 13%|█▎        | 1425/10742 [00:51<05:01, 30.89it/s]"
     ]
    },
    {
     "name": "stdout",
     "output_type": "stream",
     "text": [
      "1824.txt\n",
      "1825.txt\n",
      "1826.txt\n",
      "1827.txt\n",
      "1828.txt\n",
      "1829.txt\n",
      "1830.txt\n"
     ]
    },
    {
     "name": "stderr",
     "output_type": "stream",
     "text": [
      " 13%|█▎        | 1433/10742 [00:51<04:56, 31.41it/s]"
     ]
    },
    {
     "name": "stdout",
     "output_type": "stream",
     "text": [
      "1831.txt\n",
      "1832.txt\n",
      "1833.txt\n",
      "1834.txt\n",
      "1835.txt\n",
      "1836.txt\n",
      "1837.txt\n"
     ]
    },
    {
     "name": "stderr",
     "output_type": "stream",
     "text": [
      "\r",
      " 13%|█▎        | 1437/10742 [00:51<04:59, 31.09it/s]"
     ]
    },
    {
     "name": "stdout",
     "output_type": "stream",
     "text": [
      "1838.txt\n",
      "1839.txt\n",
      "1840.txt\n",
      "1841.txt\n",
      "1842.txt\n",
      "1843.txt\n"
     ]
    },
    {
     "name": "stderr",
     "output_type": "stream",
     "text": [
      "\r",
      " 13%|█▎        | 1441/10742 [00:51<05:20, 29.06it/s]"
     ]
    },
    {
     "name": "stdout",
     "output_type": "stream",
     "text": [
      "1844.txt\n",
      "1845.txt\n",
      "1846.txt\n",
      "1847.txt\n",
      "1848.txt\n"
     ]
    },
    {
     "name": "stderr",
     "output_type": "stream",
     "text": [
      " 13%|█▎        | 1447/10742 [00:51<05:44, 26.94it/s]"
     ]
    },
    {
     "name": "stdout",
     "output_type": "stream",
     "text": [
      "1849.txt\n",
      "1850.txt\n",
      "1851.txt\n",
      "1852.txt\n",
      "1853.txt\n"
     ]
    },
    {
     "name": "stderr",
     "output_type": "stream",
     "text": [
      " 14%|█▎        | 1453/10742 [00:52<05:51, 26.40it/s]"
     ]
    },
    {
     "name": "stdout",
     "output_type": "stream",
     "text": [
      "1854.txt\n",
      "1855.txt\n",
      "1856.txt\n",
      "1857.txt\n",
      "1858.txt\n",
      "1859.txt\n"
     ]
    },
    {
     "name": "stderr",
     "output_type": "stream",
     "text": [
      " 14%|█▎        | 1460/10742 [00:52<05:32, 27.95it/s]"
     ]
    },
    {
     "name": "stdout",
     "output_type": "stream",
     "text": [
      "1860.txt\n",
      "1861.txt\n",
      "1862.txt\n",
      "1863.txt\n",
      "1864.txt\n",
      "1865.txt\n",
      "1866.txt\n"
     ]
    },
    {
     "name": "stderr",
     "output_type": "stream",
     "text": [
      " 14%|█▎        | 1467/10742 [00:52<05:18, 29.14it/s]"
     ]
    },
    {
     "name": "stdout",
     "output_type": "stream",
     "text": [
      "1867.txt\n",
      "1868.txt\n",
      "1869.txt\n",
      "1870.txt\n",
      "1871.txt\n",
      "1872.txt\n",
      "1873.txt\n"
     ]
    },
    {
     "name": "stderr",
     "output_type": "stream",
     "text": [
      " 14%|█▎        | 1474/10742 [00:52<05:10, 29.84it/s]"
     ]
    },
    {
     "name": "stdout",
     "output_type": "stream",
     "text": [
      "1874.txt\n",
      "1875.txt\n",
      "1876.txt\n",
      "1877.txt\n",
      "1878.txt\n",
      "1879.txt\n",
      "1880.txt\n"
     ]
    },
    {
     "name": "stderr",
     "output_type": "stream",
     "text": [
      " 14%|█▍        | 1481/10742 [00:53<05:07, 30.16it/s]"
     ]
    },
    {
     "name": "stdout",
     "output_type": "stream",
     "text": [
      "1881.txt\n",
      "1882.txt\n",
      "1883.txt\n",
      "1884.txt\n",
      "1885.txt\n",
      "1886.txt\n",
      "1887.txt\n"
     ]
    },
    {
     "name": "stderr",
     "output_type": "stream",
     "text": [
      " 14%|█▍        | 1489/10742 [00:53<05:03, 30.52it/s]"
     ]
    },
    {
     "name": "stdout",
     "output_type": "stream",
     "text": [
      "1888.txt\n",
      "1889.txt\n",
      "1890.txt\n",
      "1891.txt\n",
      "1892.txt\n",
      "1893.txt\n"
     ]
    },
    {
     "name": "stderr",
     "output_type": "stream",
     "text": [
      "\r",
      " 14%|█▍        | 1493/10742 [00:53<05:05, 30.26it/s]"
     ]
    },
    {
     "name": "stdout",
     "output_type": "stream",
     "text": [
      "1894.txt\n",
      "1895.txt\n",
      "1896.txt\n",
      "1897.txt\n",
      "1898.txt\n",
      "1899.txt\n"
     ]
    },
    {
     "name": "stderr",
     "output_type": "stream",
     "text": [
      " 14%|█▍        | 1501/10742 [00:53<05:01, 30.69it/s]"
     ]
    },
    {
     "name": "stdout",
     "output_type": "stream",
     "text": [
      "1900.txt\n",
      "1901.txt\n",
      "1902.txt\n",
      "1903.txt\n",
      "1904.txt\n",
      "1905.txt\n",
      "1906.txt\n"
     ]
    },
    {
     "name": "stderr",
     "output_type": "stream",
     "text": [
      "\r",
      " 14%|█▍        | 1505/10742 [00:53<05:04, 30.32it/s]"
     ]
    },
    {
     "name": "stdout",
     "output_type": "stream",
     "text": [
      "1907.txt\n",
      "1908.txt\n",
      "1909.txt\n",
      "1910.txt\n",
      "1911.txt\n",
      "1912.txt\n"
     ]
    },
    {
     "name": "stderr",
     "output_type": "stream",
     "text": [
      " 14%|█▍        | 1513/10742 [00:54<05:04, 30.29it/s]"
     ]
    },
    {
     "name": "stdout",
     "output_type": "stream",
     "text": [
      "1913.txt\n",
      "1914.txt\n",
      "1915.txt\n",
      "1916.txt\n",
      "1917.txt\n",
      "1918.txt\n",
      "1919.txt\n"
     ]
    },
    {
     "name": "stderr",
     "output_type": "stream",
     "text": [
      "\r",
      " 14%|█▍        | 1517/10742 [00:54<05:02, 30.45it/s]"
     ]
    },
    {
     "name": "stdout",
     "output_type": "stream",
     "text": [
      "1920.txt\n",
      "1921.txt\n",
      "1922.txt\n",
      "1923.txt\n",
      "1924.txt\n",
      "1925.txt\n"
     ]
    },
    {
     "name": "stderr",
     "output_type": "stream",
     "text": [
      " 14%|█▍        | 1524/10742 [00:54<05:35, 27.49it/s]"
     ]
    },
    {
     "name": "stdout",
     "output_type": "stream",
     "text": [
      "1926.txt\n",
      "1927.txt\n",
      "1928.txt\n",
      "1929.txt\n",
      "1930.txt\n"
     ]
    },
    {
     "name": "stderr",
     "output_type": "stream",
     "text": [
      " 14%|█▍        | 1530/10742 [00:54<05:56, 25.85it/s]"
     ]
    },
    {
     "name": "stdout",
     "output_type": "stream",
     "text": [
      "1931.txt\n",
      "1932.txt\n",
      "1933.txt\n",
      "1934.txt\n",
      "1935.txt\n",
      "1936.txt\n"
     ]
    },
    {
     "name": "stderr",
     "output_type": "stream",
     "text": [
      " 14%|█▍        | 1536/10742 [00:55<06:05, 25.22it/s]"
     ]
    },
    {
     "name": "stdout",
     "output_type": "stream",
     "text": [
      "1937.txt\n",
      "1938.txt\n",
      "1939.txt\n",
      "1940.txt\n",
      "1941.txt\n"
     ]
    },
    {
     "name": "stderr",
     "output_type": "stream",
     "text": [
      " 14%|█▍        | 1543/10742 [00:55<05:42, 26.85it/s]"
     ]
    },
    {
     "name": "stdout",
     "output_type": "stream",
     "text": [
      "1942.txt\n",
      "1943.txt\n",
      "1944.txt\n",
      "1960.txt\n",
      "1961.txt\n",
      "1962.txt\n"
     ]
    },
    {
     "name": "stderr",
     "output_type": "stream",
     "text": [
      "\r",
      " 14%|█▍        | 1546/10742 [00:55<05:32, 27.65it/s]"
     ]
    },
    {
     "name": "stdout",
     "output_type": "stream",
     "text": [
      "1963.txt\n",
      "1964.txt\n",
      "1965.txt\n",
      "1966.txt\n",
      "1967.txt\n",
      "1968.txt\n",
      "1969.txt\n"
     ]
    },
    {
     "name": "stderr",
     "output_type": "stream",
     "text": [
      " 14%|█▍        | 1553/10742 [00:55<05:15, 29.17it/s]"
     ]
    },
    {
     "name": "stdout",
     "output_type": "stream",
     "text": [
      "1970.txt\n",
      "1971.txt\n",
      "1972.txt\n",
      "1973.txt\n",
      "1974.txt\n",
      "1975.txt\n"
     ]
    },
    {
     "name": "stderr",
     "output_type": "stream",
     "text": [
      " 15%|█▍        | 1560/10742 [00:55<05:11, 29.44it/s]"
     ]
    },
    {
     "name": "stdout",
     "output_type": "stream",
     "text": [
      "1976.txt\n",
      "1977.txt\n",
      "1978.txt\n",
      "1979.txt\n",
      "1980.txt\n",
      "1981.txt\n",
      "1982.txt\n"
     ]
    },
    {
     "name": "stderr",
     "output_type": "stream",
     "text": [
      " 15%|█▍        | 1568/10742 [00:56<05:02, 30.35it/s]"
     ]
    },
    {
     "name": "stdout",
     "output_type": "stream",
     "text": [
      "1983.txt\n",
      "1984.txt\n",
      "1985.txt\n",
      "1986.txt\n",
      "1987.txt\n",
      "1988.txt\n",
      "1989.txt\n"
     ]
    },
    {
     "name": "stderr",
     "output_type": "stream",
     "text": [
      " 15%|█▍        | 1576/10742 [00:56<04:58, 30.73it/s]"
     ]
    },
    {
     "name": "stdout",
     "output_type": "stream",
     "text": [
      "1990.txt\n",
      "1991.txt\n",
      "1992.txt\n",
      "1993.txt\n",
      "1994.txt\n",
      "1995.txt\n",
      "1996.txt\n"
     ]
    },
    {
     "name": "stderr",
     "output_type": "stream",
     "text": [
      "\r",
      " 15%|█▍        | 1580/10742 [00:56<04:57, 30.84it/s]"
     ]
    },
    {
     "name": "stdout",
     "output_type": "stream",
     "text": [
      "1997.txt\n",
      "1998.txt\n",
      "1999.txt\n",
      "2000.txt\n",
      "2001.txt\n",
      "2002.txt\n",
      "2003.txt\n"
     ]
    },
    {
     "name": "stderr",
     "output_type": "stream",
     "text": [
      " 15%|█▍        | 1588/10742 [00:56<04:55, 30.95it/s]"
     ]
    },
    {
     "name": "stdout",
     "output_type": "stream",
     "text": [
      "2004.txt\n",
      "2005.txt\n",
      "2006.txt\n",
      "2007.txt\n",
      "2008.txt\n",
      "2009.txt\n",
      "2010.txt\n"
     ]
    },
    {
     "name": "stderr",
     "output_type": "stream",
     "text": [
      " 15%|█▍        | 1596/10742 [00:57<04:52, 31.25it/s]"
     ]
    },
    {
     "name": "stdout",
     "output_type": "stream",
     "text": [
      "2011.txt\n",
      "2012.txt\n",
      "2013.txt\n",
      "2014.txt\n",
      "2015.txt\n",
      "2016.txt\n",
      "2017.txt\n"
     ]
    },
    {
     "name": "stderr",
     "output_type": "stream",
     "text": [
      " 15%|█▍        | 1604/10742 [00:57<05:00, 30.36it/s]"
     ]
    },
    {
     "name": "stdout",
     "output_type": "stream",
     "text": [
      "2018.txt\n",
      "2019.txt\n",
      "2020.txt\n",
      "2021.txt\n",
      "2022.txt\n",
      "2023.txt\n"
     ]
    },
    {
     "name": "stderr",
     "output_type": "stream",
     "text": [
      "\r",
      " 15%|█▍        | 1608/10742 [00:57<05:19, 28.55it/s]"
     ]
    },
    {
     "name": "stdout",
     "output_type": "stream",
     "text": [
      "2024.txt\n",
      "2025.txt\n",
      "2026.txt\n",
      "2027.txt\n",
      "2028.txt\n",
      "2029.txt\n"
     ]
    },
    {
     "name": "stderr",
     "output_type": "stream",
     "text": [
      " 15%|█▌        | 1614/10742 [00:57<05:37, 27.03it/s]"
     ]
    },
    {
     "name": "stdout",
     "output_type": "stream",
     "text": [
      "2030.txt\n",
      "2031.txt\n",
      "2032.txt\n",
      "2033.txt\n",
      "2034.txt\n",
      "2035.txt\n"
     ]
    },
    {
     "name": "stderr",
     "output_type": "stream",
     "text": [
      " 15%|█▌        | 1620/10742 [00:57<05:46, 26.36it/s]"
     ]
    },
    {
     "name": "stdout",
     "output_type": "stream",
     "text": [
      "2078.txt\n",
      "2079.txt\n",
      "2080.txt\n",
      "2081.txt\n",
      "2082.txt\n",
      "2083.txt\n"
     ]
    },
    {
     "name": "stderr",
     "output_type": "stream",
     "text": [
      " 15%|█▌        | 1627/10742 [00:58<05:30, 27.61it/s]"
     ]
    },
    {
     "name": "stdout",
     "output_type": "stream",
     "text": [
      "2084.txt\n",
      "2085.txt\n",
      "2086.txt\n",
      "2087.txt\n",
      "2088.txt\n",
      "2089.txt\n"
     ]
    },
    {
     "name": "stderr",
     "output_type": "stream",
     "text": [
      "\r",
      " 15%|█▌        | 1631/10742 [00:58<05:19, 28.54it/s]"
     ]
    },
    {
     "name": "stdout",
     "output_type": "stream",
     "text": [
      "2090.txt\n",
      "2091.txt\n",
      "2092.txt\n",
      "2093.txt\n",
      "2094.txt\n",
      "2095.txt\n"
     ]
    },
    {
     "name": "stderr",
     "output_type": "stream",
     "text": [
      " 15%|█▌        | 1639/10742 [00:58<05:06, 29.70it/s]"
     ]
    },
    {
     "name": "stdout",
     "output_type": "stream",
     "text": [
      "2096.txt\n",
      "2097.txt\n",
      "2098.txt\n",
      "2099.txt\n",
      "2100.txt\n",
      "2101.txt\n",
      "2102.txt\n"
     ]
    },
    {
     "name": "stderr",
     "output_type": "stream",
     "text": [
      " 15%|█▌        | 1645/10742 [00:58<05:13, 29.06it/s]"
     ]
    },
    {
     "name": "stdout",
     "output_type": "stream",
     "text": [
      "2103.txt\n",
      "2104.txt\n",
      "2105.txt\n",
      "2106.txt\n",
      "2107.txt\n",
      "2108.txt\n",
      "2109.txt\n"
     ]
    },
    {
     "name": "stderr",
     "output_type": "stream",
     "text": [
      " 15%|█▌        | 1653/10742 [00:59<05:02, 30.01it/s]"
     ]
    },
    {
     "name": "stdout",
     "output_type": "stream",
     "text": [
      "2110.txt\n",
      "2111.txt\n",
      "2112.txt\n",
      "2113.txt\n",
      "2114.txt\n",
      "2115.txt\n",
      "2116.txt\n"
     ]
    },
    {
     "name": "stderr",
     "output_type": "stream",
     "text": [
      " 15%|█▌        | 1661/10742 [00:59<04:58, 30.42it/s]"
     ]
    },
    {
     "name": "stdout",
     "output_type": "stream",
     "text": [
      "2117.txt\n",
      "2118.txt\n",
      "2119.txt\n",
      "2120.txt\n",
      "2121.txt\n",
      "2122.txt\n",
      "2123.txt\n"
     ]
    },
    {
     "name": "stderr",
     "output_type": "stream",
     "text": [
      "\r",
      " 15%|█▌        | 1665/10742 [00:59<04:58, 30.40it/s]"
     ]
    },
    {
     "name": "stdout",
     "output_type": "stream",
     "text": [
      "2124.txt\n",
      "2125.txt\n",
      "2126.txt\n",
      "2127.txt\n",
      "2128.txt\n",
      "2129.txt\n",
      "2130.txt\n"
     ]
    },
    {
     "name": "stderr",
     "output_type": "stream",
     "text": [
      " 16%|█▌        | 1673/10742 [00:59<04:57, 30.44it/s]"
     ]
    },
    {
     "name": "stdout",
     "output_type": "stream",
     "text": [
      "2131.txt\n",
      "2132.txt\n",
      "2133.txt\n",
      "2134.txt\n",
      "2135.txt\n",
      "2136.txt\n"
     ]
    },
    {
     "name": "stderr",
     "output_type": "stream",
     "text": [
      " 16%|█▌        | 1681/10742 [00:59<04:58, 30.36it/s]"
     ]
    },
    {
     "name": "stdout",
     "output_type": "stream",
     "text": [
      "2137.txt\n",
      "2138.txt\n",
      "2139.txt\n",
      "2140.txt\n",
      "2141.txt\n",
      "2142.txt\n"
     ]
    },
    {
     "name": "stderr",
     "output_type": "stream",
     "text": [
      "\r",
      " 16%|█▌        | 1685/10742 [01:00<05:05, 29.68it/s]"
     ]
    },
    {
     "name": "stdout",
     "output_type": "stream",
     "text": [
      "2143.txt\n",
      "2144.txt\n",
      "2145.txt\n",
      "2146.txt\n",
      "2147.txt\n",
      "2148.txt\n"
     ]
    },
    {
     "name": "stderr",
     "output_type": "stream",
     "text": [
      " 16%|█▌        | 1691/10742 [01:00<05:33, 27.12it/s]"
     ]
    },
    {
     "name": "stdout",
     "output_type": "stream",
     "text": [
      "2149.txt\n",
      "2150.txt\n",
      "2151.txt\n",
      "2152.txt\n",
      "2153.txt\n"
     ]
    },
    {
     "name": "stderr",
     "output_type": "stream",
     "text": [
      " 16%|█▌        | 1697/10742 [01:00<05:45, 26.20it/s]"
     ]
    },
    {
     "name": "stdout",
     "output_type": "stream",
     "text": [
      "2154.txt\n",
      "2155.txt\n",
      "2156.txt\n",
      "2157.txt\n",
      "2158.txt\n"
     ]
    },
    {
     "name": "stderr",
     "output_type": "stream",
     "text": [
      "\r",
      " 16%|█▌        | 1700/10742 [01:00<05:50, 25.77it/s]"
     ]
    },
    {
     "name": "stdout",
     "output_type": "stream",
     "text": [
      "2159.txt\n",
      "2160.txt\n",
      "2161.txt\n",
      "2162.txt\n",
      "2163.txt\n",
      "2164.txt\n"
     ]
    },
    {
     "name": "stderr",
     "output_type": "stream",
     "text": [
      " 16%|█▌        | 1706/10742 [01:00<05:59, 25.13it/s]"
     ]
    },
    {
     "name": "stdout",
     "output_type": "stream",
     "text": [
      "2165.txt\n",
      "2166.txt\n",
      "2167.txt\n",
      "2168.txt\n",
      "2169.txt\n",
      "2170.txt\n"
     ]
    },
    {
     "name": "stderr",
     "output_type": "stream",
     "text": [
      " 16%|█▌        | 1714/10742 [01:01<05:19, 28.26it/s]"
     ]
    },
    {
     "name": "stdout",
     "output_type": "stream",
     "text": [
      "2171.txt\n",
      "2172.txt\n",
      "2173.txt\n",
      "2174.txt\n",
      "2175.txt\n",
      "2176.txt\n",
      "2177.txt\n"
     ]
    },
    {
     "name": "stderr",
     "output_type": "stream",
     "text": [
      " 16%|█▌        | 1721/10742 [01:01<05:05, 29.50it/s]"
     ]
    },
    {
     "name": "stdout",
     "output_type": "stream",
     "text": [
      "2178.txt\n",
      "2179.txt\n",
      "2180.txt\n",
      "2181.txt\n",
      "2182.txt\n",
      "2183.txt\n",
      "2184.txt\n"
     ]
    },
    {
     "name": "stderr",
     "output_type": "stream",
     "text": [
      " 16%|█▌        | 1728/10742 [01:01<05:02, 29.84it/s]"
     ]
    },
    {
     "name": "stdout",
     "output_type": "stream",
     "text": [
      "2185.txt\n",
      "2186.txt\n",
      "2187.txt\n",
      "2188.txt\n",
      "2189.txt\n",
      "2190.txt\n"
     ]
    },
    {
     "name": "stderr",
     "output_type": "stream",
     "text": [
      " 16%|█▌        | 1735/10742 [01:01<05:03, 29.63it/s]"
     ]
    },
    {
     "name": "stdout",
     "output_type": "stream",
     "text": [
      "2191.txt\n",
      "2192.txt\n",
      "2193.txt\n",
      "2194.txt\n",
      "2195.txt\n",
      "2196.txt\n",
      "2197.txt\n"
     ]
    },
    {
     "name": "stderr",
     "output_type": "stream",
     "text": [
      " 16%|█▌        | 1742/10742 [01:02<04:58, 30.19it/s]"
     ]
    },
    {
     "name": "stdout",
     "output_type": "stream",
     "text": [
      "2198.txt\n",
      "2199.txt\n",
      "2200.txt\n",
      "2201.txt\n",
      "2202.txt\n",
      "2203.txt\n"
     ]
    },
    {
     "name": "stderr",
     "output_type": "stream",
     "text": [
      "\r",
      " 16%|█▋        | 1746/10742 [01:02<04:56, 30.37it/s]"
     ]
    },
    {
     "name": "stdout",
     "output_type": "stream",
     "text": [
      "2204.txt\n",
      "2205.txt\n",
      "2206.txt\n",
      "2207.txt\n",
      "2208.txt\n",
      "2209.txt\n",
      "2210.txt\n"
     ]
    },
    {
     "name": "stderr",
     "output_type": "stream",
     "text": [
      " 16%|█▋        | 1754/10742 [01:02<04:54, 30.57it/s]"
     ]
    },
    {
     "name": "stdout",
     "output_type": "stream",
     "text": [
      "2211.txt\n",
      "2212.txt\n",
      "2213.txt\n",
      "2214.txt\n",
      "2215.txt\n",
      "2216.txt\n",
      "2217.txt\n"
     ]
    },
    {
     "name": "stderr",
     "output_type": "stream",
     "text": [
      " 16%|█▋        | 1762/10742 [01:02<04:45, 31.49it/s]"
     ]
    },
    {
     "name": "stdout",
     "output_type": "stream",
     "text": [
      "2218.txt\n",
      "2219.txt\n",
      "2220.txt\n",
      "2221.txt\n",
      "2222.txt\n",
      "2223.txt\n",
      "2224.txt\n"
     ]
    },
    {
     "name": "stderr",
     "output_type": "stream",
     "text": [
      " 16%|█▋        | 1770/10742 [01:03<04:43, 31.64it/s]"
     ]
    },
    {
     "name": "stdout",
     "output_type": "stream",
     "text": [
      "2225.txt\n",
      "2226.txt\n",
      "2227.txt\n",
      "2228.txt\n",
      "2229.txt\n",
      "2230.txt\n",
      "2231.txt\n"
     ]
    },
    {
     "name": "stderr",
     "output_type": "stream",
     "text": [
      "\r",
      " 17%|█▋        | 1774/10742 [01:03<05:03, 29.52it/s]"
     ]
    },
    {
     "name": "stdout",
     "output_type": "stream",
     "text": [
      "2232.txt\n",
      "2233.txt\n",
      "2234.txt\n",
      "2235.txt\n",
      "2236.txt\n"
     ]
    },
    {
     "name": "stderr",
     "output_type": "stream",
     "text": [
      " 17%|█▋        | 1780/10742 [01:03<05:40, 26.32it/s]"
     ]
    },
    {
     "name": "stdout",
     "output_type": "stream",
     "text": [
      "2237.txt\n",
      "2238.txt\n",
      "2239.txt\n",
      "2240.txt\n",
      "2241.txt\n"
     ]
    },
    {
     "name": "stderr",
     "output_type": "stream",
     "text": [
      "\r",
      " 17%|█▋        | 1783/10742 [01:03<05:45, 25.91it/s]"
     ]
    },
    {
     "name": "stdout",
     "output_type": "stream",
     "text": [
      "2242.txt\n",
      "2243.txt\n",
      "2244.txt\n",
      "2245.txt\n",
      "2246.txt\n",
      "2247.txt\n"
     ]
    },
    {
     "name": "stderr",
     "output_type": "stream",
     "text": [
      " 17%|█▋        | 1789/10742 [01:03<05:52, 25.38it/s]"
     ]
    },
    {
     "name": "stdout",
     "output_type": "stream",
     "text": [
      "2248.txt\n",
      "2249.txt\n",
      "2250.txt\n",
      "2251.txt\n",
      "2252.txt\n",
      "2253.txt\n"
     ]
    },
    {
     "name": "stderr",
     "output_type": "stream",
     "text": [
      " 17%|█▋        | 1797/10742 [01:04<05:16, 28.29it/s]"
     ]
    },
    {
     "name": "stdout",
     "output_type": "stream",
     "text": [
      "2254.txt\n",
      "2255.txt\n",
      "2256.txt\n",
      "2257.txt\n",
      "2258.txt\n",
      "2259.txt\n",
      "2260.txt\n"
     ]
    },
    {
     "name": "stderr",
     "output_type": "stream",
     "text": [
      " 17%|█▋        | 1804/10742 [01:04<05:05, 29.29it/s]"
     ]
    },
    {
     "name": "stdout",
     "output_type": "stream",
     "text": [
      "2261.txt\n",
      "2262.txt\n",
      "2263.txt\n",
      "2264.txt\n",
      "2265.txt\n",
      "2266.txt\n",
      "2267.txt\n"
     ]
    },
    {
     "name": "stderr",
     "output_type": "stream",
     "text": [
      " 17%|█▋        | 1810/10742 [01:04<05:41, 26.13it/s]"
     ]
    },
    {
     "name": "stdout",
     "output_type": "stream",
     "text": [
      "2268.txt\n",
      "2269.txt\n",
      "2270.txt\n",
      "2271.txt\n",
      "2272.txt\n"
     ]
    },
    {
     "name": "stderr",
     "output_type": "stream",
     "text": [
      " 17%|█▋        | 1816/10742 [01:04<05:44, 25.92it/s]"
     ]
    },
    {
     "name": "stdout",
     "output_type": "stream",
     "text": [
      "2273.txt\n",
      "2274.txt\n",
      "2275.txt\n",
      "2276.txt\n",
      "2277.txt\n"
     ]
    },
    {
     "name": "stderr",
     "output_type": "stream",
     "text": [
      "\r",
      " 17%|█▋        | 1819/10742 [01:04<05:37, 26.45it/s]"
     ]
    },
    {
     "name": "stdout",
     "output_type": "stream",
     "text": [
      "2278.txt\n",
      "2279.txt\n",
      "2280.txt\n",
      "2281.txt\n",
      "2282.txt\n",
      "2283.txt\n"
     ]
    },
    {
     "name": "stderr",
     "output_type": "stream",
     "text": [
      " 17%|█▋        | 1825/10742 [01:05<05:44, 25.88it/s]"
     ]
    },
    {
     "name": "stdout",
     "output_type": "stream",
     "text": [
      "2284.txt\n",
      "2285.txt\n",
      "2286.txt\n",
      "2287.txt\n",
      "2288.txt\n",
      "2289.txt\n"
     ]
    },
    {
     "name": "stderr",
     "output_type": "stream",
     "text": [
      " 17%|█▋        | 1831/10742 [01:05<05:36, 26.48it/s]"
     ]
    },
    {
     "name": "stdout",
     "output_type": "stream",
     "text": [
      "2290.txt\n",
      "2291.txt\n",
      "2292.txt\n",
      "2293.txt\n",
      "2294.txt\n",
      "2295.txt\n"
     ]
    },
    {
     "name": "stderr",
     "output_type": "stream",
     "text": [
      " 17%|█▋        | 1840/10742 [01:05<05:19, 27.84it/s]"
     ]
    },
    {
     "name": "stdout",
     "output_type": "stream",
     "text": [
      "2296.txt\n",
      "2297.txt\n",
      "2298.txt\n",
      "2299.txt\n",
      "2300.txt\n",
      "2301.txt\n"
     ]
    },
    {
     "name": "stderr",
     "output_type": "stream",
     "text": [
      "\r",
      " 17%|█▋        | 1843/10742 [01:05<05:24, 27.46it/s]"
     ]
    },
    {
     "name": "stdout",
     "output_type": "stream",
     "text": [
      "2302.txt\n",
      "2303.txt\n",
      "2304.txt\n",
      "2305.txt\n",
      "2306.txt\n",
      "2307.txt\n"
     ]
    },
    {
     "name": "stderr",
     "output_type": "stream",
     "text": [
      " 17%|█▋        | 1849/10742 [01:06<05:46, 25.69it/s]"
     ]
    },
    {
     "name": "stdout",
     "output_type": "stream",
     "text": [
      "2308.txt\n",
      "2309.txt\n",
      "2310.txt\n",
      "2311.txt\n",
      "2312.txt\n"
     ]
    },
    {
     "name": "stderr",
     "output_type": "stream",
     "text": [
      " 17%|█▋        | 1855/10742 [01:06<05:53, 25.16it/s]"
     ]
    },
    {
     "name": "stdout",
     "output_type": "stream",
     "text": [
      "2313.txt\n",
      "2314.txt\n",
      "2315.txt\n",
      "2316.txt\n",
      "2317.txt\n"
     ]
    },
    {
     "name": "stderr",
     "output_type": "stream",
     "text": [
      " 17%|█▋        | 1861/10742 [01:06<06:03, 24.43it/s]"
     ]
    },
    {
     "name": "stdout",
     "output_type": "stream",
     "text": [
      "2318.txt\n",
      "2319.txt\n",
      "2320.txt\n",
      "2321.txt\n",
      "2322.txt\n"
     ]
    },
    {
     "name": "stderr",
     "output_type": "stream",
     "text": [
      "\r",
      " 17%|█▋        | 1864/10742 [01:06<06:08, 24.08it/s]"
     ]
    },
    {
     "name": "stdout",
     "output_type": "stream",
     "text": [
      "2323.txt\n",
      "2324.txt\n",
      "2325.txt\n",
      "2326.txt\n",
      "2327.txt\n"
     ]
    },
    {
     "name": "stderr",
     "output_type": "stream",
     "text": [
      " 17%|█▋        | 1871/10742 [01:06<05:35, 26.42it/s]"
     ]
    },
    {
     "name": "stdout",
     "output_type": "stream",
     "text": [
      "2328.txt\n",
      "2329.txt\n",
      "2330.txt\n",
      "2331.txt\n",
      "2332.txt\n",
      "2333.txt\n",
      "2334.txt\n"
     ]
    },
    {
     "name": "stderr",
     "output_type": "stream",
     "text": [
      " 17%|█▋        | 1879/10742 [01:07<05:08, 28.74it/s]"
     ]
    },
    {
     "name": "stdout",
     "output_type": "stream",
     "text": [
      "2335.txt\n",
      "2336.txt\n",
      "2337.txt\n",
      "2338.txt\n",
      "2339.txt\n",
      "2340.txt\n"
     ]
    },
    {
     "name": "stderr",
     "output_type": "stream",
     "text": [
      "\r",
      " 18%|█▊        | 1883/10742 [01:07<05:02, 29.32it/s]"
     ]
    },
    {
     "name": "stdout",
     "output_type": "stream",
     "text": [
      "2341.txt\n",
      "2342.txt\n",
      "2343.txt\n",
      "2344.txt\n",
      "2345.txt\n",
      "2346.txt\n",
      "2347.txt\n"
     ]
    },
    {
     "name": "stderr",
     "output_type": "stream",
     "text": [
      " 18%|█▊        | 1891/10742 [01:07<04:52, 30.27it/s]"
     ]
    },
    {
     "name": "stdout",
     "output_type": "stream",
     "text": [
      "2348.txt\n",
      "2349.txt\n",
      "2350.txt\n",
      "2351.txt\n",
      "2352.txt\n",
      "2353.txt\n",
      "2354.txt\n"
     ]
    },
    {
     "name": "stderr",
     "output_type": "stream",
     "text": [
      " 18%|█▊        | 1899/10742 [01:07<04:54, 29.99it/s]"
     ]
    },
    {
     "name": "stdout",
     "output_type": "stream",
     "text": [
      "2355.txt\n",
      "2356.txt\n",
      "2357.txt\n",
      "2358.txt\n",
      "2359.txt\n",
      "2360.txt\n"
     ]
    },
    {
     "name": "stderr",
     "output_type": "stream",
     "text": [
      "\r",
      " 18%|█▊        | 1903/10742 [01:07<04:50, 30.42it/s]"
     ]
    },
    {
     "name": "stdout",
     "output_type": "stream",
     "text": [
      "2361.txt\n",
      "2362.txt\n",
      "2363.txt\n",
      "2364.txt\n",
      "2365.txt\n",
      "2366.txt\n",
      "2367.txt\n"
     ]
    },
    {
     "name": "stderr",
     "output_type": "stream",
     "text": [
      " 18%|█▊        | 1911/10742 [01:08<04:44, 31.05it/s]"
     ]
    },
    {
     "name": "stdout",
     "output_type": "stream",
     "text": [
      "2368.txt\n",
      "2369.txt\n",
      "2370.txt\n",
      "2371.txt\n",
      "2372.txt\n",
      "2373.txt\n",
      "2374.txt\n"
     ]
    },
    {
     "name": "stderr",
     "output_type": "stream",
     "text": [
      " 18%|█▊        | 1919/10742 [01:08<04:42, 31.24it/s]"
     ]
    },
    {
     "name": "stdout",
     "output_type": "stream",
     "text": [
      "2375.txt\n",
      "2376.txt\n",
      "2377.txt\n",
      "2378.txt\n",
      "2379.txt\n",
      "2380.txt\n",
      "2381.txt\n"
     ]
    },
    {
     "name": "stderr",
     "output_type": "stream",
     "text": [
      " 18%|█▊        | 1927/10742 [01:08<04:37, 31.71it/s]"
     ]
    },
    {
     "name": "stdout",
     "output_type": "stream",
     "text": [
      "2382.txt\n",
      "2383.txt\n",
      "2384.txt\n",
      "2385.txt\n",
      "2386.txt\n",
      "2387.txt\n",
      "2388.txt\n"
     ]
    },
    {
     "name": "stderr",
     "output_type": "stream",
     "text": [
      "\r",
      " 18%|█▊        | 1931/10742 [01:08<04:51, 30.24it/s]"
     ]
    },
    {
     "name": "stdout",
     "output_type": "stream",
     "text": [
      "2389.txt\n",
      "2390.txt\n",
      "2391.txt\n",
      "2392.txt\n",
      "2393.txt\n",
      "2394.txt\n"
     ]
    },
    {
     "name": "stderr",
     "output_type": "stream",
     "text": [
      " 18%|█▊        | 1938/10742 [01:09<05:20, 27.51it/s]"
     ]
    },
    {
     "name": "stdout",
     "output_type": "stream",
     "text": [
      "2395.txt\n",
      "2396.txt\n",
      "2397.txt\n",
      "2398.txt\n",
      "2399.txt\n"
     ]
    },
    {
     "name": "stderr",
     "output_type": "stream",
     "text": [
      "\r",
      " 18%|█▊        | 1941/10742 [01:09<05:29, 26.71it/s]"
     ]
    },
    {
     "name": "stdout",
     "output_type": "stream",
     "text": [
      "2400.txt\n",
      "2401.txt\n",
      "2402.txt\n",
      "2403.txt\n",
      "2404.txt\n",
      "2405.txt\n"
     ]
    },
    {
     "name": "stderr",
     "output_type": "stream",
     "text": [
      " 18%|█▊        | 1947/10742 [01:09<05:38, 25.98it/s]"
     ]
    },
    {
     "name": "stdout",
     "output_type": "stream",
     "text": [
      "2406.txt\n",
      "2407.txt\n",
      "2408.txt\n",
      "2409.txt\n",
      "2410.txt\n"
     ]
    },
    {
     "name": "stderr",
     "output_type": "stream",
     "text": [
      " 18%|█▊        | 1953/10742 [01:09<05:26, 26.92it/s]"
     ]
    },
    {
     "name": "stdout",
     "output_type": "stream",
     "text": [
      "2411.txt\n",
      "2412.txt\n",
      "2413.txt\n",
      "2414.txt\n",
      "2415.txt\n",
      "2416.txt\n",
      "2417.txt\n"
     ]
    },
    {
     "name": "stderr",
     "output_type": "stream",
     "text": [
      " 18%|█▊        | 1960/10742 [01:09<05:04, 28.86it/s]"
     ]
    },
    {
     "name": "stdout",
     "output_type": "stream",
     "text": [
      "2418.txt\n",
      "2419.txt\n",
      "2420.txt\n",
      "2421.txt\n",
      "2422.txt\n",
      "2423.txt\n",
      "2424.txt\n"
     ]
    },
    {
     "name": "stderr",
     "output_type": "stream",
     "text": [
      " 18%|█▊        | 1968/10742 [01:10<04:48, 30.37it/s]"
     ]
    },
    {
     "name": "stdout",
     "output_type": "stream",
     "text": [
      "2425.txt\n",
      "2426.txt\n",
      "2427.txt\n",
      "2428.txt\n",
      "2429.txt\n",
      "2430.txt\n",
      "2431.txt\n"
     ]
    },
    {
     "name": "stderr",
     "output_type": "stream",
     "text": [
      " 18%|█▊        | 1976/10742 [01:10<04:44, 30.77it/s]"
     ]
    },
    {
     "name": "stdout",
     "output_type": "stream",
     "text": [
      "2432.txt\n",
      "2433.txt\n",
      "2434.txt\n",
      "2435.txt\n",
      "2436.txt\n",
      "2437.txt\n"
     ]
    },
    {
     "name": "stderr",
     "output_type": "stream",
     "text": [
      "\r",
      " 18%|█▊        | 1980/10742 [01:10<04:44, 30.81it/s]"
     ]
    },
    {
     "name": "stdout",
     "output_type": "stream",
     "text": [
      "2438.txt\n",
      "2439.txt\n",
      "2440.txt\n",
      "2441.txt\n",
      "2442.txt\n",
      "2443.txt\n",
      "2444.txt\n"
     ]
    },
    {
     "name": "stderr",
     "output_type": "stream",
     "text": [
      " 19%|█▊        | 1988/10742 [01:10<04:42, 31.04it/s]"
     ]
    },
    {
     "name": "stdout",
     "output_type": "stream",
     "text": [
      "2445.txt\n",
      "2446.txt\n",
      "2447.txt\n",
      "2448.txt\n",
      "2449.txt\n",
      "2450.txt\n",
      "2451.txt\n"
     ]
    },
    {
     "name": "stderr",
     "output_type": "stream",
     "text": [
      " 19%|█▊        | 1996/10742 [01:11<04:41, 31.07it/s]"
     ]
    },
    {
     "name": "stdout",
     "output_type": "stream",
     "text": [
      "2452.txt\n",
      "2453.txt\n",
      "2454.txt\n",
      "2455.txt\n",
      "2456.txt\n",
      "2457.txt\n"
     ]
    },
    {
     "name": "stderr",
     "output_type": "stream",
     "text": [
      "\r",
      " 19%|█▊        | 2000/10742 [01:11<04:46, 30.56it/s]"
     ]
    },
    {
     "name": "stdout",
     "output_type": "stream",
     "text": [
      "2458.txt\n",
      "2459.txt\n",
      "2460.txt\n",
      "2461.txt\n",
      "2462.txt\n",
      "2463.txt\n",
      "2464.txt\n"
     ]
    },
    {
     "name": "stderr",
     "output_type": "stream",
     "text": [
      " 19%|█▊        | 2008/10742 [01:11<04:46, 30.52it/s]"
     ]
    },
    {
     "name": "stdout",
     "output_type": "stream",
     "text": [
      "2465.txt\n",
      "2466.txt\n",
      "2467.txt\n",
      "2468.txt\n",
      "2469.txt\n",
      "2470.txt\n",
      "2471.txt\n"
     ]
    },
    {
     "name": "stderr",
     "output_type": "stream",
     "text": [
      "\r",
      " 19%|█▊        | 2012/10742 [01:11<04:44, 30.65it/s]"
     ]
    },
    {
     "name": "stdout",
     "output_type": "stream",
     "text": [
      "2472.txt\n",
      "2473.txt\n",
      "2474.txt\n",
      "2475.txt\n",
      "2476.txt\n",
      "2477.txt\n"
     ]
    },
    {
     "name": "stderr",
     "output_type": "stream",
     "text": [
      " 19%|█▉        | 2019/10742 [01:11<05:07, 28.32it/s]"
     ]
    },
    {
     "name": "stdout",
     "output_type": "stream",
     "text": [
      "2478.txt\n",
      "2479.txt\n",
      "2480.txt\n",
      "2481.txt\n",
      "2482.txt\n",
      "2483.txt\n"
     ]
    },
    {
     "name": "stderr",
     "output_type": "stream",
     "text": [
      " 19%|█▉        | 2025/10742 [01:12<05:24, 26.84it/s]"
     ]
    },
    {
     "name": "stdout",
     "output_type": "stream",
     "text": [
      "2484.txt\n",
      "2485.txt\n",
      "2486.txt\n",
      "2487.txt\n",
      "2488.txt\n",
      "2489.txt\n"
     ]
    },
    {
     "name": "stderr",
     "output_type": "stream",
     "text": [
      " 19%|█▉        | 2031/10742 [01:12<05:26, 26.66it/s]"
     ]
    },
    {
     "name": "stdout",
     "output_type": "stream",
     "text": [
      "2490.txt\n",
      "2491.txt\n",
      "2492.txt\n",
      "2493.txt\n",
      "2494.txt\n",
      "2495.txt\n"
     ]
    },
    {
     "name": "stderr",
     "output_type": "stream",
     "text": [
      " 19%|█▉        | 2038/10742 [01:12<05:11, 27.92it/s]"
     ]
    },
    {
     "name": "stdout",
     "output_type": "stream",
     "text": [
      "2496.txt\n",
      "2497.txt\n",
      "2498.txt\n",
      "2499.txt\n",
      "2500.txt\n",
      "2501.txt\n",
      "2502.txt\n"
     ]
    },
    {
     "name": "stderr",
     "output_type": "stream",
     "text": [
      " 19%|█▉        | 2045/10742 [01:12<05:02, 28.75it/s]"
     ]
    },
    {
     "name": "stdout",
     "output_type": "stream",
     "text": [
      "2503.txt\n",
      "2504.txt\n",
      "2505.txt\n",
      "2506.txt\n",
      "2507.txt\n",
      "2508.txt\n",
      "2509.txt\n"
     ]
    },
    {
     "name": "stderr",
     "output_type": "stream",
     "text": [
      " 19%|█▉        | 2053/10742 [01:13<04:47, 30.25it/s]"
     ]
    },
    {
     "name": "stdout",
     "output_type": "stream",
     "text": [
      "2510.txt\n",
      "2511.txt\n",
      "2512.txt\n",
      "2513.txt\n",
      "2514.txt\n",
      "2515.txt\n",
      "2516.txt\n"
     ]
    },
    {
     "name": "stderr",
     "output_type": "stream",
     "text": [
      " 19%|█▉        | 2061/10742 [01:13<04:39, 31.09it/s]"
     ]
    },
    {
     "name": "stdout",
     "output_type": "stream",
     "text": [
      "2517.txt\n",
      "2518.txt\n",
      "2519.txt\n",
      "2520.txt\n",
      "2521.txt\n",
      "2522.txt\n",
      "2523.txt\n"
     ]
    },
    {
     "name": "stderr",
     "output_type": "stream",
     "text": [
      " 19%|█▉        | 2069/10742 [01:13<04:36, 31.38it/s]"
     ]
    },
    {
     "name": "stdout",
     "output_type": "stream",
     "text": [
      "2524.txt\n",
      "2525.txt\n",
      "2526.txt\n",
      "2527.txt\n",
      "2528.txt\n",
      "2529.txt\n",
      "2530.txt\n"
     ]
    },
    {
     "name": "stderr",
     "output_type": "stream",
     "text": [
      "\r",
      " 19%|█▉        | 2073/10742 [01:13<04:35, 31.44it/s]"
     ]
    },
    {
     "name": "stdout",
     "output_type": "stream",
     "text": [
      "2531.txt\n",
      "2532.txt\n",
      "2533.txt\n",
      "2534.txt\n",
      "2535.txt\n",
      "2536.txt\n",
      "2537.txt\n"
     ]
    },
    {
     "name": "stderr",
     "output_type": "stream",
     "text": [
      " 19%|█▉        | 2081/10742 [01:13<04:33, 31.62it/s]"
     ]
    },
    {
     "name": "stdout",
     "output_type": "stream",
     "text": [
      "2538.txt\n",
      "2539.txt\n",
      "2540.txt\n",
      "2541.txt\n",
      "2542.txt\n",
      "2543.txt\n",
      "2544.txt\n"
     ]
    },
    {
     "name": "stderr",
     "output_type": "stream",
     "text": [
      " 19%|█▉        | 2089/10742 [01:14<04:31, 31.90it/s]"
     ]
    },
    {
     "name": "stdout",
     "output_type": "stream",
     "text": [
      "2545.txt\n",
      "2546.txt\n",
      "2547.txt\n",
      "2548.txt\n",
      "2549.txt\n",
      "2550.txt\n",
      "2551.txt\n"
     ]
    },
    {
     "name": "stderr",
     "output_type": "stream",
     "text": [
      "\r",
      " 19%|█▉        | 2093/10742 [01:14<04:32, 31.73it/s]"
     ]
    },
    {
     "name": "stdout",
     "output_type": "stream",
     "text": [
      "2552.txt\n",
      "2553.txt\n",
      "2554.txt\n",
      "2555.txt\n",
      "2556.txt\n",
      "2557.txt\n",
      "2558.txt\n"
     ]
    },
    {
     "name": "stderr",
     "output_type": "stream",
     "text": [
      " 20%|█▉        | 2101/10742 [01:14<04:52, 29.59it/s]"
     ]
    },
    {
     "name": "stdout",
     "output_type": "stream",
     "text": [
      "2559.txt\n",
      "2560.txt\n",
      "2561.txt\n",
      "2562.txt\n",
      "2563.txt\n",
      "2564.txt\n"
     ]
    },
    {
     "name": "stderr",
     "output_type": "stream",
     "text": [
      " 20%|█▉        | 2107/10742 [01:14<05:10, 27.81it/s]"
     ]
    },
    {
     "name": "stdout",
     "output_type": "stream",
     "text": [
      "2565.txt\n",
      "2566.txt\n",
      "2567.txt\n",
      "2568.txt\n",
      "2569.txt\n",
      "2570.txt\n"
     ]
    },
    {
     "name": "stderr",
     "output_type": "stream",
     "text": [
      " 20%|█▉        | 2113/10742 [01:15<05:18, 27.07it/s]"
     ]
    },
    {
     "name": "stdout",
     "output_type": "stream",
     "text": [
      "2571.txt\n",
      "2572.txt\n",
      "2573.txt\n",
      "2574.txt\n",
      "2575.txt\n",
      "2576.txt\n"
     ]
    },
    {
     "name": "stderr",
     "output_type": "stream",
     "text": [
      " 20%|█▉        | 2119/10742 [01:15<05:26, 26.40it/s]"
     ]
    },
    {
     "name": "stdout",
     "output_type": "stream",
     "text": [
      "2577.txt\n",
      "2578.txt\n",
      "2579.txt\n",
      "2580.txt\n",
      "2581.txt\n",
      "2582.txt\n",
      "2583.txt\n"
     ]
    },
    {
     "name": "stderr",
     "output_type": "stream",
     "text": [
      " 20%|█▉        | 2127/10742 [01:15<04:58, 28.91it/s]"
     ]
    },
    {
     "name": "stdout",
     "output_type": "stream",
     "text": [
      "2584.txt\n",
      "2585.txt\n",
      "2586.txt\n",
      "2587.txt\n",
      "2588.txt\n",
      "2589.txt\n",
      "2590.txt\n"
     ]
    },
    {
     "name": "stderr",
     "output_type": "stream",
     "text": [
      " 20%|█▉        | 2134/10742 [01:15<04:58, 28.79it/s]"
     ]
    },
    {
     "name": "stdout",
     "output_type": "stream",
     "text": [
      "2591.txt\n",
      "2592.txt\n",
      "2593.txt\n",
      "2594.txt\n",
      "2595.txt\n",
      "2596.txt\n",
      "2597.txt\n"
     ]
    },
    {
     "name": "stderr",
     "output_type": "stream",
     "text": [
      " 20%|█▉        | 2142/10742 [01:16<04:44, 30.27it/s]"
     ]
    },
    {
     "name": "stdout",
     "output_type": "stream",
     "text": [
      "2598.txt\n",
      "2599.txt\n",
      "2600.txt\n",
      "2601.txt\n",
      "2602.txt\n",
      "2603.txt\n"
     ]
    },
    {
     "name": "stderr",
     "output_type": "stream",
     "text": [
      "\r",
      " 20%|█▉        | 2146/10742 [01:16<04:47, 29.95it/s]"
     ]
    },
    {
     "name": "stdout",
     "output_type": "stream",
     "text": [
      "2604.txt\n",
      "2605.txt\n",
      "2606.txt\n",
      "2607.txt\n",
      "2608.txt\n",
      "2609.txt\n",
      "2610.txt\n"
     ]
    },
    {
     "name": "stderr",
     "output_type": "stream",
     "text": [
      " 20%|██        | 2154/10742 [01:16<04:38, 30.82it/s]"
     ]
    },
    {
     "name": "stdout",
     "output_type": "stream",
     "text": [
      "2611.txt\n",
      "2612.txt\n",
      "2613.txt\n",
      "2614.txt\n",
      "2615.txt\n",
      "2616.txt\n",
      "2617.txt\n"
     ]
    },
    {
     "name": "stderr",
     "output_type": "stream",
     "text": [
      " 20%|██        | 2162/10742 [01:16<04:36, 31.02it/s]"
     ]
    },
    {
     "name": "stdout",
     "output_type": "stream",
     "text": [
      "2618.txt\n",
      "2619.txt\n",
      "2620.txt\n",
      "2621.txt\n",
      "2622.txt\n",
      "2623.txt\n",
      "2624.txt\n",
      "2625.txt\n"
     ]
    },
    {
     "name": "stderr",
     "output_type": "stream",
     "text": [
      " 20%|██        | 2170/10742 [01:16<04:31, 31.63it/s]"
     ]
    },
    {
     "name": "stdout",
     "output_type": "stream",
     "text": [
      "2626.txt\n",
      "2627.txt\n",
      "2628.txt\n",
      "2629.txt\n",
      "2630.txt\n",
      "2631.txt\n",
      "2632.txt\n"
     ]
    },
    {
     "name": "stderr",
     "output_type": "stream",
     "text": [
      " 20%|██        | 2178/10742 [01:17<04:30, 31.69it/s]"
     ]
    },
    {
     "name": "stdout",
     "output_type": "stream",
     "text": [
      "2633.txt\n",
      "2634.txt\n",
      "2635.txt\n",
      "2636.txt\n",
      "2637.txt\n",
      "2638.txt\n",
      "2639.txt\n"
     ]
    },
    {
     "name": "stderr",
     "output_type": "stream",
     "text": [
      "\r",
      " 20%|██        | 2182/10742 [01:17<04:29, 31.81it/s]"
     ]
    },
    {
     "name": "stdout",
     "output_type": "stream",
     "text": [
      "2640.txt\n",
      "2641.txt\n",
      "2642.txt\n",
      "2643.txt\n",
      "2644.txt\n",
      "2645.txt\n"
     ]
    },
    {
     "name": "stderr",
     "output_type": "stream",
     "text": [
      " 20%|██        | 2189/10742 [01:17<05:02, 28.32it/s]"
     ]
    },
    {
     "name": "stdout",
     "output_type": "stream",
     "text": [
      "2646.txt\n",
      "2647.txt\n",
      "2648.txt\n",
      "2649.txt\n",
      "2650.txt\n"
     ]
    },
    {
     "name": "stderr",
     "output_type": "stream",
     "text": [
      "\r",
      " 20%|██        | 2192/10742 [01:17<05:10, 27.52it/s]"
     ]
    },
    {
     "name": "stdout",
     "output_type": "stream",
     "text": [
      "2651.txt\n",
      "2652.txt\n",
      "2653.txt\n",
      "2654.txt\n",
      "2655.txt\n"
     ]
    },
    {
     "name": "stderr",
     "output_type": "stream",
     "text": [
      " 20%|██        | 2198/10742 [01:17<05:21, 26.54it/s]"
     ]
    },
    {
     "name": "stdout",
     "output_type": "stream",
     "text": [
      "2656.txt\n",
      "2657.txt\n",
      "2658.txt\n",
      "2659.txt\n",
      "2660.txt\n",
      "2661.txt\n"
     ]
    },
    {
     "name": "stderr",
     "output_type": "stream",
     "text": [
      " 21%|██        | 2204/10742 [01:18<05:27, 26.05it/s]"
     ]
    },
    {
     "name": "stdout",
     "output_type": "stream",
     "text": [
      "2662.txt\n",
      "2663.txt\n",
      "2664.txt\n",
      "2665.txt\n",
      "2666.txt\n",
      "2667.txt\n",
      "2668.txt\n"
     ]
    },
    {
     "name": "stderr",
     "output_type": "stream",
     "text": [
      " 21%|██        | 2212/10742 [01:18<04:56, 28.74it/s]"
     ]
    },
    {
     "name": "stdout",
     "output_type": "stream",
     "text": [
      "2669.txt\n",
      "2670.txt\n",
      "2671.txt\n",
      "2672.txt\n",
      "2673.txt\n",
      "2674.txt\n",
      "2675.txt\n"
     ]
    },
    {
     "name": "stderr",
     "output_type": "stream",
     "text": [
      " 21%|██        | 2219/10742 [01:18<04:50, 29.29it/s]"
     ]
    },
    {
     "name": "stdout",
     "output_type": "stream",
     "text": [
      "2676.txt\n",
      "2677.txt\n",
      "2678.txt\n",
      "2679.txt\n",
      "2680.txt\n",
      "2681.txt\n",
      "2682.txt\n"
     ]
    },
    {
     "name": "stderr",
     "output_type": "stream",
     "text": [
      " 21%|██        | 2226/10742 [01:18<04:43, 30.07it/s]"
     ]
    },
    {
     "name": "stdout",
     "output_type": "stream",
     "text": [
      "2683.txt\n",
      "2684.txt\n",
      "2685.txt\n",
      "2686.txt\n",
      "2687.txt\n",
      "2688.txt\n",
      "2689.txt\n"
     ]
    },
    {
     "name": "stderr",
     "output_type": "stream",
     "text": [
      " 21%|██        | 2234/10742 [01:19<04:36, 30.78it/s]"
     ]
    },
    {
     "name": "stdout",
     "output_type": "stream",
     "text": [
      "2690.txt\n",
      "2691.txt\n",
      "2692.txt\n",
      "2693.txt\n",
      "2694.txt\n",
      "2695.txt\n",
      "2696.txt\n"
     ]
    },
    {
     "name": "stderr",
     "output_type": "stream",
     "text": [
      "\r",
      " 21%|██        | 2238/10742 [01:19<04:35, 30.84it/s]"
     ]
    },
    {
     "name": "stdout",
     "output_type": "stream",
     "text": [
      "2697.txt\n",
      "2698.txt\n",
      "2699.txt\n",
      "2700.txt\n",
      "2701.txt\n",
      "2702.txt\n",
      "2703.txt\n"
     ]
    },
    {
     "name": "stderr",
     "output_type": "stream",
     "text": [
      " 21%|██        | 2246/10742 [01:19<04:32, 31.12it/s]"
     ]
    },
    {
     "name": "stdout",
     "output_type": "stream",
     "text": [
      "2704.txt\n",
      "2705.txt\n",
      "2706.txt\n",
      "2707.txt\n",
      "2708.txt\n",
      "2709.txt\n",
      "2710.txt\n"
     ]
    },
    {
     "name": "stderr",
     "output_type": "stream",
     "text": [
      " 21%|██        | 2254/10742 [01:19<04:30, 31.38it/s]"
     ]
    },
    {
     "name": "stdout",
     "output_type": "stream",
     "text": [
      "2711.txt\n",
      "2712.txt\n",
      "2713.txt\n",
      "2714.txt\n",
      "2715.txt\n",
      "2716.txt\n",
      "2717.txt\n"
     ]
    },
    {
     "name": "stderr",
     "output_type": "stream",
     "text": [
      " 21%|██        | 2262/10742 [01:20<04:27, 31.66it/s]"
     ]
    },
    {
     "name": "stdout",
     "output_type": "stream",
     "text": [
      "2718.txt\n",
      "2719.txt\n",
      "2720.txt\n",
      "2721.txt\n",
      "2722.txt\n",
      "2723.txt\n",
      "2724.txt\n",
      "2725.txt\n"
     ]
    },
    {
     "name": "stderr",
     "output_type": "stream",
     "text": [
      " 21%|██        | 2270/10742 [01:20<04:46, 29.54it/s]"
     ]
    },
    {
     "name": "stdout",
     "output_type": "stream",
     "text": [
      "2726.txt\n",
      "2727.txt\n",
      "2728.txt\n",
      "2729.txt\n",
      "2730.txt\n",
      "2731.txt\n"
     ]
    },
    {
     "name": "stderr",
     "output_type": "stream",
     "text": [
      "\r",
      " 21%|██        | 2273/10742 [01:20<05:09, 27.37it/s]"
     ]
    },
    {
     "name": "stdout",
     "output_type": "stream",
     "text": [
      "2732.txt\n",
      "2733.txt\n",
      "2734.txt\n",
      "2735.txt\n",
      "2736.txt\n"
     ]
    },
    {
     "name": "stderr",
     "output_type": "stream",
     "text": [
      " 21%|██        | 2279/10742 [01:20<05:49, 24.19it/s]"
     ]
    },
    {
     "name": "stdout",
     "output_type": "stream",
     "text": [
      "2737.txt\n",
      "2738.txt\n",
      "2739.txt\n",
      "2740.txt\n",
      "2741.txt\n",
      "2742.txt\n"
     ]
    },
    {
     "name": "stderr",
     "output_type": "stream",
     "text": [
      " 21%|██▏       | 2285/10742 [01:21<05:55, 23.77it/s]"
     ]
    },
    {
     "name": "stdout",
     "output_type": "stream",
     "text": [
      "2743.txt\n",
      "2744.txt\n",
      "2745.txt\n",
      "2746.txt\n",
      "2747.txt\n"
     ]
    },
    {
     "name": "stderr",
     "output_type": "stream",
     "text": [
      " 21%|██▏       | 2291/10742 [01:21<05:47, 24.31it/s]"
     ]
    },
    {
     "name": "stdout",
     "output_type": "stream",
     "text": [
      "2748.txt\n",
      "2749.txt\n",
      "2750.txt\n",
      "2751.txt\n",
      "2752.txt\n"
     ]
    },
    {
     "name": "stderr",
     "output_type": "stream",
     "text": [
      " 21%|██▏       | 2297/10742 [01:21<05:16, 26.65it/s]"
     ]
    },
    {
     "name": "stdout",
     "output_type": "stream",
     "text": [
      "2753.txt\n",
      "2754.txt\n",
      "2755.txt\n",
      "2756.txt\n",
      "2757.txt\n",
      "2758.txt\n"
     ]
    },
    {
     "name": "stderr",
     "output_type": "stream",
     "text": [
      "\r",
      " 21%|██▏       | 2300/10742 [01:21<05:15, 26.78it/s]"
     ]
    },
    {
     "name": "stdout",
     "output_type": "stream",
     "text": [
      "2759.txt\n",
      "2760.txt\n",
      "2761.txt\n",
      "2762.txt\n",
      "2763.txt\n",
      "2764.txt\n"
     ]
    },
    {
     "name": "stderr",
     "output_type": "stream",
     "text": [
      " 21%|██▏       | 2306/10742 [01:21<05:13, 26.88it/s]"
     ]
    },
    {
     "name": "stdout",
     "output_type": "stream",
     "text": [
      "2765.txt\n",
      "2766.txt\n",
      "2767.txt\n",
      "2768.txt\n",
      "2769.txt\n",
      "2770.txt\n"
     ]
    },
    {
     "name": "stderr",
     "output_type": "stream",
     "text": [
      " 22%|██▏       | 2312/10742 [01:22<05:07, 27.41it/s]"
     ]
    },
    {
     "name": "stdout",
     "output_type": "stream",
     "text": [
      "2771.txt\n",
      "2772.txt\n",
      "2773.txt\n",
      "2774.txt\n",
      "2775.txt\n",
      "2776.txt\n"
     ]
    },
    {
     "name": "stderr",
     "output_type": "stream",
     "text": [
      " 22%|██▏       | 2319/10742 [01:22<04:51, 28.86it/s]"
     ]
    },
    {
     "name": "stdout",
     "output_type": "stream",
     "text": [
      "2777.txt\n",
      "2778.txt\n",
      "2779.txt\n",
      "2780.txt\n",
      "2781.txt\n",
      "2782.txt\n",
      "2783.txt\n"
     ]
    },
    {
     "name": "stderr",
     "output_type": "stream",
     "text": [
      " 22%|██▏       | 2327/10742 [01:22<04:36, 30.48it/s]"
     ]
    },
    {
     "name": "stdout",
     "output_type": "stream",
     "text": [
      "2784.txt\n",
      "2785.txt\n",
      "2786.txt\n",
      "2787.txt\n",
      "2788.txt\n",
      "2789.txt\n",
      "2790.txt\n"
     ]
    },
    {
     "name": "stderr",
     "output_type": "stream",
     "text": [
      " 22%|██▏       | 2335/10742 [01:22<04:34, 30.64it/s]"
     ]
    },
    {
     "name": "stdout",
     "output_type": "stream",
     "text": [
      "2791.txt\n",
      "2792.txt\n",
      "2793.txt\n",
      "2794.txt\n",
      "2795.txt\n",
      "2796.txt\n",
      "2797.txt\n"
     ]
    },
    {
     "name": "stderr",
     "output_type": "stream",
     "text": [
      "\r",
      " 22%|██▏       | 2339/10742 [01:22<04:30, 31.07it/s]"
     ]
    },
    {
     "name": "stdout",
     "output_type": "stream",
     "text": [
      "2798.txt\n",
      "2799.txt\n",
      "2800.txt\n",
      "2801.txt\n",
      "2802.txt\n",
      "2803.txt\n",
      "2804.txt\n"
     ]
    },
    {
     "name": "stderr",
     "output_type": "stream",
     "text": [
      " 22%|██▏       | 2347/10742 [01:23<04:31, 30.94it/s]"
     ]
    },
    {
     "name": "stdout",
     "output_type": "stream",
     "text": [
      "2805.txt\n",
      "2806.txt\n",
      "2807.txt\n",
      "2808.txt\n",
      "2809.txt\n",
      "2810.txt\n"
     ]
    },
    {
     "name": "stderr",
     "output_type": "stream",
     "text": [
      " 22%|██▏       | 2354/10742 [01:23<05:05, 27.49it/s]"
     ]
    },
    {
     "name": "stdout",
     "output_type": "stream",
     "text": [
      "2811.txt\n",
      "2812.txt\n",
      "2813.txt\n",
      "2814.txt\n",
      "2815.txt\n"
     ]
    },
    {
     "name": "stderr",
     "output_type": "stream",
     "text": [
      "\r",
      " 22%|██▏       | 2357/10742 [01:23<05:16, 26.45it/s]"
     ]
    },
    {
     "name": "stdout",
     "output_type": "stream",
     "text": [
      "2816.txt\n",
      "2817.txt\n",
      "2818.txt\n",
      "2819.txt\n",
      "2820.txt\n",
      "2821.txt\n"
     ]
    },
    {
     "name": "stderr",
     "output_type": "stream",
     "text": [
      " 22%|██▏       | 2363/10742 [01:23<05:20, 26.15it/s]"
     ]
    },
    {
     "name": "stdout",
     "output_type": "stream",
     "text": [
      "2822.txt\n",
      "2823.txt\n",
      "2824.txt\n",
      "2825.txt\n",
      "2826.txt\n",
      "2827.txt\n"
     ]
    },
    {
     "name": "stderr",
     "output_type": "stream",
     "text": [
      " 22%|██▏       | 2369/10742 [01:24<05:31, 25.27it/s]"
     ]
    },
    {
     "name": "stdout",
     "output_type": "stream",
     "text": [
      "2828.txt\n",
      "2829.txt\n",
      "2830.txt\n",
      "2831.txt\n",
      "2832.txt\n",
      "2833.txt\n"
     ]
    },
    {
     "name": "stderr",
     "output_type": "stream",
     "text": [
      " 22%|██▏       | 2377/10742 [01:24<04:53, 28.51it/s]"
     ]
    },
    {
     "name": "stdout",
     "output_type": "stream",
     "text": [
      "2834.txt\n",
      "2835.txt\n",
      "2836.txt\n",
      "2837.txt\n",
      "2838.txt\n",
      "2839.txt\n",
      "2840.txt\n"
     ]
    },
    {
     "name": "stderr",
     "output_type": "stream",
     "text": [
      " 22%|██▏       | 2384/10742 [01:24<04:44, 29.36it/s]"
     ]
    },
    {
     "name": "stdout",
     "output_type": "stream",
     "text": [
      "2841.txt\n",
      "2842.txt\n",
      "2843.txt\n",
      "2844.txt\n",
      "2845.txt\n",
      "2846.txt\n",
      "2847.txt\n"
     ]
    },
    {
     "name": "stderr",
     "output_type": "stream",
     "text": [
      " 22%|██▏       | 2391/10742 [01:24<04:46, 29.20it/s]"
     ]
    },
    {
     "name": "stdout",
     "output_type": "stream",
     "text": [
      "2848.txt\n",
      "2849.txt\n",
      "2850.txt\n",
      "2851.txt\n",
      "2852.txt\n",
      "2853.txt\n",
      "2854.txt\n"
     ]
    },
    {
     "name": "stderr",
     "output_type": "stream",
     "text": [
      " 22%|██▏       | 2399/10742 [01:25<04:35, 30.24it/s]"
     ]
    },
    {
     "name": "stdout",
     "output_type": "stream",
     "text": [
      "2855.txt\n",
      "2856.txt\n",
      "2857.txt\n",
      "2858.txt\n",
      "2859.txt\n",
      "2860.txt\n"
     ]
    },
    {
     "name": "stderr",
     "output_type": "stream",
     "text": [
      "\r",
      " 22%|██▏       | 2403/10742 [01:25<04:34, 30.43it/s]"
     ]
    },
    {
     "name": "stdout",
     "output_type": "stream",
     "text": [
      "2861.txt\n",
      "2862.txt\n",
      "2863.txt\n",
      "2864.txt\n",
      "2865.txt\n",
      "2866.txt\n",
      "2867.txt\n"
     ]
    },
    {
     "name": "stderr",
     "output_type": "stream",
     "text": [
      " 22%|██▏       | 2411/10742 [01:25<04:31, 30.70it/s]"
     ]
    },
    {
     "name": "stdout",
     "output_type": "stream",
     "text": [
      "2868.txt\n",
      "2869.txt\n",
      "2870.txt\n",
      "2871.txt\n",
      "2872.txt\n",
      "2873.txt\n",
      "2874.txt\n"
     ]
    },
    {
     "name": "stderr",
     "output_type": "stream",
     "text": [
      " 23%|██▎       | 2419/10742 [01:25<04:27, 31.15it/s]"
     ]
    },
    {
     "name": "stdout",
     "output_type": "stream",
     "text": [
      "2875.txt\n",
      "2876.txt\n",
      "2877.txt\n",
      "2878.txt\n",
      "2879.txt\n",
      "2880.txt\n"
     ]
    },
    {
     "name": "stderr",
     "output_type": "stream",
     "text": [
      "\r",
      " 23%|██▎       | 2423/10742 [01:25<04:26, 31.20it/s]"
     ]
    },
    {
     "name": "stdout",
     "output_type": "stream",
     "text": [
      "2881.txt\n",
      "2882.txt\n",
      "2883.txt\n",
      "2884.txt\n",
      "2885.txt\n",
      "2886.txt\n",
      "2887.txt\n"
     ]
    },
    {
     "name": "stderr",
     "output_type": "stream",
     "text": [
      " 23%|██▎       | 2431/10742 [01:26<04:26, 31.20it/s]"
     ]
    },
    {
     "name": "stdout",
     "output_type": "stream",
     "text": [
      "2888.txt\n",
      "2889.txt\n",
      "2890.txt\n",
      "2891.txt\n",
      "2892.txt\n",
      "2893.txt\n",
      "2894.txt\n"
     ]
    },
    {
     "name": "stderr",
     "output_type": "stream",
     "text": [
      "\r",
      " 23%|██▎       | 2435/10742 [01:26<04:57, 27.96it/s]"
     ]
    },
    {
     "name": "stdout",
     "output_type": "stream",
     "text": [
      "2895.txt\n",
      "2896.txt\n",
      "2897.txt\n",
      "2898.txt\n",
      "2899.txt\n"
     ]
    },
    {
     "name": "stderr",
     "output_type": "stream",
     "text": [
      " 23%|██▎       | 2441/10742 [01:26<05:15, 26.29it/s]"
     ]
    },
    {
     "name": "stdout",
     "output_type": "stream",
     "text": [
      "2900.txt\n",
      "2901.txt\n",
      "2902.txt\n",
      "2903.txt\n",
      "2904.txt\n",
      "2905.txt\n"
     ]
    },
    {
     "name": "stderr",
     "output_type": "stream",
     "text": [
      " 23%|██▎       | 2447/10742 [01:26<05:21, 25.84it/s]"
     ]
    },
    {
     "name": "stdout",
     "output_type": "stream",
     "text": [
      "2906.txt\n",
      "2907.txt\n",
      "2908.txt\n",
      "2909.txt\n",
      "2910.txt\n",
      "2911.txt\n"
     ]
    },
    {
     "name": "stderr",
     "output_type": "stream",
     "text": [
      " 23%|██▎       | 2453/10742 [01:26<05:14, 26.33it/s]"
     ]
    },
    {
     "name": "stdout",
     "output_type": "stream",
     "text": [
      "2912.txt\n",
      "2913.txt\n",
      "2914.txt\n",
      "2915.txt\n",
      "2916.txt\n",
      "2917.txt\n"
     ]
    },
    {
     "name": "stderr",
     "output_type": "stream",
     "text": [
      " 23%|██▎       | 2459/10742 [01:27<05:14, 26.32it/s]"
     ]
    },
    {
     "name": "stdout",
     "output_type": "stream",
     "text": [
      "2918.txt\n",
      "2919.txt\n",
      "2920.txt\n",
      "2921.txt\n",
      "2922.txt\n",
      "2923.txt\n"
     ]
    },
    {
     "name": "stderr",
     "output_type": "stream",
     "text": [
      " 23%|██▎       | 2465/10742 [01:27<05:30, 25.05it/s]"
     ]
    },
    {
     "name": "stdout",
     "output_type": "stream",
     "text": [
      "2924.txt\n",
      "2925.txt\n",
      "2926.txt\n",
      "2927.txt\n",
      "2928.txt\n"
     ]
    },
    {
     "name": "stderr",
     "output_type": "stream",
     "text": [
      " 23%|██▎       | 2472/10742 [01:27<05:06, 26.99it/s]"
     ]
    },
    {
     "name": "stdout",
     "output_type": "stream",
     "text": [
      "2929.txt\n",
      "2930.txt\n",
      "2931.txt\n",
      "2932.txt\n",
      "2933.txt\n",
      "2934.txt\n"
     ]
    },
    {
     "name": "stderr",
     "output_type": "stream",
     "text": [
      " 23%|██▎       | 2479/10742 [01:27<04:58, 27.69it/s]"
     ]
    },
    {
     "name": "stdout",
     "output_type": "stream",
     "text": [
      "2935.txt\n",
      "2936.txt\n",
      "2937.txt\n",
      "2938.txt\n",
      "2939.txt\n",
      "2940.txt\n"
     ]
    },
    {
     "name": "stderr",
     "output_type": "stream",
     "text": [
      "\r",
      " 23%|██▎       | 2482/10742 [01:28<04:57, 27.79it/s]"
     ]
    },
    {
     "name": "stdout",
     "output_type": "stream",
     "text": [
      "2941.txt\n",
      "2942.txt\n",
      "2943.txt\n",
      "2944.txt\n",
      "2945.txt\n"
     ]
    },
    {
     "name": "stderr",
     "output_type": "stream",
     "text": [
      " 23%|██▎       | 2488/10742 [01:28<05:11, 26.47it/s]"
     ]
    },
    {
     "name": "stdout",
     "output_type": "stream",
     "text": [
      "2946.txt\n",
      "2947.txt\n",
      "2948.txt\n",
      "2949.txt\n",
      "2950.txt\n",
      "2951.txt\n",
      "2952.txt\n"
     ]
    },
    {
     "name": "stderr",
     "output_type": "stream",
     "text": [
      " 23%|██▎       | 2495/10742 [01:28<05:07, 26.79it/s]"
     ]
    },
    {
     "name": "stdout",
     "output_type": "stream",
     "text": [
      "2953.txt\n",
      "2954.txt\n",
      "2955.txt\n",
      "2956.txt\n",
      "2957.txt\n",
      "2958.txt\n"
     ]
    },
    {
     "name": "stderr",
     "output_type": "stream",
     "text": [
      " 23%|██▎       | 2502/10742 [01:28<04:47, 28.66it/s]"
     ]
    },
    {
     "name": "stdout",
     "output_type": "stream",
     "text": [
      "2959.txt\n",
      "2960.txt\n",
      "2961.txt\n",
      "2962.txt\n",
      "2963.txt\n",
      "2964.txt\n",
      "2965.txt\n"
     ]
    },
    {
     "name": "stderr",
     "output_type": "stream",
     "text": [
      " 23%|██▎       | 2509/10742 [01:29<04:50, 28.30it/s]"
     ]
    },
    {
     "name": "stdout",
     "output_type": "stream",
     "text": [
      "2966.txt\n",
      "2967.txt\n",
      "2968.txt\n",
      "2969.txt\n",
      "2970.txt\n",
      "2971.txt\n"
     ]
    },
    {
     "name": "stderr",
     "output_type": "stream",
     "text": [
      " 23%|██▎       | 2515/10742 [01:29<05:05, 26.94it/s]"
     ]
    },
    {
     "name": "stdout",
     "output_type": "stream",
     "text": [
      "2972.txt\n",
      "2973.txt\n",
      "2974.txt\n",
      "2975.txt\n",
      "2976.txt\n"
     ]
    },
    {
     "name": "stderr",
     "output_type": "stream",
     "text": [
      "\r",
      " 23%|██▎       | 2518/10742 [01:29<05:14, 26.18it/s]"
     ]
    },
    {
     "name": "stdout",
     "output_type": "stream",
     "text": [
      "2977.txt\n",
      "2978.txt\n",
      "2979.txt\n",
      "2980.txt\n",
      "2981.txt\n"
     ]
    },
    {
     "name": "stderr",
     "output_type": "stream",
     "text": [
      " 23%|██▎       | 2524/10742 [01:29<06:01, 22.72it/s]"
     ]
    },
    {
     "name": "stdout",
     "output_type": "stream",
     "text": [
      "2982.txt\n",
      "2983.txt\n",
      "2984.txt\n",
      "2985.txt\n"
     ]
    },
    {
     "name": "stderr",
     "output_type": "stream",
     "text": [
      "\r",
      " 24%|██▎       | 2527/10742 [01:29<05:50, 23.42it/s]"
     ]
    },
    {
     "name": "stdout",
     "output_type": "stream",
     "text": [
      "2986.txt\n",
      "2987.txt\n",
      "2988.txt\n",
      "2989.txt\n",
      "2990.txt\n"
     ]
    },
    {
     "name": "stderr",
     "output_type": "stream",
     "text": [
      " 24%|██▎       | 2533/10742 [01:29<05:25, 25.19it/s]"
     ]
    },
    {
     "name": "stdout",
     "output_type": "stream",
     "text": [
      "2991.txt\n",
      "2992.txt\n",
      "2993.txt\n",
      "2994.txt\n",
      "2995.txt\n",
      "2996.txt\n"
     ]
    },
    {
     "name": "stderr",
     "output_type": "stream",
     "text": [
      " 24%|██▎       | 2539/10742 [01:30<05:25, 25.20it/s]"
     ]
    },
    {
     "name": "stdout",
     "output_type": "stream",
     "text": [
      "2997.txt\n",
      "2998.txt\n",
      "2999.txt\n",
      "3000.txt\n",
      "3001.txt\n",
      "3002.txt\n"
     ]
    },
    {
     "name": "stderr",
     "output_type": "stream",
     "text": [
      " 24%|██▎       | 2547/10742 [01:30<04:46, 28.64it/s]"
     ]
    },
    {
     "name": "stdout",
     "output_type": "stream",
     "text": [
      "3003.txt\n",
      "3004.txt\n",
      "3005.txt\n",
      "3006.txt\n",
      "3007.txt\n",
      "3008.txt\n",
      "3009.txt\n"
     ]
    },
    {
     "name": "stderr",
     "output_type": "stream",
     "text": [
      "\r",
      " 24%|██▎       | 2551/10742 [01:30<04:40, 29.22it/s]"
     ]
    },
    {
     "name": "stdout",
     "output_type": "stream",
     "text": [
      "3010.txt\n",
      "3011.txt\n",
      "3012.txt\n",
      "3013.txt\n",
      "3014.txt\n",
      "3015.txt\n"
     ]
    },
    {
     "name": "stderr",
     "output_type": "stream",
     "text": [
      " 24%|██▍       | 2557/10742 [01:30<05:14, 26.01it/s]"
     ]
    },
    {
     "name": "stdout",
     "output_type": "stream",
     "text": [
      "3016.txt\n",
      "3017.txt\n",
      "3018.txt\n",
      "3019.txt\n",
      "3020.txt\n"
     ]
    },
    {
     "name": "stderr",
     "output_type": "stream",
     "text": [
      " 24%|██▍       | 2564/10742 [01:31<04:48, 28.33it/s]"
     ]
    },
    {
     "name": "stdout",
     "output_type": "stream",
     "text": [
      "3021.txt\n",
      "3022.txt\n",
      "3023.txt\n",
      "3024.txt\n",
      "3025.txt\n",
      "3026.txt\n",
      "3027.txt\n"
     ]
    },
    {
     "name": "stderr",
     "output_type": "stream",
     "text": [
      " 24%|██▍       | 2572/10742 [01:31<04:31, 30.09it/s]"
     ]
    },
    {
     "name": "stdout",
     "output_type": "stream",
     "text": [
      "3028.txt\n",
      "3029.txt\n",
      "3030.txt\n",
      "3031.txt\n",
      "3032.txt\n",
      "3033.txt\n",
      "3034.txt\n"
     ]
    },
    {
     "name": "stderr",
     "output_type": "stream",
     "text": [
      "\r",
      " 24%|██▍       | 2576/10742 [01:31<04:36, 29.55it/s]"
     ]
    },
    {
     "name": "stdout",
     "output_type": "stream",
     "text": [
      "3035.txt\n",
      "3036.txt\n",
      "3037.txt\n",
      "3038.txt\n",
      "3039.txt\n"
     ]
    },
    {
     "name": "stderr",
     "output_type": "stream",
     "text": [
      " 24%|██▍       | 2582/10742 [01:31<04:56, 27.54it/s]"
     ]
    },
    {
     "name": "stdout",
     "output_type": "stream",
     "text": [
      "3040.txt\n",
      "3041.txt\n",
      "3042.txt\n",
      "3043.txt\n",
      "3044.txt\n",
      "3045.txt\n",
      "3046.txt\n"
     ]
    },
    {
     "name": "stderr",
     "output_type": "stream",
     "text": [
      " 24%|██▍       | 2590/10742 [01:32<04:41, 28.92it/s]"
     ]
    },
    {
     "name": "stdout",
     "output_type": "stream",
     "text": [
      "3047.txt\n",
      "3048.txt\n",
      "3049.txt\n",
      "3050.txt\n",
      "3051.txt\n",
      "3052.txt\n",
      "3053.txt\n"
     ]
    },
    {
     "name": "stderr",
     "output_type": "stream",
     "text": [
      " 24%|██▍       | 2596/10742 [01:32<05:03, 26.87it/s]"
     ]
    },
    {
     "name": "stdout",
     "output_type": "stream",
     "text": [
      "3054.txt\n",
      "3055.txt\n",
      "3056.txt\n",
      "3057.txt\n",
      "3058.txt\n",
      "3059.txt\n"
     ]
    },
    {
     "name": "stderr",
     "output_type": "stream",
     "text": [
      " 24%|██▍       | 2602/10742 [01:32<05:07, 26.48it/s]"
     ]
    },
    {
     "name": "stdout",
     "output_type": "stream",
     "text": [
      "3060.txt\n",
      "3061.txt\n",
      "3062.txt\n",
      "3063.txt\n",
      "3064.txt\n",
      "3065.txt\n"
     ]
    },
    {
     "name": "stderr",
     "output_type": "stream",
     "text": [
      " 24%|██▍       | 2608/10742 [01:32<05:22, 25.26it/s]"
     ]
    },
    {
     "name": "stdout",
     "output_type": "stream",
     "text": [
      "3066.txt\n",
      "3067.txt\n",
      "3068.txt\n",
      "3069.txt\n",
      "3070.txt\n",
      "3071.txt\n"
     ]
    },
    {
     "name": "stderr",
     "output_type": "stream",
     "text": [
      " 24%|██▍       | 2615/10742 [01:32<04:57, 27.33it/s]"
     ]
    },
    {
     "name": "stdout",
     "output_type": "stream",
     "text": [
      "3072.txt\n",
      "3073.txt\n",
      "3074.txt\n",
      "3075.txt\n",
      "3076.txt\n",
      "3077.txt\n",
      "3078.txt\n"
     ]
    },
    {
     "name": "stderr",
     "output_type": "stream",
     "text": [
      " 24%|██▍       | 2622/10742 [01:33<04:37, 29.30it/s]"
     ]
    },
    {
     "name": "stdout",
     "output_type": "stream",
     "text": [
      "3079.txt\n",
      "3080.txt\n",
      "3081.txt\n",
      "3082.txt\n",
      "3083.txt\n",
      "3084.txt\n",
      "3085.txt\n"
     ]
    },
    {
     "name": "stderr",
     "output_type": "stream",
     "text": [
      " 24%|██▍       | 2630/10742 [01:33<04:24, 30.72it/s]"
     ]
    },
    {
     "name": "stdout",
     "output_type": "stream",
     "text": [
      "3086.txt\n",
      "3087.txt\n",
      "3088.txt\n",
      "3089.txt\n",
      "3090.txt\n",
      "3091.txt\n"
     ]
    },
    {
     "name": "stderr",
     "output_type": "stream",
     "text": [
      "\r",
      " 25%|██▍       | 2634/10742 [01:33<04:20, 31.17it/s]"
     ]
    },
    {
     "name": "stdout",
     "output_type": "stream",
     "text": [
      "3092.txt\n",
      "3093.txt\n",
      "3094.txt\n",
      "3095.txt\n",
      "3096.txt\n",
      "3097.txt\n",
      "3098.txt\n"
     ]
    },
    {
     "name": "stderr",
     "output_type": "stream",
     "text": [
      " 25%|██▍       | 2642/10742 [01:33<04:25, 30.47it/s]"
     ]
    },
    {
     "name": "stdout",
     "output_type": "stream",
     "text": [
      "3099.txt\n",
      "3100.txt\n",
      "3101.txt\n",
      "3102.txt\n",
      "3103.txt\n",
      "3104.txt\n"
     ]
    },
    {
     "name": "stderr",
     "output_type": "stream",
     "text": [
      " 25%|██▍       | 2650/10742 [01:34<04:16, 31.53it/s]"
     ]
    },
    {
     "name": "stdout",
     "output_type": "stream",
     "text": [
      "3105.txt\n",
      "3106.txt\n",
      "3107.txt\n",
      "3108.txt\n",
      "3109.txt\n",
      "3110.txt\n",
      "3111.txt\n"
     ]
    },
    {
     "name": "stderr",
     "output_type": "stream",
     "text": [
      "\r",
      " 25%|██▍       | 2654/10742 [01:34<04:16, 31.55it/s]"
     ]
    },
    {
     "name": "stdout",
     "output_type": "stream",
     "text": [
      "3112.txt\n",
      "3113.txt\n",
      "3114.txt\n",
      "3115.txt\n",
      "3116.txt\n",
      "3117.txt\n"
     ]
    },
    {
     "name": "stderr",
     "output_type": "stream",
     "text": [
      " 25%|██▍       | 2662/10742 [01:34<04:11, 32.07it/s]"
     ]
    },
    {
     "name": "stdout",
     "output_type": "stream",
     "text": [
      "3118.txt\n",
      "3119.txt\n",
      "3120.txt\n",
      "3121.txt\n",
      "3122.txt\n",
      "3123.txt\n",
      "3124.txt\n",
      "3125.txt\n"
     ]
    },
    {
     "name": "stderr",
     "output_type": "stream",
     "text": [
      " 25%|██▍       | 2670/10742 [01:34<04:14, 31.67it/s]"
     ]
    },
    {
     "name": "stdout",
     "output_type": "stream",
     "text": [
      "3126.txt\n",
      "3127.txt\n",
      "3128.txt\n",
      "3129.txt\n",
      "3130.txt\n",
      "3131.txt\n"
     ]
    },
    {
     "name": "stderr",
     "output_type": "stream",
     "text": [
      "\r",
      " 25%|██▍       | 2674/10742 [01:34<04:14, 31.67it/s]"
     ]
    },
    {
     "name": "stdout",
     "output_type": "stream",
     "text": [
      "3132.txt\n",
      "3133.txt\n",
      "3134.txt\n",
      "3135.txt\n",
      "3136.txt\n",
      "3137.txt\n",
      "3138.txt\n"
     ]
    },
    {
     "name": "stderr",
     "output_type": "stream",
     "text": [
      " 25%|██▍       | 2682/10742 [01:35<04:35, 29.26it/s]"
     ]
    },
    {
     "name": "stdout",
     "output_type": "stream",
     "text": [
      "3139.txt\n",
      "3140.txt\n",
      "3141.txt\n",
      "3142.txt\n",
      "3143.txt\n"
     ]
    },
    {
     "name": "stderr",
     "output_type": "stream",
     "text": [
      "\r",
      " 25%|██▍       | 2685/10742 [01:35<04:53, 27.49it/s]"
     ]
    },
    {
     "name": "stdout",
     "output_type": "stream",
     "text": [
      "3144.txt\n",
      "3145.txt\n",
      "3146.txt\n",
      "3147.txt\n",
      "3148.txt\n"
     ]
    },
    {
     "name": "stderr",
     "output_type": "stream",
     "text": [
      " 25%|██▌       | 2691/10742 [01:35<05:02, 26.58it/s]"
     ]
    },
    {
     "name": "stdout",
     "output_type": "stream",
     "text": [
      "3149.txt\n",
      "3150.txt\n",
      "3151.txt\n",
      "3152.txt\n",
      "3153.txt\n",
      "3154.txt\n"
     ]
    },
    {
     "name": "stderr",
     "output_type": "stream",
     "text": [
      " 25%|██▌       | 2697/10742 [01:35<05:20, 25.11it/s]"
     ]
    },
    {
     "name": "stdout",
     "output_type": "stream",
     "text": [
      "3155.txt\n",
      "3156.txt\n",
      "3157.txt\n",
      "3158.txt\n",
      "3159.txt\n",
      "3160.txt\n"
     ]
    },
    {
     "name": "stderr",
     "output_type": "stream",
     "text": [
      " 25%|██▌       | 2705/10742 [01:35<04:42, 28.44it/s]"
     ]
    },
    {
     "name": "stdout",
     "output_type": "stream",
     "text": [
      "3161.txt\n",
      "3162.txt\n",
      "3163.txt\n",
      "3164.txt\n",
      "3165.txt\n",
      "3166.txt\n",
      "3167.txt\n"
     ]
    },
    {
     "name": "stderr",
     "output_type": "stream",
     "text": [
      " 25%|██▌       | 2712/10742 [01:36<04:33, 29.35it/s]"
     ]
    },
    {
     "name": "stdout",
     "output_type": "stream",
     "text": [
      "3168.txt\n",
      "3169.txt\n",
      "3170.txt\n",
      "3171.txt\n",
      "3172.txt\n",
      "3173.txt\n"
     ]
    },
    {
     "name": "stderr",
     "output_type": "stream",
     "text": [
      " 25%|██▌       | 2718/10742 [01:36<04:34, 29.23it/s]"
     ]
    },
    {
     "name": "stdout",
     "output_type": "stream",
     "text": [
      "3174.txt\n",
      "3175.txt\n",
      "3176.txt\n",
      "3177.txt\n",
      "3178.txt\n",
      "3179.txt\n"
     ]
    },
    {
     "name": "stderr",
     "output_type": "stream",
     "text": [
      "\r",
      " 25%|██▌       | 2721/10742 [01:36<04:45, 28.08it/s]"
     ]
    },
    {
     "name": "stdout",
     "output_type": "stream",
     "text": [
      "3180.txt\n",
      "3181.txt\n",
      "3182.txt\n",
      "3183.txt\n",
      "3184.txt\n"
     ]
    },
    {
     "name": "stderr",
     "output_type": "stream",
     "text": [
      " 25%|██▌       | 2727/10742 [01:36<05:13, 25.60it/s]"
     ]
    },
    {
     "name": "stdout",
     "output_type": "stream",
     "text": [
      "3185.txt\n",
      "3186.txt\n",
      "3187.txt\n",
      "3188.txt\n",
      "3189.txt\n",
      "3190.txt\n"
     ]
    },
    {
     "name": "stderr",
     "output_type": "stream",
     "text": [
      " 25%|██▌       | 2733/10742 [01:37<05:06, 26.16it/s]"
     ]
    },
    {
     "name": "stdout",
     "output_type": "stream",
     "text": [
      "3191.txt\n",
      "3192.txt\n",
      "3193.txt\n",
      "3194.txt\n",
      "3195.txt\n",
      "3196.txt\n"
     ]
    },
    {
     "name": "stderr",
     "output_type": "stream",
     "text": [
      " 26%|██▌       | 2740/10742 [01:37<04:56, 27.03it/s]"
     ]
    },
    {
     "name": "stdout",
     "output_type": "stream",
     "text": [
      "3197.txt\n",
      "3198.txt\n",
      "3199.txt\n",
      "3200.txt\n",
      "3201.txt\n",
      "3202.txt\n"
     ]
    },
    {
     "name": "stderr",
     "output_type": "stream",
     "text": [
      " 26%|██▌       | 2746/10742 [01:37<04:58, 26.83it/s]"
     ]
    },
    {
     "name": "stdout",
     "output_type": "stream",
     "text": [
      "3203.txt\n",
      "3204.txt\n",
      "3205.txt\n",
      "3206.txt\n",
      "3207.txt\n",
      "3208.txt\n"
     ]
    },
    {
     "name": "stderr",
     "output_type": "stream",
     "text": [
      " 26%|██▌       | 2753/10742 [01:37<04:46, 27.93it/s]"
     ]
    },
    {
     "name": "stdout",
     "output_type": "stream",
     "text": [
      "3209.txt\n",
      "3210.txt\n",
      "3211.txt\n",
      "3212.txt\n",
      "3213.txt\n",
      "3214.txt\n"
     ]
    },
    {
     "name": "stderr",
     "output_type": "stream",
     "text": [
      "\r",
      " 26%|██▌       | 2756/10742 [01:37<05:13, 25.43it/s]"
     ]
    },
    {
     "name": "stdout",
     "output_type": "stream",
     "text": [
      "3215.txt\n",
      "3216.txt\n",
      "3217.txt\n",
      "3218.txt\n",
      "3219.txt\n"
     ]
    },
    {
     "name": "stderr",
     "output_type": "stream",
     "text": [
      " 26%|██▌       | 2762/10742 [01:38<05:16, 25.23it/s]"
     ]
    },
    {
     "name": "stdout",
     "output_type": "stream",
     "text": [
      "3220.txt\n",
      "3221.txt\n",
      "3222.txt\n",
      "3223.txt\n",
      "3224.txt\n",
      "3225.txt\n"
     ]
    },
    {
     "name": "stderr",
     "output_type": "stream",
     "text": [
      " 26%|██▌       | 2768/10742 [01:38<05:16, 25.20it/s]"
     ]
    },
    {
     "name": "stdout",
     "output_type": "stream",
     "text": [
      "3226.txt\n",
      "3227.txt\n",
      "3228.txt\n",
      "3229.txt\n",
      "3230.txt\n"
     ]
    },
    {
     "name": "stderr",
     "output_type": "stream",
     "text": [
      " 26%|██▌       | 2774/10742 [01:38<05:25, 24.47it/s]"
     ]
    },
    {
     "name": "stdout",
     "output_type": "stream",
     "text": [
      "3231.txt\n",
      "3232.txt\n",
      "3233.txt\n",
      "3234.txt\n",
      "3235.txt\n"
     ]
    },
    {
     "name": "stderr",
     "output_type": "stream",
     "text": [
      "\r",
      " 26%|██▌       | 2777/10742 [01:38<05:32, 23.94it/s]"
     ]
    },
    {
     "name": "stdout",
     "output_type": "stream",
     "text": [
      "3236.txt\n",
      "3237.txt\n",
      "3238.txt\n",
      "3239.txt\n",
      "3240.txt\n",
      "3241.txt\n"
     ]
    },
    {
     "name": "stderr",
     "output_type": "stream",
     "text": [
      " 26%|██▌       | 2785/10742 [01:39<04:49, 27.48it/s]"
     ]
    },
    {
     "name": "stdout",
     "output_type": "stream",
     "text": [
      "3242.txt\n",
      "3243.txt\n",
      "3244.txt\n",
      "3245.txt\n",
      "3246.txt\n",
      "3247.txt\n",
      "3248.txt\n"
     ]
    },
    {
     "name": "stderr",
     "output_type": "stream",
     "text": [
      " 26%|██▌       | 2792/10742 [01:39<04:35, 28.85it/s]"
     ]
    },
    {
     "name": "stdout",
     "output_type": "stream",
     "text": [
      "3249.txt\n",
      "3250.txt\n",
      "3251.txt\n",
      "3252.txt\n",
      "3253.txt\n",
      "3254.txt\n",
      "3255.txt\n"
     ]
    },
    {
     "name": "stderr",
     "output_type": "stream",
     "text": [
      " 26%|██▌       | 2800/10742 [01:39<04:24, 30.01it/s]"
     ]
    },
    {
     "name": "stdout",
     "output_type": "stream",
     "text": [
      "3256.txt\n",
      "3257.txt\n",
      "3258.txt\n",
      "3259.txt\n",
      "3260.txt\n",
      "3261.txt\n",
      "3262.txt\n"
     ]
    },
    {
     "name": "stderr",
     "output_type": "stream",
     "text": [
      "\r",
      " 26%|██▌       | 2804/10742 [01:39<04:21, 30.40it/s]"
     ]
    },
    {
     "name": "stdout",
     "output_type": "stream",
     "text": [
      "3263.txt\n",
      "3264.txt\n",
      "3265.txt\n",
      "3266.txt\n",
      "3267.txt\n",
      "3268.txt\n"
     ]
    },
    {
     "name": "stderr",
     "output_type": "stream",
     "text": [
      " 26%|██▌       | 2812/10742 [01:39<04:25, 29.82it/s]"
     ]
    },
    {
     "name": "stdout",
     "output_type": "stream",
     "text": [
      "3269.txt\n",
      "3270.txt\n",
      "3271.txt\n",
      "3272.txt\n",
      "3273.txt\n",
      "3274.txt\n"
     ]
    },
    {
     "name": "stderr",
     "output_type": "stream",
     "text": [
      " 26%|██▋       | 2820/10742 [01:40<04:18, 30.59it/s]"
     ]
    },
    {
     "name": "stdout",
     "output_type": "stream",
     "text": [
      "3275.txt\n",
      "3276.txt\n",
      "3277.txt\n",
      "3278.txt\n",
      "3279.txt\n",
      "3280.txt\n",
      "3281.txt\n"
     ]
    },
    {
     "name": "stderr",
     "output_type": "stream",
     "text": [
      "\r",
      " 26%|██▋       | 2824/10742 [01:40<04:16, 30.83it/s]"
     ]
    },
    {
     "name": "stdout",
     "output_type": "stream",
     "text": [
      "3282.txt\n",
      "3283.txt\n",
      "3284.txt\n",
      "3285.txt\n",
      "3286.txt\n",
      "3287.txt\n",
      "3288.txt\n"
     ]
    },
    {
     "name": "stderr",
     "output_type": "stream",
     "text": [
      " 26%|██▋       | 2832/10742 [01:40<04:13, 31.25it/s]"
     ]
    },
    {
     "name": "stdout",
     "output_type": "stream",
     "text": [
      "3289.txt\n",
      "3290.txt\n",
      "3291.txt\n",
      "3292.txt\n",
      "3293.txt\n",
      "3294.txt\n",
      "3295.txt\n"
     ]
    },
    {
     "name": "stderr",
     "output_type": "stream",
     "text": [
      "\r",
      " 26%|██▋       | 2836/10742 [01:40<04:13, 31.21it/s]"
     ]
    },
    {
     "name": "stdout",
     "output_type": "stream",
     "text": [
      "3296.txt\n",
      "3297.txt\n",
      "3298.txt\n",
      "3299.txt\n",
      "3300.txt\n",
      "3301.txt\n"
     ]
    },
    {
     "name": "stderr",
     "output_type": "stream",
     "text": [
      " 26%|██▋       | 2843/10742 [01:40<04:37, 28.42it/s]"
     ]
    },
    {
     "name": "stdout",
     "output_type": "stream",
     "text": [
      "3302.txt\n",
      "3303.txt\n",
      "3304.txt\n",
      "3305.txt\n",
      "3306.txt\n",
      "3307.txt\n"
     ]
    },
    {
     "name": "stderr",
     "output_type": "stream",
     "text": [
      " 27%|██▋       | 2849/10742 [01:41<04:58, 26.40it/s]"
     ]
    },
    {
     "name": "stdout",
     "output_type": "stream",
     "text": [
      "3308.txt\n",
      "3309.txt\n",
      "3310.txt\n",
      "3311.txt\n",
      "3312.txt\n"
     ]
    },
    {
     "name": "stderr",
     "output_type": "stream",
     "text": [
      " 27%|██▋       | 2855/10742 [01:41<05:02, 26.07it/s]"
     ]
    },
    {
     "name": "stdout",
     "output_type": "stream",
     "text": [
      "3313.txt\n",
      "3314.txt\n",
      "3315.txt\n",
      "3316.txt\n",
      "3317.txt\n",
      "3318.txt\n"
     ]
    },
    {
     "name": "stderr",
     "output_type": "stream",
     "text": [
      " 27%|██▋       | 2862/10742 [01:41<04:54, 26.76it/s]"
     ]
    },
    {
     "name": "stdout",
     "output_type": "stream",
     "text": [
      "3319.txt\n",
      "3320.txt\n",
      "3321.txt\n",
      "3322.txt\n",
      "3323.txt\n",
      "3324.txt\n",
      "3325.txt\n"
     ]
    },
    {
     "name": "stderr",
     "output_type": "stream",
     "text": [
      " 27%|██▋       | 2869/10742 [01:41<04:44, 27.63it/s]"
     ]
    },
    {
     "name": "stdout",
     "output_type": "stream",
     "text": [
      "3326.txt\n",
      "3327.txt\n",
      "3328.txt\n",
      "3329.txt\n",
      "3330.txt\n",
      "3331.txt\n",
      "3332.txt\n"
     ]
    },
    {
     "name": "stderr",
     "output_type": "stream",
     "text": [
      " 27%|██▋       | 2877/10742 [01:42<04:24, 29.79it/s]"
     ]
    },
    {
     "name": "stdout",
     "output_type": "stream",
     "text": [
      "3333.txt\n",
      "3334.txt\n",
      "3335.txt\n",
      "3336.txt\n",
      "3337.txt\n",
      "3338.txt\n",
      "3339.txt\n"
     ]
    },
    {
     "name": "stderr",
     "output_type": "stream",
     "text": [
      " 27%|██▋       | 2885/10742 [01:42<04:15, 30.77it/s]"
     ]
    },
    {
     "name": "stdout",
     "output_type": "stream",
     "text": [
      "3340.txt\n",
      "3341.txt\n",
      "3342.txt\n",
      "3343.txt\n",
      "3344.txt\n",
      "3345.txt\n",
      "3346.txt\n"
     ]
    },
    {
     "name": "stderr",
     "output_type": "stream",
     "text": [
      "\r",
      " 27%|██▋       | 2889/10742 [01:42<04:14, 30.87it/s]"
     ]
    },
    {
     "name": "stdout",
     "output_type": "stream",
     "text": [
      "3347.txt\n",
      "3348.txt\n",
      "3349.txt\n",
      "3350.txt\n",
      "3351.txt\n",
      "3352.txt\n",
      "3353.txt\n"
     ]
    },
    {
     "name": "stderr",
     "output_type": "stream",
     "text": [
      " 27%|██▋       | 2897/10742 [01:42<04:12, 31.06it/s]"
     ]
    },
    {
     "name": "stdout",
     "output_type": "stream",
     "text": [
      "3354.txt\n",
      "3355.txt\n",
      "3356.txt\n",
      "3357.txt\n",
      "3358.txt\n",
      "3359.txt\n",
      "3360.txt\n"
     ]
    },
    {
     "name": "stderr",
     "output_type": "stream",
     "text": [
      " 27%|██▋       | 2905/10742 [01:43<04:10, 31.25it/s]"
     ]
    },
    {
     "name": "stdout",
     "output_type": "stream",
     "text": [
      "3361.txt\n",
      "3362.txt\n",
      "3363.txt\n",
      "3364.txt\n",
      "3365.txt\n",
      "3366.txt\n",
      "3367.txt\n",
      "3368.txt\n"
     ]
    },
    {
     "name": "stderr",
     "output_type": "stream",
     "text": [
      " 27%|██▋       | 2913/10742 [01:43<04:10, 31.23it/s]"
     ]
    },
    {
     "name": "stdout",
     "output_type": "stream",
     "text": [
      "3369.txt\n",
      "3370.txt\n",
      "3371.txt\n",
      "3372.txt\n",
      "3373.txt\n",
      "3374.txt\n",
      "3375.txt\n"
     ]
    },
    {
     "name": "stderr",
     "output_type": "stream",
     "text": [
      "\r",
      " 27%|██▋       | 2917/10742 [01:43<04:12, 30.97it/s]"
     ]
    },
    {
     "name": "stdout",
     "output_type": "stream",
     "text": [
      "3376.txt\n",
      "3377.txt\n",
      "3378.txt\n",
      "3379.txt\n",
      "3380.txt\n",
      "3381.txt\n"
     ]
    },
    {
     "name": "stderr",
     "output_type": "stream",
     "text": [
      " 27%|██▋       | 2925/10742 [01:43<04:39, 27.95it/s]"
     ]
    },
    {
     "name": "stdout",
     "output_type": "stream",
     "text": [
      "3382.txt\n",
      "3383.txt\n",
      "3384.txt\n",
      "3385.txt\n",
      "3386.txt\n"
     ]
    },
    {
     "name": "stderr",
     "output_type": "stream",
     "text": [
      "\r",
      " 27%|██▋       | 2928/10742 [01:43<05:03, 25.72it/s]"
     ]
    },
    {
     "name": "stdout",
     "output_type": "stream",
     "text": [
      "3387.txt\n",
      "3388.txt\n",
      "3389.txt\n",
      "3390.txt\n"
     ]
    },
    {
     "name": "stderr",
     "output_type": "stream",
     "text": [
      "\r",
      " 27%|██▋       | 2931/10742 [01:44<05:18, 24.52it/s]"
     ]
    },
    {
     "name": "stdout",
     "output_type": "stream",
     "text": [
      "3391.txt\n",
      "3392.txt\n",
      "3393.txt\n",
      "3394.txt\n"
     ]
    },
    {
     "name": "stderr",
     "output_type": "stream",
     "text": [
      " 27%|██▋       | 2937/10742 [01:44<05:25, 23.95it/s]"
     ]
    },
    {
     "name": "stdout",
     "output_type": "stream",
     "text": [
      "3395.txt\n",
      "3396.txt\n",
      "3397.txt\n",
      "3398.txt\n",
      "3399.txt\n",
      "3400.txt\n"
     ]
    },
    {
     "name": "stderr",
     "output_type": "stream",
     "text": [
      " 27%|██▋       | 2944/10742 [01:44<04:58, 26.14it/s]"
     ]
    },
    {
     "name": "stdout",
     "output_type": "stream",
     "text": [
      "3401.txt\n",
      "3402.txt\n",
      "3403.txt\n",
      "3404.txt\n",
      "3405.txt\n",
      "3406.txt\n",
      "3407.txt\n"
     ]
    },
    {
     "name": "stderr",
     "output_type": "stream",
     "text": [
      " 27%|██▋       | 2951/10742 [01:44<04:44, 27.34it/s]"
     ]
    },
    {
     "name": "stdout",
     "output_type": "stream",
     "text": [
      "3408.txt\n",
      "3409.txt\n",
      "3410.txt\n",
      "3411.txt\n",
      "3412.txt\n",
      "3413.txt\n"
     ]
    },
    {
     "name": "stderr",
     "output_type": "stream",
     "text": [
      " 28%|██▊       | 2959/10742 [01:45<04:21, 29.77it/s]"
     ]
    },
    {
     "name": "stdout",
     "output_type": "stream",
     "text": [
      "3414.txt\n",
      "3415.txt\n",
      "3416.txt\n",
      "3417.txt\n",
      "3418.txt\n",
      "3419.txt\n",
      "3420.txt\n"
     ]
    },
    {
     "name": "stderr",
     "output_type": "stream",
     "text": [
      "\r",
      " 28%|██▊       | 2963/10742 [01:45<04:16, 30.28it/s]"
     ]
    },
    {
     "name": "stdout",
     "output_type": "stream",
     "text": [
      "3421.txt\n",
      "3422.txt\n",
      "3423.txt\n",
      "3424.txt\n",
      "3425.txt\n",
      "3426.txt\n",
      "3427.txt\n"
     ]
    },
    {
     "name": "stderr",
     "output_type": "stream",
     "text": [
      " 28%|██▊       | 2971/10742 [01:45<04:09, 31.09it/s]"
     ]
    },
    {
     "name": "stdout",
     "output_type": "stream",
     "text": [
      "3428.txt\n",
      "3429.txt\n",
      "3430.txt\n",
      "3431.txt\n",
      "3432.txt\n",
      "3433.txt\n",
      "3434.txt\n"
     ]
    },
    {
     "name": "stderr",
     "output_type": "stream",
     "text": [
      " 28%|██▊       | 2979/10742 [01:45<04:07, 31.42it/s]"
     ]
    },
    {
     "name": "stdout",
     "output_type": "stream",
     "text": [
      "3435.txt\n",
      "3436.txt\n",
      "3437.txt\n",
      "3438.txt\n",
      "3439.txt\n",
      "3440.txt\n",
      "3441.txt\n"
     ]
    },
    {
     "name": "stderr",
     "output_type": "stream",
     "text": [
      "\r",
      " 28%|██▊       | 2983/10742 [01:45<04:10, 31.03it/s]"
     ]
    },
    {
     "name": "stdout",
     "output_type": "stream",
     "text": [
      "3442.txt\n",
      "3443.txt\n",
      "3444.txt\n",
      "3445.txt\n",
      "3446.txt\n",
      "3447.txt\n",
      "3448.txt\n"
     ]
    },
    {
     "name": "stderr",
     "output_type": "stream",
     "text": [
      " 28%|██▊       | 2991/10742 [01:46<04:06, 31.50it/s]"
     ]
    },
    {
     "name": "stdout",
     "output_type": "stream",
     "text": [
      "3449.txt\n",
      "3450.txt\n",
      "3451.txt\n",
      "3452.txt\n",
      "3453.txt\n",
      "3454.txt\n",
      "3455.txt\n"
     ]
    },
    {
     "name": "stderr",
     "output_type": "stream",
     "text": [
      " 28%|██▊       | 2999/10742 [01:46<04:04, 31.72it/s]"
     ]
    },
    {
     "name": "stdout",
     "output_type": "stream",
     "text": [
      "3456.txt\n",
      "3457.txt\n",
      "3458.txt\n",
      "3459.txt\n",
      "3460.txt\n",
      "3461.txt\n",
      "3462.txt\n"
     ]
    },
    {
     "name": "stderr",
     "output_type": "stream",
     "text": [
      " 28%|██▊       | 3007/10742 [01:46<04:17, 30.10it/s]"
     ]
    },
    {
     "name": "stdout",
     "output_type": "stream",
     "text": [
      "3463.txt\n",
      "3464.txt\n",
      "3465.txt\n",
      "3466.txt\n",
      "3467.txt\n",
      "3468.txt\n"
     ]
    },
    {
     "name": "stderr",
     "output_type": "stream",
     "text": [
      "\r",
      " 28%|██▊       | 3011/10742 [01:46<04:39, 27.71it/s]"
     ]
    },
    {
     "name": "stdout",
     "output_type": "stream",
     "text": [
      "3469.txt\n",
      "3470.txt\n",
      "3471.txt\n",
      "3472.txt\n",
      "3473.txt\n"
     ]
    },
    {
     "name": "stderr",
     "output_type": "stream",
     "text": [
      " 28%|██▊       | 3017/10742 [01:47<04:44, 27.18it/s]"
     ]
    },
    {
     "name": "stdout",
     "output_type": "stream",
     "text": [
      "3474.txt\n",
      "3475.txt\n",
      "3476.txt\n",
      "3477.txt\n",
      "3478.txt\n"
     ]
    },
    {
     "name": "stderr",
     "output_type": "stream",
     "text": [
      "\r",
      " 28%|██▊       | 3020/10742 [01:47<05:02, 25.54it/s]"
     ]
    },
    {
     "name": "stdout",
     "output_type": "stream",
     "text": [
      "3479.txt\n",
      "3480.txt\n",
      "3481.txt\n",
      "3482.txt\n",
      "3483.txt\n"
     ]
    },
    {
     "name": "stderr",
     "output_type": "stream",
     "text": [
      " 28%|██▊       | 3027/10742 [01:47<04:43, 27.17it/s]"
     ]
    },
    {
     "name": "stdout",
     "output_type": "stream",
     "text": [
      "3484.txt\n",
      "3485.txt\n",
      "3486.txt\n",
      "3487.txt\n",
      "3488.txt\n",
      "3489.txt\n",
      "3490.txt\n"
     ]
    },
    {
     "name": "stderr",
     "output_type": "stream",
     "text": [
      " 28%|██▊       | 3034/10742 [01:47<04:28, 28.69it/s]"
     ]
    },
    {
     "name": "stdout",
     "output_type": "stream",
     "text": [
      "3491.txt\n",
      "3492.txt\n",
      "3493.txt\n",
      "3494.txt\n",
      "3495.txt\n",
      "3496.txt\n",
      "3497.txt\n"
     ]
    },
    {
     "name": "stderr",
     "output_type": "stream",
     "text": [
      " 28%|██▊       | 3040/10742 [01:47<04:31, 28.32it/s]"
     ]
    },
    {
     "name": "stdout",
     "output_type": "stream",
     "text": [
      "3498.txt\n",
      "3499.txt\n",
      "3500.txt\n",
      "3501.txt\n",
      "3502.txt\n",
      "3503.txt\n"
     ]
    },
    {
     "name": "stderr",
     "output_type": "stream",
     "text": [
      " 28%|██▊       | 3048/10742 [01:48<04:19, 29.68it/s]"
     ]
    },
    {
     "name": "stdout",
     "output_type": "stream",
     "text": [
      "3504.txt\n",
      "3505.txt\n",
      "3506.txt\n",
      "3507.txt\n",
      "3508.txt\n",
      "3509.txt\n"
     ]
    },
    {
     "name": "stderr",
     "output_type": "stream",
     "text": [
      "\r",
      " 28%|██▊       | 3051/10742 [01:48<04:19, 29.63it/s]"
     ]
    },
    {
     "name": "stdout",
     "output_type": "stream",
     "text": [
      "3510.txt\n",
      "3511.txt\n",
      "3512.txt\n",
      "3513.txt\n",
      "3514.txt\n",
      "3515.txt\n",
      "3516.txt\n"
     ]
    },
    {
     "name": "stderr",
     "output_type": "stream",
     "text": [
      " 28%|██▊       | 3059/10742 [01:48<04:13, 30.36it/s]"
     ]
    },
    {
     "name": "stdout",
     "output_type": "stream",
     "text": [
      "3517.txt\n",
      "3518.txt\n",
      "3519.txt\n",
      "3520.txt\n",
      "3521.txt\n",
      "3522.txt\n"
     ]
    },
    {
     "name": "stderr",
     "output_type": "stream",
     "text": [
      " 29%|██▊       | 3067/10742 [01:48<04:07, 31.02it/s]"
     ]
    },
    {
     "name": "stdout",
     "output_type": "stream",
     "text": [
      "3523.txt\n",
      "3524.txt\n",
      "3525.txt\n",
      "3526.txt\n",
      "3527.txt\n",
      "3528.txt\n"
     ]
    },
    {
     "name": "stderr",
     "output_type": "stream",
     "text": [
      "\r",
      " 29%|██▊       | 3071/10742 [01:48<04:07, 31.03it/s]"
     ]
    },
    {
     "name": "stdout",
     "output_type": "stream",
     "text": [
      "3529.txt\n",
      "3530.txt\n",
      "3531.txt\n",
      "3532.txt\n",
      "3533.txt\n",
      "3534.txt\n",
      "3535.txt\n"
     ]
    },
    {
     "name": "stderr",
     "output_type": "stream",
     "text": [
      " 29%|██▊       | 3079/10742 [01:49<04:04, 31.34it/s]"
     ]
    },
    {
     "name": "stdout",
     "output_type": "stream",
     "text": [
      "3536.txt\n",
      "3537.txt\n",
      "3538.txt\n",
      "3539.txt\n",
      "3540.txt\n",
      "3541.txt\n",
      "3542.txt\n"
     ]
    },
    {
     "name": "stderr",
     "output_type": "stream",
     "text": [
      " 29%|██▊       | 3087/10742 [01:49<04:06, 31.05it/s]"
     ]
    },
    {
     "name": "stdout",
     "output_type": "stream",
     "text": [
      "3543.txt\n",
      "3544.txt\n",
      "3545.txt\n",
      "3546.txt\n",
      "3547.txt\n",
      "3548.txt\n"
     ]
    },
    {
     "name": "stderr",
     "output_type": "stream",
     "text": [
      "\r",
      " 29%|██▉       | 3091/10742 [01:49<04:20, 29.42it/s]"
     ]
    },
    {
     "name": "stdout",
     "output_type": "stream",
     "text": [
      "3549.txt\n",
      "3550.txt\n",
      "3551.txt\n",
      "3552.txt\n",
      "3553.txt\n"
     ]
    },
    {
     "name": "stderr",
     "output_type": "stream",
     "text": [
      "\r",
      " 29%|██▉       | 3094/10742 [01:49<04:31, 28.13it/s]"
     ]
    },
    {
     "name": "stdout",
     "output_type": "stream",
     "text": [
      "3554.txt\n",
      "3555.txt\n",
      "3556.txt\n",
      "3557.txt\n",
      "3558.txt\n"
     ]
    },
    {
     "name": "stderr",
     "output_type": "stream",
     "text": [
      " 29%|██▉       | 3100/10742 [01:49<04:53, 26.04it/s]"
     ]
    },
    {
     "name": "stdout",
     "output_type": "stream",
     "text": [
      "3559.txt\n",
      "3560.txt\n",
      "3561.txt\n",
      "3562.txt\n",
      "3563.txt\n"
     ]
    },
    {
     "name": "stderr",
     "output_type": "stream",
     "text": [
      " 29%|██▉       | 3106/10742 [01:50<04:58, 25.59it/s]"
     ]
    },
    {
     "name": "stdout",
     "output_type": "stream",
     "text": [
      "3564.txt\n",
      "3565.txt\n",
      "3566.txt\n",
      "3567.txt\n",
      "3568.txt\n",
      "3569.txt\n"
     ]
    },
    {
     "name": "stderr",
     "output_type": "stream",
     "text": [
      " 29%|██▉       | 3113/10742 [01:50<04:30, 28.15it/s]"
     ]
    },
    {
     "name": "stdout",
     "output_type": "stream",
     "text": [
      "3570.txt\n",
      "3571.txt\n",
      "3572.txt\n",
      "3573.txt\n",
      "3574.txt\n",
      "3575.txt\n",
      "3576.txt\n"
     ]
    },
    {
     "name": "stderr",
     "output_type": "stream",
     "text": [
      " 29%|██▉       | 3121/10742 [01:50<04:16, 29.74it/s]"
     ]
    },
    {
     "name": "stdout",
     "output_type": "stream",
     "text": [
      "3577.txt\n",
      "3578.txt\n",
      "3579.txt\n",
      "3580.txt\n",
      "3581.txt\n",
      "3582.txt\n",
      "3583.txt\n"
     ]
    },
    {
     "name": "stderr",
     "output_type": "stream",
     "text": [
      " 29%|██▉       | 3127/10742 [01:50<04:25, 28.73it/s]"
     ]
    },
    {
     "name": "stdout",
     "output_type": "stream",
     "text": [
      "3584.txt\n",
      "3585.txt\n",
      "3586.txt\n",
      "3587.txt\n",
      "3588.txt\n",
      "3589.txt\n"
     ]
    },
    {
     "name": "stderr",
     "output_type": "stream",
     "text": [
      " 29%|██▉       | 3135/10742 [01:51<04:11, 30.19it/s]"
     ]
    },
    {
     "name": "stdout",
     "output_type": "stream",
     "text": [
      "3590.txt\n",
      "3591.txt\n",
      "3592.txt\n",
      "3593.txt\n",
      "3594.txt\n",
      "3595.txt\n",
      "3596.txt\n"
     ]
    },
    {
     "name": "stderr",
     "output_type": "stream",
     "text": [
      "\r",
      " 29%|██▉       | 3139/10742 [01:51<04:12, 30.11it/s]"
     ]
    },
    {
     "name": "stdout",
     "output_type": "stream",
     "text": [
      "3597.txt\n",
      "3598.txt\n",
      "3599.txt\n",
      "3600.txt\n",
      "3601.txt\n",
      "3602.txt\n"
     ]
    },
    {
     "name": "stderr",
     "output_type": "stream",
     "text": [
      " 29%|██▉       | 3147/10742 [01:51<04:06, 30.78it/s]"
     ]
    },
    {
     "name": "stdout",
     "output_type": "stream",
     "text": [
      "3603.txt\n",
      "3604.txt\n",
      "3605.txt\n",
      "3606.txt\n",
      "3607.txt\n",
      "3688.txt\n"
     ]
    },
    {
     "name": "stderr",
     "output_type": "stream",
     "text": [
      "\r",
      " 29%|██▉       | 3151/10742 [01:51<04:08, 30.57it/s]"
     ]
    },
    {
     "name": "stdout",
     "output_type": "stream",
     "text": [
      "3689.txt\n",
      "3690.txt\n",
      "3691.txt\n",
      "3692.txt\n",
      "3693.txt\n",
      "3694.txt\n",
      "3695.txt\n"
     ]
    },
    {
     "name": "stderr",
     "output_type": "stream",
     "text": [
      " 29%|██▉       | 3159/10742 [01:51<04:05, 30.85it/s]"
     ]
    },
    {
     "name": "stdout",
     "output_type": "stream",
     "text": [
      "3696.txt\n",
      "3697.txt\n",
      "3698.txt\n",
      "3699.txt\n",
      "3700.txt\n",
      "3701.txt\n",
      "3702.txt\n"
     ]
    },
    {
     "name": "stderr",
     "output_type": "stream",
     "text": [
      " 29%|██▉       | 3167/10742 [01:52<04:02, 31.21it/s]"
     ]
    },
    {
     "name": "stdout",
     "output_type": "stream",
     "text": [
      "3703.txt\n",
      "3704.txt\n",
      "3705.txt\n",
      "3706.txt\n",
      "3707.txt\n",
      "3708.txt\n",
      "3709.txt\n"
     ]
    },
    {
     "name": "stderr",
     "output_type": "stream",
     "text": [
      "\r",
      " 30%|██▉       | 3171/10742 [01:52<04:06, 30.67it/s]"
     ]
    },
    {
     "name": "stdout",
     "output_type": "stream",
     "text": [
      "3710.txt\n",
      "3711.txt\n",
      "3712.txt\n",
      "3713.txt\n",
      "3714.txt\n",
      "3715.txt\n"
     ]
    },
    {
     "name": "stderr",
     "output_type": "stream",
     "text": [
      " 30%|██▉       | 3178/10742 [01:52<04:43, 26.68it/s]"
     ]
    },
    {
     "name": "stdout",
     "output_type": "stream",
     "text": [
      "3716.txt\n",
      "3717.txt\n",
      "3718.txt\n",
      "3719.txt\n",
      "3720.txt\n"
     ]
    },
    {
     "name": "stderr",
     "output_type": "stream",
     "text": [
      " 30%|██▉       | 3184/10742 [01:52<05:08, 24.46it/s]"
     ]
    },
    {
     "name": "stdout",
     "output_type": "stream",
     "text": [
      "3721.txt\n",
      "3722.txt\n",
      "3723.txt\n",
      "3724.txt\n",
      "3725.txt\n"
     ]
    },
    {
     "name": "stderr",
     "output_type": "stream",
     "text": [
      "\r",
      " 30%|██▉       | 3187/10742 [01:52<05:12, 24.19it/s]"
     ]
    },
    {
     "name": "stdout",
     "output_type": "stream",
     "text": [
      "3726.txt\n",
      "3727.txt\n",
      "3728.txt\n",
      "3729.txt\n",
      "3730.txt\n"
     ]
    },
    {
     "name": "stderr",
     "output_type": "stream",
     "text": [
      " 30%|██▉       | 3193/10742 [01:53<05:06, 24.63it/s]"
     ]
    },
    {
     "name": "stdout",
     "output_type": "stream",
     "text": [
      "3731.txt\n",
      "3732.txt\n",
      "3733.txt\n",
      "3734.txt\n",
      "3735.txt\n",
      "3736.txt\n"
     ]
    },
    {
     "name": "stderr",
     "output_type": "stream",
     "text": [
      " 30%|██▉       | 3199/10742 [01:53<04:43, 26.57it/s]"
     ]
    },
    {
     "name": "stdout",
     "output_type": "stream",
     "text": [
      "3737.txt\n",
      "3738.txt\n",
      "3739.txt\n",
      "3740.txt\n",
      "3741.txt\n",
      "3742.txt\n",
      "3743.txt\n"
     ]
    },
    {
     "name": "stderr",
     "output_type": "stream",
     "text": [
      " 30%|██▉       | 3206/10742 [01:53<04:28, 28.12it/s]"
     ]
    },
    {
     "name": "stdout",
     "output_type": "stream",
     "text": [
      "3744.txt\n",
      "3745.txt\n",
      "3746.txt\n",
      "3747.txt\n",
      "3748.txt\n",
      "3749.txt\n",
      "3750.txt\n"
     ]
    },
    {
     "name": "stderr",
     "output_type": "stream",
     "text": [
      " 30%|██▉       | 3212/10742 [01:53<04:41, 26.76it/s]"
     ]
    },
    {
     "name": "stdout",
     "output_type": "stream",
     "text": [
      "3751.txt\n",
      "3752.txt\n",
      "3753.txt\n",
      "3754.txt\n",
      "3755.txt\n",
      "3756.txt\n"
     ]
    },
    {
     "name": "stderr",
     "output_type": "stream",
     "text": [
      " 30%|██▉       | 3218/10742 [01:54<04:36, 27.17it/s]"
     ]
    },
    {
     "name": "stdout",
     "output_type": "stream",
     "text": [
      "3757.txt\n",
      "3758.txt\n",
      "3759.txt\n",
      "3760.txt\n",
      "3761.txt\n",
      "3762.txt\n",
      "3763.txt\n"
     ]
    },
    {
     "name": "stderr",
     "output_type": "stream",
     "text": [
      " 30%|███       | 3226/10742 [01:54<04:13, 29.61it/s]"
     ]
    },
    {
     "name": "stdout",
     "output_type": "stream",
     "text": [
      "3764.txt\n",
      "3765.txt\n",
      "3766.txt\n",
      "3767.txt\n",
      "3768.txt\n",
      "3769.txt\n",
      "3770.txt\n"
     ]
    },
    {
     "name": "stderr",
     "output_type": "stream",
     "text": [
      " 30%|███       | 3234/10742 [01:54<04:03, 30.80it/s]"
     ]
    },
    {
     "name": "stdout",
     "output_type": "stream",
     "text": [
      "3771.txt\n",
      "3772.txt\n",
      "3773.txt\n",
      "3774.txt\n",
      "3775.txt\n",
      "3776.txt\n",
      "3777.txt\n"
     ]
    },
    {
     "name": "stderr",
     "output_type": "stream",
     "text": [
      " 30%|███       | 3242/10742 [01:54<04:04, 30.66it/s]"
     ]
    },
    {
     "name": "stdout",
     "output_type": "stream",
     "text": [
      "3778.txt\n",
      "3779.txt\n",
      "3780.txt\n",
      "3781.txt\n",
      "3782.txt\n",
      "3783.txt\n"
     ]
    },
    {
     "name": "stderr",
     "output_type": "stream",
     "text": [
      "\r",
      " 30%|███       | 3246/10742 [01:54<04:04, 30.72it/s]"
     ]
    },
    {
     "name": "stdout",
     "output_type": "stream",
     "text": [
      "3784.txt\n",
      "3785.txt\n",
      "3786.txt\n",
      "3787.txt\n",
      "3788.txt\n",
      "3789.txt\n",
      "3790.txt\n"
     ]
    },
    {
     "name": "stderr",
     "output_type": "stream",
     "text": [
      " 30%|███       | 3254/10742 [01:55<04:14, 29.40it/s]"
     ]
    },
    {
     "name": "stdout",
     "output_type": "stream",
     "text": [
      "3791.txt\n",
      "3792.txt\n",
      "3793.txt\n",
      "3794.txt\n",
      "3795.txt\n",
      "3796.txt\n"
     ]
    },
    {
     "name": "stderr",
     "output_type": "stream",
     "text": [
      " 30%|███       | 3260/10742 [01:55<04:32, 27.50it/s]"
     ]
    },
    {
     "name": "stdout",
     "output_type": "stream",
     "text": [
      "3797.txt\n",
      "3798.txt\n",
      "3799.txt\n",
      "3800.txt\n",
      "3801.txt\n"
     ]
    },
    {
     "name": "stderr",
     "output_type": "stream",
     "text": [
      "\r",
      " 30%|███       | 3263/10742 [01:55<04:41, 26.53it/s]"
     ]
    },
    {
     "name": "stdout",
     "output_type": "stream",
     "text": [
      "3802.txt\n",
      "3803.txt\n",
      "3804.txt\n",
      "3805.txt\n",
      "3806.txt\n"
     ]
    },
    {
     "name": "stderr",
     "output_type": "stream",
     "text": [
      " 30%|███       | 3269/10742 [01:55<04:57, 25.14it/s]"
     ]
    },
    {
     "name": "stdout",
     "output_type": "stream",
     "text": [
      "3807.txt\n",
      "3808.txt\n",
      "3809.txt\n",
      "3810.txt\n",
      "3811.txt\n"
     ]
    },
    {
     "name": "stderr",
     "output_type": "stream",
     "text": [
      " 30%|███       | 3276/10742 [01:56<04:30, 27.55it/s]"
     ]
    },
    {
     "name": "stdout",
     "output_type": "stream",
     "text": [
      "3812.txt\n",
      "3813.txt\n",
      "3814.txt\n",
      "3815.txt\n",
      "3816.txt\n",
      "3817.txt\n",
      "3818.txt\n"
     ]
    },
    {
     "name": "stderr",
     "output_type": "stream",
     "text": [
      " 31%|███       | 3283/10742 [01:56<04:15, 29.20it/s]"
     ]
    },
    {
     "name": "stdout",
     "output_type": "stream",
     "text": [
      "3819.txt\n",
      "3820.txt\n",
      "3821.txt\n",
      "3822.txt\n",
      "3823.txt\n",
      "3824.txt\n"
     ]
    },
    {
     "name": "stderr",
     "output_type": "stream",
     "text": [
      "\r",
      " 31%|███       | 3287/10742 [01:56<04:10, 29.73it/s]"
     ]
    },
    {
     "name": "stdout",
     "output_type": "stream",
     "text": [
      "3825.txt\n",
      "3826.txt\n",
      "3827.txt\n",
      "3828.txt\n",
      "3829.txt\n",
      "3830.txt\n",
      "3831.txt\n"
     ]
    },
    {
     "name": "stderr",
     "output_type": "stream",
     "text": [
      " 31%|███       | 3295/10742 [01:56<04:01, 30.78it/s]"
     ]
    },
    {
     "name": "stdout",
     "output_type": "stream",
     "text": [
      "3832.txt\n",
      "3833.txt\n",
      "3834.txt\n",
      "3835.txt\n",
      "3836.txt\n",
      "3837.txt\n",
      "3838.txt\n"
     ]
    },
    {
     "name": "stderr",
     "output_type": "stream",
     "text": [
      " 31%|███       | 3302/10742 [01:56<04:25, 28.01it/s]"
     ]
    },
    {
     "name": "stdout",
     "output_type": "stream",
     "text": [
      "3839.txt\n",
      "3840.txt\n",
      "3841.txt\n",
      "3842.txt\n",
      "3843.txt\n",
      "3844.txt\n"
     ]
    },
    {
     "name": "stderr",
     "output_type": "stream",
     "text": [
      "\r",
      " 31%|███       | 3305/10742 [01:57<04:36, 26.86it/s]"
     ]
    },
    {
     "name": "stdout",
     "output_type": "stream",
     "text": [
      "3845.txt\n",
      "3846.txt\n",
      "3847.txt\n",
      "3848.txt\n",
      "3849.txt\n"
     ]
    },
    {
     "name": "stderr",
     "output_type": "stream",
     "text": [
      " 31%|███       | 3311/10742 [01:57<04:56, 25.08it/s]"
     ]
    },
    {
     "name": "stdout",
     "output_type": "stream",
     "text": [
      "3850.txt\n",
      "3851.txt\n",
      "3852.txt\n",
      "3853.txt\n",
      "3854.txt\n"
     ]
    },
    {
     "name": "stderr",
     "output_type": "stream",
     "text": [
      " 31%|███       | 3317/10742 [01:57<05:16, 23.49it/s]"
     ]
    },
    {
     "name": "stdout",
     "output_type": "stream",
     "text": [
      "3855.txt\n",
      "3856.txt\n",
      "3857.txt\n",
      "3858.txt\n",
      "3859.txt\n"
     ]
    },
    {
     "name": "stderr",
     "output_type": "stream",
     "text": [
      " 31%|███       | 3324/10742 [01:57<04:42, 26.23it/s]"
     ]
    },
    {
     "name": "stdout",
     "output_type": "stream",
     "text": [
      "3860.txt\n",
      "3861.txt\n",
      "3862.txt\n",
      "3863.txt\n",
      "3864.txt\n",
      "3865.txt\n"
     ]
    },
    {
     "name": "stderr",
     "output_type": "stream",
     "text": [
      "\r",
      " 31%|███       | 3327/10742 [01:58<04:38, 26.59it/s]"
     ]
    },
    {
     "name": "stdout",
     "output_type": "stream",
     "text": [
      "3866.txt\n",
      "3867.txt\n",
      "3868.txt\n",
      "3869.txt\n",
      "3870.txt\n",
      "3871.txt\n"
     ]
    },
    {
     "name": "stderr",
     "output_type": "stream",
     "text": [
      " 31%|███       | 3333/10742 [01:58<04:48, 25.68it/s]"
     ]
    },
    {
     "name": "stdout",
     "output_type": "stream",
     "text": [
      "3872.txt\n",
      "3873.txt\n",
      "3874.txt\n",
      "3875.txt\n",
      "3876.txt\n"
     ]
    },
    {
     "name": "stderr",
     "output_type": "stream",
     "text": [
      " 31%|███       | 3339/10742 [01:58<04:50, 25.51it/s]"
     ]
    },
    {
     "name": "stdout",
     "output_type": "stream",
     "text": [
      "3877.txt\n",
      "3878.txt\n",
      "3879.txt\n",
      "3880.txt\n",
      "3881.txt\n",
      "3882.txt\n"
     ]
    },
    {
     "name": "stderr",
     "output_type": "stream",
     "text": [
      " 31%|███       | 3345/10742 [01:58<04:49, 25.59it/s]"
     ]
    },
    {
     "name": "stdout",
     "output_type": "stream",
     "text": [
      "3883.txt\n",
      "3884.txt\n",
      "3885.txt\n",
      "3886.txt\n",
      "3887.txt\n"
     ]
    },
    {
     "name": "stderr",
     "output_type": "stream",
     "text": [
      " 31%|███       | 3352/10742 [01:58<04:39, 26.43it/s]"
     ]
    },
    {
     "name": "stdout",
     "output_type": "stream",
     "text": [
      "3888.txt\n",
      "3889.txt\n",
      "3890.txt\n",
      "3891.txt\n",
      "3892.txt\n",
      "3893.txt\n"
     ]
    },
    {
     "name": "stderr",
     "output_type": "stream",
     "text": [
      "\r",
      " 31%|███       | 3356/10742 [01:59<04:24, 27.95it/s]"
     ]
    },
    {
     "name": "stdout",
     "output_type": "stream",
     "text": [
      "3894.txt\n",
      "3895.txt\n",
      "3896.txt\n",
      "3897.txt\n",
      "3898.txt\n",
      "3899.txt\n",
      "3900.txt\n"
     ]
    },
    {
     "name": "stderr",
     "output_type": "stream",
     "text": [
      " 31%|███▏      | 3363/10742 [01:59<04:12, 29.19it/s]"
     ]
    },
    {
     "name": "stdout",
     "output_type": "stream",
     "text": [
      "3901.txt\n",
      "3902.txt\n",
      "3903.txt\n",
      "3904.txt\n",
      "3905.txt\n",
      "3906.txt\n",
      "3907.txt\n"
     ]
    },
    {
     "name": "stderr",
     "output_type": "stream",
     "text": [
      " 31%|███▏      | 3370/10742 [01:59<04:08, 29.71it/s]"
     ]
    },
    {
     "name": "stdout",
     "output_type": "stream",
     "text": [
      "3908.txt\n",
      "3909.txt\n",
      "3910.txt\n",
      "3911.txt\n",
      "3912.txt\n",
      "3913.txt\n",
      "3914.txt\n"
     ]
    },
    {
     "name": "stderr",
     "output_type": "stream",
     "text": [
      " 31%|███▏      | 3378/10742 [01:59<04:08, 29.60it/s]"
     ]
    },
    {
     "name": "stdout",
     "output_type": "stream",
     "text": [
      "3915.txt\n",
      "3916.txt\n",
      "3917.txt\n",
      "3918.txt\n",
      "3919.txt\n",
      "3920.txt\n",
      "3921.txt\n"
     ]
    },
    {
     "name": "stderr",
     "output_type": "stream",
     "text": [
      " 32%|███▏      | 3386/10742 [02:00<04:00, 30.56it/s]"
     ]
    },
    {
     "name": "stdout",
     "output_type": "stream",
     "text": [
      "3922.txt\n",
      "3923.txt\n",
      "3924.txt\n",
      "3925.txt\n",
      "3926.txt\n",
      "3927.txt\n",
      "3928.txt\n"
     ]
    },
    {
     "name": "stderr",
     "output_type": "stream",
     "text": [
      "\r",
      " 32%|███▏      | 3390/10742 [02:00<04:01, 30.50it/s]"
     ]
    },
    {
     "name": "stdout",
     "output_type": "stream",
     "text": [
      "3929.txt\n",
      "3930.txt\n",
      "3931.txt\n",
      "3932.txt\n",
      "3933.txt\n",
      "3934.txt\n"
     ]
    },
    {
     "name": "stderr",
     "output_type": "stream",
     "text": [
      " 32%|███▏      | 3398/10742 [02:00<04:05, 29.96it/s]"
     ]
    },
    {
     "name": "stdout",
     "output_type": "stream",
     "text": [
      "3935.txt\n",
      "3936.txt\n",
      "3937.txt\n",
      "3938.txt\n",
      "3939.txt\n",
      "3940.txt\n",
      "3941.txt\n"
     ]
    },
    {
     "name": "stderr",
     "output_type": "stream",
     "text": [
      " 32%|███▏      | 3406/10742 [02:00<04:01, 30.37it/s]"
     ]
    },
    {
     "name": "stdout",
     "output_type": "stream",
     "text": [
      "3942.txt\n",
      "3943.txt\n",
      "3944.txt\n",
      "3945.txt\n",
      "3946.txt\n",
      "3947.txt\n",
      "3948.txt\n"
     ]
    },
    {
     "name": "stderr",
     "output_type": "stream",
     "text": [
      "\r",
      " 32%|███▏      | 3410/10742 [02:00<04:03, 30.17it/s]"
     ]
    },
    {
     "name": "stdout",
     "output_type": "stream",
     "text": [
      "3949.txt\n",
      "3950.txt\n",
      "3951.txt\n",
      "3952.txt\n",
      "3953.txt\n",
      "3954.txt\n"
     ]
    },
    {
     "name": "stderr",
     "output_type": "stream",
     "text": [
      " 32%|███▏      | 3417/10742 [02:01<04:22, 27.90it/s]"
     ]
    },
    {
     "name": "stdout",
     "output_type": "stream",
     "text": [
      "3955.txt\n",
      "3956.txt\n",
      "3957.txt\n",
      "3958.txt\n",
      "3959.txt\n",
      "3960.txt\n"
     ]
    },
    {
     "name": "stderr",
     "output_type": "stream",
     "text": [
      " 32%|███▏      | 3423/10742 [02:01<04:56, 24.67it/s]"
     ]
    },
    {
     "name": "stdout",
     "output_type": "stream",
     "text": [
      "3961.txt\n",
      "3962.txt\n",
      "3963.txt\n",
      "3964.txt\n",
      "3965.txt\n"
     ]
    },
    {
     "name": "stderr",
     "output_type": "stream",
     "text": [
      "\r",
      " 32%|███▏      | 3426/10742 [02:01<05:08, 23.69it/s]"
     ]
    },
    {
     "name": "stdout",
     "output_type": "stream",
     "text": [
      "3966.txt\n",
      "3967.txt\n",
      "3968.txt\n",
      "3969.txt\n",
      "3970.txt\n"
     ]
    },
    {
     "name": "stderr",
     "output_type": "stream",
     "text": [
      " 32%|███▏      | 3432/10742 [02:01<05:29, 22.17it/s]"
     ]
    },
    {
     "name": "stdout",
     "output_type": "stream",
     "text": [
      "3971.txt\n",
      "3972.txt\n",
      "3973.txt\n",
      "3974.txt\n",
      "3975.txt\n"
     ]
    },
    {
     "name": "stderr",
     "output_type": "stream",
     "text": [
      " 32%|███▏      | 3439/10742 [02:02<04:49, 25.19it/s]"
     ]
    },
    {
     "name": "stdout",
     "output_type": "stream",
     "text": [
      "3976.txt\n",
      "3977.txt\n",
      "3978.txt\n",
      "3979.txt\n",
      "3980.txt\n",
      "3981.txt\n",
      "3982.txt\n"
     ]
    },
    {
     "name": "stderr",
     "output_type": "stream",
     "text": [
      " 32%|███▏      | 3445/10742 [02:02<04:45, 25.57it/s]"
     ]
    },
    {
     "name": "stdout",
     "output_type": "stream",
     "text": [
      "3983.txt\n",
      "3984.txt\n",
      "3985.txt\n",
      "3986.txt\n",
      "3987.txt\n",
      "3988.txt\n",
      "3989.txt\n"
     ]
    },
    {
     "name": "stderr",
     "output_type": "stream",
     "text": [
      " 32%|███▏      | 3453/10742 [02:02<04:13, 28.80it/s]"
     ]
    },
    {
     "name": "stdout",
     "output_type": "stream",
     "text": [
      "3990.txt\n",
      "3991.txt\n",
      "3992.txt\n",
      "3993.txt\n",
      "3994.txt\n",
      "3995.txt\n",
      "3996.txt\n"
     ]
    },
    {
     "name": "stderr",
     "output_type": "stream",
     "text": [
      " 32%|███▏      | 3460/10742 [02:02<04:13, 28.67it/s]"
     ]
    },
    {
     "name": "stdout",
     "output_type": "stream",
     "text": [
      "3997.txt\n",
      "3998.txt\n",
      "3999.txt\n",
      "4000.txt\n",
      "4001.txt\n",
      "4002.txt\n"
     ]
    },
    {
     "name": "stderr",
     "output_type": "stream",
     "text": [
      " 32%|███▏      | 3468/10742 [02:03<04:00, 30.23it/s]"
     ]
    },
    {
     "name": "stdout",
     "output_type": "stream",
     "text": [
      "4003.txt\n",
      "4004.txt\n",
      "4005.txt\n",
      "4006.txt\n",
      "4007.txt\n",
      "4008.txt\n",
      "4009.txt\n"
     ]
    },
    {
     "name": "stderr",
     "output_type": "stream",
     "text": [
      "\r",
      " 32%|███▏      | 3472/10742 [02:03<03:58, 30.49it/s]"
     ]
    },
    {
     "name": "stdout",
     "output_type": "stream",
     "text": [
      "4010.txt\n",
      "4011.txt\n",
      "4012.txt\n",
      "4013.txt\n",
      "4014.txt\n",
      "4015.txt\n",
      "4016.txt\n"
     ]
    },
    {
     "name": "stderr",
     "output_type": "stream",
     "text": [
      " 32%|███▏      | 3480/10742 [02:03<03:53, 31.09it/s]"
     ]
    },
    {
     "name": "stdout",
     "output_type": "stream",
     "text": [
      "4017.txt\n",
      "4018.txt\n",
      "4019.txt\n",
      "4020.txt\n",
      "4021.txt\n",
      "4022.txt\n",
      "4023.txt\n"
     ]
    },
    {
     "name": "stderr",
     "output_type": "stream",
     "text": [
      " 32%|███▏      | 3488/10742 [02:03<03:54, 30.99it/s]"
     ]
    },
    {
     "name": "stdout",
     "output_type": "stream",
     "text": [
      "4024.txt\n",
      "4025.txt\n",
      "4026.txt\n",
      "4027.txt\n",
      "4028.txt\n",
      "4029.txt\n"
     ]
    },
    {
     "name": "stderr",
     "output_type": "stream",
     "text": [
      "\r",
      " 33%|███▎      | 3492/10742 [02:03<03:57, 30.51it/s]"
     ]
    },
    {
     "name": "stdout",
     "output_type": "stream",
     "text": [
      "4055.txt\n",
      "4056.txt\n",
      "4057.txt\n",
      "4058.txt\n",
      "4059.txt\n",
      "4060.txt\n"
     ]
    },
    {
     "name": "stderr",
     "output_type": "stream",
     "text": [
      " 33%|███▎      | 3499/10742 [02:04<04:25, 27.29it/s]"
     ]
    },
    {
     "name": "stdout",
     "output_type": "stream",
     "text": [
      "4061.txt\n",
      "4062.txt\n",
      "4063.txt\n",
      "4064.txt\n",
      "4065.txt\n"
     ]
    },
    {
     "name": "stderr",
     "output_type": "stream",
     "text": [
      "\r",
      " 33%|███▎      | 3502/10742 [02:04<04:37, 26.08it/s]"
     ]
    },
    {
     "name": "stdout",
     "output_type": "stream",
     "text": [
      "4066.txt\n",
      "4067.txt\n",
      "4068.txt\n",
      "4069.txt\n",
      "4070.txt\n"
     ]
    },
    {
     "name": "stderr",
     "output_type": "stream",
     "text": [
      " 33%|███▎      | 3508/10742 [02:04<04:47, 25.15it/s]"
     ]
    },
    {
     "name": "stdout",
     "output_type": "stream",
     "text": [
      "4071.txt\n",
      "4072.txt\n",
      "4073.txt\n",
      "4074.txt\n",
      "4075.txt\n"
     ]
    },
    {
     "name": "stderr",
     "output_type": "stream",
     "text": [
      " 33%|███▎      | 3514/10742 [02:04<04:56, 24.39it/s]"
     ]
    },
    {
     "name": "stdout",
     "output_type": "stream",
     "text": [
      "4076.txt\n",
      "4077.txt\n",
      "4078.txt\n",
      "4079.txt\n",
      "4080.txt\n"
     ]
    },
    {
     "name": "stderr",
     "output_type": "stream",
     "text": [
      "\r",
      " 33%|███▎      | 3517/10742 [02:04<04:40, 25.74it/s]"
     ]
    },
    {
     "name": "stdout",
     "output_type": "stream",
     "text": [
      "4081.txt\n",
      "4082.txt\n",
      "4083.txt\n",
      "4084.txt\n",
      "4085.txt\n",
      "4086.txt\n",
      "4087.txt\n"
     ]
    },
    {
     "name": "stderr",
     "output_type": "stream",
     "text": [
      " 33%|███▎      | 3524/10742 [02:05<04:38, 25.95it/s]"
     ]
    },
    {
     "name": "stdout",
     "output_type": "stream",
     "text": [
      "4088.txt\n",
      "4089.txt\n",
      "4090.txt\n",
      "4091.txt\n",
      "4092.txt\n"
     ]
    },
    {
     "name": "stderr",
     "output_type": "stream",
     "text": [
      " 33%|███▎      | 3530/10742 [02:05<04:47, 25.10it/s]"
     ]
    },
    {
     "name": "stdout",
     "output_type": "stream",
     "text": [
      "4093.txt\n",
      "4094.txt\n",
      "4095.txt\n",
      "4096.txt\n",
      "4097.txt\n",
      "4098.txt\n"
     ]
    },
    {
     "name": "stderr",
     "output_type": "stream",
     "text": [
      " 33%|███▎      | 3536/10742 [02:05<04:34, 26.25it/s]"
     ]
    },
    {
     "name": "stdout",
     "output_type": "stream",
     "text": [
      "4099.txt\n",
      "4100.txt\n",
      "4101.txt\n",
      "4102.txt\n",
      "4103.txt\n",
      "4104.txt\n",
      "4105.txt\n"
     ]
    },
    {
     "name": "stderr",
     "output_type": "stream",
     "text": [
      " 33%|███▎      | 3542/10742 [02:05<04:27, 26.94it/s]"
     ]
    },
    {
     "name": "stdout",
     "output_type": "stream",
     "text": [
      "4106.txt\n",
      "4107.txt\n",
      "4108.txt\n",
      "4109.txt\n",
      "4110.txt\n",
      "4111.txt\n"
     ]
    },
    {
     "name": "stderr",
     "output_type": "stream",
     "text": [
      " 33%|███▎      | 3548/10742 [02:06<04:36, 25.97it/s]"
     ]
    },
    {
     "name": "stdout",
     "output_type": "stream",
     "text": [
      "4112.txt\n",
      "4113.txt\n",
      "4114.txt\n",
      "4115.txt\n",
      "4116.txt\n"
     ]
    },
    {
     "name": "stderr",
     "output_type": "stream",
     "text": [
      " 33%|███▎      | 3554/10742 [02:06<04:45, 25.13it/s]"
     ]
    },
    {
     "name": "stdout",
     "output_type": "stream",
     "text": [
      "4117.txt\n",
      "4118.txt\n",
      "4119.txt\n",
      "4120.txt\n",
      "4121.txt\n",
      "4122.txt\n"
     ]
    },
    {
     "name": "stderr",
     "output_type": "stream",
     "text": [
      " 33%|███▎      | 3560/10742 [02:06<04:30, 26.58it/s]"
     ]
    },
    {
     "name": "stdout",
     "output_type": "stream",
     "text": [
      "4123.txt\n",
      "4124.txt\n",
      "4125.txt\n",
      "4126.txt\n",
      "4127.txt\n",
      "4128.txt\n"
     ]
    },
    {
     "name": "stderr",
     "output_type": "stream",
     "text": [
      " 33%|███▎      | 3566/10742 [02:06<04:16, 27.93it/s]"
     ]
    },
    {
     "name": "stdout",
     "output_type": "stream",
     "text": [
      "4129.txt\n",
      "4130.txt\n",
      "4131.txt\n",
      "4132.txt\n",
      "4133.txt\n",
      "4134.txt\n",
      "4135.txt\n"
     ]
    },
    {
     "name": "stderr",
     "output_type": "stream",
     "text": [
      " 33%|███▎      | 3572/10742 [02:07<04:51, 24.62it/s]"
     ]
    },
    {
     "name": "stdout",
     "output_type": "stream",
     "text": [
      "4136.txt\n",
      "4137.txt\n",
      "4138.txt\n",
      "4139.txt\n",
      "4140.txt\n"
     ]
    },
    {
     "name": "stderr",
     "output_type": "stream",
     "text": [
      " 33%|███▎      | 3578/10742 [02:07<05:26, 21.91it/s]"
     ]
    },
    {
     "name": "stdout",
     "output_type": "stream",
     "text": [
      "4141.txt\n",
      "4142.txt\n",
      "4143.txt\n",
      "4144.txt\n"
     ]
    },
    {
     "name": "stderr",
     "output_type": "stream",
     "text": [
      "\r",
      " 33%|███▎      | 3581/10742 [02:07<05:30, 21.67it/s]"
     ]
    },
    {
     "name": "stdout",
     "output_type": "stream",
     "text": [
      "4145.txt\n",
      "4146.txt\n",
      "4147.txt\n",
      "4148.txt\n"
     ]
    },
    {
     "name": "stderr",
     "output_type": "stream",
     "text": [
      "\r",
      " 33%|███▎      | 3584/10742 [02:07<05:58, 19.96it/s]"
     ]
    },
    {
     "name": "stdout",
     "output_type": "stream",
     "text": [
      "4149.txt\n",
      "4150.txt\n",
      "4151.txt\n",
      "4152.txt\n"
     ]
    },
    {
     "name": "stderr",
     "output_type": "stream",
     "text": [
      " 33%|███▎      | 3590/10742 [02:07<05:33, 21.44it/s]"
     ]
    },
    {
     "name": "stdout",
     "output_type": "stream",
     "text": [
      "4153.txt\n",
      "4154.txt\n",
      "4155.txt\n",
      "4156.txt\n",
      "4157.txt\n",
      "4158.txt\n"
     ]
    },
    {
     "name": "stderr",
     "output_type": "stream",
     "text": [
      " 33%|███▎      | 3596/10742 [02:08<05:04, 23.46it/s]"
     ]
    },
    {
     "name": "stdout",
     "output_type": "stream",
     "text": [
      "4159.txt\n",
      "4160.txt\n",
      "4161.txt\n",
      "4162.txt\n",
      "4163.txt\n",
      "4164.txt\n"
     ]
    },
    {
     "name": "stderr",
     "output_type": "stream",
     "text": [
      " 34%|███▎      | 3602/10742 [02:08<04:47, 24.85it/s]"
     ]
    },
    {
     "name": "stdout",
     "output_type": "stream",
     "text": [
      "4165.txt\n",
      "4166.txt\n",
      "4167.txt\n",
      "4168.txt\n",
      "4169.txt\n"
     ]
    },
    {
     "name": "stderr",
     "output_type": "stream",
     "text": [
      "\r",
      " 34%|███▎      | 3605/10742 [02:08<05:11, 22.92it/s]"
     ]
    },
    {
     "name": "stdout",
     "output_type": "stream",
     "text": [
      "4170.txt\n",
      "4171.txt\n",
      "4172.txt\n",
      "4173.txt\n",
      "4174.txt\n"
     ]
    },
    {
     "name": "stderr",
     "output_type": "stream",
     "text": [
      " 34%|███▎      | 3611/10742 [02:08<05:15, 22.58it/s]"
     ]
    },
    {
     "name": "stdout",
     "output_type": "stream",
     "text": [
      "4175.txt\n",
      "4176.txt\n",
      "4177.txt\n",
      "4178.txt\n",
      "4179.txt\n"
     ]
    },
    {
     "name": "stderr",
     "output_type": "stream",
     "text": [
      " 34%|███▎      | 3617/10742 [02:09<05:18, 22.34it/s]"
     ]
    },
    {
     "name": "stdout",
     "output_type": "stream",
     "text": [
      "4180.txt\n",
      "4181.txt\n",
      "4182.txt\n",
      "4183.txt\n",
      "4184.txt\n"
     ]
    },
    {
     "name": "stderr",
     "output_type": "stream",
     "text": [
      " 34%|███▎      | 3623/10742 [02:09<05:11, 22.89it/s]"
     ]
    },
    {
     "name": "stdout",
     "output_type": "stream",
     "text": [
      "4185.txt\n",
      "4186.txt\n",
      "4187.txt\n",
      "4188.txt\n",
      "4189.txt\n"
     ]
    },
    {
     "name": "stderr",
     "output_type": "stream",
     "text": [
      "\r",
      " 34%|███▍      | 3626/10742 [02:09<05:02, 23.55it/s]"
     ]
    },
    {
     "name": "stdout",
     "output_type": "stream",
     "text": [
      "4190.txt\n",
      "4191.txt\n",
      "4192.txt\n",
      "4193.txt\n",
      "4194.txt\n",
      "4195.txt\n"
     ]
    },
    {
     "name": "stderr",
     "output_type": "stream",
     "text": [
      " 34%|███▍      | 3632/10742 [02:09<04:57, 23.93it/s]"
     ]
    },
    {
     "name": "stdout",
     "output_type": "stream",
     "text": [
      "4196.txt\n",
      "4197.txt\n",
      "4198.txt\n",
      "4199.txt\n",
      "4200.txt\n"
     ]
    },
    {
     "name": "stderr",
     "output_type": "stream",
     "text": [
      " 34%|███▍      | 3638/10742 [02:09<05:09, 22.95it/s]"
     ]
    },
    {
     "name": "stdout",
     "output_type": "stream",
     "text": [
      "4201.txt\n",
      "4202.txt\n",
      "4203.txt\n",
      "4204.txt\n",
      "4205.txt\n"
     ]
    },
    {
     "name": "stderr",
     "output_type": "stream",
     "text": [
      "\r",
      " 34%|███▍      | 3641/10742 [02:10<05:25, 21.80it/s]"
     ]
    },
    {
     "name": "stdout",
     "output_type": "stream",
     "text": [
      "4206.txt\n",
      "4207.txt\n",
      "4208.txt\n",
      "4209.txt\n"
     ]
    },
    {
     "name": "stderr",
     "output_type": "stream",
     "text": [
      " 34%|███▍      | 3647/10742 [02:10<05:32, 21.31it/s]"
     ]
    },
    {
     "name": "stdout",
     "output_type": "stream",
     "text": [
      "4210.txt\n",
      "4211.txt\n",
      "4212.txt\n",
      "4213.txt\n",
      "4214.txt\n"
     ]
    },
    {
     "name": "stderr",
     "output_type": "stream",
     "text": [
      "\r",
      " 34%|███▍      | 3650/10742 [02:10<05:37, 21.00it/s]"
     ]
    },
    {
     "name": "stdout",
     "output_type": "stream",
     "text": [
      "4215.txt\n",
      "4216.txt\n",
      "4217.txt\n",
      "4218.txt\n",
      "4219.txt\n"
     ]
    },
    {
     "name": "stderr",
     "output_type": "stream",
     "text": [
      " 34%|███▍      | 3656/10742 [02:10<05:21, 22.07it/s]"
     ]
    },
    {
     "name": "stdout",
     "output_type": "stream",
     "text": [
      "4220.txt\n",
      "4221.txt\n",
      "4222.txt\n",
      "4223.txt\n",
      "4224.txt\n",
      "4225.txt\n"
     ]
    },
    {
     "name": "stderr",
     "output_type": "stream",
     "text": [
      " 34%|███▍      | 3662/10742 [02:11<04:40, 25.21it/s]"
     ]
    },
    {
     "name": "stdout",
     "output_type": "stream",
     "text": [
      "4226.txt\n",
      "4227.txt\n",
      "4228.txt\n",
      "4229.txt\n",
      "4230.txt\n",
      "4231.txt\n"
     ]
    },
    {
     "name": "stderr",
     "output_type": "stream",
     "text": [
      " 34%|███▍      | 3669/10742 [02:11<04:25, 26.64it/s]"
     ]
    },
    {
     "name": "stdout",
     "output_type": "stream",
     "text": [
      "4232.txt\n",
      "4233.txt\n",
      "4234.txt\n",
      "4235.txt\n",
      "4236.txt\n",
      "4237.txt\n"
     ]
    },
    {
     "name": "stderr",
     "output_type": "stream",
     "text": [
      " 34%|███▍      | 3675/10742 [02:11<04:20, 27.17it/s]"
     ]
    },
    {
     "name": "stdout",
     "output_type": "stream",
     "text": [
      "4238.txt\n",
      "4239.txt\n",
      "4240.txt\n",
      "4241.txt\n",
      "4242.txt\n",
      "4243.txt\n"
     ]
    },
    {
     "name": "stderr",
     "output_type": "stream",
     "text": [
      " 34%|███▍      | 3681/10742 [02:11<04:15, 27.68it/s]"
     ]
    },
    {
     "name": "stdout",
     "output_type": "stream",
     "text": [
      "4244.txt\n",
      "4245.txt\n",
      "4246.txt\n",
      "4247.txt\n",
      "4248.txt\n",
      "4249.txt\n"
     ]
    },
    {
     "name": "stderr",
     "output_type": "stream",
     "text": [
      " 34%|███▍      | 3687/10742 [02:11<04:21, 26.93it/s]"
     ]
    },
    {
     "name": "stdout",
     "output_type": "stream",
     "text": [
      "4250.txt\n",
      "4251.txt\n",
      "4252.txt\n",
      "4253.txt\n",
      "4254.txt\n",
      "4255.txt\n",
      "4256.txt\n"
     ]
    },
    {
     "name": "stderr",
     "output_type": "stream",
     "text": [
      " 34%|███▍      | 3694/10742 [02:12<04:08, 28.41it/s]"
     ]
    },
    {
     "name": "stdout",
     "output_type": "stream",
     "text": [
      "4257.txt\n",
      "4258.txt\n",
      "4259.txt\n",
      "4260.txt\n",
      "4261.txt\n",
      "4262.txt\n",
      "4263.txt\n"
     ]
    },
    {
     "name": "stderr",
     "output_type": "stream",
     "text": [
      " 34%|███▍      | 3700/10742 [02:12<04:06, 28.54it/s]"
     ]
    },
    {
     "name": "stdout",
     "output_type": "stream",
     "text": [
      "4264.txt\n",
      "4265.txt\n",
      "4266.txt\n",
      "4267.txt\n",
      "4268.txt\n",
      "4269.txt\n"
     ]
    },
    {
     "name": "stderr",
     "output_type": "stream",
     "text": [
      " 35%|███▍      | 3707/10742 [02:12<04:09, 28.20it/s]"
     ]
    },
    {
     "name": "stdout",
     "output_type": "stream",
     "text": [
      "4270.txt\n",
      "4271.txt\n",
      "4272.txt\n",
      "4273.txt\n",
      "4274.txt\n",
      "4275.txt\n"
     ]
    },
    {
     "name": "stderr",
     "output_type": "stream",
     "text": [
      " 35%|███▍      | 3714/10742 [02:12<04:04, 28.77it/s]"
     ]
    },
    {
     "name": "stdout",
     "output_type": "stream",
     "text": [
      "4276.txt\n",
      "4277.txt\n",
      "4278.txt\n",
      "4279.txt\n",
      "4280.txt\n",
      "4281.txt\n"
     ]
    },
    {
     "name": "stderr",
     "output_type": "stream",
     "text": [
      " 35%|███▍      | 3720/10742 [02:13<04:35, 25.48it/s]"
     ]
    },
    {
     "name": "stdout",
     "output_type": "stream",
     "text": [
      "4282.txt\n",
      "4283.txt\n",
      "4284.txt\n",
      "4285.txt\n",
      "4286.txt\n"
     ]
    },
    {
     "name": "stderr",
     "output_type": "stream",
     "text": [
      "\r",
      " 35%|███▍      | 3723/10742 [02:13<04:43, 24.74it/s]"
     ]
    },
    {
     "name": "stdout",
     "output_type": "stream",
     "text": [
      "4287.txt\n",
      "4288.txt\n",
      "4289.txt\n",
      "4290.txt\n",
      "4291.txt\n"
     ]
    },
    {
     "name": "stderr",
     "output_type": "stream",
     "text": [
      " 35%|███▍      | 3729/10742 [02:13<05:06, 22.91it/s]"
     ]
    },
    {
     "name": "stdout",
     "output_type": "stream",
     "text": [
      "4292.txt\n",
      "4293.txt\n",
      "4294.txt\n",
      "4295.txt\n"
     ]
    },
    {
     "name": "stderr",
     "output_type": "stream",
     "text": [
      "\r",
      " 35%|███▍      | 3732/10742 [02:13<05:14, 22.27it/s]"
     ]
    },
    {
     "name": "stdout",
     "output_type": "stream",
     "text": [
      "4296.txt\n",
      "4297.txt\n",
      "4298.txt\n",
      "4299.txt\n",
      "4300.txt\n"
     ]
    },
    {
     "name": "stderr",
     "output_type": "stream",
     "text": [
      " 35%|███▍      | 3738/10742 [02:13<05:08, 22.69it/s]"
     ]
    },
    {
     "name": "stdout",
     "output_type": "stream",
     "text": [
      "4301.txt\n",
      "4302.txt\n",
      "4303.txt\n",
      "4304.txt\n",
      "4305.txt\n",
      "4306.txt\n"
     ]
    },
    {
     "name": "stderr",
     "output_type": "stream",
     "text": [
      " 35%|███▍      | 3744/10742 [02:14<04:48, 24.22it/s]"
     ]
    },
    {
     "name": "stdout",
     "output_type": "stream",
     "text": [
      "4307.txt\n",
      "4308.txt\n",
      "4309.txt\n",
      "4310.txt\n",
      "4311.txt\n",
      "4312.txt\n"
     ]
    },
    {
     "name": "stderr",
     "output_type": "stream",
     "text": [
      " 35%|███▍      | 3750/10742 [02:14<04:45, 24.48it/s]"
     ]
    },
    {
     "name": "stdout",
     "output_type": "stream",
     "text": [
      "4313.txt\n",
      "4314.txt\n",
      "4315.txt\n",
      "4316.txt\n",
      "4317.txt\n",
      "4318.txt\n"
     ]
    },
    {
     "name": "stderr",
     "output_type": "stream",
     "text": [
      " 35%|███▍      | 3756/10742 [02:14<04:44, 24.52it/s]"
     ]
    },
    {
     "name": "stdout",
     "output_type": "stream",
     "text": [
      "4319.txt\n",
      "4320.txt\n",
      "4321.txt\n",
      "4322.txt\n",
      "4323.txt\n",
      "4324.txt\n"
     ]
    },
    {
     "name": "stderr",
     "output_type": "stream",
     "text": [
      " 35%|███▌      | 3762/10742 [02:14<04:36, 25.23it/s]"
     ]
    },
    {
     "name": "stdout",
     "output_type": "stream",
     "text": [
      "4325.txt\n",
      "4326.txt\n",
      "4327.txt\n",
      "4328.txt\n",
      "4329.txt\n",
      "4330.txt\n"
     ]
    },
    {
     "name": "stderr",
     "output_type": "stream",
     "text": [
      " 35%|███▌      | 3768/10742 [02:15<04:40, 24.86it/s]"
     ]
    },
    {
     "name": "stdout",
     "output_type": "stream",
     "text": [
      "4331.txt\n",
      "4332.txt\n",
      "4333.txt\n",
      "4334.txt\n",
      "4335.txt\n",
      "4336.txt\n"
     ]
    },
    {
     "name": "stderr",
     "output_type": "stream",
     "text": [
      " 35%|███▌      | 3774/10742 [02:15<04:41, 24.79it/s]"
     ]
    },
    {
     "name": "stdout",
     "output_type": "stream",
     "text": [
      "4337.txt\n",
      "4338.txt\n",
      "4339.txt\n",
      "4340.txt\n",
      "4341.txt\n",
      "4342.txt\n"
     ]
    },
    {
     "name": "stderr",
     "output_type": "stream",
     "text": [
      " 35%|███▌      | 3780/10742 [02:15<04:38, 25.00it/s]"
     ]
    },
    {
     "name": "stdout",
     "output_type": "stream",
     "text": [
      "4343.txt\n",
      "4344.txt\n",
      "4345.txt\n",
      "4346.txt\n",
      "4347.txt\n",
      "4348.txt\n"
     ]
    },
    {
     "name": "stderr",
     "output_type": "stream",
     "text": [
      " 35%|███▌      | 3786/10742 [02:15<04:40, 24.79it/s]"
     ]
    },
    {
     "name": "stdout",
     "output_type": "stream",
     "text": [
      "4349.txt\n",
      "4350.txt\n",
      "4351.txt\n",
      "4352.txt\n",
      "4353.txt\n"
     ]
    },
    {
     "name": "stderr",
     "output_type": "stream",
     "text": [
      "\r",
      " 35%|███▌      | 3789/10742 [02:16<04:56, 23.45it/s]"
     ]
    },
    {
     "name": "stdout",
     "output_type": "stream",
     "text": [
      "4354.txt\n",
      "4355.txt\n",
      "4356.txt\n",
      "4357.txt\n",
      "4358.txt\n"
     ]
    },
    {
     "name": "stderr",
     "output_type": "stream",
     "text": [
      " 35%|███▌      | 3795/10742 [02:16<05:29, 21.08it/s]"
     ]
    },
    {
     "name": "stdout",
     "output_type": "stream",
     "text": [
      "4359.txt\n",
      "4360.txt\n",
      "4361.txt\n",
      "4362.txt\n"
     ]
    },
    {
     "name": "stderr",
     "output_type": "stream",
     "text": [
      "\r",
      " 35%|███▌      | 3798/10742 [02:16<05:43, 20.24it/s]"
     ]
    },
    {
     "name": "stdout",
     "output_type": "stream",
     "text": [
      "4363.txt\n",
      "4364.txt\n",
      "4365.txt\n",
      "4366.txt\n",
      "4367.txt\n"
     ]
    },
    {
     "name": "stderr",
     "output_type": "stream",
     "text": [
      " 35%|███▌      | 3804/10742 [02:16<06:07, 18.88it/s]"
     ]
    },
    {
     "name": "stdout",
     "output_type": "stream",
     "text": [
      "4368.txt\n",
      "4369.txt\n",
      "4370.txt\n",
      "4371.txt\n"
     ]
    },
    {
     "name": "stderr",
     "output_type": "stream",
     "text": [
      " 35%|███▌      | 3810/10742 [02:17<05:22, 21.48it/s]"
     ]
    },
    {
     "name": "stdout",
     "output_type": "stream",
     "text": [
      "4372.txt\n",
      "4373.txt\n",
      "4374.txt\n",
      "4375.txt\n",
      "4376.txt\n"
     ]
    },
    {
     "name": "stderr",
     "output_type": "stream",
     "text": [
      "\r",
      " 35%|███▌      | 3813/10742 [02:17<05:12, 22.21it/s]"
     ]
    },
    {
     "name": "stdout",
     "output_type": "stream",
     "text": [
      "4377.txt\n",
      "4378.txt\n",
      "4379.txt\n",
      "4380.txt\n",
      "4381.txt\n"
     ]
    },
    {
     "name": "stderr",
     "output_type": "stream",
     "text": [
      " 36%|███▌      | 3819/10742 [02:17<04:57, 23.29it/s]"
     ]
    },
    {
     "name": "stdout",
     "output_type": "stream",
     "text": [
      "4382.txt\n",
      "4383.txt\n",
      "4384.txt\n",
      "4385.txt\n",
      "4386.txt\n",
      "4387.txt\n"
     ]
    },
    {
     "name": "stderr",
     "output_type": "stream",
     "text": [
      " 36%|███▌      | 3825/10742 [02:17<04:41, 24.54it/s]"
     ]
    },
    {
     "name": "stdout",
     "output_type": "stream",
     "text": [
      "4388.txt\n",
      "4389.txt\n",
      "4390.txt\n",
      "4391.txt\n",
      "4392.txt\n",
      "4393.txt\n"
     ]
    },
    {
     "name": "stderr",
     "output_type": "stream",
     "text": [
      " 36%|███▌      | 3831/10742 [02:17<05:09, 22.31it/s]"
     ]
    },
    {
     "name": "stdout",
     "output_type": "stream",
     "text": [
      "4394.txt\n",
      "4395.txt\n",
      "4396.txt\n",
      "4397.txt\n"
     ]
    },
    {
     "name": "stderr",
     "output_type": "stream",
     "text": [
      "\r",
      " 36%|███▌      | 3834/10742 [02:18<05:15, 21.91it/s]"
     ]
    },
    {
     "name": "stdout",
     "output_type": "stream",
     "text": [
      "4398.txt\n",
      "4399.txt\n",
      "4400.txt\n",
      "4401.txt\n"
     ]
    },
    {
     "name": "stderr",
     "output_type": "stream",
     "text": [
      "\r",
      " 36%|███▌      | 3837/10742 [02:18<05:22, 21.39it/s]"
     ]
    },
    {
     "name": "stdout",
     "output_type": "stream",
     "text": [
      "4402.txt\n",
      "4403.txt\n",
      "4404.txt\n",
      "4405.txt\n",
      "4406.txt\n"
     ]
    },
    {
     "name": "stderr",
     "output_type": "stream",
     "text": [
      " 36%|███▌      | 3843/10742 [02:18<04:57, 23.17it/s]"
     ]
    },
    {
     "name": "stdout",
     "output_type": "stream",
     "text": [
      "4407.txt\n",
      "4408.txt\n",
      "4409.txt\n",
      "4410.txt\n",
      "4411.txt\n",
      "4412.txt\n"
     ]
    },
    {
     "name": "stderr",
     "output_type": "stream",
     "text": [
      " 36%|███▌      | 3849/10742 [02:18<04:38, 24.73it/s]"
     ]
    },
    {
     "name": "stdout",
     "output_type": "stream",
     "text": [
      "4413.txt\n",
      "4414.txt\n",
      "4415.txt\n",
      "4416.txt\n",
      "4417.txt\n"
     ]
    },
    {
     "name": "stderr",
     "output_type": "stream",
     "text": [
      " 36%|███▌      | 3855/10742 [02:18<04:44, 24.23it/s]"
     ]
    },
    {
     "name": "stdout",
     "output_type": "stream",
     "text": [
      "4418.txt\n",
      "4419.txt\n",
      "4420.txt\n",
      "4421.txt\n",
      "4422.txt\n"
     ]
    },
    {
     "name": "stderr",
     "output_type": "stream",
     "text": [
      "\r",
      " 36%|███▌      | 3858/10742 [02:19<04:48, 23.83it/s]"
     ]
    },
    {
     "name": "stdout",
     "output_type": "stream",
     "text": [
      "4423.txt\n",
      "4424.txt\n",
      "4425.txt\n",
      "4426.txt\n",
      "4427.txt\n"
     ]
    },
    {
     "name": "stderr",
     "output_type": "stream",
     "text": [
      " 36%|███▌      | 3864/10742 [02:19<05:02, 22.73it/s]"
     ]
    },
    {
     "name": "stdout",
     "output_type": "stream",
     "text": [
      "4428.txt\n",
      "4429.txt\n",
      "4430.txt\n",
      "4431.txt\n",
      "4432.txt\n"
     ]
    },
    {
     "name": "stderr",
     "output_type": "stream",
     "text": [
      " 36%|███▌      | 3870/10742 [02:19<04:42, 24.29it/s]"
     ]
    },
    {
     "name": "stdout",
     "output_type": "stream",
     "text": [
      "4433.txt\n",
      "4434.txt\n",
      "4435.txt\n",
      "4436.txt\n",
      "4437.txt\n",
      "4438.txt\n"
     ]
    },
    {
     "name": "stderr",
     "output_type": "stream",
     "text": [
      " 36%|███▌      | 3876/10742 [02:19<04:34, 25.02it/s]"
     ]
    },
    {
     "name": "stdout",
     "output_type": "stream",
     "text": [
      "4439.txt\n",
      "4440.txt\n",
      "4441.txt\n",
      "4442.txt\n",
      "4443.txt\n",
      "4444.txt\n"
     ]
    },
    {
     "name": "stderr",
     "output_type": "stream",
     "text": [
      " 36%|███▌      | 3884/10742 [02:20<04:12, 27.13it/s]"
     ]
    },
    {
     "name": "stdout",
     "output_type": "stream",
     "text": [
      "4445.txt\n",
      "4446.txt\n",
      "4447.txt\n",
      "4448.txt\n",
      "4449.txt\n",
      "4450.txt\n"
     ]
    },
    {
     "name": "stderr",
     "output_type": "stream",
     "text": [
      "\r",
      " 36%|███▌      | 3887/10742 [02:20<04:26, 25.75it/s]"
     ]
    },
    {
     "name": "stdout",
     "output_type": "stream",
     "text": [
      "4451.txt\n",
      "4452.txt\n",
      "4453.txt\n",
      "4454.txt\n",
      "4455.txt\n",
      "4456.txt\n"
     ]
    },
    {
     "name": "stderr",
     "output_type": "stream",
     "text": [
      " 36%|███▋      | 3895/10742 [02:20<04:00, 28.50it/s]"
     ]
    },
    {
     "name": "stdout",
     "output_type": "stream",
     "text": [
      "4457.txt\n",
      "4458.txt\n",
      "4459.txt\n",
      "4460.txt\n",
      "4461.txt\n",
      "4462.txt\n",
      "4463.txt\n"
     ]
    },
    {
     "name": "stderr",
     "output_type": "stream",
     "text": [
      " 36%|███▋      | 3903/10742 [02:20<03:51, 29.56it/s]"
     ]
    },
    {
     "name": "stdout",
     "output_type": "stream",
     "text": [
      "4464.txt\n",
      "4465.txt\n",
      "4466.txt\n",
      "4467.txt\n",
      "4468.txt\n",
      "4469.txt\n"
     ]
    },
    {
     "name": "stderr",
     "output_type": "stream",
     "text": [
      "\r",
      " 36%|███▋      | 3906/10742 [02:20<03:51, 29.47it/s]"
     ]
    },
    {
     "name": "stdout",
     "output_type": "stream",
     "text": [
      "4470.txt\n",
      "4471.txt\n",
      "4472.txt\n",
      "4473.txt\n",
      "4474.txt\n",
      "4475.txt\n"
     ]
    },
    {
     "name": "stderr",
     "output_type": "stream",
     "text": [
      " 36%|███▋      | 3914/10742 [02:21<03:43, 30.49it/s]"
     ]
    },
    {
     "name": "stdout",
     "output_type": "stream",
     "text": [
      "4476.txt\n",
      "4477.txt\n",
      "4478.txt\n",
      "4479.txt\n",
      "4480.txt\n",
      "4481.txt\n",
      "4482.txt\n"
     ]
    },
    {
     "name": "stderr",
     "output_type": "stream",
     "text": [
      " 37%|███▋      | 3922/10742 [02:21<03:47, 30.04it/s]"
     ]
    },
    {
     "name": "stdout",
     "output_type": "stream",
     "text": [
      "4483.txt\n",
      "4484.txt\n",
      "4485.txt\n",
      "4486.txt\n",
      "4487.txt\n",
      "4488.txt\n"
     ]
    },
    {
     "name": "stderr",
     "output_type": "stream",
     "text": [
      "\r",
      " 37%|███▋      | 3926/10742 [02:21<03:45, 30.22it/s]"
     ]
    },
    {
     "name": "stdout",
     "output_type": "stream",
     "text": [
      "4489.txt\n",
      "4490.txt\n",
      "4491.txt\n",
      "4492.txt\n",
      "4493.txt\n",
      "4494.txt\n",
      "4495.txt\n"
     ]
    },
    {
     "name": "stderr",
     "output_type": "stream",
     "text": [
      " 37%|███▋      | 3934/10742 [02:21<03:43, 30.47it/s]"
     ]
    },
    {
     "name": "stdout",
     "output_type": "stream",
     "text": [
      "4496.txt\n",
      "4497.txt\n",
      "4498.txt\n",
      "4499.txt\n",
      "4500.txt\n",
      "4501.txt\n",
      "4502.txt\n"
     ]
    },
    {
     "name": "stderr",
     "output_type": "stream",
     "text": [
      " 37%|███▋      | 3941/10742 [02:22<04:04, 27.81it/s]"
     ]
    },
    {
     "name": "stdout",
     "output_type": "stream",
     "text": [
      "4503.txt\n",
      "4504.txt\n",
      "4505.txt\n",
      "4506.txt\n",
      "4507.txt\n"
     ]
    },
    {
     "name": "stderr",
     "output_type": "stream",
     "text": [
      "\r",
      " 37%|███▋      | 3944/10742 [02:22<04:12, 26.92it/s]"
     ]
    },
    {
     "name": "stdout",
     "output_type": "stream",
     "text": [
      "4508.txt\n",
      "4509.txt\n",
      "4510.txt\n",
      "4511.txt\n",
      "4512.txt\n"
     ]
    },
    {
     "name": "stderr",
     "output_type": "stream",
     "text": [
      " 37%|███▋      | 3950/10742 [02:22<04:24, 25.63it/s]"
     ]
    },
    {
     "name": "stdout",
     "output_type": "stream",
     "text": [
      "4513.txt\n",
      "4514.txt\n",
      "4515.txt\n",
      "4516.txt\n",
      "4517.txt\n"
     ]
    },
    {
     "name": "stderr",
     "output_type": "stream",
     "text": [
      " 37%|███▋      | 3956/10742 [02:22<04:22, 25.83it/s]"
     ]
    },
    {
     "name": "stdout",
     "output_type": "stream",
     "text": [
      "4518.txt\n",
      "4519.txt\n",
      "4520.txt\n",
      "4521.txt\n",
      "4522.txt\n",
      "4523.txt\n"
     ]
    },
    {
     "name": "stderr",
     "output_type": "stream",
     "text": [
      " 37%|███▋      | 3963/10742 [02:22<04:13, 26.72it/s]"
     ]
    },
    {
     "name": "stdout",
     "output_type": "stream",
     "text": [
      "4524.txt\n",
      "4525.txt\n",
      "4526.txt\n",
      "4527.txt\n",
      "4528.txt\n",
      "4529.txt\n"
     ]
    },
    {
     "name": "stderr",
     "output_type": "stream",
     "text": [
      "\r",
      " 37%|███▋      | 3967/10742 [02:23<04:00, 28.12it/s]"
     ]
    },
    {
     "name": "stdout",
     "output_type": "stream",
     "text": [
      "4530.txt\n",
      "4531.txt\n",
      "4532.txt\n",
      "4533.txt\n",
      "4534.txt\n",
      "4535.txt\n"
     ]
    },
    {
     "name": "stderr",
     "output_type": "stream",
     "text": [
      " 37%|███▋      | 3974/10742 [02:23<03:50, 29.42it/s]"
     ]
    },
    {
     "name": "stdout",
     "output_type": "stream",
     "text": [
      "4536.txt\n",
      "4537.txt\n",
      "4538.txt\n",
      "4539.txt\n",
      "4540.txt\n",
      "4541.txt\n",
      "4542.txt\n"
     ]
    },
    {
     "name": "stderr",
     "output_type": "stream",
     "text": [
      " 37%|███▋      | 3981/10742 [02:23<03:48, 29.62it/s]"
     ]
    },
    {
     "name": "stdout",
     "output_type": "stream",
     "text": [
      "4543.txt\n",
      "4544.txt\n",
      "4545.txt\n",
      "4546.txt\n",
      "4547.txt\n",
      "4548.txt\n",
      "4549.txt\n"
     ]
    },
    {
     "name": "stderr",
     "output_type": "stream",
     "text": [
      " 37%|███▋      | 3989/10742 [02:23<03:42, 30.37it/s]"
     ]
    },
    {
     "name": "stdout",
     "output_type": "stream",
     "text": [
      "4550.txt\n",
      "4551.txt\n",
      "4552.txt\n",
      "4553.txt\n",
      "4554.txt\n",
      "4555.txt\n"
     ]
    },
    {
     "name": "stderr",
     "output_type": "stream",
     "text": [
      "\r",
      " 37%|███▋      | 3993/10742 [02:23<03:42, 30.34it/s]"
     ]
    },
    {
     "name": "stdout",
     "output_type": "stream",
     "text": [
      "4556.txt\n",
      "4557.txt\n",
      "4558.txt\n",
      "4559.txt\n",
      "4560.txt\n",
      "4561.txt\n",
      "4562.txt\n"
     ]
    },
    {
     "name": "stderr",
     "output_type": "stream",
     "text": [
      " 37%|███▋      | 4001/10742 [02:24<03:38, 30.79it/s]"
     ]
    },
    {
     "name": "stdout",
     "output_type": "stream",
     "text": [
      "4563.txt\n",
      "4564.txt\n",
      "4565.txt\n",
      "4566.txt\n",
      "4567.txt\n",
      "4568.txt\n",
      "4569.txt\n"
     ]
    },
    {
     "name": "stderr",
     "output_type": "stream",
     "text": [
      " 37%|███▋      | 4009/10742 [02:24<03:42, 30.30it/s]"
     ]
    },
    {
     "name": "stdout",
     "output_type": "stream",
     "text": [
      "4570.txt\n",
      "4571.txt\n",
      "4572.txt\n",
      "4573.txt\n",
      "4574.txt\n",
      "4575.txt\n"
     ]
    },
    {
     "name": "stderr",
     "output_type": "stream",
     "text": [
      "\r",
      " 37%|███▋      | 4013/10742 [02:24<03:55, 28.55it/s]"
     ]
    },
    {
     "name": "stdout",
     "output_type": "stream",
     "text": [
      "4576.txt\n",
      "4577.txt\n",
      "4578.txt\n",
      "4579.txt\n",
      "4580.txt\n"
     ]
    },
    {
     "name": "stderr",
     "output_type": "stream",
     "text": [
      "\r",
      " 37%|███▋      | 4016/10742 [02:24<04:10, 26.88it/s]"
     ]
    },
    {
     "name": "stdout",
     "output_type": "stream",
     "text": [
      "4581.txt\n",
      "4582.txt\n",
      "4583.txt\n",
      "4584.txt\n",
      "4585.txt\n"
     ]
    },
    {
     "name": "stderr",
     "output_type": "stream",
     "text": [
      " 37%|███▋      | 4022/10742 [02:25<04:36, 24.34it/s]"
     ]
    },
    {
     "name": "stdout",
     "output_type": "stream",
     "text": [
      "4586.txt\n",
      "4587.txt\n",
      "4588.txt\n",
      "4589.txt\n",
      "4590.txt\n"
     ]
    },
    {
     "name": "stderr",
     "output_type": "stream",
     "text": [
      " 37%|███▋      | 4028/10742 [02:25<04:53, 22.87it/s]"
     ]
    },
    {
     "name": "stdout",
     "output_type": "stream",
     "text": [
      "4591.txt\n",
      "4592.txt\n",
      "4593.txt\n",
      "4594.txt\n",
      "4595.txt\n"
     ]
    },
    {
     "name": "stderr",
     "output_type": "stream",
     "text": [
      "\r",
      " 38%|███▊      | 4031/10742 [02:25<05:02, 22.17it/s]"
     ]
    },
    {
     "name": "stdout",
     "output_type": "stream",
     "text": [
      "4596.txt\n",
      "4597.txt\n",
      "4598.txt\n",
      "4599.txt\n",
      "4600.txt\n"
     ]
    },
    {
     "name": "stderr",
     "output_type": "stream",
     "text": [
      " 38%|███▊      | 4037/10742 [02:25<04:59, 22.38it/s]"
     ]
    },
    {
     "name": "stdout",
     "output_type": "stream",
     "text": [
      "4601.txt\n",
      "4602.txt\n",
      "4603.txt\n",
      "4604.txt\n",
      "4605.txt\n"
     ]
    },
    {
     "name": "stderr",
     "output_type": "stream",
     "text": [
      " 38%|███▊      | 4043/10742 [02:25<04:41, 23.81it/s]"
     ]
    },
    {
     "name": "stdout",
     "output_type": "stream",
     "text": [
      "4606.txt\n",
      "4607.txt\n",
      "4608.txt\n",
      "4609.txt\n",
      "4610.txt\n",
      "4611.txt\n"
     ]
    },
    {
     "name": "stderr",
     "output_type": "stream",
     "text": [
      " 38%|███▊      | 4049/10742 [02:26<04:28, 24.91it/s]"
     ]
    },
    {
     "name": "stdout",
     "output_type": "stream",
     "text": [
      "4612.txt\n",
      "4613.txt\n",
      "4614.txt\n",
      "4615.txt\n",
      "4616.txt\n",
      "4617.txt\n",
      "4618.txt\n"
     ]
    },
    {
     "name": "stderr",
     "output_type": "stream",
     "text": [
      " 38%|███▊      | 4057/10742 [02:26<03:55, 28.33it/s]"
     ]
    },
    {
     "name": "stdout",
     "output_type": "stream",
     "text": [
      "4619.txt\n",
      "4620.txt\n",
      "4621.txt\n",
      "4622.txt\n",
      "4623.txt\n",
      "4624.txt\n",
      "4625.txt\n"
     ]
    },
    {
     "name": "stderr",
     "output_type": "stream",
     "text": [
      " 38%|███▊      | 4065/10742 [02:26<03:45, 29.67it/s]"
     ]
    },
    {
     "name": "stdout",
     "output_type": "stream",
     "text": [
      "4626.txt\n",
      "4627.txt\n",
      "4628.txt\n",
      "4629.txt\n",
      "4630.txt\n",
      "4631.txt\n",
      "4632.txt\n"
     ]
    },
    {
     "name": "stderr",
     "output_type": "stream",
     "text": [
      " 38%|███▊      | 4072/10742 [02:26<03:41, 30.13it/s]"
     ]
    },
    {
     "name": "stdout",
     "output_type": "stream",
     "text": [
      "4633.txt\n",
      "4634.txt\n",
      "4635.txt\n",
      "4636.txt\n",
      "4637.txt\n",
      "4638.txt\n"
     ]
    },
    {
     "name": "stderr",
     "output_type": "stream",
     "text": [
      "\r",
      " 38%|███▊      | 4076/10742 [02:27<03:41, 30.14it/s]"
     ]
    },
    {
     "name": "stdout",
     "output_type": "stream",
     "text": [
      "4639.txt\n",
      "4640.txt\n",
      "4641.txt\n",
      "4642.txt\n",
      "4643.txt\n",
      "4644.txt\n"
     ]
    },
    {
     "name": "stderr",
     "output_type": "stream",
     "text": [
      " 38%|███▊      | 4084/10742 [02:27<03:38, 30.46it/s]"
     ]
    },
    {
     "name": "stdout",
     "output_type": "stream",
     "text": [
      "4645.txt\n",
      "4646.txt\n",
      "4647.txt\n",
      "4648.txt\n",
      "4649.txt\n",
      "4650.txt\n"
     ]
    },
    {
     "name": "stderr",
     "output_type": "stream",
     "text": [
      "\r",
      " 38%|███▊      | 4088/10742 [02:27<03:37, 30.58it/s]"
     ]
    },
    {
     "name": "stdout",
     "output_type": "stream",
     "text": [
      "4651.txt\n",
      "4652.txt\n",
      "4653.txt\n",
      "4654.txt\n",
      "4655.txt\n",
      "4656.txt\n",
      "4657.txt\n"
     ]
    },
    {
     "name": "stderr",
     "output_type": "stream",
     "text": [
      " 38%|███▊      | 4096/10742 [02:27<03:37, 30.52it/s]"
     ]
    },
    {
     "name": "stdout",
     "output_type": "stream",
     "text": [
      "4658.txt\n",
      "4659.txt\n",
      "4660.txt\n",
      "4661.txt\n",
      "4662.txt\n",
      "4663.txt\n"
     ]
    },
    {
     "name": "stderr",
     "output_type": "stream",
     "text": [
      "\r",
      " 38%|███▊      | 4100/10742 [02:27<03:54, 28.33it/s]"
     ]
    },
    {
     "name": "stdout",
     "output_type": "stream",
     "text": [
      "4664.txt\n",
      "4665.txt\n",
      "4666.txt\n",
      "4667.txt\n",
      "4668.txt\n"
     ]
    },
    {
     "name": "stderr",
     "output_type": "stream",
     "text": [
      " 38%|███▊      | 4106/10742 [02:28<04:10, 26.47it/s]"
     ]
    },
    {
     "name": "stdout",
     "output_type": "stream",
     "text": [
      "4669.txt\n",
      "4670.txt\n",
      "4671.txt\n",
      "4672.txt\n",
      "4673.txt\n"
     ]
    },
    {
     "name": "stderr",
     "output_type": "stream",
     "text": [
      " 38%|███▊      | 4112/10742 [02:28<04:26, 24.88it/s]"
     ]
    },
    {
     "name": "stdout",
     "output_type": "stream",
     "text": [
      "4674.txt\n",
      "4675.txt\n",
      "4676.txt\n",
      "4677.txt\n",
      "4678.txt\n"
     ]
    },
    {
     "name": "stderr",
     "output_type": "stream",
     "text": [
      "\r",
      " 38%|███▊      | 4115/10742 [02:28<04:29, 24.57it/s]"
     ]
    },
    {
     "name": "stdout",
     "output_type": "stream",
     "text": [
      "4679.txt\n",
      "4680.txt\n",
      "4681.txt\n",
      "4682.txt\n",
      "4683.txt\n"
     ]
    },
    {
     "name": "stderr",
     "output_type": "stream",
     "text": [
      " 38%|███▊      | 4122/10742 [02:28<04:00, 27.50it/s]"
     ]
    },
    {
     "name": "stdout",
     "output_type": "stream",
     "text": [
      "4684.txt\n",
      "4685.txt\n",
      "4686.txt\n",
      "4687.txt\n",
      "4688.txt\n",
      "4689.txt\n"
     ]
    },
    {
     "name": "stderr",
     "output_type": "stream",
     "text": [
      " 38%|███▊      | 4128/10742 [02:28<03:59, 27.62it/s]"
     ]
    },
    {
     "name": "stdout",
     "output_type": "stream",
     "text": [
      "4690.txt\n",
      "4691.txt\n",
      "4692.txt\n",
      "4693.txt\n",
      "4694.txt\n",
      "4695.txt\n",
      "4696.txt\n"
     ]
    },
    {
     "name": "stderr",
     "output_type": "stream",
     "text": [
      " 38%|███▊      | 4135/10742 [02:29<03:46, 29.16it/s]"
     ]
    },
    {
     "name": "stdout",
     "output_type": "stream",
     "text": [
      "4697.txt\n",
      "4698.txt\n",
      "4699.txt\n",
      "4700.txt\n",
      "4701.txt\n",
      "4702.txt\n",
      "4703.txt\n"
     ]
    },
    {
     "name": "stderr",
     "output_type": "stream",
     "text": [
      " 39%|███▊      | 4142/10742 [02:29<03:40, 29.87it/s]"
     ]
    },
    {
     "name": "stdout",
     "output_type": "stream",
     "text": [
      "4704.txt\n",
      "4705.txt\n",
      "4706.txt\n",
      "4707.txt\n",
      "4708.txt\n",
      "4709.txt\n",
      "4710.txt\n"
     ]
    },
    {
     "name": "stderr",
     "output_type": "stream",
     "text": [
      " 39%|███▊      | 4150/10742 [02:29<03:36, 30.46it/s]"
     ]
    },
    {
     "name": "stdout",
     "output_type": "stream",
     "text": [
      "4711.txt\n",
      "4712.txt\n",
      "4713.txt\n",
      "4714.txt\n",
      "4715.txt\n",
      "4716.txt\n"
     ]
    },
    {
     "name": "stderr",
     "output_type": "stream",
     "text": [
      "\r",
      " 39%|███▊      | 4154/10742 [02:29<03:39, 30.00it/s]"
     ]
    },
    {
     "name": "stdout",
     "output_type": "stream",
     "text": [
      "4717.txt\n",
      "4718.txt\n",
      "4719.txt\n",
      "4720.txt\n",
      "4721.txt\n",
      "4722.txt\n"
     ]
    },
    {
     "name": "stderr",
     "output_type": "stream",
     "text": [
      " 39%|███▊      | 4162/10742 [02:30<03:36, 30.46it/s]"
     ]
    },
    {
     "name": "stdout",
     "output_type": "stream",
     "text": [
      "4723.txt\n",
      "4724.txt\n",
      "4725.txt\n",
      "4726.txt\n",
      "4727.txt\n",
      "4728.txt\n"
     ]
    },
    {
     "name": "stderr",
     "output_type": "stream",
     "text": [
      "\r",
      " 39%|███▉      | 4166/10742 [02:30<03:35, 30.58it/s]"
     ]
    },
    {
     "name": "stdout",
     "output_type": "stream",
     "text": [
      "4729.txt\n",
      "4730.txt\n",
      "4731.txt\n",
      "4732.txt\n",
      "4733.txt\n",
      "4734.txt\n",
      "4735.txt\n"
     ]
    },
    {
     "name": "stderr",
     "output_type": "stream",
     "text": [
      " 39%|███▉      | 4174/10742 [02:30<03:33, 30.71it/s]"
     ]
    },
    {
     "name": "stdout",
     "output_type": "stream",
     "text": [
      "4736.txt\n",
      "4737.txt\n",
      "4738.txt\n",
      "4739.txt\n",
      "4740.txt\n",
      "4741.txt\n",
      "4742.txt\n"
     ]
    },
    {
     "name": "stderr",
     "output_type": "stream",
     "text": [
      " 39%|███▉      | 4181/10742 [02:30<03:45, 29.10it/s]"
     ]
    },
    {
     "name": "stdout",
     "output_type": "stream",
     "text": [
      "4743.txt\n",
      "4744.txt\n",
      "4745.txt\n",
      "4746.txt\n",
      "4747.txt\n",
      "4748.txt\n"
     ]
    },
    {
     "name": "stderr",
     "output_type": "stream",
     "text": [
      " 39%|███▉      | 4187/10742 [02:30<04:06, 26.54it/s]"
     ]
    },
    {
     "name": "stdout",
     "output_type": "stream",
     "text": [
      "4749.txt\n",
      "4750.txt\n",
      "4751.txt\n",
      "4752.txt\n",
      "4753.txt\n",
      "4754.txt\n"
     ]
    },
    {
     "name": "stderr",
     "output_type": "stream",
     "text": [
      " 39%|███▉      | 4193/10742 [02:31<04:12, 25.98it/s]"
     ]
    },
    {
     "name": "stdout",
     "output_type": "stream",
     "text": [
      "4755.txt\n",
      "4756.txt\n",
      "4757.txt\n",
      "4758.txt\n",
      "4759.txt\n",
      "4760.txt\n"
     ]
    },
    {
     "name": "stderr",
     "output_type": "stream",
     "text": [
      " 39%|███▉      | 4199/10742 [02:31<04:15, 25.58it/s]"
     ]
    },
    {
     "name": "stdout",
     "output_type": "stream",
     "text": [
      "4761.txt\n",
      "4762.txt\n",
      "4763.txt\n",
      "4764.txt\n",
      "4765.txt\n"
     ]
    },
    {
     "name": "stderr",
     "output_type": "stream",
     "text": [
      "\r",
      " 39%|███▉      | 4203/10742 [02:31<03:59, 27.27it/s]"
     ]
    },
    {
     "name": "stdout",
     "output_type": "stream",
     "text": [
      "4766.txt\n",
      "4767.txt\n",
      "4768.txt\n",
      "4769.txt\n",
      "4770.txt\n",
      "4771.txt\n",
      "4772.txt\n"
     ]
    },
    {
     "name": "stderr",
     "output_type": "stream",
     "text": [
      " 39%|███▉      | 4209/10742 [02:31<04:03, 26.83it/s]"
     ]
    },
    {
     "name": "stdout",
     "output_type": "stream",
     "text": [
      "4773.txt\n",
      "4774.txt\n",
      "4775.txt\n",
      "4776.txt\n",
      "4777.txt\n",
      "4778.txt\n"
     ]
    },
    {
     "name": "stderr",
     "output_type": "stream",
     "text": [
      " 39%|███▉      | 4217/10742 [02:32<03:42, 29.30it/s]"
     ]
    },
    {
     "name": "stdout",
     "output_type": "stream",
     "text": [
      "4779.txt\n",
      "4780.txt\n",
      "4781.txt\n",
      "4782.txt\n",
      "4783.txt\n",
      "4784.txt\n",
      "4785.txt\n"
     ]
    },
    {
     "name": "stderr",
     "output_type": "stream",
     "text": [
      " 39%|███▉      | 4224/10742 [02:32<03:38, 29.84it/s]"
     ]
    },
    {
     "name": "stdout",
     "output_type": "stream",
     "text": [
      "4786.txt\n",
      "4787.txt\n",
      "4788.txt\n",
      "4789.txt\n",
      "4790.txt\n",
      "4791.txt\n",
      "4792.txt\n"
     ]
    },
    {
     "name": "stderr",
     "output_type": "stream",
     "text": [
      " 39%|███▉      | 4232/10742 [02:32<03:31, 30.73it/s]"
     ]
    },
    {
     "name": "stdout",
     "output_type": "stream",
     "text": [
      "4793.txt\n",
      "4794.txt\n",
      "4795.txt\n",
      "4796.txt\n",
      "4797.txt\n",
      "4798.txt\n"
     ]
    },
    {
     "name": "stderr",
     "output_type": "stream",
     "text": [
      "\r",
      " 39%|███▉      | 4236/10742 [02:32<03:31, 30.69it/s]"
     ]
    },
    {
     "name": "stdout",
     "output_type": "stream",
     "text": [
      "4799.txt\n",
      "4800.txt\n",
      "4801.txt\n",
      "4802.txt\n",
      "4803.txt\n",
      "4804.txt\n",
      "4805.txt\n"
     ]
    },
    {
     "name": "stderr",
     "output_type": "stream",
     "text": [
      " 39%|███▉      | 4243/10742 [02:32<03:51, 28.12it/s]"
     ]
    },
    {
     "name": "stdout",
     "output_type": "stream",
     "text": [
      "4806.txt\n",
      "4807.txt\n",
      "4808.txt\n",
      "4809.txt\n",
      "4810.txt\n"
     ]
    },
    {
     "name": "stderr",
     "output_type": "stream",
     "text": [
      " 40%|███▉      | 4249/10742 [02:33<03:59, 27.17it/s]"
     ]
    },
    {
     "name": "stdout",
     "output_type": "stream",
     "text": [
      "4811.txt\n",
      "4812.txt\n",
      "4813.txt\n",
      "4814.txt\n",
      "4815.txt\n"
     ]
    },
    {
     "name": "stderr",
     "output_type": "stream",
     "text": [
      "\r",
      " 40%|███▉      | 4252/10742 [02:33<03:54, 27.63it/s]"
     ]
    },
    {
     "name": "stdout",
     "output_type": "stream",
     "text": [
      "4816.txt\n",
      "4817.txt\n",
      "4818.txt\n",
      "4819.txt\n",
      "4820.txt\n",
      "4821.txt\n",
      "4822.txt\n"
     ]
    },
    {
     "name": "stderr",
     "output_type": "stream",
     "text": [
      " 40%|███▉      | 4259/10742 [02:33<04:04, 26.50it/s]"
     ]
    },
    {
     "name": "stdout",
     "output_type": "stream",
     "text": [
      "4823.txt\n",
      "4824.txt\n",
      "4825.txt\n",
      "4826.txt\n",
      "4827.txt\n"
     ]
    },
    {
     "name": "stderr",
     "output_type": "stream",
     "text": [
      " 40%|███▉      | 4265/10742 [02:33<04:21, 24.77it/s]"
     ]
    },
    {
     "name": "stdout",
     "output_type": "stream",
     "text": [
      "4828.txt\n",
      "4829.txt\n",
      "4830.txt\n",
      "4831.txt\n",
      "4832.txt\n"
     ]
    },
    {
     "name": "stderr",
     "output_type": "stream",
     "text": [
      " 40%|███▉      | 4271/10742 [02:34<04:27, 24.15it/s]"
     ]
    },
    {
     "name": "stdout",
     "output_type": "stream",
     "text": [
      "4833.txt\n",
      "4834.txt\n",
      "4835.txt\n",
      "4836.txt\n",
      "4837.txt\n"
     ]
    },
    {
     "name": "stderr",
     "output_type": "stream",
     "text": [
      "\r",
      " 40%|███▉      | 4274/10742 [02:34<04:26, 24.30it/s]"
     ]
    },
    {
     "name": "stdout",
     "output_type": "stream",
     "text": [
      "4838.txt\n",
      "4839.txt\n",
      "4840.txt\n",
      "4841.txt\n",
      "4842.txt\n",
      "4843.txt\n"
     ]
    },
    {
     "name": "stderr",
     "output_type": "stream",
     "text": [
      " 40%|███▉      | 4280/10742 [02:34<04:26, 24.26it/s]"
     ]
    },
    {
     "name": "stdout",
     "output_type": "stream",
     "text": [
      "4844.txt\n",
      "4845.txt\n",
      "4846.txt\n",
      "4847.txt\n",
      "4848.txt\n",
      "4849.txt\n"
     ]
    },
    {
     "name": "stderr",
     "output_type": "stream",
     "text": [
      " 40%|███▉      | 4287/10742 [02:34<03:59, 26.93it/s]"
     ]
    },
    {
     "name": "stdout",
     "output_type": "stream",
     "text": [
      "4850.txt\n",
      "4851.txt\n",
      "4852.txt\n",
      "4853.txt\n",
      "4854.txt\n",
      "4855.txt\n"
     ]
    },
    {
     "name": "stderr",
     "output_type": "stream",
     "text": [
      " 40%|███▉      | 4293/10742 [02:34<04:17, 25.09it/s]"
     ]
    },
    {
     "name": "stdout",
     "output_type": "stream",
     "text": [
      "4856.txt\n",
      "4857.txt\n",
      "4858.txt\n",
      "4859.txt\n",
      "4860.txt\n"
     ]
    },
    {
     "name": "stderr",
     "output_type": "stream",
     "text": [
      " 40%|████      | 4300/10742 [02:35<03:51, 27.77it/s]"
     ]
    },
    {
     "name": "stdout",
     "output_type": "stream",
     "text": [
      "4861.txt\n",
      "4862.txt\n",
      "4863.txt\n",
      "4864.txt\n",
      "4865.txt\n",
      "4866.txt\n"
     ]
    },
    {
     "name": "stderr",
     "output_type": "stream",
     "text": [
      "\r",
      " 40%|████      | 4303/10742 [02:35<03:48, 28.23it/s]"
     ]
    },
    {
     "name": "stdout",
     "output_type": "stream",
     "text": [
      "4867.txt\n",
      "4868.txt\n",
      "4869.txt\n",
      "4870.txt\n",
      "4871.txt\n",
      "4872.txt\n"
     ]
    },
    {
     "name": "stderr",
     "output_type": "stream",
     "text": [
      " 40%|████      | 4309/10742 [02:35<03:57, 27.14it/s]"
     ]
    },
    {
     "name": "stdout",
     "output_type": "stream",
     "text": [
      "4873.txt\n",
      "4874.txt\n",
      "4875.txt\n",
      "4876.txt\n",
      "4877.txt\n",
      "4878.txt\n"
     ]
    },
    {
     "name": "stderr",
     "output_type": "stream",
     "text": [
      " 40%|████      | 4317/10742 [02:35<03:41, 29.07it/s]"
     ]
    },
    {
     "name": "stdout",
     "output_type": "stream",
     "text": [
      "4879.txt\n",
      "4880.txt\n",
      "4881.txt\n",
      "4882.txt\n",
      "4883.txt\n",
      "4884.txt\n",
      "4885.txt\n"
     ]
    },
    {
     "name": "stderr",
     "output_type": "stream",
     "text": [
      " 40%|████      | 4324/10742 [02:35<03:49, 27.95it/s]"
     ]
    },
    {
     "name": "stdout",
     "output_type": "stream",
     "text": [
      "4886.txt\n",
      "4887.txt\n",
      "4888.txt\n",
      "4889.txt\n",
      "4890.txt\n",
      "4891.txt\n"
     ]
    },
    {
     "name": "stderr",
     "output_type": "stream",
     "text": [
      " 40%|████      | 4331/10742 [02:36<03:39, 29.20it/s]"
     ]
    },
    {
     "name": "stdout",
     "output_type": "stream",
     "text": [
      "4892.txt\n",
      "4893.txt\n",
      "4894.txt\n",
      "4895.txt\n",
      "4896.txt\n",
      "4897.txt\n",
      "4898.txt\n"
     ]
    },
    {
     "name": "stderr",
     "output_type": "stream",
     "text": [
      " 40%|████      | 4338/10742 [02:36<03:45, 28.35it/s]"
     ]
    },
    {
     "name": "stdout",
     "output_type": "stream",
     "text": [
      "4899.txt\n",
      "4900.txt\n",
      "4901.txt\n",
      "4902.txt\n",
      "4903.txt\n",
      "4904.txt\n"
     ]
    },
    {
     "name": "stderr",
     "output_type": "stream",
     "text": [
      "\r",
      " 40%|████      | 4341/10742 [02:36<04:10, 25.56it/s]"
     ]
    },
    {
     "name": "stdout",
     "output_type": "stream",
     "text": [
      "4905.txt\n",
      "4906.txt\n",
      "4907.txt\n",
      "4908.txt\n"
     ]
    },
    {
     "name": "stderr",
     "output_type": "stream",
     "text": [
      " 40%|████      | 4347/10742 [02:36<04:23, 24.28it/s]"
     ]
    },
    {
     "name": "stdout",
     "output_type": "stream",
     "text": [
      "4909.txt\n",
      "4910.txt\n",
      "4911.txt\n",
      "4912.txt\n",
      "4913.txt\n"
     ]
    },
    {
     "name": "stderr",
     "output_type": "stream",
     "text": [
      "\r",
      " 40%|████      | 4350/10742 [02:37<04:21, 24.44it/s]"
     ]
    },
    {
     "name": "stdout",
     "output_type": "stream",
     "text": [
      "4914.txt\n",
      "4915.txt\n",
      "4916.txt\n",
      "4917.txt\n",
      "4918.txt\n"
     ]
    },
    {
     "name": "stderr",
     "output_type": "stream",
     "text": [
      " 41%|████      | 4356/10742 [02:37<04:21, 24.44it/s]"
     ]
    },
    {
     "name": "stdout",
     "output_type": "stream",
     "text": [
      "4919.txt\n",
      "4920.txt\n",
      "4921.txt\n",
      "4922.txt\n",
      "4923.txt\n"
     ]
    },
    {
     "name": "stderr",
     "output_type": "stream",
     "text": [
      " 41%|████      | 4362/10742 [02:37<04:19, 24.62it/s]"
     ]
    },
    {
     "name": "stdout",
     "output_type": "stream",
     "text": [
      "4924.txt\n",
      "4925.txt\n",
      "4926.txt\n",
      "4927.txt\n",
      "4928.txt\n"
     ]
    },
    {
     "name": "stderr",
     "output_type": "stream",
     "text": [
      "\r",
      " 41%|████      | 4365/10742 [02:37<04:23, 24.22it/s]"
     ]
    },
    {
     "name": "stdout",
     "output_type": "stream",
     "text": [
      "4929.txt\n",
      "4930.txt\n",
      "4931.txt\n",
      "4932.txt\n",
      "4933.txt\n",
      "4934.txt\n"
     ]
    },
    {
     "name": "stderr",
     "output_type": "stream",
     "text": [
      " 41%|████      | 4371/10742 [02:37<04:12, 25.27it/s]"
     ]
    },
    {
     "name": "stdout",
     "output_type": "stream",
     "text": [
      "4935.txt\n",
      "4936.txt\n",
      "4937.txt\n",
      "4938.txt\n",
      "4939.txt\n",
      "4940.txt\n"
     ]
    },
    {
     "name": "stderr",
     "output_type": "stream",
     "text": [
      " 41%|████      | 4379/10742 [02:38<03:45, 28.26it/s]"
     ]
    },
    {
     "name": "stdout",
     "output_type": "stream",
     "text": [
      "4941.txt\n",
      "4942.txt\n",
      "4943.txt\n",
      "4944.txt\n",
      "4945.txt\n",
      "4946.txt\n",
      "4947.txt\n"
     ]
    },
    {
     "name": "stderr",
     "output_type": "stream",
     "text": [
      " 41%|████      | 4385/10742 [02:38<03:39, 28.95it/s]"
     ]
    },
    {
     "name": "stdout",
     "output_type": "stream",
     "text": [
      "4948.txt\n",
      "4949.txt\n",
      "4950.txt\n",
      "4951.txt\n",
      "4952.txt\n",
      "4953.txt\n",
      "4954.txt\n"
     ]
    },
    {
     "name": "stderr",
     "output_type": "stream",
     "text": [
      " 41%|████      | 4393/10742 [02:38<03:32, 29.87it/s]"
     ]
    },
    {
     "name": "stdout",
     "output_type": "stream",
     "text": [
      "4955.txt\n",
      "4956.txt\n",
      "4957.txt\n",
      "4958.txt\n",
      "4959.txt\n",
      "4960.txt\n",
      "4961.txt\n"
     ]
    },
    {
     "name": "stderr",
     "output_type": "stream",
     "text": [
      " 41%|████      | 4400/10742 [02:38<03:30, 30.16it/s]"
     ]
    },
    {
     "name": "stdout",
     "output_type": "stream",
     "text": [
      "4962.txt\n",
      "4963.txt\n",
      "4964.txt\n",
      "4965.txt\n",
      "4966.txt\n",
      "4967.txt\n",
      "4968.txt\n"
     ]
    },
    {
     "name": "stderr",
     "output_type": "stream",
     "text": [
      " 41%|████      | 4408/10742 [02:39<03:27, 30.57it/s]"
     ]
    },
    {
     "name": "stdout",
     "output_type": "stream",
     "text": [
      "4969.txt\n",
      "4970.txt\n",
      "4971.txt\n",
      "4972.txt\n",
      "4973.txt\n",
      "4974.txt\n",
      "4975.txt\n"
     ]
    },
    {
     "name": "stderr",
     "output_type": "stream",
     "text": [
      "\r",
      " 41%|████      | 4412/10742 [02:39<03:28, 30.40it/s]"
     ]
    },
    {
     "name": "stdout",
     "output_type": "stream",
     "text": [
      "4976.txt\n",
      "4977.txt\n",
      "4978.txt\n",
      "4979.txt\n",
      "4980.txt\n",
      "4981.txt\n",
      "4982.txt\n"
     ]
    },
    {
     "name": "stderr",
     "output_type": "stream",
     "text": [
      " 41%|████      | 4420/10742 [02:39<03:39, 28.74it/s]"
     ]
    },
    {
     "name": "stdout",
     "output_type": "stream",
     "text": [
      "4983.txt\n",
      "4984.txt\n",
      "4985.txt\n",
      "4986.txt\n",
      "4987.txt\n",
      "4988.txt\n"
     ]
    },
    {
     "name": "stderr",
     "output_type": "stream",
     "text": [
      " 41%|████      | 4426/10742 [02:39<03:54, 26.96it/s]"
     ]
    },
    {
     "name": "stdout",
     "output_type": "stream",
     "text": [
      "4989.txt\n",
      "4990.txt\n",
      "4991.txt\n",
      "5010.txt\n",
      "5011.txt\n"
     ]
    },
    {
     "name": "stderr",
     "output_type": "stream",
     "text": [
      "\r",
      " 41%|████      | 4429/10742 [02:39<04:11, 25.08it/s]"
     ]
    },
    {
     "name": "stdout",
     "output_type": "stream",
     "text": [
      "5012.txt\n",
      "5013.txt\n",
      "5014.txt\n",
      "5015.txt\n",
      "5016.txt\n"
     ]
    },
    {
     "name": "stderr",
     "output_type": "stream",
     "text": [
      " 41%|████▏     | 4435/10742 [02:40<04:21, 24.13it/s]"
     ]
    },
    {
     "name": "stdout",
     "output_type": "stream",
     "text": [
      "5017.txt\n",
      "5018.txt\n",
      "5019.txt\n",
      "5020.txt\n",
      "5021.txt\n"
     ]
    },
    {
     "name": "stderr",
     "output_type": "stream",
     "text": [
      " 41%|████▏     | 4442/10742 [02:40<04:00, 26.25it/s]"
     ]
    },
    {
     "name": "stdout",
     "output_type": "stream",
     "text": [
      "5022.txt\n",
      "5023.txt\n",
      "5024.txt\n",
      "5025.txt\n",
      "5026.txt\n",
      "5027.txt\n",
      "5028.txt\n"
     ]
    },
    {
     "name": "stderr",
     "output_type": "stream",
     "text": [
      " 41%|████▏     | 4448/10742 [02:40<04:03, 25.82it/s]"
     ]
    },
    {
     "name": "stdout",
     "output_type": "stream",
     "text": [
      "5029.txt\n",
      "5030.txt\n",
      "5031.txt\n",
      "5032.txt\n",
      "5033.txt\n",
      "5034.txt\n"
     ]
    },
    {
     "name": "stderr",
     "output_type": "stream",
     "text": [
      " 41%|████▏     | 4454/10742 [02:40<04:08, 25.33it/s]"
     ]
    },
    {
     "name": "stdout",
     "output_type": "stream",
     "text": [
      "5035.txt\n",
      "5036.txt\n",
      "5037.txt\n",
      "5038.txt\n",
      "5039.txt\n"
     ]
    },
    {
     "name": "stderr",
     "output_type": "stream",
     "text": [
      " 42%|████▏     | 4460/10742 [02:41<04:08, 25.24it/s]"
     ]
    },
    {
     "name": "stdout",
     "output_type": "stream",
     "text": [
      "5040.txt\n",
      "5041.txt\n",
      "5042.txt\n",
      "5043.txt\n",
      "5044.txt\n",
      "5045.txt\n"
     ]
    },
    {
     "name": "stderr",
     "output_type": "stream",
     "text": [
      " 42%|████▏     | 4466/10742 [02:41<04:05, 25.55it/s]"
     ]
    },
    {
     "name": "stdout",
     "output_type": "stream",
     "text": [
      "5046.txt\n",
      "5047.txt\n",
      "5048.txt\n",
      "5049.txt\n",
      "5050.txt\n",
      "5051.txt\n"
     ]
    },
    {
     "name": "stderr",
     "output_type": "stream",
     "text": [
      " 42%|████▏     | 4472/10742 [02:41<04:04, 25.63it/s]"
     ]
    },
    {
     "name": "stdout",
     "output_type": "stream",
     "text": [
      "5052.txt\n",
      "5053.txt\n",
      "5054.txt\n",
      "5055.txt\n",
      "5056.txt\n",
      "5057.txt\n"
     ]
    },
    {
     "name": "stderr",
     "output_type": "stream",
     "text": [
      " 42%|████▏     | 4478/10742 [02:41<04:04, 25.60it/s]"
     ]
    },
    {
     "name": "stdout",
     "output_type": "stream",
     "text": [
      "5058.txt\n",
      "5059.txt\n",
      "5060.txt\n",
      "5061.txt\n",
      "5062.txt\n",
      "5063.txt\n"
     ]
    },
    {
     "name": "stderr",
     "output_type": "stream",
     "text": [
      " 42%|████▏     | 4484/10742 [02:42<04:01, 25.87it/s]"
     ]
    },
    {
     "name": "stdout",
     "output_type": "stream",
     "text": [
      "5064.txt\n",
      "5065.txt\n",
      "5066.txt\n",
      "5067.txt\n",
      "5068.txt\n",
      "5069.txt\n"
     ]
    },
    {
     "name": "stderr",
     "output_type": "stream",
     "text": [
      " 42%|████▏     | 4490/10742 [02:42<03:46, 27.56it/s]"
     ]
    },
    {
     "name": "stdout",
     "output_type": "stream",
     "text": [
      "5070.txt\n",
      "5071.txt\n",
      "5072.txt\n",
      "5073.txt\n",
      "5074.txt\n",
      "5075.txt\n",
      "5076.txt\n"
     ]
    },
    {
     "name": "stderr",
     "output_type": "stream",
     "text": [
      " 42%|████▏     | 4496/10742 [02:42<04:04, 25.56it/s]"
     ]
    },
    {
     "name": "stdout",
     "output_type": "stream",
     "text": [
      "5077.txt\n",
      "5078.txt\n",
      "5079.txt\n",
      "5080.txt\n",
      "5081.txt\n"
     ]
    },
    {
     "name": "stderr",
     "output_type": "stream",
     "text": [
      " 42%|████▏     | 4502/10742 [02:42<04:18, 24.13it/s]"
     ]
    },
    {
     "name": "stdout",
     "output_type": "stream",
     "text": [
      "5082.txt\n",
      "5083.txt\n",
      "5084.txt\n",
      "5085.txt\n",
      "5086.txt\n"
     ]
    },
    {
     "name": "stderr",
     "output_type": "stream",
     "text": [
      "\r",
      " 42%|████▏     | 4505/10742 [02:42<04:20, 23.95it/s]"
     ]
    },
    {
     "name": "stdout",
     "output_type": "stream",
     "text": [
      "5087.txt\n",
      "5088.txt\n",
      "5089.txt\n",
      "5090.txt\n",
      "5091.txt\n"
     ]
    },
    {
     "name": "stderr",
     "output_type": "stream",
     "text": [
      " 42%|████▏     | 4511/10742 [02:43<04:17, 24.21it/s]"
     ]
    },
    {
     "name": "stdout",
     "output_type": "stream",
     "text": [
      "5092.txt\n",
      "5093.txt\n",
      "5094.txt\n",
      "5095.txt\n",
      "5096.txt\n",
      "5097.txt\n"
     ]
    },
    {
     "name": "stderr",
     "output_type": "stream",
     "text": [
      " 42%|████▏     | 4517/10742 [02:43<03:57, 26.26it/s]"
     ]
    },
    {
     "name": "stdout",
     "output_type": "stream",
     "text": [
      "5098.txt\n",
      "5099.txt\n",
      "5100.txt\n",
      "5101.txt\n",
      "5102.txt\n",
      "5103.txt\n"
     ]
    },
    {
     "name": "stderr",
     "output_type": "stream",
     "text": [
      " 42%|████▏     | 4523/10742 [02:43<03:43, 27.78it/s]"
     ]
    },
    {
     "name": "stdout",
     "output_type": "stream",
     "text": [
      "5104.txt\n",
      "5105.txt\n",
      "5106.txt\n",
      "5107.txt\n",
      "5108.txt\n",
      "5109.txt\n",
      "5110.txt\n"
     ]
    },
    {
     "name": "stderr",
     "output_type": "stream",
     "text": [
      " 42%|████▏     | 4529/10742 [02:43<03:38, 28.44it/s]"
     ]
    },
    {
     "name": "stdout",
     "output_type": "stream",
     "text": [
      "5111.txt\n",
      "5112.txt\n",
      "5113.txt\n",
      "5114.txt\n",
      "5115.txt\n",
      "5116.txt\n"
     ]
    },
    {
     "name": "stderr",
     "output_type": "stream",
     "text": [
      " 42%|████▏     | 4535/10742 [02:43<03:42, 27.92it/s]"
     ]
    },
    {
     "name": "stdout",
     "output_type": "stream",
     "text": [
      "5117.txt\n",
      "5118.txt\n",
      "5119.txt\n",
      "5120.txt\n",
      "5121.txt\n",
      "5122.txt\n"
     ]
    },
    {
     "name": "stderr",
     "output_type": "stream",
     "text": [
      " 42%|████▏     | 4542/10742 [02:44<03:32, 29.16it/s]"
     ]
    },
    {
     "name": "stdout",
     "output_type": "stream",
     "text": [
      "5123.txt\n",
      "5124.txt\n",
      "5125.txt\n",
      "5126.txt\n",
      "5127.txt\n",
      "5128.txt\n",
      "5129.txt\n"
     ]
    },
    {
     "name": "stderr",
     "output_type": "stream",
     "text": [
      " 42%|████▏     | 4549/10742 [02:44<03:31, 29.26it/s]"
     ]
    },
    {
     "name": "stdout",
     "output_type": "stream",
     "text": [
      "5130.txt\n",
      "5131.txt\n",
      "5132.txt\n",
      "5133.txt\n",
      "5134.txt\n",
      "5135.txt\n",
      "5136.txt\n"
     ]
    },
    {
     "name": "stderr",
     "output_type": "stream",
     "text": [
      " 42%|████▏     | 4555/10742 [02:44<03:31, 29.26it/s]"
     ]
    },
    {
     "name": "stdout",
     "output_type": "stream",
     "text": [
      "5137.txt\n",
      "5138.txt\n",
      "5139.txt\n",
      "5140.txt\n",
      "5141.txt\n",
      "5142.txt\n"
     ]
    },
    {
     "name": "stderr",
     "output_type": "stream",
     "text": [
      " 42%|████▏     | 4562/10742 [02:44<03:30, 29.32it/s]"
     ]
    },
    {
     "name": "stdout",
     "output_type": "stream",
     "text": [
      "5143.txt\n",
      "5144.txt\n",
      "5145.txt\n",
      "5146.txt\n",
      "5147.txt\n",
      "5148.txt\n"
     ]
    },
    {
     "name": "stderr",
     "output_type": "stream",
     "text": [
      " 43%|████▎     | 4568/10742 [02:45<03:30, 29.32it/s]"
     ]
    },
    {
     "name": "stdout",
     "output_type": "stream",
     "text": [
      "5149.txt\n",
      "5150.txt\n",
      "5151.txt\n",
      "5152.txt\n",
      "5153.txt\n",
      "5154.txt\n",
      "5155.txt\n"
     ]
    },
    {
     "name": "stderr",
     "output_type": "stream",
     "text": [
      " 43%|████▎     | 4574/10742 [02:45<03:58, 25.86it/s]"
     ]
    },
    {
     "name": "stdout",
     "output_type": "stream",
     "text": [
      "5156.txt\n",
      "5157.txt\n",
      "5158.txt\n",
      "5159.txt\n",
      "5160.txt\n"
     ]
    },
    {
     "name": "stderr",
     "output_type": "stream",
     "text": [
      " 43%|████▎     | 4580/10742 [02:45<04:30, 22.80it/s]"
     ]
    },
    {
     "name": "stdout",
     "output_type": "stream",
     "text": [
      "5161.txt\n",
      "5162.txt\n",
      "5163.txt\n",
      "5164.txt\n"
     ]
    },
    {
     "name": "stderr",
     "output_type": "stream",
     "text": [
      "\r",
      " 43%|████▎     | 4583/10742 [02:45<04:52, 21.07it/s]"
     ]
    },
    {
     "name": "stdout",
     "output_type": "stream",
     "text": [
      "5165.txt\n",
      "5166.txt\n",
      "5167.txt\n",
      "5168.txt\n"
     ]
    },
    {
     "name": "stderr",
     "output_type": "stream",
     "text": [
      " 43%|████▎     | 4589/10742 [02:46<04:29, 22.80it/s]"
     ]
    },
    {
     "name": "stdout",
     "output_type": "stream",
     "text": [
      "5169.txt\n",
      "5170.txt\n",
      "5171.txt\n",
      "5172.txt\n",
      "5173.txt\n"
     ]
    },
    {
     "name": "stderr",
     "output_type": "stream",
     "text": [
      "\r",
      " 43%|████▎     | 4593/10742 [02:46<04:03, 25.24it/s]"
     ]
    },
    {
     "name": "stdout",
     "output_type": "stream",
     "text": [
      "5174.txt\n",
      "5175.txt\n",
      "5176.txt\n",
      "5177.txt\n",
      "5178.txt\n",
      "5179.txt\n",
      "5180.txt\n"
     ]
    },
    {
     "name": "stderr",
     "output_type": "stream",
     "text": [
      " 43%|████▎     | 4600/10742 [02:46<03:41, 27.77it/s]"
     ]
    },
    {
     "name": "stdout",
     "output_type": "stream",
     "text": [
      "5181.txt\n",
      "5182.txt\n",
      "5183.txt\n",
      "5184.txt\n",
      "5185.txt\n",
      "5186.txt\n"
     ]
    },
    {
     "name": "stderr",
     "output_type": "stream",
     "text": [
      " 43%|████▎     | 4606/10742 [02:46<03:40, 27.82it/s]"
     ]
    },
    {
     "name": "stdout",
     "output_type": "stream",
     "text": [
      "5187.txt\n",
      "5188.txt\n",
      "5189.txt\n",
      "5190.txt\n",
      "5191.txt\n",
      "5192.txt\n"
     ]
    },
    {
     "name": "stderr",
     "output_type": "stream",
     "text": [
      " 43%|████▎     | 4612/10742 [02:46<03:43, 27.46it/s]"
     ]
    },
    {
     "name": "stdout",
     "output_type": "stream",
     "text": [
      "5193.txt\n",
      "5194.txt\n",
      "5195.txt\n",
      "5196.txt\n",
      "5197.txt\n",
      "5198.txt\n"
     ]
    },
    {
     "name": "stderr",
     "output_type": "stream",
     "text": [
      " 43%|████▎     | 4620/10742 [02:47<03:26, 29.59it/s]"
     ]
    },
    {
     "name": "stdout",
     "output_type": "stream",
     "text": [
      "5199.txt\n",
      "5200.txt\n",
      "5201.txt\n",
      "5202.txt\n",
      "5203.txt\n",
      "5204.txt\n"
     ]
    },
    {
     "name": "stderr",
     "output_type": "stream",
     "text": [
      "\r",
      " 43%|████▎     | 4624/10742 [02:47<03:24, 29.92it/s]"
     ]
    },
    {
     "name": "stdout",
     "output_type": "stream",
     "text": [
      "5205.txt\n",
      "5206.txt\n",
      "5207.txt\n",
      "5208.txt\n",
      "5209.txt\n",
      "5210.txt\n",
      "5211.txt\n"
     ]
    },
    {
     "name": "stderr",
     "output_type": "stream",
     "text": [
      " 43%|████▎     | 4631/10742 [02:47<03:24, 29.91it/s]"
     ]
    },
    {
     "name": "stdout",
     "output_type": "stream",
     "text": [
      "5212.txt\n",
      "5213.txt\n",
      "5214.txt\n",
      "5215.txt\n",
      "5216.txt\n",
      "5217.txt\n",
      "5218.txt\n"
     ]
    },
    {
     "name": "stderr",
     "output_type": "stream",
     "text": [
      " 43%|████▎     | 4639/10742 [02:47<03:21, 30.25it/s]"
     ]
    },
    {
     "name": "stdout",
     "output_type": "stream",
     "text": [
      "5219.txt\n",
      "5220.txt\n",
      "5221.txt\n",
      "5222.txt\n",
      "5223.txt\n",
      "5224.txt\n",
      "5225.txt\n"
     ]
    },
    {
     "name": "stderr",
     "output_type": "stream",
     "text": [
      " 43%|████▎     | 4647/10742 [02:47<03:17, 30.87it/s]"
     ]
    },
    {
     "name": "stdout",
     "output_type": "stream",
     "text": [
      "5226.txt\n",
      "5227.txt\n",
      "5228.txt\n",
      "5229.txt\n",
      "5230.txt\n",
      "5231.txt\n",
      "5232.txt\n"
     ]
    },
    {
     "name": "stderr",
     "output_type": "stream",
     "text": [
      "\r",
      " 43%|████▎     | 4651/10742 [02:48<03:25, 29.68it/s]"
     ]
    },
    {
     "name": "stdout",
     "output_type": "stream",
     "text": [
      "5233.txt\n",
      "5234.txt\n",
      "5235.txt\n",
      "5236.txt\n",
      "5237.txt\n",
      "5238.txt\n"
     ]
    },
    {
     "name": "stderr",
     "output_type": "stream",
     "text": [
      " 43%|████▎     | 4657/10742 [02:48<03:43, 27.25it/s]"
     ]
    },
    {
     "name": "stdout",
     "output_type": "stream",
     "text": [
      "5239.txt\n",
      "5240.txt\n",
      "5241.txt\n",
      "5242.txt\n",
      "5243.txt\n",
      "5244.txt\n"
     ]
    },
    {
     "name": "stderr",
     "output_type": "stream",
     "text": [
      " 43%|████▎     | 4663/10742 [02:48<04:03, 24.98it/s]"
     ]
    },
    {
     "name": "stdout",
     "output_type": "stream",
     "text": [
      "5245.txt\n",
      "5246.txt\n",
      "5247.txt\n",
      "5248.txt\n",
      "5249.txt\n"
     ]
    },
    {
     "name": "stderr",
     "output_type": "stream",
     "text": [
      " 43%|████▎     | 4669/10742 [02:48<04:21, 23.26it/s]"
     ]
    },
    {
     "name": "stdout",
     "output_type": "stream",
     "text": [
      "5250.txt\n",
      "5251.txt\n",
      "5252.txt\n",
      "5253.txt\n",
      "5254.txt\n"
     ]
    },
    {
     "name": "stderr",
     "output_type": "stream",
     "text": [
      " 44%|████▎     | 4676/10742 [02:49<03:49, 26.46it/s]"
     ]
    },
    {
     "name": "stdout",
     "output_type": "stream",
     "text": [
      "5255.txt\n",
      "5256.txt\n",
      "5257.txt\n",
      "5258.txt\n",
      "5259.txt\n",
      "5260.txt\n"
     ]
    },
    {
     "name": "stderr",
     "output_type": "stream",
     "text": [
      "\r",
      " 44%|████▎     | 4679/10742 [02:49<03:46, 26.76it/s]"
     ]
    },
    {
     "name": "stdout",
     "output_type": "stream",
     "text": [
      "5261.txt\n",
      "5262.txt\n",
      "5263.txt\n",
      "5264.txt\n",
      "5265.txt\n",
      "5266.txt\n"
     ]
    },
    {
     "name": "stderr",
     "output_type": "stream",
     "text": [
      " 44%|████▎     | 4686/10742 [02:49<03:31, 28.69it/s]"
     ]
    },
    {
     "name": "stdout",
     "output_type": "stream",
     "text": [
      "5267.txt\n",
      "5268.txt\n",
      "5269.txt\n",
      "5270.txt\n",
      "5271.txt\n",
      "5272.txt\n",
      "5273.txt\n"
     ]
    },
    {
     "name": "stderr",
     "output_type": "stream",
     "text": [
      " 44%|████▎     | 4694/10742 [02:49<03:20, 30.11it/s]"
     ]
    },
    {
     "name": "stdout",
     "output_type": "stream",
     "text": [
      "5274.txt\n",
      "5275.txt\n",
      "5276.txt\n",
      "5277.txt\n",
      "5278.txt\n",
      "5279.txt\n",
      "5280.txt\n"
     ]
    },
    {
     "name": "stderr",
     "output_type": "stream",
     "text": [
      " 44%|████▍     | 4702/10742 [02:50<03:23, 29.72it/s]"
     ]
    },
    {
     "name": "stdout",
     "output_type": "stream",
     "text": [
      "5281.txt\n",
      "5282.txt\n",
      "5283.txt\n",
      "5284.txt\n",
      "5285.txt\n",
      "5286.txt\n"
     ]
    },
    {
     "name": "stderr",
     "output_type": "stream",
     "text": [
      "\r",
      " 44%|████▍     | 4705/10742 [02:50<03:24, 29.52it/s]"
     ]
    },
    {
     "name": "stdout",
     "output_type": "stream",
     "text": [
      "5287.txt\n",
      "5288.txt\n",
      "5289.txt\n",
      "5290.txt\n",
      "5291.txt\n",
      "5292.txt\n",
      "5293.txt\n"
     ]
    },
    {
     "name": "stderr",
     "output_type": "stream",
     "text": [
      " 44%|████▍     | 4713/10742 [02:50<03:16, 30.72it/s]"
     ]
    },
    {
     "name": "stdout",
     "output_type": "stream",
     "text": [
      "5294.txt\n",
      "5295.txt\n",
      "5296.txt\n",
      "5297.txt\n",
      "5298.txt\n",
      "5299.txt\n",
      "5300.txt\n"
     ]
    },
    {
     "name": "stderr",
     "output_type": "stream",
     "text": [
      " 44%|████▍     | 4721/10742 [02:50<03:14, 31.01it/s]"
     ]
    },
    {
     "name": "stdout",
     "output_type": "stream",
     "text": [
      "5301.txt\n",
      "5302.txt\n",
      "5303.txt\n",
      "5304.txt\n",
      "5305.txt\n",
      "5306.txt\n",
      "5307.txt\n"
     ]
    },
    {
     "name": "stderr",
     "output_type": "stream",
     "text": [
      " 44%|████▍     | 4729/10742 [02:50<03:16, 30.67it/s]"
     ]
    },
    {
     "name": "stdout",
     "output_type": "stream",
     "text": [
      "5308.txt\n",
      "5309.txt\n",
      "5310.txt\n",
      "5311.txt\n",
      "5312.txt\n",
      "5313.txt\n"
     ]
    },
    {
     "name": "stderr",
     "output_type": "stream",
     "text": [
      "\r",
      " 44%|████▍     | 4733/10742 [02:51<03:18, 30.30it/s]"
     ]
    },
    {
     "name": "stdout",
     "output_type": "stream",
     "text": [
      "5314.txt\n",
      "5315.txt\n",
      "5316.txt\n",
      "5317.txt\n",
      "5318.txt\n",
      "5319.txt\n"
     ]
    },
    {
     "name": "stderr",
     "output_type": "stream",
     "text": [
      " 44%|████▍     | 4740/10742 [02:51<03:34, 27.92it/s]"
     ]
    },
    {
     "name": "stdout",
     "output_type": "stream",
     "text": [
      "5320.txt\n",
      "5321.txt\n",
      "5322.txt\n",
      "5323.txt\n",
      "5324.txt\n",
      "5325.txt\n"
     ]
    },
    {
     "name": "stderr",
     "output_type": "stream",
     "text": [
      " 44%|████▍     | 4746/10742 [02:51<03:51, 25.85it/s]"
     ]
    },
    {
     "name": "stdout",
     "output_type": "stream",
     "text": [
      "5326.txt\n",
      "5327.txt\n",
      "5328.txt\n",
      "5329.txt\n",
      "5330.txt\n"
     ]
    },
    {
     "name": "stderr",
     "output_type": "stream",
     "text": [
      "\r",
      " 44%|████▍     | 4749/10742 [02:51<03:54, 25.51it/s]"
     ]
    },
    {
     "name": "stdout",
     "output_type": "stream",
     "text": [
      "5331.txt\n",
      "5332.txt\n",
      "5333.txt\n",
      "5334.txt\n",
      "5335.txt\n"
     ]
    },
    {
     "name": "stderr",
     "output_type": "stream",
     "text": [
      " 44%|████▍     | 4756/10742 [02:51<03:47, 26.30it/s]"
     ]
    },
    {
     "name": "stdout",
     "output_type": "stream",
     "text": [
      "5336.txt\n",
      "5337.txt\n",
      "5338.txt\n",
      "5339.txt\n",
      "5340.txt\n",
      "5341.txt\n"
     ]
    },
    {
     "name": "stderr",
     "output_type": "stream",
     "text": [
      "\r",
      " 44%|████▍     | 4759/10742 [02:52<03:41, 27.03it/s]"
     ]
    },
    {
     "name": "stdout",
     "output_type": "stream",
     "text": [
      "5342.txt\n",
      "5343.txt\n",
      "5344.txt\n",
      "5345.txt\n",
      "5346.txt\n",
      "5347.txt\n"
     ]
    },
    {
     "name": "stderr",
     "output_type": "stream",
     "text": [
      " 44%|████▍     | 4766/10742 [02:52<03:29, 28.56it/s]"
     ]
    },
    {
     "name": "stdout",
     "output_type": "stream",
     "text": [
      "5348.txt\n",
      "5349.txt\n",
      "5350.txt\n",
      "5351.txt\n",
      "5352.txt\n",
      "5353.txt\n"
     ]
    },
    {
     "name": "stderr",
     "output_type": "stream",
     "text": [
      " 44%|████▍     | 4774/10742 [02:52<03:18, 30.03it/s]"
     ]
    },
    {
     "name": "stdout",
     "output_type": "stream",
     "text": [
      "5354.txt\n",
      "5355.txt\n",
      "5356.txt\n",
      "5357.txt\n",
      "5358.txt\n",
      "5359.txt\n",
      "5360.txt\n"
     ]
    },
    {
     "name": "stderr",
     "output_type": "stream",
     "text": [
      " 45%|████▍     | 4782/10742 [02:52<03:20, 29.73it/s]"
     ]
    },
    {
     "name": "stdout",
     "output_type": "stream",
     "text": [
      "5361.txt\n",
      "5362.txt\n",
      "5363.txt\n",
      "5364.txt\n",
      "5365.txt\n",
      "5366.txt\n"
     ]
    },
    {
     "name": "stderr",
     "output_type": "stream",
     "text": [
      "\r",
      " 45%|████▍     | 4785/10742 [02:52<03:22, 29.38it/s]"
     ]
    },
    {
     "name": "stdout",
     "output_type": "stream",
     "text": [
      "5367.txt\n",
      "5368.txt\n",
      "5369.txt\n",
      "5370.txt\n",
      "5509.txt\n",
      "5510.txt\n"
     ]
    },
    {
     "name": "stderr",
     "output_type": "stream",
     "text": [
      " 45%|████▍     | 4791/10742 [02:53<03:22, 29.38it/s]"
     ]
    },
    {
     "name": "stdout",
     "output_type": "stream",
     "text": [
      "5511.txt\n",
      "5512.txt\n",
      "5513.txt\n",
      "5514.txt\n",
      "5515.txt\n",
      "5516.txt\n"
     ]
    },
    {
     "name": "stderr",
     "output_type": "stream",
     "text": [
      " 45%|████▍     | 4799/10742 [02:53<03:15, 30.41it/s]"
     ]
    },
    {
     "name": "stdout",
     "output_type": "stream",
     "text": [
      "5517.txt\n",
      "5518.txt\n",
      "5519.txt\n",
      "5520.txt\n",
      "5521.txt\n",
      "5522.txt\n",
      "5523.txt\n"
     ]
    },
    {
     "name": "stderr",
     "output_type": "stream",
     "text": [
      " 45%|████▍     | 4807/10742 [02:53<03:12, 30.84it/s]"
     ]
    },
    {
     "name": "stdout",
     "output_type": "stream",
     "text": [
      "5524.txt\n",
      "5525.txt\n",
      "5526.txt\n",
      "5527.txt\n",
      "5528.txt\n",
      "5529.txt\n"
     ]
    },
    {
     "name": "stderr",
     "output_type": "stream",
     "text": [
      "\r",
      " 45%|████▍     | 4811/10742 [02:53<03:10, 31.10it/s]"
     ]
    },
    {
     "name": "stdout",
     "output_type": "stream",
     "text": [
      "5530.txt\n",
      "5531.txt\n",
      "5532.txt\n",
      "5533.txt\n",
      "5534.txt\n",
      "5535.txt\n",
      "5536.txt\n"
     ]
    },
    {
     "name": "stderr",
     "output_type": "stream",
     "text": [
      " 45%|████▍     | 4819/10742 [02:54<03:21, 29.37it/s]"
     ]
    },
    {
     "name": "stdout",
     "output_type": "stream",
     "text": [
      "5537.txt\n",
      "5538.txt\n",
      "5539.txt\n",
      "5540.txt\n",
      "5541.txt\n",
      "5542.txt\n"
     ]
    },
    {
     "name": "stderr",
     "output_type": "stream",
     "text": [
      " 45%|████▍     | 4825/10742 [02:54<03:35, 27.44it/s]"
     ]
    },
    {
     "name": "stdout",
     "output_type": "stream",
     "text": [
      "5543.txt\n",
      "5544.txt\n",
      "5545.txt\n",
      "5546.txt\n",
      "5547.txt\n",
      "5548.txt\n"
     ]
    },
    {
     "name": "stderr",
     "output_type": "stream",
     "text": [
      "\r",
      " 45%|████▍     | 4828/10742 [02:54<03:47, 26.00it/s]"
     ]
    },
    {
     "name": "stdout",
     "output_type": "stream",
     "text": [
      "5549.txt\n",
      "5550.txt\n",
      "5551.txt\n",
      "5552.txt\n",
      "5553.txt\n"
     ]
    },
    {
     "name": "stderr",
     "output_type": "stream",
     "text": [
      " 45%|████▌     | 4834/10742 [02:54<04:02, 24.38it/s]"
     ]
    },
    {
     "name": "stdout",
     "output_type": "stream",
     "text": [
      "5554.txt\n",
      "5555.txt\n",
      "5556.txt\n",
      "5557.txt\n",
      "5558.txt\n"
     ]
    },
    {
     "name": "stderr",
     "output_type": "stream",
     "text": [
      " 45%|████▌     | 4840/10742 [02:54<03:52, 25.37it/s]"
     ]
    },
    {
     "name": "stdout",
     "output_type": "stream",
     "text": [
      "5559.txt\n",
      "5560.txt\n",
      "5561.txt\n",
      "5562.txt\n",
      "5563.txt\n",
      "5564.txt\n"
     ]
    },
    {
     "name": "stderr",
     "output_type": "stream",
     "text": [
      " 45%|████▌     | 4848/10742 [02:55<03:25, 28.68it/s]"
     ]
    },
    {
     "name": "stdout",
     "output_type": "stream",
     "text": [
      "5565.txt\n",
      "5566.txt\n",
      "5567.txt\n",
      "5568.txt\n",
      "5569.txt\n",
      "5570.txt\n"
     ]
    },
    {
     "name": "stderr",
     "output_type": "stream",
     "text": [
      "\r",
      " 45%|████▌     | 4851/10742 [02:55<03:25, 28.60it/s]"
     ]
    },
    {
     "name": "stdout",
     "output_type": "stream",
     "text": [
      "5571.txt\n",
      "5572.txt\n",
      "5573.txt\n",
      "5574.txt\n",
      "5575.txt\n",
      "5576.txt\n",
      "5577.txt\n"
     ]
    },
    {
     "name": "stderr",
     "output_type": "stream",
     "text": [
      " 45%|████▌     | 4858/10742 [02:55<03:18, 29.62it/s]"
     ]
    },
    {
     "name": "stdout",
     "output_type": "stream",
     "text": [
      "5578.txt\n",
      "5579.txt\n",
      "5580.txt\n",
      "5581.txt\n",
      "5582.txt\n",
      "5583.txt\n",
      "5584.txt\n"
     ]
    },
    {
     "name": "stderr",
     "output_type": "stream",
     "text": [
      " 45%|████▌     | 4866/10742 [02:55<03:11, 30.72it/s]"
     ]
    },
    {
     "name": "stdout",
     "output_type": "stream",
     "text": [
      "5585.txt\n",
      "5586.txt\n",
      "5587.txt\n",
      "5588.txt\n",
      "5589.txt\n",
      "5590.txt\n",
      "5591.txt\n"
     ]
    },
    {
     "name": "stderr",
     "output_type": "stream",
     "text": [
      " 45%|████▌     | 4874/10742 [02:56<03:10, 30.86it/s]"
     ]
    },
    {
     "name": "stdout",
     "output_type": "stream",
     "text": [
      "5592.txt\n",
      "5593.txt\n",
      "5594.txt\n",
      "5595.txt\n",
      "5596.txt\n",
      "5597.txt\n",
      "5598.txt\n"
     ]
    },
    {
     "name": "stderr",
     "output_type": "stream",
     "text": [
      " 45%|████▌     | 4882/10742 [02:56<03:09, 30.88it/s]"
     ]
    },
    {
     "name": "stdout",
     "output_type": "stream",
     "text": [
      "5599.txt\n",
      "5600.txt\n",
      "5601.txt\n",
      "5602.txt\n",
      "5603.txt\n",
      "5604.txt\n"
     ]
    },
    {
     "name": "stderr",
     "output_type": "stream",
     "text": [
      "\r",
      " 45%|████▌     | 4886/10742 [02:56<03:12, 30.48it/s]"
     ]
    },
    {
     "name": "stdout",
     "output_type": "stream",
     "text": [
      "5605.txt\n",
      "5606.txt\n",
      "5607.txt\n",
      "5608.txt\n",
      "5609.txt\n",
      "5610.txt\n"
     ]
    },
    {
     "name": "stderr",
     "output_type": "stream",
     "text": [
      " 46%|████▌     | 4893/10742 [02:56<03:29, 27.95it/s]"
     ]
    },
    {
     "name": "stdout",
     "output_type": "stream",
     "text": [
      "5611.txt\n",
      "5612.txt\n",
      "5613.txt\n",
      "5614.txt\n",
      "5615.txt\n",
      "5616.txt\n"
     ]
    },
    {
     "name": "stderr",
     "output_type": "stream",
     "text": [
      "\r",
      " 46%|████▌     | 4896/10742 [02:56<03:29, 27.85it/s]"
     ]
    },
    {
     "name": "stdout",
     "output_type": "stream",
     "text": [
      "5617.txt\n",
      "5618.txt\n",
      "5619.txt\n",
      "5620.txt\n",
      "5621.txt\n"
     ]
    },
    {
     "name": "stderr",
     "output_type": "stream",
     "text": [
      " 46%|████▌     | 4902/10742 [02:57<04:05, 23.81it/s]"
     ]
    },
    {
     "name": "stdout",
     "output_type": "stream",
     "text": [
      "5622.txt\n",
      "5623.txt\n",
      "5624.txt\n",
      "5625.txt\n"
     ]
    },
    {
     "name": "stderr",
     "output_type": "stream",
     "text": [
      "\r",
      " 46%|████▌     | 4905/10742 [02:57<04:14, 22.90it/s]"
     ]
    },
    {
     "name": "stdout",
     "output_type": "stream",
     "text": [
      "5626.txt\n",
      "5627.txt\n",
      "5628.txt\n",
      "5629.txt\n",
      "5630.txt\n"
     ]
    },
    {
     "name": "stderr",
     "output_type": "stream",
     "text": [
      " 46%|████▌     | 4911/10742 [02:57<04:21, 22.30it/s]"
     ]
    },
    {
     "name": "stdout",
     "output_type": "stream",
     "text": [
      "5631.txt\n",
      "5632.txt\n",
      "5633.txt\n",
      "5634.txt\n",
      "5635.txt\n"
     ]
    },
    {
     "name": "stderr",
     "output_type": "stream",
     "text": [
      " 46%|████▌     | 4917/10742 [02:57<04:19, 22.48it/s]"
     ]
    },
    {
     "name": "stdout",
     "output_type": "stream",
     "text": [
      "5636.txt\n",
      "5637.txt\n",
      "5638.txt\n",
      "5639.txt\n",
      "5640.txt\n"
     ]
    },
    {
     "name": "stderr",
     "output_type": "stream",
     "text": [
      " 46%|████▌     | 4923/10742 [02:58<04:05, 23.68it/s]"
     ]
    },
    {
     "name": "stdout",
     "output_type": "stream",
     "text": [
      "5641.txt\n",
      "5642.txt\n",
      "5643.txt\n",
      "5644.txt\n",
      "5645.txt\n",
      "5646.txt\n"
     ]
    },
    {
     "name": "stderr",
     "output_type": "stream",
     "text": [
      " 46%|████▌     | 4930/10742 [02:58<03:35, 26.97it/s]"
     ]
    },
    {
     "name": "stdout",
     "output_type": "stream",
     "text": [
      "5647.txt\n",
      "5648.txt\n",
      "5649.txt\n",
      "5650.txt\n",
      "5651.txt\n",
      "5652.txt\n",
      "5653.txt\n"
     ]
    },
    {
     "name": "stderr",
     "output_type": "stream",
     "text": [
      " 46%|████▌     | 4937/10742 [02:58<03:19, 29.03it/s]"
     ]
    },
    {
     "name": "stdout",
     "output_type": "stream",
     "text": [
      "5654.txt\n",
      "5655.txt\n",
      "5656.txt\n",
      "5657.txt\n",
      "5658.txt\n",
      "5659.txt\n"
     ]
    },
    {
     "name": "stderr",
     "output_type": "stream",
     "text": [
      "\r",
      " 46%|████▌     | 4940/10742 [02:58<03:18, 29.16it/s]"
     ]
    },
    {
     "name": "stdout",
     "output_type": "stream",
     "text": [
      "5660.txt\n",
      "5661.txt\n",
      "5662.txt\n",
      "5663.txt\n",
      "5664.txt\n",
      "5665.txt\n",
      "5666.txt\n"
     ]
    },
    {
     "name": "stderr",
     "output_type": "stream",
     "text": [
      " 46%|████▌     | 4948/10742 [02:58<03:12, 30.09it/s]"
     ]
    },
    {
     "name": "stdout",
     "output_type": "stream",
     "text": [
      "5667.txt\n",
      "5668.txt\n",
      "5669.txt\n",
      "5670.txt\n",
      "5671.txt\n",
      "5672.txt\n"
     ]
    },
    {
     "name": "stderr",
     "output_type": "stream",
     "text": [
      " 46%|████▌     | 4956/10742 [02:59<03:09, 30.48it/s]"
     ]
    },
    {
     "name": "stdout",
     "output_type": "stream",
     "text": [
      "5673.txt\n",
      "5674.txt\n",
      "5675.txt\n",
      "5676.txt\n",
      "5677.txt\n",
      "5678.txt\n"
     ]
    },
    {
     "name": "stderr",
     "output_type": "stream",
     "text": [
      "\r",
      " 46%|████▌     | 4960/10742 [02:59<03:09, 30.58it/s]"
     ]
    },
    {
     "name": "stdout",
     "output_type": "stream",
     "text": [
      "5679.txt\n",
      "5680.txt\n",
      "5681.txt\n",
      "5682.txt\n",
      "5683.txt\n",
      "5684.txt\n"
     ]
    },
    {
     "name": "stderr",
     "output_type": "stream",
     "text": [
      " 46%|████▌     | 4968/10742 [02:59<03:06, 30.93it/s]"
     ]
    },
    {
     "name": "stdout",
     "output_type": "stream",
     "text": [
      "5685.txt\n",
      "5686.txt\n",
      "5687.txt\n",
      "5688.txt\n",
      "5689.txt\n",
      "5690.txt\n",
      "5691.txt\n"
     ]
    },
    {
     "name": "stderr",
     "output_type": "stream",
     "text": [
      "\r",
      " 46%|████▋     | 4972/10742 [02:59<03:06, 30.97it/s]"
     ]
    },
    {
     "name": "stdout",
     "output_type": "stream",
     "text": [
      "5692.txt\n",
      "5693.txt\n",
      "5694.txt\n",
      "5695.txt\n",
      "5696.txt\n",
      "5697.txt\n",
      "5698.txt\n"
     ]
    },
    {
     "name": "stderr",
     "output_type": "stream",
     "text": [
      " 46%|████▋     | 4980/10742 [02:59<03:09, 30.48it/s]"
     ]
    },
    {
     "name": "stdout",
     "output_type": "stream",
     "text": [
      "5699.txt\n",
      "5700.txt\n",
      "5701.txt\n",
      "5702.txt\n",
      "5703.txt\n",
      "5704.txt\n"
     ]
    },
    {
     "name": "stderr",
     "output_type": "stream",
     "text": [
      " 46%|████▋     | 4987/10742 [03:00<03:31, 27.26it/s]"
     ]
    },
    {
     "name": "stdout",
     "output_type": "stream",
     "text": [
      "5705.txt\n",
      "5706.txt\n",
      "5707.txt\n",
      "5708.txt\n",
      "5709.txt\n"
     ]
    },
    {
     "name": "stderr",
     "output_type": "stream",
     "text": [
      "\r",
      " 46%|████▋     | 4990/10742 [03:00<03:48, 25.21it/s]"
     ]
    },
    {
     "name": "stdout",
     "output_type": "stream",
     "text": [
      "5710.txt\n",
      "5711.txt\n",
      "5712.txt\n",
      "5713.txt\n",
      "5714.txt\n"
     ]
    },
    {
     "name": "stderr",
     "output_type": "stream",
     "text": [
      " 47%|████▋     | 4996/10742 [03:00<03:52, 24.67it/s]"
     ]
    },
    {
     "name": "stdout",
     "output_type": "stream",
     "text": [
      "5715.txt\n",
      "5716.txt\n",
      "5717.txt\n",
      "5718.txt\n",
      "5719.txt\n",
      "5720.txt\n"
     ]
    },
    {
     "name": "stderr",
     "output_type": "stream",
     "text": [
      " 47%|████▋     | 5002/10742 [03:00<03:53, 24.59it/s]"
     ]
    },
    {
     "name": "stdout",
     "output_type": "stream",
     "text": [
      "5721.txt\n",
      "5722.txt\n",
      "5723.txt\n",
      "5724.txt\n",
      "5725.txt\n"
     ]
    },
    {
     "name": "stderr",
     "output_type": "stream",
     "text": [
      " 47%|████▋     | 5009/10742 [03:01<03:32, 26.96it/s]"
     ]
    },
    {
     "name": "stdout",
     "output_type": "stream",
     "text": [
      "5726.txt\n",
      "5727.txt\n",
      "5728.txt\n",
      "5729.txt\n",
      "5730.txt\n",
      "5731.txt\n"
     ]
    },
    {
     "name": "stderr",
     "output_type": "stream",
     "text": [
      "\r",
      " 47%|████▋     | 5013/10742 [03:01<03:24, 28.08it/s]"
     ]
    },
    {
     "name": "stdout",
     "output_type": "stream",
     "text": [
      "5732.txt\n",
      "5733.txt\n",
      "5734.txt\n",
      "5735.txt\n",
      "5736.txt\n",
      "5737.txt\n",
      "5738.txt\n"
     ]
    },
    {
     "name": "stderr",
     "output_type": "stream",
     "text": [
      " 47%|████▋     | 5020/10742 [03:01<03:18, 28.89it/s]"
     ]
    },
    {
     "name": "stdout",
     "output_type": "stream",
     "text": [
      "5739.txt\n",
      "5740.txt\n",
      "5741.txt\n",
      "5742.txt\n",
      "5743.txt\n",
      "5744.txt\n",
      "5745.txt\n"
     ]
    },
    {
     "name": "stderr",
     "output_type": "stream",
     "text": [
      " 47%|████▋     | 5027/10742 [03:01<03:13, 29.52it/s]"
     ]
    },
    {
     "name": "stdout",
     "output_type": "stream",
     "text": [
      "5746.txt\n",
      "5747.txt\n",
      "5748.txt\n",
      "5749.txt\n",
      "5750.txt\n",
      "5751.txt\n",
      "5752.txt\n"
     ]
    },
    {
     "name": "stderr",
     "output_type": "stream",
     "text": [
      " 47%|████▋     | 5035/10742 [03:01<03:08, 30.25it/s]"
     ]
    },
    {
     "name": "stdout",
     "output_type": "stream",
     "text": [
      "5753.txt\n",
      "5754.txt\n",
      "5755.txt\n",
      "5756.txt\n",
      "5757.txt\n",
      "5758.txt\n",
      "5759.txt\n"
     ]
    },
    {
     "name": "stderr",
     "output_type": "stream",
     "text": [
      " 47%|████▋     | 5043/10742 [03:02<03:05, 30.64it/s]"
     ]
    },
    {
     "name": "stdout",
     "output_type": "stream",
     "text": [
      "5760.txt\n",
      "5761.txt\n",
      "5762.txt\n",
      "5763.txt\n",
      "5764.txt\n",
      "5765.txt\n",
      "5766.txt\n"
     ]
    },
    {
     "name": "stderr",
     "output_type": "stream",
     "text": [
      "\r",
      " 47%|████▋     | 5047/10742 [03:02<03:05, 30.77it/s]"
     ]
    },
    {
     "name": "stdout",
     "output_type": "stream",
     "text": [
      "5767.txt\n",
      "5768.txt\n",
      "5769.txt\n",
      "5770.txt\n",
      "5771.txt\n",
      "5772.txt\n",
      "5773.txt\n"
     ]
    },
    {
     "name": "stderr",
     "output_type": "stream",
     "text": [
      " 47%|████▋     | 5055/10742 [03:02<03:02, 31.13it/s]"
     ]
    },
    {
     "name": "stdout",
     "output_type": "stream",
     "text": [
      "5774.txt\n",
      "5775.txt\n",
      "5776.txt\n",
      "5777.txt\n",
      "5778.txt\n",
      "5779.txt\n"
     ]
    },
    {
     "name": "stderr",
     "output_type": "stream",
     "text": [
      "\r",
      " 47%|████▋     | 5059/10742 [03:02<03:07, 30.33it/s]"
     ]
    },
    {
     "name": "stdout",
     "output_type": "stream",
     "text": [
      "5780.txt\n",
      "5781.txt\n",
      "5782.txt\n",
      "5783.txt\n",
      "5784.txt\n",
      "5785.txt\n"
     ]
    },
    {
     "name": "stderr",
     "output_type": "stream",
     "text": [
      " 47%|████▋     | 5066/10742 [03:02<03:30, 26.99it/s]"
     ]
    },
    {
     "name": "stdout",
     "output_type": "stream",
     "text": [
      "5786.txt\n",
      "5787.txt\n",
      "5788.txt\n",
      "5789.txt\n",
      "5790.txt\n",
      "5791.txt\n"
     ]
    },
    {
     "name": "stderr",
     "output_type": "stream",
     "text": [
      " 47%|████▋     | 5072/10742 [03:03<03:38, 25.98it/s]"
     ]
    },
    {
     "name": "stdout",
     "output_type": "stream",
     "text": [
      "5792.txt\n",
      "5793.txt\n",
      "5794.txt\n",
      "5795.txt\n",
      "5796.txt\n"
     ]
    },
    {
     "name": "stderr",
     "output_type": "stream",
     "text": [
      " 47%|████▋     | 5078/10742 [03:03<03:43, 25.30it/s]"
     ]
    },
    {
     "name": "stdout",
     "output_type": "stream",
     "text": [
      "5797.txt\n",
      "5798.txt\n",
      "5799.txt\n",
      "5800.txt\n",
      "5801.txt\n",
      "5802.txt\n"
     ]
    },
    {
     "name": "stderr",
     "output_type": "stream",
     "text": [
      " 47%|████▋     | 5085/10742 [03:03<03:31, 26.71it/s]"
     ]
    },
    {
     "name": "stdout",
     "output_type": "stream",
     "text": [
      "5803.txt\n",
      "5804.txt\n",
      "5805.txt\n",
      "5806.txt\n",
      "5807.txt\n",
      "5808.txt\n"
     ]
    },
    {
     "name": "stderr",
     "output_type": "stream",
     "text": [
      " 47%|████▋     | 5091/10742 [03:03<03:31, 26.76it/s]"
     ]
    },
    {
     "name": "stdout",
     "output_type": "stream",
     "text": [
      "5809.txt\n",
      "5810.txt\n",
      "5811.txt\n",
      "5812.txt\n",
      "5813.txt\n",
      "5814.txt\n"
     ]
    },
    {
     "name": "stderr",
     "output_type": "stream",
     "text": [
      " 47%|████▋     | 5098/10742 [03:04<03:18, 28.42it/s]"
     ]
    },
    {
     "name": "stdout",
     "output_type": "stream",
     "text": [
      "5815.txt\n",
      "5816.txt\n",
      "5817.txt\n",
      "5818.txt\n",
      "5819.txt\n",
      "5820.txt\n"
     ]
    },
    {
     "name": "stderr",
     "output_type": "stream",
     "text": [
      " 48%|████▊     | 5104/10742 [03:04<03:17, 28.48it/s]"
     ]
    },
    {
     "name": "stdout",
     "output_type": "stream",
     "text": [
      "5821.txt\n",
      "5822.txt\n",
      "5823.txt\n",
      "5824.txt\n",
      "5825.txt\n",
      "5826.txt\n"
     ]
    },
    {
     "name": "stderr",
     "output_type": "stream",
     "text": [
      "\r",
      " 48%|████▊     | 5107/10742 [03:04<03:18, 28.40it/s]"
     ]
    },
    {
     "name": "stdout",
     "output_type": "stream",
     "text": [
      "5827.txt\n",
      "5828.txt\n",
      "5829.txt\n",
      "5830.txt\n",
      "5831.txt\n",
      "5832.txt\n"
     ]
    },
    {
     "name": "stderr",
     "output_type": "stream",
     "text": [
      " 48%|████▊     | 5113/10742 [03:04<03:15, 28.83it/s]"
     ]
    },
    {
     "name": "stdout",
     "output_type": "stream",
     "text": [
      "5833.txt\n",
      "5834.txt\n",
      "5835.txt\n",
      "5836.txt\n",
      "5837.txt\n",
      "5838.txt\n"
     ]
    },
    {
     "name": "stderr",
     "output_type": "stream",
     "text": [
      " 48%|████▊     | 5121/10742 [03:04<03:08, 29.82it/s]"
     ]
    },
    {
     "name": "stdout",
     "output_type": "stream",
     "text": [
      "5839.txt\n",
      "5840.txt\n",
      "5841.txt\n",
      "5842.txt\n",
      "5843.txt\n",
      "5844.txt\n",
      "5845.txt\n"
     ]
    },
    {
     "name": "stderr",
     "output_type": "stream",
     "text": [
      " 48%|████▊     | 5127/10742 [03:05<03:10, 29.40it/s]"
     ]
    },
    {
     "name": "stdout",
     "output_type": "stream",
     "text": [
      "5846.txt\n",
      "5847.txt\n",
      "5848.txt\n",
      "5849.txt\n",
      "5850.txt\n",
      "5851.txt\n",
      "5852.txt\n"
     ]
    },
    {
     "name": "stderr",
     "output_type": "stream",
     "text": [
      " 48%|████▊     | 5133/10742 [03:05<03:11, 29.30it/s]"
     ]
    },
    {
     "name": "stdout",
     "output_type": "stream",
     "text": [
      "5853.txt\n",
      "5854.txt\n",
      "5855.txt\n",
      "5856.txt\n",
      "5857.txt\n",
      "5858.txt\n",
      "5859.txt\n"
     ]
    },
    {
     "name": "stderr",
     "output_type": "stream",
     "text": [
      " 48%|████▊     | 5141/10742 [03:05<03:12, 29.11it/s]"
     ]
    },
    {
     "name": "stdout",
     "output_type": "stream",
     "text": [
      "5860.txt\n",
      "5861.txt\n",
      "5862.txt\n",
      "5863.txt\n",
      "5864.txt\n"
     ]
    },
    {
     "name": "stderr",
     "output_type": "stream",
     "text": [
      " 48%|████▊     | 5147/10742 [03:05<03:31, 26.40it/s]"
     ]
    },
    {
     "name": "stdout",
     "output_type": "stream",
     "text": [
      "5865.txt\n",
      "5866.txt\n",
      "5867.txt\n",
      "5868.txt\n",
      "5869.txt\n"
     ]
    },
    {
     "name": "stderr",
     "output_type": "stream",
     "text": [
      "\r",
      " 48%|████▊     | 5150/10742 [03:06<03:43, 25.03it/s]"
     ]
    },
    {
     "name": "stdout",
     "output_type": "stream",
     "text": [
      "5870.txt\n",
      "5871.txt\n",
      "5872.txt\n",
      "5873.txt\n",
      "5874.txt\n"
     ]
    },
    {
     "name": "stderr",
     "output_type": "stream",
     "text": [
      " 48%|████▊     | 5156/10742 [03:06<03:48, 24.47it/s]"
     ]
    },
    {
     "name": "stdout",
     "output_type": "stream",
     "text": [
      "5875.txt\n",
      "5876.txt\n",
      "5877.txt\n",
      "5878.txt\n",
      "5879.txt\n"
     ]
    },
    {
     "name": "stderr",
     "output_type": "stream",
     "text": [
      " 48%|████▊     | 5162/10742 [03:06<03:42, 25.05it/s]"
     ]
    },
    {
     "name": "stdout",
     "output_type": "stream",
     "text": [
      "5880.txt\n",
      "5881.txt\n",
      "5882.txt\n",
      "5883.txt\n",
      "5884.txt\n"
     ]
    },
    {
     "name": "stderr",
     "output_type": "stream",
     "text": [
      "\r",
      " 48%|████▊     | 5166/10742 [03:06<03:27, 26.93it/s]"
     ]
    },
    {
     "name": "stdout",
     "output_type": "stream",
     "text": [
      "5885.txt\n",
      "5886.txt\n",
      "5887.txt\n",
      "5888.txt\n",
      "5889.txt\n",
      "5890.txt\n",
      "5891.txt\n"
     ]
    },
    {
     "name": "stderr",
     "output_type": "stream",
     "text": [
      " 48%|████▊     | 5173/10742 [03:06<03:21, 27.62it/s]"
     ]
    },
    {
     "name": "stdout",
     "output_type": "stream",
     "text": [
      "5892.txt\n",
      "5893.txt\n",
      "5894.txt\n",
      "5895.txt\n",
      "5896.txt\n",
      "5897.txt\n"
     ]
    },
    {
     "name": "stderr",
     "output_type": "stream",
     "text": [
      " 48%|████▊     | 5179/10742 [03:07<03:18, 27.99it/s]"
     ]
    },
    {
     "name": "stdout",
     "output_type": "stream",
     "text": [
      "5898.txt\n",
      "5899.txt\n",
      "5900.txt\n",
      "5901.txt\n",
      "5902.txt\n",
      "5903.txt\n"
     ]
    },
    {
     "name": "stderr",
     "output_type": "stream",
     "text": [
      " 48%|████▊     | 5185/10742 [03:07<03:27, 26.79it/s]"
     ]
    },
    {
     "name": "stdout",
     "output_type": "stream",
     "text": [
      "5904.txt\n",
      "5905.txt\n",
      "5906.txt\n",
      "5907.txt\n",
      "5908.txt\n",
      "5909.txt\n"
     ]
    },
    {
     "name": "stderr",
     "output_type": "stream",
     "text": [
      " 48%|████▊     | 5191/10742 [03:07<03:32, 26.09it/s]"
     ]
    },
    {
     "name": "stdout",
     "output_type": "stream",
     "text": [
      "5910.txt\n",
      "5911.txt\n",
      "5912.txt\n",
      "5913.txt\n",
      "5914.txt\n"
     ]
    },
    {
     "name": "stderr",
     "output_type": "stream",
     "text": [
      " 48%|████▊     | 5198/10742 [03:07<03:17, 28.14it/s]"
     ]
    },
    {
     "name": "stdout",
     "output_type": "stream",
     "text": [
      "5915.txt\n",
      "5916.txt\n",
      "5917.txt\n",
      "5918.txt\n",
      "5919.txt\n",
      "5920.txt\n"
     ]
    },
    {
     "name": "stderr",
     "output_type": "stream",
     "text": [
      "\r",
      " 48%|████▊     | 5201/10742 [03:07<03:16, 28.16it/s]"
     ]
    },
    {
     "name": "stdout",
     "output_type": "stream",
     "text": [
      "5921.txt\n",
      "5922.txt\n",
      "5923.txt\n",
      "5924.txt\n",
      "5925.txt\n",
      "5926.txt\n"
     ]
    },
    {
     "name": "stderr",
     "output_type": "stream",
     "text": [
      " 48%|████▊     | 5209/10742 [03:08<03:08, 29.34it/s]"
     ]
    },
    {
     "name": "stdout",
     "output_type": "stream",
     "text": [
      "5927.txt\n",
      "5928.txt\n",
      "5929.txt\n",
      "5930.txt\n",
      "5931.txt\n",
      "5932.txt\n",
      "5933.txt\n"
     ]
    },
    {
     "name": "stderr",
     "output_type": "stream",
     "text": [
      " 49%|████▊     | 5216/10742 [03:08<03:05, 29.75it/s]"
     ]
    },
    {
     "name": "stdout",
     "output_type": "stream",
     "text": [
      "5934.txt\n",
      "5935.txt\n",
      "5936.txt\n",
      "5937.txt\n",
      "5938.txt\n",
      "5939.txt\n",
      "5940.txt\n"
     ]
    },
    {
     "name": "stderr",
     "output_type": "stream",
     "text": [
      " 49%|████▊     | 5222/10742 [03:08<03:25, 26.89it/s]"
     ]
    },
    {
     "name": "stdout",
     "output_type": "stream",
     "text": [
      "5941.txt\n",
      "5942.txt\n",
      "5943.txt\n",
      "5944.txt\n",
      "5945.txt\n"
     ]
    },
    {
     "name": "stderr",
     "output_type": "stream",
     "text": [
      "\r",
      " 49%|████▊     | 5225/10742 [03:08<03:31, 26.03it/s]"
     ]
    },
    {
     "name": "stdout",
     "output_type": "stream",
     "text": [
      "5946.txt\n",
      "5947.txt\n",
      "5948.txt\n",
      "5949.txt\n",
      "5950.txt\n"
     ]
    },
    {
     "name": "stderr",
     "output_type": "stream",
     "text": [
      " 49%|████▊     | 5231/10742 [03:09<03:53, 23.56it/s]"
     ]
    },
    {
     "name": "stdout",
     "output_type": "stream",
     "text": [
      "5951.txt\n",
      "5952.txt\n",
      "5953.txt\n",
      "5954.txt\n",
      "5955.txt\n"
     ]
    },
    {
     "name": "stderr",
     "output_type": "stream",
     "text": [
      " 49%|████▉     | 5237/10742 [03:09<03:54, 23.50it/s]"
     ]
    },
    {
     "name": "stdout",
     "output_type": "stream",
     "text": [
      "5956.txt\n",
      "5957.txt\n",
      "5958.txt\n",
      "5959.txt\n",
      "5960.txt\n"
     ]
    },
    {
     "name": "stderr",
     "output_type": "stream",
     "text": [
      " 49%|████▉     | 5244/10742 [03:09<03:29, 26.29it/s]"
     ]
    },
    {
     "name": "stdout",
     "output_type": "stream",
     "text": [
      "5961.txt\n",
      "5962.txt\n",
      "5963.txt\n",
      "5964.txt\n",
      "5965.txt\n",
      "5966.txt\n",
      "5967.txt\n"
     ]
    },
    {
     "name": "stderr",
     "output_type": "stream",
     "text": [
      " 49%|████▉     | 5251/10742 [03:09<03:16, 28.01it/s]"
     ]
    },
    {
     "name": "stdout",
     "output_type": "stream",
     "text": [
      "5968.txt\n",
      "5969.txt\n",
      "5970.txt\n",
      "5971.txt\n",
      "5972.txt\n",
      "5973.txt\n"
     ]
    },
    {
     "name": "stderr",
     "output_type": "stream",
     "text": [
      "\r",
      " 49%|████▉     | 5254/10742 [03:09<03:19, 27.55it/s]"
     ]
    },
    {
     "name": "stdout",
     "output_type": "stream",
     "text": [
      "5974.txt\n",
      "5975.txt\n",
      "5976.txt\n",
      "5977.txt\n",
      "5978.txt\n",
      "5979.txt\n"
     ]
    },
    {
     "name": "stderr",
     "output_type": "stream",
     "text": [
      " 49%|████▉     | 5261/10742 [03:10<03:08, 29.04it/s]"
     ]
    },
    {
     "name": "stdout",
     "output_type": "stream",
     "text": [
      "5980.txt\n",
      "5981.txt\n",
      "5982.txt\n",
      "5983.txt\n",
      "5984.txt\n",
      "5985.txt\n",
      "5986.txt\n"
     ]
    },
    {
     "name": "stderr",
     "output_type": "stream",
     "text": [
      " 49%|████▉     | 5268/10742 [03:10<03:04, 29.62it/s]"
     ]
    },
    {
     "name": "stdout",
     "output_type": "stream",
     "text": [
      "5987.txt\n",
      "5988.txt\n",
      "5989.txt\n",
      "5990.txt\n",
      "5991.txt\n",
      "5992.txt\n",
      "5993.txt\n"
     ]
    },
    {
     "name": "stderr",
     "output_type": "stream",
     "text": [
      " 49%|████▉     | 5275/10742 [03:10<03:02, 29.94it/s]"
     ]
    },
    {
     "name": "stdout",
     "output_type": "stream",
     "text": [
      "5994.txt\n",
      "5995.txt\n",
      "5996.txt\n",
      "5997.txt\n",
      "5998.txt\n",
      "5999.txt\n",
      "6000.txt\n"
     ]
    },
    {
     "name": "stderr",
     "output_type": "stream",
     "text": [
      " 49%|████▉     | 5283/10742 [03:10<02:56, 30.87it/s]"
     ]
    },
    {
     "name": "stdout",
     "output_type": "stream",
     "text": [
      "6001.txt\n",
      "6002.txt\n",
      "6003.txt\n",
      "6004.txt\n",
      "6005.txt\n",
      "6006.txt\n",
      "6007.txt\n"
     ]
    },
    {
     "name": "stderr",
     "output_type": "stream",
     "text": [
      " 49%|████▉     | 5291/10742 [03:11<02:55, 31.14it/s]"
     ]
    },
    {
     "name": "stdout",
     "output_type": "stream",
     "text": [
      "6008.txt\n",
      "6009.txt\n",
      "6010.txt\n",
      "6011.txt\n",
      "6012.txt\n",
      "6013.txt\n"
     ]
    },
    {
     "name": "stderr",
     "output_type": "stream",
     "text": [
      "\r",
      " 49%|████▉     | 5295/10742 [03:11<02:56, 30.83it/s]"
     ]
    },
    {
     "name": "stdout",
     "output_type": "stream",
     "text": [
      "6014.txt\n",
      "6015.txt\n",
      "6016.txt\n",
      "6017.txt\n",
      "6018.txt\n",
      "6019.txt\n",
      "6020.txt\n"
     ]
    },
    {
     "name": "stderr",
     "output_type": "stream",
     "text": [
      " 49%|████▉     | 5303/10742 [03:11<03:03, 29.61it/s]"
     ]
    },
    {
     "name": "stdout",
     "output_type": "stream",
     "text": [
      "6021.txt\n",
      "6022.txt\n",
      "6023.txt\n",
      "6024.txt\n",
      "6025.txt\n",
      "6026.txt\n"
     ]
    },
    {
     "name": "stderr",
     "output_type": "stream",
     "text": [
      " 49%|████▉     | 5309/10742 [03:11<03:15, 27.80it/s]"
     ]
    },
    {
     "name": "stdout",
     "output_type": "stream",
     "text": [
      "6027.txt\n",
      "6028.txt\n",
      "6029.txt\n",
      "6030.txt\n",
      "6031.txt\n"
     ]
    },
    {
     "name": "stderr",
     "output_type": "stream",
     "text": [
      "\r",
      " 49%|████▉     | 5312/10742 [03:11<03:26, 26.30it/s]"
     ]
    },
    {
     "name": "stdout",
     "output_type": "stream",
     "text": [
      "6032.txt\n",
      "6033.txt\n",
      "6034.txt\n",
      "6035.txt\n",
      "6036.txt\n",
      "6037.txt\n"
     ]
    },
    {
     "name": "stderr",
     "output_type": "stream",
     "text": [
      " 50%|████▉     | 5318/10742 [03:12<03:29, 25.93it/s]"
     ]
    },
    {
     "name": "stdout",
     "output_type": "stream",
     "text": [
      "6038.txt\n",
      "6039.txt\n",
      "6040.txt\n",
      "6041.txt\n",
      "6042.txt\n",
      "6043.txt\n"
     ]
    },
    {
     "name": "stderr",
     "output_type": "stream",
     "text": [
      " 50%|████▉     | 5324/10742 [03:12<03:23, 26.62it/s]"
     ]
    },
    {
     "name": "stdout",
     "output_type": "stream",
     "text": [
      "6044.txt\n",
      "6045.txt\n",
      "6046.txt\n",
      "6047.txt\n",
      "6048.txt\n",
      "6049.txt\n"
     ]
    },
    {
     "name": "stderr",
     "output_type": "stream",
     "text": [
      " 50%|████▉     | 5330/10742 [03:12<03:26, 26.18it/s]"
     ]
    },
    {
     "name": "stdout",
     "output_type": "stream",
     "text": [
      "6050.txt\n",
      "6051.txt\n",
      "6052.txt\n",
      "6053.txt\n",
      "6054.txt\n"
     ]
    },
    {
     "name": "stderr",
     "output_type": "stream",
     "text": [
      " 50%|████▉     | 5336/10742 [03:12<03:29, 25.79it/s]"
     ]
    },
    {
     "name": "stdout",
     "output_type": "stream",
     "text": [
      "6055.txt\n",
      "6056.txt\n",
      "6057.txt\n",
      "6058.txt\n",
      "6059.txt\n",
      "6060.txt\n"
     ]
    },
    {
     "name": "stderr",
     "output_type": "stream",
     "text": [
      " 50%|████▉     | 5342/10742 [03:13<03:35, 25.06it/s]"
     ]
    },
    {
     "name": "stdout",
     "output_type": "stream",
     "text": [
      "6061.txt\n",
      "6062.txt\n",
      "6063.txt\n",
      "6064.txt\n",
      "6065.txt\n",
      "6066.txt\n"
     ]
    },
    {
     "name": "stderr",
     "output_type": "stream",
     "text": [
      " 50%|████▉     | 5348/10742 [03:13<03:34, 25.14it/s]"
     ]
    },
    {
     "name": "stdout",
     "output_type": "stream",
     "text": [
      "6067.txt\n",
      "6068.txt\n",
      "6069.txt\n",
      "6070.txt\n",
      "6071.txt\n"
     ]
    },
    {
     "name": "stderr",
     "output_type": "stream",
     "text": [
      " 50%|████▉     | 5354/10742 [03:13<03:39, 24.52it/s]"
     ]
    },
    {
     "name": "stdout",
     "output_type": "stream",
     "text": [
      "6072.txt\n",
      "6073.txt\n",
      "6074.txt\n",
      "6075.txt\n",
      "6076.txt\n"
     ]
    },
    {
     "name": "stderr",
     "output_type": "stream",
     "text": [
      "\r",
      " 50%|████▉     | 5357/10742 [03:13<03:34, 25.05it/s]"
     ]
    },
    {
     "name": "stdout",
     "output_type": "stream",
     "text": [
      "6077.txt\n",
      "6078.txt\n",
      "6079.txt\n",
      "6080.txt\n",
      "6081.txt\n",
      "6082.txt\n"
     ]
    },
    {
     "name": "stderr",
     "output_type": "stream",
     "text": [
      " 50%|████▉     | 5363/10742 [03:13<03:29, 25.70it/s]"
     ]
    },
    {
     "name": "stdout",
     "output_type": "stream",
     "text": [
      "6083.txt\n",
      "6084.txt\n",
      "6085.txt\n",
      "6086.txt\n",
      "6087.txt\n",
      "6088.txt\n"
     ]
    },
    {
     "name": "stderr",
     "output_type": "stream",
     "text": [
      " 50%|████▉     | 5369/10742 [03:14<03:25, 26.17it/s]"
     ]
    },
    {
     "name": "stdout",
     "output_type": "stream",
     "text": [
      "6089.txt\n",
      "6090.txt\n",
      "6091.txt\n",
      "6092.txt\n",
      "6093.txt\n",
      "6094.txt\n"
     ]
    },
    {
     "name": "stderr",
     "output_type": "stream",
     "text": [
      " 50%|█████     | 5376/10742 [03:14<03:27, 25.85it/s]"
     ]
    },
    {
     "name": "stdout",
     "output_type": "stream",
     "text": [
      "6095.txt\n",
      "6096.txt\n",
      "6097.txt\n",
      "6098.txt\n",
      "6099.txt\n"
     ]
    },
    {
     "name": "stderr",
     "output_type": "stream",
     "text": [
      " 50%|█████     | 5382/10742 [03:14<03:37, 24.66it/s]"
     ]
    },
    {
     "name": "stdout",
     "output_type": "stream",
     "text": [
      "6100.txt\n",
      "6101.txt\n",
      "6102.txt\n",
      "6103.txt\n",
      "6104.txt\n"
     ]
    },
    {
     "name": "stderr",
     "output_type": "stream",
     "text": [
      "\r",
      " 50%|█████     | 5385/10742 [03:14<03:38, 24.48it/s]"
     ]
    },
    {
     "name": "stdout",
     "output_type": "stream",
     "text": [
      "6105.txt\n",
      "6106.txt\n",
      "6107.txt\n",
      "6108.txt\n",
      "6109.txt\n"
     ]
    },
    {
     "name": "stderr",
     "output_type": "stream",
     "text": [
      " 50%|█████     | 5391/10742 [03:15<03:38, 24.52it/s]"
     ]
    },
    {
     "name": "stdout",
     "output_type": "stream",
     "text": [
      "6110.txt\n",
      "6111.txt\n",
      "6112.txt\n",
      "6113.txt\n",
      "6114.txt\n"
     ]
    },
    {
     "name": "stderr",
     "output_type": "stream",
     "text": [
      " 50%|█████     | 5397/10742 [03:15<03:29, 25.51it/s]"
     ]
    },
    {
     "name": "stdout",
     "output_type": "stream",
     "text": [
      "6115.txt\n",
      "6116.txt\n",
      "6117.txt\n",
      "6118.txt\n",
      "6119.txt\n",
      "6120.txt\n"
     ]
    },
    {
     "name": "stderr",
     "output_type": "stream",
     "text": [
      " 50%|█████     | 5404/10742 [03:15<03:10, 27.98it/s]"
     ]
    },
    {
     "name": "stdout",
     "output_type": "stream",
     "text": [
      "6121.txt\n",
      "6122.txt\n",
      "6123.txt\n",
      "6124.txt\n",
      "6125.txt\n",
      "6126.txt\n"
     ]
    },
    {
     "name": "stderr",
     "output_type": "stream",
     "text": [
      "\r",
      " 50%|█████     | 5407/10742 [03:15<03:07, 28.44it/s]"
     ]
    },
    {
     "name": "stdout",
     "output_type": "stream",
     "text": [
      "6127.txt\n",
      "6128.txt\n",
      "6129.txt\n",
      "6130.txt\n",
      "6131.txt\n",
      "6132.txt\n"
     ]
    },
    {
     "name": "stderr",
     "output_type": "stream",
     "text": [
      " 50%|█████     | 5414/10742 [03:15<03:04, 28.82it/s]"
     ]
    },
    {
     "name": "stdout",
     "output_type": "stream",
     "text": [
      "6133.txt\n",
      "6134.txt\n",
      "6135.txt\n",
      "6136.txt\n",
      "6137.txt\n",
      "6138.txt\n",
      "6139.txt\n"
     ]
    },
    {
     "name": "stderr",
     "output_type": "stream",
     "text": [
      " 50%|█████     | 5420/10742 [03:16<03:05, 28.74it/s]"
     ]
    },
    {
     "name": "stdout",
     "output_type": "stream",
     "text": [
      "6140.txt\n",
      "6141.txt\n",
      "6142.txt\n",
      "6143.txt\n",
      "6144.txt\n",
      "6145.txt\n"
     ]
    },
    {
     "name": "stderr",
     "output_type": "stream",
     "text": [
      " 51%|█████     | 5428/10742 [03:16<02:57, 29.98it/s]"
     ]
    },
    {
     "name": "stdout",
     "output_type": "stream",
     "text": [
      "6146.txt\n",
      "6147.txt\n",
      "6148.txt\n",
      "6149.txt\n",
      "6150.txt\n",
      "6151.txt\n",
      "6152.txt\n"
     ]
    },
    {
     "name": "stderr",
     "output_type": "stream",
     "text": [
      " 51%|█████     | 5435/10742 [03:16<02:55, 30.17it/s]"
     ]
    },
    {
     "name": "stdout",
     "output_type": "stream",
     "text": [
      "6153.txt\n",
      "6154.txt\n",
      "6155.txt\n",
      "6156.txt\n",
      "6157.txt\n",
      "6158.txt\n",
      "6159.txt\n"
     ]
    },
    {
     "name": "stderr",
     "output_type": "stream",
     "text": [
      " 51%|█████     | 5443/10742 [03:16<02:55, 30.13it/s]"
     ]
    },
    {
     "name": "stdout",
     "output_type": "stream",
     "text": [
      "6160.txt\n",
      "6161.txt\n",
      "6162.txt\n",
      "6163.txt\n",
      "6164.txt\n",
      "6165.txt\n"
     ]
    },
    {
     "name": "stderr",
     "output_type": "stream",
     "text": [
      "\r",
      " 51%|█████     | 5447/10742 [03:16<02:56, 30.00it/s]"
     ]
    },
    {
     "name": "stdout",
     "output_type": "stream",
     "text": [
      "6166.txt\n",
      "6167.txt\n",
      "6168.txt\n",
      "6169.txt\n",
      "6170.txt\n",
      "6171.txt\n"
     ]
    },
    {
     "name": "stderr",
     "output_type": "stream",
     "text": [
      " 51%|█████     | 5454/10742 [03:17<02:54, 30.25it/s]"
     ]
    },
    {
     "name": "stdout",
     "output_type": "stream",
     "text": [
      "6172.txt\n",
      "6173.txt\n",
      "6174.txt\n",
      "6175.txt\n",
      "6176.txt\n",
      "6177.txt\n",
      "6178.txt\n"
     ]
    },
    {
     "name": "stderr",
     "output_type": "stream",
     "text": [
      "\r",
      " 51%|█████     | 5458/10742 [03:17<03:07, 28.21it/s]"
     ]
    },
    {
     "name": "stdout",
     "output_type": "stream",
     "text": [
      "6179.txt\n",
      "6180.txt\n",
      "6181.txt\n",
      "6182.txt\n",
      "6183.txt\n"
     ]
    },
    {
     "name": "stderr",
     "output_type": "stream",
     "text": [
      " 51%|█████     | 5464/10742 [03:17<03:23, 25.97it/s]"
     ]
    },
    {
     "name": "stdout",
     "output_type": "stream",
     "text": [
      "6184.txt\n",
      "6185.txt\n",
      "6186.txt\n",
      "6187.txt\n",
      "6188.txt\n"
     ]
    },
    {
     "name": "stderr",
     "output_type": "stream",
     "text": [
      " 51%|█████     | 5470/10742 [03:17<03:31, 24.95it/s]"
     ]
    },
    {
     "name": "stdout",
     "output_type": "stream",
     "text": [
      "6189.txt\n",
      "6190.txt\n",
      "6191.txt\n",
      "6192.txt\n",
      "6193.txt\n",
      "6194.txt\n"
     ]
    },
    {
     "name": "stderr",
     "output_type": "stream",
     "text": [
      " 51%|█████     | 5476/10742 [03:18<03:38, 24.15it/s]"
     ]
    },
    {
     "name": "stdout",
     "output_type": "stream",
     "text": [
      "6195.txt\n",
      "6196.txt\n",
      "6197.txt\n",
      "6198.txt\n",
      "6199.txt\n"
     ]
    },
    {
     "name": "stderr",
     "output_type": "stream",
     "text": [
      " 51%|█████     | 5483/10742 [03:18<03:14, 27.10it/s]"
     ]
    },
    {
     "name": "stdout",
     "output_type": "stream",
     "text": [
      "6200.txt\n",
      "6201.txt\n",
      "6202.txt\n",
      "6203.txt\n",
      "6204.txt\n",
      "6205.txt\n"
     ]
    },
    {
     "name": "stderr",
     "output_type": "stream",
     "text": [
      "\r",
      " 51%|█████     | 5486/10742 [03:18<03:12, 27.24it/s]"
     ]
    },
    {
     "name": "stdout",
     "output_type": "stream",
     "text": [
      "6206.txt\n",
      "6207.txt\n",
      "6208.txt\n",
      "6209.txt\n",
      "6210.txt\n",
      "6211.txt\n"
     ]
    },
    {
     "name": "stderr",
     "output_type": "stream",
     "text": [
      " 51%|█████     | 5492/10742 [03:18<03:13, 27.15it/s]"
     ]
    },
    {
     "name": "stdout",
     "output_type": "stream",
     "text": [
      "6212.txt\n",
      "6213.txt\n",
      "6214.txt\n",
      "6215.txt\n",
      "6216.txt\n",
      "6217.txt\n"
     ]
    },
    {
     "name": "stderr",
     "output_type": "stream",
     "text": [
      " 51%|█████     | 5499/10742 [03:18<03:10, 27.46it/s]"
     ]
    },
    {
     "name": "stdout",
     "output_type": "stream",
     "text": [
      "6218.txt\n",
      "6219.txt\n",
      "6220.txt\n",
      "6221.txt\n",
      "6222.txt\n",
      "6223.txt\n"
     ]
    },
    {
     "name": "stderr",
     "output_type": "stream",
     "text": [
      " 51%|█████▏    | 5506/10742 [03:19<03:00, 28.98it/s]"
     ]
    },
    {
     "name": "stdout",
     "output_type": "stream",
     "text": [
      "6224.txt\n",
      "6225.txt\n",
      "6226.txt\n",
      "6227.txt\n",
      "6228.txt\n",
      "6229.txt\n",
      "6230.txt\n"
     ]
    },
    {
     "name": "stderr",
     "output_type": "stream",
     "text": [
      " 51%|█████▏    | 5512/10742 [03:19<02:57, 29.40it/s]"
     ]
    },
    {
     "name": "stdout",
     "output_type": "stream",
     "text": [
      "6231.txt\n",
      "6232.txt\n",
      "6233.txt\n",
      "6234.txt\n",
      "6235.txt\n",
      "6236.txt\n",
      "6237.txt\n"
     ]
    },
    {
     "name": "stderr",
     "output_type": "stream",
     "text": [
      " 51%|█████▏    | 5518/10742 [03:19<03:01, 28.78it/s]"
     ]
    },
    {
     "name": "stdout",
     "output_type": "stream",
     "text": [
      "6238.txt\n",
      "6239.txt\n",
      "6240.txt\n",
      "6241.txt\n",
      "6242.txt\n",
      "6243.txt\n"
     ]
    },
    {
     "name": "stderr",
     "output_type": "stream",
     "text": [
      " 51%|█████▏    | 5526/10742 [03:19<02:55, 29.66it/s]"
     ]
    },
    {
     "name": "stdout",
     "output_type": "stream",
     "text": [
      "6244.txt\n",
      "6245.txt\n",
      "6246.txt\n",
      "6247.txt\n",
      "6248.txt\n",
      "6249.txt\n",
      "6250.txt\n"
     ]
    },
    {
     "name": "stderr",
     "output_type": "stream",
     "text": [
      " 52%|█████▏    | 5533/10742 [03:20<02:53, 30.01it/s]"
     ]
    },
    {
     "name": "stdout",
     "output_type": "stream",
     "text": [
      "6251.txt\n",
      "6252.txt\n",
      "6253.txt\n",
      "6254.txt\n",
      "6255.txt\n",
      "6256.txt\n",
      "6257.txt\n"
     ]
    },
    {
     "name": "stderr",
     "output_type": "stream",
     "text": [
      " 52%|█████▏    | 5539/10742 [03:20<03:03, 28.30it/s]"
     ]
    },
    {
     "name": "stdout",
     "output_type": "stream",
     "text": [
      "6258.txt\n",
      "6259.txt\n",
      "6260.txt\n",
      "6261.txt\n",
      "6262.txt\n"
     ]
    },
    {
     "name": "stderr",
     "output_type": "stream",
     "text": [
      "\r",
      " 52%|█████▏    | 5542/10742 [03:20<03:19, 26.10it/s]"
     ]
    },
    {
     "name": "stdout",
     "output_type": "stream",
     "text": [
      "6263.txt\n",
      "6264.txt\n",
      "6265.txt\n",
      "6266.txt\n",
      "6267.txt\n"
     ]
    },
    {
     "name": "stderr",
     "output_type": "stream",
     "text": [
      " 52%|█████▏    | 5548/10742 [03:20<03:26, 25.13it/s]"
     ]
    },
    {
     "name": "stdout",
     "output_type": "stream",
     "text": [
      "6268.txt\n",
      "6269.txt\n",
      "6270.txt\n",
      "6271.txt\n",
      "6272.txt\n"
     ]
    },
    {
     "name": "stderr",
     "output_type": "stream",
     "text": [
      " 52%|█████▏    | 5554/10742 [03:20<03:35, 24.12it/s]"
     ]
    },
    {
     "name": "stdout",
     "output_type": "stream",
     "text": [
      "6273.txt\n",
      "6274.txt\n",
      "6275.txt\n",
      "6276.txt\n",
      "6277.txt\n"
     ]
    },
    {
     "name": "stderr",
     "output_type": "stream",
     "text": [
      " 52%|█████▏    | 5561/10742 [03:21<03:16, 26.37it/s]"
     ]
    },
    {
     "name": "stdout",
     "output_type": "stream",
     "text": [
      "6278.txt\n",
      "6279.txt\n",
      "6280.txt\n",
      "6281.txt\n",
      "6282.txt\n",
      "6283.txt\n"
     ]
    },
    {
     "name": "stderr",
     "output_type": "stream",
     "text": [
      "\r",
      " 52%|█████▏    | 5564/10742 [03:21<03:10, 27.17it/s]"
     ]
    },
    {
     "name": "stdout",
     "output_type": "stream",
     "text": [
      "6284.txt\n",
      "6285.txt\n",
      "6286.txt\n",
      "6287.txt\n",
      "6288.txt\n",
      "6289.txt\n"
     ]
    },
    {
     "name": "stderr",
     "output_type": "stream",
     "text": [
      " 52%|█████▏    | 5570/10742 [03:21<03:05, 27.85it/s]"
     ]
    },
    {
     "name": "stdout",
     "output_type": "stream",
     "text": [
      "6290.txt\n",
      "6291.txt\n",
      "6292.txt\n",
      "6293.txt\n",
      "6294.txt\n",
      "6295.txt\n"
     ]
    },
    {
     "name": "stderr",
     "output_type": "stream",
     "text": [
      " 52%|█████▏    | 5577/10742 [03:21<02:59, 28.80it/s]"
     ]
    },
    {
     "name": "stdout",
     "output_type": "stream",
     "text": [
      "6296.txt\n",
      "6297.txt\n",
      "6298.txt\n",
      "6299.txt\n",
      "6300.txt\n",
      "6301.txt\n",
      "6302.txt\n"
     ]
    },
    {
     "name": "stderr",
     "output_type": "stream",
     "text": [
      " 52%|█████▏    | 5583/10742 [03:21<03:04, 28.01it/s]"
     ]
    },
    {
     "name": "stdout",
     "output_type": "stream",
     "text": [
      "6303.txt\n",
      "6304.txt\n",
      "6305.txt\n",
      "6306.txt\n",
      "6307.txt\n",
      "6308.txt\n"
     ]
    },
    {
     "name": "stderr",
     "output_type": "stream",
     "text": [
      " 52%|█████▏    | 5589/10742 [03:22<03:00, 28.61it/s]"
     ]
    },
    {
     "name": "stdout",
     "output_type": "stream",
     "text": [
      "6309.txt\n",
      "6310.txt\n",
      "6311.txt\n",
      "6312.txt\n",
      "6313.txt\n",
      "6314.txt\n",
      "6315.txt\n"
     ]
    },
    {
     "name": "stderr",
     "output_type": "stream",
     "text": [
      " 52%|█████▏    | 5596/10742 [03:22<02:54, 29.49it/s]"
     ]
    },
    {
     "name": "stdout",
     "output_type": "stream",
     "text": [
      "6316.txt\n",
      "6317.txt\n",
      "6318.txt\n",
      "6319.txt\n",
      "6320.txt\n",
      "6321.txt\n"
     ]
    },
    {
     "name": "stderr",
     "output_type": "stream",
     "text": [
      " 52%|█████▏    | 5603/10742 [03:22<02:53, 29.54it/s]"
     ]
    },
    {
     "name": "stdout",
     "output_type": "stream",
     "text": [
      "6322.txt\n",
      "6323.txt\n",
      "6324.txt\n",
      "6325.txt\n",
      "6326.txt\n",
      "6327.txt\n",
      "6328.txt\n"
     ]
    },
    {
     "name": "stderr",
     "output_type": "stream",
     "text": [
      " 52%|█████▏    | 5611/10742 [03:22<02:51, 29.89it/s]"
     ]
    },
    {
     "name": "stdout",
     "output_type": "stream",
     "text": [
      "6329.txt\n",
      "6330.txt\n",
      "6331.txt\n",
      "6332.txt\n",
      "6333.txt\n",
      "6334.txt\n",
      "6335.txt\n"
     ]
    },
    {
     "name": "stderr",
     "output_type": "stream",
     "text": [
      " 52%|█████▏    | 5617/10742 [03:23<02:57, 28.94it/s]"
     ]
    },
    {
     "name": "stdout",
     "output_type": "stream",
     "text": [
      "6336.txt\n",
      "6337.txt\n",
      "6338.txt\n",
      "6339.txt\n",
      "6340.txt\n",
      "6341.txt\n"
     ]
    },
    {
     "name": "stderr",
     "output_type": "stream",
     "text": [
      " 52%|█████▏    | 5623/10742 [03:23<03:18, 25.74it/s]"
     ]
    },
    {
     "name": "stdout",
     "output_type": "stream",
     "text": [
      "6342.txt\n",
      "6343.txt\n",
      "6344.txt\n",
      "6345.txt\n",
      "6346.txt\n"
     ]
    },
    {
     "name": "stderr",
     "output_type": "stream",
     "text": [
      "\r",
      " 52%|█████▏    | 5626/10742 [03:23<03:34, 23.85it/s]"
     ]
    },
    {
     "name": "stdout",
     "output_type": "stream",
     "text": [
      "6347.txt\n",
      "6348.txt\n",
      "6349.txt\n",
      "6350.txt\n",
      "6351.txt\n"
     ]
    },
    {
     "name": "stderr",
     "output_type": "stream",
     "text": [
      " 52%|█████▏    | 5632/10742 [03:23<03:42, 23.02it/s]"
     ]
    },
    {
     "name": "stdout",
     "output_type": "stream",
     "text": [
      "6352.txt\n",
      "6353.txt\n",
      "6354.txt\n",
      "6355.txt\n",
      "6356.txt\n"
     ]
    },
    {
     "name": "stderr",
     "output_type": "stream",
     "text": [
      " 52%|█████▏    | 5638/10742 [03:23<03:33, 23.89it/s]"
     ]
    },
    {
     "name": "stdout",
     "output_type": "stream",
     "text": [
      "6357.txt\n",
      "6358.txt\n",
      "6359.txt\n",
      "6360.txt\n",
      "6361.txt\n",
      "6362.txt\n"
     ]
    },
    {
     "name": "stderr",
     "output_type": "stream",
     "text": [
      " 53%|█████▎    | 5645/10742 [03:24<03:08, 26.99it/s]"
     ]
    },
    {
     "name": "stdout",
     "output_type": "stream",
     "text": [
      "6363.txt\n",
      "6364.txt\n",
      "6365.txt\n",
      "6366.txt\n",
      "6367.txt\n",
      "6368.txt\n",
      "6369.txt\n"
     ]
    },
    {
     "name": "stderr",
     "output_type": "stream",
     "text": [
      " 53%|█████▎    | 5651/10742 [03:24<03:01, 28.12it/s]"
     ]
    },
    {
     "name": "stdout",
     "output_type": "stream",
     "text": [
      "6370.txt\n",
      "6371.txt\n",
      "6372.txt\n",
      "6373.txt\n",
      "6374.txt\n",
      "6375.txt\n",
      "6376.txt\n"
     ]
    },
    {
     "name": "stderr",
     "output_type": "stream",
     "text": [
      " 53%|█████▎    | 5658/10742 [03:24<02:53, 29.28it/s]"
     ]
    },
    {
     "name": "stdout",
     "output_type": "stream",
     "text": [
      "6377.txt\n",
      "6378.txt\n",
      "6379.txt\n",
      "6380.txt\n",
      "6381.txt\n",
      "6382.txt\n"
     ]
    },
    {
     "name": "stderr",
     "output_type": "stream",
     "text": [
      " 53%|█████▎    | 5664/10742 [03:24<02:59, 28.34it/s]"
     ]
    },
    {
     "name": "stdout",
     "output_type": "stream",
     "text": [
      "6383.txt\n",
      "6384.txt\n",
      "6385.txt\n",
      "6386.txt\n",
      "6387.txt\n",
      "6388.txt\n"
     ]
    },
    {
     "name": "stderr",
     "output_type": "stream",
     "text": [
      " 53%|█████▎    | 5671/10742 [03:25<02:52, 29.43it/s]"
     ]
    },
    {
     "name": "stdout",
     "output_type": "stream",
     "text": [
      "6389.txt\n",
      "6390.txt\n",
      "6391.txt\n",
      "6392.txt\n",
      "6393.txt\n",
      "6394.txt\n",
      "6395.txt\n"
     ]
    },
    {
     "name": "stderr",
     "output_type": "stream",
     "text": [
      " 53%|█████▎    | 5679/10742 [03:25<02:47, 30.20it/s]"
     ]
    },
    {
     "name": "stdout",
     "output_type": "stream",
     "text": [
      "6396.txt\n",
      "6397.txt\n",
      "6398.txt\n",
      "6399.txt\n",
      "6400.txt\n",
      "6401.txt\n"
     ]
    },
    {
     "name": "stderr",
     "output_type": "stream",
     "text": [
      "\r",
      " 53%|█████▎    | 5683/10742 [03:25<02:46, 30.33it/s]"
     ]
    },
    {
     "name": "stdout",
     "output_type": "stream",
     "text": [
      "6402.txt\n",
      "6403.txt\n",
      "6404.txt\n",
      "6405.txt\n",
      "6406.txt\n",
      "6407.txt\n",
      "6408.txt\n"
     ]
    },
    {
     "name": "stderr",
     "output_type": "stream",
     "text": [
      " 53%|█████▎    | 5691/10742 [03:25<02:44, 30.65it/s]"
     ]
    },
    {
     "name": "stdout",
     "output_type": "stream",
     "text": [
      "6409.txt\n",
      "6410.txt\n",
      "6411.txt\n",
      "6412.txt\n",
      "6413.txt\n",
      "6414.txt\n",
      "6415.txt\n"
     ]
    },
    {
     "name": "stderr",
     "output_type": "stream",
     "text": [
      " 53%|█████▎    | 5699/10742 [03:26<02:47, 30.18it/s]"
     ]
    },
    {
     "name": "stdout",
     "output_type": "stream",
     "text": [
      "6416.txt\n",
      "6417.txt\n",
      "6418.txt\n",
      "6419.txt\n",
      "6420.txt\n",
      "6421.txt\n"
     ]
    },
    {
     "name": "stderr",
     "output_type": "stream",
     "text": [
      "\r",
      " 53%|█████▎    | 5703/10742 [03:26<03:02, 27.66it/s]"
     ]
    },
    {
     "name": "stdout",
     "output_type": "stream",
     "text": [
      "6422.txt\n",
      "6423.txt\n",
      "6424.txt\n",
      "6425.txt\n",
      "6426.txt\n"
     ]
    },
    {
     "name": "stderr",
     "output_type": "stream",
     "text": [
      " 53%|█████▎    | 5709/10742 [03:26<03:15, 25.73it/s]"
     ]
    },
    {
     "name": "stdout",
     "output_type": "stream",
     "text": [
      "6427.txt\n",
      "6428.txt\n",
      "6429.txt\n",
      "6430.txt\n",
      "6431.txt\n"
     ]
    },
    {
     "name": "stderr",
     "output_type": "stream",
     "text": [
      "\r",
      " 53%|█████▎    | 5712/10742 [03:26<03:20, 25.09it/s]"
     ]
    },
    {
     "name": "stdout",
     "output_type": "stream",
     "text": [
      "6432.txt\n",
      "6433.txt\n",
      "6434.txt\n",
      "6435.txt\n",
      "6436.txt\n"
     ]
    },
    {
     "name": "stderr",
     "output_type": "stream",
     "text": [
      " 53%|█████▎    | 5718/10742 [03:26<03:25, 24.45it/s]"
     ]
    },
    {
     "name": "stdout",
     "output_type": "stream",
     "text": [
      "6437.txt\n",
      "6438.txt\n",
      "6439.txt\n",
      "6440.txt\n",
      "6441.txt\n",
      "6442.txt\n"
     ]
    },
    {
     "name": "stderr",
     "output_type": "stream",
     "text": [
      " 53%|█████▎    | 5725/10742 [03:27<03:04, 27.21it/s]"
     ]
    },
    {
     "name": "stdout",
     "output_type": "stream",
     "text": [
      "6443.txt\n",
      "6444.txt\n",
      "6445.txt\n",
      "6446.txt\n",
      "6447.txt\n",
      "6448.txt\n",
      "6449.txt\n"
     ]
    },
    {
     "name": "stderr",
     "output_type": "stream",
     "text": [
      " 53%|█████▎    | 5731/10742 [03:27<03:01, 27.66it/s]"
     ]
    },
    {
     "name": "stdout",
     "output_type": "stream",
     "text": [
      "6450.txt\n",
      "6451.txt\n",
      "6452.txt\n",
      "6453.txt\n",
      "6454.txt\n",
      "6455.txt\n"
     ]
    },
    {
     "name": "stderr",
     "output_type": "stream",
     "text": [
      " 53%|█████▎    | 5738/10742 [03:27<02:52, 28.97it/s]"
     ]
    },
    {
     "name": "stdout",
     "output_type": "stream",
     "text": [
      "6456.txt\n",
      "6457.txt\n",
      "6458.txt\n",
      "6459.txt\n",
      "6460.txt\n",
      "6461.txt\n",
      "6462.txt\n"
     ]
    },
    {
     "name": "stderr",
     "output_type": "stream",
     "text": [
      " 53%|█████▎    | 5745/10742 [03:27<02:46, 30.02it/s]"
     ]
    },
    {
     "name": "stdout",
     "output_type": "stream",
     "text": [
      "6463.txt\n",
      "6464.txt\n",
      "6465.txt\n",
      "6466.txt\n",
      "6467.txt\n",
      "6468.txt\n",
      "6469.txt\n"
     ]
    },
    {
     "name": "stderr",
     "output_type": "stream",
     "text": [
      " 54%|█████▎    | 5751/10742 [03:27<02:49, 29.37it/s]"
     ]
    },
    {
     "name": "stdout",
     "output_type": "stream",
     "text": [
      "6470.txt\n",
      "6471.txt\n",
      "6472.txt\n",
      "6473.txt\n",
      "6474.txt\n",
      "6475.txt\n"
     ]
    },
    {
     "name": "stderr",
     "output_type": "stream",
     "text": [
      " 54%|█████▎    | 5758/10742 [03:28<02:45, 30.12it/s]"
     ]
    },
    {
     "name": "stdout",
     "output_type": "stream",
     "text": [
      "6476.txt\n",
      "6477.txt\n",
      "6478.txt\n",
      "6479.txt\n",
      "6480.txt\n",
      "6481.txt\n",
      "6482.txt\n"
     ]
    },
    {
     "name": "stderr",
     "output_type": "stream",
     "text": [
      " 54%|█████▎    | 5766/10742 [03:28<02:44, 30.30it/s]"
     ]
    },
    {
     "name": "stdout",
     "output_type": "stream",
     "text": [
      "6483.txt\n",
      "6484.txt\n",
      "6485.txt\n",
      "6486.txt\n",
      "6487.txt\n",
      "6488.txt\n"
     ]
    },
    {
     "name": "stderr",
     "output_type": "stream",
     "text": [
      "\r",
      " 54%|█████▎    | 5770/10742 [03:28<02:55, 28.36it/s]"
     ]
    },
    {
     "name": "stdout",
     "output_type": "stream",
     "text": [
      "6489.txt\n",
      "6490.txt\n",
      "6491.txt\n",
      "6492.txt\n",
      "6493.txt\n",
      "6494.txt\n"
     ]
    },
    {
     "name": "stderr",
     "output_type": "stream",
     "text": [
      " 54%|█████▍    | 5776/10742 [03:28<02:54, 28.45it/s]"
     ]
    },
    {
     "name": "stdout",
     "output_type": "stream",
     "text": [
      "6495.txt\n",
      "6496.txt\n",
      "6497.txt\n",
      "6498.txt\n",
      "6499.txt\n",
      "6500.txt\n"
     ]
    },
    {
     "name": "stderr",
     "output_type": "stream",
     "text": [
      " 54%|█████▍    | 5782/10742 [03:29<03:18, 24.98it/s]"
     ]
    },
    {
     "name": "stdout",
     "output_type": "stream",
     "text": [
      "6501.txt\n",
      "6502.txt\n",
      "6503.txt\n",
      "6504.txt\n",
      "6505.txt\n"
     ]
    },
    {
     "name": "stderr",
     "output_type": "stream",
     "text": [
      "\r",
      " 54%|█████▍    | 5785/10742 [03:29<03:34, 23.08it/s]"
     ]
    },
    {
     "name": "stdout",
     "output_type": "stream",
     "text": [
      "6506.txt\n",
      "6507.txt\n",
      "6508.txt\n",
      "6509.txt\n",
      "6510.txt\n"
     ]
    },
    {
     "name": "stderr",
     "output_type": "stream",
     "text": [
      " 54%|█████▍    | 5791/10742 [03:29<03:48, 21.70it/s]"
     ]
    },
    {
     "name": "stdout",
     "output_type": "stream",
     "text": [
      "6511.txt\n",
      "6512.txt\n",
      "6513.txt\n",
      "6514.txt\n"
     ]
    },
    {
     "name": "stderr",
     "output_type": "stream",
     "text": [
      " 54%|█████▍    | 5797/10742 [03:29<03:39, 22.55it/s]"
     ]
    },
    {
     "name": "stdout",
     "output_type": "stream",
     "text": [
      "6515.txt\n",
      "6516.txt\n",
      "6517.txt\n",
      "6518.txt\n",
      "6519.txt\n"
     ]
    },
    {
     "name": "stderr",
     "output_type": "stream",
     "text": [
      "\r",
      " 54%|█████▍    | 5800/10742 [03:29<03:38, 22.62it/s]"
     ]
    },
    {
     "name": "stdout",
     "output_type": "stream",
     "text": [
      "6520.txt\n",
      "6521.txt\n",
      "6522.txt\n",
      "6523.txt\n",
      "6524.txt\n"
     ]
    },
    {
     "name": "stderr",
     "output_type": "stream",
     "text": [
      " 54%|█████▍    | 5806/10742 [03:30<03:23, 24.29it/s]"
     ]
    },
    {
     "name": "stdout",
     "output_type": "stream",
     "text": [
      "6525.txt\n",
      "6526.txt\n",
      "6527.txt\n",
      "6528.txt\n",
      "6529.txt\n",
      "6530.txt\n"
     ]
    },
    {
     "name": "stderr",
     "output_type": "stream",
     "text": [
      " 54%|█████▍    | 5814/10742 [03:30<02:53, 28.32it/s]"
     ]
    },
    {
     "name": "stdout",
     "output_type": "stream",
     "text": [
      "6531.txt\n",
      "6532.txt\n",
      "6533.txt\n",
      "6534.txt\n",
      "6535.txt\n",
      "6536.txt\n",
      "6537.txt\n"
     ]
    },
    {
     "name": "stderr",
     "output_type": "stream",
     "text": [
      " 54%|█████▍    | 5821/10742 [03:30<02:45, 29.79it/s]"
     ]
    },
    {
     "name": "stdout",
     "output_type": "stream",
     "text": [
      "6538.txt\n",
      "6539.txt\n",
      "6540.txt\n",
      "6541.txt\n",
      "6542.txt\n",
      "6543.txt\n"
     ]
    },
    {
     "name": "stderr",
     "output_type": "stream",
     "text": [
      "\r",
      " 54%|█████▍    | 5825/10742 [03:30<02:41, 30.43it/s]"
     ]
    },
    {
     "name": "stdout",
     "output_type": "stream",
     "text": [
      "6544.txt\n",
      "6545.txt\n",
      "6546.txt\n",
      "6547.txt\n",
      "6548.txt\n",
      "6549.txt\n",
      "6550.txt\n"
     ]
    },
    {
     "name": "stderr",
     "output_type": "stream",
     "text": [
      " 54%|█████▍    | 5833/10742 [03:31<02:44, 29.87it/s]"
     ]
    },
    {
     "name": "stdout",
     "output_type": "stream",
     "text": [
      "6551.txt\n",
      "6552.txt\n",
      "6553.txt\n",
      "6554.txt\n",
      "6555.txt\n",
      "6556.txt\n",
      "6557.txt\n"
     ]
    },
    {
     "name": "stderr",
     "output_type": "stream",
     "text": [
      " 54%|█████▍    | 5841/10742 [03:31<02:41, 30.41it/s]"
     ]
    },
    {
     "name": "stdout",
     "output_type": "stream",
     "text": [
      "6558.txt\n",
      "6559.txt\n",
      "6560.txt\n",
      "6561.txt\n",
      "6562.txt\n",
      "6563.txt\n"
     ]
    },
    {
     "name": "stderr",
     "output_type": "stream",
     "text": [
      "\r",
      " 54%|█████▍    | 5845/10742 [03:31<02:40, 30.50it/s]"
     ]
    },
    {
     "name": "stdout",
     "output_type": "stream",
     "text": [
      "6564.txt\n",
      "6565.txt\n",
      "6566.txt\n",
      "6567.txt\n",
      "6568.txt\n",
      "6569.txt\n"
     ]
    },
    {
     "name": "stderr",
     "output_type": "stream",
     "text": [
      " 54%|█████▍    | 5853/10742 [03:31<02:39, 30.70it/s]"
     ]
    },
    {
     "name": "stdout",
     "output_type": "stream",
     "text": [
      "6570.txt\n",
      "6571.txt\n",
      "6572.txt\n",
      "6573.txt\n",
      "6574.txt\n",
      "6575.txt\n"
     ]
    },
    {
     "name": "stderr",
     "output_type": "stream",
     "text": [
      "\r",
      " 55%|█████▍    | 5857/10742 [03:31<02:38, 30.89it/s]"
     ]
    },
    {
     "name": "stdout",
     "output_type": "stream",
     "text": [
      "6576.txt\n",
      "6577.txt\n",
      "6578.txt\n",
      "6579.txt\n",
      "6580.txt\n",
      "6581.txt\n",
      "6582.txt\n"
     ]
    },
    {
     "name": "stderr",
     "output_type": "stream",
     "text": [
      " 55%|█████▍    | 5864/10742 [03:32<02:49, 28.74it/s]"
     ]
    },
    {
     "name": "stdout",
     "output_type": "stream",
     "text": [
      "6583.txt\n",
      "6584.txt\n",
      "6585.txt\n",
      "6586.txt\n",
      "6587.txt\n",
      "6588.txt\n"
     ]
    },
    {
     "name": "stderr",
     "output_type": "stream",
     "text": [
      " 55%|█████▍    | 5870/10742 [03:32<03:03, 26.60it/s]"
     ]
    },
    {
     "name": "stdout",
     "output_type": "stream",
     "text": [
      "6589.txt\n",
      "6590.txt\n",
      "6591.txt\n",
      "6592.txt\n",
      "6593.txt\n"
     ]
    },
    {
     "name": "stderr",
     "output_type": "stream",
     "text": [
      " 55%|█████▍    | 5876/10742 [03:32<03:13, 25.12it/s]"
     ]
    },
    {
     "name": "stdout",
     "output_type": "stream",
     "text": [
      "6594.txt\n",
      "6595.txt\n",
      "6596.txt\n",
      "6597.txt\n",
      "6598.txt\n"
     ]
    },
    {
     "name": "stderr",
     "output_type": "stream",
     "text": [
      "\r",
      " 55%|█████▍    | 5879/10742 [03:32<03:18, 24.53it/s]"
     ]
    },
    {
     "name": "stdout",
     "output_type": "stream",
     "text": [
      "6599.txt\n",
      "6600.txt\n",
      "6601.txt\n",
      "6602.txt\n",
      "6603.txt\n"
     ]
    },
    {
     "name": "stderr",
     "output_type": "stream",
     "text": [
      " 55%|█████▍    | 5885/10742 [03:32<03:11, 25.40it/s]"
     ]
    },
    {
     "name": "stdout",
     "output_type": "stream",
     "text": [
      "6604.txt\n",
      "6605.txt\n",
      "6606.txt\n",
      "6607.txt\n",
      "6608.txt\n",
      "6609.txt\n"
     ]
    },
    {
     "name": "stderr",
     "output_type": "stream",
     "text": [
      " 55%|█████▍    | 5892/10742 [03:33<02:51, 28.28it/s]"
     ]
    },
    {
     "name": "stdout",
     "output_type": "stream",
     "text": [
      "6610.txt\n",
      "6611.txt\n",
      "6612.txt\n",
      "6613.txt\n",
      "6614.txt\n",
      "6615.txt\n",
      "6616.txt\n"
     ]
    },
    {
     "name": "stderr",
     "output_type": "stream",
     "text": [
      " 55%|█████▍    | 5900/10742 [03:33<02:45, 29.32it/s]"
     ]
    },
    {
     "name": "stdout",
     "output_type": "stream",
     "text": [
      "6617.txt\n",
      "6618.txt\n",
      "6619.txt\n",
      "6620.txt\n",
      "6621.txt\n",
      "6622.txt\n"
     ]
    },
    {
     "name": "stderr",
     "output_type": "stream",
     "text": [
      "\r",
      " 55%|█████▍    | 5904/10742 [03:33<02:42, 29.79it/s]"
     ]
    },
    {
     "name": "stdout",
     "output_type": "stream",
     "text": [
      "6623.txt\n",
      "6624.txt\n",
      "6625.txt\n",
      "6626.txt\n",
      "6627.txt\n",
      "6628.txt\n"
     ]
    },
    {
     "name": "stderr",
     "output_type": "stream",
     "text": [
      " 55%|█████▌    | 5912/10742 [03:33<02:38, 30.50it/s]"
     ]
    },
    {
     "name": "stdout",
     "output_type": "stream",
     "text": [
      "6629.txt\n",
      "6630.txt\n",
      "6631.txt\n",
      "6632.txt\n",
      "6633.txt\n",
      "6634.txt\n",
      "6635.txt\n"
     ]
    },
    {
     "name": "stderr",
     "output_type": "stream",
     "text": [
      "\r",
      " 55%|█████▌    | 5916/10742 [03:33<02:38, 30.46it/s]"
     ]
    },
    {
     "name": "stdout",
     "output_type": "stream",
     "text": [
      "6636.txt\n",
      "6637.txt\n",
      "6638.txt\n",
      "6639.txt\n",
      "6640.txt\n",
      "6641.txt\n",
      "6642.txt\n"
     ]
    },
    {
     "name": "stderr",
     "output_type": "stream",
     "text": [
      " 55%|█████▌    | 5924/10742 [03:34<02:37, 30.55it/s]"
     ]
    },
    {
     "name": "stdout",
     "output_type": "stream",
     "text": [
      "6643.txt\n",
      "6644.txt\n",
      "6645.txt\n",
      "6646.txt\n",
      "6647.txt\n",
      "6648.txt\n",
      "6649.txt\n"
     ]
    },
    {
     "name": "stderr",
     "output_type": "stream",
     "text": [
      " 55%|█████▌    | 5932/10742 [03:34<02:34, 31.18it/s]"
     ]
    },
    {
     "name": "stdout",
     "output_type": "stream",
     "text": [
      "6650.txt\n",
      "6651.txt\n",
      "6652.txt\n",
      "6653.txt\n",
      "6654.txt\n",
      "6655.txt\n",
      "6656.txt\n"
     ]
    },
    {
     "name": "stderr",
     "output_type": "stream",
     "text": [
      " 55%|█████▌    | 5940/10742 [03:34<02:36, 30.75it/s]"
     ]
    },
    {
     "name": "stdout",
     "output_type": "stream",
     "text": [
      "6657.txt\n",
      "6658.txt\n",
      "6659.txt\n",
      "6660.txt\n",
      "6661.txt\n",
      "6662.txt\n"
     ]
    },
    {
     "name": "stderr",
     "output_type": "stream",
     "text": [
      "\r",
      " 55%|█████▌    | 5944/10742 [03:34<02:38, 30.25it/s]"
     ]
    },
    {
     "name": "stdout",
     "output_type": "stream",
     "text": [
      "6663.txt\n",
      "6664.txt\n",
      "6665.txt\n",
      "6666.txt\n",
      "6667.txt\n",
      "6668.txt\n"
     ]
    },
    {
     "name": "stderr",
     "output_type": "stream",
     "text": [
      " 55%|█████▌    | 5951/10742 [03:35<02:55, 27.24it/s]"
     ]
    },
    {
     "name": "stdout",
     "output_type": "stream",
     "text": [
      "6669.txt\n",
      "6670.txt\n",
      "6671.txt\n",
      "6672.txt\n",
      "6673.txt\n"
     ]
    },
    {
     "name": "stderr",
     "output_type": "stream",
     "text": [
      "\r",
      " 55%|█████▌    | 5954/10742 [03:35<02:57, 27.01it/s]"
     ]
    },
    {
     "name": "stdout",
     "output_type": "stream",
     "text": [
      "6674.txt\n",
      "6675.txt\n",
      "6676.txt\n",
      "6677.txt\n",
      "6678.txt\n",
      "6679.txt\n"
     ]
    },
    {
     "name": "stderr",
     "output_type": "stream",
     "text": [
      " 55%|█████▌    | 5960/10742 [03:35<03:08, 25.40it/s]"
     ]
    },
    {
     "name": "stdout",
     "output_type": "stream",
     "text": [
      "6680.txt\n",
      "6681.txt\n",
      "6682.txt\n",
      "6683.txt\n",
      "6684.txt\n"
     ]
    },
    {
     "name": "stderr",
     "output_type": "stream",
     "text": [
      " 56%|█████▌    | 5967/10742 [03:35<02:58, 26.74it/s]"
     ]
    },
    {
     "name": "stdout",
     "output_type": "stream",
     "text": [
      "6685.txt\n",
      "6686.txt\n",
      "6687.txt\n",
      "6688.txt\n",
      "6689.txt\n",
      "6690.txt\n"
     ]
    },
    {
     "name": "stderr",
     "output_type": "stream",
     "text": [
      " 56%|█████▌    | 5974/10742 [03:36<02:52, 27.66it/s]"
     ]
    },
    {
     "name": "stdout",
     "output_type": "stream",
     "text": [
      "6691.txt\n",
      "6692.txt\n",
      "6693.txt\n",
      "6694.txt\n",
      "6695.txt\n",
      "6696.txt\n"
     ]
    },
    {
     "name": "stderr",
     "output_type": "stream",
     "text": [
      "\r",
      " 56%|█████▌    | 5978/10742 [03:36<02:46, 28.63it/s]"
     ]
    },
    {
     "name": "stdout",
     "output_type": "stream",
     "text": [
      "6697.txt\n",
      "6698.txt\n",
      "6699.txt\n",
      "6700.txt\n",
      "6701.txt\n",
      "6702.txt\n",
      "6703.txt\n"
     ]
    },
    {
     "name": "stderr",
     "output_type": "stream",
     "text": [
      " 56%|█████▌    | 5986/10742 [03:36<02:39, 29.85it/s]"
     ]
    },
    {
     "name": "stdout",
     "output_type": "stream",
     "text": [
      "6704.txt\n",
      "6705.txt\n",
      "6706.txt\n",
      "6707.txt\n",
      "6708.txt\n",
      "6709.txt\n",
      "6710.txt\n"
     ]
    },
    {
     "name": "stderr",
     "output_type": "stream",
     "text": [
      " 56%|█████▌    | 5993/10742 [03:36<02:37, 30.18it/s]"
     ]
    },
    {
     "name": "stdout",
     "output_type": "stream",
     "text": [
      "6711.txt\n",
      "6712.txt\n",
      "6713.txt\n",
      "6714.txt\n",
      "6715.txt\n",
      "6716.txt\n",
      "6717.txt\n"
     ]
    },
    {
     "name": "stderr",
     "output_type": "stream",
     "text": [
      " 56%|█████▌    | 6001/10742 [03:36<02:35, 30.52it/s]"
     ]
    },
    {
     "name": "stdout",
     "output_type": "stream",
     "text": [
      "6718.txt\n",
      "6719.txt\n",
      "6720.txt\n",
      "6721.txt\n",
      "6722.txt\n",
      "6723.txt\n",
      "6724.txt\n"
     ]
    },
    {
     "name": "stderr",
     "output_type": "stream",
     "text": [
      "\r",
      " 56%|█████▌    | 6005/10742 [03:37<02:34, 30.61it/s]"
     ]
    },
    {
     "name": "stdout",
     "output_type": "stream",
     "text": [
      "6725.txt\n",
      "6726.txt\n",
      "6727.txt\n",
      "6728.txt\n",
      "6729.txt\n",
      "6730.txt\n"
     ]
    },
    {
     "name": "stderr",
     "output_type": "stream",
     "text": [
      " 56%|█████▌    | 6013/10742 [03:37<02:33, 30.80it/s]"
     ]
    },
    {
     "name": "stdout",
     "output_type": "stream",
     "text": [
      "6731.txt\n",
      "6732.txt\n",
      "6733.txt\n",
      "6734.txt\n",
      "6735.txt\n",
      "6736.txt\n",
      "6737.txt\n"
     ]
    },
    {
     "name": "stderr",
     "output_type": "stream",
     "text": [
      " 56%|█████▌    | 6021/10742 [03:37<02:33, 30.79it/s]"
     ]
    },
    {
     "name": "stdout",
     "output_type": "stream",
     "text": [
      "6738.txt\n",
      "6739.txt\n",
      "6740.txt\n",
      "6741.txt\n",
      "6742.txt\n",
      "6743.txt\n"
     ]
    },
    {
     "name": "stderr",
     "output_type": "stream",
     "text": [
      "\r",
      " 56%|█████▌    | 6025/10742 [03:37<02:34, 30.45it/s]"
     ]
    },
    {
     "name": "stdout",
     "output_type": "stream",
     "text": [
      "6744.txt\n",
      "6745.txt\n",
      "6746.txt\n",
      "6747.txt\n",
      "6748.txt\n",
      "6749.txt\n",
      "6750.txt\n"
     ]
    },
    {
     "name": "stderr",
     "output_type": "stream",
     "text": [
      " 56%|█████▌    | 6032/10742 [03:37<02:46, 28.30it/s]"
     ]
    },
    {
     "name": "stdout",
     "output_type": "stream",
     "text": [
      "6751.txt\n",
      "6752.txt\n",
      "6753.txt\n",
      "6754.txt\n",
      "6755.txt\n",
      "6756.txt\n"
     ]
    },
    {
     "name": "stderr",
     "output_type": "stream",
     "text": [
      " 56%|█████▌    | 6038/10742 [03:38<02:58, 26.35it/s]"
     ]
    },
    {
     "name": "stdout",
     "output_type": "stream",
     "text": [
      "6757.txt\n",
      "6758.txt\n",
      "6759.txt\n",
      "6760.txt\n",
      "6761.txt\n",
      "6762.txt\n"
     ]
    },
    {
     "name": "stderr",
     "output_type": "stream",
     "text": [
      " 56%|█████▋    | 6044/10742 [03:38<03:14, 24.20it/s]"
     ]
    },
    {
     "name": "stdout",
     "output_type": "stream",
     "text": [
      "6763.txt\n",
      "6764.txt\n",
      "6765.txt\n",
      "6766.txt\n",
      "6767.txt\n"
     ]
    },
    {
     "name": "stderr",
     "output_type": "stream",
     "text": [
      " 56%|█████▋    | 6050/10742 [03:38<03:10, 24.61it/s]"
     ]
    },
    {
     "name": "stdout",
     "output_type": "stream",
     "text": [
      "6768.txt\n",
      "6769.txt\n",
      "6770.txt\n",
      "6771.txt\n",
      "6772.txt\n",
      "6773.txt\n"
     ]
    },
    {
     "name": "stderr",
     "output_type": "stream",
     "text": [
      "\r",
      " 56%|█████▋    | 6053/10742 [03:38<03:21, 23.22it/s]"
     ]
    },
    {
     "name": "stdout",
     "output_type": "stream",
     "text": [
      "6774.txt\n",
      "6775.txt\n",
      "6776.txt\n",
      "6777.txt\n",
      "6778.txt\n"
     ]
    },
    {
     "name": "stderr",
     "output_type": "stream",
     "text": [
      " 56%|█████▋    | 6059/10742 [03:39<03:06, 25.08it/s]"
     ]
    },
    {
     "name": "stdout",
     "output_type": "stream",
     "text": [
      "6779.txt\n",
      "6780.txt\n",
      "6781.txt\n",
      "6782.txt\n",
      "6783.txt\n",
      "6784.txt\n"
     ]
    },
    {
     "name": "stderr",
     "output_type": "stream",
     "text": [
      " 56%|█████▋    | 6066/10742 [03:39<02:52, 27.06it/s]"
     ]
    },
    {
     "name": "stdout",
     "output_type": "stream",
     "text": [
      "6785.txt\n",
      "6786.txt\n",
      "6787.txt\n",
      "6788.txt\n",
      "6789.txt\n",
      "6790.txt\n"
     ]
    },
    {
     "name": "stderr",
     "output_type": "stream",
     "text": [
      " 57%|█████▋    | 6072/10742 [03:39<03:02, 25.53it/s]"
     ]
    },
    {
     "name": "stdout",
     "output_type": "stream",
     "text": [
      "6791.txt\n",
      "6792.txt\n",
      "6793.txt\n",
      "6794.txt\n",
      "6795.txt\n"
     ]
    },
    {
     "name": "stderr",
     "output_type": "stream",
     "text": [
      " 57%|█████▋    | 6079/10742 [03:39<02:49, 27.47it/s]"
     ]
    },
    {
     "name": "stdout",
     "output_type": "stream",
     "text": [
      "6796.txt\n",
      "6797.txt\n",
      "6798.txt\n",
      "6799.txt\n",
      "6800.txt\n",
      "6801.txt\n"
     ]
    },
    {
     "name": "stderr",
     "output_type": "stream",
     "text": [
      "\r",
      " 57%|█████▋    | 6082/10742 [03:39<02:56, 26.45it/s]"
     ]
    },
    {
     "name": "stdout",
     "output_type": "stream",
     "text": [
      "6802.txt\n",
      "6803.txt\n",
      "6804.txt\n",
      "6805.txt\n",
      "6806.txt\n"
     ]
    },
    {
     "name": "stderr",
     "output_type": "stream",
     "text": [
      " 57%|█████▋    | 6088/10742 [03:40<02:57, 26.19it/s]"
     ]
    },
    {
     "name": "stdout",
     "output_type": "stream",
     "text": [
      "6807.txt\n",
      "6808.txt\n",
      "6809.txt\n",
      "6810.txt\n",
      "6811.txt\n",
      "6812.txt\n",
      "6813.txt\n"
     ]
    },
    {
     "name": "stderr",
     "output_type": "stream",
     "text": [
      " 57%|█████▋    | 6095/10742 [03:40<02:53, 26.81it/s]"
     ]
    },
    {
     "name": "stdout",
     "output_type": "stream",
     "text": [
      "6814.txt\n",
      "6815.txt\n",
      "6816.txt\n",
      "6817.txt\n",
      "6818.txt\n",
      "6819.txt\n"
     ]
    },
    {
     "name": "stderr",
     "output_type": "stream",
     "text": [
      " 57%|█████▋    | 6101/10742 [03:40<02:54, 26.61it/s]"
     ]
    },
    {
     "name": "stdout",
     "output_type": "stream",
     "text": [
      "6820.txt\n",
      "6821.txt\n",
      "6822.txt\n",
      "6823.txt\n",
      "6824.txt\n",
      "6825.txt\n"
     ]
    },
    {
     "name": "stderr",
     "output_type": "stream",
     "text": [
      " 57%|█████▋    | 6107/10742 [03:40<03:04, 25.10it/s]"
     ]
    },
    {
     "name": "stdout",
     "output_type": "stream",
     "text": [
      "6826.txt\n",
      "6827.txt\n",
      "6828.txt\n",
      "6829.txt\n",
      "6830.txt\n"
     ]
    },
    {
     "name": "stderr",
     "output_type": "stream",
     "text": [
      "\r",
      " 57%|█████▋    | 6110/10742 [03:41<03:27, 22.34it/s]"
     ]
    },
    {
     "name": "stdout",
     "output_type": "stream",
     "text": [
      "6831.txt\n",
      "6832.txt\n",
      "6833.txt\n",
      "6834.txt\n",
      "6835.txt\n"
     ]
    },
    {
     "name": "stderr",
     "output_type": "stream",
     "text": [
      " 57%|█████▋    | 6116/10742 [03:41<03:14, 23.78it/s]"
     ]
    },
    {
     "name": "stdout",
     "output_type": "stream",
     "text": [
      "6836.txt\n",
      "6837.txt\n",
      "6838.txt\n",
      "6839.txt\n",
      "6840.txt\n"
     ]
    },
    {
     "name": "stderr",
     "output_type": "stream",
     "text": [
      " 57%|█████▋    | 6122/10742 [03:41<03:14, 23.80it/s]"
     ]
    },
    {
     "name": "stdout",
     "output_type": "stream",
     "text": [
      "6841.txt\n",
      "6842.txt\n",
      "6843.txt\n",
      "6844.txt\n",
      "6845.txt\n",
      "6846.txt\n"
     ]
    },
    {
     "name": "stderr",
     "output_type": "stream",
     "text": [
      " 57%|█████▋    | 6129/10742 [03:41<03:00, 25.49it/s]"
     ]
    },
    {
     "name": "stdout",
     "output_type": "stream",
     "text": [
      "6847.txt\n",
      "6848.txt\n",
      "6849.txt\n",
      "6850.txt\n",
      "6851.txt\n",
      "6852.txt\n"
     ]
    },
    {
     "name": "stderr",
     "output_type": "stream",
     "text": [
      " 57%|█████▋    | 6136/10742 [03:42<02:46, 27.70it/s]"
     ]
    },
    {
     "name": "stdout",
     "output_type": "stream",
     "text": [
      "6853.txt\n",
      "6854.txt\n",
      "6855.txt\n",
      "6856.txt\n",
      "6857.txt\n",
      "6858.txt\n"
     ]
    },
    {
     "name": "stderr",
     "output_type": "stream",
     "text": [
      "\r",
      " 57%|█████▋    | 6139/10742 [03:42<02:44, 28.02it/s]"
     ]
    },
    {
     "name": "stdout",
     "output_type": "stream",
     "text": [
      "6859.txt\n",
      "6860.txt\n",
      "6861.txt\n",
      "6862.txt\n",
      "6863.txt\n",
      "6864.txt\n"
     ]
    },
    {
     "name": "stderr",
     "output_type": "stream",
     "text": [
      " 57%|█████▋    | 6145/10742 [03:42<02:47, 27.45it/s]"
     ]
    },
    {
     "name": "stdout",
     "output_type": "stream",
     "text": [
      "6865.txt\n",
      "6866.txt\n",
      "6867.txt\n",
      "6868.txt\n",
      "6869.txt\n",
      "6870.txt\n"
     ]
    },
    {
     "name": "stderr",
     "output_type": "stream",
     "text": [
      " 57%|█████▋    | 6151/10742 [03:42<02:52, 26.56it/s]"
     ]
    },
    {
     "name": "stdout",
     "output_type": "stream",
     "text": [
      "6871.txt\n",
      "6872.txt\n",
      "6873.txt\n",
      "6874.txt\n",
      "6875.txt\n",
      "6876.txt\n"
     ]
    },
    {
     "name": "stderr",
     "output_type": "stream",
     "text": [
      " 57%|█████▋    | 6158/10742 [03:42<02:54, 26.34it/s]"
     ]
    },
    {
     "name": "stdout",
     "output_type": "stream",
     "text": [
      "6877.txt\n",
      "6878.txt\n",
      "6879.txt\n",
      "6880.txt\n",
      "6881.txt\n"
     ]
    },
    {
     "name": "stderr",
     "output_type": "stream",
     "text": [
      " 57%|█████▋    | 6165/10742 [03:43<02:40, 28.49it/s]"
     ]
    },
    {
     "name": "stdout",
     "output_type": "stream",
     "text": [
      "6882.txt\n",
      "6883.txt\n",
      "6884.txt\n",
      "6885.txt\n",
      "6886.txt\n",
      "6887.txt\n"
     ]
    },
    {
     "name": "stderr",
     "output_type": "stream",
     "text": [
      "\r",
      " 57%|█████▋    | 6168/10742 [03:43<02:43, 27.99it/s]"
     ]
    },
    {
     "name": "stdout",
     "output_type": "stream",
     "text": [
      "6888.txt\n",
      "6889.txt\n",
      "6890.txt\n",
      "6891.txt\n",
      "6892.txt\n",
      "6893.txt\n"
     ]
    },
    {
     "name": "stderr",
     "output_type": "stream",
     "text": [
      " 57%|█████▋    | 6174/10742 [03:43<02:44, 27.83it/s]"
     ]
    },
    {
     "name": "stdout",
     "output_type": "stream",
     "text": [
      "6894.txt\n",
      "6895.txt\n",
      "6896.txt\n",
      "6897.txt\n",
      "6898.txt\n",
      "6899.txt\n"
     ]
    },
    {
     "name": "stderr",
     "output_type": "stream",
     "text": [
      " 58%|█████▊    | 6180/10742 [03:43<02:51, 26.57it/s]"
     ]
    },
    {
     "name": "stdout",
     "output_type": "stream",
     "text": [
      "6900.txt\n",
      "6901.txt\n",
      "6902.txt\n",
      "6903.txt\n",
      "6904.txt\n"
     ]
    },
    {
     "name": "stderr",
     "output_type": "stream",
     "text": [
      " 58%|█████▊    | 6186/10742 [03:43<03:01, 25.15it/s]"
     ]
    },
    {
     "name": "stdout",
     "output_type": "stream",
     "text": [
      "6905.txt\n",
      "6906.txt\n",
      "6907.txt\n",
      "6908.txt\n",
      "6909.txt\n"
     ]
    },
    {
     "name": "stderr",
     "output_type": "stream",
     "text": [
      " 58%|█████▊    | 6192/10742 [03:44<03:04, 24.69it/s]"
     ]
    },
    {
     "name": "stdout",
     "output_type": "stream",
     "text": [
      "6910.txt\n",
      "6911.txt\n",
      "6912.txt\n",
      "6913.txt\n",
      "6914.txt\n"
     ]
    },
    {
     "name": "stderr",
     "output_type": "stream",
     "text": [
      "\r",
      " 58%|█████▊    | 6195/10742 [03:44<03:02, 24.86it/s]"
     ]
    },
    {
     "name": "stdout",
     "output_type": "stream",
     "text": [
      "6915.txt\n",
      "6916.txt\n",
      "6917.txt\n",
      "6918.txt\n",
      "6919.txt\n",
      "6920.txt\n"
     ]
    },
    {
     "name": "stderr",
     "output_type": "stream",
     "text": [
      " 58%|█████▊    | 6202/10742 [03:44<02:56, 25.79it/s]"
     ]
    },
    {
     "name": "stdout",
     "output_type": "stream",
     "text": [
      "6921.txt\n",
      "6922.txt\n",
      "6923.txt\n",
      "6924.txt\n",
      "6925.txt\n",
      "6926.txt\n"
     ]
    },
    {
     "name": "stderr",
     "output_type": "stream",
     "text": [
      " 58%|█████▊    | 6208/10742 [03:44<02:51, 26.41it/s]"
     ]
    },
    {
     "name": "stdout",
     "output_type": "stream",
     "text": [
      "6927.txt\n",
      "6928.txt\n",
      "6929.txt\n",
      "6930.txt\n",
      "6931.txt\n",
      "6932.txt\n"
     ]
    },
    {
     "name": "stderr",
     "output_type": "stream",
     "text": [
      " 58%|█████▊    | 6214/10742 [03:45<02:55, 25.85it/s]"
     ]
    },
    {
     "name": "stdout",
     "output_type": "stream",
     "text": [
      "6933.txt\n",
      "6934.txt\n",
      "6935.txt\n",
      "6936.txt\n",
      "6937.txt\n",
      "6938.txt\n"
     ]
    },
    {
     "name": "stderr",
     "output_type": "stream",
     "text": [
      " 58%|█████▊    | 6220/10742 [03:45<02:54, 25.97it/s]"
     ]
    },
    {
     "name": "stdout",
     "output_type": "stream",
     "text": [
      "6939.txt\n",
      "6940.txt\n",
      "6941.txt\n",
      "6942.txt\n",
      "6943.txt\n",
      "6944.txt\n"
     ]
    },
    {
     "name": "stderr",
     "output_type": "stream",
     "text": [
      " 58%|█████▊    | 6226/10742 [03:45<02:48, 26.80it/s]"
     ]
    },
    {
     "name": "stdout",
     "output_type": "stream",
     "text": [
      "6945.txt\n",
      "6946.txt\n",
      "6947.txt\n",
      "6948.txt\n",
      "6949.txt\n",
      "6950.txt\n"
     ]
    },
    {
     "name": "stderr",
     "output_type": "stream",
     "text": [
      " 58%|█████▊    | 6232/10742 [03:45<02:47, 26.97it/s]"
     ]
    },
    {
     "name": "stdout",
     "output_type": "stream",
     "text": [
      "6951.txt\n",
      "6952.txt\n",
      "6953.txt\n",
      "6954.txt\n",
      "6955.txt\n",
      "6956.txt\n"
     ]
    },
    {
     "name": "stderr",
     "output_type": "stream",
     "text": [
      " 58%|█████▊    | 6238/10742 [03:45<02:44, 27.30it/s]"
     ]
    },
    {
     "name": "stdout",
     "output_type": "stream",
     "text": [
      "6957.txt\n",
      "6958.txt\n",
      "6959.txt\n",
      "6960.txt\n",
      "6961.txt\n",
      "6962.txt\n"
     ]
    },
    {
     "name": "stderr",
     "output_type": "stream",
     "text": [
      " 58%|█████▊    | 6245/10742 [03:46<02:40, 27.99it/s]"
     ]
    },
    {
     "name": "stdout",
     "output_type": "stream",
     "text": [
      "6963.txt\n",
      "6964.txt\n",
      "6965.txt\n",
      "6966.txt\n",
      "6967.txt\n",
      "6968.txt\n",
      "6969.txt\n"
     ]
    },
    {
     "name": "stderr",
     "output_type": "stream",
     "text": [
      " 58%|█████▊    | 6251/10742 [03:46<02:37, 28.49it/s]"
     ]
    },
    {
     "name": "stdout",
     "output_type": "stream",
     "text": [
      "6970.txt\n",
      "6971.txt\n",
      "6972.txt\n",
      "6973.txt\n",
      "6974.txt\n",
      "6975.txt\n"
     ]
    },
    {
     "name": "stderr",
     "output_type": "stream",
     "text": [
      " 58%|█████▊    | 6257/10742 [03:46<02:52, 26.00it/s]"
     ]
    },
    {
     "name": "stdout",
     "output_type": "stream",
     "text": [
      "6976.txt\n",
      "6977.txt\n",
      "6978.txt\n",
      "6979.txt\n",
      "6980.txt\n"
     ]
    },
    {
     "name": "stderr",
     "output_type": "stream",
     "text": [
      "\r",
      " 58%|█████▊    | 6260/10742 [03:46<03:00, 24.78it/s]"
     ]
    },
    {
     "name": "stdout",
     "output_type": "stream",
     "text": [
      "6981.txt\n",
      "6982.txt\n",
      "6983.txt\n",
      "6984.txt\n",
      "6985.txt\n"
     ]
    },
    {
     "name": "stderr",
     "output_type": "stream",
     "text": [
      " 58%|█████▊    | 6266/10742 [03:47<03:06, 23.96it/s]"
     ]
    },
    {
     "name": "stdout",
     "output_type": "stream",
     "text": [
      "6986.txt\n",
      "6987.txt\n",
      "6988.txt\n",
      "6989.txt\n",
      "6990.txt\n"
     ]
    },
    {
     "name": "stderr",
     "output_type": "stream",
     "text": [
      " 58%|█████▊    | 6272/10742 [03:47<03:05, 24.06it/s]"
     ]
    },
    {
     "name": "stdout",
     "output_type": "stream",
     "text": [
      "6991.txt\n",
      "6992.txt\n",
      "6993.txt\n",
      "6994.txt\n",
      "6995.txt\n",
      "6996.txt\n"
     ]
    },
    {
     "name": "stderr",
     "output_type": "stream",
     "text": [
      " 58%|█████▊    | 6278/10742 [03:47<02:48, 26.43it/s]"
     ]
    },
    {
     "name": "stdout",
     "output_type": "stream",
     "text": [
      "6997.txt\n",
      "6998.txt\n",
      "6999.txt\n",
      "7000.txt\n",
      "7001.txt\n",
      "7002.txt\n"
     ]
    },
    {
     "name": "stderr",
     "output_type": "stream",
     "text": [
      " 58%|█████▊    | 6284/10742 [03:47<02:41, 27.63it/s]"
     ]
    },
    {
     "name": "stdout",
     "output_type": "stream",
     "text": [
      "7003.txt\n",
      "7004.txt\n",
      "7005.txt\n",
      "7006.txt\n",
      "7007.txt\n",
      "7008.txt\n",
      "7009.txt\n"
     ]
    },
    {
     "name": "stderr",
     "output_type": "stream",
     "text": [
      " 59%|█████▊    | 6290/10742 [03:47<02:41, 27.54it/s]"
     ]
    },
    {
     "name": "stdout",
     "output_type": "stream",
     "text": [
      "7010.txt\n",
      "7011.txt\n",
      "7012.txt\n",
      "7013.txt\n",
      "7014.txt\n",
      "7015.txt\n"
     ]
    },
    {
     "name": "stderr",
     "output_type": "stream",
     "text": [
      " 59%|█████▊    | 6298/10742 [03:48<02:31, 29.36it/s]"
     ]
    },
    {
     "name": "stdout",
     "output_type": "stream",
     "text": [
      "7016.txt\n",
      "7017.txt\n",
      "7018.txt\n",
      "7019.txt\n",
      "7020.txt\n",
      "7021.txt\n",
      "7022.txt\n"
     ]
    },
    {
     "name": "stderr",
     "output_type": "stream",
     "text": [
      " 59%|█████▊    | 6305/10742 [03:48<02:26, 30.23it/s]"
     ]
    },
    {
     "name": "stdout",
     "output_type": "stream",
     "text": [
      "7023.txt\n",
      "7024.txt\n",
      "7025.txt\n",
      "7026.txt\n",
      "7027.txt\n",
      "7028.txt\n",
      "7029.txt\n"
     ]
    },
    {
     "name": "stderr",
     "output_type": "stream",
     "text": [
      " 59%|█████▉    | 6313/10742 [03:48<02:26, 30.25it/s]"
     ]
    },
    {
     "name": "stdout",
     "output_type": "stream",
     "text": [
      "7030.txt\n",
      "7031.txt\n",
      "7032.txt\n",
      "7033.txt\n",
      "7034.txt\n",
      "7035.txt\n"
     ]
    },
    {
     "name": "stderr",
     "output_type": "stream",
     "text": [
      "\r",
      " 59%|█████▉    | 6317/10742 [03:48<02:26, 30.15it/s]"
     ]
    },
    {
     "name": "stdout",
     "output_type": "stream",
     "text": [
      "7036.txt\n",
      "7037.txt\n",
      "7038.txt\n",
      "7039.txt\n",
      "7040.txt\n",
      "7041.txt\n",
      "7042.txt\n"
     ]
    },
    {
     "name": "stderr",
     "output_type": "stream",
     "text": [
      " 59%|█████▉    | 6325/10742 [03:49<02:23, 30.74it/s]"
     ]
    },
    {
     "name": "stdout",
     "output_type": "stream",
     "text": [
      "7043.txt\n",
      "7044.txt\n",
      "7045.txt\n",
      "7046.txt\n",
      "7047.txt\n",
      "7048.txt\n",
      "7049.txt\n"
     ]
    },
    {
     "name": "stderr",
     "output_type": "stream",
     "text": [
      " 59%|█████▉    | 6333/10742 [03:49<02:25, 30.33it/s]"
     ]
    },
    {
     "name": "stdout",
     "output_type": "stream",
     "text": [
      "7050.txt\n",
      "7051.txt\n",
      "7052.txt\n",
      "7053.txt\n",
      "7054.txt\n",
      "7055.txt\n"
     ]
    },
    {
     "name": "stderr",
     "output_type": "stream",
     "text": [
      "\r",
      " 59%|█████▉    | 6337/10742 [03:49<02:34, 28.45it/s]"
     ]
    },
    {
     "name": "stdout",
     "output_type": "stream",
     "text": [
      "7056.txt\n",
      "7057.txt\n",
      "7058.txt\n",
      "7059.txt\n",
      "7060.txt\n"
     ]
    },
    {
     "name": "stderr",
     "output_type": "stream",
     "text": [
      " 59%|█████▉    | 6343/10742 [03:49<02:46, 26.34it/s]"
     ]
    },
    {
     "name": "stdout",
     "output_type": "stream",
     "text": [
      "7061.txt\n",
      "7062.txt\n",
      "7063.txt\n",
      "7064.txt\n",
      "7065.txt\n"
     ]
    },
    {
     "name": "stderr",
     "output_type": "stream",
     "text": [
      "\r",
      " 59%|█████▉    | 6346/10742 [03:49<02:55, 25.10it/s]"
     ]
    },
    {
     "name": "stdout",
     "output_type": "stream",
     "text": [
      "7066.txt\n",
      "7067.txt\n",
      "7068.txt\n",
      "7069.txt\n",
      "7070.txt\n"
     ]
    },
    {
     "name": "stderr",
     "output_type": "stream",
     "text": [
      " 59%|█████▉    | 6352/10742 [03:50<03:06, 23.60it/s]"
     ]
    },
    {
     "name": "stdout",
     "output_type": "stream",
     "text": [
      "7071.txt\n",
      "7072.txt\n",
      "7073.txt\n",
      "7074.txt\n",
      "7075.txt\n"
     ]
    },
    {
     "name": "stderr",
     "output_type": "stream",
     "text": [
      " 59%|█████▉    | 6359/10742 [03:50<02:44, 26.57it/s]"
     ]
    },
    {
     "name": "stdout",
     "output_type": "stream",
     "text": [
      "7076.txt\n",
      "7077.txt\n",
      "7078.txt\n",
      "7079.txt\n",
      "7080.txt\n",
      "7081.txt\n"
     ]
    },
    {
     "name": "stderr",
     "output_type": "stream",
     "text": [
      "\r",
      " 59%|█████▉    | 6362/10742 [03:50<02:39, 27.38it/s]"
     ]
    },
    {
     "name": "stdout",
     "output_type": "stream",
     "text": [
      "7082.txt\n",
      "7083.txt\n",
      "7084.txt\n",
      "7085.txt\n",
      "7086.txt\n",
      "7087.txt\n"
     ]
    },
    {
     "name": "stderr",
     "output_type": "stream",
     "text": [
      " 59%|█████▉    | 6370/10742 [03:50<02:31, 28.91it/s]"
     ]
    },
    {
     "name": "stdout",
     "output_type": "stream",
     "text": [
      "7088.txt\n",
      "7089.txt\n",
      "7090.txt\n",
      "7091.txt\n",
      "7092.txt\n",
      "7093.txt\n"
     ]
    },
    {
     "name": "stderr",
     "output_type": "stream",
     "text": [
      " 59%|█████▉    | 6376/10742 [03:50<02:33, 28.51it/s]"
     ]
    },
    {
     "name": "stdout",
     "output_type": "stream",
     "text": [
      "7094.txt\n",
      "7095.txt\n",
      "7096.txt\n",
      "7097.txt\n",
      "7098.txt\n",
      "7099.txt\n"
     ]
    },
    {
     "name": "stderr",
     "output_type": "stream",
     "text": [
      " 59%|█████▉    | 6383/10742 [03:51<02:26, 29.69it/s]"
     ]
    },
    {
     "name": "stdout",
     "output_type": "stream",
     "text": [
      "7100.txt\n",
      "7101.txt\n",
      "7102.txt\n",
      "7103.txt\n",
      "7104.txt\n",
      "7105.txt\n",
      "7106.txt\n"
     ]
    },
    {
     "name": "stderr",
     "output_type": "stream",
     "text": [
      " 59%|█████▉    | 6390/10742 [03:51<02:24, 30.18it/s]"
     ]
    },
    {
     "name": "stdout",
     "output_type": "stream",
     "text": [
      "7107.txt\n",
      "7108.txt\n",
      "7109.txt\n",
      "7110.txt\n",
      "7111.txt\n",
      "7112.txt\n"
     ]
    },
    {
     "name": "stderr",
     "output_type": "stream",
     "text": [
      "\r",
      " 60%|█████▉    | 6394/10742 [03:51<02:25, 29.79it/s]"
     ]
    },
    {
     "name": "stdout",
     "output_type": "stream",
     "text": [
      "7113.txt\n",
      "7114.txt\n",
      "7115.txt\n",
      "7116.txt\n",
      "7117.txt\n",
      "7118.txt\n"
     ]
    },
    {
     "name": "stderr",
     "output_type": "stream",
     "text": [
      " 60%|█████▉    | 6401/10742 [03:51<02:24, 30.14it/s]"
     ]
    },
    {
     "name": "stdout",
     "output_type": "stream",
     "text": [
      "7119.txt\n",
      "7120.txt\n",
      "7121.txt\n",
      "7122.txt\n",
      "7123.txt\n",
      "7124.txt\n",
      "7125.txt\n"
     ]
    },
    {
     "name": "stderr",
     "output_type": "stream",
     "text": [
      " 60%|█████▉    | 6409/10742 [03:52<02:22, 30.44it/s]"
     ]
    },
    {
     "name": "stdout",
     "output_type": "stream",
     "text": [
      "7126.txt\n",
      "7127.txt\n",
      "7128.txt\n",
      "7129.txt\n",
      "7130.txt\n",
      "7131.txt\n"
     ]
    },
    {
     "name": "stderr",
     "output_type": "stream",
     "text": [
      "\r",
      " 60%|█████▉    | 6413/10742 [03:52<02:23, 30.14it/s]"
     ]
    },
    {
     "name": "stdout",
     "output_type": "stream",
     "text": [
      "7132.txt\n",
      "7133.txt\n",
      "7134.txt\n",
      "7135.txt\n",
      "7136.txt\n",
      "7137.txt\n"
     ]
    },
    {
     "name": "stderr",
     "output_type": "stream",
     "text": [
      " 60%|█████▉    | 6420/10742 [03:52<02:38, 27.34it/s]"
     ]
    },
    {
     "name": "stdout",
     "output_type": "stream",
     "text": [
      "7138.txt\n",
      "7139.txt\n",
      "7140.txt\n",
      "7141.txt\n",
      "7142.txt\n"
     ]
    },
    {
     "name": "stderr",
     "output_type": "stream",
     "text": [
      "\r",
      " 60%|█████▉    | 6423/10742 [03:52<02:43, 26.46it/s]"
     ]
    },
    {
     "name": "stdout",
     "output_type": "stream",
     "text": [
      "7143.txt\n",
      "7144.txt\n",
      "7145.txt\n",
      "7146.txt\n",
      "7147.txt\n"
     ]
    },
    {
     "name": "stderr",
     "output_type": "stream",
     "text": [
      " 60%|█████▉    | 6429/10742 [03:52<02:58, 24.16it/s]"
     ]
    },
    {
     "name": "stdout",
     "output_type": "stream",
     "text": [
      "7148.txt\n",
      "7149.txt\n",
      "7150.txt\n",
      "7151.txt\n",
      "7152.txt\n"
     ]
    },
    {
     "name": "stderr",
     "output_type": "stream",
     "text": [
      "\r",
      " 60%|█████▉    | 6432/10742 [03:52<03:00, 23.86it/s]"
     ]
    },
    {
     "name": "stdout",
     "output_type": "stream",
     "text": [
      "7153.txt\n",
      "7154.txt\n",
      "7155.txt\n",
      "7156.txt\n",
      "7157.txt\n"
     ]
    },
    {
     "name": "stderr",
     "output_type": "stream",
     "text": [
      " 60%|█████▉    | 6438/10742 [03:53<02:52, 24.96it/s]"
     ]
    },
    {
     "name": "stdout",
     "output_type": "stream",
     "text": [
      "7158.txt\n",
      "7159.txt\n",
      "7160.txt\n",
      "7161.txt\n",
      "7162.txt\n",
      "7163.txt\n",
      "7164.txt\n"
     ]
    },
    {
     "name": "stderr",
     "output_type": "stream",
     "text": [
      " 60%|█████▉    | 6445/10742 [03:53<02:37, 27.34it/s]"
     ]
    },
    {
     "name": "stdout",
     "output_type": "stream",
     "text": [
      "7165.txt\n",
      "7166.txt\n",
      "7167.txt\n",
      "7168.txt\n",
      "7169.txt\n",
      "7170.txt\n",
      "7171.txt\n"
     ]
    },
    {
     "name": "stderr",
     "output_type": "stream",
     "text": [
      " 60%|██████    | 6453/10742 [03:53<02:27, 29.11it/s]"
     ]
    },
    {
     "name": "stdout",
     "output_type": "stream",
     "text": [
      "7172.txt\n",
      "7173.txt\n",
      "7174.txt\n",
      "7175.txt\n",
      "7176.txt\n",
      "7177.txt\n",
      "7178.txt\n"
     ]
    },
    {
     "name": "stderr",
     "output_type": "stream",
     "text": [
      " 60%|██████    | 6460/10742 [03:53<02:31, 28.27it/s]"
     ]
    },
    {
     "name": "stdout",
     "output_type": "stream",
     "text": [
      "7179.txt\n",
      "7180.txt\n",
      "7181.txt\n",
      "7182.txt\n",
      "7183.txt\n",
      "7184.txt\n"
     ]
    },
    {
     "name": "stderr",
     "output_type": "stream",
     "text": [
      " 60%|██████    | 6467/10742 [03:54<02:25, 29.32it/s]"
     ]
    },
    {
     "name": "stdout",
     "output_type": "stream",
     "text": [
      "7185.txt\n",
      "7186.txt\n",
      "7187.txt\n",
      "7188.txt\n",
      "7189.txt\n",
      "7190.txt\n",
      "7191.txt\n"
     ]
    },
    {
     "name": "stderr",
     "output_type": "stream",
     "text": [
      " 60%|██████    | 6474/10742 [03:54<02:24, 29.56it/s]"
     ]
    },
    {
     "name": "stdout",
     "output_type": "stream",
     "text": [
      "7192.txt\n",
      "7193.txt\n",
      "7194.txt\n",
      "7195.txt\n",
      "7196.txt\n",
      "7197.txt\n",
      "7198.txt\n"
     ]
    },
    {
     "name": "stderr",
     "output_type": "stream",
     "text": [
      " 60%|██████    | 6480/10742 [03:54<02:24, 29.58it/s]"
     ]
    },
    {
     "name": "stdout",
     "output_type": "stream",
     "text": [
      "7199.txt\n",
      "7200.txt\n",
      "7201.txt\n",
      "7202.txt\n",
      "7203.txt\n",
      "7204.txt\n",
      "7205.txt\n"
     ]
    },
    {
     "name": "stderr",
     "output_type": "stream",
     "text": [
      " 60%|██████    | 6487/10742 [03:54<02:24, 29.43it/s]"
     ]
    },
    {
     "name": "stdout",
     "output_type": "stream",
     "text": [
      "7206.txt\n",
      "7207.txt\n",
      "7208.txt\n",
      "7209.txt\n",
      "7210.txt\n",
      "7211.txt\n"
     ]
    },
    {
     "name": "stderr",
     "output_type": "stream",
     "text": [
      " 60%|██████    | 6494/10742 [03:55<02:22, 29.72it/s]"
     ]
    },
    {
     "name": "stdout",
     "output_type": "stream",
     "text": [
      "7212.txt\n",
      "7213.txt\n",
      "7214.txt\n",
      "7215.txt\n",
      "7216.txt\n",
      "7217.txt\n"
     ]
    },
    {
     "name": "stderr",
     "output_type": "stream",
     "text": [
      " 61%|██████    | 6500/10742 [03:55<02:36, 27.12it/s]"
     ]
    },
    {
     "name": "stdout",
     "output_type": "stream",
     "text": [
      "7218.txt\n",
      "7219.txt\n",
      "7220.txt\n",
      "7221.txt\n",
      "7222.txt\n"
     ]
    },
    {
     "name": "stderr",
     "output_type": "stream",
     "text": [
      "\r",
      " 61%|██████    | 6503/10742 [03:55<02:41, 26.24it/s]"
     ]
    },
    {
     "name": "stdout",
     "output_type": "stream",
     "text": [
      "7223.txt\n",
      "7224.txt\n",
      "7225.txt\n",
      "7226.txt\n",
      "7227.txt\n"
     ]
    },
    {
     "name": "stderr",
     "output_type": "stream",
     "text": [
      " 61%|██████    | 6509/10742 [03:55<02:52, 24.53it/s]"
     ]
    },
    {
     "name": "stdout",
     "output_type": "stream",
     "text": [
      "7228.txt\n",
      "7229.txt\n",
      "7230.txt\n",
      "7231.txt\n",
      "7232.txt\n"
     ]
    },
    {
     "name": "stderr",
     "output_type": "stream",
     "text": [
      " 61%|██████    | 6515/10742 [03:55<02:55, 24.13it/s]"
     ]
    },
    {
     "name": "stdout",
     "output_type": "stream",
     "text": [
      "7233.txt\n",
      "7234.txt\n",
      "7235.txt\n",
      "7236.txt\n",
      "7237.txt\n"
     ]
    },
    {
     "name": "stderr",
     "output_type": "stream",
     "text": [
      " 61%|██████    | 6521/10742 [03:56<02:39, 26.45it/s]"
     ]
    },
    {
     "name": "stdout",
     "output_type": "stream",
     "text": [
      "7238.txt\n",
      "7239.txt\n",
      "7240.txt\n",
      "7241.txt\n",
      "7242.txt\n",
      "7243.txt\n"
     ]
    },
    {
     "name": "stderr",
     "output_type": "stream",
     "text": [
      "\r",
      " 61%|██████    | 6524/10742 [03:56<02:34, 27.21it/s]"
     ]
    },
    {
     "name": "stdout",
     "output_type": "stream",
     "text": [
      "7244.txt\n",
      "7245.txt\n",
      "7246.txt\n",
      "7247.txt\n",
      "7248.txt\n",
      "7249.txt\n"
     ]
    },
    {
     "name": "stderr",
     "output_type": "stream",
     "text": [
      " 61%|██████    | 6531/10742 [03:56<02:25, 28.90it/s]"
     ]
    },
    {
     "name": "stdout",
     "output_type": "stream",
     "text": [
      "7250.txt\n",
      "7251.txt\n",
      "7252.txt\n",
      "7253.txt\n",
      "7254.txt\n",
      "7255.txt\n"
     ]
    },
    {
     "name": "stderr",
     "output_type": "stream",
     "text": [
      " 61%|██████    | 6539/10742 [03:56<02:20, 29.91it/s]"
     ]
    },
    {
     "name": "stdout",
     "output_type": "stream",
     "text": [
      "7256.txt\n",
      "7257.txt\n",
      "7258.txt\n",
      "7259.txt\n",
      "7260.txt\n",
      "7261.txt\n"
     ]
    },
    {
     "name": "stderr",
     "output_type": "stream",
     "text": [
      "\r",
      " 61%|██████    | 6542/10742 [03:56<02:28, 28.27it/s]"
     ]
    },
    {
     "name": "stdout",
     "output_type": "stream",
     "text": [
      "7262.txt\n",
      "7263.txt\n",
      "7264.txt\n",
      "7265.txt\n",
      "7266.txt\n",
      "7267.txt\n"
     ]
    },
    {
     "name": "stderr",
     "output_type": "stream",
     "text": [
      " 61%|██████    | 6550/10742 [03:57<02:21, 29.64it/s]"
     ]
    },
    {
     "name": "stdout",
     "output_type": "stream",
     "text": [
      "7268.txt\n",
      "7269.txt\n",
      "7270.txt\n",
      "7271.txt\n",
      "7272.txt\n",
      "7273.txt\n",
      "7274.txt\n"
     ]
    },
    {
     "name": "stderr",
     "output_type": "stream",
     "text": [
      " 61%|██████    | 6558/10742 [03:57<02:17, 30.44it/s]"
     ]
    },
    {
     "name": "stdout",
     "output_type": "stream",
     "text": [
      "7275.txt\n",
      "7276.txt\n",
      "7277.txt\n",
      "7278.txt\n",
      "7279.txt\n",
      "7280.txt\n",
      "7281.txt\n"
     ]
    },
    {
     "name": "stderr",
     "output_type": "stream",
     "text": [
      " 61%|██████    | 6565/10742 [03:57<02:22, 29.27it/s]"
     ]
    },
    {
     "name": "stdout",
     "output_type": "stream",
     "text": [
      "7282.txt\n",
      "7283.txt\n",
      "7284.txt\n",
      "7285.txt\n",
      "7286.txt\n",
      "7287.txt\n"
     ]
    },
    {
     "name": "stderr",
     "output_type": "stream",
     "text": [
      "\r",
      " 61%|██████    | 6568/10742 [03:57<02:21, 29.40it/s]"
     ]
    },
    {
     "name": "stdout",
     "output_type": "stream",
     "text": [
      "7288.txt\n",
      "7289.txt\n",
      "7290.txt\n",
      "7291.txt\n",
      "7292.txt\n",
      "7293.txt\n"
     ]
    },
    {
     "name": "stderr",
     "output_type": "stream",
     "text": [
      " 61%|██████    | 6574/10742 [03:57<02:21, 29.43it/s]"
     ]
    },
    {
     "name": "stdout",
     "output_type": "stream",
     "text": [
      "7294.txt\n",
      "7295.txt\n",
      "7296.txt\n",
      "7297.txt\n",
      "7298.txt\n",
      "7299.txt\n"
     ]
    },
    {
     "name": "stderr",
     "output_type": "stream",
     "text": [
      " 61%|██████▏   | 6580/10742 [03:58<02:38, 26.32it/s]"
     ]
    },
    {
     "name": "stdout",
     "output_type": "stream",
     "text": [
      "7300.txt\n",
      "7301.txt\n",
      "7302.txt\n",
      "7303.txt\n",
      "7304.txt\n"
     ]
    },
    {
     "name": "stderr",
     "output_type": "stream",
     "text": [
      " 61%|██████▏   | 6586/10742 [03:58<02:48, 24.65it/s]"
     ]
    },
    {
     "name": "stdout",
     "output_type": "stream",
     "text": [
      "7305.txt\n",
      "7306.txt\n",
      "7307.txt\n",
      "7308.txt\n",
      "7309.txt\n"
     ]
    },
    {
     "name": "stderr",
     "output_type": "stream",
     "text": [
      " 61%|██████▏   | 6592/10742 [03:58<02:48, 24.61it/s]"
     ]
    },
    {
     "name": "stdout",
     "output_type": "stream",
     "text": [
      "7310.txt\n",
      "7311.txt\n",
      "7312.txt\n",
      "7313.txt\n",
      "7314.txt\n"
     ]
    },
    {
     "name": "stderr",
     "output_type": "stream",
     "text": [
      "\r",
      " 61%|██████▏   | 6595/10742 [03:58<02:51, 24.15it/s]"
     ]
    },
    {
     "name": "stdout",
     "output_type": "stream",
     "text": [
      "7315.txt\n",
      "7316.txt\n",
      "7317.txt\n",
      "7318.txt\n",
      "7319.txt\n",
      "7320.txt\n"
     ]
    },
    {
     "name": "stderr",
     "output_type": "stream",
     "text": [
      " 61%|██████▏   | 6602/10742 [03:59<02:33, 26.97it/s]"
     ]
    },
    {
     "name": "stdout",
     "output_type": "stream",
     "text": [
      "7321.txt\n",
      "7322.txt\n",
      "7323.txt\n",
      "7324.txt\n",
      "7325.txt\n",
      "7326.txt\n",
      "7327.txt\n"
     ]
    },
    {
     "name": "stderr",
     "output_type": "stream",
     "text": [
      " 62%|██████▏   | 6610/10742 [03:59<02:20, 29.33it/s]"
     ]
    },
    {
     "name": "stdout",
     "output_type": "stream",
     "text": [
      "7328.txt\n",
      "7329.txt\n",
      "7330.txt\n",
      "7331.txt\n",
      "7332.txt\n",
      "7333.txt\n",
      "7334.txt\n"
     ]
    },
    {
     "name": "stderr",
     "output_type": "stream",
     "text": [
      " 62%|██████▏   | 6617/10742 [03:59<02:18, 29.75it/s]"
     ]
    },
    {
     "name": "stdout",
     "output_type": "stream",
     "text": [
      "7335.txt\n",
      "7336.txt\n",
      "7337.txt\n",
      "7338.txt\n",
      "7339.txt\n",
      "7340.txt\n",
      "7341.txt\n"
     ]
    },
    {
     "name": "stderr",
     "output_type": "stream",
     "text": [
      " 62%|██████▏   | 6624/10742 [03:59<02:15, 30.39it/s]"
     ]
    },
    {
     "name": "stdout",
     "output_type": "stream",
     "text": [
      "7342.txt\n",
      "7343.txt\n",
      "7344.txt\n",
      "7345.txt\n",
      "7346.txt\n",
      "7347.txt\n",
      "7348.txt\n"
     ]
    },
    {
     "name": "stderr",
     "output_type": "stream",
     "text": [
      " 62%|██████▏   | 6632/10742 [04:00<02:17, 29.92it/s]"
     ]
    },
    {
     "name": "stdout",
     "output_type": "stream",
     "text": [
      "7349.txt\n",
      "7350.txt\n",
      "7351.txt\n",
      "7352.txt\n",
      "7353.txt\n",
      "7354.txt\n"
     ]
    },
    {
     "name": "stderr",
     "output_type": "stream",
     "text": [
      "\r",
      " 62%|██████▏   | 6636/10742 [04:00<02:17, 29.84it/s]"
     ]
    },
    {
     "name": "stdout",
     "output_type": "stream",
     "text": [
      "7355.txt\n",
      "7356.txt\n",
      "7357.txt\n",
      "7358.txt\n",
      "7359.txt\n",
      "7360.txt\n",
      "7361.txt\n"
     ]
    },
    {
     "name": "stderr",
     "output_type": "stream",
     "text": [
      " 62%|██████▏   | 6643/10742 [04:00<02:19, 29.39it/s]"
     ]
    },
    {
     "name": "stdout",
     "output_type": "stream",
     "text": [
      "7362.txt\n",
      "7363.txt\n",
      "7364.txt\n",
      "7365.txt\n",
      "7366.txt\n",
      "7367.txt\n"
     ]
    },
    {
     "name": "stderr",
     "output_type": "stream",
     "text": [
      " 62%|██████▏   | 6649/10742 [04:00<02:29, 27.34it/s]"
     ]
    },
    {
     "name": "stdout",
     "output_type": "stream",
     "text": [
      "7368.txt\n",
      "7369.txt\n",
      "7370.txt\n",
      "7371.txt\n",
      "7372.txt\n",
      "7373.txt\n"
     ]
    },
    {
     "name": "stderr",
     "output_type": "stream",
     "text": [
      " 62%|██████▏   | 6655/10742 [04:00<02:28, 27.55it/s]"
     ]
    },
    {
     "name": "stdout",
     "output_type": "stream",
     "text": [
      "7374.txt\n",
      "7375.txt\n",
      "7376.txt\n",
      "7377.txt\n",
      "7378.txt\n",
      "7379.txt\n"
     ]
    },
    {
     "name": "stderr",
     "output_type": "stream",
     "text": [
      "\r",
      " 62%|██████▏   | 6658/10742 [04:01<02:44, 24.84it/s]"
     ]
    },
    {
     "name": "stdout",
     "output_type": "stream",
     "text": [
      "7380.txt\n",
      "7381.txt\n",
      "7382.txt\n",
      "7383.txt\n"
     ]
    },
    {
     "name": "stderr",
     "output_type": "stream",
     "text": [
      " 62%|██████▏   | 6664/10742 [04:01<03:03, 22.22it/s]"
     ]
    },
    {
     "name": "stdout",
     "output_type": "stream",
     "text": [
      "7384.txt\n",
      "7385.txt\n",
      "7386.txt\n",
      "7387.txt\n"
     ]
    },
    {
     "name": "stderr",
     "output_type": "stream",
     "text": [
      "\r",
      " 62%|██████▏   | 6667/10742 [04:01<03:14, 20.93it/s]"
     ]
    },
    {
     "name": "stdout",
     "output_type": "stream",
     "text": [
      "7388.txt\n",
      "7389.txt\n",
      "7390.txt\n",
      "7391.txt\n"
     ]
    },
    {
     "name": "stderr",
     "output_type": "stream",
     "text": [
      " 62%|██████▏   | 6673/10742 [04:01<03:10, 21.32it/s]"
     ]
    },
    {
     "name": "stdout",
     "output_type": "stream",
     "text": [
      "7392.txt\n",
      "7393.txt\n",
      "7394.txt\n",
      "7395.txt\n",
      "7396.txt\n"
     ]
    },
    {
     "name": "stderr",
     "output_type": "stream",
     "text": [
      " 62%|██████▏   | 6679/10742 [04:02<03:01, 22.40it/s]"
     ]
    },
    {
     "name": "stdout",
     "output_type": "stream",
     "text": [
      "7397.txt\n",
      "7398.txt\n",
      "7399.txt\n",
      "7400.txt\n",
      "7401.txt\n"
     ]
    },
    {
     "name": "stderr",
     "output_type": "stream",
     "text": [
      "\r",
      " 62%|██████▏   | 6682/10742 [04:02<02:48, 24.07it/s]"
     ]
    },
    {
     "name": "stdout",
     "output_type": "stream",
     "text": [
      "7402.txt\n",
      "7403.txt\n",
      "7404.txt\n",
      "7405.txt\n",
      "7406.txt\n",
      "7407.txt\n",
      "7408.txt\n"
     ]
    },
    {
     "name": "stderr",
     "output_type": "stream",
     "text": [
      " 62%|██████▏   | 6689/10742 [04:02<02:29, 27.10it/s]"
     ]
    },
    {
     "name": "stdout",
     "output_type": "stream",
     "text": [
      "7409.txt\n",
      "7410.txt\n",
      "7411.txt\n",
      "7412.txt\n",
      "7413.txt\n",
      "7414.txt\n",
      "7415.txt\n"
     ]
    },
    {
     "name": "stderr",
     "output_type": "stream",
     "text": [
      " 62%|██████▏   | 6696/10742 [04:02<02:21, 28.65it/s]"
     ]
    },
    {
     "name": "stdout",
     "output_type": "stream",
     "text": [
      "7416.txt\n",
      "7417.txt\n",
      "7418.txt\n",
      "7419.txt\n",
      "7420.txt\n",
      "7421.txt\n"
     ]
    },
    {
     "name": "stderr",
     "output_type": "stream",
     "text": [
      " 62%|██████▏   | 6703/10742 [04:02<02:22, 28.42it/s]"
     ]
    },
    {
     "name": "stdout",
     "output_type": "stream",
     "text": [
      "7422.txt\n",
      "7423.txt\n",
      "7424.txt\n",
      "7425.txt\n",
      "7426.txt\n",
      "7427.txt\n"
     ]
    },
    {
     "name": "stderr",
     "output_type": "stream",
     "text": [
      " 62%|██████▏   | 6710/10742 [04:03<02:18, 29.08it/s]"
     ]
    },
    {
     "name": "stdout",
     "output_type": "stream",
     "text": [
      "7428.txt\n",
      "7429.txt\n",
      "7430.txt\n",
      "7431.txt\n",
      "7432.txt\n",
      "7433.txt\n",
      "7434.txt\n"
     ]
    },
    {
     "name": "stderr",
     "output_type": "stream",
     "text": [
      " 63%|██████▎   | 6717/10742 [04:03<02:14, 30.02it/s]"
     ]
    },
    {
     "name": "stdout",
     "output_type": "stream",
     "text": [
      "7435.txt\n",
      "7436.txt\n",
      "7437.txt\n",
      "7438.txt\n",
      "7439.txt\n",
      "7440.txt\n",
      "7441.txt\n"
     ]
    },
    {
     "name": "stderr",
     "output_type": "stream",
     "text": [
      " 63%|██████▎   | 6724/10742 [04:03<02:13, 30.08it/s]"
     ]
    },
    {
     "name": "stdout",
     "output_type": "stream",
     "text": [
      "7442.txt\n",
      "7443.txt\n",
      "7444.txt\n",
      "7445.txt\n",
      "7446.txt\n",
      "7447.txt\n",
      "7448.txt\n"
     ]
    },
    {
     "name": "stderr",
     "output_type": "stream",
     "text": [
      " 63%|██████▎   | 6731/10742 [04:03<02:12, 30.38it/s]"
     ]
    },
    {
     "name": "stdout",
     "output_type": "stream",
     "text": [
      "7449.txt\n",
      "7450.txt\n",
      "7451.txt\n",
      "7452.txt\n",
      "7453.txt\n",
      "7454.txt\n",
      "7455.txt\n"
     ]
    },
    {
     "name": "stderr",
     "output_type": "stream",
     "text": [
      "\r",
      " 63%|██████▎   | 6735/10742 [04:03<02:12, 30.22it/s]"
     ]
    },
    {
     "name": "stdout",
     "output_type": "stream",
     "text": [
      "7456.txt\n",
      "7457.txt\n",
      "7458.txt\n",
      "7459.txt\n",
      "7460.txt\n",
      "7461.txt\n"
     ]
    },
    {
     "name": "stderr",
     "output_type": "stream",
     "text": [
      " 63%|██████▎   | 6742/10742 [04:04<02:30, 26.66it/s]"
     ]
    },
    {
     "name": "stdout",
     "output_type": "stream",
     "text": [
      "7462.txt\n",
      "7463.txt\n",
      "7464.txt\n",
      "7465.txt\n",
      "7466.txt\n"
     ]
    },
    {
     "name": "stderr",
     "output_type": "stream",
     "text": [
      " 63%|██████▎   | 6748/10742 [04:04<02:41, 24.74it/s]"
     ]
    },
    {
     "name": "stdout",
     "output_type": "stream",
     "text": [
      "7467.txt\n",
      "7468.txt\n",
      "7469.txt\n",
      "7470.txt\n",
      "7471.txt\n"
     ]
    },
    {
     "name": "stderr",
     "output_type": "stream",
     "text": [
      "\r",
      " 63%|██████▎   | 6751/10742 [04:04<02:43, 24.46it/s]"
     ]
    },
    {
     "name": "stdout",
     "output_type": "stream",
     "text": [
      "7472.txt\n",
      "7473.txt\n",
      "7474.txt\n",
      "7475.txt\n",
      "7476.txt\n"
     ]
    },
    {
     "name": "stderr",
     "output_type": "stream",
     "text": [
      " 63%|██████▎   | 6757/10742 [04:04<02:50, 23.44it/s]"
     ]
    },
    {
     "name": "stdout",
     "output_type": "stream",
     "text": [
      "7477.txt\n",
      "7478.txt\n",
      "7479.txt\n",
      "7480.txt\n",
      "7481.txt\n"
     ]
    },
    {
     "name": "stderr",
     "output_type": "stream",
     "text": [
      " 63%|██████▎   | 6764/10742 [04:05<02:29, 26.60it/s]"
     ]
    },
    {
     "name": "stdout",
     "output_type": "stream",
     "text": [
      "7482.txt\n",
      "7483.txt\n",
      "7484.txt\n",
      "7485.txt\n",
      "7486.txt\n",
      "7487.txt\n",
      "7488.txt\n"
     ]
    },
    {
     "name": "stderr",
     "output_type": "stream",
     "text": [
      " 63%|██████▎   | 6770/10742 [04:05<02:21, 27.98it/s]"
     ]
    },
    {
     "name": "stdout",
     "output_type": "stream",
     "text": [
      "7489.txt\n",
      "7490.txt\n",
      "7491.txt\n",
      "7492.txt\n",
      "7493.txt\n",
      "7494.txt\n",
      "7495.txt\n"
     ]
    },
    {
     "name": "stderr",
     "output_type": "stream",
     "text": [
      " 63%|██████▎   | 6778/10742 [04:05<02:15, 29.27it/s]"
     ]
    },
    {
     "name": "stdout",
     "output_type": "stream",
     "text": [
      "7496.txt\n",
      "7497.txt\n",
      "7498.txt\n",
      "7499.txt\n",
      "7500.txt\n",
      "7501.txt\n"
     ]
    },
    {
     "name": "stderr",
     "output_type": "stream",
     "text": [
      "\r",
      " 63%|██████▎   | 6781/10742 [04:05<02:16, 29.03it/s]"
     ]
    },
    {
     "name": "stdout",
     "output_type": "stream",
     "text": [
      "7502.txt\n",
      "7503.txt\n",
      "7504.txt\n",
      "7505.txt\n",
      "7506.txt\n",
      "7507.txt\n"
     ]
    },
    {
     "name": "stderr",
     "output_type": "stream",
     "text": [
      " 63%|██████▎   | 6789/10742 [04:05<02:12, 29.76it/s]"
     ]
    },
    {
     "name": "stdout",
     "output_type": "stream",
     "text": [
      "7508.txt\n",
      "7509.txt\n",
      "7510.txt\n",
      "7511.txt\n",
      "7512.txt\n",
      "7513.txt\n",
      "7514.txt\n"
     ]
    },
    {
     "name": "stderr",
     "output_type": "stream",
     "text": [
      " 63%|██████▎   | 6797/10742 [04:06<02:10, 30.28it/s]"
     ]
    },
    {
     "name": "stdout",
     "output_type": "stream",
     "text": [
      "7515.txt\n",
      "7516.txt\n",
      "7517.txt\n",
      "7518.txt\n",
      "7519.txt\n",
      "7520.txt\n",
      "7521.txt\n"
     ]
    },
    {
     "name": "stderr",
     "output_type": "stream",
     "text": [
      " 63%|██████▎   | 6805/10742 [04:06<02:09, 30.42it/s]"
     ]
    },
    {
     "name": "stdout",
     "output_type": "stream",
     "text": [
      "7522.txt\n",
      "7523.txt\n",
      "7524.txt\n",
      "7525.txt\n",
      "7526.txt\n",
      "7527.txt\n"
     ]
    },
    {
     "name": "stderr",
     "output_type": "stream",
     "text": [
      "\r",
      " 63%|██████▎   | 6809/10742 [04:06<02:09, 30.42it/s]"
     ]
    },
    {
     "name": "stdout",
     "output_type": "stream",
     "text": [
      "7528.txt\n",
      "7529.txt\n",
      "7530.txt\n",
      "7531.txt\n",
      "7532.txt\n",
      "7533.txt\n",
      "7534.txt\n"
     ]
    },
    {
     "name": "stderr",
     "output_type": "stream",
     "text": [
      " 63%|██████▎   | 6817/10742 [04:06<02:09, 30.29it/s]"
     ]
    },
    {
     "name": "stdout",
     "output_type": "stream",
     "text": [
      "7535.txt\n",
      "7536.txt\n",
      "7537.txt\n",
      "7538.txt\n",
      "7539.txt\n",
      "7540.txt\n"
     ]
    },
    {
     "name": "stderr",
     "output_type": "stream",
     "text": [
      "\r",
      " 63%|██████▎   | 6821/10742 [04:07<02:23, 27.33it/s]"
     ]
    },
    {
     "name": "stdout",
     "output_type": "stream",
     "text": [
      "7541.txt\n",
      "7542.txt\n",
      "7543.txt\n",
      "7544.txt\n",
      "7545.txt\n"
     ]
    },
    {
     "name": "stderr",
     "output_type": "stream",
     "text": [
      " 64%|██████▎   | 6827/10742 [04:07<02:31, 25.77it/s]"
     ]
    },
    {
     "name": "stdout",
     "output_type": "stream",
     "text": [
      "7546.txt\n",
      "7547.txt\n",
      "7548.txt\n",
      "7549.txt\n",
      "7550.txt\n",
      "7551.txt\n"
     ]
    },
    {
     "name": "stderr",
     "output_type": "stream",
     "text": [
      " 64%|██████▎   | 6833/10742 [04:07<02:35, 25.20it/s]"
     ]
    },
    {
     "name": "stdout",
     "output_type": "stream",
     "text": [
      "7552.txt\n",
      "7553.txt\n",
      "7554.txt\n",
      "7555.txt\n",
      "7556.txt\n",
      "7557.txt\n"
     ]
    },
    {
     "name": "stderr",
     "output_type": "stream",
     "text": [
      " 64%|██████▎   | 6839/10742 [04:07<02:33, 25.49it/s]"
     ]
    },
    {
     "name": "stdout",
     "output_type": "stream",
     "text": [
      "7558.txt\n",
      "7559.txt\n",
      "7560.txt\n",
      "7561.txt\n",
      "7562.txt\n",
      "7563.txt\n"
     ]
    },
    {
     "name": "stderr",
     "output_type": "stream",
     "text": [
      " 64%|██████▎   | 6846/10742 [04:08<02:23, 27.16it/s]"
     ]
    },
    {
     "name": "stdout",
     "output_type": "stream",
     "text": [
      "7564.txt\n",
      "7565.txt\n",
      "7566.txt\n",
      "7567.txt\n",
      "7568.txt\n",
      "7569.txt\n"
     ]
    },
    {
     "name": "stderr",
     "output_type": "stream",
     "text": [
      "\r",
      " 64%|██████▍   | 6850/10742 [04:08<02:17, 28.30it/s]"
     ]
    },
    {
     "name": "stdout",
     "output_type": "stream",
     "text": [
      "7570.txt\n",
      "7571.txt\n",
      "7572.txt\n",
      "7573.txt\n",
      "7574.txt\n",
      "7575.txt\n",
      "7576.txt\n"
     ]
    },
    {
     "name": "stderr",
     "output_type": "stream",
     "text": [
      " 64%|██████▍   | 6857/10742 [04:08<02:12, 29.22it/s]"
     ]
    },
    {
     "name": "stdout",
     "output_type": "stream",
     "text": [
      "7577.txt\n",
      "7578.txt\n",
      "7579.txt\n",
      "7580.txt\n",
      "7581.txt\n",
      "7582.txt\n"
     ]
    },
    {
     "name": "stderr",
     "output_type": "stream",
     "text": [
      " 64%|██████▍   | 6865/10742 [04:08<02:07, 30.52it/s]"
     ]
    },
    {
     "name": "stdout",
     "output_type": "stream",
     "text": [
      "7583.txt\n",
      "7584.txt\n",
      "7585.txt\n",
      "7586.txt\n",
      "7587.txt\n",
      "7588.txt\n",
      "7589.txt\n"
     ]
    },
    {
     "name": "stderr",
     "output_type": "stream",
     "text": [
      " 64%|██████▍   | 6873/10742 [04:08<02:06, 30.59it/s]"
     ]
    },
    {
     "name": "stdout",
     "output_type": "stream",
     "text": [
      "7590.txt\n",
      "7591.txt\n",
      "7592.txt\n",
      "7593.txt\n",
      "7594.txt\n",
      "7595.txt\n"
     ]
    },
    {
     "name": "stderr",
     "output_type": "stream",
     "text": [
      "\r",
      " 64%|██████▍   | 6877/10742 [04:09<02:09, 29.95it/s]"
     ]
    },
    {
     "name": "stdout",
     "output_type": "stream",
     "text": [
      "7596.txt\n",
      "7597.txt\n",
      "7598.txt\n",
      "7599.txt\n",
      "7600.txt\n",
      "7601.txt\n"
     ]
    },
    {
     "name": "stderr",
     "output_type": "stream",
     "text": [
      " 64%|██████▍   | 6884/10742 [04:09<02:06, 30.38it/s]"
     ]
    },
    {
     "name": "stdout",
     "output_type": "stream",
     "text": [
      "7602.txt\n",
      "7603.txt\n",
      "7604.txt\n",
      "7605.txt\n",
      "7606.txt\n",
      "7607.txt\n",
      "7608.txt\n"
     ]
    },
    {
     "name": "stderr",
     "output_type": "stream",
     "text": [
      " 64%|██████▍   | 6892/10742 [04:09<02:05, 30.77it/s]"
     ]
    },
    {
     "name": "stdout",
     "output_type": "stream",
     "text": [
      "7609.txt\n",
      "7610.txt\n",
      "7611.txt\n",
      "7612.txt\n",
      "7613.txt\n",
      "7614.txt\n"
     ]
    },
    {
     "name": "stderr",
     "output_type": "stream",
     "text": [
      "\r",
      " 64%|██████▍   | 6896/10742 [04:09<02:07, 30.11it/s]"
     ]
    },
    {
     "name": "stdout",
     "output_type": "stream",
     "text": [
      "7615.txt\n",
      "7616.txt\n",
      "7617.txt\n",
      "7618.txt\n",
      "7619.txt\n",
      "7620.txt\n"
     ]
    },
    {
     "name": "stderr",
     "output_type": "stream",
     "text": [
      " 64%|██████▍   | 6903/10742 [04:09<02:26, 26.26it/s]"
     ]
    },
    {
     "name": "stdout",
     "output_type": "stream",
     "text": [
      "7621.txt\n",
      "7622.txt\n",
      "7623.txt\n",
      "7624.txt\n",
      "7625.txt\n"
     ]
    },
    {
     "name": "stderr",
     "output_type": "stream",
     "text": [
      "\r",
      " 64%|██████▍   | 6906/10742 [04:10<02:28, 25.83it/s]"
     ]
    },
    {
     "name": "stdout",
     "output_type": "stream",
     "text": [
      "7626.txt\n",
      "7627.txt\n",
      "7628.txt\n",
      "7629.txt\n",
      "7630.txt\n"
     ]
    },
    {
     "name": "stderr",
     "output_type": "stream",
     "text": [
      " 64%|██████▍   | 6912/10742 [04:10<02:33, 24.98it/s]"
     ]
    },
    {
     "name": "stdout",
     "output_type": "stream",
     "text": [
      "7631.txt\n",
      "7632.txt\n",
      "7633.txt\n",
      "7634.txt\n",
      "7635.txt\n"
     ]
    },
    {
     "name": "stderr",
     "output_type": "stream",
     "text": [
      " 64%|██████▍   | 6918/10742 [04:10<02:36, 24.44it/s]"
     ]
    },
    {
     "name": "stdout",
     "output_type": "stream",
     "text": [
      "7636.txt\n",
      "7637.txt\n",
      "7638.txt\n",
      "7639.txt\n",
      "7640.txt\n"
     ]
    },
    {
     "name": "stderr",
     "output_type": "stream",
     "text": [
      " 64%|██████▍   | 6924/10742 [04:10<02:24, 26.46it/s]"
     ]
    },
    {
     "name": "stdout",
     "output_type": "stream",
     "text": [
      "7641.txt\n",
      "7642.txt\n",
      "7643.txt\n",
      "7644.txt\n",
      "7645.txt\n",
      "7646.txt\n"
     ]
    },
    {
     "name": "stderr",
     "output_type": "stream",
     "text": [
      " 65%|██████▍   | 6930/10742 [04:11<02:20, 27.10it/s]"
     ]
    },
    {
     "name": "stdout",
     "output_type": "stream",
     "text": [
      "7647.txt\n",
      "7648.txt\n",
      "7649.txt\n",
      "7650.txt\n",
      "7651.txt\n",
      "7652.txt\n"
     ]
    },
    {
     "name": "stderr",
     "output_type": "stream",
     "text": [
      "\r",
      " 65%|██████▍   | 6933/10742 [04:11<02:19, 27.32it/s]"
     ]
    },
    {
     "name": "stdout",
     "output_type": "stream",
     "text": [
      "7653.txt\n",
      "7654.txt\n",
      "7655.txt\n",
      "7656.txt\n",
      "7657.txt\n",
      "7658.txt\n"
     ]
    },
    {
     "name": "stderr",
     "output_type": "stream",
     "text": [
      " 65%|██████▍   | 6939/10742 [04:11<02:17, 27.58it/s]"
     ]
    },
    {
     "name": "stdout",
     "output_type": "stream",
     "text": [
      "7659.txt\n",
      "7660.txt\n",
      "7661.txt\n",
      "7662.txt\n",
      "7663.txt\n",
      "7664.txt\n"
     ]
    },
    {
     "name": "stderr",
     "output_type": "stream",
     "text": [
      " 65%|██████▍   | 6946/10742 [04:11<02:12, 28.71it/s]"
     ]
    },
    {
     "name": "stdout",
     "output_type": "stream",
     "text": [
      "7665.txt\n",
      "7666.txt\n",
      "7667.txt\n",
      "7668.txt\n",
      "7669.txt\n",
      "7670.txt\n",
      "7671.txt\n"
     ]
    },
    {
     "name": "stderr",
     "output_type": "stream",
     "text": [
      " 65%|██████▍   | 6954/10742 [04:11<02:07, 29.64it/s]"
     ]
    },
    {
     "name": "stdout",
     "output_type": "stream",
     "text": [
      "7672.txt\n",
      "7673.txt\n",
      "7674.txt\n",
      "7675.txt\n",
      "7676.txt\n",
      "7677.txt\n",
      "7678.txt\n"
     ]
    },
    {
     "name": "stderr",
     "output_type": "stream",
     "text": [
      " 65%|██████▍   | 6961/10742 [04:12<02:06, 29.99it/s]"
     ]
    },
    {
     "name": "stdout",
     "output_type": "stream",
     "text": [
      "7679.txt\n",
      "7680.txt\n",
      "7681.txt\n",
      "7682.txt\n",
      "7683.txt\n",
      "7684.txt\n",
      "7685.txt\n"
     ]
    },
    {
     "name": "stderr",
     "output_type": "stream",
     "text": [
      " 65%|██████▍   | 6967/10742 [04:12<02:06, 29.74it/s]"
     ]
    },
    {
     "name": "stdout",
     "output_type": "stream",
     "text": [
      "7686.txt\n",
      "7687.txt\n",
      "7688.txt\n",
      "7689.txt\n",
      "7690.txt\n",
      "7691.txt\n",
      "7692.txt\n"
     ]
    },
    {
     "name": "stderr",
     "output_type": "stream",
     "text": [
      " 65%|██████▍   | 6974/10742 [04:12<02:08, 29.43it/s]"
     ]
    },
    {
     "name": "stdout",
     "output_type": "stream",
     "text": [
      "7693.txt\n",
      "7694.txt\n",
      "7695.txt\n",
      "7696.txt\n",
      "7697.txt\n",
      "7698.txt\n",
      "7699.txt\n"
     ]
    },
    {
     "name": "stderr",
     "output_type": "stream",
     "text": [
      " 65%|██████▍   | 6980/10742 [04:12<02:17, 27.30it/s]"
     ]
    },
    {
     "name": "stdout",
     "output_type": "stream",
     "text": [
      "7700.txt\n",
      "7701.txt\n",
      "7702.txt\n",
      "7703.txt\n",
      "7704.txt\n"
     ]
    },
    {
     "name": "stderr",
     "output_type": "stream",
     "text": [
      " 65%|██████▌   | 6986/10742 [04:13<02:28, 25.35it/s]"
     ]
    },
    {
     "name": "stdout",
     "output_type": "stream",
     "text": [
      "7705.txt\n",
      "7706.txt\n",
      "7707.txt\n",
      "7708.txt\n",
      "7709.txt\n",
      "7710.txt\n"
     ]
    },
    {
     "name": "stderr",
     "output_type": "stream",
     "text": [
      " 65%|██████▌   | 6992/10742 [04:13<02:40, 23.39it/s]"
     ]
    },
    {
     "name": "stdout",
     "output_type": "stream",
     "text": [
      "7711.txt\n",
      "7712.txt\n",
      "7713.txt\n",
      "7714.txt\n",
      "7715.txt\n"
     ]
    },
    {
     "name": "stderr",
     "output_type": "stream",
     "text": [
      " 65%|██████▌   | 6998/10742 [04:13<02:36, 23.96it/s]"
     ]
    },
    {
     "name": "stdout",
     "output_type": "stream",
     "text": [
      "7716.txt\n",
      "7717.txt\n",
      "7718.txt\n",
      "7719.txt\n",
      "7720.txt\n"
     ]
    },
    {
     "name": "stderr",
     "output_type": "stream",
     "text": [
      " 65%|██████▌   | 7004/10742 [04:13<02:20, 26.58it/s]"
     ]
    },
    {
     "name": "stdout",
     "output_type": "stream",
     "text": [
      "7721.txt\n",
      "7722.txt\n",
      "7723.txt\n",
      "7724.txt\n",
      "7725.txt\n",
      "7726.txt\n"
     ]
    },
    {
     "name": "stderr",
     "output_type": "stream",
     "text": [
      "\r",
      " 65%|██████▌   | 7007/10742 [04:13<02:21, 26.39it/s]"
     ]
    },
    {
     "name": "stdout",
     "output_type": "stream",
     "text": [
      "7727.txt\n",
      "7728.txt\n",
      "7729.txt\n",
      "7730.txt\n",
      "7731.txt\n",
      "7732.txt\n"
     ]
    },
    {
     "name": "stderr",
     "output_type": "stream",
     "text": [
      " 65%|██████▌   | 7013/10742 [04:14<02:16, 27.27it/s]"
     ]
    },
    {
     "name": "stdout",
     "output_type": "stream",
     "text": [
      "7733.txt\n",
      "7734.txt\n",
      "7735.txt\n",
      "7736.txt\n",
      "7737.txt\n",
      "7738.txt\n"
     ]
    },
    {
     "name": "stderr",
     "output_type": "stream",
     "text": [
      " 65%|██████▌   | 7021/10742 [04:14<02:08, 29.02it/s]"
     ]
    },
    {
     "name": "stdout",
     "output_type": "stream",
     "text": [
      "7739.txt\n",
      "7740.txt\n",
      "7741.txt\n",
      "7742.txt\n",
      "7743.txt\n",
      "7744.txt\n",
      "7745.txt\n"
     ]
    },
    {
     "name": "stderr",
     "output_type": "stream",
     "text": [
      " 65%|██████▌   | 7028/10742 [04:14<02:05, 29.67it/s]"
     ]
    },
    {
     "name": "stdout",
     "output_type": "stream",
     "text": [
      "7746.txt\n",
      "7747.txt\n",
      "7748.txt\n",
      "7749.txt\n",
      "7750.txt\n",
      "7751.txt\n",
      "7752.txt\n"
     ]
    },
    {
     "name": "stderr",
     "output_type": "stream",
     "text": [
      " 65%|██████▌   | 7034/10742 [04:14<02:05, 29.60it/s]"
     ]
    },
    {
     "name": "stdout",
     "output_type": "stream",
     "text": [
      "7753.txt\n",
      "7754.txt\n",
      "7755.txt\n",
      "7756.txt\n",
      "7757.txt\n",
      "7758.txt\n",
      "7759.txt\n"
     ]
    },
    {
     "name": "stderr",
     "output_type": "stream",
     "text": [
      " 66%|██████▌   | 7041/10742 [04:15<02:04, 29.77it/s]"
     ]
    },
    {
     "name": "stdout",
     "output_type": "stream",
     "text": [
      "7760.txt\n",
      "7761.txt\n",
      "7762.txt\n",
      "7763.txt\n",
      "7764.txt\n",
      "7765.txt\n",
      "7766.txt\n"
     ]
    },
    {
     "name": "stderr",
     "output_type": "stream",
     "text": [
      " 66%|██████▌   | 7047/10742 [04:15<02:06, 29.12it/s]"
     ]
    },
    {
     "name": "stdout",
     "output_type": "stream",
     "text": [
      "7767.txt\n",
      "7768.txt\n",
      "7769.txt\n",
      "7770.txt\n",
      "7771.txt\n",
      "7772.txt\n"
     ]
    },
    {
     "name": "stderr",
     "output_type": "stream",
     "text": [
      " 66%|██████▌   | 7054/10742 [04:15<02:05, 29.35it/s]"
     ]
    },
    {
     "name": "stdout",
     "output_type": "stream",
     "text": [
      "7773.txt\n",
      "7774.txt\n",
      "7775.txt\n",
      "7776.txt\n",
      "7777.txt\n",
      "7778.txt\n",
      "7779.txt\n"
     ]
    },
    {
     "name": "stderr",
     "output_type": "stream",
     "text": [
      " 66%|██████▌   | 7060/10742 [04:15<02:15, 27.27it/s]"
     ]
    },
    {
     "name": "stdout",
     "output_type": "stream",
     "text": [
      "7780.txt\n",
      "7781.txt\n",
      "7782.txt\n",
      "7783.txt\n",
      "7784.txt\n"
     ]
    },
    {
     "name": "stderr",
     "output_type": "stream",
     "text": [
      " 66%|██████▌   | 7066/10742 [04:15<02:23, 25.66it/s]"
     ]
    },
    {
     "name": "stdout",
     "output_type": "stream",
     "text": [
      "7785.txt\n",
      "7786.txt\n",
      "7787.txt\n",
      "7788.txt\n",
      "7789.txt\n"
     ]
    },
    {
     "name": "stderr",
     "output_type": "stream",
     "text": [
      " 66%|██████▌   | 7072/10742 [04:16<02:27, 24.91it/s]"
     ]
    },
    {
     "name": "stdout",
     "output_type": "stream",
     "text": [
      "7790.txt\n",
      "7791.txt\n",
      "7792.txt\n",
      "7793.txt\n",
      "7794.txt\n"
     ]
    },
    {
     "name": "stderr",
     "output_type": "stream",
     "text": [
      "\r",
      " 66%|██████▌   | 7075/10742 [04:16<02:27, 24.89it/s]"
     ]
    },
    {
     "name": "stdout",
     "output_type": "stream",
     "text": [
      "7795.txt\n",
      "7796.txt\n",
      "7797.txt\n",
      "7798.txt\n",
      "7799.txt\n"
     ]
    },
    {
     "name": "stderr",
     "output_type": "stream",
     "text": [
      " 66%|██████▌   | 7081/10742 [04:16<02:32, 24.08it/s]"
     ]
    },
    {
     "name": "stdout",
     "output_type": "stream",
     "text": [
      "7800.txt\n",
      "7801.txt\n",
      "7802.txt\n",
      "7803.txt\n",
      "7804.txt\n"
     ]
    },
    {
     "name": "stderr",
     "output_type": "stream",
     "text": [
      " 66%|██████▌   | 7087/10742 [04:16<02:25, 25.13it/s]"
     ]
    },
    {
     "name": "stdout",
     "output_type": "stream",
     "text": [
      "7805.txt\n",
      "7806.txt\n",
      "7807.txt\n",
      "7808.txt\n",
      "7809.txt\n",
      "7810.txt\n"
     ]
    },
    {
     "name": "stderr",
     "output_type": "stream",
     "text": [
      " 66%|██████▌   | 7093/10742 [04:17<02:33, 23.77it/s]"
     ]
    },
    {
     "name": "stdout",
     "output_type": "stream",
     "text": [
      "7811.txt\n",
      "7812.txt\n",
      "7813.txt\n",
      "7814.txt\n",
      "7815.txt\n"
     ]
    },
    {
     "name": "stderr",
     "output_type": "stream",
     "text": [
      "\r",
      " 66%|██████▌   | 7096/10742 [04:17<02:31, 24.07it/s]"
     ]
    },
    {
     "name": "stdout",
     "output_type": "stream",
     "text": [
      "7816.txt\n",
      "7817.txt\n",
      "7818.txt\n",
      "7819.txt\n",
      "7820.txt\n"
     ]
    },
    {
     "name": "stderr",
     "output_type": "stream",
     "text": [
      " 66%|██████▌   | 7102/10742 [04:17<02:22, 25.60it/s]"
     ]
    },
    {
     "name": "stdout",
     "output_type": "stream",
     "text": [
      "7821.txt\n",
      "7822.txt\n",
      "7823.txt\n",
      "7824.txt\n",
      "7825.txt\n",
      "7826.txt\n"
     ]
    },
    {
     "name": "stderr",
     "output_type": "stream",
     "text": [
      " 66%|██████▌   | 7108/10742 [04:17<02:19, 25.98it/s]"
     ]
    },
    {
     "name": "stdout",
     "output_type": "stream",
     "text": [
      "7827.txt\n",
      "7828.txt\n",
      "7829.txt\n",
      "7830.txt\n",
      "7831.txt\n",
      "7832.txt\n",
      "7833.txt\n"
     ]
    },
    {
     "name": "stderr",
     "output_type": "stream",
     "text": [
      " 66%|██████▌   | 7114/10742 [04:17<02:17, 26.48it/s]"
     ]
    },
    {
     "name": "stdout",
     "output_type": "stream",
     "text": [
      "7834.txt\n",
      "7835.txt\n",
      "7836.txt\n",
      "7837.txt\n",
      "7838.txt\n"
     ]
    },
    {
     "name": "stderr",
     "output_type": "stream",
     "text": [
      " 66%|██████▋   | 7120/10742 [04:18<02:15, 26.67it/s]"
     ]
    },
    {
     "name": "stdout",
     "output_type": "stream",
     "text": [
      "7839.txt\n",
      "7840.txt\n",
      "7841.txt\n",
      "7842.txt\n",
      "7843.txt\n",
      "7844.txt\n"
     ]
    },
    {
     "name": "stderr",
     "output_type": "stream",
     "text": [
      " 66%|██████▋   | 7127/10742 [04:18<02:07, 28.30it/s]"
     ]
    },
    {
     "name": "stdout",
     "output_type": "stream",
     "text": [
      "7845.txt\n",
      "7846.txt\n",
      "7847.txt\n",
      "7848.txt\n",
      "7849.txt\n",
      "7850.txt\n"
     ]
    },
    {
     "name": "stderr",
     "output_type": "stream",
     "text": [
      "\r",
      " 66%|██████▋   | 7130/10742 [04:18<02:09, 27.81it/s]"
     ]
    },
    {
     "name": "stdout",
     "output_type": "stream",
     "text": [
      "7851.txt\n",
      "7852.txt\n",
      "7853.txt\n",
      "7854.txt\n",
      "7855.txt\n"
     ]
    },
    {
     "name": "stderr",
     "output_type": "stream",
     "text": [
      " 66%|██████▋   | 7136/10742 [04:18<02:17, 26.27it/s]"
     ]
    },
    {
     "name": "stdout",
     "output_type": "stream",
     "text": [
      "7856.txt\n",
      "7857.txt\n",
      "7858.txt\n",
      "7859.txt\n",
      "7860.txt\n"
     ]
    },
    {
     "name": "stderr",
     "output_type": "stream",
     "text": [
      " 66%|██████▋   | 7142/10742 [04:18<02:22, 25.29it/s]"
     ]
    },
    {
     "name": "stdout",
     "output_type": "stream",
     "text": [
      "7861.txt\n",
      "7862.txt\n",
      "7863.txt\n",
      "7864.txt\n",
      "7865.txt\n"
     ]
    },
    {
     "name": "stderr",
     "output_type": "stream",
     "text": [
      "\r",
      " 67%|██████▋   | 7145/10742 [04:19<02:27, 24.37it/s]"
     ]
    },
    {
     "name": "stdout",
     "output_type": "stream",
     "text": [
      "7866.txt\n",
      "7867.txt\n",
      "7868.txt\n",
      "7869.txt\n",
      "7870.txt\n"
     ]
    },
    {
     "name": "stderr",
     "output_type": "stream",
     "text": [
      " 67%|██████▋   | 7151/10742 [04:19<02:52, 20.86it/s]"
     ]
    },
    {
     "name": "stdout",
     "output_type": "stream",
     "text": [
      "7871.txt\n",
      "7872.txt\n",
      "7873.txt\n",
      "7874.txt\n"
     ]
    },
    {
     "name": "stderr",
     "output_type": "stream",
     "text": [
      " 67%|██████▋   | 7158/10742 [04:19<02:22, 25.12it/s]"
     ]
    },
    {
     "name": "stdout",
     "output_type": "stream",
     "text": [
      "7875.txt\n",
      "7876.txt\n",
      "7877.txt\n",
      "7878.txt\n",
      "7879.txt\n",
      "7880.txt\n"
     ]
    },
    {
     "name": "stderr",
     "output_type": "stream",
     "text": [
      "\r",
      " 67%|██████▋   | 7161/10742 [04:19<02:24, 24.81it/s]"
     ]
    },
    {
     "name": "stdout",
     "output_type": "stream",
     "text": [
      "7881.txt\n",
      "7882.txt\n",
      "7883.txt\n",
      "7884.txt\n",
      "7885.txt\n"
     ]
    },
    {
     "name": "stderr",
     "output_type": "stream",
     "text": [
      " 67%|██████▋   | 7167/10742 [04:20<02:33, 23.26it/s]"
     ]
    },
    {
     "name": "stdout",
     "output_type": "stream",
     "text": [
      "7886.txt\n",
      "7887.txt\n",
      "7888.txt\n",
      "7889.txt\n",
      "7890.txt\n",
      "7891.txt\n"
     ]
    },
    {
     "name": "stderr",
     "output_type": "stream",
     "text": [
      " 67%|██████▋   | 7174/10742 [04:20<02:13, 26.70it/s]"
     ]
    },
    {
     "name": "stdout",
     "output_type": "stream",
     "text": [
      "7892.txt\n",
      "7893.txt\n",
      "7894.txt\n",
      "7895.txt\n",
      "7896.txt\n",
      "7897.txt\n",
      "7898.txt\n"
     ]
    },
    {
     "name": "stderr",
     "output_type": "stream",
     "text": [
      " 67%|██████▋   | 7181/10742 [04:20<02:04, 28.60it/s]"
     ]
    },
    {
     "name": "stdout",
     "output_type": "stream",
     "text": [
      "7899.txt\n",
      "7900.txt\n",
      "7901.txt\n",
      "7902.txt\n",
      "7903.txt\n",
      "7904.txt\n",
      "7905.txt\n"
     ]
    },
    {
     "name": "stderr",
     "output_type": "stream",
     "text": [
      " 67%|██████▋   | 7188/10742 [04:20<01:59, 29.68it/s]"
     ]
    },
    {
     "name": "stdout",
     "output_type": "stream",
     "text": [
      "7906.txt\n",
      "7907.txt\n",
      "7908.txt\n",
      "7909.txt\n",
      "7910.txt\n",
      "7911.txt\n",
      "7912.txt\n"
     ]
    },
    {
     "name": "stderr",
     "output_type": "stream",
     "text": [
      " 67%|██████▋   | 7195/10742 [04:20<01:57, 30.11it/s]"
     ]
    },
    {
     "name": "stdout",
     "output_type": "stream",
     "text": [
      "7913.txt\n",
      "7914.txt\n",
      "7915.txt\n",
      "7916.txt\n",
      "7917.txt\n",
      "7918.txt\n",
      "7919.txt\n"
     ]
    },
    {
     "name": "stderr",
     "output_type": "stream",
     "text": [
      " 67%|██████▋   | 7203/10742 [04:21<01:57, 30.14it/s]"
     ]
    },
    {
     "name": "stdout",
     "output_type": "stream",
     "text": [
      "7920.txt\n",
      "7921.txt\n",
      "7922.txt\n",
      "7923.txt\n",
      "7924.txt\n",
      "7925.txt\n"
     ]
    },
    {
     "name": "stderr",
     "output_type": "stream",
     "text": [
      "\r",
      " 67%|██████▋   | 7207/10742 [04:21<01:57, 29.99it/s]"
     ]
    },
    {
     "name": "stdout",
     "output_type": "stream",
     "text": [
      "7926.txt\n",
      "7927.txt\n",
      "7928.txt\n",
      "7929.txt\n",
      "7930.txt\n",
      "7931.txt\n"
     ]
    },
    {
     "name": "stderr",
     "output_type": "stream",
     "text": [
      " 67%|██████▋   | 7214/10742 [04:21<02:11, 26.77it/s]"
     ]
    },
    {
     "name": "stdout",
     "output_type": "stream",
     "text": [
      "7932.txt\n",
      "7933.txt\n",
      "7934.txt\n",
      "7935.txt\n",
      "7936.txt\n"
     ]
    },
    {
     "name": "stderr",
     "output_type": "stream",
     "text": [
      "\r",
      " 67%|██████▋   | 7217/10742 [04:21<02:17, 25.72it/s]"
     ]
    },
    {
     "name": "stdout",
     "output_type": "stream",
     "text": [
      "7937.txt\n",
      "7938.txt\n",
      "7939.txt\n",
      "7940.txt\n",
      "7941.txt\n"
     ]
    },
    {
     "name": "stderr",
     "output_type": "stream",
     "text": [
      " 67%|██████▋   | 7223/10742 [04:22<02:24, 24.43it/s]"
     ]
    },
    {
     "name": "stdout",
     "output_type": "stream",
     "text": [
      "7942.txt\n",
      "7943.txt\n",
      "7944.txt\n",
      "7945.txt\n",
      "7946.txt\n",
      "7947.txt\n"
     ]
    },
    {
     "name": "stderr",
     "output_type": "stream",
     "text": [
      " 67%|██████▋   | 7229/10742 [04:22<02:24, 24.38it/s]"
     ]
    },
    {
     "name": "stdout",
     "output_type": "stream",
     "text": [
      "7948.txt\n",
      "7949.txt\n",
      "7950.txt\n",
      "7951.txt\n",
      "7952.txt\n",
      "7953.txt\n"
     ]
    },
    {
     "name": "stderr",
     "output_type": "stream",
     "text": [
      " 67%|██████▋   | 7236/10742 [04:22<02:07, 27.40it/s]"
     ]
    },
    {
     "name": "stdout",
     "output_type": "stream",
     "text": [
      "7954.txt\n",
      "7955.txt\n",
      "7956.txt\n",
      "7957.txt\n",
      "7958.txt\n",
      "7959.txt\n",
      "7960.txt\n"
     ]
    },
    {
     "name": "stderr",
     "output_type": "stream",
     "text": [
      " 67%|██████▋   | 7243/10742 [04:22<02:00, 29.10it/s]"
     ]
    },
    {
     "name": "stdout",
     "output_type": "stream",
     "text": [
      "7961.txt\n",
      "7962.txt\n",
      "7963.txt\n",
      "7964.txt\n",
      "7965.txt\n",
      "7966.txt\n",
      "7967.txt\n"
     ]
    },
    {
     "name": "stderr",
     "output_type": "stream",
     "text": [
      " 67%|██████▋   | 7249/10742 [04:22<02:02, 28.58it/s]"
     ]
    },
    {
     "name": "stdout",
     "output_type": "stream",
     "text": [
      "7968.txt\n",
      "7969.txt\n",
      "7970.txt\n",
      "7971.txt\n",
      "7972.txt\n",
      "7973.txt\n",
      "7974.txt\n"
     ]
    },
    {
     "name": "stderr",
     "output_type": "stream",
     "text": [
      " 68%|██████▊   | 7257/10742 [04:23<01:56, 29.84it/s]"
     ]
    },
    {
     "name": "stdout",
     "output_type": "stream",
     "text": [
      "7975.txt\n",
      "7976.txt\n",
      "7977.txt\n",
      "7978.txt\n",
      "7979.txt\n",
      "7980.txt\n",
      "7981.txt\n"
     ]
    },
    {
     "name": "stderr",
     "output_type": "stream",
     "text": [
      " 68%|██████▊   | 7263/10742 [04:23<01:57, 29.64it/s]"
     ]
    },
    {
     "name": "stdout",
     "output_type": "stream",
     "text": [
      "7982.txt\n",
      "7983.txt\n",
      "7984.txt\n",
      "7985.txt\n",
      "7986.txt\n",
      "7987.txt\n",
      "7988.txt\n"
     ]
    },
    {
     "name": "stderr",
     "output_type": "stream",
     "text": [
      " 68%|██████▊   | 7270/10742 [04:23<01:57, 29.67it/s]"
     ]
    },
    {
     "name": "stdout",
     "output_type": "stream",
     "text": [
      "7989.txt\n",
      "7990.txt\n",
      "7991.txt\n",
      "7992.txt\n",
      "7993.txt\n",
      "7994.txt\n",
      "7995.txt\n"
     ]
    },
    {
     "name": "stderr",
     "output_type": "stream",
     "text": [
      " 68%|██████▊   | 7278/10742 [04:23<01:54, 30.29it/s]"
     ]
    },
    {
     "name": "stdout",
     "output_type": "stream",
     "text": [
      "7996.txt\n",
      "7997.txt\n",
      "7998.txt\n",
      "7999.txt\n",
      "8000.txt\n",
      "8001.txt\n",
      "8002.txt\n"
     ]
    },
    {
     "name": "stderr",
     "output_type": "stream",
     "text": [
      " 68%|██████▊   | 7286/10742 [04:24<01:53, 30.34it/s]"
     ]
    },
    {
     "name": "stdout",
     "output_type": "stream",
     "text": [
      "8003.txt\n",
      "8004.txt\n",
      "8005.txt\n",
      "8006.txt\n",
      "8007.txt\n",
      "8008.txt\n"
     ]
    },
    {
     "name": "stderr",
     "output_type": "stream",
     "text": [
      "\r",
      " 68%|██████▊   | 7290/10742 [04:24<01:54, 30.26it/s]"
     ]
    },
    {
     "name": "stdout",
     "output_type": "stream",
     "text": [
      "8009.txt\n",
      "8010.txt\n",
      "8011.txt\n",
      "8012.txt\n",
      "8013.txt\n",
      "8014.txt\n",
      "8015.txt\n"
     ]
    },
    {
     "name": "stderr",
     "output_type": "stream",
     "text": [
      " 68%|██████▊   | 7297/10742 [04:24<02:10, 26.41it/s]"
     ]
    },
    {
     "name": "stdout",
     "output_type": "stream",
     "text": [
      "8016.txt\n",
      "8017.txt\n",
      "8018.txt\n",
      "8019.txt\n",
      "8020.txt\n"
     ]
    },
    {
     "name": "stderr",
     "output_type": "stream",
     "text": [
      " 68%|██████▊   | 7303/10742 [04:24<02:18, 24.81it/s]"
     ]
    },
    {
     "name": "stdout",
     "output_type": "stream",
     "text": [
      "8021.txt\n",
      "8022.txt\n",
      "8023.txt\n",
      "8024.txt\n",
      "8025.txt\n"
     ]
    },
    {
     "name": "stderr",
     "output_type": "stream",
     "text": [
      "\r",
      " 68%|██████▊   | 7306/10742 [04:25<02:20, 24.54it/s]"
     ]
    },
    {
     "name": "stdout",
     "output_type": "stream",
     "text": [
      "8026.txt\n",
      "8027.txt\n",
      "8028.txt\n",
      "8029.txt\n",
      "8030.txt\n"
     ]
    },
    {
     "name": "stderr",
     "output_type": "stream",
     "text": [
      " 68%|██████▊   | 7312/10742 [04:25<02:14, 25.45it/s]"
     ]
    },
    {
     "name": "stdout",
     "output_type": "stream",
     "text": [
      "8031.txt\n",
      "8032.txt\n",
      "8033.txt\n",
      "8034.txt\n",
      "8035.txt\n",
      "8036.txt\n"
     ]
    },
    {
     "name": "stderr",
     "output_type": "stream",
     "text": [
      " 68%|██████▊   | 7318/10742 [04:25<02:12, 25.82it/s]"
     ]
    },
    {
     "name": "stdout",
     "output_type": "stream",
     "text": [
      "8037.txt\n",
      "8038.txt\n",
      "8039.txt\n",
      "8040.txt\n",
      "8041.txt\n",
      "8042.txt\n"
     ]
    },
    {
     "name": "stderr",
     "output_type": "stream",
     "text": [
      " 68%|██████▊   | 7324/10742 [04:25<02:11, 25.90it/s]"
     ]
    },
    {
     "name": "stdout",
     "output_type": "stream",
     "text": [
      "8043.txt\n",
      "8044.txt\n",
      "8045.txt\n",
      "8046.txt\n",
      "8047.txt\n",
      "8048.txt\n"
     ]
    },
    {
     "name": "stderr",
     "output_type": "stream",
     "text": [
      " 68%|██████▊   | 7330/10742 [04:25<02:08, 26.56it/s]"
     ]
    },
    {
     "name": "stdout",
     "output_type": "stream",
     "text": [
      "8049.txt\n",
      "8050.txt\n",
      "8051.txt\n",
      "8052.txt\n",
      "8053.txt\n",
      "8054.txt\n"
     ]
    },
    {
     "name": "stderr",
     "output_type": "stream",
     "text": [
      " 68%|██████▊   | 7336/10742 [04:26<02:04, 27.26it/s]"
     ]
    },
    {
     "name": "stdout",
     "output_type": "stream",
     "text": [
      "8055.txt\n",
      "8056.txt\n",
      "8057.txt\n",
      "8058.txt\n",
      "8059.txt\n",
      "8060.txt\n",
      "8061.txt\n"
     ]
    },
    {
     "name": "stderr",
     "output_type": "stream",
     "text": [
      " 68%|██████▊   | 7344/10742 [04:26<01:57, 29.04it/s]"
     ]
    },
    {
     "name": "stdout",
     "output_type": "stream",
     "text": [
      "8062.txt\n",
      "8063.txt\n",
      "8064.txt\n",
      "8065.txt\n",
      "8066.txt\n",
      "8067.txt\n",
      "8068.txt\n"
     ]
    },
    {
     "name": "stderr",
     "output_type": "stream",
     "text": [
      " 68%|██████▊   | 7351/10742 [04:26<01:54, 29.60it/s]"
     ]
    },
    {
     "name": "stdout",
     "output_type": "stream",
     "text": [
      "8069.txt\n",
      "8070.txt\n",
      "8071.txt\n",
      "8072.txt\n",
      "8073.txt\n",
      "8074.txt\n",
      "8075.txt\n"
     ]
    },
    {
     "name": "stderr",
     "output_type": "stream",
     "text": [
      " 68%|██████▊   | 7358/10742 [04:26<01:52, 30.02it/s]"
     ]
    },
    {
     "name": "stdout",
     "output_type": "stream",
     "text": [
      "8076.txt\n",
      "8077.txt\n",
      "8078.txt\n",
      "8079.txt\n",
      "8080.txt\n",
      "8081.txt\n",
      "8082.txt\n"
     ]
    },
    {
     "name": "stderr",
     "output_type": "stream",
     "text": [
      " 69%|██████▊   | 7364/10742 [04:27<01:53, 29.81it/s]"
     ]
    },
    {
     "name": "stdout",
     "output_type": "stream",
     "text": [
      "8083.txt\n",
      "8084.txt\n",
      "8085.txt\n",
      "8086.txt\n",
      "8087.txt\n",
      "8088.txt\n",
      "8089.txt\n"
     ]
    },
    {
     "name": "stderr",
     "output_type": "stream",
     "text": [
      " 69%|██████▊   | 7371/10742 [04:27<02:03, 27.37it/s]"
     ]
    },
    {
     "name": "stdout",
     "output_type": "stream",
     "text": [
      "8090.txt\n",
      "8091.txt\n",
      "8092.txt\n",
      "8093.txt\n",
      "8094.txt\n"
     ]
    },
    {
     "name": "stderr",
     "output_type": "stream",
     "text": [
      "\r",
      " 69%|██████▊   | 7374/10742 [04:27<02:08, 26.30it/s]"
     ]
    },
    {
     "name": "stdout",
     "output_type": "stream",
     "text": [
      "8095.txt\n",
      "8096.txt\n",
      "8097.txt\n",
      "8098.txt\n",
      "8099.txt\n"
     ]
    },
    {
     "name": "stderr",
     "output_type": "stream",
     "text": [
      " 69%|██████▊   | 7380/10742 [04:27<02:22, 23.62it/s]"
     ]
    },
    {
     "name": "stdout",
     "output_type": "stream",
     "text": [
      "8100.txt\n",
      "8101.txt\n",
      "8102.txt\n",
      "8103.txt\n",
      "8104.txt\n"
     ]
    },
    {
     "name": "stderr",
     "output_type": "stream",
     "text": [
      " 69%|██████▉   | 7386/10742 [04:27<02:19, 24.09it/s]"
     ]
    },
    {
     "name": "stdout",
     "output_type": "stream",
     "text": [
      "8105.txt\n",
      "8106.txt\n",
      "8107.txt\n",
      "8108.txt\n",
      "8109.txt\n"
     ]
    },
    {
     "name": "stderr",
     "output_type": "stream",
     "text": [
      " 69%|██████▉   | 7392/10742 [04:28<02:10, 25.70it/s]"
     ]
    },
    {
     "name": "stdout",
     "output_type": "stream",
     "text": [
      "8110.txt\n",
      "8111.txt\n",
      "8112.txt\n",
      "8113.txt\n",
      "8114.txt\n",
      "8115.txt\n"
     ]
    },
    {
     "name": "stderr",
     "output_type": "stream",
     "text": [
      " 69%|██████▉   | 7399/10742 [04:28<01:58, 28.10it/s]"
     ]
    },
    {
     "name": "stdout",
     "output_type": "stream",
     "text": [
      "8116.txt\n",
      "8117.txt\n",
      "8118.txt\n",
      "8119.txt\n",
      "8120.txt\n",
      "8121.txt\n"
     ]
    },
    {
     "name": "stderr",
     "output_type": "stream",
     "text": [
      "\r",
      " 69%|██████▉   | 7402/10742 [04:28<01:57, 28.33it/s]"
     ]
    },
    {
     "name": "stdout",
     "output_type": "stream",
     "text": [
      "8122.txt\n",
      "8123.txt\n",
      "8124.txt\n",
      "8125.txt\n",
      "8126.txt\n",
      "8127.txt\n"
     ]
    },
    {
     "name": "stderr",
     "output_type": "stream",
     "text": [
      " 69%|██████▉   | 7409/10742 [04:28<01:54, 29.21it/s]"
     ]
    },
    {
     "name": "stdout",
     "output_type": "stream",
     "text": [
      "8128.txt\n",
      "8129.txt\n",
      "8130.txt\n",
      "8131.txt\n",
      "8132.txt\n",
      "8133.txt\n",
      "8134.txt\n"
     ]
    },
    {
     "name": "stderr",
     "output_type": "stream",
     "text": [
      " 69%|██████▉   | 7415/10742 [04:28<01:59, 27.87it/s]"
     ]
    },
    {
     "name": "stdout",
     "output_type": "stream",
     "text": [
      "8135.txt\n",
      "8136.txt\n",
      "8137.txt\n",
      "8138.txt\n",
      "8139.txt\n",
      "8140.txt\n"
     ]
    },
    {
     "name": "stderr",
     "output_type": "stream",
     "text": [
      " 69%|██████▉   | 7421/10742 [04:29<01:55, 28.77it/s]"
     ]
    },
    {
     "name": "stdout",
     "output_type": "stream",
     "text": [
      "8141.txt\n",
      "8142.txt\n",
      "8143.txt\n",
      "8144.txt\n",
      "8145.txt\n",
      "8146.txt\n",
      "8147.txt\n"
     ]
    },
    {
     "name": "stderr",
     "output_type": "stream",
     "text": [
      " 69%|██████▉   | 7428/10742 [04:29<01:54, 28.91it/s]"
     ]
    },
    {
     "name": "stdout",
     "output_type": "stream",
     "text": [
      "8148.txt\n",
      "8149.txt\n",
      "8150.txt\n",
      "8151.txt\n",
      "8152.txt\n",
      "8153.txt\n"
     ]
    },
    {
     "name": "stderr",
     "output_type": "stream",
     "text": [
      " 69%|██████▉   | 7435/10742 [04:29<01:53, 29.12it/s]"
     ]
    },
    {
     "name": "stdout",
     "output_type": "stream",
     "text": [
      "8154.txt\n",
      "8155.txt\n",
      "8156.txt\n",
      "8157.txt\n",
      "8158.txt\n",
      "8159.txt\n"
     ]
    },
    {
     "name": "stderr",
     "output_type": "stream",
     "text": [
      " 69%|██████▉   | 7442/10742 [04:29<01:51, 29.56it/s]"
     ]
    },
    {
     "name": "stdout",
     "output_type": "stream",
     "text": [
      "8160.txt\n",
      "8161.txt\n",
      "8162.txt\n",
      "8163.txt\n",
      "8164.txt\n",
      "8165.txt\n",
      "8166.txt\n"
     ]
    },
    {
     "name": "stderr",
     "output_type": "stream",
     "text": [
      " 69%|██████▉   | 7449/10742 [04:30<01:51, 29.44it/s]"
     ]
    },
    {
     "name": "stdout",
     "output_type": "stream",
     "text": [
      "8167.txt\n",
      "8168.txt\n",
      "8169.txt\n",
      "8170.txt\n",
      "8171.txt\n",
      "8172.txt\n"
     ]
    },
    {
     "name": "stderr",
     "output_type": "stream",
     "text": [
      " 69%|██████▉   | 7455/10742 [04:30<02:04, 26.41it/s]"
     ]
    },
    {
     "name": "stdout",
     "output_type": "stream",
     "text": [
      "8173.txt\n",
      "8174.txt\n",
      "8175.txt\n",
      "8176.txt\n",
      "8177.txt\n"
     ]
    },
    {
     "name": "stderr",
     "output_type": "stream",
     "text": [
      "\r",
      " 69%|██████▉   | 7458/10742 [04:30<02:07, 25.82it/s]"
     ]
    },
    {
     "name": "stdout",
     "output_type": "stream",
     "text": [
      "8178.txt\n",
      "8179.txt\n",
      "8180.txt\n",
      "8181.txt\n",
      "8182.txt\n"
     ]
    },
    {
     "name": "stderr",
     "output_type": "stream",
     "text": [
      " 69%|██████▉   | 7464/10742 [04:30<02:11, 24.89it/s]"
     ]
    },
    {
     "name": "stdout",
     "output_type": "stream",
     "text": [
      "8183.txt\n",
      "8184.txt\n",
      "8185.txt\n",
      "8186.txt\n",
      "8187.txt\n"
     ]
    },
    {
     "name": "stderr",
     "output_type": "stream",
     "text": [
      " 70%|██████▉   | 7470/10742 [04:31<02:15, 24.10it/s]"
     ]
    },
    {
     "name": "stdout",
     "output_type": "stream",
     "text": [
      "8188.txt\n",
      "8189.txt\n",
      "8190.txt\n",
      "8191.txt\n",
      "8192.txt\n"
     ]
    },
    {
     "name": "stderr",
     "output_type": "stream",
     "text": [
      "\r",
      " 70%|██████▉   | 7473/10742 [04:31<02:08, 25.48it/s]"
     ]
    },
    {
     "name": "stdout",
     "output_type": "stream",
     "text": [
      "8193.txt\n",
      "8194.txt\n",
      "8195.txt\n",
      "8196.txt\n",
      "8197.txt\n",
      "8198.txt\n",
      "8199.txt\n"
     ]
    },
    {
     "name": "stderr",
     "output_type": "stream",
     "text": [
      " 70%|██████▉   | 7480/10742 [04:31<01:58, 27.45it/s]"
     ]
    },
    {
     "name": "stdout",
     "output_type": "stream",
     "text": [
      "8200.txt\n",
      "8201.txt\n",
      "8202.txt\n",
      "8203.txt\n",
      "8204.txt\n",
      "8205.txt\n",
      "8206.txt\n"
     ]
    },
    {
     "name": "stderr",
     "output_type": "stream",
     "text": [
      " 70%|██████▉   | 7487/10742 [04:31<01:52, 28.92it/s]"
     ]
    },
    {
     "name": "stdout",
     "output_type": "stream",
     "text": [
      "8207.txt\n",
      "8208.txt\n",
      "8209.txt\n",
      "8210.txt\n",
      "8211.txt\n",
      "8212.txt\n"
     ]
    },
    {
     "name": "stderr",
     "output_type": "stream",
     "text": [
      " 70%|██████▉   | 7495/10742 [04:31<01:51, 29.22it/s]"
     ]
    },
    {
     "name": "stdout",
     "output_type": "stream",
     "text": [
      "8213.txt\n",
      "8214.txt\n",
      "8215.txt\n",
      "8216.txt\n",
      "8217.txt\n",
      "8218.txt\n",
      "8219.txt\n"
     ]
    },
    {
     "name": "stderr",
     "output_type": "stream",
     "text": [
      " 70%|██████▉   | 7502/10742 [04:32<01:52, 28.80it/s]"
     ]
    },
    {
     "name": "stdout",
     "output_type": "stream",
     "text": [
      "8220.txt\n",
      "8221.txt\n",
      "8222.txt\n",
      "8223.txt\n",
      "8224.txt\n",
      "8225.txt\n",
      "8226.txt\n"
     ]
    },
    {
     "name": "stderr",
     "output_type": "stream",
     "text": [
      " 70%|██████▉   | 7510/10742 [04:32<01:48, 29.88it/s]"
     ]
    },
    {
     "name": "stdout",
     "output_type": "stream",
     "text": [
      "8227.txt\n",
      "8228.txt\n",
      "8229.txt\n",
      "8230.txt\n",
      "8231.txt\n",
      "8232.txt\n"
     ]
    },
    {
     "name": "stderr",
     "output_type": "stream",
     "text": [
      "\r",
      " 70%|██████▉   | 7513/10742 [04:32<01:54, 28.16it/s]"
     ]
    },
    {
     "name": "stdout",
     "output_type": "stream",
     "text": [
      "8233.txt\n",
      "8234.txt\n",
      "8235.txt\n",
      "8236.txt\n",
      "8237.txt\n"
     ]
    },
    {
     "name": "stderr",
     "output_type": "stream",
     "text": [
      " 70%|██████▉   | 7519/10742 [04:32<02:02, 26.21it/s]"
     ]
    },
    {
     "name": "stdout",
     "output_type": "stream",
     "text": [
      "8238.txt\n",
      "8239.txt\n",
      "8240.txt\n",
      "8241.txt\n",
      "8242.txt\n",
      "8243.txt\n"
     ]
    },
    {
     "name": "stderr",
     "output_type": "stream",
     "text": [
      " 70%|███████   | 7525/10742 [04:32<02:00, 26.62it/s]"
     ]
    },
    {
     "name": "stdout",
     "output_type": "stream",
     "text": [
      "8244.txt\n",
      "8245.txt\n",
      "8246.txt\n",
      "8247.txt\n",
      "8248.txt\n",
      "8249.txt\n"
     ]
    },
    {
     "name": "stderr",
     "output_type": "stream",
     "text": [
      " 70%|███████   | 7531/10742 [04:33<02:19, 23.03it/s]"
     ]
    },
    {
     "name": "stdout",
     "output_type": "stream",
     "text": [
      "8250.txt\n",
      "8251.txt\n",
      "8252.txt\n",
      "8253.txt\n"
     ]
    },
    {
     "name": "stderr",
     "output_type": "stream",
     "text": [
      "\r",
      " 70%|███████   | 7534/10742 [04:33<02:22, 22.55it/s]"
     ]
    },
    {
     "name": "stdout",
     "output_type": "stream",
     "text": [
      "8254.txt\n",
      "8255.txt\n",
      "8256.txt\n",
      "8257.txt\n"
     ]
    },
    {
     "name": "stderr",
     "output_type": "stream",
     "text": [
      "\r",
      " 70%|███████   | 7537/10742 [04:33<02:34, 20.68it/s]"
     ]
    },
    {
     "name": "stdout",
     "output_type": "stream",
     "text": [
      "8258.txt\n",
      "8259.txt\n",
      "8260.txt\n",
      "8261.txt\n",
      "8262.txt\n"
     ]
    },
    {
     "name": "stderr",
     "output_type": "stream",
     "text": [
      " 70%|███████   | 7543/10742 [04:33<02:33, 20.79it/s]"
     ]
    },
    {
     "name": "stdout",
     "output_type": "stream",
     "text": [
      "8263.txt\n",
      "8264.txt\n",
      "8265.txt\n",
      "8266.txt\n",
      "8267.txt\n"
     ]
    },
    {
     "name": "stderr",
     "output_type": "stream",
     "text": [
      " 70%|███████   | 7549/10742 [04:34<02:27, 21.65it/s]"
     ]
    },
    {
     "name": "stdout",
     "output_type": "stream",
     "text": [
      "8268.txt\n",
      "8269.txt\n",
      "8270.txt\n",
      "8271.txt\n",
      "8272.txt\n",
      "8273.txt\n"
     ]
    },
    {
     "name": "stderr",
     "output_type": "stream",
     "text": [
      " 70%|███████   | 7556/10742 [04:34<02:05, 25.31it/s]"
     ]
    },
    {
     "name": "stdout",
     "output_type": "stream",
     "text": [
      "8274.txt\n",
      "8275.txt\n",
      "8276.txt\n",
      "8277.txt\n",
      "8278.txt\n",
      "8279.txt\n",
      "8280.txt\n"
     ]
    },
    {
     "name": "stderr",
     "output_type": "stream",
     "text": [
      " 70%|███████   | 7563/10742 [04:34<01:54, 27.79it/s]"
     ]
    },
    {
     "name": "stdout",
     "output_type": "stream",
     "text": [
      "8281.txt\n",
      "8282.txt\n",
      "8283.txt\n",
      "8284.txt\n",
      "8285.txt\n",
      "8286.txt\n",
      "8287.txt\n"
     ]
    },
    {
     "name": "stderr",
     "output_type": "stream",
     "text": [
      " 70%|███████   | 7569/10742 [04:34<01:52, 28.26it/s]"
     ]
    },
    {
     "name": "stdout",
     "output_type": "stream",
     "text": [
      "8288.txt\n",
      "8289.txt\n",
      "8290.txt\n",
      "8291.txt\n",
      "8292.txt\n",
      "8293.txt\n"
     ]
    },
    {
     "name": "stderr",
     "output_type": "stream",
     "text": [
      " 71%|███████   | 7576/10742 [04:35<01:51, 28.33it/s]"
     ]
    },
    {
     "name": "stdout",
     "output_type": "stream",
     "text": [
      "8294.txt\n",
      "8295.txt\n",
      "8296.txt\n",
      "8297.txt\n",
      "8298.txt\n",
      "8299.txt\n"
     ]
    },
    {
     "name": "stderr",
     "output_type": "stream",
     "text": [
      " 71%|███████   | 7583/10742 [04:35<01:48, 29.16it/s]"
     ]
    },
    {
     "name": "stdout",
     "output_type": "stream",
     "text": [
      "8300.txt\n",
      "8301.txt\n",
      "8302.txt\n",
      "8303.txt\n",
      "8304.txt\n",
      "8305.txt\n"
     ]
    },
    {
     "name": "stderr",
     "output_type": "stream",
     "text": [
      "\r",
      " 71%|███████   | 7586/10742 [04:35<01:49, 28.87it/s]"
     ]
    },
    {
     "name": "stdout",
     "output_type": "stream",
     "text": [
      "8306.txt\n",
      "8307.txt\n",
      "8308.txt\n",
      "8309.txt\n",
      "8310.txt\n",
      "8311.txt\n"
     ]
    },
    {
     "name": "stderr",
     "output_type": "stream",
     "text": [
      " 71%|███████   | 7594/10742 [04:35<01:46, 29.62it/s]"
     ]
    },
    {
     "name": "stdout",
     "output_type": "stream",
     "text": [
      "8312.txt\n",
      "8313.txt\n",
      "8314.txt\n",
      "8315.txt\n",
      "8316.txt\n",
      "8317.txt\n"
     ]
    },
    {
     "name": "stderr",
     "output_type": "stream",
     "text": [
      " 71%|███████   | 7601/10742 [04:35<01:45, 29.90it/s]"
     ]
    },
    {
     "name": "stdout",
     "output_type": "stream",
     "text": [
      "8318.txt\n",
      "8319.txt\n",
      "8320.txt\n",
      "8321.txt\n",
      "8322.txt\n",
      "8323.txt\n",
      "8324.txt\n"
     ]
    },
    {
     "name": "stderr",
     "output_type": "stream",
     "text": [
      "\r",
      " 71%|███████   | 7605/10742 [04:36<01:43, 30.19it/s]"
     ]
    },
    {
     "name": "stdout",
     "output_type": "stream",
     "text": [
      "8325.txt\n",
      "8326.txt\n",
      "8327.txt\n",
      "8328.txt\n",
      "8329.txt\n",
      "8330.txt\n",
      "8331.txt\n"
     ]
    },
    {
     "name": "stderr",
     "output_type": "stream",
     "text": [
      " 71%|███████   | 7612/10742 [04:36<01:59, 26.20it/s]"
     ]
    },
    {
     "name": "stdout",
     "output_type": "stream",
     "text": [
      "8332.txt\n",
      "8333.txt\n",
      "8334.txt\n",
      "8335.txt\n",
      "8336.txt\n"
     ]
    },
    {
     "name": "stderr",
     "output_type": "stream",
     "text": [
      " 71%|███████   | 7618/10742 [04:36<02:06, 24.71it/s]"
     ]
    },
    {
     "name": "stdout",
     "output_type": "stream",
     "text": [
      "8337.txt\n",
      "8338.txt\n",
      "8339.txt\n",
      "8340.txt\n",
      "8341.txt\n"
     ]
    },
    {
     "name": "stderr",
     "output_type": "stream",
     "text": [
      " 71%|███████   | 7624/10742 [04:36<02:09, 24.01it/s]"
     ]
    },
    {
     "name": "stdout",
     "output_type": "stream",
     "text": [
      "8342.txt\n",
      "8343.txt\n",
      "8344.txt\n",
      "8345.txt\n",
      "8346.txt\n"
     ]
    },
    {
     "name": "stderr",
     "output_type": "stream",
     "text": [
      "\r",
      " 71%|███████   | 7627/10742 [04:36<02:05, 24.82it/s]"
     ]
    },
    {
     "name": "stdout",
     "output_type": "stream",
     "text": [
      "8347.txt\n",
      "8348.txt\n",
      "8349.txt\n",
      "8350.txt\n",
      "8351.txt\n",
      "8352.txt\n"
     ]
    },
    {
     "name": "stderr",
     "output_type": "stream",
     "text": [
      " 71%|███████   | 7635/10742 [04:37<01:52, 27.54it/s]"
     ]
    },
    {
     "name": "stdout",
     "output_type": "stream",
     "text": [
      "8353.txt\n",
      "8354.txt\n",
      "8355.txt\n",
      "8356.txt\n",
      "8357.txt\n",
      "8358.txt\n"
     ]
    },
    {
     "name": "stderr",
     "output_type": "stream",
     "text": [
      " 71%|███████   | 7641/10742 [04:37<01:48, 28.46it/s]"
     ]
    },
    {
     "name": "stdout",
     "output_type": "stream",
     "text": [
      "8359.txt\n",
      "8360.txt\n",
      "8361.txt\n",
      "8362.txt\n",
      "8363.txt\n",
      "8364.txt\n",
      "8365.txt\n"
     ]
    },
    {
     "name": "stderr",
     "output_type": "stream",
     "text": [
      " 71%|███████   | 7647/10742 [04:37<01:47, 28.78it/s]"
     ]
    },
    {
     "name": "stdout",
     "output_type": "stream",
     "text": [
      "8366.txt\n",
      "8367.txt\n",
      "8368.txt\n",
      "8369.txt\n",
      "8370.txt\n",
      "8371.txt\n",
      "8372.txt\n"
     ]
    },
    {
     "name": "stderr",
     "output_type": "stream",
     "text": [
      " 71%|███████▏  | 7654/10742 [04:37<01:46, 29.11it/s]"
     ]
    },
    {
     "name": "stdout",
     "output_type": "stream",
     "text": [
      "8373.txt\n",
      "8374.txt\n",
      "8375.txt\n",
      "8376.txt\n",
      "8377.txt\n",
      "8378.txt\n",
      "8379.txt\n"
     ]
    },
    {
     "name": "stderr",
     "output_type": "stream",
     "text": [
      " 71%|███████▏  | 7660/10742 [04:38<01:47, 28.61it/s]"
     ]
    },
    {
     "name": "stdout",
     "output_type": "stream",
     "text": [
      "8380.txt\n",
      "8381.txt\n",
      "8382.txt\n",
      "8383.txt\n",
      "8384.txt\n",
      "8385.txt\n"
     ]
    },
    {
     "name": "stderr",
     "output_type": "stream",
     "text": [
      " 71%|███████▏  | 7666/10742 [04:38<01:45, 29.17it/s]"
     ]
    },
    {
     "name": "stdout",
     "output_type": "stream",
     "text": [
      "8386.txt\n",
      "8387.txt\n",
      "8388.txt\n",
      "8389.txt\n",
      "8390.txt\n",
      "8391.txt\n",
      "8392.txt\n"
     ]
    },
    {
     "name": "stderr",
     "output_type": "stream",
     "text": [
      " 71%|███████▏  | 7673/10742 [04:38<01:45, 29.10it/s]"
     ]
    },
    {
     "name": "stdout",
     "output_type": "stream",
     "text": [
      "8393.txt\n",
      "8394.txt\n",
      "8395.txt\n",
      "8396.txt\n",
      "8397.txt\n",
      "8398.txt\n"
     ]
    },
    {
     "name": "stderr",
     "output_type": "stream",
     "text": [
      " 72%|███████▏  | 7681/10742 [04:38<01:42, 29.89it/s]"
     ]
    },
    {
     "name": "stdout",
     "output_type": "stream",
     "text": [
      "8399.txt\n",
      "8400.txt\n",
      "8401.txt\n",
      "8402.txt\n",
      "8403.txt\n",
      "8404.txt\n"
     ]
    },
    {
     "name": "stderr",
     "output_type": "stream",
     "text": [
      " 72%|███████▏  | 7687/10742 [04:39<01:52, 27.22it/s]"
     ]
    },
    {
     "name": "stdout",
     "output_type": "stream",
     "text": [
      "8405.txt\n",
      "8406.txt\n",
      "8407.txt\n",
      "8408.txt\n",
      "8409.txt\n",
      "8410.txt\n"
     ]
    },
    {
     "name": "stderr",
     "output_type": "stream",
     "text": [
      " 72%|███████▏  | 7693/10742 [04:39<02:00, 25.26it/s]"
     ]
    },
    {
     "name": "stdout",
     "output_type": "stream",
     "text": [
      "8411.txt\n",
      "8412.txt\n",
      "8413.txt\n",
      "8414.txt\n",
      "8415.txt\n"
     ]
    },
    {
     "name": "stderr",
     "output_type": "stream",
     "text": [
      "\r",
      " 72%|███████▏  | 7696/10742 [04:39<02:05, 24.21it/s]"
     ]
    },
    {
     "name": "stdout",
     "output_type": "stream",
     "text": [
      "8416.txt\n",
      "8417.txt\n",
      "8418.txt\n",
      "8419.txt\n",
      "8420.txt\n"
     ]
    },
    {
     "name": "stderr",
     "output_type": "stream",
     "text": [
      " 72%|███████▏  | 7702/10742 [04:39<02:04, 24.39it/s]"
     ]
    },
    {
     "name": "stdout",
     "output_type": "stream",
     "text": [
      "8421.txt\n",
      "8422.txt\n",
      "8423.txt\n",
      "8424.txt\n",
      "8425.txt\n"
     ]
    },
    {
     "name": "stderr",
     "output_type": "stream",
     "text": [
      " 72%|███████▏  | 7708/10742 [04:39<02:04, 24.28it/s]"
     ]
    },
    {
     "name": "stdout",
     "output_type": "stream",
     "text": [
      "8426.txt\n",
      "8427.txt\n",
      "8428.txt\n",
      "8429.txt\n",
      "8430.txt\n"
     ]
    },
    {
     "name": "stderr",
     "output_type": "stream",
     "text": [
      "\r",
      " 72%|███████▏  | 7711/10742 [04:40<01:58, 25.50it/s]"
     ]
    },
    {
     "name": "stdout",
     "output_type": "stream",
     "text": [
      "8431.txt\n",
      "8432.txt\n",
      "8433.txt\n",
      "8434.txt\n",
      "8435.txt\n",
      "8436.txt\n",
      "8437.txt\n"
     ]
    },
    {
     "name": "stderr",
     "output_type": "stream",
     "text": [
      " 72%|███████▏  | 7721/10742 [04:40<01:47, 28.06it/s]"
     ]
    },
    {
     "name": "stdout",
     "output_type": "stream",
     "text": [
      "8438.txt\n",
      "8439.txt\n",
      "8440.txt\n",
      "8441.txt\n",
      "8442.txt\n",
      "8443.txt\n"
     ]
    },
    {
     "name": "stderr",
     "output_type": "stream",
     "text": [
      "\r",
      " 72%|███████▏  | 7724/10742 [04:40<01:46, 28.42it/s]"
     ]
    },
    {
     "name": "stdout",
     "output_type": "stream",
     "text": [
      "8444.txt\n",
      "8445.txt\n",
      "8446.txt\n",
      "8447.txt\n",
      "8448.txt\n",
      "8449.txt\n"
     ]
    },
    {
     "name": "stderr",
     "output_type": "stream",
     "text": [
      " 72%|███████▏  | 7730/10742 [04:40<01:44, 28.89it/s]"
     ]
    },
    {
     "name": "stdout",
     "output_type": "stream",
     "text": [
      "8450.txt\n",
      "8451.txt\n",
      "8452.txt\n",
      "8453.txt\n",
      "8454.txt\n",
      "8455.txt\n"
     ]
    },
    {
     "name": "stderr",
     "output_type": "stream",
     "text": [
      " 72%|███████▏  | 7737/10742 [04:40<01:41, 29.56it/s]"
     ]
    },
    {
     "name": "stdout",
     "output_type": "stream",
     "text": [
      "8456.txt\n",
      "8457.txt\n",
      "8458.txt\n",
      "8459.txt\n",
      "8460.txt\n",
      "8461.txt\n",
      "8462.txt\n"
     ]
    },
    {
     "name": "stderr",
     "output_type": "stream",
     "text": [
      " 72%|███████▏  | 7744/10742 [04:41<01:42, 29.26it/s]"
     ]
    },
    {
     "name": "stdout",
     "output_type": "stream",
     "text": [
      "8463.txt\n",
      "8464.txt\n",
      "8465.txt\n",
      "8466.txt\n",
      "8467.txt\n",
      "8468.txt\n"
     ]
    },
    {
     "name": "stderr",
     "output_type": "stream",
     "text": [
      " 72%|███████▏  | 7751/10742 [04:41<01:39, 29.94it/s]"
     ]
    },
    {
     "name": "stdout",
     "output_type": "stream",
     "text": [
      "8469.txt\n",
      "8470.txt\n",
      "8471.txt\n",
      "8472.txt\n",
      "8473.txt\n",
      "8474.txt\n",
      "8475.txt\n"
     ]
    },
    {
     "name": "stderr",
     "output_type": "stream",
     "text": [
      " 72%|███████▏  | 7758/10742 [04:41<01:39, 29.86it/s]"
     ]
    },
    {
     "name": "stdout",
     "output_type": "stream",
     "text": [
      "8476.txt\n",
      "8477.txt\n",
      "8478.txt\n",
      "8479.txt\n",
      "8480.txt\n",
      "8481.txt\n",
      "8482.txt\n"
     ]
    },
    {
     "name": "stderr",
     "output_type": "stream",
     "text": [
      " 72%|███████▏  | 7765/10742 [04:41<01:39, 29.86it/s]"
     ]
    },
    {
     "name": "stdout",
     "output_type": "stream",
     "text": [
      "8483.txt\n",
      "8484.txt\n",
      "8485.txt\n",
      "8486.txt\n",
      "8487.txt\n",
      "8488.txt\n"
     ]
    },
    {
     "name": "stderr",
     "output_type": "stream",
     "text": [
      " 72%|███████▏  | 7771/10742 [04:42<01:51, 26.55it/s]"
     ]
    },
    {
     "name": "stdout",
     "output_type": "stream",
     "text": [
      "8489.txt\n",
      "8490.txt\n",
      "8491.txt\n",
      "8492.txt\n",
      "8493.txt\n"
     ]
    },
    {
     "name": "stderr",
     "output_type": "stream",
     "text": [
      "\r",
      " 72%|███████▏  | 7774/10742 [04:42<01:54, 25.98it/s]"
     ]
    },
    {
     "name": "stdout",
     "output_type": "stream",
     "text": [
      "8494.txt\n",
      "8495.txt\n",
      "8496.txt\n",
      "8497.txt\n",
      "8498.txt\n"
     ]
    },
    {
     "name": "stderr",
     "output_type": "stream",
     "text": [
      " 72%|███████▏  | 7780/10742 [04:42<02:01, 24.31it/s]"
     ]
    },
    {
     "name": "stdout",
     "output_type": "stream",
     "text": [
      "8499.txt\n",
      "8500.txt\n",
      "8501.txt\n",
      "8502.txt\n",
      "8503.txt\n"
     ]
    },
    {
     "name": "stderr",
     "output_type": "stream",
     "text": [
      " 72%|███████▏  | 7786/10742 [04:42<02:02, 24.22it/s]"
     ]
    },
    {
     "name": "stdout",
     "output_type": "stream",
     "text": [
      "8504.txt\n",
      "8505.txt\n",
      "8506.txt\n",
      "8507.txt\n",
      "8508.txt\n"
     ]
    },
    {
     "name": "stderr",
     "output_type": "stream",
     "text": [
      "\r",
      " 73%|███████▎  | 7789/10742 [04:42<01:56, 25.29it/s]"
     ]
    },
    {
     "name": "stdout",
     "output_type": "stream",
     "text": [
      "8509.txt\n",
      "8510.txt\n",
      "8511.txt\n",
      "8512.txt\n",
      "8513.txt\n",
      "8514.txt\n"
     ]
    },
    {
     "name": "stderr",
     "output_type": "stream",
     "text": [
      " 73%|███████▎  | 7795/10742 [04:43<01:51, 26.38it/s]"
     ]
    },
    {
     "name": "stdout",
     "output_type": "stream",
     "text": [
      "8515.txt\n",
      "8516.txt\n",
      "8517.txt\n",
      "8518.txt\n",
      "8519.txt\n",
      "8520.txt\n"
     ]
    },
    {
     "name": "stderr",
     "output_type": "stream",
     "text": [
      " 73%|███████▎  | 7802/10742 [04:43<01:44, 28.02it/s]"
     ]
    },
    {
     "name": "stdout",
     "output_type": "stream",
     "text": [
      "8521.txt\n",
      "8522.txt\n",
      "8523.txt\n",
      "8524.txt\n",
      "8525.txt\n",
      "8526.txt\n",
      "8527.txt\n"
     ]
    },
    {
     "name": "stderr",
     "output_type": "stream",
     "text": [
      " 73%|███████▎  | 7809/10742 [04:43<01:41, 28.81it/s]"
     ]
    },
    {
     "name": "stdout",
     "output_type": "stream",
     "text": [
      "8528.txt\n",
      "8529.txt\n",
      "8530.txt\n",
      "8531.txt\n",
      "8532.txt\n",
      "8533.txt\n",
      "8534.txt\n"
     ]
    },
    {
     "name": "stderr",
     "output_type": "stream",
     "text": [
      " 73%|███████▎  | 7817/10742 [04:43<01:38, 29.71it/s]"
     ]
    },
    {
     "name": "stdout",
     "output_type": "stream",
     "text": [
      "8535.txt\n",
      "8536.txt\n",
      "8537.txt\n",
      "8538.txt\n",
      "8539.txt\n",
      "8540.txt\n",
      "8541.txt\n"
     ]
    },
    {
     "name": "stderr",
     "output_type": "stream",
     "text": [
      " 73%|███████▎  | 7824/10742 [04:44<01:38, 29.61it/s]"
     ]
    },
    {
     "name": "stdout",
     "output_type": "stream",
     "text": [
      "8542.txt\n",
      "8543.txt\n",
      "8544.txt\n",
      "8545.txt\n",
      "8546.txt\n",
      "8547.txt\n",
      "8548.txt\n"
     ]
    },
    {
     "name": "stderr",
     "output_type": "stream",
     "text": [
      " 73%|███████▎  | 7830/10742 [04:44<01:45, 27.67it/s]"
     ]
    },
    {
     "name": "stdout",
     "output_type": "stream",
     "text": [
      "8549.txt\n",
      "8550.txt\n",
      "8551.txt\n",
      "8552.txt\n",
      "8553.txt\n",
      "8554.txt\n"
     ]
    },
    {
     "name": "stderr",
     "output_type": "stream",
     "text": [
      " 73%|███████▎  | 7836/10742 [04:44<01:56, 24.97it/s]"
     ]
    },
    {
     "name": "stdout",
     "output_type": "stream",
     "text": [
      "8555.txt\n",
      "8556.txt\n",
      "8557.txt\n",
      "8558.txt\n",
      "8559.txt\n"
     ]
    },
    {
     "name": "stderr",
     "output_type": "stream",
     "text": [
      " 73%|███████▎  | 7842/10742 [04:44<01:50, 26.19it/s]"
     ]
    },
    {
     "name": "stdout",
     "output_type": "stream",
     "text": [
      "8560.txt\n",
      "8561.txt\n",
      "8562.txt\n",
      "8563.txt\n",
      "8564.txt\n",
      "8565.txt\n"
     ]
    },
    {
     "name": "stderr",
     "output_type": "stream",
     "text": [
      "\r",
      " 73%|███████▎  | 7845/10742 [04:44<02:02, 23.70it/s]"
     ]
    },
    {
     "name": "stdout",
     "output_type": "stream",
     "text": [
      "8566.txt\n",
      "8567.txt\n",
      "8568.txt\n",
      "8569.txt\n",
      "8570.txt\n"
     ]
    },
    {
     "name": "stderr",
     "output_type": "stream",
     "text": [
      " 73%|███████▎  | 7851/10742 [04:45<02:01, 23.74it/s]"
     ]
    },
    {
     "name": "stdout",
     "output_type": "stream",
     "text": [
      "8571.txt\n",
      "8572.txt\n",
      "8573.txt\n",
      "8574.txt\n"
     ]
    },
    {
     "name": "stderr",
     "output_type": "stream",
     "text": [
      " 73%|███████▎  | 7857/10742 [04:45<02:06, 22.88it/s]"
     ]
    },
    {
     "name": "stdout",
     "output_type": "stream",
     "text": [
      "8575.txt\n",
      "8576.txt\n",
      "8577.txt\n",
      "8578.txt\n",
      "8579.txt\n"
     ]
    },
    {
     "name": "stderr",
     "output_type": "stream",
     "text": [
      "\r",
      " 73%|███████▎  | 7860/10742 [04:45<02:02, 23.61it/s]"
     ]
    },
    {
     "name": "stdout",
     "output_type": "stream",
     "text": [
      "8580.txt\n",
      "8581.txt\n",
      "8582.txt\n",
      "8583.txt\n",
      "8584.txt\n"
     ]
    },
    {
     "name": "stderr",
     "output_type": "stream",
     "text": [
      " 73%|███████▎  | 7867/10742 [04:45<01:56, 24.75it/s]"
     ]
    },
    {
     "name": "stdout",
     "output_type": "stream",
     "text": [
      "8585.txt\n",
      "8586.txt\n",
      "8587.txt\n",
      "8588.txt\n",
      "8589.txt\n",
      "8590.txt\n",
      "8591.txt\n"
     ]
    },
    {
     "name": "stderr",
     "output_type": "stream",
     "text": [
      " 73%|███████▎  | 7873/10742 [04:46<01:52, 25.59it/s]"
     ]
    },
    {
     "name": "stdout",
     "output_type": "stream",
     "text": [
      "8592.txt\n",
      "8593.txt\n",
      "8594.txt\n",
      "8595.txt\n",
      "8596.txt\n",
      "8597.txt\n"
     ]
    },
    {
     "name": "stderr",
     "output_type": "stream",
     "text": [
      " 73%|███████▎  | 7879/10742 [04:46<01:50, 25.90it/s]"
     ]
    },
    {
     "name": "stdout",
     "output_type": "stream",
     "text": [
      "8598.txt\n",
      "8599.txt\n",
      "8600.txt\n",
      "8601.txt\n",
      "8602.txt\n",
      "8603.txt\n"
     ]
    },
    {
     "name": "stderr",
     "output_type": "stream",
     "text": [
      " 73%|███████▎  | 7886/10742 [04:46<01:41, 28.03it/s]"
     ]
    },
    {
     "name": "stdout",
     "output_type": "stream",
     "text": [
      "8604.txt\n",
      "8605.txt\n",
      "8606.txt\n",
      "8607.txt\n",
      "8608.txt\n",
      "8609.txt\n",
      "8610.txt\n"
     ]
    },
    {
     "name": "stderr",
     "output_type": "stream",
     "text": [
      " 73%|███████▎  | 7892/10742 [04:46<01:49, 26.10it/s]"
     ]
    },
    {
     "name": "stdout",
     "output_type": "stream",
     "text": [
      "8611.txt\n",
      "8612.txt\n",
      "8613.txt\n",
      "8614.txt\n",
      "8615.txt\n"
     ]
    },
    {
     "name": "stderr",
     "output_type": "stream",
     "text": [
      " 74%|███████▎  | 7899/10742 [04:47<01:41, 27.99it/s]"
     ]
    },
    {
     "name": "stdout",
     "output_type": "stream",
     "text": [
      "8616.txt\n",
      "8617.txt\n",
      "8618.txt\n",
      "8619.txt\n",
      "8620.txt\n",
      "8621.txt\n"
     ]
    },
    {
     "name": "stderr",
     "output_type": "stream",
     "text": [
      "\r",
      " 74%|███████▎  | 7902/10742 [04:47<01:40, 28.39it/s]"
     ]
    },
    {
     "name": "stdout",
     "output_type": "stream",
     "text": [
      "8622.txt\n",
      "8623.txt\n",
      "8624.txt\n",
      "8625.txt\n",
      "8626.txt\n",
      "8627.txt\n"
     ]
    },
    {
     "name": "stderr",
     "output_type": "stream",
     "text": [
      " 74%|███████▎  | 7909/10742 [04:47<01:46, 26.72it/s]"
     ]
    },
    {
     "name": "stdout",
     "output_type": "stream",
     "text": [
      "8628.txt\n",
      "8629.txt\n",
      "8630.txt\n",
      "8631.txt\n",
      "8632.txt\n",
      "8633.txt\n"
     ]
    },
    {
     "name": "stderr",
     "output_type": "stream",
     "text": [
      " 74%|███████▎  | 7916/10742 [04:47<01:39, 28.49it/s]"
     ]
    },
    {
     "name": "stdout",
     "output_type": "stream",
     "text": [
      "8634.txt\n",
      "8635.txt\n",
      "8636.txt\n",
      "8637.txt\n",
      "8638.txt\n",
      "8639.txt\n",
      "8640.txt\n"
     ]
    },
    {
     "name": "stderr",
     "output_type": "stream",
     "text": [
      " 74%|███████▎  | 7922/10742 [04:47<01:42, 27.59it/s]"
     ]
    },
    {
     "name": "stdout",
     "output_type": "stream",
     "text": [
      "8641.txt\n",
      "8642.txt\n",
      "8643.txt\n",
      "8644.txt\n",
      "8645.txt\n",
      "8646.txt\n"
     ]
    },
    {
     "name": "stderr",
     "output_type": "stream",
     "text": [
      " 74%|███████▍  | 7928/10742 [04:48<01:53, 24.77it/s]"
     ]
    },
    {
     "name": "stdout",
     "output_type": "stream",
     "text": [
      "8647.txt\n",
      "8648.txt\n",
      "8649.txt\n",
      "8650.txt\n",
      "8651.txt\n"
     ]
    },
    {
     "name": "stderr",
     "output_type": "stream",
     "text": [
      "\r",
      " 74%|███████▍  | 7931/10742 [04:48<01:57, 23.88it/s]"
     ]
    },
    {
     "name": "stdout",
     "output_type": "stream",
     "text": [
      "8652.txt\n",
      "8653.txt\n",
      "8654.txt\n",
      "8655.txt\n",
      "8656.txt\n"
     ]
    },
    {
     "name": "stderr",
     "output_type": "stream",
     "text": [
      " 74%|███████▍  | 7937/10742 [04:48<02:00, 23.23it/s]"
     ]
    },
    {
     "name": "stdout",
     "output_type": "stream",
     "text": [
      "8657.txt\n",
      "8658.txt\n",
      "8659.txt\n",
      "8660.txt\n",
      "8661.txt\n"
     ]
    },
    {
     "name": "stderr",
     "output_type": "stream",
     "text": [
      " 74%|███████▍  | 7943/10742 [04:48<02:06, 22.18it/s]"
     ]
    },
    {
     "name": "stdout",
     "output_type": "stream",
     "text": [
      "8662.txt\n",
      "8663.txt\n",
      "8664.txt\n",
      "8665.txt\n",
      "8666.txt\n"
     ]
    },
    {
     "name": "stderr",
     "output_type": "stream",
     "text": [
      " 74%|███████▍  | 7949/10742 [04:49<01:58, 23.56it/s]"
     ]
    },
    {
     "name": "stdout",
     "output_type": "stream",
     "text": [
      "8667.txt\n",
      "8668.txt\n",
      "8669.txt\n",
      "8670.txt\n",
      "8671.txt\n"
     ]
    },
    {
     "name": "stderr",
     "output_type": "stream",
     "text": [
      "\r",
      " 74%|███████▍  | 7952/10742 [04:49<01:59, 23.27it/s]"
     ]
    },
    {
     "name": "stdout",
     "output_type": "stream",
     "text": [
      "8672.txt\n",
      "8673.txt\n",
      "8674.txt\n",
      "8675.txt\n",
      "8676.txt\n"
     ]
    },
    {
     "name": "stderr",
     "output_type": "stream",
     "text": [
      " 74%|███████▍  | 7958/10742 [04:49<01:53, 24.59it/s]"
     ]
    },
    {
     "name": "stdout",
     "output_type": "stream",
     "text": [
      "8677.txt\n",
      "8678.txt\n",
      "8679.txt\n",
      "8680.txt\n",
      "8681.txt\n",
      "8682.txt\n"
     ]
    },
    {
     "name": "stderr",
     "output_type": "stream",
     "text": [
      " 74%|███████▍  | 7964/10742 [04:49<01:49, 25.29it/s]"
     ]
    },
    {
     "name": "stdout",
     "output_type": "stream",
     "text": [
      "8683.txt\n",
      "8684.txt\n",
      "8685.txt\n",
      "8686.txt\n",
      "8687.txt\n",
      "8688.txt\n"
     ]
    },
    {
     "name": "stderr",
     "output_type": "stream",
     "text": [
      " 74%|███████▍  | 7970/10742 [04:49<01:46, 25.98it/s]"
     ]
    },
    {
     "name": "stdout",
     "output_type": "stream",
     "text": [
      "8689.txt\n",
      "8690.txt\n",
      "8691.txt\n",
      "8692.txt\n",
      "8693.txt\n"
     ]
    },
    {
     "name": "stderr",
     "output_type": "stream",
     "text": [
      " 74%|███████▍  | 7976/10742 [04:50<01:54, 24.24it/s]"
     ]
    },
    {
     "name": "stdout",
     "output_type": "stream",
     "text": [
      "8694.txt\n",
      "8695.txt\n",
      "8696.txt\n",
      "8697.txt\n",
      "8698.txt\n"
     ]
    },
    {
     "name": "stderr",
     "output_type": "stream",
     "text": [
      "\r",
      " 74%|███████▍  | 7979/10742 [04:50<01:48, 25.53it/s]"
     ]
    },
    {
     "name": "stdout",
     "output_type": "stream",
     "text": [
      "8699.txt\n",
      "8700.txt\n",
      "8701.txt\n",
      "8702.txt\n",
      "8703.txt\n",
      "8704.txt\n",
      "8705.txt\n"
     ]
    },
    {
     "name": "stderr",
     "output_type": "stream",
     "text": [
      " 74%|███████▍  | 7987/10742 [04:50<01:36, 28.54it/s]"
     ]
    },
    {
     "name": "stdout",
     "output_type": "stream",
     "text": [
      "8706.txt\n",
      "8707.txt\n",
      "8708.txt\n",
      "8709.txt\n",
      "8710.txt\n",
      "8711.txt\n",
      "8712.txt\n"
     ]
    },
    {
     "name": "stderr",
     "output_type": "stream",
     "text": [
      " 74%|███████▍  | 7994/10742 [04:50<01:41, 27.03it/s]"
     ]
    },
    {
     "name": "stdout",
     "output_type": "stream",
     "text": [
      "8713.txt\n",
      "8714.txt\n",
      "8715.txt\n",
      "8716.txt\n",
      "8717.txt\n",
      "8718.txt\n"
     ]
    },
    {
     "name": "stderr",
     "output_type": "stream",
     "text": [
      " 74%|███████▍  | 8000/10742 [04:51<01:47, 25.57it/s]"
     ]
    },
    {
     "name": "stdout",
     "output_type": "stream",
     "text": [
      "8719.txt\n",
      "8720.txt\n",
      "8721.txt\n",
      "8722.txt\n",
      "8723.txt\n",
      "8724.txt\n"
     ]
    },
    {
     "name": "stderr",
     "output_type": "stream",
     "text": [
      " 75%|███████▍  | 8006/10742 [04:51<01:48, 25.29it/s]"
     ]
    },
    {
     "name": "stdout",
     "output_type": "stream",
     "text": [
      "8725.txt\n",
      "8726.txt\n",
      "8727.txt\n",
      "8728.txt\n",
      "8729.txt\n",
      "8730.txt\n"
     ]
    },
    {
     "name": "stderr",
     "output_type": "stream",
     "text": [
      " 75%|███████▍  | 8012/10742 [04:51<01:48, 25.27it/s]"
     ]
    },
    {
     "name": "stdout",
     "output_type": "stream",
     "text": [
      "8731.txt\n",
      "8732.txt\n",
      "8733.txt\n",
      "8734.txt\n",
      "8735.txt\n",
      "8736.txt\n"
     ]
    },
    {
     "name": "stderr",
     "output_type": "stream",
     "text": [
      " 75%|███████▍  | 8019/10742 [04:51<01:38, 27.74it/s]"
     ]
    },
    {
     "name": "stdout",
     "output_type": "stream",
     "text": [
      "8737.txt\n",
      "8738.txt\n",
      "8739.txt\n",
      "8740.txt\n",
      "8741.txt\n",
      "8742.txt\n",
      "8743.txt\n"
     ]
    },
    {
     "name": "stderr",
     "output_type": "stream",
     "text": [
      " 75%|███████▍  | 8025/10742 [04:51<01:38, 27.71it/s]"
     ]
    },
    {
     "name": "stdout",
     "output_type": "stream",
     "text": [
      "8744.txt\n",
      "8745.txt\n",
      "8746.txt\n",
      "8747.txt\n",
      "8748.txt\n",
      "8749.txt\n",
      "8750.txt\n"
     ]
    },
    {
     "name": "stderr",
     "output_type": "stream",
     "text": [
      " 75%|███████▍  | 8032/10742 [04:52<01:33, 28.88it/s]"
     ]
    },
    {
     "name": "stdout",
     "output_type": "stream",
     "text": [
      "8751.txt\n",
      "8752.txt\n",
      "8753.txt\n",
      "8754.txt\n",
      "8755.txt\n",
      "8756.txt\n"
     ]
    },
    {
     "name": "stderr",
     "output_type": "stream",
     "text": [
      " 75%|███████▍  | 8039/10742 [04:52<01:30, 29.72it/s]"
     ]
    },
    {
     "name": "stdout",
     "output_type": "stream",
     "text": [
      "8757.txt\n",
      "8758.txt\n",
      "8759.txt\n",
      "8760.txt\n",
      "8761.txt\n",
      "8762.txt\n",
      "8763.txt\n"
     ]
    },
    {
     "name": "stderr",
     "output_type": "stream",
     "text": [
      " 75%|███████▍  | 8046/10742 [04:52<01:29, 30.18it/s]"
     ]
    },
    {
     "name": "stdout",
     "output_type": "stream",
     "text": [
      "8764.txt\n",
      "8765.txt\n",
      "8766.txt\n",
      "8767.txt\n",
      "8768.txt\n",
      "8769.txt\n",
      "8770.txt\n"
     ]
    },
    {
     "name": "stderr",
     "output_type": "stream",
     "text": [
      " 75%|███████▍  | 8054/10742 [04:52<01:27, 30.61it/s]"
     ]
    },
    {
     "name": "stdout",
     "output_type": "stream",
     "text": [
      "8771.txt\n",
      "8772.txt\n",
      "8773.txt\n",
      "8774.txt\n",
      "8775.txt\n",
      "8776.txt\n",
      "8777.txt\n"
     ]
    },
    {
     "name": "stderr",
     "output_type": "stream",
     "text": [
      "\r",
      " 75%|███████▌  | 8058/10742 [04:53<01:28, 30.41it/s]"
     ]
    },
    {
     "name": "stdout",
     "output_type": "stream",
     "text": [
      "8778.txt\n",
      "8779.txt\n",
      "8780.txt\n",
      "8781.txt\n",
      "8782.txt\n",
      "8783.txt\n",
      "8784.txt\n"
     ]
    },
    {
     "name": "stderr",
     "output_type": "stream",
     "text": [
      " 75%|███████▌  | 8066/10742 [04:53<01:27, 30.47it/s]"
     ]
    },
    {
     "name": "stdout",
     "output_type": "stream",
     "text": [
      "8785.txt\n",
      "8786.txt\n",
      "8787.txt\n",
      "8788.txt\n",
      "8789.txt\n",
      "8790.txt\n"
     ]
    },
    {
     "name": "stderr",
     "output_type": "stream",
     "text": [
      " 75%|███████▌  | 8074/10742 [04:53<01:29, 29.86it/s]"
     ]
    },
    {
     "name": "stdout",
     "output_type": "stream",
     "text": [
      "8791.txt\n",
      "8792.txt\n",
      "8793.txt\n",
      "8794.txt\n",
      "8795.txt\n",
      "8796.txt\n"
     ]
    },
    {
     "name": "stderr",
     "output_type": "stream",
     "text": [
      "\r",
      " 75%|███████▌  | 8077/10742 [04:53<01:33, 28.59it/s]"
     ]
    },
    {
     "name": "stdout",
     "output_type": "stream",
     "text": [
      "8797.txt\n",
      "8798.txt\n",
      "8799.txt\n",
      "8800.txt\n",
      "8801.txt\n"
     ]
    },
    {
     "name": "stderr",
     "output_type": "stream",
     "text": [
      " 75%|███████▌  | 8083/10742 [04:53<01:39, 26.64it/s]"
     ]
    },
    {
     "name": "stdout",
     "output_type": "stream",
     "text": [
      "8802.txt\n",
      "8803.txt\n",
      "8804.txt\n",
      "8805.txt\n",
      "8806.txt\n",
      "8807.txt\n"
     ]
    },
    {
     "name": "stderr",
     "output_type": "stream",
     "text": [
      " 75%|███████▌  | 8089/10742 [04:54<01:46, 24.93it/s]"
     ]
    },
    {
     "name": "stdout",
     "output_type": "stream",
     "text": [
      "8808.txt\n",
      "8809.txt\n",
      "8810.txt\n",
      "8811.txt\n",
      "8812.txt\n"
     ]
    },
    {
     "name": "stderr",
     "output_type": "stream",
     "text": [
      " 75%|███████▌  | 8095/10742 [04:54<01:46, 24.83it/s]"
     ]
    },
    {
     "name": "stdout",
     "output_type": "stream",
     "text": [
      "8813.txt\n",
      "8814.txt\n",
      "8815.txt\n",
      "8816.txt\n",
      "8817.txt\n"
     ]
    },
    {
     "name": "stderr",
     "output_type": "stream",
     "text": [
      "\r",
      " 75%|███████▌  | 8099/10742 [04:54<01:39, 26.65it/s]"
     ]
    },
    {
     "name": "stdout",
     "output_type": "stream",
     "text": [
      "8818.txt\n",
      "8819.txt\n",
      "8820.txt\n",
      "8821.txt\n",
      "8822.txt\n",
      "8823.txt\n",
      "8824.txt\n"
     ]
    },
    {
     "name": "stderr",
     "output_type": "stream",
     "text": [
      " 75%|███████▌  | 8107/10742 [04:54<01:31, 28.92it/s]"
     ]
    },
    {
     "name": "stdout",
     "output_type": "stream",
     "text": [
      "8825.txt\n",
      "8826.txt\n",
      "8827.txt\n",
      "8828.txt\n",
      "8829.txt\n",
      "8830.txt\n"
     ]
    },
    {
     "name": "stderr",
     "output_type": "stream",
     "text": [
      "\r",
      " 75%|███████▌  | 8110/10742 [04:54<01:35, 27.61it/s]"
     ]
    },
    {
     "name": "stdout",
     "output_type": "stream",
     "text": [
      "8831.txt\n",
      "8832.txt\n",
      "8833.txt\n",
      "8834.txt\n",
      "8835.txt\n",
      "8836.txt\n"
     ]
    },
    {
     "name": "stderr",
     "output_type": "stream",
     "text": [
      " 76%|███████▌  | 8118/10742 [04:55<01:28, 29.54it/s]"
     ]
    },
    {
     "name": "stdout",
     "output_type": "stream",
     "text": [
      "8837.txt\n",
      "8838.txt\n",
      "8839.txt\n",
      "8840.txt\n",
      "8841.txt\n",
      "8842.txt\n",
      "8843.txt\n"
     ]
    },
    {
     "name": "stderr",
     "output_type": "stream",
     "text": [
      " 76%|███████▌  | 8126/10742 [04:55<01:24, 30.84it/s]"
     ]
    },
    {
     "name": "stdout",
     "output_type": "stream",
     "text": [
      "8844.txt\n",
      "8845.txt\n",
      "8846.txt\n",
      "8847.txt\n",
      "8848.txt\n",
      "8849.txt\n",
      "8850.txt\n"
     ]
    },
    {
     "name": "stderr",
     "output_type": "stream",
     "text": [
      " 76%|███████▌  | 8134/10742 [04:55<01:24, 30.90it/s]"
     ]
    },
    {
     "name": "stdout",
     "output_type": "stream",
     "text": [
      "8851.txt\n",
      "8852.txt\n",
      "8853.txt\n",
      "8854.txt\n",
      "8855.txt\n",
      "8856.txt\n"
     ]
    },
    {
     "name": "stderr",
     "output_type": "stream",
     "text": [
      "\r",
      " 76%|███████▌  | 8138/10742 [04:55<01:25, 30.56it/s]"
     ]
    },
    {
     "name": "stdout",
     "output_type": "stream",
     "text": [
      "8857.txt\n",
      "8858.txt\n",
      "8859.txt\n",
      "8860.txt\n",
      "8861.txt\n",
      "8862.txt\n"
     ]
    },
    {
     "name": "stderr",
     "output_type": "stream",
     "text": [
      " 76%|███████▌  | 8146/10742 [04:56<01:25, 30.41it/s]"
     ]
    },
    {
     "name": "stdout",
     "output_type": "stream",
     "text": [
      "8863.txt\n",
      "8864.txt\n",
      "8865.txt\n",
      "8866.txt\n",
      "8867.txt\n",
      "8868.txt\n"
     ]
    },
    {
     "name": "stderr",
     "output_type": "stream",
     "text": [
      "\r",
      " 76%|███████▌  | 8150/10742 [04:56<01:25, 30.17it/s]"
     ]
    },
    {
     "name": "stdout",
     "output_type": "stream",
     "text": [
      "8869.txt\n",
      "8870.txt\n",
      "8871.txt\n",
      "8872.txt\n",
      "8873.txt\n",
      "8874.txt\n"
     ]
    },
    {
     "name": "stderr",
     "output_type": "stream",
     "text": [
      " 76%|███████▌  | 8158/10742 [04:56<01:28, 29.12it/s]"
     ]
    },
    {
     "name": "stdout",
     "output_type": "stream",
     "text": [
      "8875.txt\n",
      "8876.txt\n",
      "8877.txt\n",
      "8878.txt\n",
      "8879.txt\n",
      "8880.txt\n"
     ]
    },
    {
     "name": "stderr",
     "output_type": "stream",
     "text": [
      "\r",
      " 76%|███████▌  | 8161/10742 [04:56<01:33, 27.52it/s]"
     ]
    },
    {
     "name": "stdout",
     "output_type": "stream",
     "text": [
      "8881.txt\n",
      "8882.txt\n",
      "8883.txt\n",
      "8884.txt\n",
      "8885.txt\n"
     ]
    },
    {
     "name": "stderr",
     "output_type": "stream",
     "text": [
      " 76%|███████▌  | 8167/10742 [04:56<01:40, 25.63it/s]"
     ]
    },
    {
     "name": "stdout",
     "output_type": "stream",
     "text": [
      "8886.txt\n",
      "8887.txt\n",
      "8888.txt\n",
      "8889.txt\n",
      "8890.txt\n",
      "8891.txt\n"
     ]
    },
    {
     "name": "stderr",
     "output_type": "stream",
     "text": [
      " 76%|███████▌  | 8173/10742 [04:57<01:42, 25.04it/s]"
     ]
    },
    {
     "name": "stdout",
     "output_type": "stream",
     "text": [
      "8892.txt\n",
      "8893.txt\n",
      "8894.txt\n",
      "8895.txt\n",
      "8896.txt\n",
      "8897.txt\n"
     ]
    },
    {
     "name": "stderr",
     "output_type": "stream",
     "text": [
      " 76%|███████▌  | 8180/10742 [04:57<01:35, 26.79it/s]"
     ]
    },
    {
     "name": "stdout",
     "output_type": "stream",
     "text": [
      "8898.txt\n",
      "8899.txt\n",
      "8900.txt\n",
      "8901.txt\n",
      "8902.txt\n",
      "8903.txt\n",
      "8904.txt\n"
     ]
    },
    {
     "name": "stderr",
     "output_type": "stream",
     "text": [
      " 76%|███████▌  | 8187/10742 [04:57<01:28, 28.84it/s]"
     ]
    },
    {
     "name": "stdout",
     "output_type": "stream",
     "text": [
      "8905.txt\n",
      "8906.txt\n",
      "8907.txt\n",
      "8908.txt\n",
      "8909.txt\n",
      "8910.txt\n",
      "8911.txt\n"
     ]
    },
    {
     "name": "stderr",
     "output_type": "stream",
     "text": [
      " 76%|███████▋  | 8194/10742 [04:57<01:25, 29.75it/s]"
     ]
    },
    {
     "name": "stdout",
     "output_type": "stream",
     "text": [
      "8912.txt\n",
      "8913.txt\n",
      "8914.txt\n",
      "8915.txt\n",
      "8916.txt\n",
      "8917.txt\n",
      "8918.txt\n"
     ]
    },
    {
     "name": "stderr",
     "output_type": "stream",
     "text": [
      " 76%|███████▋  | 8201/10742 [04:58<01:25, 29.66it/s]"
     ]
    },
    {
     "name": "stdout",
     "output_type": "stream",
     "text": [
      "8919.txt\n",
      "8920.txt\n",
      "8921.txt\n",
      "8922.txt\n",
      "8923.txt\n",
      "8924.txt\n"
     ]
    },
    {
     "name": "stderr",
     "output_type": "stream",
     "text": [
      " 76%|███████▋  | 8208/10742 [04:58<01:23, 30.20it/s]"
     ]
    },
    {
     "name": "stdout",
     "output_type": "stream",
     "text": [
      "8925.txt\n",
      "8926.txt\n",
      "8927.txt\n",
      "8928.txt\n",
      "8929.txt\n",
      "8930.txt\n"
     ]
    },
    {
     "name": "stderr",
     "output_type": "stream",
     "text": [
      "\r",
      " 76%|███████▋  | 8212/10742 [04:58<01:23, 30.41it/s]"
     ]
    },
    {
     "name": "stdout",
     "output_type": "stream",
     "text": [
      "8931.txt\n",
      "8932.txt\n",
      "8933.txt\n",
      "8934.txt\n",
      "8935.txt\n",
      "8936.txt\n"
     ]
    },
    {
     "name": "stderr",
     "output_type": "stream",
     "text": [
      " 77%|███████▋  | 8220/10742 [04:58<01:22, 30.61it/s]"
     ]
    },
    {
     "name": "stdout",
     "output_type": "stream",
     "text": [
      "8937.txt\n",
      "8938.txt\n",
      "8939.txt\n",
      "8940.txt\n",
      "8941.txt\n",
      "8942.txt\n",
      "8943.txt\n"
     ]
    },
    {
     "name": "stderr",
     "output_type": "stream",
     "text": [
      "\r",
      " 77%|███████▋  | 8224/10742 [04:58<01:23, 30.19it/s]"
     ]
    },
    {
     "name": "stdout",
     "output_type": "stream",
     "text": [
      "8944.txt\n",
      "8945.txt\n",
      "8946.txt\n",
      "8947.txt\n",
      "8948.txt\n",
      "8949.txt\n"
     ]
    },
    {
     "name": "stderr",
     "output_type": "stream",
     "text": [
      " 77%|███████▋  | 8232/10742 [04:59<01:21, 30.65it/s]"
     ]
    },
    {
     "name": "stdout",
     "output_type": "stream",
     "text": [
      "8950.txt\n",
      "8951.txt\n",
      "8952.txt\n",
      "8953.txt\n",
      "8954.txt\n",
      "8955.txt\n",
      "8956.txt\n"
     ]
    },
    {
     "name": "stderr",
     "output_type": "stream",
     "text": [
      " 77%|███████▋  | 8240/10742 [04:59<01:24, 29.49it/s]"
     ]
    },
    {
     "name": "stdout",
     "output_type": "stream",
     "text": [
      "8957.txt\n",
      "8958.txt\n",
      "8959.txt\n",
      "8960.txt\n",
      "8961.txt\n",
      "8962.txt\n"
     ]
    },
    {
     "name": "stderr",
     "output_type": "stream",
     "text": [
      "\r",
      " 77%|███████▋  | 8243/10742 [04:59<01:28, 28.27it/s]"
     ]
    },
    {
     "name": "stdout",
     "output_type": "stream",
     "text": [
      "8963.txt\n",
      "8964.txt\n",
      "8965.txt\n",
      "8966.txt\n",
      "8967.txt\n",
      "8968.txt\n"
     ]
    },
    {
     "name": "stderr",
     "output_type": "stream",
     "text": [
      " 77%|███████▋  | 8249/10742 [04:59<01:39, 25.18it/s]"
     ]
    },
    {
     "name": "stdout",
     "output_type": "stream",
     "text": [
      "8969.txt\n",
      "8970.txt\n",
      "8971.txt\n",
      "8972.txt\n",
      "8973.txt\n"
     ]
    },
    {
     "name": "stderr",
     "output_type": "stream",
     "text": [
      " 77%|███████▋  | 8255/10742 [05:00<01:43, 23.93it/s]"
     ]
    },
    {
     "name": "stdout",
     "output_type": "stream",
     "text": [
      "8974.txt\n",
      "8975.txt\n",
      "8976.txt\n",
      "8977.txt\n",
      "8978.txt\n"
     ]
    },
    {
     "name": "stderr",
     "output_type": "stream",
     "text": [
      " 77%|███████▋  | 8262/10742 [05:00<01:36, 25.66it/s]"
     ]
    },
    {
     "name": "stdout",
     "output_type": "stream",
     "text": [
      "8979.txt\n",
      "8980.txt\n",
      "8981.txt\n",
      "8982.txt\n",
      "8983.txt\n",
      "8984.txt\n"
     ]
    },
    {
     "name": "stderr",
     "output_type": "stream",
     "text": [
      " 77%|███████▋  | 8268/10742 [05:00<01:30, 27.46it/s]"
     ]
    },
    {
     "name": "stdout",
     "output_type": "stream",
     "text": [
      "8985.txt\n",
      "8986.txt\n",
      "8987.txt\n",
      "8988.txt\n",
      "8989.txt\n",
      "8990.txt\n"
     ]
    },
    {
     "name": "stderr",
     "output_type": "stream",
     "text": [
      "\r",
      " 77%|███████▋  | 8271/10742 [05:00<01:28, 28.01it/s]"
     ]
    },
    {
     "name": "stdout",
     "output_type": "stream",
     "text": [
      "8991.txt\n",
      "8992.txt\n",
      "8993.txt\n",
      "8994.txt\n",
      "8995.txt\n",
      "8996.txt\n",
      "8997.txt\n"
     ]
    },
    {
     "name": "stderr",
     "output_type": "stream",
     "text": [
      " 77%|███████▋  | 8279/10742 [05:00<01:22, 29.88it/s]"
     ]
    },
    {
     "name": "stdout",
     "output_type": "stream",
     "text": [
      "8998.txt\n",
      "8999.txt\n",
      "9000.txt\n",
      "9001.txt\n",
      "9002.txt\n",
      "9003.txt\n"
     ]
    },
    {
     "name": "stderr",
     "output_type": "stream",
     "text": [
      " 77%|███████▋  | 8286/10742 [05:01<01:25, 28.60it/s]"
     ]
    },
    {
     "name": "stdout",
     "output_type": "stream",
     "text": [
      "9004.txt\n",
      "9005.txt\n",
      "9006.txt\n",
      "9007.txt\n",
      "9008.txt\n",
      "9009.txt\n"
     ]
    },
    {
     "name": "stderr",
     "output_type": "stream",
     "text": [
      " 77%|███████▋  | 8293/10742 [05:01<01:23, 29.21it/s]"
     ]
    },
    {
     "name": "stdout",
     "output_type": "stream",
     "text": [
      "9010.txt\n",
      "9011.txt\n",
      "9012.txt\n",
      "9013.txt\n",
      "9014.txt\n",
      "9015.txt\n"
     ]
    },
    {
     "name": "stderr",
     "output_type": "stream",
     "text": [
      "\r",
      " 77%|███████▋  | 8296/10742 [05:01<01:23, 29.36it/s]"
     ]
    },
    {
     "name": "stdout",
     "output_type": "stream",
     "text": [
      "9016.txt\n",
      "9017.txt\n",
      "9018.txt\n",
      "9019.txt\n",
      "9020.txt\n",
      "9021.txt\n",
      "9022.txt\n"
     ]
    },
    {
     "name": "stderr",
     "output_type": "stream",
     "text": [
      " 77%|███████▋  | 8303/10742 [05:01<01:24, 28.87it/s]"
     ]
    },
    {
     "name": "stdout",
     "output_type": "stream",
     "text": [
      "9023.txt\n",
      "9024.txt\n",
      "9025.txt\n",
      "9026.txt\n",
      "9027.txt\n",
      "9028.txt\n",
      "9029.txt\n"
     ]
    },
    {
     "name": "stderr",
     "output_type": "stream",
     "text": [
      " 77%|███████▋  | 8310/10742 [05:01<01:21, 29.66it/s]"
     ]
    },
    {
     "name": "stdout",
     "output_type": "stream",
     "text": [
      "9030.txt\n",
      "9031.txt\n",
      "9032.txt\n",
      "9033.txt\n",
      "9034.txt\n",
      "9035.txt\n"
     ]
    },
    {
     "name": "stderr",
     "output_type": "stream",
     "text": [
      " 77%|███████▋  | 8319/10742 [05:02<01:23, 28.87it/s]"
     ]
    },
    {
     "name": "stdout",
     "output_type": "stream",
     "text": [
      "9036.txt\n",
      "9037.txt\n",
      "9038.txt\n",
      "9039.txt\n",
      "9040.txt\n",
      "9041.txt\n"
     ]
    },
    {
     "name": "stderr",
     "output_type": "stream",
     "text": [
      "\r",
      " 77%|███████▋  | 8322/10742 [05:02<01:27, 27.69it/s]"
     ]
    },
    {
     "name": "stdout",
     "output_type": "stream",
     "text": [
      "9042.txt\n",
      "9043.txt\n",
      "9044.txt\n",
      "9045.txt\n",
      "9046.txt\n",
      "9047.txt\n"
     ]
    },
    {
     "name": "stderr",
     "output_type": "stream",
     "text": [
      " 78%|███████▊  | 8328/10742 [05:02<01:32, 26.20it/s]"
     ]
    },
    {
     "name": "stdout",
     "output_type": "stream",
     "text": [
      "9048.txt\n",
      "9049.txt\n",
      "9050.txt\n",
      "9051.txt\n",
      "9052.txt\n"
     ]
    },
    {
     "name": "stderr",
     "output_type": "stream",
     "text": [
      " 78%|███████▊  | 8334/10742 [05:02<01:34, 25.35it/s]"
     ]
    },
    {
     "name": "stdout",
     "output_type": "stream",
     "text": [
      "9053.txt\n",
      "9054.txt\n",
      "9055.txt\n",
      "9056.txt\n",
      "9057.txt\n"
     ]
    },
    {
     "name": "stderr",
     "output_type": "stream",
     "text": [
      " 78%|███████▊  | 8340/10742 [05:03<01:39, 24.06it/s]"
     ]
    },
    {
     "name": "stdout",
     "output_type": "stream",
     "text": [
      "9058.txt\n",
      "9059.txt\n",
      "9060.txt\n",
      "9061.txt\n",
      "9062.txt\n"
     ]
    },
    {
     "name": "stderr",
     "output_type": "stream",
     "text": [
      "\r",
      " 78%|███████▊  | 8344/10742 [05:03<01:31, 26.28it/s]"
     ]
    },
    {
     "name": "stdout",
     "output_type": "stream",
     "text": [
      "9063.txt\n",
      "9064.txt\n",
      "9065.txt\n",
      "9066.txt\n",
      "9067.txt\n",
      "9068.txt\n"
     ]
    },
    {
     "name": "stderr",
     "output_type": "stream",
     "text": [
      " 78%|███████▊  | 8352/10742 [05:03<01:22, 28.83it/s]"
     ]
    },
    {
     "name": "stdout",
     "output_type": "stream",
     "text": [
      "9069.txt\n",
      "9070.txt\n",
      "9071.txt\n",
      "9072.txt\n",
      "9073.txt\n",
      "9074.txt\n"
     ]
    },
    {
     "name": "stderr",
     "output_type": "stream",
     "text": [
      "\r",
      " 78%|███████▊  | 8355/10742 [05:03<01:22, 29.00it/s]"
     ]
    },
    {
     "name": "stdout",
     "output_type": "stream",
     "text": [
      "9075.txt\n",
      "9076.txt\n",
      "9077.txt\n",
      "9078.txt\n",
      "9079.txt\n",
      "9080.txt\n"
     ]
    },
    {
     "name": "stderr",
     "output_type": "stream",
     "text": [
      " 78%|███████▊  | 8363/10742 [05:03<01:19, 29.97it/s]"
     ]
    },
    {
     "name": "stdout",
     "output_type": "stream",
     "text": [
      "9081.txt\n",
      "9082.txt\n",
      "9083.txt\n",
      "9084.txt\n",
      "9085.txt\n",
      "9086.txt\n"
     ]
    },
    {
     "name": "stderr",
     "output_type": "stream",
     "text": [
      " 78%|███████▊  | 8370/10742 [05:04<01:20, 29.48it/s]"
     ]
    },
    {
     "name": "stdout",
     "output_type": "stream",
     "text": [
      "9087.txt\n",
      "9088.txt\n",
      "9089.txt\n",
      "9090.txt\n",
      "9091.txt\n",
      "9092.txt\n"
     ]
    },
    {
     "name": "stderr",
     "output_type": "stream",
     "text": [
      "\r",
      " 78%|███████▊  | 8373/10742 [05:04<01:21, 29.09it/s]"
     ]
    },
    {
     "name": "stdout",
     "output_type": "stream",
     "text": [
      "9093.txt\n",
      "9094.txt\n",
      "9095.txt\n",
      "9096.txt\n",
      "9097.txt\n",
      "9098.txt\n"
     ]
    },
    {
     "name": "stderr",
     "output_type": "stream",
     "text": [
      " 78%|███████▊  | 8379/10742 [05:04<01:22, 28.60it/s]"
     ]
    },
    {
     "name": "stdout",
     "output_type": "stream",
     "text": [
      "9099.txt\n",
      "9100.txt\n",
      "9101.txt\n",
      "9102.txt\n",
      "9103.txt\n",
      "9104.txt\n"
     ]
    },
    {
     "name": "stderr",
     "output_type": "stream",
     "text": [
      " 78%|███████▊  | 8385/10742 [05:04<01:27, 26.93it/s]"
     ]
    },
    {
     "name": "stdout",
     "output_type": "stream",
     "text": [
      "9105.txt\n",
      "9106.txt\n",
      "9107.txt\n",
      "9108.txt\n",
      "9109.txt\n",
      "9110.txt\n"
     ]
    },
    {
     "name": "stderr",
     "output_type": "stream",
     "text": [
      " 78%|███████▊  | 8391/10742 [05:04<01:27, 26.94it/s]"
     ]
    },
    {
     "name": "stdout",
     "output_type": "stream",
     "text": [
      "9111.txt\n",
      "9112.txt\n",
      "9113.txt\n",
      "9114.txt\n",
      "9115.txt\n",
      "9116.txt\n"
     ]
    },
    {
     "name": "stderr",
     "output_type": "stream",
     "text": [
      " 78%|███████▊  | 8397/10742 [05:05<01:30, 25.87it/s]"
     ]
    },
    {
     "name": "stdout",
     "output_type": "stream",
     "text": [
      "9117.txt\n",
      "9118.txt\n",
      "9119.txt\n",
      "9120.txt\n"
     ]
    },
    {
     "name": "stderr",
     "output_type": "stream",
     "text": [
      "\r",
      " 78%|███████▊  | 8400/10742 [05:05<01:39, 23.59it/s]"
     ]
    },
    {
     "name": "stdout",
     "output_type": "stream",
     "text": [
      "9121.txt\n",
      "9122.txt\n",
      "9123.txt\n",
      "9124.txt\n",
      "9125.txt\n"
     ]
    },
    {
     "name": "stderr",
     "output_type": "stream",
     "text": [
      " 78%|███████▊  | 8406/10742 [05:05<01:41, 22.94it/s]"
     ]
    },
    {
     "name": "stdout",
     "output_type": "stream",
     "text": [
      "9126.txt\n",
      "9127.txt\n",
      "9128.txt\n",
      "9129.txt\n",
      "9130.txt\n"
     ]
    },
    {
     "name": "stderr",
     "output_type": "stream",
     "text": [
      " 78%|███████▊  | 8412/10742 [05:05<01:40, 23.29it/s]"
     ]
    },
    {
     "name": "stdout",
     "output_type": "stream",
     "text": [
      "9131.txt\n",
      "9132.txt\n",
      "9133.txt\n",
      "9134.txt\n",
      "9135.txt\n"
     ]
    },
    {
     "name": "stderr",
     "output_type": "stream",
     "text": [
      "\r",
      " 78%|███████▊  | 8415/10742 [05:05<01:43, 22.38it/s]"
     ]
    },
    {
     "name": "stdout",
     "output_type": "stream",
     "text": [
      "9136.txt\n",
      "9137.txt\n",
      "9138.txt\n",
      "9139.txt\n",
      "9140.txt\n"
     ]
    },
    {
     "name": "stderr",
     "output_type": "stream",
     "text": [
      " 78%|███████▊  | 8421/10742 [05:06<01:43, 22.53it/s]"
     ]
    },
    {
     "name": "stdout",
     "output_type": "stream",
     "text": [
      "9141.txt\n",
      "9142.txt\n",
      "9143.txt\n",
      "9144.txt\n",
      "9145.txt\n",
      "9146.txt\n"
     ]
    },
    {
     "name": "stderr",
     "output_type": "stream",
     "text": [
      " 78%|███████▊  | 8429/10742 [05:06<01:25, 26.92it/s]"
     ]
    },
    {
     "name": "stdout",
     "output_type": "stream",
     "text": [
      "9147.txt\n",
      "9148.txt\n",
      "9149.txt\n",
      "9150.txt\n",
      "9151.txt\n",
      "9152.txt\n",
      "9153.txt\n"
     ]
    },
    {
     "name": "stderr",
     "output_type": "stream",
     "text": [
      " 79%|███████▊  | 8436/10742 [05:06<01:20, 28.53it/s]"
     ]
    },
    {
     "name": "stdout",
     "output_type": "stream",
     "text": [
      "9154.txt\n",
      "9155.txt\n",
      "9156.txt\n",
      "9157.txt\n",
      "9158.txt\n",
      "9159.txt\n",
      "9160.txt\n"
     ]
    },
    {
     "name": "stderr",
     "output_type": "stream",
     "text": [
      " 79%|███████▊  | 8442/10742 [05:06<01:24, 27.32it/s]"
     ]
    },
    {
     "name": "stdout",
     "output_type": "stream",
     "text": [
      "9161.txt\n",
      "9162.txt\n",
      "9163.txt\n",
      "9164.txt\n",
      "9165.txt\n",
      "9166.txt\n"
     ]
    },
    {
     "name": "stderr",
     "output_type": "stream",
     "text": [
      " 79%|███████▊  | 8450/10742 [05:07<01:17, 29.42it/s]"
     ]
    },
    {
     "name": "stdout",
     "output_type": "stream",
     "text": [
      "9167.txt\n",
      "9168.txt\n",
      "9169.txt\n",
      "9170.txt\n",
      "9171.txt\n",
      "9172.txt\n",
      "9173.txt\n",
      "9174.txt\n"
     ]
    },
    {
     "name": "stderr",
     "output_type": "stream",
     "text": [
      " 79%|███████▊  | 8457/10742 [05:07<01:17, 29.33it/s]"
     ]
    },
    {
     "name": "stdout",
     "output_type": "stream",
     "text": [
      "9175.txt\n",
      "9176.txt\n",
      "9177.txt\n",
      "9178.txt\n",
      "9179.txt\n",
      "9180.txt\n",
      "9181.txt\n"
     ]
    },
    {
     "name": "stderr",
     "output_type": "stream",
     "text": [
      " 79%|███████▉  | 8463/10742 [05:07<01:20, 28.33it/s]"
     ]
    },
    {
     "name": "stdout",
     "output_type": "stream",
     "text": [
      "9182.txt\n",
      "9183.txt\n",
      "9184.txt\n",
      "9185.txt\n",
      "9186.txt\n",
      "9187.txt\n"
     ]
    },
    {
     "name": "stderr",
     "output_type": "stream",
     "text": [
      " 79%|███████▉  | 8470/10742 [05:07<01:16, 29.58it/s]"
     ]
    },
    {
     "name": "stdout",
     "output_type": "stream",
     "text": [
      "9188.txt\n",
      "9189.txt\n",
      "9190.txt\n",
      "9191.txt\n",
      "9192.txt\n",
      "9193.txt\n",
      "9194.txt\n"
     ]
    },
    {
     "name": "stderr",
     "output_type": "stream",
     "text": [
      " 79%|███████▉  | 8477/10742 [05:08<01:14, 30.46it/s]"
     ]
    },
    {
     "name": "stdout",
     "output_type": "stream",
     "text": [
      "9195.txt\n",
      "9196.txt\n",
      "9197.txt\n",
      "9198.txt\n",
      "9199.txt\n",
      "9200.txt\n",
      "9201.txt\n"
     ]
    },
    {
     "name": "stderr",
     "output_type": "stream",
     "text": [
      " 79%|███████▉  | 8484/10742 [05:08<01:24, 26.85it/s]"
     ]
    },
    {
     "name": "stdout",
     "output_type": "stream",
     "text": [
      "9202.txt\n",
      "9203.txt\n",
      "9204.txt\n",
      "9205.txt\n",
      "9206.txt\n"
     ]
    },
    {
     "name": "stderr",
     "output_type": "stream",
     "text": [
      "\r",
      " 79%|███████▉  | 8487/10742 [05:08<01:27, 25.67it/s]"
     ]
    },
    {
     "name": "stdout",
     "output_type": "stream",
     "text": [
      "9207.txt\n",
      "9208.txt\n",
      "9209.txt\n",
      "9210.txt\n",
      "9211.txt\n"
     ]
    },
    {
     "name": "stderr",
     "output_type": "stream",
     "text": [
      " 79%|███████▉  | 8493/10742 [05:08<01:32, 24.42it/s]"
     ]
    },
    {
     "name": "stdout",
     "output_type": "stream",
     "text": [
      "9212.txt\n",
      "9213.txt\n",
      "9214.txt\n",
      "9215.txt\n",
      "9216.txt\n"
     ]
    },
    {
     "name": "stderr",
     "output_type": "stream",
     "text": [
      "\r",
      " 79%|███████▉  | 8496/10742 [05:08<01:40, 22.45it/s]"
     ]
    },
    {
     "name": "stdout",
     "output_type": "stream",
     "text": [
      "9217.txt\n",
      "9218.txt\n",
      "9219.txt\n",
      "9220.txt\n"
     ]
    },
    {
     "name": "stderr",
     "output_type": "stream",
     "text": [
      " 79%|███████▉  | 8503/10742 [05:09<01:32, 24.27it/s]"
     ]
    },
    {
     "name": "stdout",
     "output_type": "stream",
     "text": [
      "9221.txt\n",
      "9222.txt\n",
      "9223.txt\n",
      "9224.txt\n",
      "9225.txt\n",
      "9226.txt\n",
      "9227.txt\n"
     ]
    },
    {
     "name": "stderr",
     "output_type": "stream",
     "text": [
      " 79%|███████▉  | 8509/10742 [05:09<01:28, 25.12it/s]"
     ]
    },
    {
     "name": "stdout",
     "output_type": "stream",
     "text": [
      "9228.txt\n",
      "9229.txt\n",
      "9230.txt\n",
      "9231.txt\n",
      "9232.txt\n",
      "9233.txt\n"
     ]
    },
    {
     "name": "stderr",
     "output_type": "stream",
     "text": [
      " 79%|███████▉  | 8515/10742 [05:09<01:22, 26.91it/s]"
     ]
    },
    {
     "name": "stdout",
     "output_type": "stream",
     "text": [
      "9234.txt\n",
      "9235.txt\n",
      "9236.txt\n",
      "9237.txt\n",
      "9238.txt\n",
      "9239.txt\n"
     ]
    },
    {
     "name": "stderr",
     "output_type": "stream",
     "text": [
      " 79%|███████▉  | 8521/10742 [05:09<01:22, 26.89it/s]"
     ]
    },
    {
     "name": "stdout",
     "output_type": "stream",
     "text": [
      "9240.txt\n",
      "9241.txt\n",
      "9242.txt\n",
      "9243.txt\n",
      "9244.txt\n",
      "9245.txt\n"
     ]
    },
    {
     "name": "stderr",
     "output_type": "stream",
     "text": [
      " 79%|███████▉  | 8528/10742 [05:10<01:17, 28.41it/s]"
     ]
    },
    {
     "name": "stdout",
     "output_type": "stream",
     "text": [
      "9246.txt\n",
      "9247.txt\n",
      "9248.txt\n",
      "9249.txt\n",
      "9250.txt\n",
      "9251.txt\n",
      "9252.txt\n"
     ]
    },
    {
     "name": "stderr",
     "output_type": "stream",
     "text": [
      " 79%|███████▉  | 8535/10742 [05:10<01:15, 29.34it/s]"
     ]
    },
    {
     "name": "stdout",
     "output_type": "stream",
     "text": [
      "9253.txt\n",
      "9254.txt\n",
      "9255.txt\n",
      "9256.txt\n",
      "9257.txt\n",
      "9258.txt\n",
      "9259.txt\n"
     ]
    },
    {
     "name": "stderr",
     "output_type": "stream",
     "text": [
      " 80%|███████▉  | 8542/10742 [05:10<01:13, 29.99it/s]"
     ]
    },
    {
     "name": "stdout",
     "output_type": "stream",
     "text": [
      "9260.txt\n",
      "9261.txt\n",
      "9262.txt\n",
      "9263.txt\n",
      "9264.txt\n",
      "9265.txt\n",
      "9266.txt\n"
     ]
    },
    {
     "name": "stderr",
     "output_type": "stream",
     "text": [
      " 80%|███████▉  | 8549/10742 [05:10<01:12, 30.19it/s]"
     ]
    },
    {
     "name": "stdout",
     "output_type": "stream",
     "text": [
      "9267.txt\n",
      "9268.txt\n",
      "9269.txt\n",
      "9270.txt\n",
      "9271.txt\n",
      "9272.txt\n",
      "9273.txt\n"
     ]
    },
    {
     "name": "stderr",
     "output_type": "stream",
     "text": [
      " 80%|███████▉  | 8556/10742 [05:11<01:14, 29.31it/s]"
     ]
    },
    {
     "name": "stdout",
     "output_type": "stream",
     "text": [
      "9274.txt\n",
      "9275.txt\n",
      "9276.txt\n",
      "9277.txt\n",
      "9278.txt\n",
      "9279.txt\n"
     ]
    },
    {
     "name": "stderr",
     "output_type": "stream",
     "text": [
      "\r",
      " 80%|███████▉  | 8559/10742 [05:11<01:16, 28.42it/s]"
     ]
    },
    {
     "name": "stdout",
     "output_type": "stream",
     "text": [
      "9280.txt\n",
      "9281.txt\n",
      "9282.txt\n",
      "9283.txt\n",
      "9284.txt\n"
     ]
    },
    {
     "name": "stderr",
     "output_type": "stream",
     "text": [
      " 80%|███████▉  | 8565/10742 [05:11<01:22, 26.52it/s]"
     ]
    },
    {
     "name": "stdout",
     "output_type": "stream",
     "text": [
      "9285.txt\n",
      "9286.txt\n",
      "9287.txt\n",
      "9288.txt\n"
     ]
    },
    {
     "name": "stderr",
     "output_type": "stream",
     "text": [
      "\r",
      " 80%|███████▉  | 8568/10742 [05:11<01:31, 23.87it/s]"
     ]
    },
    {
     "name": "stdout",
     "output_type": "stream",
     "text": [
      "9289.txt\n",
      "9290.txt\n",
      "9291.txt\n",
      "9292.txt\n",
      "9293.txt\n"
     ]
    },
    {
     "name": "stderr",
     "output_type": "stream",
     "text": [
      " 80%|███████▉  | 8574/10742 [05:11<01:29, 24.21it/s]"
     ]
    },
    {
     "name": "stdout",
     "output_type": "stream",
     "text": [
      "9294.txt\n",
      "9295.txt\n",
      "9296.txt\n",
      "9297.txt\n",
      "9298.txt\n"
     ]
    },
    {
     "name": "stderr",
     "output_type": "stream",
     "text": [
      " 80%|███████▉  | 8580/10742 [05:12<01:26, 24.86it/s]"
     ]
    },
    {
     "name": "stdout",
     "output_type": "stream",
     "text": [
      "9299.txt\n",
      "9300.txt\n",
      "9301.txt\n",
      "9302.txt\n",
      "9303.txt\n",
      "9304.txt\n"
     ]
    },
    {
     "name": "stderr",
     "output_type": "stream",
     "text": [
      " 80%|███████▉  | 8587/10742 [05:12<01:18, 27.60it/s]"
     ]
    },
    {
     "name": "stdout",
     "output_type": "stream",
     "text": [
      "9305.txt\n",
      "9306.txt\n",
      "9307.txt\n",
      "9308.txt\n",
      "9309.txt\n",
      "9310.txt\n",
      "9311.txt\n"
     ]
    },
    {
     "name": "stderr",
     "output_type": "stream",
     "text": [
      " 80%|███████▉  | 8593/10742 [05:12<01:15, 28.54it/s]"
     ]
    },
    {
     "name": "stdout",
     "output_type": "stream",
     "text": [
      "9312.txt\n",
      "9313.txt\n",
      "9314.txt\n",
      "9315.txt\n",
      "9316.txt\n",
      "9317.txt\n"
     ]
    },
    {
     "name": "stderr",
     "output_type": "stream",
     "text": [
      " 80%|████████  | 8599/10742 [05:12<01:15, 28.37it/s]"
     ]
    },
    {
     "name": "stdout",
     "output_type": "stream",
     "text": [
      "9318.txt\n",
      "9319.txt\n",
      "9320.txt\n",
      "9321.txt\n",
      "9322.txt\n",
      "9323.txt\n",
      "9324.txt\n"
     ]
    },
    {
     "name": "stderr",
     "output_type": "stream",
     "text": [
      " 80%|████████  | 8605/10742 [05:12<01:17, 27.42it/s]"
     ]
    },
    {
     "name": "stdout",
     "output_type": "stream",
     "text": [
      "9325.txt\n",
      "9326.txt\n",
      "9327.txt\n",
      "9328.txt\n",
      "9329.txt\n",
      "9330.txt\n"
     ]
    },
    {
     "name": "stderr",
     "output_type": "stream",
     "text": [
      " 80%|████████  | 8612/10742 [05:13<01:13, 28.85it/s]"
     ]
    },
    {
     "name": "stdout",
     "output_type": "stream",
     "text": [
      "9331.txt\n",
      "9332.txt\n",
      "9333.txt\n",
      "9334.txt\n",
      "9335.txt\n",
      "9336.txt\n",
      "9337.txt\n"
     ]
    },
    {
     "name": "stderr",
     "output_type": "stream",
     "text": [
      " 80%|████████  | 8620/10742 [05:13<01:11, 29.74it/s]"
     ]
    },
    {
     "name": "stdout",
     "output_type": "stream",
     "text": [
      "9338.txt\n",
      "9339.txt\n",
      "9340.txt\n",
      "9341.txt\n",
      "9342.txt\n",
      "9343.txt\n",
      "9344.txt\n"
     ]
    },
    {
     "name": "stderr",
     "output_type": "stream",
     "text": [
      " 80%|████████  | 8627/10742 [05:13<01:11, 29.67it/s]"
     ]
    },
    {
     "name": "stdout",
     "output_type": "stream",
     "text": [
      "9345.txt\n",
      "9346.txt\n",
      "9347.txt\n",
      "9348.txt\n",
      "9349.txt\n",
      "9350.txt\n",
      "9351.txt\n"
     ]
    },
    {
     "name": "stderr",
     "output_type": "stream",
     "text": [
      " 80%|████████  | 8633/10742 [05:13<01:13, 28.68it/s]"
     ]
    },
    {
     "name": "stdout",
     "output_type": "stream",
     "text": [
      "9352.txt\n",
      "9353.txt\n",
      "9354.txt\n",
      "9355.txt\n",
      "9356.txt\n",
      "9357.txt\n"
     ]
    },
    {
     "name": "stderr",
     "output_type": "stream",
     "text": [
      " 80%|████████  | 8639/10742 [05:14<01:27, 23.94it/s]"
     ]
    },
    {
     "name": "stdout",
     "output_type": "stream",
     "text": [
      "9358.txt\n",
      "9359.txt\n",
      "9360.txt\n",
      "9361.txt\n"
     ]
    },
    {
     "name": "stderr",
     "output_type": "stream",
     "text": [
      "\r",
      " 80%|████████  | 8642/10742 [05:14<01:38, 21.29it/s]"
     ]
    },
    {
     "name": "stdout",
     "output_type": "stream",
     "text": [
      "9362.txt\n",
      "9363.txt\n",
      "9364.txt\n",
      "9365.txt\n"
     ]
    },
    {
     "name": "stderr",
     "output_type": "stream",
     "text": [
      "\r",
      " 80%|████████  | 8645/10742 [05:14<01:47, 19.59it/s]"
     ]
    },
    {
     "name": "stdout",
     "output_type": "stream",
     "text": [
      "9366.txt\n",
      "9367.txt\n",
      "9368.txt\n",
      "9369.txt\n"
     ]
    },
    {
     "name": "stderr",
     "output_type": "stream",
     "text": [
      " 81%|████████  | 8650/10742 [05:14<01:48, 19.25it/s]"
     ]
    },
    {
     "name": "stdout",
     "output_type": "stream",
     "text": [
      "9370.txt\n",
      "9371.txt\n",
      "9372.txt\n",
      "9373.txt\n",
      "9374.txt\n"
     ]
    },
    {
     "name": "stderr",
     "output_type": "stream",
     "text": [
      " 81%|████████  | 8654/10742 [05:15<01:53, 18.32it/s]"
     ]
    },
    {
     "name": "stdout",
     "output_type": "stream",
     "text": [
      "9375.txt\n",
      "9376.txt\n",
      "9377.txt\n",
      "9378.txt\n"
     ]
    },
    {
     "name": "stderr",
     "output_type": "stream",
     "text": [
      " 81%|████████  | 8660/10742 [05:15<01:37, 21.43it/s]"
     ]
    },
    {
     "name": "stdout",
     "output_type": "stream",
     "text": [
      "9379.txt\n",
      "9380.txt\n",
      "9381.txt\n",
      "9382.txt\n",
      "9383.txt\n",
      "9384.txt\n"
     ]
    },
    {
     "name": "stderr",
     "output_type": "stream",
     "text": [
      " 81%|████████  | 8666/10742 [05:15<01:24, 24.46it/s]"
     ]
    },
    {
     "name": "stdout",
     "output_type": "stream",
     "text": [
      "9385.txt\n",
      "9386.txt\n",
      "9387.txt\n",
      "9388.txt\n",
      "9389.txt\n",
      "9390.txt\n"
     ]
    },
    {
     "name": "stderr",
     "output_type": "stream",
     "text": [
      " 81%|████████  | 8672/10742 [05:15<01:18, 26.23it/s]"
     ]
    },
    {
     "name": "stdout",
     "output_type": "stream",
     "text": [
      "9391.txt\n",
      "9392.txt\n",
      "9393.txt\n",
      "9394.txt\n",
      "9395.txt\n",
      "9396.txt\n"
     ]
    },
    {
     "name": "stderr",
     "output_type": "stream",
     "text": [
      " 81%|████████  | 8678/10742 [05:15<01:20, 25.50it/s]"
     ]
    },
    {
     "name": "stdout",
     "output_type": "stream",
     "text": [
      "9397.txt\n",
      "9398.txt\n",
      "9399.txt\n",
      "9400.txt\n",
      "9401.txt\n",
      "9402.txt\n"
     ]
    },
    {
     "name": "stderr",
     "output_type": "stream",
     "text": [
      " 81%|████████  | 8684/10742 [05:16<01:15, 27.17it/s]"
     ]
    },
    {
     "name": "stdout",
     "output_type": "stream",
     "text": [
      "9403.txt\n",
      "9404.txt\n",
      "9405.txt\n",
      "9406.txt\n",
      "9407.txt\n",
      "9408.txt\n",
      "9409.txt\n"
     ]
    },
    {
     "name": "stderr",
     "output_type": "stream",
     "text": [
      " 81%|████████  | 8690/10742 [05:16<01:14, 27.68it/s]"
     ]
    },
    {
     "name": "stdout",
     "output_type": "stream",
     "text": [
      "9410.txt\n",
      "9411.txt\n",
      "9412.txt\n",
      "9413.txt\n",
      "9414.txt\n",
      "9415.txt\n"
     ]
    },
    {
     "name": "stderr",
     "output_type": "stream",
     "text": [
      " 81%|████████  | 8696/10742 [05:16<01:12, 28.22it/s]"
     ]
    },
    {
     "name": "stdout",
     "output_type": "stream",
     "text": [
      "9416.txt\n",
      "9417.txt\n",
      "9418.txt\n",
      "9419.txt\n",
      "9420.txt\n",
      "9421.txt\n"
     ]
    },
    {
     "name": "stderr",
     "output_type": "stream",
     "text": [
      " 81%|████████  | 8702/10742 [05:16<01:14, 27.42it/s]"
     ]
    },
    {
     "name": "stdout",
     "output_type": "stream",
     "text": [
      "9422.txt\n",
      "9423.txt\n",
      "9424.txt\n",
      "9425.txt\n",
      "9426.txt\n",
      "9427.txt\n"
     ]
    },
    {
     "name": "stderr",
     "output_type": "stream",
     "text": [
      " 81%|████████  | 8708/10742 [05:17<01:13, 27.67it/s]"
     ]
    },
    {
     "name": "stdout",
     "output_type": "stream",
     "text": [
      "9428.txt\n",
      "9429.txt\n",
      "9430.txt\n",
      "9431.txt\n",
      "9432.txt\n",
      "9433.txt\n"
     ]
    },
    {
     "name": "stderr",
     "output_type": "stream",
     "text": [
      " 81%|████████  | 8715/10742 [05:17<01:14, 27.29it/s]"
     ]
    },
    {
     "name": "stdout",
     "output_type": "stream",
     "text": [
      "9434.txt\n",
      "9435.txt\n",
      "9436.txt\n",
      "9437.txt\n",
      "9438.txt\n",
      "9439.txt\n"
     ]
    },
    {
     "name": "stderr",
     "output_type": "stream",
     "text": [
      " 81%|████████  | 8721/10742 [05:17<01:19, 25.42it/s]"
     ]
    },
    {
     "name": "stdout",
     "output_type": "stream",
     "text": [
      "9440.txt\n",
      "9441.txt\n",
      "9442.txt\n",
      "9443.txt\n",
      "9444.txt\n"
     ]
    },
    {
     "name": "stderr",
     "output_type": "stream",
     "text": [
      " 81%|████████  | 8727/10742 [05:17<01:21, 24.67it/s]"
     ]
    },
    {
     "name": "stdout",
     "output_type": "stream",
     "text": [
      "9445.txt\n",
      "9446.txt\n",
      "9447.txt\n",
      "9448.txt\n",
      "9449.txt\n"
     ]
    },
    {
     "name": "stderr",
     "output_type": "stream",
     "text": [
      "\r",
      " 81%|████████▏ | 8730/10742 [05:17<01:24, 23.68it/s]"
     ]
    },
    {
     "name": "stdout",
     "output_type": "stream",
     "text": [
      "9450.txt\n",
      "9451.txt\n",
      "9452.txt\n",
      "9453.txt\n",
      "9454.txt\n"
     ]
    },
    {
     "name": "stderr",
     "output_type": "stream",
     "text": [
      " 81%|████████▏ | 8736/10742 [05:18<01:24, 23.67it/s]"
     ]
    },
    {
     "name": "stdout",
     "output_type": "stream",
     "text": [
      "9455.txt\n",
      "9456.txt\n",
      "9457.txt\n",
      "9458.txt\n",
      "9459.txt\n",
      "9460.txt\n"
     ]
    },
    {
     "name": "stderr",
     "output_type": "stream",
     "text": [
      " 81%|████████▏ | 8742/10742 [05:18<01:17, 25.70it/s]"
     ]
    },
    {
     "name": "stdout",
     "output_type": "stream",
     "text": [
      "9461.txt\n",
      "9462.txt\n",
      "9463.txt\n",
      "9464.txt\n",
      "9465.txt\n",
      "9466.txt\n"
     ]
    },
    {
     "name": "stderr",
     "output_type": "stream",
     "text": [
      " 81%|████████▏ | 8748/10742 [05:18<01:24, 23.48it/s]"
     ]
    },
    {
     "name": "stdout",
     "output_type": "stream",
     "text": [
      "9467.txt\n",
      "9468.txt\n",
      "9469.txt\n",
      "9470.txt\n",
      "9471.txt\n"
     ]
    },
    {
     "name": "stderr",
     "output_type": "stream",
     "text": [
      "\r",
      " 81%|████████▏ | 8751/10742 [05:18<01:25, 23.16it/s]"
     ]
    },
    {
     "name": "stdout",
     "output_type": "stream",
     "text": [
      "9472.txt\n",
      "9473.txt\n",
      "9474.txt\n",
      "9475.txt\n",
      "9476.txt\n"
     ]
    },
    {
     "name": "stderr",
     "output_type": "stream",
     "text": [
      " 82%|████████▏ | 8757/10742 [05:19<01:28, 22.49it/s]"
     ]
    },
    {
     "name": "stdout",
     "output_type": "stream",
     "text": [
      "9477.txt\n",
      "9478.txt\n",
      "9479.txt\n",
      "9480.txt\n",
      "9481.txt\n"
     ]
    },
    {
     "name": "stderr",
     "output_type": "stream",
     "text": [
      " 82%|████████▏ | 8763/10742 [05:19<01:26, 22.99it/s]"
     ]
    },
    {
     "name": "stdout",
     "output_type": "stream",
     "text": [
      "9482.txt\n",
      "9483.txt\n",
      "9484.txt\n",
      "9485.txt\n",
      "9486.txt\n"
     ]
    },
    {
     "name": "stderr",
     "output_type": "stream",
     "text": [
      " 82%|████████▏ | 8769/10742 [05:19<01:23, 23.69it/s]"
     ]
    },
    {
     "name": "stdout",
     "output_type": "stream",
     "text": [
      "9487.txt\n",
      "9488.txt\n",
      "9489.txt\n",
      "9490.txt\n",
      "9491.txt\n"
     ]
    },
    {
     "name": "stderr",
     "output_type": "stream",
     "text": [
      "\r",
      " 82%|████████▏ | 8772/10742 [05:19<01:22, 23.92it/s]"
     ]
    },
    {
     "name": "stdout",
     "output_type": "stream",
     "text": [
      "9492.txt\n",
      "9493.txt\n",
      "9494.txt\n",
      "9495.txt\n",
      "9496.txt\n"
     ]
    },
    {
     "name": "stderr",
     "output_type": "stream",
     "text": [
      " 82%|████████▏ | 8778/10742 [05:19<01:22, 23.91it/s]"
     ]
    },
    {
     "name": "stdout",
     "output_type": "stream",
     "text": [
      "9497.txt\n",
      "9498.txt\n",
      "9499.txt\n",
      "9500.txt\n",
      "9501.txt\n"
     ]
    },
    {
     "name": "stderr",
     "output_type": "stream",
     "text": [
      " 82%|████████▏ | 8784/10742 [05:20<01:23, 23.49it/s]"
     ]
    },
    {
     "name": "stdout",
     "output_type": "stream",
     "text": [
      "9502.txt\n",
      "9503.txt\n",
      "9504.txt\n",
      "9505.txt\n",
      "9506.txt\n"
     ]
    },
    {
     "name": "stderr",
     "output_type": "stream",
     "text": [
      "\r",
      " 82%|████████▏ | 8787/10742 [05:20<01:30, 21.71it/s]"
     ]
    },
    {
     "name": "stdout",
     "output_type": "stream",
     "text": [
      "9507.txt\n",
      "9508.txt\n",
      "9509.txt\n",
      "9510.txt\n"
     ]
    },
    {
     "name": "stderr",
     "output_type": "stream",
     "text": [
      "\r",
      " 82%|████████▏ | 8790/10742 [05:20<01:40, 19.46it/s]"
     ]
    },
    {
     "name": "stdout",
     "output_type": "stream",
     "text": [
      "9511.txt\n",
      "9512.txt\n",
      "9513.txt\n",
      "9514.txt\n"
     ]
    },
    {
     "name": "stderr",
     "output_type": "stream",
     "text": [
      " 82%|████████▏ | 8795/10742 [05:20<01:49, 17.76it/s]"
     ]
    },
    {
     "name": "stdout",
     "output_type": "stream",
     "text": [
      "9515.txt\n",
      "9516.txt\n",
      "9517.txt\n",
      "9518.txt\n"
     ]
    },
    {
     "name": "stderr",
     "output_type": "stream",
     "text": [
      " 82%|████████▏ | 8799/10742 [05:21<01:57, 16.55it/s]"
     ]
    },
    {
     "name": "stdout",
     "output_type": "stream",
     "text": [
      "9519.txt\n",
      "9520.txt\n",
      "9521.txt\n",
      "9522.txt\n"
     ]
    },
    {
     "name": "stderr",
     "output_type": "stream",
     "text": [
      " 82%|████████▏ | 8803/10742 [05:21<01:56, 16.60it/s]"
     ]
    },
    {
     "name": "stdout",
     "output_type": "stream",
     "text": [
      "9523.txt\n",
      "9524.txt\n",
      "9525.txt\n",
      "9526.txt\n"
     ]
    },
    {
     "name": "stderr",
     "output_type": "stream",
     "text": [
      " 82%|████████▏ | 8807/10742 [05:21<01:51, 17.28it/s]"
     ]
    },
    {
     "name": "stdout",
     "output_type": "stream",
     "text": [
      "9527.txt\n",
      "9528.txt\n",
      "9529.txt\n",
      "9530.txt\n"
     ]
    },
    {
     "name": "stderr",
     "output_type": "stream",
     "text": [
      " 82%|████████▏ | 8813/10742 [05:21<01:30, 21.28it/s]"
     ]
    },
    {
     "name": "stdout",
     "output_type": "stream",
     "text": [
      "9531.txt\n",
      "9532.txt\n",
      "9533.txt\n",
      "9534.txt\n",
      "9535.txt\n"
     ]
    },
    {
     "name": "stderr",
     "output_type": "stream",
     "text": [
      "\r",
      " 82%|████████▏ | 8816/10742 [05:21<01:28, 21.81it/s]"
     ]
    },
    {
     "name": "stdout",
     "output_type": "stream",
     "text": [
      "9536.txt\n",
      "9537.txt\n",
      "9538.txt\n",
      "9539.txt\n",
      "9540.txt\n"
     ]
    },
    {
     "name": "stderr",
     "output_type": "stream",
     "text": [
      " 82%|████████▏ | 8822/10742 [05:22<01:19, 24.12it/s]"
     ]
    },
    {
     "name": "stdout",
     "output_type": "stream",
     "text": [
      "9541.txt\n",
      "9542.txt\n",
      "9543.txt\n",
      "9544.txt\n",
      "9545.txt\n",
      "9546.txt\n"
     ]
    },
    {
     "name": "stderr",
     "output_type": "stream",
     "text": [
      " 82%|████████▏ | 8828/10742 [05:22<01:17, 24.74it/s]"
     ]
    },
    {
     "name": "stdout",
     "output_type": "stream",
     "text": [
      "9547.txt\n",
      "9548.txt\n",
      "9549.txt\n",
      "9550.txt\n",
      "9551.txt\n",
      "9552.txt\n"
     ]
    },
    {
     "name": "stderr",
     "output_type": "stream",
     "text": [
      " 82%|████████▏ | 8834/10742 [05:22<01:11, 26.68it/s]"
     ]
    },
    {
     "name": "stdout",
     "output_type": "stream",
     "text": [
      "9553.txt\n",
      "9554.txt\n",
      "9555.txt\n",
      "9556.txt\n",
      "9557.txt\n",
      "9558.txt\n",
      "9559.txt\n"
     ]
    },
    {
     "name": "stderr",
     "output_type": "stream",
     "text": [
      " 82%|████████▏ | 8841/10742 [05:22<01:06, 28.41it/s]"
     ]
    },
    {
     "name": "stdout",
     "output_type": "stream",
     "text": [
      "9560.txt\n",
      "9561.txt\n",
      "9562.txt\n",
      "9563.txt\n",
      "9564.txt\n",
      "9565.txt\n",
      "9566.txt\n"
     ]
    },
    {
     "name": "stderr",
     "output_type": "stream",
     "text": [
      " 82%|████████▏ | 8849/10742 [05:23<01:04, 29.53it/s]"
     ]
    },
    {
     "name": "stdout",
     "output_type": "stream",
     "text": [
      "9567.txt\n",
      "9568.txt\n",
      "9569.txt\n",
      "9570.txt\n",
      "9571.txt\n",
      "9572.txt\n",
      "9573.txt\n"
     ]
    },
    {
     "name": "stderr",
     "output_type": "stream",
     "text": [
      " 82%|████████▏ | 8856/10742 [05:23<01:03, 29.73it/s]"
     ]
    },
    {
     "name": "stdout",
     "output_type": "stream",
     "text": [
      "9574.txt\n",
      "9575.txt\n",
      "9576.txt\n",
      "9577.txt\n",
      "9578.txt\n",
      "9579.txt\n"
     ]
    },
    {
     "name": "stderr",
     "output_type": "stream",
     "text": [
      "\r",
      " 82%|████████▏ | 8859/10742 [05:23<01:07, 27.76it/s]"
     ]
    },
    {
     "name": "stdout",
     "output_type": "stream",
     "text": [
      "9580.txt\n",
      "9581.txt\n",
      "9582.txt\n",
      "9583.txt\n",
      "9584.txt\n"
     ]
    },
    {
     "name": "stderr",
     "output_type": "stream",
     "text": [
      " 83%|████████▎ | 8865/10742 [05:23<01:11, 26.44it/s]"
     ]
    },
    {
     "name": "stdout",
     "output_type": "stream",
     "text": [
      "9585.txt\n",
      "9586.txt\n",
      "9587.txt\n",
      "9588.txt\n",
      "9589.txt\n"
     ]
    },
    {
     "name": "stderr",
     "output_type": "stream",
     "text": [
      " 83%|████████▎ | 8871/10742 [05:24<01:13, 25.55it/s]"
     ]
    },
    {
     "name": "stdout",
     "output_type": "stream",
     "text": [
      "9590.txt\n",
      "9591.txt\n",
      "9592.txt\n",
      "9593.txt\n",
      "9594.txt\n"
     ]
    },
    {
     "name": "stderr",
     "output_type": "stream",
     "text": [
      " 83%|████████▎ | 8877/10742 [05:24<01:13, 25.23it/s]"
     ]
    },
    {
     "name": "stdout",
     "output_type": "stream",
     "text": [
      "9595.txt\n",
      "9596.txt\n",
      "9597.txt\n",
      "9598.txt\n",
      "9599.txt\n"
     ]
    },
    {
     "name": "stderr",
     "output_type": "stream",
     "text": [
      "\r",
      " 83%|████████▎ | 8881/10742 [05:24<01:08, 26.99it/s]"
     ]
    },
    {
     "name": "stdout",
     "output_type": "stream",
     "text": [
      "9600.txt\n",
      "9601.txt\n",
      "9602.txt\n",
      "9603.txt\n",
      "9604.txt\n",
      "9605.txt\n"
     ]
    },
    {
     "name": "stderr",
     "output_type": "stream",
     "text": [
      " 83%|████████▎ | 8888/10742 [05:24<01:04, 28.85it/s]"
     ]
    },
    {
     "name": "stdout",
     "output_type": "stream",
     "text": [
      "9606.txt\n",
      "9607.txt\n",
      "9608.txt\n",
      "9609.txt\n",
      "9610.txt\n",
      "9611.txt\n",
      "9612.txt\n"
     ]
    },
    {
     "name": "stderr",
     "output_type": "stream",
     "text": [
      " 83%|████████▎ | 8895/10742 [05:24<01:02, 29.59it/s]"
     ]
    },
    {
     "name": "stdout",
     "output_type": "stream",
     "text": [
      "9613.txt\n",
      "9614.txt\n",
      "9615.txt\n",
      "9616.txt\n",
      "9617.txt\n",
      "9618.txt\n",
      "9619.txt\n"
     ]
    },
    {
     "name": "stderr",
     "output_type": "stream",
     "text": [
      " 83%|████████▎ | 8902/10742 [05:25<01:02, 29.30it/s]"
     ]
    },
    {
     "name": "stdout",
     "output_type": "stream",
     "text": [
      "9620.txt\n",
      "9621.txt\n",
      "9622.txt\n",
      "9623.txt\n",
      "9624.txt\n",
      "9625.txt\n"
     ]
    },
    {
     "name": "stderr",
     "output_type": "stream",
     "text": [
      " 83%|████████▎ | 8909/10742 [05:25<01:01, 29.75it/s]"
     ]
    },
    {
     "name": "stdout",
     "output_type": "stream",
     "text": [
      "9626.txt\n",
      "9627.txt\n",
      "9628.txt\n",
      "9629.txt\n",
      "9630.txt\n",
      "9631.txt\n"
     ]
    },
    {
     "name": "stderr",
     "output_type": "stream",
     "text": [
      "\r",
      " 83%|████████▎ | 8912/10742 [05:25<01:01, 29.75it/s]"
     ]
    },
    {
     "name": "stdout",
     "output_type": "stream",
     "text": [
      "9632.txt\n",
      "9633.txt\n",
      "9634.txt\n",
      "9635.txt\n",
      "9636.txt\n",
      "9637.txt\n",
      "9638.txt\n"
     ]
    },
    {
     "name": "stderr",
     "output_type": "stream",
     "text": [
      " 83%|████████▎ | 8920/10742 [05:25<01:00, 30.29it/s]"
     ]
    },
    {
     "name": "stdout",
     "output_type": "stream",
     "text": [
      "9639.txt\n",
      "9640.txt\n",
      "9641.txt\n",
      "9642.txt\n",
      "9643.txt\n",
      "9644.txt\n"
     ]
    },
    {
     "name": "stderr",
     "output_type": "stream",
     "text": [
      " 83%|████████▎ | 8928/10742 [05:25<00:59, 30.64it/s]"
     ]
    },
    {
     "name": "stdout",
     "output_type": "stream",
     "text": [
      "9645.txt\n",
      "9646.txt\n",
      "9647.txt\n",
      "9648.txt\n",
      "9649.txt\n",
      "9650.txt\n"
     ]
    },
    {
     "name": "stderr",
     "output_type": "stream",
     "text": [
      "\r",
      " 83%|████████▎ | 8932/10742 [05:26<01:00, 29.91it/s]"
     ]
    },
    {
     "name": "stdout",
     "output_type": "stream",
     "text": [
      "9651.txt\n",
      "9652.txt\n",
      "9653.txt\n",
      "9654.txt\n",
      "9655.txt\n",
      "9656.txt\n"
     ]
    },
    {
     "name": "stderr",
     "output_type": "stream",
     "text": [
      " 83%|████████▎ | 8938/10742 [05:26<01:00, 29.66it/s]"
     ]
    },
    {
     "name": "stdout",
     "output_type": "stream",
     "text": [
      "9657.txt\n",
      "9658.txt\n",
      "9659.txt\n",
      "9660.txt\n",
      "9661.txt\n",
      "9662.txt\n"
     ]
    },
    {
     "name": "stderr",
     "output_type": "stream",
     "text": [
      " 83%|████████▎ | 8944/10742 [05:26<01:07, 26.82it/s]"
     ]
    },
    {
     "name": "stdout",
     "output_type": "stream",
     "text": [
      "9663.txt\n",
      "9664.txt\n",
      "9665.txt\n",
      "9666.txt\n",
      "9667.txt\n",
      "9668.txt\n"
     ]
    },
    {
     "name": "stderr",
     "output_type": "stream",
     "text": [
      " 83%|████████▎ | 8950/10742 [05:26<01:10, 25.45it/s]"
     ]
    },
    {
     "name": "stdout",
     "output_type": "stream",
     "text": [
      "9669.txt\n",
      "9670.txt\n",
      "9671.txt\n",
      "9672.txt\n",
      "9673.txt\n",
      "9674.txt\n"
     ]
    },
    {
     "name": "stderr",
     "output_type": "stream",
     "text": [
      " 83%|████████▎ | 8956/10742 [05:27<01:12, 24.50it/s]"
     ]
    },
    {
     "name": "stdout",
     "output_type": "stream",
     "text": [
      "9675.txt\n",
      "9676.txt\n",
      "9677.txt\n",
      "9678.txt\n",
      "9679.txt\n"
     ]
    },
    {
     "name": "stderr",
     "output_type": "stream",
     "text": [
      " 83%|████████▎ | 8963/10742 [05:27<01:07, 26.37it/s]"
     ]
    },
    {
     "name": "stdout",
     "output_type": "stream",
     "text": [
      "9680.txt\n",
      "9681.txt\n",
      "9682.txt\n",
      "9683.txt\n",
      "9684.txt\n",
      "9685.txt\n"
     ]
    },
    {
     "name": "stderr",
     "output_type": "stream",
     "text": [
      "\r",
      " 83%|████████▎ | 8967/10742 [05:27<01:03, 27.79it/s]"
     ]
    },
    {
     "name": "stdout",
     "output_type": "stream",
     "text": [
      "9686.txt\n",
      "9687.txt\n",
      "9688.txt\n",
      "9689.txt\n",
      "9690.txt\n",
      "9691.txt\n",
      "9692.txt\n"
     ]
    },
    {
     "name": "stderr",
     "output_type": "stream",
     "text": [
      " 84%|████████▎ | 8973/10742 [05:27<01:03, 28.02it/s]"
     ]
    },
    {
     "name": "stdout",
     "output_type": "stream",
     "text": [
      "9693.txt\n",
      "9694.txt\n",
      "9695.txt\n",
      "9696.txt\n",
      "9697.txt\n",
      "9698.txt\n",
      "9699.txt\n"
     ]
    },
    {
     "name": "stderr",
     "output_type": "stream",
     "text": [
      " 84%|████████▎ | 8980/10742 [05:27<01:01, 28.77it/s]"
     ]
    },
    {
     "name": "stdout",
     "output_type": "stream",
     "text": [
      "9700.txt\n",
      "9701.txt\n",
      "9702.txt\n",
      "9703.txt\n",
      "9704.txt\n",
      "9705.txt\n"
     ]
    },
    {
     "name": "stderr",
     "output_type": "stream",
     "text": [
      " 84%|████████▎ | 8986/10742 [05:28<01:01, 28.65it/s]"
     ]
    },
    {
     "name": "stdout",
     "output_type": "stream",
     "text": [
      "9706.txt\n",
      "9707.txt\n",
      "9708.txt\n",
      "9709.txt\n",
      "9710.txt\n",
      "9711.txt\n"
     ]
    },
    {
     "name": "stderr",
     "output_type": "stream",
     "text": [
      " 84%|████████▎ | 8994/10742 [05:28<00:58, 29.78it/s]"
     ]
    },
    {
     "name": "stdout",
     "output_type": "stream",
     "text": [
      "9712.txt\n",
      "9713.txt\n",
      "9714.txt\n",
      "9715.txt\n",
      "9716.txt\n",
      "9717.txt\n",
      "9718.txt\n"
     ]
    },
    {
     "name": "stderr",
     "output_type": "stream",
     "text": [
      " 84%|████████▍ | 9001/10742 [05:28<00:57, 30.29it/s]"
     ]
    },
    {
     "name": "stdout",
     "output_type": "stream",
     "text": [
      "9719.txt\n",
      "9720.txt\n",
      "9721.txt\n",
      "9722.txt\n",
      "9723.txt\n",
      "9724.txt\n",
      "9725.txt\n"
     ]
    },
    {
     "name": "stderr",
     "output_type": "stream",
     "text": [
      " 84%|████████▍ | 9009/10742 [05:28<00:58, 29.84it/s]"
     ]
    },
    {
     "name": "stdout",
     "output_type": "stream",
     "text": [
      "9726.txt\n",
      "9727.txt\n",
      "9728.txt\n",
      "9729.txt\n",
      "9730.txt\n",
      "9731.txt\n"
     ]
    },
    {
     "name": "stderr",
     "output_type": "stream",
     "text": [
      "\r",
      " 84%|████████▍ | 9012/10742 [05:28<00:58, 29.67it/s]"
     ]
    },
    {
     "name": "stdout",
     "output_type": "stream",
     "text": [
      "9732.txt\n",
      "9733.txt\n",
      "9734.txt\n",
      "9735.txt\n",
      "9736.txt\n",
      "9737.txt\n"
     ]
    },
    {
     "name": "stderr",
     "output_type": "stream",
     "text": [
      " 84%|████████▍ | 9019/10742 [05:29<00:59, 28.81it/s]"
     ]
    },
    {
     "name": "stdout",
     "output_type": "stream",
     "text": [
      "9738.txt\n",
      "9739.txt\n",
      "9740.txt\n",
      "9741.txt\n",
      "9742.txt\n",
      "9743.txt\n"
     ]
    },
    {
     "name": "stderr",
     "output_type": "stream",
     "text": [
      " 84%|████████▍ | 9025/10742 [05:29<01:06, 25.87it/s]"
     ]
    },
    {
     "name": "stdout",
     "output_type": "stream",
     "text": [
      "9744.txt\n",
      "9745.txt\n",
      "9746.txt\n",
      "9747.txt\n",
      "9748.txt\n",
      "9749.txt\n"
     ]
    },
    {
     "name": "stderr",
     "output_type": "stream",
     "text": [
      " 84%|████████▍ | 9031/10742 [05:29<01:08, 25.13it/s]"
     ]
    },
    {
     "name": "stdout",
     "output_type": "stream",
     "text": [
      "9750.txt\n",
      "9751.txt\n",
      "9752.txt\n",
      "9753.txt\n",
      "9754.txt\n"
     ]
    },
    {
     "name": "stderr",
     "output_type": "stream",
     "text": [
      "\r",
      " 84%|████████▍ | 9034/10742 [05:29<01:10, 24.06it/s]"
     ]
    },
    {
     "name": "stdout",
     "output_type": "stream",
     "text": [
      "9755.txt\n",
      "9756.txt\n",
      "9757.txt\n",
      "9758.txt\n",
      "9759.txt\n"
     ]
    },
    {
     "name": "stderr",
     "output_type": "stream",
     "text": [
      " 84%|████████▍ | 9040/10742 [05:30<01:10, 24.13it/s]"
     ]
    },
    {
     "name": "stdout",
     "output_type": "stream",
     "text": [
      "9760.txt\n",
      "9761.txt\n",
      "9762.txt\n",
      "9763.txt\n",
      "9764.txt\n",
      "9765.txt\n"
     ]
    },
    {
     "name": "stderr",
     "output_type": "stream",
     "text": [
      " 84%|████████▍ | 9048/10742 [05:30<01:01, 27.57it/s]"
     ]
    },
    {
     "name": "stdout",
     "output_type": "stream",
     "text": [
      "9766.txt\n",
      "9767.txt\n",
      "9768.txt\n",
      "9769.txt\n",
      "9770.txt\n",
      "9771.txt\n",
      "9772.txt\n"
     ]
    },
    {
     "name": "stderr",
     "output_type": "stream",
     "text": [
      " 84%|████████▍ | 9055/10742 [05:30<00:59, 28.28it/s]"
     ]
    },
    {
     "name": "stdout",
     "output_type": "stream",
     "text": [
      "9773.txt\n",
      "9774.txt\n",
      "9775.txt\n",
      "9776.txt\n",
      "9777.txt\n",
      "9778.txt\n",
      "9779.txt\n"
     ]
    },
    {
     "name": "stderr",
     "output_type": "stream",
     "text": [
      " 84%|████████▍ | 9061/10742 [05:30<00:58, 28.88it/s]"
     ]
    },
    {
     "name": "stdout",
     "output_type": "stream",
     "text": [
      "9780.txt\n",
      "9781.txt\n",
      "9782.txt\n",
      "9783.txt\n",
      "9784.txt\n",
      "9785.txt\n"
     ]
    },
    {
     "name": "stderr",
     "output_type": "stream",
     "text": [
      " 84%|████████▍ | 9067/10742 [05:31<00:59, 28.15it/s]"
     ]
    },
    {
     "name": "stdout",
     "output_type": "stream",
     "text": [
      "9786.txt\n",
      "9787.txt\n",
      "9788.txt\n",
      "9789.txt\n",
      "9790.txt\n",
      "9791.txt\n"
     ]
    },
    {
     "name": "stderr",
     "output_type": "stream",
     "text": [
      " 84%|████████▍ | 9074/10742 [05:31<00:57, 29.11it/s]"
     ]
    },
    {
     "name": "stdout",
     "output_type": "stream",
     "text": [
      "9792.txt\n",
      "9793.txt\n",
      "9794.txt\n",
      "9795.txt\n",
      "9796.txt\n",
      "9797.txt\n"
     ]
    },
    {
     "name": "stderr",
     "output_type": "stream",
     "text": [
      " 85%|████████▍ | 9081/10742 [05:31<00:56, 29.25it/s]"
     ]
    },
    {
     "name": "stdout",
     "output_type": "stream",
     "text": [
      "9798.txt\n",
      "9799.txt\n",
      "9800.txt\n",
      "9801.txt\n",
      "9802.txt\n",
      "9803.txt\n"
     ]
    },
    {
     "name": "stderr",
     "output_type": "stream",
     "text": [
      " 85%|████████▍ | 9087/10742 [05:31<00:56, 29.33it/s]"
     ]
    },
    {
     "name": "stdout",
     "output_type": "stream",
     "text": [
      "9804.txt\n",
      "9805.txt\n",
      "9806.txt\n",
      "9807.txt\n",
      "9808.txt\n",
      "9809.txt\n"
     ]
    },
    {
     "name": "stderr",
     "output_type": "stream",
     "text": [
      "\r",
      " 85%|████████▍ | 9090/10742 [05:31<00:59, 27.61it/s]"
     ]
    },
    {
     "name": "stdout",
     "output_type": "stream",
     "text": [
      "9810.txt\n",
      "9811.txt\n",
      "9812.txt\n",
      "9813.txt\n",
      "9814.txt\n",
      "9815.txt\n"
     ]
    },
    {
     "name": "stderr",
     "output_type": "stream",
     "text": [
      " 85%|████████▍ | 9098/10742 [05:32<00:56, 29.16it/s]"
     ]
    },
    {
     "name": "stdout",
     "output_type": "stream",
     "text": [
      "9816.txt\n",
      "9817.txt\n",
      "9818.txt\n",
      "9819.txt\n",
      "9820.txt\n",
      "9821.txt\n",
      "9822.txt\n"
     ]
    },
    {
     "name": "stderr",
     "output_type": "stream",
     "text": [
      " 85%|████████▍ | 9104/10742 [05:32<01:01, 26.73it/s]"
     ]
    },
    {
     "name": "stdout",
     "output_type": "stream",
     "text": [
      "9823.txt\n",
      "9824.txt\n",
      "9825.txt\n",
      "9826.txt\n",
      "9827.txt\n",
      "9828.txt\n"
     ]
    },
    {
     "name": "stderr",
     "output_type": "stream",
     "text": [
      " 85%|████████▍ | 9110/10742 [05:32<01:04, 25.25it/s]"
     ]
    },
    {
     "name": "stdout",
     "output_type": "stream",
     "text": [
      "9829.txt\n",
      "9830.txt\n",
      "9831.txt\n",
      "9832.txt\n",
      "9833.txt\n"
     ]
    },
    {
     "name": "stderr",
     "output_type": "stream",
     "text": [
      "\r",
      " 85%|████████▍ | 9113/10742 [05:32<01:05, 24.69it/s]"
     ]
    },
    {
     "name": "stdout",
     "output_type": "stream",
     "text": [
      "9834.txt\n",
      "9835.txt\n",
      "9836.txt\n",
      "9837.txt\n",
      "9838.txt\n"
     ]
    },
    {
     "name": "stderr",
     "output_type": "stream",
     "text": [
      " 85%|████████▍ | 9119/10742 [05:32<01:11, 22.76it/s]"
     ]
    },
    {
     "name": "stdout",
     "output_type": "stream",
     "text": [
      "9839.txt\n",
      "9840.txt\n",
      "9841.txt\n",
      "9842.txt\n",
      "9843.txt\n"
     ]
    },
    {
     "name": "stderr",
     "output_type": "stream",
     "text": [
      " 85%|████████▍ | 9126/10742 [05:33<01:01, 26.25it/s]"
     ]
    },
    {
     "name": "stdout",
     "output_type": "stream",
     "text": [
      "9844.txt\n",
      "9845.txt\n",
      "9846.txt\n",
      "9847.txt\n",
      "9848.txt\n",
      "9849.txt\n"
     ]
    },
    {
     "name": "stderr",
     "output_type": "stream",
     "text": [
      " 85%|████████▌ | 9133/10742 [05:33<00:57, 27.94it/s]"
     ]
    },
    {
     "name": "stdout",
     "output_type": "stream",
     "text": [
      "9850.txt\n",
      "9851.txt\n",
      "9852.txt\n",
      "9853.txt\n",
      "9854.txt\n",
      "9855.txt\n",
      "9856.txt\n",
      "9857.txt\n"
     ]
    },
    {
     "name": "stderr",
     "output_type": "stream",
     "text": [
      " 85%|████████▌ | 9139/10742 [05:33<00:56, 28.21it/s]"
     ]
    },
    {
     "name": "stdout",
     "output_type": "stream",
     "text": [
      "9858.txt\n",
      "9859.txt\n",
      "9860.txt\n",
      "9861.txt\n",
      "9862.txt\n",
      "9863.txt\n",
      "9864.txt\n"
     ]
    },
    {
     "name": "stderr",
     "output_type": "stream",
     "text": [
      " 85%|████████▌ | 9147/10742 [05:33<00:53, 29.73it/s]"
     ]
    },
    {
     "name": "stdout",
     "output_type": "stream",
     "text": [
      "9865.txt\n",
      "9866.txt\n",
      "9867.txt\n",
      "9868.txt\n",
      "9869.txt\n",
      "9870.txt\n",
      "9871.txt\n"
     ]
    },
    {
     "name": "stderr",
     "output_type": "stream",
     "text": [
      " 85%|████████▌ | 9154/10742 [05:34<00:53, 29.94it/s]"
     ]
    },
    {
     "name": "stdout",
     "output_type": "stream",
     "text": [
      "9872.txt\n",
      "9873.txt\n",
      "9874.txt\n",
      "9875.txt\n",
      "9876.txt\n",
      "9877.txt\n",
      "9878.txt\n"
     ]
    },
    {
     "name": "stderr",
     "output_type": "stream",
     "text": [
      " 85%|████████▌ | 9160/10742 [05:34<00:53, 29.64it/s]"
     ]
    },
    {
     "name": "stdout",
     "output_type": "stream",
     "text": [
      "9879.txt\n",
      "9880.txt\n",
      "9881.txt\n",
      "9882.txt\n",
      "9883.txt\n",
      "9884.txt\n",
      "9885.txt\n"
     ]
    },
    {
     "name": "stderr",
     "output_type": "stream",
     "text": [
      " 85%|████████▌ | 9168/10742 [05:34<00:51, 30.34it/s]"
     ]
    },
    {
     "name": "stdout",
     "output_type": "stream",
     "text": [
      "9886.txt\n",
      "9887.txt\n",
      "9888.txt\n",
      "9889.txt\n",
      "9890.txt\n",
      "9891.txt\n",
      "9892.txt\n"
     ]
    },
    {
     "name": "stderr",
     "output_type": "stream",
     "text": [
      " 85%|████████▌ | 9176/10742 [05:34<00:51, 30.69it/s]"
     ]
    },
    {
     "name": "stdout",
     "output_type": "stream",
     "text": [
      "9893.txt\n",
      "9894.txt\n",
      "9895.txt\n",
      "9896.txt\n",
      "9897.txt\n",
      "9898.txt\n"
     ]
    },
    {
     "name": "stderr",
     "output_type": "stream",
     "text": [
      "\r",
      " 85%|████████▌ | 9180/10742 [05:35<00:52, 29.93it/s]"
     ]
    },
    {
     "name": "stdout",
     "output_type": "stream",
     "text": [
      "9899.txt\n",
      "9900.txt\n",
      "9901.txt\n",
      "9902.txt\n",
      "9903.txt\n",
      "9904.txt\n"
     ]
    },
    {
     "name": "stderr",
     "output_type": "stream",
     "text": [
      " 86%|████████▌ | 9186/10742 [05:35<00:57, 26.93it/s]"
     ]
    },
    {
     "name": "stdout",
     "output_type": "stream",
     "text": [
      "9905.txt\n",
      "9906.txt\n",
      "9907.txt\n",
      "9908.txt\n",
      "9909.txt\n",
      "9910.txt\n"
     ]
    },
    {
     "name": "stderr",
     "output_type": "stream",
     "text": [
      " 86%|████████▌ | 9192/10742 [05:35<01:00, 25.73it/s]"
     ]
    },
    {
     "name": "stdout",
     "output_type": "stream",
     "text": [
      "9911.txt\n",
      "9912.txt\n",
      "9913.txt\n",
      "9914.txt\n",
      "9915.txt\n",
      "9916.txt\n"
     ]
    },
    {
     "name": "stderr",
     "output_type": "stream",
     "text": [
      " 86%|████████▌ | 9198/10742 [05:35<01:02, 24.58it/s]"
     ]
    },
    {
     "name": "stdout",
     "output_type": "stream",
     "text": [
      "9917.txt\n",
      "9918.txt\n",
      "9919.txt\n",
      "9920.txt\n",
      "9921.txt\n"
     ]
    },
    {
     "name": "stderr",
     "output_type": "stream",
     "text": [
      " 86%|████████▌ | 9204/10742 [05:36<01:00, 25.40it/s]"
     ]
    },
    {
     "name": "stdout",
     "output_type": "stream",
     "text": [
      "9922.txt\n",
      "9923.txt\n",
      "9924.txt\n",
      "9925.txt\n",
      "9926.txt\n",
      "9927.txt\n"
     ]
    },
    {
     "name": "stderr",
     "output_type": "stream",
     "text": [
      " 86%|████████▌ | 9211/10742 [05:36<00:54, 28.14it/s]"
     ]
    },
    {
     "name": "stdout",
     "output_type": "stream",
     "text": [
      "9928.txt\n",
      "9929.txt\n",
      "9930.txt\n",
      "9931.txt\n",
      "9932.txt\n",
      "9933.txt\n"
     ]
    },
    {
     "name": "stderr",
     "output_type": "stream",
     "text": [
      " 86%|████████▌ | 9217/10742 [05:36<00:54, 28.08it/s]"
     ]
    },
    {
     "name": "stdout",
     "output_type": "stream",
     "text": [
      "9934.txt\n",
      "9935.txt\n",
      "9936.txt\n",
      "9937.txt\n",
      "9938.txt\n",
      "9939.txt\n"
     ]
    },
    {
     "name": "stderr",
     "output_type": "stream",
     "text": [
      "\r",
      " 86%|████████▌ | 9220/10742 [05:36<00:56, 27.00it/s]"
     ]
    },
    {
     "name": "stdout",
     "output_type": "stream",
     "text": [
      "9940.txt\n",
      "9941.txt\n",
      "9942.txt\n",
      "9943.txt\n",
      "9944.txt\n"
     ]
    },
    {
     "name": "stderr",
     "output_type": "stream",
     "text": [
      " 86%|████████▌ | 9226/10742 [05:36<00:58, 25.72it/s]"
     ]
    },
    {
     "name": "stdout",
     "output_type": "stream",
     "text": [
      "9945.txt\n",
      "9946.txt\n",
      "9947.txt\n",
      "9948.txt\n",
      "9949.txt\n"
     ]
    },
    {
     "name": "stderr",
     "output_type": "stream",
     "text": [
      " 86%|████████▌ | 9232/10742 [05:37<01:00, 25.01it/s]"
     ]
    },
    {
     "name": "stdout",
     "output_type": "stream",
     "text": [
      "9950.txt\n",
      "9951.txt\n",
      "9952.txt\n",
      "9953.txt\n",
      "9954.txt\n"
     ]
    },
    {
     "name": "stderr",
     "output_type": "stream",
     "text": [
      "\r",
      " 86%|████████▌ | 9235/10742 [05:37<01:02, 24.24it/s]"
     ]
    },
    {
     "name": "stdout",
     "output_type": "stream",
     "text": [
      "9955.txt\n",
      "9956.txt\n",
      "9957.txt\n",
      "9958.txt\n",
      "9959.txt\n"
     ]
    },
    {
     "name": "stderr",
     "output_type": "stream",
     "text": [
      " 86%|████████▌ | 9241/10742 [05:37<00:58, 25.52it/s]"
     ]
    },
    {
     "name": "stdout",
     "output_type": "stream",
     "text": [
      "9960.txt\n",
      "9961.txt\n",
      "9962.txt\n",
      "9963.txt\n",
      "9964.txt\n",
      "9965.txt\n"
     ]
    },
    {
     "name": "stderr",
     "output_type": "stream",
     "text": [
      " 86%|████████▌ | 9247/10742 [05:37<00:58, 25.53it/s]"
     ]
    },
    {
     "name": "stdout",
     "output_type": "stream",
     "text": [
      "9966.txt\n",
      "9967.txt\n",
      "9968.txt\n",
      "9969.txt\n",
      "9970.txt\n"
     ]
    },
    {
     "name": "stderr",
     "output_type": "stream",
     "text": [
      "\r",
      " 86%|████████▌ | 9250/10742 [05:37<01:00, 24.61it/s]"
     ]
    },
    {
     "name": "stdout",
     "output_type": "stream",
     "text": [
      "9971.txt\n",
      "9972.txt\n",
      "9973.txt\n",
      "9974.txt\n",
      "9975.txt\n"
     ]
    },
    {
     "name": "stderr",
     "output_type": "stream",
     "text": [
      "\r",
      " 86%|████████▌ | 9253/10742 [05:37<01:03, 23.50it/s]"
     ]
    },
    {
     "name": "stdout",
     "output_type": "stream",
     "text": [
      "9976.txt\n",
      "9977.txt\n",
      "9978.txt\n"
     ]
    },
    {
     "name": "stderr",
     "output_type": "stream",
     "text": [
      " 86%|████████▌ | 9259/10742 [05:38<01:16, 19.33it/s]"
     ]
    },
    {
     "name": "stdout",
     "output_type": "stream",
     "text": [
      "9979.txt\n",
      "9980.txt\n",
      "9981.txt\n",
      "9982.txt\n"
     ]
    },
    {
     "name": "stderr",
     "output_type": "stream",
     "text": [
      "\r",
      " 86%|████████▌ | 9262/10742 [05:38<01:20, 18.46it/s]"
     ]
    },
    {
     "name": "stdout",
     "output_type": "stream",
     "text": [
      "9983.txt\n",
      "9984.txt\n",
      "9985.txt\n",
      "9986.txt\n",
      "9987.txt\n"
     ]
    },
    {
     "name": "stderr",
     "output_type": "stream",
     "text": [
      " 86%|████████▋ | 9268/10742 [05:38<01:10, 20.91it/s]"
     ]
    },
    {
     "name": "stdout",
     "output_type": "stream",
     "text": [
      "9988.txt\n",
      "9989.txt\n",
      "9990.txt\n",
      "9991.txt\n",
      "9992.txt\n"
     ]
    },
    {
     "name": "stderr",
     "output_type": "stream",
     "text": [
      " 86%|████████▋ | 9274/10742 [05:38<01:03, 23.22it/s]"
     ]
    },
    {
     "name": "stdout",
     "output_type": "stream",
     "text": [
      "9993.txt\n",
      "9994.txt\n",
      "9995.txt\n",
      "9996.txt\n",
      "9997.txt\n",
      "9998.txt\n"
     ]
    },
    {
     "name": "stderr",
     "output_type": "stream",
     "text": [
      " 86%|████████▋ | 9281/10742 [05:39<00:55, 26.46it/s]"
     ]
    },
    {
     "name": "stdout",
     "output_type": "stream",
     "text": [
      "9999.txt\n",
      "10000.txt\n",
      "10001.txt\n",
      "10002.txt\n",
      "10003.txt\n",
      "10004.txt\n",
      "10005.txt\n",
      "10006.txt\n"
     ]
    },
    {
     "name": "stderr",
     "output_type": "stream",
     "text": [
      " 86%|████████▋ | 9288/10742 [05:39<00:51, 28.13it/s]"
     ]
    },
    {
     "name": "stdout",
     "output_type": "stream",
     "text": [
      "10007.txt\n",
      "10008.txt\n",
      "10009.txt\n",
      "10010.txt\n",
      "10011.txt\n",
      "10012.txt\n",
      "10013.txt\n"
     ]
    },
    {
     "name": "stderr",
     "output_type": "stream",
     "text": [
      " 87%|████████▋ | 9295/10742 [05:39<00:51, 28.35it/s]"
     ]
    },
    {
     "name": "stdout",
     "output_type": "stream",
     "text": [
      "10014.txt\n",
      "10015.txt\n",
      "10016.txt\n",
      "10017.txt\n",
      "10018.txt\n",
      "10019.txt\n",
      "10020.txt\n"
     ]
    },
    {
     "name": "stderr",
     "output_type": "stream",
     "text": [
      " 87%|████████▋ | 9304/10742 [05:40<00:50, 28.67it/s]"
     ]
    },
    {
     "name": "stdout",
     "output_type": "stream",
     "text": [
      "10021.txt\n",
      "10022.txt\n",
      "10023.txt\n",
      "10024.txt\n",
      "10025.txt\n",
      "10026.txt\n"
     ]
    },
    {
     "name": "stderr",
     "output_type": "stream",
     "text": [
      "\r",
      " 87%|████████▋ | 9307/10742 [05:40<00:49, 29.03it/s]"
     ]
    },
    {
     "name": "stdout",
     "output_type": "stream",
     "text": [
      "10027.txt\n",
      "10028.txt\n",
      "10029.txt\n",
      "10030.txt\n",
      "10031.txt\n",
      "10032.txt\n",
      "10033.txt\n"
     ]
    },
    {
     "name": "stderr",
     "output_type": "stream",
     "text": [
      " 87%|████████▋ | 9314/10742 [05:40<00:48, 29.72it/s]"
     ]
    },
    {
     "name": "stdout",
     "output_type": "stream",
     "text": [
      "10034.txt\n",
      "10035.txt\n",
      "10036.txt\n",
      "10037.txt\n",
      "10038.txt\n",
      "10039.txt\n",
      "10040.txt\n"
     ]
    },
    {
     "name": "stderr",
     "output_type": "stream",
     "text": [
      " 87%|████████▋ | 9321/10742 [05:40<00:47, 29.87it/s]"
     ]
    },
    {
     "name": "stdout",
     "output_type": "stream",
     "text": [
      "10041.txt\n",
      "10042.txt\n",
      "10043.txt\n",
      "10044.txt\n",
      "10045.txt\n",
      "10046.txt\n"
     ]
    },
    {
     "name": "stderr",
     "output_type": "stream",
     "text": [
      " 87%|████████▋ | 9329/10742 [05:40<00:46, 30.45it/s]"
     ]
    },
    {
     "name": "stdout",
     "output_type": "stream",
     "text": [
      "10047.txt\n",
      "10048.txt\n",
      "10049.txt\n",
      "10050.txt\n",
      "10051.txt\n",
      "10052.txt\n",
      "10053.txt\n"
     ]
    },
    {
     "name": "stderr",
     "output_type": "stream",
     "text": [
      " 87%|████████▋ | 9336/10742 [05:41<00:50, 27.84it/s]"
     ]
    },
    {
     "name": "stdout",
     "output_type": "stream",
     "text": [
      "10054.txt\n",
      "10055.txt\n",
      "10056.txt\n",
      "10057.txt\n",
      "10058.txt\n"
     ]
    },
    {
     "name": "stderr",
     "output_type": "stream",
     "text": [
      "\r",
      " 87%|████████▋ | 9339/10742 [05:41<00:52, 26.47it/s]"
     ]
    },
    {
     "name": "stdout",
     "output_type": "stream",
     "text": [
      "10059.txt\n",
      "10060.txt\n",
      "10061.txt\n",
      "10062.txt\n",
      "10063.txt\n"
     ]
    },
    {
     "name": "stderr",
     "output_type": "stream",
     "text": [
      " 87%|████████▋ | 9345/10742 [05:41<00:56, 24.89it/s]"
     ]
    },
    {
     "name": "stdout",
     "output_type": "stream",
     "text": [
      "10064.txt\n",
      "10065.txt\n",
      "10066.txt\n",
      "10067.txt\n",
      "10068.txt\n"
     ]
    },
    {
     "name": "stderr",
     "output_type": "stream",
     "text": [
      " 87%|████████▋ | 9351/10742 [05:41<00:55, 25.03it/s]"
     ]
    },
    {
     "name": "stdout",
     "output_type": "stream",
     "text": [
      "10069.txt\n",
      "10070.txt\n",
      "10071.txt\n",
      "10072.txt\n",
      "10073.txt\n",
      "10074.txt\n"
     ]
    },
    {
     "name": "stderr",
     "output_type": "stream",
     "text": [
      " 87%|████████▋ | 9357/10742 [05:41<00:53, 25.91it/s]"
     ]
    },
    {
     "name": "stdout",
     "output_type": "stream",
     "text": [
      "10075.txt\n",
      "10076.txt\n",
      "10077.txt\n",
      "10078.txt\n",
      "10079.txt\n",
      "10080.txt\n"
     ]
    },
    {
     "name": "stderr",
     "output_type": "stream",
     "text": [
      " 87%|████████▋ | 9364/10742 [05:42<00:49, 27.78it/s]"
     ]
    },
    {
     "name": "stdout",
     "output_type": "stream",
     "text": [
      "10081.txt\n",
      "10082.txt\n",
      "10083.txt\n",
      "10084.txt\n",
      "10085.txt\n",
      "10086.txt\n"
     ]
    },
    {
     "name": "stderr",
     "output_type": "stream",
     "text": [
      " 87%|████████▋ | 9370/10742 [05:42<00:48, 28.27it/s]"
     ]
    },
    {
     "name": "stdout",
     "output_type": "stream",
     "text": [
      "10087.txt\n",
      "10088.txt\n",
      "10089.txt\n",
      "10090.txt\n",
      "10091.txt\n",
      "10092.txt\n"
     ]
    },
    {
     "name": "stderr",
     "output_type": "stream",
     "text": [
      "\r",
      " 87%|████████▋ | 9373/10742 [05:42<00:48, 28.30it/s]"
     ]
    },
    {
     "name": "stdout",
     "output_type": "stream",
     "text": [
      "10093.txt\n",
      "10094.txt\n",
      "10095.txt\n",
      "10096.txt\n",
      "10097.txt\n",
      "10098.txt\n"
     ]
    },
    {
     "name": "stderr",
     "output_type": "stream",
     "text": [
      " 87%|████████▋ | 9379/10742 [05:42<00:47, 28.96it/s]"
     ]
    },
    {
     "name": "stdout",
     "output_type": "stream",
     "text": [
      "10099.txt\n",
      "10100.txt\n",
      "10101.txt\n",
      "10102.txt\n",
      "10103.txt\n",
      "10104.txt\n"
     ]
    },
    {
     "name": "stderr",
     "output_type": "stream",
     "text": [
      " 87%|████████▋ | 9386/10742 [05:42<00:46, 28.97it/s]"
     ]
    },
    {
     "name": "stdout",
     "output_type": "stream",
     "text": [
      "10105.txt\n",
      "10106.txt\n",
      "10107.txt\n",
      "10108.txt\n",
      "10109.txt\n",
      "10110.txt\n"
     ]
    },
    {
     "name": "stderr",
     "output_type": "stream",
     "text": [
      " 87%|████████▋ | 9393/10742 [05:43<00:45, 29.88it/s]"
     ]
    },
    {
     "name": "stdout",
     "output_type": "stream",
     "text": [
      "10111.txt\n",
      "10112.txt\n",
      "10113.txt\n",
      "10114.txt\n",
      "10115.txt\n",
      "10116.txt\n",
      "10117.txt\n"
     ]
    },
    {
     "name": "stderr",
     "output_type": "stream",
     "text": [
      " 88%|████████▊ | 9401/10742 [05:43<00:43, 30.49it/s]"
     ]
    },
    {
     "name": "stdout",
     "output_type": "stream",
     "text": [
      "10118.txt\n",
      "10119.txt\n",
      "10120.txt\n",
      "10121.txt\n",
      "10122.txt\n",
      "10123.txt\n"
     ]
    },
    {
     "name": "stderr",
     "output_type": "stream",
     "text": [
      "\r",
      " 88%|████████▊ | 9405/10742 [05:43<00:44, 30.39it/s]"
     ]
    },
    {
     "name": "stdout",
     "output_type": "stream",
     "text": [
      "10124.txt\n",
      "10125.txt\n",
      "10126.txt\n",
      "10127.txt\n",
      "10128.txt\n",
      "10129.txt\n",
      "10130.txt\n"
     ]
    },
    {
     "name": "stderr",
     "output_type": "stream",
     "text": [
      " 88%|████████▊ | 9413/10742 [05:43<00:44, 29.57it/s]"
     ]
    },
    {
     "name": "stdout",
     "output_type": "stream",
     "text": [
      "10131.txt\n",
      "10132.txt\n",
      "10133.txt\n",
      "10134.txt\n",
      "10135.txt\n",
      "10136.txt\n"
     ]
    },
    {
     "name": "stderr",
     "output_type": "stream",
     "text": [
      " 88%|████████▊ | 9419/10742 [05:44<00:50, 26.33it/s]"
     ]
    },
    {
     "name": "stdout",
     "output_type": "stream",
     "text": [
      "10137.txt\n",
      "10138.txt\n",
      "10139.txt\n",
      "10140.txt\n",
      "10141.txt\n"
     ]
    },
    {
     "name": "stderr",
     "output_type": "stream",
     "text": [
      "\r",
      " 88%|████████▊ | 9422/10742 [05:44<00:51, 25.56it/s]"
     ]
    },
    {
     "name": "stdout",
     "output_type": "stream",
     "text": [
      "10142.txt\n",
      "10143.txt\n",
      "10144.txt\n",
      "10145.txt\n",
      "10146.txt\n"
     ]
    },
    {
     "name": "stderr",
     "output_type": "stream",
     "text": [
      " 88%|████████▊ | 9428/10742 [05:44<00:52, 24.88it/s]"
     ]
    },
    {
     "name": "stdout",
     "output_type": "stream",
     "text": [
      "10147.txt\n",
      "10148.txt\n",
      "10149.txt\n",
      "10150.txt\n",
      "10151.txt\n",
      "10152.txt\n"
     ]
    },
    {
     "name": "stderr",
     "output_type": "stream",
     "text": [
      " 88%|████████▊ | 9435/10742 [05:44<00:49, 26.37it/s]"
     ]
    },
    {
     "name": "stdout",
     "output_type": "stream",
     "text": [
      "10153.txt\n",
      "10154.txt\n",
      "10155.txt\n",
      "10156.txt\n",
      "10157.txt\n",
      "10158.txt\n",
      "10159.txt\n"
     ]
    },
    {
     "name": "stderr",
     "output_type": "stream",
     "text": [
      " 88%|████████▊ | 9441/10742 [05:44<00:47, 27.34it/s]"
     ]
    },
    {
     "name": "stdout",
     "output_type": "stream",
     "text": [
      "10160.txt\n",
      "10161.txt\n",
      "10162.txt\n",
      "10163.txt\n",
      "10164.txt\n",
      "10165.txt\n",
      "10166.txt\n"
     ]
    },
    {
     "name": "stderr",
     "output_type": "stream",
     "text": [
      " 88%|████████▊ | 9447/10742 [05:45<00:45, 28.20it/s]"
     ]
    },
    {
     "name": "stdout",
     "output_type": "stream",
     "text": [
      "10167.txt\n",
      "10168.txt\n",
      "10169.txt\n",
      "10170.txt\n",
      "10171.txt\n",
      "10172.txt\n"
     ]
    },
    {
     "name": "stderr",
     "output_type": "stream",
     "text": [
      " 88%|████████▊ | 9454/10742 [05:45<00:44, 29.10it/s]"
     ]
    },
    {
     "name": "stdout",
     "output_type": "stream",
     "text": [
      "10173.txt\n",
      "10174.txt\n",
      "10175.txt\n",
      "10176.txt\n",
      "10177.txt\n",
      "10178.txt\n",
      "10179.txt\n"
     ]
    },
    {
     "name": "stderr",
     "output_type": "stream",
     "text": [
      " 88%|████████▊ | 9460/10742 [05:45<00:44, 29.09it/s]"
     ]
    },
    {
     "name": "stdout",
     "output_type": "stream",
     "text": [
      "10180.txt\n",
      "10181.txt\n",
      "10182.txt\n",
      "10183.txt\n",
      "10184.txt\n",
      "10185.txt\n"
     ]
    },
    {
     "name": "stderr",
     "output_type": "stream",
     "text": [
      " 88%|████████▊ | 9468/10742 [05:45<00:42, 29.94it/s]"
     ]
    },
    {
     "name": "stdout",
     "output_type": "stream",
     "text": [
      "10186.txt\n",
      "10187.txt\n",
      "10188.txt\n",
      "10189.txt\n",
      "10190.txt\n",
      "10191.txt\n",
      "10192.txt\n"
     ]
    },
    {
     "name": "stderr",
     "output_type": "stream",
     "text": [
      " 88%|████████▊ | 9474/10742 [05:46<00:42, 29.86it/s]"
     ]
    },
    {
     "name": "stdout",
     "output_type": "stream",
     "text": [
      "10193.txt\n",
      "10194.txt\n",
      "10195.txt\n",
      "10196.txt\n",
      "10197.txt\n",
      "10198.txt\n"
     ]
    },
    {
     "name": "stderr",
     "output_type": "stream",
     "text": [
      " 88%|████████▊ | 9482/10742 [05:46<00:41, 30.41it/s]"
     ]
    },
    {
     "name": "stdout",
     "output_type": "stream",
     "text": [
      "10199.txt\n",
      "10200.txt\n",
      "10201.txt\n",
      "10202.txt\n",
      "10203.txt\n",
      "10204.txt\n"
     ]
    },
    {
     "name": "stderr",
     "output_type": "stream",
     "text": [
      "\r",
      " 88%|████████▊ | 9486/10742 [05:46<00:41, 30.09it/s]"
     ]
    },
    {
     "name": "stdout",
     "output_type": "stream",
     "text": [
      "10205.txt\n",
      "10206.txt\n",
      "10207.txt\n",
      "10208.txt\n",
      "10209.txt\n",
      "10210.txt\n"
     ]
    },
    {
     "name": "stderr",
     "output_type": "stream",
     "text": [
      " 88%|████████▊ | 9493/10742 [05:46<00:43, 28.93it/s]"
     ]
    },
    {
     "name": "stdout",
     "output_type": "stream",
     "text": [
      "10211.txt\n",
      "10212.txt\n",
      "10213.txt\n",
      "10214.txt\n",
      "10215.txt\n",
      "10216.txt\n"
     ]
    },
    {
     "name": "stderr",
     "output_type": "stream",
     "text": [
      " 88%|████████▊ | 9499/10742 [05:46<00:48, 25.73it/s]"
     ]
    },
    {
     "name": "stdout",
     "output_type": "stream",
     "text": [
      "10217.txt\n",
      "10218.txt\n",
      "10219.txt\n",
      "10220.txt\n",
      "10221.txt\n"
     ]
    },
    {
     "name": "stderr",
     "output_type": "stream",
     "text": [
      "\r",
      " 88%|████████▊ | 9502/10742 [05:47<00:49, 25.24it/s]"
     ]
    },
    {
     "name": "stdout",
     "output_type": "stream",
     "text": [
      "10222.txt\n",
      "10223.txt\n",
      "10224.txt\n",
      "10225.txt\n",
      "10226.txt\n"
     ]
    },
    {
     "name": "stderr",
     "output_type": "stream",
     "text": [
      " 89%|████████▊ | 9508/10742 [05:47<00:50, 24.44it/s]"
     ]
    },
    {
     "name": "stdout",
     "output_type": "stream",
     "text": [
      "10227.txt\n",
      "10228.txt\n",
      "10229.txt\n",
      "10230.txt\n",
      "10231.txt\n"
     ]
    },
    {
     "name": "stderr",
     "output_type": "stream",
     "text": [
      " 89%|████████▊ | 9514/10742 [05:47<00:48, 25.47it/s]"
     ]
    },
    {
     "name": "stdout",
     "output_type": "stream",
     "text": [
      "10232.txt\n",
      "10233.txt\n",
      "10234.txt\n",
      "10235.txt\n",
      "10236.txt\n"
     ]
    },
    {
     "name": "stderr",
     "output_type": "stream",
     "text": [
      "\r",
      " 89%|████████▊ | 9517/10742 [05:47<00:46, 26.54it/s]"
     ]
    },
    {
     "name": "stdout",
     "output_type": "stream",
     "text": [
      "10237.txt\n",
      "10238.txt\n",
      "10239.txt\n",
      "10240.txt\n",
      "10241.txt\n",
      "10242.txt\n"
     ]
    },
    {
     "name": "stderr",
     "output_type": "stream",
     "text": [
      " 89%|████████▊ | 9525/10742 [05:47<00:42, 28.77it/s]"
     ]
    },
    {
     "name": "stdout",
     "output_type": "stream",
     "text": [
      "10243.txt\n",
      "10244.txt\n",
      "10245.txt\n",
      "10246.txt\n",
      "10247.txt\n",
      "10248.txt\n"
     ]
    },
    {
     "name": "stderr",
     "output_type": "stream",
     "text": [
      " 89%|████████▊ | 9532/10742 [05:48<00:41, 29.11it/s]"
     ]
    },
    {
     "name": "stdout",
     "output_type": "stream",
     "text": [
      "10249.txt\n",
      "10250.txt\n",
      "10251.txt\n",
      "10252.txt\n",
      "10253.txt\n",
      "10254.txt\n"
     ]
    },
    {
     "name": "stderr",
     "output_type": "stream",
     "text": [
      "\r",
      " 89%|████████▉ | 9535/10742 [05:48<00:41, 29.28it/s]"
     ]
    },
    {
     "name": "stdout",
     "output_type": "stream",
     "text": [
      "10255.txt\n",
      "10256.txt\n",
      "10257.txt\n",
      "10258.txt\n",
      "10259.txt\n",
      "10260.txt\n"
     ]
    },
    {
     "name": "stderr",
     "output_type": "stream",
     "text": [
      " 89%|████████▉ | 9541/10742 [05:48<00:40, 29.53it/s]"
     ]
    },
    {
     "name": "stdout",
     "output_type": "stream",
     "text": [
      "10261.txt\n",
      "10262.txt\n",
      "10263.txt\n",
      "10264.txt\n",
      "10265.txt\n",
      "10266.txt\n"
     ]
    },
    {
     "name": "stderr",
     "output_type": "stream",
     "text": [
      " 89%|████████▉ | 9549/10742 [05:48<00:39, 30.39it/s]"
     ]
    },
    {
     "name": "stdout",
     "output_type": "stream",
     "text": [
      "10267.txt\n",
      "10268.txt\n",
      "10269.txt\n",
      "10270.txt\n",
      "10271.txt\n",
      "10272.txt\n",
      "10273.txt\n"
     ]
    },
    {
     "name": "stderr",
     "output_type": "stream",
     "text": [
      " 89%|████████▉ | 9557/10742 [05:49<00:38, 30.95it/s]"
     ]
    },
    {
     "name": "stdout",
     "output_type": "stream",
     "text": [
      "10274.txt\n",
      "10275.txt\n",
      "10276.txt\n",
      "10277.txt\n",
      "10278.txt\n",
      "10279.txt\n"
     ]
    },
    {
     "name": "stderr",
     "output_type": "stream",
     "text": [
      "\r",
      " 89%|████████▉ | 9561/10742 [05:49<00:39, 30.09it/s]"
     ]
    },
    {
     "name": "stdout",
     "output_type": "stream",
     "text": [
      "10280.txt\n",
      "10281.txt\n",
      "10282.txt\n",
      "10283.txt\n",
      "10284.txt\n",
      "10285.txt\n"
     ]
    },
    {
     "name": "stderr",
     "output_type": "stream",
     "text": [
      " 89%|████████▉ | 9569/10742 [05:49<00:38, 30.34it/s]"
     ]
    },
    {
     "name": "stdout",
     "output_type": "stream",
     "text": [
      "10286.txt\n",
      "10287.txt\n",
      "10288.txt\n",
      "10289.txt\n",
      "10290.txt\n",
      "10291.txt\n"
     ]
    },
    {
     "name": "stderr",
     "output_type": "stream",
     "text": [
      "\r",
      " 89%|████████▉ | 9573/10742 [05:49<00:38, 30.14it/s]"
     ]
    },
    {
     "name": "stdout",
     "output_type": "stream",
     "text": [
      "10292.txt\n",
      "10293.txt\n",
      "10294.txt\n",
      "10295.txt\n",
      "10296.txt\n",
      "10297.txt\n"
     ]
    },
    {
     "name": "stderr",
     "output_type": "stream",
     "text": [
      " 89%|████████▉ | 9580/10742 [05:49<00:42, 27.60it/s]"
     ]
    },
    {
     "name": "stdout",
     "output_type": "stream",
     "text": [
      "10298.txt\n",
      "10299.txt\n",
      "10300.txt\n",
      "10301.txt\n",
      "10302.txt\n"
     ]
    },
    {
     "name": "stderr",
     "output_type": "stream",
     "text": [
      "\r",
      " 89%|████████▉ | 9583/10742 [05:49<00:44, 25.93it/s]"
     ]
    },
    {
     "name": "stdout",
     "output_type": "stream",
     "text": [
      "10303.txt\n",
      "10304.txt\n",
      "10305.txt\n",
      "10306.txt\n",
      "10307.txt\n"
     ]
    },
    {
     "name": "stderr",
     "output_type": "stream",
     "text": [
      " 89%|████████▉ | 9589/10742 [05:50<00:50, 23.03it/s]"
     ]
    },
    {
     "name": "stdout",
     "output_type": "stream",
     "text": [
      "10308.txt\n",
      "10309.txt\n",
      "10310.txt\n",
      "10311.txt\n",
      "10312.txt\n"
     ]
    },
    {
     "name": "stderr",
     "output_type": "stream",
     "text": [
      " 89%|████████▉ | 9595/10742 [05:50<00:48, 23.46it/s]"
     ]
    },
    {
     "name": "stdout",
     "output_type": "stream",
     "text": [
      "10313.txt\n",
      "10314.txt\n",
      "10315.txt\n",
      "10316.txt\n",
      "10317.txt\n"
     ]
    },
    {
     "name": "stderr",
     "output_type": "stream",
     "text": [
      "\r",
      " 89%|████████▉ | 9598/10742 [05:50<00:45, 24.88it/s]"
     ]
    },
    {
     "name": "stdout",
     "output_type": "stream",
     "text": [
      "10318.txt\n",
      "10319.txt\n",
      "10320.txt\n",
      "10321.txt\n",
      "10322.txt\n",
      "10323.txt\n"
     ]
    },
    {
     "name": "stderr",
     "output_type": "stream",
     "text": [
      " 89%|████████▉ | 9604/10742 [05:50<00:45, 24.86it/s]"
     ]
    },
    {
     "name": "stdout",
     "output_type": "stream",
     "text": [
      "10324.txt\n",
      "10325.txt\n",
      "10326.txt\n",
      "10327.txt\n",
      "10328.txt\n",
      "10329.txt\n"
     ]
    },
    {
     "name": "stderr",
     "output_type": "stream",
     "text": [
      " 89%|████████▉ | 9610/10742 [05:51<00:47, 23.83it/s]"
     ]
    },
    {
     "name": "stdout",
     "output_type": "stream",
     "text": [
      "10330.txt\n",
      "10331.txt\n",
      "10332.txt\n",
      "10333.txt\n",
      "10334.txt\n"
     ]
    },
    {
     "name": "stderr",
     "output_type": "stream",
     "text": [
      " 90%|████████▉ | 9617/10742 [05:51<00:42, 26.49it/s]"
     ]
    },
    {
     "name": "stdout",
     "output_type": "stream",
     "text": [
      "10335.txt\n",
      "10336.txt\n",
      "10337.txt\n",
      "10338.txt\n",
      "10339.txt\n",
      "10340.txt\n"
     ]
    },
    {
     "name": "stderr",
     "output_type": "stream",
     "text": [
      " 90%|████████▉ | 9623/10742 [05:51<00:45, 24.55it/s]"
     ]
    },
    {
     "name": "stdout",
     "output_type": "stream",
     "text": [
      "10341.txt\n",
      "10342.txt\n",
      "10343.txt\n",
      "10344.txt\n",
      "10345.txt\n"
     ]
    },
    {
     "name": "stderr",
     "output_type": "stream",
     "text": [
      "\r",
      " 90%|████████▉ | 9626/10742 [05:51<00:43, 25.61it/s]"
     ]
    },
    {
     "name": "stdout",
     "output_type": "stream",
     "text": [
      "10346.txt\n",
      "10347.txt\n",
      "10348.txt\n",
      "10349.txt\n",
      "10350.txt\n",
      "10351.txt\n"
     ]
    },
    {
     "name": "stderr",
     "output_type": "stream",
     "text": [
      " 90%|████████▉ | 9633/10742 [05:51<00:40, 27.26it/s]"
     ]
    },
    {
     "name": "stdout",
     "output_type": "stream",
     "text": [
      "10352.txt\n",
      "10353.txt\n",
      "10354.txt\n",
      "10355.txt\n",
      "10356.txt\n",
      "10357.txt\n"
     ]
    },
    {
     "name": "stderr",
     "output_type": "stream",
     "text": [
      " 90%|████████▉ | 9639/10742 [05:52<00:41, 26.76it/s]"
     ]
    },
    {
     "name": "stdout",
     "output_type": "stream",
     "text": [
      "10358.txt\n",
      "10359.txt\n",
      "10360.txt\n",
      "10361.txt\n",
      "10362.txt\n",
      "10363.txt\n"
     ]
    },
    {
     "name": "stderr",
     "output_type": "stream",
     "text": [
      " 90%|████████▉ | 9645/10742 [05:52<00:39, 27.89it/s]"
     ]
    },
    {
     "name": "stdout",
     "output_type": "stream",
     "text": [
      "10364.txt\n",
      "10365.txt\n",
      "10366.txt\n",
      "10367.txt\n",
      "10368.txt\n",
      "10369.txt\n",
      "10370.txt\n"
     ]
    },
    {
     "name": "stderr",
     "output_type": "stream",
     "text": [
      " 90%|████████▉ | 9651/10742 [05:52<00:47, 23.07it/s]"
     ]
    },
    {
     "name": "stdout",
     "output_type": "stream",
     "text": [
      "10371.txt\n",
      "10372.txt\n",
      "10373.txt\n",
      "10374.txt\n"
     ]
    },
    {
     "name": "stderr",
     "output_type": "stream",
     "text": [
      "\r",
      " 90%|████████▉ | 9654/10742 [05:52<00:48, 22.38it/s]"
     ]
    },
    {
     "name": "stdout",
     "output_type": "stream",
     "text": [
      "10375.txt\n",
      "10376.txt\n",
      "10377.txt\n",
      "10378.txt\n",
      "10379.txt\n"
     ]
    },
    {
     "name": "stderr",
     "output_type": "stream",
     "text": [
      " 90%|████████▉ | 9660/10742 [05:53<00:52, 20.75it/s]"
     ]
    },
    {
     "name": "stdout",
     "output_type": "stream",
     "text": [
      "10380.txt\n",
      "10381.txt\n",
      "10382.txt\n",
      "10383.txt\n"
     ]
    },
    {
     "name": "stderr",
     "output_type": "stream",
     "text": [
      "\r",
      " 90%|████████▉ | 9663/10742 [05:53<00:55, 19.61it/s]"
     ]
    },
    {
     "name": "stdout",
     "output_type": "stream",
     "text": [
      "10384.txt\n",
      "10385.txt\n",
      "10386.txt\n",
      "10387.txt\n"
     ]
    },
    {
     "name": "stderr",
     "output_type": "stream",
     "text": [
      " 90%|█████████ | 9669/10742 [05:53<00:50, 21.23it/s]"
     ]
    },
    {
     "name": "stdout",
     "output_type": "stream",
     "text": [
      "10388.txt\n",
      "10389.txt\n",
      "10390.txt\n",
      "10391.txt\n",
      "10392.txt\n"
     ]
    },
    {
     "name": "stderr",
     "output_type": "stream",
     "text": [
      " 90%|█████████ | 9675/10742 [05:53<00:46, 23.02it/s]"
     ]
    },
    {
     "name": "stdout",
     "output_type": "stream",
     "text": [
      "10393.txt\n",
      "10394.txt\n",
      "10395.txt\n",
      "10396.txt\n",
      "10397.txt\n"
     ]
    },
    {
     "name": "stderr",
     "output_type": "stream",
     "text": [
      "\r",
      " 90%|█████████ | 9678/10742 [05:53<00:48, 22.16it/s]"
     ]
    },
    {
     "name": "stdout",
     "output_type": "stream",
     "text": [
      "10398.txt\n",
      "10399.txt\n",
      "10400.txt\n",
      "10401.txt\n"
     ]
    },
    {
     "name": "stderr",
     "output_type": "stream",
     "text": [
      " 90%|█████████ | 9684/10742 [05:54<00:44, 23.81it/s]"
     ]
    },
    {
     "name": "stdout",
     "output_type": "stream",
     "text": [
      "10402.txt\n",
      "10403.txt\n",
      "10404.txt\n",
      "10405.txt\n",
      "10406.txt\n"
     ]
    },
    {
     "name": "stderr",
     "output_type": "stream",
     "text": [
      " 90%|█████████ | 9690/10742 [05:54<00:40, 26.21it/s]"
     ]
    },
    {
     "name": "stdout",
     "output_type": "stream",
     "text": [
      "10407.txt\n",
      "10408.txt\n",
      "10409.txt\n",
      "10410.txt\n",
      "10411.txt\n",
      "10412.txt\n"
     ]
    },
    {
     "name": "stderr",
     "output_type": "stream",
     "text": [
      "\r",
      " 90%|█████████ | 9693/10742 [05:54<00:38, 26.97it/s]"
     ]
    },
    {
     "name": "stdout",
     "output_type": "stream",
     "text": [
      "10413.txt\n",
      "10414.txt\n",
      "10415.txt\n",
      "10416.txt\n",
      "10417.txt\n",
      "10418.txt\n"
     ]
    },
    {
     "name": "stderr",
     "output_type": "stream",
     "text": [
      " 90%|█████████ | 9699/10742 [05:54<00:40, 25.72it/s]"
     ]
    },
    {
     "name": "stdout",
     "output_type": "stream",
     "text": [
      "10419.txt\n",
      "10420.txt\n",
      "10421.txt\n",
      "10422.txt\n",
      "10423.txt\n"
     ]
    },
    {
     "name": "stderr",
     "output_type": "stream",
     "text": [
      " 90%|█████████ | 9705/10742 [05:55<00:40, 25.52it/s]"
     ]
    },
    {
     "name": "stdout",
     "output_type": "stream",
     "text": [
      "10424.txt\n",
      "10425.txt\n",
      "10426.txt\n",
      "10427.txt\n",
      "10428.txt\n",
      "10429.txt\n"
     ]
    },
    {
     "name": "stderr",
     "output_type": "stream",
     "text": [
      " 90%|█████████ | 9712/10742 [05:55<00:36, 28.09it/s]"
     ]
    },
    {
     "name": "stdout",
     "output_type": "stream",
     "text": [
      "10430.txt\n",
      "10431.txt\n",
      "10432.txt\n",
      "10433.txt\n",
      "10434.txt\n",
      "10435.txt\n",
      "10436.txt\n"
     ]
    },
    {
     "name": "stderr",
     "output_type": "stream",
     "text": [
      " 90%|█████████ | 9719/10742 [05:55<00:34, 29.59it/s]"
     ]
    },
    {
     "name": "stdout",
     "output_type": "stream",
     "text": [
      "10437.txt\n",
      "10438.txt\n",
      "10439.txt\n",
      "10440.txt\n",
      "10441.txt\n",
      "10442.txt\n",
      "10443.txt\n"
     ]
    },
    {
     "name": "stderr",
     "output_type": "stream",
     "text": [
      " 91%|█████████ | 9725/10742 [05:55<00:36, 27.60it/s]"
     ]
    },
    {
     "name": "stdout",
     "output_type": "stream",
     "text": [
      "10444.txt\n",
      "10445.txt\n",
      "10446.txt\n",
      "10447.txt\n",
      "10448.txt\n"
     ]
    },
    {
     "name": "stderr",
     "output_type": "stream",
     "text": [
      " 91%|█████████ | 9731/10742 [05:55<00:39, 25.78it/s]"
     ]
    },
    {
     "name": "stdout",
     "output_type": "stream",
     "text": [
      "10449.txt\n",
      "10450.txt\n",
      "10451.txt\n",
      "10452.txt\n",
      "10453.txt\n"
     ]
    },
    {
     "name": "stderr",
     "output_type": "stream",
     "text": [
      "\r",
      " 91%|█████████ | 9734/10742 [05:56<00:40, 24.88it/s]"
     ]
    },
    {
     "name": "stdout",
     "output_type": "stream",
     "text": [
      "10454.txt\n",
      "10455.txt\n",
      "10456.txt\n",
      "10457.txt\n",
      "10458.txt\n"
     ]
    },
    {
     "name": "stderr",
     "output_type": "stream",
     "text": [
      " 91%|█████████ | 9740/10742 [05:56<00:41, 24.11it/s]"
     ]
    },
    {
     "name": "stdout",
     "output_type": "stream",
     "text": [
      "10459.txt\n",
      "10460.txt\n",
      "10461.txt\n",
      "10462.txt\n",
      "10463.txt\n"
     ]
    },
    {
     "name": "stderr",
     "output_type": "stream",
     "text": [
      " 91%|█████████ | 9747/10742 [05:56<00:37, 26.85it/s]"
     ]
    },
    {
     "name": "stdout",
     "output_type": "stream",
     "text": [
      "10464.txt\n",
      "10465.txt\n",
      "10466.txt\n",
      "10467.txt\n",
      "10468.txt\n",
      "10469.txt\n"
     ]
    },
    {
     "name": "stderr",
     "output_type": "stream",
     "text": [
      "\r",
      " 91%|█████████ | 9750/10742 [05:56<00:37, 26.72it/s]"
     ]
    },
    {
     "name": "stdout",
     "output_type": "stream",
     "text": [
      "10470.txt\n",
      "10471.txt\n",
      "10472.txt\n",
      "10473.txt\n",
      "10474.txt\n",
      "10475.txt\n"
     ]
    },
    {
     "name": "stderr",
     "output_type": "stream",
     "text": [
      " 91%|█████████ | 9758/10742 [05:56<00:34, 28.72it/s]"
     ]
    },
    {
     "name": "stdout",
     "output_type": "stream",
     "text": [
      "10476.txt\n",
      "10477.txt\n",
      "10478.txt\n",
      "10479.txt\n",
      "10480.txt\n",
      "10481.txt\n",
      "10482.txt\n"
     ]
    },
    {
     "name": "stderr",
     "output_type": "stream",
     "text": [
      " 91%|█████████ | 9765/10742 [05:57<00:33, 29.02it/s]"
     ]
    },
    {
     "name": "stdout",
     "output_type": "stream",
     "text": [
      "10483.txt\n",
      "10484.txt\n",
      "10485.txt\n",
      "10486.txt\n",
      "10487.txt\n",
      "10488.txt\n",
      "10489.txt\n"
     ]
    },
    {
     "name": "stderr",
     "output_type": "stream",
     "text": [
      " 91%|█████████ | 9772/10742 [05:57<00:32, 29.74it/s]"
     ]
    },
    {
     "name": "stdout",
     "output_type": "stream",
     "text": [
      "10490.txt\n",
      "10491.txt\n",
      "10492.txt\n",
      "10493.txt\n",
      "10494.txt\n",
      "10495.txt\n",
      "10496.txt\n"
     ]
    },
    {
     "name": "stderr",
     "output_type": "stream",
     "text": [
      " 91%|█████████ | 9779/10742 [05:57<00:32, 29.56it/s]"
     ]
    },
    {
     "name": "stdout",
     "output_type": "stream",
     "text": [
      "10497.txt\n",
      "10498.txt\n",
      "10499.txt\n",
      "10500.txt\n",
      "10501.txt\n",
      "10502.txt\n",
      "10503.txt\n"
     ]
    },
    {
     "name": "stderr",
     "output_type": "stream",
     "text": [
      " 91%|█████████ | 9786/10742 [05:57<00:31, 30.00it/s]"
     ]
    },
    {
     "name": "stdout",
     "output_type": "stream",
     "text": [
      "10504.txt\n",
      "10505.txt\n",
      "10506.txt\n",
      "10507.txt\n",
      "10508.txt\n",
      "10509.txt\n",
      "10510.txt\n"
     ]
    },
    {
     "name": "stderr",
     "output_type": "stream",
     "text": [
      " 91%|█████████ | 9793/10742 [05:58<00:31, 30.37it/s]"
     ]
    },
    {
     "name": "stdout",
     "output_type": "stream",
     "text": [
      "10511.txt\n",
      "10512.txt\n",
      "10513.txt\n",
      "10514.txt\n",
      "10515.txt\n",
      "10516.txt\n",
      "10517.txt\n"
     ]
    },
    {
     "name": "stderr",
     "output_type": "stream",
     "text": [
      " 91%|█████████ | 9801/10742 [05:58<00:30, 30.60it/s]"
     ]
    },
    {
     "name": "stdout",
     "output_type": "stream",
     "text": [
      "10518.txt\n",
      "10519.txt\n",
      "10520.txt\n",
      "10521.txt\n",
      "10522.txt\n",
      "10523.txt\n"
     ]
    },
    {
     "name": "stderr",
     "output_type": "stream",
     "text": [
      "\r",
      " 91%|█████████▏| 9805/10742 [05:58<00:32, 29.02it/s]"
     ]
    },
    {
     "name": "stdout",
     "output_type": "stream",
     "text": [
      "10524.txt\n",
      "10525.txt\n",
      "10526.txt\n",
      "10527.txt\n",
      "10528.txt\n",
      "10529.txt\n"
     ]
    },
    {
     "name": "stderr",
     "output_type": "stream",
     "text": [
      " 91%|█████████▏| 9811/10742 [05:58<00:34, 26.66it/s]"
     ]
    },
    {
     "name": "stdout",
     "output_type": "stream",
     "text": [
      "10530.txt\n",
      "10531.txt\n",
      "10532.txt\n",
      "10533.txt\n",
      "10534.txt\n",
      "10535.txt\n"
     ]
    },
    {
     "name": "stderr",
     "output_type": "stream",
     "text": [
      " 91%|█████████▏| 9817/10742 [05:59<00:36, 25.18it/s]"
     ]
    },
    {
     "name": "stdout",
     "output_type": "stream",
     "text": [
      "10536.txt\n",
      "10537.txt\n",
      "10538.txt\n",
      "10539.txt\n",
      "10540.txt\n"
     ]
    },
    {
     "name": "stderr",
     "output_type": "stream",
     "text": [
      " 91%|█████████▏| 9823/10742 [05:59<00:36, 25.10it/s]"
     ]
    },
    {
     "name": "stdout",
     "output_type": "stream",
     "text": [
      "10541.txt\n",
      "10542.txt\n",
      "10543.txt\n",
      "10544.txt\n",
      "10545.txt\n"
     ]
    },
    {
     "name": "stderr",
     "output_type": "stream",
     "text": [
      "\r",
      " 91%|█████████▏| 9827/10742 [05:59<00:34, 26.86it/s]"
     ]
    },
    {
     "name": "stdout",
     "output_type": "stream",
     "text": [
      "10546.txt\n",
      "10547.txt\n",
      "10548.txt\n",
      "10549.txt\n",
      "10550.txt\n",
      "10551.txt\n",
      "10552.txt\n"
     ]
    },
    {
     "name": "stderr",
     "output_type": "stream",
     "text": [
      " 92%|█████████▏| 9834/10742 [05:59<00:31, 28.41it/s]"
     ]
    },
    {
     "name": "stdout",
     "output_type": "stream",
     "text": [
      "10553.txt\n",
      "10554.txt\n",
      "10555.txt\n",
      "10556.txt\n",
      "10557.txt\n",
      "10558.txt\n",
      "10559.txt\n"
     ]
    },
    {
     "name": "stderr",
     "output_type": "stream",
     "text": [
      " 92%|█████████▏| 9840/10742 [05:59<00:31, 28.33it/s]"
     ]
    },
    {
     "name": "stdout",
     "output_type": "stream",
     "text": [
      "10560.txt\n",
      "10561.txt\n",
      "10562.txt\n",
      "10563.txt\n",
      "10564.txt\n",
      "10565.txt\n"
     ]
    },
    {
     "name": "stderr",
     "output_type": "stream",
     "text": [
      " 92%|█████████▏| 9847/10742 [06:00<00:32, 27.83it/s]"
     ]
    },
    {
     "name": "stdout",
     "output_type": "stream",
     "text": [
      "10566.txt\n",
      "10567.txt\n",
      "10568.txt\n",
      "10569.txt\n",
      "10570.txt\n",
      "10571.txt\n"
     ]
    },
    {
     "name": "stderr",
     "output_type": "stream",
     "text": [
      " 92%|█████████▏| 9854/10742 [06:00<00:30, 28.85it/s]"
     ]
    },
    {
     "name": "stdout",
     "output_type": "stream",
     "text": [
      "10572.txt\n",
      "10573.txt\n",
      "10574.txt\n",
      "10575.txt\n",
      "10576.txt\n",
      "10577.txt\n",
      "10578.txt\n"
     ]
    },
    {
     "name": "stderr",
     "output_type": "stream",
     "text": [
      " 92%|█████████▏| 9861/10742 [06:00<00:29, 29.84it/s]"
     ]
    },
    {
     "name": "stdout",
     "output_type": "stream",
     "text": [
      "10579.txt\n",
      "10580.txt\n",
      "10581.txt\n",
      "10582.txt\n",
      "10583.txt\n",
      "10584.txt\n",
      "10585.txt\n"
     ]
    },
    {
     "name": "stderr",
     "output_type": "stream",
     "text": [
      " 92%|█████████▏| 9868/10742 [06:00<00:29, 30.10it/s]"
     ]
    },
    {
     "name": "stdout",
     "output_type": "stream",
     "text": [
      "10586.txt\n",
      "10587.txt\n",
      "10588.txt\n",
      "10589.txt\n",
      "10590.txt\n",
      "10591.txt\n",
      "10592.txt\n"
     ]
    },
    {
     "name": "stderr",
     "output_type": "stream",
     "text": [
      " 92%|█████████▏| 9875/10742 [06:01<00:29, 29.04it/s]"
     ]
    },
    {
     "name": "stdout",
     "output_type": "stream",
     "text": [
      "10593.txt\n",
      "10594.txt\n",
      "10595.txt\n",
      "10596.txt\n",
      "10597.txt\n",
      "10598.txt\n"
     ]
    },
    {
     "name": "stderr",
     "output_type": "stream",
     "text": [
      " 92%|█████████▏| 9882/10742 [06:01<00:29, 29.59it/s]"
     ]
    },
    {
     "name": "stdout",
     "output_type": "stream",
     "text": [
      "10599.txt\n",
      "10600.txt\n",
      "10601.txt\n",
      "10602.txt\n",
      "10603.txt\n",
      "10604.txt\n"
     ]
    },
    {
     "name": "stderr",
     "output_type": "stream",
     "text": [
      "\r",
      " 92%|█████████▏| 9885/10742 [06:01<00:30, 28.23it/s]"
     ]
    },
    {
     "name": "stdout",
     "output_type": "stream",
     "text": [
      "10605.txt\n",
      "10606.txt\n",
      "10607.txt\n",
      "10608.txt\n",
      "10609.txt\n"
     ]
    },
    {
     "name": "stderr",
     "output_type": "stream",
     "text": [
      " 92%|█████████▏| 9891/10742 [06:01<00:32, 26.15it/s]"
     ]
    },
    {
     "name": "stdout",
     "output_type": "stream",
     "text": [
      "10610.txt\n",
      "10611.txt\n",
      "10612.txt\n",
      "10613.txt\n",
      "10614.txt\n",
      "10615.txt\n"
     ]
    },
    {
     "name": "stderr",
     "output_type": "stream",
     "text": [
      " 92%|█████████▏| 9897/10742 [06:01<00:33, 25.31it/s]"
     ]
    },
    {
     "name": "stdout",
     "output_type": "stream",
     "text": [
      "10616.txt\n",
      "10617.txt\n",
      "10618.txt\n",
      "10619.txt\n",
      "10620.txt\n",
      "10621.txt\n"
     ]
    },
    {
     "name": "stderr",
     "output_type": "stream",
     "text": [
      " 92%|█████████▏| 9903/10742 [06:02<00:34, 24.35it/s]"
     ]
    },
    {
     "name": "stdout",
     "output_type": "stream",
     "text": [
      "10622.txt\n",
      "10623.txt\n",
      "10624.txt\n",
      "10625.txt\n",
      "10626.txt\n"
     ]
    },
    {
     "name": "stderr",
     "output_type": "stream",
     "text": [
      " 92%|█████████▏| 9910/10742 [06:02<00:30, 27.33it/s]"
     ]
    },
    {
     "name": "stdout",
     "output_type": "stream",
     "text": [
      "10627.txt\n",
      "10628.txt\n",
      "10629.txt\n",
      "10630.txt\n",
      "10631.txt\n",
      "10632.txt\n"
     ]
    },
    {
     "name": "stderr",
     "output_type": "stream",
     "text": [
      "\r",
      " 92%|█████████▏| 9913/10742 [06:02<00:29, 27.64it/s]"
     ]
    },
    {
     "name": "stdout",
     "output_type": "stream",
     "text": [
      "10633.txt\n",
      "10634.txt\n",
      "10635.txt\n",
      "10636.txt\n",
      "10637.txt\n",
      "10638.txt\n"
     ]
    },
    {
     "name": "stderr",
     "output_type": "stream",
     "text": [
      " 92%|█████████▏| 9920/10742 [06:02<00:28, 28.76it/s]"
     ]
    },
    {
     "name": "stdout",
     "output_type": "stream",
     "text": [
      "10639.txt\n",
      "10640.txt\n",
      "10641.txt\n",
      "10642.txt\n",
      "10643.txt\n",
      "10644.txt\n",
      "10645.txt\n"
     ]
    },
    {
     "name": "stderr",
     "output_type": "stream",
     "text": [
      " 92%|█████████▏| 9927/10742 [06:02<00:28, 28.90it/s]"
     ]
    },
    {
     "name": "stdout",
     "output_type": "stream",
     "text": [
      "10646.txt\n",
      "10647.txt\n",
      "10648.txt\n",
      "10649.txt\n",
      "10650.txt\n",
      "10651.txt\n"
     ]
    },
    {
     "name": "stderr",
     "output_type": "stream",
     "text": [
      " 92%|█████████▏| 9934/10742 [06:03<00:27, 29.44it/s]"
     ]
    },
    {
     "name": "stdout",
     "output_type": "stream",
     "text": [
      "10652.txt\n",
      "10653.txt\n",
      "10654.txt\n",
      "10655.txt\n",
      "10656.txt\n",
      "10657.txt\n",
      "10658.txt\n"
     ]
    },
    {
     "name": "stderr",
     "output_type": "stream",
     "text": [
      " 93%|█████████▎| 9941/10742 [06:03<00:26, 29.91it/s]"
     ]
    },
    {
     "name": "stdout",
     "output_type": "stream",
     "text": [
      "10659.txt\n",
      "10660.txt\n",
      "10661.txt\n",
      "10662.txt\n",
      "10663.txt\n",
      "10664.txt\n",
      "10665.txt\n"
     ]
    },
    {
     "name": "stderr",
     "output_type": "stream",
     "text": [
      " 93%|█████████▎| 9948/10742 [06:03<00:26, 30.35it/s]"
     ]
    },
    {
     "name": "stdout",
     "output_type": "stream",
     "text": [
      "10666.txt\n",
      "10667.txt\n",
      "10668.txt\n",
      "10669.txt\n",
      "10670.txt\n",
      "10671.txt\n",
      "10672.txt\n"
     ]
    },
    {
     "name": "stderr",
     "output_type": "stream",
     "text": [
      " 93%|█████████▎| 9956/10742 [06:03<00:25, 30.39it/s]"
     ]
    },
    {
     "name": "stdout",
     "output_type": "stream",
     "text": [
      "10673.txt\n",
      "10674.txt\n",
      "10675.txt\n",
      "10676.txt\n",
      "10677.txt\n",
      "10678.txt\n"
     ]
    },
    {
     "name": "stderr",
     "output_type": "stream",
     "text": [
      "\r",
      " 93%|█████████▎| 9960/10742 [06:04<00:25, 30.53it/s]"
     ]
    },
    {
     "name": "stdout",
     "output_type": "stream",
     "text": [
      "10679.txt\n",
      "10680.txt\n",
      "10681.txt\n",
      "10682.txt\n",
      "10683.txt\n",
      "10684.txt\n"
     ]
    },
    {
     "name": "stderr",
     "output_type": "stream",
     "text": [
      "\r",
      " 93%|█████████▎| 9964/10742 [06:04<00:25, 30.13it/s]"
     ]
    },
    {
     "name": "stdout",
     "output_type": "stream",
     "text": [
      "10685.txt\n",
      "10686.txt\n",
      "10687.txt\n",
      "10688.txt\n",
      "10689.txt\n",
      "10690.txt\n"
     ]
    },
    {
     "name": "stderr",
     "output_type": "stream",
     "text": [
      " 93%|█████████▎| 9971/10742 [06:04<00:28, 27.17it/s]"
     ]
    },
    {
     "name": "stdout",
     "output_type": "stream",
     "text": [
      "10691.txt\n",
      "10692.txt\n",
      "10693.txt\n",
      "10694.txt\n",
      "10695.txt\n"
     ]
    },
    {
     "name": "stderr",
     "output_type": "stream",
     "text": [
      " 93%|█████████▎| 9977/10742 [06:04<00:29, 26.27it/s]"
     ]
    },
    {
     "name": "stdout",
     "output_type": "stream",
     "text": [
      "10696.txt\n",
      "10697.txt\n",
      "10698.txt\n",
      "10699.txt\n",
      "10700.txt\n",
      "10701.txt\n"
     ]
    },
    {
     "name": "stderr",
     "output_type": "stream",
     "text": [
      " 93%|█████████▎| 9983/10742 [06:04<00:30, 24.87it/s]"
     ]
    },
    {
     "name": "stdout",
     "output_type": "stream",
     "text": [
      "10702.txt\n",
      "10703.txt\n",
      "10704.txt\n",
      "10705.txt\n",
      "10706.txt\n"
     ]
    },
    {
     "name": "stderr",
     "output_type": "stream",
     "text": [
      " 93%|█████████▎| 9990/10742 [06:05<00:28, 26.84it/s]"
     ]
    },
    {
     "name": "stdout",
     "output_type": "stream",
     "text": [
      "10707.txt\n",
      "10708.txt\n",
      "10709.txt\n",
      "10710.txt\n",
      "10711.txt\n",
      "10712.txt\n"
     ]
    },
    {
     "name": "stderr",
     "output_type": "stream",
     "text": [
      "\r",
      " 93%|█████████▎| 9993/10742 [06:05<00:27, 27.32it/s]"
     ]
    },
    {
     "name": "stdout",
     "output_type": "stream",
     "text": [
      "10713.txt\n",
      "10714.txt\n",
      "10715.txt\n",
      "10716.txt\n",
      "10717.txt\n",
      "10718.txt\n"
     ]
    },
    {
     "name": "stderr",
     "output_type": "stream",
     "text": [
      " 93%|█████████▎| 10001/10742 [06:05<00:25, 29.02it/s]"
     ]
    },
    {
     "name": "stdout",
     "output_type": "stream",
     "text": [
      "10719.txt\n",
      "10720.txt\n",
      "10721.txt\n",
      "10722.txt\n",
      "10723.txt\n",
      "10724.txt\n",
      "10725.txt\n"
     ]
    },
    {
     "name": "stderr",
     "output_type": "stream",
     "text": [
      " 93%|█████████▎| 10007/10742 [06:05<00:25, 29.28it/s]"
     ]
    },
    {
     "name": "stdout",
     "output_type": "stream",
     "text": [
      "10726.txt\n",
      "10727.txt\n",
      "10728.txt\n",
      "10729.txt\n",
      "10730.txt\n",
      "10731.txt\n",
      "10732.txt\n"
     ]
    },
    {
     "name": "stderr",
     "output_type": "stream",
     "text": [
      " 93%|█████████▎| 10014/10742 [06:06<00:25, 28.69it/s]"
     ]
    },
    {
     "name": "stdout",
     "output_type": "stream",
     "text": [
      "10733.txt\n",
      "10734.txt\n",
      "10735.txt\n",
      "10736.txt\n",
      "10737.txt\n",
      "10738.txt\n"
     ]
    },
    {
     "name": "stderr",
     "output_type": "stream",
     "text": [
      " 93%|█████████▎| 10021/10742 [06:06<00:24, 29.80it/s]"
     ]
    },
    {
     "name": "stdout",
     "output_type": "stream",
     "text": [
      "10739.txt\n",
      "10740.txt\n",
      "10741.txt\n",
      "10742.txt\n",
      "10743.txt\n",
      "10744.txt\n",
      "10745.txt\n"
     ]
    },
    {
     "name": "stderr",
     "output_type": "stream",
     "text": [
      " 93%|█████████▎| 10028/10742 [06:06<00:23, 30.45it/s]"
     ]
    },
    {
     "name": "stdout",
     "output_type": "stream",
     "text": [
      "10746.txt\n",
      "10747.txt\n",
      "10748.txt\n",
      "10749.txt\n",
      "10750.txt\n",
      "10751.txt\n",
      "10752.txt\n"
     ]
    },
    {
     "name": "stderr",
     "output_type": "stream",
     "text": [
      " 93%|█████████▎| 10036/10742 [06:06<00:23, 30.49it/s]"
     ]
    },
    {
     "name": "stdout",
     "output_type": "stream",
     "text": [
      "10753.txt\n",
      "10754.txt\n",
      "10755.txt\n",
      "10756.txt\n",
      "10757.txt\n",
      "10758.txt\n"
     ]
    },
    {
     "name": "stderr",
     "output_type": "stream",
     "text": [
      "\r",
      " 93%|█████████▎| 10040/10742 [06:06<00:22, 30.64it/s]"
     ]
    },
    {
     "name": "stdout",
     "output_type": "stream",
     "text": [
      "10759.txt\n",
      "10760.txt\n",
      "10761.txt\n",
      "10762.txt\n",
      "10763.txt\n",
      "10764.txt\n",
      "10765.txt\n"
     ]
    },
    {
     "name": "stderr",
     "output_type": "stream",
     "text": [
      " 94%|█████████▎| 10048/10742 [06:07<00:23, 29.56it/s]"
     ]
    },
    {
     "name": "stdout",
     "output_type": "stream",
     "text": [
      "10766.txt\n",
      "10767.txt\n",
      "10768.txt\n",
      "10769.txt\n",
      "10770.txt\n",
      "10771.txt\n"
     ]
    },
    {
     "name": "stderr",
     "output_type": "stream",
     "text": [
      " 94%|█████████▎| 10054/10742 [06:07<00:25, 26.80it/s]"
     ]
    },
    {
     "name": "stdout",
     "output_type": "stream",
     "text": [
      "10772.txt\n",
      "10773.txt\n",
      "10774.txt\n",
      "10775.txt\n",
      "10776.txt\n"
     ]
    },
    {
     "name": "stderr",
     "output_type": "stream",
     "text": [
      "\r",
      " 94%|█████████▎| 10057/10742 [06:07<00:26, 26.03it/s]"
     ]
    },
    {
     "name": "stdout",
     "output_type": "stream",
     "text": [
      "10777.txt\n",
      "10778.txt\n",
      "10779.txt\n",
      "10780.txt\n",
      "10781.txt\n",
      "10782.txt\n"
     ]
    },
    {
     "name": "stderr",
     "output_type": "stream",
     "text": [
      " 94%|█████████▎| 10063/10742 [06:07<00:26, 25.52it/s]"
     ]
    },
    {
     "name": "stdout",
     "output_type": "stream",
     "text": [
      "10783.txt\n",
      "10784.txt\n",
      "10785.txt\n",
      "10786.txt\n",
      "10787.txt\n"
     ]
    },
    {
     "name": "stderr",
     "output_type": "stream",
     "text": [
      " 94%|█████████▎| 10069/10742 [06:08<00:27, 24.43it/s]"
     ]
    },
    {
     "name": "stdout",
     "output_type": "stream",
     "text": [
      "10788.txt\n",
      "10789.txt\n",
      "10790.txt\n",
      "10791.txt\n",
      "10792.txt\n",
      "10793.txt\n"
     ]
    },
    {
     "name": "stderr",
     "output_type": "stream",
     "text": [
      " 94%|█████████▍| 10076/10742 [06:08<00:24, 27.61it/s]"
     ]
    },
    {
     "name": "stdout",
     "output_type": "stream",
     "text": [
      "10794.txt\n",
      "10795.txt\n",
      "10796.txt\n",
      "10797.txt\n",
      "10798.txt\n",
      "10799.txt\n",
      "10800.txt\n"
     ]
    },
    {
     "name": "stderr",
     "output_type": "stream",
     "text": [
      " 94%|█████████▍| 10082/10742 [06:08<00:23, 28.48it/s]"
     ]
    },
    {
     "name": "stdout",
     "output_type": "stream",
     "text": [
      "10801.txt\n",
      "10802.txt\n",
      "10803.txt\n",
      "10804.txt\n",
      "10805.txt\n",
      "10806.txt\n"
     ]
    },
    {
     "name": "stderr",
     "output_type": "stream",
     "text": [
      " 94%|█████████▍| 10088/10742 [06:08<00:24, 26.51it/s]"
     ]
    },
    {
     "name": "stdout",
     "output_type": "stream",
     "text": [
      "10807.txt\n",
      "10808.txt\n",
      "10809.txt\n",
      "10810.txt\n",
      "10811.txt\n",
      "10812.txt\n"
     ]
    },
    {
     "name": "stderr",
     "output_type": "stream",
     "text": [
      " 94%|█████████▍| 10094/10742 [06:08<00:24, 26.30it/s]"
     ]
    },
    {
     "name": "stdout",
     "output_type": "stream",
     "text": [
      "10813.txt\n",
      "10814.txt\n",
      "10815.txt\n",
      "10816.txt\n",
      "10817.txt\n",
      "10818.txt\n"
     ]
    },
    {
     "name": "stderr",
     "output_type": "stream",
     "text": [
      " 94%|█████████▍| 10100/10742 [06:09<00:26, 23.98it/s]"
     ]
    },
    {
     "name": "stdout",
     "output_type": "stream",
     "text": [
      "10819.txt\n",
      "10820.txt\n",
      "10821.txt\n",
      "10822.txt\n",
      "10823.txt\n"
     ]
    },
    {
     "name": "stderr",
     "output_type": "stream",
     "text": [
      " 94%|█████████▍| 10106/10742 [06:09<00:25, 24.77it/s]"
     ]
    },
    {
     "name": "stdout",
     "output_type": "stream",
     "text": [
      "10824.txt\n",
      "10825.txt\n",
      "10826.txt\n",
      "10827.txt\n",
      "10828.txt\n",
      "10829.txt\n"
     ]
    },
    {
     "name": "stderr",
     "output_type": "stream",
     "text": [
      " 94%|█████████▍| 10112/10742 [06:09<00:25, 24.92it/s]"
     ]
    },
    {
     "name": "stdout",
     "output_type": "stream",
     "text": [
      "10830.txt\n",
      "10831.txt\n",
      "10832.txt\n",
      "10833.txt\n",
      "10834.txt\n"
     ]
    },
    {
     "name": "stderr",
     "output_type": "stream",
     "text": [
      "\r",
      " 94%|█████████▍| 10115/10742 [06:09<00:25, 24.87it/s]"
     ]
    },
    {
     "name": "stdout",
     "output_type": "stream",
     "text": [
      "10835.txt\n",
      "10836.txt\n",
      "10837.txt\n",
      "10838.txt\n",
      "10839.txt\n",
      "10840.txt\n"
     ]
    },
    {
     "name": "stderr",
     "output_type": "stream",
     "text": [
      " 94%|█████████▍| 10121/10742 [06:10<00:25, 24.10it/s]"
     ]
    },
    {
     "name": "stdout",
     "output_type": "stream",
     "text": [
      "10841.txt\n",
      "10842.txt\n",
      "10843.txt\n",
      "10844.txt\n",
      "10845.txt\n"
     ]
    },
    {
     "name": "stderr",
     "output_type": "stream",
     "text": [
      " 94%|█████████▍| 10127/10742 [06:10<00:25, 24.19it/s]"
     ]
    },
    {
     "name": "stdout",
     "output_type": "stream",
     "text": [
      "10846.txt\n",
      "10847.txt\n",
      "10848.txt\n",
      "10849.txt\n",
      "10850.txt\n",
      "10851.txt\n"
     ]
    },
    {
     "name": "stderr",
     "output_type": "stream",
     "text": [
      " 94%|█████████▍| 10133/10742 [06:10<00:25, 24.02it/s]"
     ]
    },
    {
     "name": "stdout",
     "output_type": "stream",
     "text": [
      "10852.txt\n",
      "10853.txt\n",
      "10854.txt\n",
      "10855.txt\n",
      "10856.txt\n"
     ]
    },
    {
     "name": "stderr",
     "output_type": "stream",
     "text": [
      " 94%|█████████▍| 10139/10742 [06:10<00:26, 22.39it/s]"
     ]
    },
    {
     "name": "stdout",
     "output_type": "stream",
     "text": [
      "10857.txt\n",
      "10858.txt\n",
      "10859.txt\n",
      "10860.txt\n",
      "10861.txt\n"
     ]
    },
    {
     "name": "stderr",
     "output_type": "stream",
     "text": [
      " 94%|█████████▍| 10145/10742 [06:11<00:24, 24.87it/s]"
     ]
    },
    {
     "name": "stdout",
     "output_type": "stream",
     "text": [
      "10862.txt\n",
      "10863.txt\n",
      "10864.txt\n",
      "10865.txt\n",
      "10866.txt\n",
      "10867.txt\n"
     ]
    },
    {
     "name": "stderr",
     "output_type": "stream",
     "text": [
      " 94%|█████████▍| 10151/10742 [06:11<00:22, 26.78it/s]"
     ]
    },
    {
     "name": "stdout",
     "output_type": "stream",
     "text": [
      "10868.txt\n",
      "10869.txt\n",
      "10870.txt\n",
      "10871.txt\n",
      "10872.txt\n",
      "10873.txt\n"
     ]
    },
    {
     "name": "stderr",
     "output_type": "stream",
     "text": [
      " 95%|█████████▍| 10157/10742 [06:11<00:20, 27.95it/s]"
     ]
    },
    {
     "name": "stdout",
     "output_type": "stream",
     "text": [
      "10874.txt\n",
      "10875.txt\n",
      "10876.txt\n",
      "10877.txt\n",
      "10878.txt\n",
      "10879.txt\n"
     ]
    },
    {
     "name": "stderr",
     "output_type": "stream",
     "text": [
      "\r",
      " 95%|█████████▍| 10160/10742 [06:11<00:20, 28.47it/s]"
     ]
    },
    {
     "name": "stdout",
     "output_type": "stream",
     "text": [
      "10880.txt\n",
      "10881.txt\n",
      "10882.txt\n",
      "10883.txt\n",
      "10884.txt\n",
      "10885.txt\n",
      "10886.txt\n"
     ]
    },
    {
     "name": "stderr",
     "output_type": "stream",
     "text": [
      " 95%|█████████▍| 10167/10742 [06:11<00:19, 28.90it/s]"
     ]
    },
    {
     "name": "stdout",
     "output_type": "stream",
     "text": [
      "10887.txt\n",
      "10888.txt\n",
      "10889.txt\n",
      "10890.txt\n",
      "10891.txt\n",
      "10892.txt\n"
     ]
    },
    {
     "name": "stderr",
     "output_type": "stream",
     "text": [
      " 95%|█████████▍| 10175/10742 [06:12<00:18, 29.87it/s]"
     ]
    },
    {
     "name": "stdout",
     "output_type": "stream",
     "text": [
      "10893.txt\n",
      "10894.txt\n",
      "10895.txt\n",
      "10896.txt\n",
      "10897.txt\n",
      "10898.txt\n",
      "10899.txt\n"
     ]
    },
    {
     "name": "stderr",
     "output_type": "stream",
     "text": [
      " 95%|█████████▍| 10182/10742 [06:12<00:18, 30.40it/s]"
     ]
    },
    {
     "name": "stdout",
     "output_type": "stream",
     "text": [
      "10900.txt\n",
      "10901.txt\n",
      "10902.txt\n",
      "10903.txt\n",
      "10904.txt\n",
      "10905.txt\n",
      "10906.txt\n"
     ]
    },
    {
     "name": "stderr",
     "output_type": "stream",
     "text": [
      " 95%|█████████▍| 10190/10742 [06:12<00:18, 30.36it/s]"
     ]
    },
    {
     "name": "stdout",
     "output_type": "stream",
     "text": [
      "10907.txt\n",
      "10908.txt\n",
      "10909.txt\n",
      "10910.txt\n",
      "10911.txt\n",
      "10912.txt\n"
     ]
    },
    {
     "name": "stderr",
     "output_type": "stream",
     "text": [
      "\r",
      " 95%|█████████▍| 10194/10742 [06:12<00:18, 30.16it/s]"
     ]
    },
    {
     "name": "stdout",
     "output_type": "stream",
     "text": [
      "10913.txt\n",
      "10914.txt\n",
      "10915.txt\n",
      "10916.txt\n",
      "10917.txt\n",
      "10918.txt\n"
     ]
    },
    {
     "name": "stderr",
     "output_type": "stream",
     "text": [
      " 95%|█████████▍| 10202/10742 [06:12<00:18, 29.41it/s]"
     ]
    },
    {
     "name": "stdout",
     "output_type": "stream",
     "text": [
      "10919.txt\n",
      "10920.txt\n",
      "10921.txt\n",
      "10922.txt\n",
      "10923.txt\n",
      "10924.txt\n"
     ]
    },
    {
     "name": "stderr",
     "output_type": "stream",
     "text": [
      "\r",
      " 95%|█████████▌| 10205/10742 [06:13<00:20, 26.38it/s]"
     ]
    },
    {
     "name": "stdout",
     "output_type": "stream",
     "text": [
      "10925.txt\n",
      "10926.txt\n",
      "10927.txt\n",
      "10928.txt\n"
     ]
    },
    {
     "name": "stderr",
     "output_type": "stream",
     "text": [
      " 95%|█████████▌| 10211/10742 [06:13<00:21, 24.92it/s]"
     ]
    },
    {
     "name": "stdout",
     "output_type": "stream",
     "text": [
      "10929.txt\n",
      "10930.txt\n",
      "10931.txt\n",
      "10932.txt\n",
      "10933.txt\n"
     ]
    },
    {
     "name": "stderr",
     "output_type": "stream",
     "text": [
      "\r",
      " 95%|█████████▌| 10214/10742 [06:13<00:21, 24.85it/s]"
     ]
    },
    {
     "name": "stdout",
     "output_type": "stream",
     "text": [
      "10934.txt\n",
      "10935.txt\n",
      "10936.txt\n",
      "10937.txt\n",
      "10938.txt\n"
     ]
    },
    {
     "name": "stderr",
     "output_type": "stream",
     "text": [
      " 95%|█████████▌| 10220/10742 [06:13<00:21, 24.77it/s]"
     ]
    },
    {
     "name": "stdout",
     "output_type": "stream",
     "text": [
      "10939.txt\n",
      "10940.txt\n",
      "10941.txt\n",
      "10942.txt\n",
      "10943.txt\n"
     ]
    },
    {
     "name": "stderr",
     "output_type": "stream",
     "text": [
      " 95%|█████████▌| 10226/10742 [06:13<00:20, 25.69it/s]"
     ]
    },
    {
     "name": "stdout",
     "output_type": "stream",
     "text": [
      "10944.txt\n",
      "10945.txt\n",
      "10946.txt\n",
      "10947.txt\n",
      "10948.txt\n",
      "10949.txt\n"
     ]
    },
    {
     "name": "stderr",
     "output_type": "stream",
     "text": [
      " 95%|█████████▌| 10233/10742 [06:14<00:18, 27.27it/s]"
     ]
    },
    {
     "name": "stdout",
     "output_type": "stream",
     "text": [
      "10950.txt\n",
      "10951.txt\n",
      "10952.txt\n",
      "10953.txt\n",
      "10954.txt\n",
      "10955.txt\n"
     ]
    },
    {
     "name": "stderr",
     "output_type": "stream",
     "text": [
      "\r",
      " 95%|█████████▌| 10237/10742 [06:14<00:17, 28.50it/s]"
     ]
    },
    {
     "name": "stdout",
     "output_type": "stream",
     "text": [
      "10956.txt\n",
      "10957.txt\n",
      "10958.txt\n",
      "10959.txt\n",
      "10960.txt\n",
      "10961.txt\n"
     ]
    },
    {
     "name": "stderr",
     "output_type": "stream",
     "text": [
      " 95%|█████████▌| 10244/10742 [06:14<00:17, 29.25it/s]"
     ]
    },
    {
     "name": "stdout",
     "output_type": "stream",
     "text": [
      "10962.txt\n",
      "10963.txt\n",
      "10964.txt\n",
      "10965.txt\n",
      "10966.txt\n",
      "10967.txt\n",
      "10968.txt\n"
     ]
    },
    {
     "name": "stderr",
     "output_type": "stream",
     "text": [
      " 95%|█████████▌| 10251/10742 [06:14<00:16, 29.24it/s]"
     ]
    },
    {
     "name": "stdout",
     "output_type": "stream",
     "text": [
      "10969.txt\n",
      "10970.txt\n",
      "10971.txt\n",
      "10972.txt\n",
      "10973.txt\n",
      "10974.txt\n"
     ]
    },
    {
     "name": "stderr",
     "output_type": "stream",
     "text": [
      " 95%|█████████▌| 10258/10742 [06:15<00:16, 29.81it/s]"
     ]
    },
    {
     "name": "stdout",
     "output_type": "stream",
     "text": [
      "10975.txt\n",
      "10976.txt\n",
      "10977.txt\n",
      "10978.txt\n",
      "10979.txt\n",
      "10980.txt\n"
     ]
    },
    {
     "name": "stderr",
     "output_type": "stream",
     "text": [
      "\r",
      " 96%|█████████▌| 10261/10742 [06:15<00:16, 29.46it/s]"
     ]
    },
    {
     "name": "stdout",
     "output_type": "stream",
     "text": [
      "10981.txt\n",
      "10982.txt\n",
      "10983.txt\n",
      "10984.txt\n",
      "10985.txt\n",
      "10986.txt\n",
      "10987.txt\n"
     ]
    },
    {
     "name": "stderr",
     "output_type": "stream",
     "text": [
      " 96%|█████████▌| 10268/10742 [06:15<00:16, 29.55it/s]"
     ]
    },
    {
     "name": "stdout",
     "output_type": "stream",
     "text": [
      "10988.txt\n",
      "10989.txt\n",
      "10990.txt\n",
      "10991.txt\n",
      "10992.txt\n",
      "10993.txt\n",
      "10994.txt\n"
     ]
    },
    {
     "name": "stderr",
     "output_type": "stream",
     "text": [
      " 96%|█████████▌| 10276/10742 [06:15<00:15, 30.23it/s]"
     ]
    },
    {
     "name": "stdout",
     "output_type": "stream",
     "text": [
      "10995.txt\n",
      "10996.txt\n",
      "10997.txt\n",
      "10998.txt\n",
      "10999.txt\n",
      "11000.txt\n"
     ]
    },
    {
     "name": "stderr",
     "output_type": "stream",
     "text": [
      " 96%|█████████▌| 10283/10742 [06:15<00:15, 29.87it/s]"
     ]
    },
    {
     "name": "stdout",
     "output_type": "stream",
     "text": [
      "11001.txt\n",
      "11002.txt\n",
      "11003.txt\n",
      "11004.txt\n",
      "11005.txt\n",
      "11006.txt\n"
     ]
    },
    {
     "name": "stderr",
     "output_type": "stream",
     "text": [
      " 96%|█████████▌| 10289/10742 [06:16<00:17, 26.12it/s]"
     ]
    },
    {
     "name": "stdout",
     "output_type": "stream",
     "text": [
      "11007.txt\n",
      "11008.txt\n",
      "11009.txt\n",
      "11010.txt\n",
      "11011.txt\n"
     ]
    },
    {
     "name": "stderr",
     "output_type": "stream",
     "text": [
      "\r",
      " 96%|█████████▌| 10292/10742 [06:16<00:18, 24.94it/s]"
     ]
    },
    {
     "name": "stdout",
     "output_type": "stream",
     "text": [
      "11012.txt\n",
      "11013.txt\n",
      "11014.txt\n",
      "11015.txt\n",
      "11016.txt\n"
     ]
    },
    {
     "name": "stderr",
     "output_type": "stream",
     "text": [
      " 96%|█████████▌| 10298/10742 [06:16<00:18, 23.56it/s]"
     ]
    },
    {
     "name": "stdout",
     "output_type": "stream",
     "text": [
      "11017.txt\n",
      "11018.txt\n",
      "11019.txt\n",
      "11020.txt\n",
      "11021.txt\n"
     ]
    },
    {
     "name": "stderr",
     "output_type": "stream",
     "text": [
      " 96%|█████████▌| 10305/10742 [06:16<00:16, 25.75it/s]"
     ]
    },
    {
     "name": "stdout",
     "output_type": "stream",
     "text": [
      "11022.txt\n",
      "11023.txt\n",
      "11024.txt\n",
      "11025.txt\n",
      "11026.txt\n",
      "11027.txt\n"
     ]
    },
    {
     "name": "stderr",
     "output_type": "stream",
     "text": [
      "\r",
      " 96%|█████████▌| 10308/10742 [06:16<00:16, 26.57it/s]"
     ]
    },
    {
     "name": "stdout",
     "output_type": "stream",
     "text": [
      "11028.txt\n",
      "11029.txt\n",
      "11030.txt\n",
      "11031.txt\n",
      "11032.txt\n",
      "11033.txt\n"
     ]
    },
    {
     "name": "stderr",
     "output_type": "stream",
     "text": [
      " 96%|█████████▌| 10314/10742 [06:17<00:15, 27.10it/s]"
     ]
    },
    {
     "name": "stdout",
     "output_type": "stream",
     "text": [
      "11034.txt\n",
      "11035.txt\n",
      "11036.txt\n",
      "11037.txt\n",
      "11038.txt\n",
      "11039.txt\n"
     ]
    },
    {
     "name": "stderr",
     "output_type": "stream",
     "text": [
      " 96%|█████████▌| 10321/10742 [06:17<00:14, 28.52it/s]"
     ]
    },
    {
     "name": "stdout",
     "output_type": "stream",
     "text": [
      "11040.txt\n",
      "11041.txt\n",
      "11042.txt\n",
      "11043.txt\n",
      "11044.txt\n",
      "11045.txt\n",
      "11046.txt\n"
     ]
    },
    {
     "name": "stderr",
     "output_type": "stream",
     "text": [
      " 96%|█████████▌| 10329/10742 [06:17<00:13, 30.08it/s]"
     ]
    },
    {
     "name": "stdout",
     "output_type": "stream",
     "text": [
      "11047.txt\n",
      "11048.txt\n",
      "11049.txt\n",
      "11050.txt\n",
      "11051.txt\n",
      "11052.txt\n",
      "11053.txt\n"
     ]
    },
    {
     "name": "stderr",
     "output_type": "stream",
     "text": [
      " 96%|█████████▌| 10336/10742 [06:17<00:13, 29.48it/s]"
     ]
    },
    {
     "name": "stdout",
     "output_type": "stream",
     "text": [
      "11054.txt\n",
      "11055.txt\n",
      "11056.txt\n",
      "11057.txt\n",
      "11058.txt\n",
      "11059.txt\n",
      "11060.txt\n"
     ]
    },
    {
     "name": "stderr",
     "output_type": "stream",
     "text": [
      " 96%|█████████▋| 10343/10742 [06:18<00:13, 29.67it/s]"
     ]
    },
    {
     "name": "stdout",
     "output_type": "stream",
     "text": [
      "11061.txt\n",
      "11062.txt\n",
      "11063.txt\n",
      "11064.txt\n",
      "11065.txt\n",
      "11066.txt\n",
      "11067.txt\n"
     ]
    },
    {
     "name": "stderr",
     "output_type": "stream",
     "text": [
      " 96%|█████████▋| 10350/10742 [06:18<00:13, 29.94it/s]"
     ]
    },
    {
     "name": "stdout",
     "output_type": "stream",
     "text": [
      "11068.txt\n",
      "11069.txt\n",
      "11070.txt\n",
      "11071.txt\n",
      "11072.txt\n",
      "11073.txt\n",
      "11074.txt\n"
     ]
    },
    {
     "name": "stderr",
     "output_type": "stream",
     "text": [
      " 96%|█████████▋| 10357/10742 [06:18<00:12, 29.99it/s]"
     ]
    },
    {
     "name": "stdout",
     "output_type": "stream",
     "text": [
      "11075.txt\n",
      "11076.txt\n",
      "11077.txt\n",
      "11078.txt\n",
      "11079.txt\n",
      "11080.txt\n",
      "11081.txt\n"
     ]
    },
    {
     "name": "stderr",
     "output_type": "stream",
     "text": [
      " 96%|█████████▋| 10363/10742 [06:18<00:12, 29.36it/s]"
     ]
    },
    {
     "name": "stdout",
     "output_type": "stream",
     "text": [
      "11082.txt\n",
      "11083.txt\n",
      "11084.txt\n",
      "11085.txt\n",
      "11086.txt\n",
      "11087.txt\n"
     ]
    },
    {
     "name": "stderr",
     "output_type": "stream",
     "text": [
      " 97%|█████████▋| 10369/10742 [06:19<00:15, 24.14it/s]"
     ]
    },
    {
     "name": "stdout",
     "output_type": "stream",
     "text": [
      "11088.txt\n",
      "11089.txt\n",
      "11090.txt\n",
      "11091.txt\n"
     ]
    },
    {
     "name": "stderr",
     "output_type": "stream",
     "text": [
      "\r",
      " 97%|█████████▋| 10372/10742 [06:19<00:14, 25.02it/s]"
     ]
    },
    {
     "name": "stdout",
     "output_type": "stream",
     "text": [
      "11092.txt\n",
      "11093.txt\n",
      "11094.txt\n",
      "11095.txt\n",
      "11096.txt\n",
      "11097.txt\n"
     ]
    },
    {
     "name": "stderr",
     "output_type": "stream",
     "text": [
      " 97%|█████████▋| 10378/10742 [06:19<00:14, 24.40it/s]"
     ]
    },
    {
     "name": "stdout",
     "output_type": "stream",
     "text": [
      "11098.txt\n",
      "11099.txt\n",
      "11100.txt\n",
      "11101.txt\n",
      "11102.txt\n"
     ]
    },
    {
     "name": "stderr",
     "output_type": "stream",
     "text": [
      " 97%|█████████▋| 10384/10742 [06:19<00:14, 24.46it/s]"
     ]
    },
    {
     "name": "stdout",
     "output_type": "stream",
     "text": [
      "11103.txt\n",
      "11104.txt\n",
      "11105.txt\n",
      "11106.txt\n",
      "11107.txt\n",
      "11108.txt\n"
     ]
    },
    {
     "name": "stderr",
     "output_type": "stream",
     "text": [
      " 97%|█████████▋| 10391/10742 [06:19<00:12, 27.56it/s]"
     ]
    },
    {
     "name": "stdout",
     "output_type": "stream",
     "text": [
      "11109.txt\n",
      "11110.txt\n",
      "11111.txt\n",
      "11112.txt\n",
      "11113.txt\n",
      "11114.txt\n",
      "11115.txt\n"
     ]
    },
    {
     "name": "stderr",
     "output_type": "stream",
     "text": [
      " 97%|█████████▋| 10397/10742 [06:20<00:12, 27.33it/s]"
     ]
    },
    {
     "name": "stdout",
     "output_type": "stream",
     "text": [
      "11116.txt\n",
      "11117.txt\n",
      "11118.txt\n",
      "11119.txt\n",
      "11120.txt\n",
      "11121.txt\n"
     ]
    },
    {
     "name": "stderr",
     "output_type": "stream",
     "text": [
      " 97%|█████████▋| 10403/10742 [06:20<00:12, 26.37it/s]"
     ]
    },
    {
     "name": "stdout",
     "output_type": "stream",
     "text": [
      "11122.txt\n",
      "11123.txt\n",
      "11124.txt\n",
      "11125.txt\n",
      "11126.txt\n",
      "11127.txt\n"
     ]
    },
    {
     "name": "stderr",
     "output_type": "stream",
     "text": [
      " 97%|█████████▋| 10410/10742 [06:20<00:11, 28.61it/s]"
     ]
    },
    {
     "name": "stdout",
     "output_type": "stream",
     "text": [
      "11128.txt\n",
      "11129.txt\n",
      "11130.txt\n",
      "11131.txt\n",
      "11132.txt\n",
      "11133.txt\n",
      "11134.txt\n"
     ]
    },
    {
     "name": "stderr",
     "output_type": "stream",
     "text": [
      " 97%|█████████▋| 10417/10742 [06:20<00:11, 29.35it/s]"
     ]
    },
    {
     "name": "stdout",
     "output_type": "stream",
     "text": [
      "11135.txt\n",
      "11136.txt\n",
      "11137.txt\n",
      "11138.txt\n",
      "11139.txt\n",
      "11140.txt\n",
      "11141.txt\n"
     ]
    },
    {
     "name": "stderr",
     "output_type": "stream",
     "text": [
      " 97%|█████████▋| 10424/10742 [06:21<00:10, 29.73it/s]"
     ]
    },
    {
     "name": "stdout",
     "output_type": "stream",
     "text": [
      "11142.txt\n",
      "11143.txt\n",
      "11144.txt\n",
      "11145.txt\n",
      "11146.txt\n",
      "11147.txt\n",
      "11148.txt\n"
     ]
    },
    {
     "name": "stderr",
     "output_type": "stream",
     "text": [
      " 97%|█████████▋| 10431/10742 [06:21<00:10, 30.31it/s]"
     ]
    },
    {
     "name": "stdout",
     "output_type": "stream",
     "text": [
      "11149.txt\n",
      "11150.txt\n",
      "11151.txt\n",
      "11152.txt\n",
      "11153.txt\n",
      "11154.txt\n",
      "11155.txt\n"
     ]
    },
    {
     "name": "stderr",
     "output_type": "stream",
     "text": [
      " 97%|█████████▋| 10438/10742 [06:21<00:10, 29.51it/s]"
     ]
    },
    {
     "name": "stdout",
     "output_type": "stream",
     "text": [
      "11156.txt\n",
      "11157.txt\n",
      "11158.txt\n",
      "11159.txt\n",
      "11160.txt\n",
      "11161.txt\n"
     ]
    },
    {
     "name": "stderr",
     "output_type": "stream",
     "text": [
      "\r",
      " 97%|█████████▋| 10442/10742 [06:21<00:10, 29.80it/s]"
     ]
    },
    {
     "name": "stdout",
     "output_type": "stream",
     "text": [
      "11162.txt\n",
      "11163.txt\n",
      "11164.txt\n",
      "11165.txt\n",
      "11166.txt\n",
      "11167.txt\n"
     ]
    },
    {
     "name": "stderr",
     "output_type": "stream",
     "text": [
      " 97%|█████████▋| 10448/10742 [06:21<00:11, 25.74it/s]"
     ]
    },
    {
     "name": "stdout",
     "output_type": "stream",
     "text": [
      "11168.txt\n",
      "11169.txt\n",
      "11170.txt\n",
      "11171.txt\n",
      "11172.txt\n"
     ]
    },
    {
     "name": "stderr",
     "output_type": "stream",
     "text": [
      " 97%|█████████▋| 10454/10742 [06:22<00:11, 24.13it/s]"
     ]
    },
    {
     "name": "stdout",
     "output_type": "stream",
     "text": [
      "11173.txt\n",
      "11174.txt\n",
      "11175.txt\n",
      "11176.txt\n",
      "11177.txt\n"
     ]
    },
    {
     "name": "stderr",
     "output_type": "stream",
     "text": [
      " 97%|█████████▋| 10460/10742 [06:22<00:11, 24.32it/s]"
     ]
    },
    {
     "name": "stdout",
     "output_type": "stream",
     "text": [
      "11178.txt\n",
      "11179.txt\n",
      "11180.txt\n",
      "11181.txt\n",
      "11182.txt\n"
     ]
    },
    {
     "name": "stderr",
     "output_type": "stream",
     "text": [
      "\r",
      " 97%|█████████▋| 10463/10742 [06:22<00:12, 23.14it/s]"
     ]
    },
    {
     "name": "stdout",
     "output_type": "stream",
     "text": [
      "11183.txt\n",
      "11184.txt\n",
      "11185.txt\n",
      "11186.txt\n",
      "11187.txt\n"
     ]
    },
    {
     "name": "stderr",
     "output_type": "stream",
     "text": [
      " 97%|█████████▋| 10469/10742 [06:22<00:10, 26.04it/s]"
     ]
    },
    {
     "name": "stdout",
     "output_type": "stream",
     "text": [
      "11188.txt\n",
      "11189.txt\n",
      "11190.txt\n",
      "11191.txt\n",
      "11192.txt\n",
      "11193.txt\n",
      "11194.txt\n"
     ]
    },
    {
     "name": "stderr",
     "output_type": "stream",
     "text": [
      " 98%|█████████▊| 10478/10742 [06:23<00:09, 27.42it/s]"
     ]
    },
    {
     "name": "stdout",
     "output_type": "stream",
     "text": [
      "11195.txt\n",
      "11196.txt\n",
      "11197.txt\n",
      "11198.txt\n",
      "11199.txt\n",
      "11200.txt\n"
     ]
    },
    {
     "name": "stderr",
     "output_type": "stream",
     "text": [
      "\r",
      " 98%|█████████▊| 10481/10742 [06:23<00:09, 28.01it/s]"
     ]
    },
    {
     "name": "stdout",
     "output_type": "stream",
     "text": [
      "11201.txt\n",
      "11202.txt\n",
      "11203.txt\n",
      "11204.txt\n",
      "11205.txt\n",
      "11206.txt\n",
      "11207.txt\n"
     ]
    },
    {
     "name": "stderr",
     "output_type": "stream",
     "text": [
      " 98%|█████████▊| 10488/10742 [06:23<00:08, 28.96it/s]"
     ]
    },
    {
     "name": "stdout",
     "output_type": "stream",
     "text": [
      "11208.txt\n",
      "11209.txt\n",
      "11210.txt\n",
      "11211.txt\n",
      "11212.txt\n",
      "11213.txt\n",
      "11214.txt\n"
     ]
    },
    {
     "name": "stderr",
     "output_type": "stream",
     "text": [
      " 98%|█████████▊| 10498/10742 [06:23<00:08, 29.09it/s]"
     ]
    },
    {
     "name": "stdout",
     "output_type": "stream",
     "text": [
      "11215.txt\n",
      "11216.txt\n",
      "11217.txt\n",
      "11218.txt\n",
      "11219.txt\n",
      "11220.txt\n"
     ]
    },
    {
     "name": "stderr",
     "output_type": "stream",
     "text": [
      "\r",
      " 98%|█████████▊| 10501/10742 [06:23<00:08, 28.42it/s]"
     ]
    },
    {
     "name": "stdout",
     "output_type": "stream",
     "text": [
      "11221.txt\n",
      "11222.txt\n",
      "11223.txt\n",
      "11224.txt\n",
      "11225.txt\n",
      "11226.txt\n"
     ]
    },
    {
     "name": "stderr",
     "output_type": "stream",
     "text": [
      " 98%|█████████▊| 10507/10742 [06:24<00:08, 28.92it/s]"
     ]
    },
    {
     "name": "stdout",
     "output_type": "stream",
     "text": [
      "11227.txt\n",
      "11228.txt\n",
      "11229.txt\n",
      "11230.txt\n",
      "11231.txt\n",
      "11232.txt\n",
      "11233.txt\n"
     ]
    },
    {
     "name": "stderr",
     "output_type": "stream",
     "text": [
      " 98%|█████████▊| 10514/10742 [06:24<00:07, 29.59it/s]"
     ]
    },
    {
     "name": "stdout",
     "output_type": "stream",
     "text": [
      "11234.txt\n",
      "11235.txt\n",
      "11236.txt\n",
      "11237.txt\n",
      "11238.txt\n",
      "11239.txt\n",
      "11240.txt\n"
     ]
    },
    {
     "name": "stderr",
     "output_type": "stream",
     "text": [
      " 98%|█████████▊| 10521/10742 [06:24<00:08, 27.33it/s]"
     ]
    },
    {
     "name": "stdout",
     "output_type": "stream",
     "text": [
      "11241.txt\n",
      "11242.txt\n",
      "11243.txt\n",
      "11244.txt\n",
      "11245.txt\n"
     ]
    },
    {
     "name": "stderr",
     "output_type": "stream",
     "text": [
      " 98%|█████████▊| 10527/10742 [06:24<00:08, 24.34it/s]"
     ]
    },
    {
     "name": "stdout",
     "output_type": "stream",
     "text": [
      "11246.txt\n",
      "11247.txt\n",
      "11248.txt\n",
      "11249.txt\n",
      "11250.txt\n"
     ]
    },
    {
     "name": "stderr",
     "output_type": "stream",
     "text": [
      "\r",
      " 98%|█████████▊| 10530/10742 [06:25<00:09, 22.77it/s]"
     ]
    },
    {
     "name": "stdout",
     "output_type": "stream",
     "text": [
      "11251.txt\n",
      "11252.txt\n",
      "11253.txt\n",
      "11254.txt\n",
      "11255.txt\n"
     ]
    },
    {
     "name": "stderr",
     "output_type": "stream",
     "text": [
      " 98%|█████████▊| 10536/10742 [06:25<00:09, 21.25it/s]"
     ]
    },
    {
     "name": "stdout",
     "output_type": "stream",
     "text": [
      "11256.txt\n",
      "11257.txt\n",
      "11258.txt\n",
      "11259.txt\n"
     ]
    },
    {
     "name": "stderr",
     "output_type": "stream",
     "text": [
      "\r",
      " 98%|█████████▊| 10539/10742 [06:25<00:09, 20.71it/s]"
     ]
    },
    {
     "name": "stdout",
     "output_type": "stream",
     "text": [
      "11260.txt\n",
      "11261.txt\n",
      "11262.txt\n",
      "11263.txt\n",
      "11264.txt\n"
     ]
    },
    {
     "name": "stderr",
     "output_type": "stream",
     "text": [
      " 98%|█████████▊| 10545/10742 [06:25<00:08, 22.59it/s]"
     ]
    },
    {
     "name": "stdout",
     "output_type": "stream",
     "text": [
      "11265.txt\n",
      "11266.txt\n",
      "11267.txt\n",
      "11268.txt\n",
      "11269.txt\n",
      "11270.txt\n"
     ]
    },
    {
     "name": "stderr",
     "output_type": "stream",
     "text": [
      " 98%|█████████▊| 10551/10742 [06:25<00:07, 24.61it/s]"
     ]
    },
    {
     "name": "stdout",
     "output_type": "stream",
     "text": [
      "11271.txt\n",
      "11272.txt\n",
      "11273.txt\n",
      "11274.txt\n",
      "11275.txt\n"
     ]
    },
    {
     "name": "stderr",
     "output_type": "stream",
     "text": [
      " 98%|█████████▊| 10558/10742 [06:26<00:07, 25.23it/s]"
     ]
    },
    {
     "name": "stdout",
     "output_type": "stream",
     "text": [
      "11276.txt\n",
      "11277.txt\n",
      "11278.txt\n",
      "11279.txt\n",
      "11280.txt\n",
      "11281.txt\n",
      "11282.txt\n"
     ]
    },
    {
     "name": "stderr",
     "output_type": "stream",
     "text": [
      " 98%|█████████▊| 10565/10742 [06:26<00:06, 27.70it/s]"
     ]
    },
    {
     "name": "stdout",
     "output_type": "stream",
     "text": [
      "11283.txt\n",
      "11284.txt\n",
      "11285.txt\n",
      "11286.txt\n",
      "11287.txt\n",
      "11288.txt\n",
      "11289.txt\n"
     ]
    },
    {
     "name": "stderr",
     "output_type": "stream",
     "text": [
      " 98%|█████████▊| 10572/10742 [06:26<00:05, 29.43it/s]"
     ]
    },
    {
     "name": "stdout",
     "output_type": "stream",
     "text": [
      "11290.txt\n",
      "11291.txt\n",
      "11292.txt\n",
      "11293.txt\n",
      "11294.txt\n",
      "11295.txt\n",
      "11296.txt\n"
     ]
    },
    {
     "name": "stderr",
     "output_type": "stream",
     "text": [
      " 98%|█████████▊| 10578/10742 [06:26<00:05, 29.16it/s]"
     ]
    },
    {
     "name": "stdout",
     "output_type": "stream",
     "text": [
      "11297.txt\n",
      "11298.txt\n",
      "11299.txt\n",
      "11300.txt\n",
      "11301.txt\n",
      "11302.txt\n"
     ]
    },
    {
     "name": "stderr",
     "output_type": "stream",
     "text": [
      " 99%|█████████▊| 10585/10742 [06:27<00:05, 29.37it/s]"
     ]
    },
    {
     "name": "stdout",
     "output_type": "stream",
     "text": [
      "11303.txt\n",
      "11304.txt\n",
      "11305.txt\n",
      "11306.txt\n",
      "11307.txt\n",
      "11308.txt\n",
      "11309.txt\n"
     ]
    },
    {
     "name": "stderr",
     "output_type": "stream",
     "text": [
      " 99%|█████████▊| 10593/10742 [06:27<00:04, 30.59it/s]"
     ]
    },
    {
     "name": "stdout",
     "output_type": "stream",
     "text": [
      "11310.txt\n",
      "11311.txt\n",
      "11312.txt\n",
      "11313.txt\n",
      "11314.txt\n",
      "11315.txt\n",
      "11316.txt\n"
     ]
    },
    {
     "name": "stderr",
     "output_type": "stream",
     "text": [
      "\r",
      " 99%|█████████▊| 10597/10742 [06:27<00:04, 29.67it/s]"
     ]
    },
    {
     "name": "stdout",
     "output_type": "stream",
     "text": [
      "11317.txt\n",
      "11318.txt\n",
      "11319.txt\n",
      "11320.txt\n",
      "11321.txt\n",
      "11322.txt\n"
     ]
    },
    {
     "name": "stderr",
     "output_type": "stream",
     "text": [
      " 99%|█████████▊| 10603/10742 [06:27<00:05, 26.92it/s]"
     ]
    },
    {
     "name": "stdout",
     "output_type": "stream",
     "text": [
      "11323.txt\n",
      "11324.txt\n",
      "11325.txt\n",
      "11326.txt\n",
      "11327.txt\n"
     ]
    },
    {
     "name": "stderr",
     "output_type": "stream",
     "text": [
      " 99%|█████████▉| 10609/10742 [06:28<00:05, 25.44it/s]"
     ]
    },
    {
     "name": "stdout",
     "output_type": "stream",
     "text": [
      "11328.txt\n",
      "11329.txt\n",
      "11330.txt\n",
      "11331.txt\n",
      "11332.txt\n"
     ]
    },
    {
     "name": "stderr",
     "output_type": "stream",
     "text": [
      "\r",
      " 99%|█████████▉| 10612/10742 [06:28<00:05, 24.56it/s]"
     ]
    },
    {
     "name": "stdout",
     "output_type": "stream",
     "text": [
      "11333.txt\n",
      "11334.txt\n",
      "11335.txt\n",
      "11336.txt\n",
      "11337.txt\n"
     ]
    },
    {
     "name": "stderr",
     "output_type": "stream",
     "text": [
      " 99%|█████████▉| 10618/10742 [06:28<00:05, 23.19it/s]"
     ]
    },
    {
     "name": "stdout",
     "output_type": "stream",
     "text": [
      "11338.txt\n",
      "11339.txt\n",
      "11340.txt\n",
      "11341.txt\n"
     ]
    },
    {
     "name": "stderr",
     "output_type": "stream",
     "text": [
      " 99%|█████████▉| 10624/10742 [06:28<00:04, 25.32it/s]"
     ]
    },
    {
     "name": "stdout",
     "output_type": "stream",
     "text": [
      "11342.txt\n",
      "11343.txt\n",
      "11344.txt\n",
      "11345.txt\n",
      "11346.txt\n",
      "11347.txt\n",
      "11348.txt\n"
     ]
    },
    {
     "name": "stderr",
     "output_type": "stream",
     "text": [
      " 99%|█████████▉| 10631/10742 [06:28<00:04, 27.75it/s]"
     ]
    },
    {
     "name": "stdout",
     "output_type": "stream",
     "text": [
      "11349.txt\n",
      "11350.txt\n",
      "11351.txt\n",
      "11352.txt\n",
      "11353.txt\n",
      "11354.txt\n",
      "11355.txt\n"
     ]
    },
    {
     "name": "stderr",
     "output_type": "stream",
     "text": [
      " 99%|█████████▉| 10637/10742 [06:29<00:03, 27.64it/s]"
     ]
    },
    {
     "name": "stdout",
     "output_type": "stream",
     "text": [
      "11356.txt\n",
      "11357.txt\n",
      "11358.txt\n",
      "11359.txt\n",
      "11360.txt\n",
      "11361.txt\n"
     ]
    },
    {
     "name": "stderr",
     "output_type": "stream",
     "text": [
      " 99%|█████████▉| 10644/10742 [06:29<00:03, 29.21it/s]"
     ]
    },
    {
     "name": "stdout",
     "output_type": "stream",
     "text": [
      "11362.txt\n",
      "11363.txt\n",
      "11364.txt\n",
      "11365.txt\n",
      "11366.txt\n",
      "11367.txt\n",
      "11368.txt\n"
     ]
    },
    {
     "name": "stderr",
     "output_type": "stream",
     "text": [
      " 99%|█████████▉| 10651/10742 [06:29<00:03, 29.85it/s]"
     ]
    },
    {
     "name": "stdout",
     "output_type": "stream",
     "text": [
      "11369.txt\n",
      "11370.txt\n",
      "11371.txt\n",
      "11372.txt\n",
      "11373.txt\n",
      "11374.txt\n",
      "11375.txt\n"
     ]
    },
    {
     "name": "stderr",
     "output_type": "stream",
     "text": [
      " 99%|█████████▉| 10658/10742 [06:29<00:02, 30.08it/s]"
     ]
    },
    {
     "name": "stdout",
     "output_type": "stream",
     "text": [
      "11376.txt\n",
      "11377.txt\n",
      "11378.txt\n",
      "11379.txt\n",
      "11380.txt\n",
      "11381.txt\n",
      "11382.txt\n"
     ]
    },
    {
     "name": "stderr",
     "output_type": "stream",
     "text": [
      " 99%|█████████▉| 10665/10742 [06:30<00:02, 30.13it/s]"
     ]
    },
    {
     "name": "stdout",
     "output_type": "stream",
     "text": [
      "11383.txt\n",
      "11384.txt\n",
      "11385.txt\n",
      "11386.txt\n",
      "11387.txt\n",
      "11388.txt\n",
      "11389.txt\n"
     ]
    },
    {
     "name": "stderr",
     "output_type": "stream",
     "text": [
      " 99%|█████████▉| 10673/10742 [06:30<00:02, 30.53it/s]"
     ]
    },
    {
     "name": "stdout",
     "output_type": "stream",
     "text": [
      "11390.txt\n",
      "11391.txt\n",
      "11392.txt\n",
      "11393.txt\n",
      "11394.txt\n",
      "11395.txt\n"
     ]
    },
    {
     "name": "stderr",
     "output_type": "stream",
     "text": [
      "\r",
      " 99%|█████████▉| 10677/10742 [06:30<00:02, 30.48it/s]"
     ]
    },
    {
     "name": "stdout",
     "output_type": "stream",
     "text": [
      "11396.txt\n",
      "11397.txt\n",
      "11398.txt\n",
      "11399.txt\n",
      "11400.txt\n",
      "11401.txt\n",
      "11402.txt\n"
     ]
    },
    {
     "name": "stderr",
     "output_type": "stream",
     "text": [
      " 99%|█████████▉| 10684/10742 [06:30<00:02, 28.57it/s]"
     ]
    },
    {
     "name": "stdout",
     "output_type": "stream",
     "text": [
      "11403.txt\n",
      "11404.txt\n",
      "11405.txt\n",
      "11406.txt\n",
      "11407.txt\n",
      "11408.txt\n"
     ]
    },
    {
     "name": "stderr",
     "output_type": "stream",
     "text": [
      "100%|█████████▉| 10690/10742 [06:30<00:02, 25.75it/s]"
     ]
    },
    {
     "name": "stdout",
     "output_type": "stream",
     "text": [
      "11409.txt\n",
      "11410.txt\n",
      "11411.txt\n",
      "11412.txt\n",
      "11413.txt\n"
     ]
    },
    {
     "name": "stderr",
     "output_type": "stream",
     "text": [
      "\r",
      "100%|█████████▉| 10693/10742 [06:31<00:02, 23.80it/s]"
     ]
    },
    {
     "name": "stdout",
     "output_type": "stream",
     "text": [
      "11414.txt\n",
      "11415.txt\n",
      "11416.txt\n",
      "11417.txt\n",
      "11418.txt\n"
     ]
    },
    {
     "name": "stderr",
     "output_type": "stream",
     "text": [
      "100%|█████████▉| 10699/10742 [06:31<00:01, 23.55it/s]"
     ]
    },
    {
     "name": "stdout",
     "output_type": "stream",
     "text": [
      "11419.txt\n",
      "11420.txt\n",
      "11421.txt\n",
      "11422.txt\n",
      "11423.txt\n"
     ]
    },
    {
     "name": "stderr",
     "output_type": "stream",
     "text": [
      "100%|█████████▉| 10705/10742 [06:31<00:01, 25.82it/s]"
     ]
    },
    {
     "name": "stdout",
     "output_type": "stream",
     "text": [
      "11424.txt\n",
      "11425.txt\n",
      "11426.txt\n",
      "11427.txt\n",
      "11428.txt\n",
      "11429.txt\n",
      "11430.txt\n"
     ]
    },
    {
     "name": "stderr",
     "output_type": "stream",
     "text": [
      "100%|█████████▉| 10713/10742 [06:31<00:01, 28.37it/s]"
     ]
    },
    {
     "name": "stdout",
     "output_type": "stream",
     "text": [
      "11431.txt\n",
      "11432.txt\n",
      "11433.txt\n",
      "11434.txt\n",
      "11435.txt\n",
      "11436.txt\n",
      "11437.txt\n"
     ]
    },
    {
     "name": "stderr",
     "output_type": "stream",
     "text": [
      "100%|█████████▉| 10720/10742 [06:32<00:00, 27.88it/s]"
     ]
    },
    {
     "name": "stdout",
     "output_type": "stream",
     "text": [
      "11438.txt\n",
      "11439.txt\n",
      "11440.txt\n",
      "11441.txt\n",
      "11442.txt\n",
      "11443.txt\n"
     ]
    },
    {
     "name": "stderr",
     "output_type": "stream",
     "text": [
      "100%|█████████▉| 10727/10742 [06:32<00:00, 29.30it/s]"
     ]
    },
    {
     "name": "stdout",
     "output_type": "stream",
     "text": [
      "11444.txt\n",
      "11445.txt\n",
      "11446.txt\n",
      "11447.txt\n",
      "11448.txt\n",
      "11449.txt\n"
     ]
    },
    {
     "name": "stderr",
     "output_type": "stream",
     "text": [
      "\r",
      "100%|█████████▉| 10730/10742 [06:32<00:00, 29.27it/s]"
     ]
    },
    {
     "name": "stdout",
     "output_type": "stream",
     "text": [
      "11450.txt\n",
      "11451.txt\n",
      "11452.txt\n",
      "11453.txt\n",
      "11454.txt\n",
      "11455.txt\n",
      "11456.txt\n"
     ]
    },
    {
     "name": "stderr",
     "output_type": "stream",
     "text": [
      "100%|█████████▉| 10737/10742 [06:32<00:00, 29.78it/s]"
     ]
    },
    {
     "name": "stdout",
     "output_type": "stream",
     "text": [
      "11457.txt\n",
      "11458.txt\n",
      "11459.txt\n",
      "11460.txt\n",
      "11461.txt\n",
      "11462.txt\n",
      "11463.txt\n"
     ]
    },
    {
     "name": "stderr",
     "output_type": "stream",
     "text": [
      "100%|██████████| 10742/10742 [06:32<00:00, 27.34it/s]"
     ]
    },
    {
     "name": "stdout",
     "output_type": "stream",
     "text": [
      "11464.txt\n"
     ]
    },
    {
     "name": "stderr",
     "output_type": "stream",
     "text": [
      "\n"
     ]
    }
   ],
   "source": [
    "create_dataset('images_thermal_train',annotations_train, images_train)"
   ]
  },
  {
   "cell_type": "code",
   "execution_count": 40,
   "id": "286bd9b0",
   "metadata": {},
   "outputs": [
    {
     "name": "stderr",
     "output_type": "stream",
     "text": [
      "  0%|          | 3/1144 [00:00<00:44, 25.50it/s]"
     ]
    },
    {
     "name": "stdout",
     "output_type": "stream",
     "text": [
      "654.txt\n",
      "655.txt\n",
      "656.txt\n",
      "657.txt\n",
      "658.txt\n",
      "659.txt\n"
     ]
    },
    {
     "name": "stderr",
     "output_type": "stream",
     "text": [
      "  1%|          | 12/1144 [00:00<00:29, 38.22it/s]"
     ]
    },
    {
     "name": "stdout",
     "output_type": "stream",
     "text": [
      "660.txt\n",
      "661.txt\n",
      "662.txt\n",
      "663.txt\n",
      "664.txt\n",
      "665.txt\n",
      "666.txt\n",
      "667.txt\n",
      "668.txt\n",
      "669.txt\n"
     ]
    },
    {
     "name": "stderr",
     "output_type": "stream",
     "text": [
      "  2%|▏         | 22/1144 [00:00<00:26, 42.73it/s]"
     ]
    },
    {
     "name": "stdout",
     "output_type": "stream",
     "text": [
      "670.txt\n",
      "671.txt\n",
      "672.txt\n",
      "673.txt\n",
      "674.txt\n",
      "675.txt\n",
      "676.txt\n",
      "677.txt\n",
      "678.txt\n",
      "679.txt\n"
     ]
    },
    {
     "name": "stderr",
     "output_type": "stream",
     "text": [
      "  3%|▎         | 32/1144 [00:00<00:25, 44.11it/s]"
     ]
    },
    {
     "name": "stdout",
     "output_type": "stream",
     "text": [
      "680.txt\n",
      "681.txt\n",
      "682.txt\n",
      "683.txt\n",
      "684.txt\n",
      "685.txt\n",
      "686.txt\n",
      "687.txt\n",
      "688.txt\n",
      "689.txt\n"
     ]
    },
    {
     "name": "stderr",
     "output_type": "stream",
     "text": [
      "  4%|▎         | 42/1144 [00:01<00:25, 43.40it/s]"
     ]
    },
    {
     "name": "stdout",
     "output_type": "stream",
     "text": [
      "690.txt\n",
      "691.txt\n",
      "692.txt\n",
      "693.txt\n",
      "694.txt\n",
      "695.txt\n",
      "696.txt\n",
      "697.txt\n",
      "698.txt\n",
      "699.txt\n"
     ]
    },
    {
     "name": "stderr",
     "output_type": "stream",
     "text": [
      "  5%|▍         | 52/1144 [00:01<00:24, 44.29it/s]"
     ]
    },
    {
     "name": "stdout",
     "output_type": "stream",
     "text": [
      "700.txt\n",
      "701.txt\n",
      "702.txt\n",
      "703.txt\n",
      "704.txt\n",
      "705.txt\n",
      "706.txt\n",
      "707.txt\n",
      "708.txt\n",
      "709.txt\n"
     ]
    },
    {
     "name": "stderr",
     "output_type": "stream",
     "text": [
      "  5%|▌         | 62/1144 [00:01<00:24, 44.65it/s]"
     ]
    },
    {
     "name": "stdout",
     "output_type": "stream",
     "text": [
      "710.txt\n",
      "711.txt\n",
      "712.txt\n",
      "713.txt\n",
      "714.txt\n",
      "715.txt\n",
      "716.txt\n",
      "717.txt\n",
      "718.txt\n"
     ]
    },
    {
     "name": "stderr",
     "output_type": "stream",
     "text": [
      "  6%|▋         | 72/1144 [00:01<00:27, 39.68it/s]"
     ]
    },
    {
     "name": "stdout",
     "output_type": "stream",
     "text": [
      "719.txt\n",
      "720.txt\n",
      "721.txt\n",
      "722.txt\n",
      "723.txt\n",
      "724.txt\n",
      "725.txt\n",
      "726.txt\n"
     ]
    },
    {
     "name": "stderr",
     "output_type": "stream",
     "text": [
      "  7%|▋         | 81/1144 [00:01<00:27, 38.17it/s]"
     ]
    },
    {
     "name": "stdout",
     "output_type": "stream",
     "text": [
      "727.txt\n",
      "728.txt\n",
      "729.txt\n",
      "730.txt\n",
      "731.txt\n",
      "732.txt\n",
      "733.txt\n",
      "734.txt\n"
     ]
    },
    {
     "name": "stderr",
     "output_type": "stream",
     "text": [
      "  8%|▊         | 89/1144 [00:02<00:28, 37.23it/s]"
     ]
    },
    {
     "name": "stdout",
     "output_type": "stream",
     "text": [
      "735.txt\n",
      "736.txt\n",
      "737.txt\n",
      "738.txt\n",
      "739.txt\n",
      "740.txt\n",
      "741.txt\n",
      "742.txt\n"
     ]
    },
    {
     "name": "stderr",
     "output_type": "stream",
     "text": [
      "\r",
      "  8%|▊         | 93/1144 [00:02<00:31, 33.42it/s]"
     ]
    },
    {
     "name": "stdout",
     "output_type": "stream",
     "text": [
      "743.txt\n",
      "744.txt\n",
      "745.txt\n",
      "746.txt\n",
      "747.txt\n",
      "748.txt\n"
     ]
    },
    {
     "name": "stderr",
     "output_type": "stream",
     "text": [
      "  9%|▉         | 101/1144 [00:02<00:34, 30.67it/s]"
     ]
    },
    {
     "name": "stdout",
     "output_type": "stream",
     "text": [
      "749.txt\n",
      "750.txt\n",
      "751.txt\n",
      "752.txt\n",
      "753.txt\n",
      "754.txt\n",
      "755.txt\n"
     ]
    },
    {
     "name": "stderr",
     "output_type": "stream",
     "text": [
      "\r",
      "  9%|▉         | 105/1144 [00:02<00:34, 30.25it/s]"
     ]
    },
    {
     "name": "stdout",
     "output_type": "stream",
     "text": [
      "756.txt\n",
      "757.txt\n",
      "758.txt\n",
      "759.txt\n",
      "760.txt\n",
      "761.txt\n"
     ]
    },
    {
     "name": "stderr",
     "output_type": "stream",
     "text": [
      " 10%|▉         | 113/1144 [00:03<00:32, 31.88it/s]"
     ]
    },
    {
     "name": "stdout",
     "output_type": "stream",
     "text": [
      "762.txt\n",
      "763.txt\n",
      "764.txt\n",
      "765.txt\n",
      "766.txt\n",
      "767.txt\n",
      "768.txt\n",
      "769.txt\n",
      "770.txt\n"
     ]
    },
    {
     "name": "stderr",
     "output_type": "stream",
     "text": [
      " 11%|█         | 123/1144 [00:03<00:27, 36.97it/s]"
     ]
    },
    {
     "name": "stdout",
     "output_type": "stream",
     "text": [
      "771.txt\n",
      "772.txt\n",
      "773.txt\n",
      "774.txt\n",
      "775.txt\n",
      "776.txt\n",
      "777.txt\n",
      "778.txt\n",
      "779.txt\n"
     ]
    },
    {
     "name": "stderr",
     "output_type": "stream",
     "text": [
      " 12%|█▏        | 133/1144 [00:03<00:25, 40.10it/s]"
     ]
    },
    {
     "name": "stdout",
     "output_type": "stream",
     "text": [
      "780.txt\n",
      "781.txt\n",
      "782.txt\n",
      "783.txt\n",
      "784.txt\n",
      "785.txt\n",
      "786.txt\n",
      "787.txt\n",
      "788.txt\n",
      "789.txt\n"
     ]
    },
    {
     "name": "stderr",
     "output_type": "stream",
     "text": [
      " 12%|█▎        | 143/1144 [00:03<00:24, 41.39it/s]"
     ]
    },
    {
     "name": "stdout",
     "output_type": "stream",
     "text": [
      "790.txt\n",
      "791.txt\n",
      "792.txt\n",
      "793.txt\n",
      "794.txt\n",
      "795.txt\n",
      "796.txt\n",
      "797.txt\n"
     ]
    },
    {
     "name": "stderr",
     "output_type": "stream",
     "text": [
      " 13%|█▎        | 153/1144 [00:03<00:24, 40.36it/s]"
     ]
    },
    {
     "name": "stdout",
     "output_type": "stream",
     "text": [
      "798.txt\n",
      "799.txt\n",
      "800.txt\n",
      "801.txt\n",
      "802.txt\n",
      "803.txt\n",
      "804.txt\n",
      "805.txt\n",
      "806.txt\n"
     ]
    },
    {
     "name": "stderr",
     "output_type": "stream",
     "text": [
      "\r",
      " 14%|█▍        | 158/1144 [00:04<00:25, 39.14it/s]"
     ]
    },
    {
     "name": "stdout",
     "output_type": "stream",
     "text": [
      "807.txt\n",
      "808.txt\n",
      "809.txt\n",
      "810.txt\n",
      "811.txt\n",
      "812.txt\n",
      "813.txt\n",
      "814.txt\n"
     ]
    },
    {
     "name": "stderr",
     "output_type": "stream",
     "text": [
      " 15%|█▍        | 167/1144 [00:04<00:25, 38.75it/s]"
     ]
    },
    {
     "name": "stdout",
     "output_type": "stream",
     "text": [
      "815.txt\n",
      "816.txt\n",
      "817.txt\n",
      "818.txt\n",
      "819.txt\n",
      "820.txt\n",
      "821.txt\n",
      "822.txt\n",
      "823.txt\n"
     ]
    },
    {
     "name": "stderr",
     "output_type": "stream",
     "text": [
      " 15%|█▌        | 176/1144 [00:04<00:24, 39.45it/s]"
     ]
    },
    {
     "name": "stdout",
     "output_type": "stream",
     "text": [
      "836.txt\n",
      "837.txt\n",
      "838.txt\n",
      "839.txt\n",
      "840.txt\n",
      "841.txt\n",
      "842.txt\n",
      "843.txt\n",
      "844.txt\n"
     ]
    },
    {
     "name": "stderr",
     "output_type": "stream",
     "text": [
      " 16%|█▌        | 184/1144 [00:04<00:24, 39.41it/s]"
     ]
    },
    {
     "name": "stdout",
     "output_type": "stream",
     "text": [
      "845.txt\n",
      "846.txt\n",
      "847.txt\n",
      "848.txt\n",
      "849.txt\n",
      "850.txt\n",
      "1048.txt\n",
      "1049.txt\n",
      "1050.txt\n"
     ]
    },
    {
     "name": "stderr",
     "output_type": "stream",
     "text": [
      " 17%|█▋        | 193/1144 [00:05<00:24, 38.68it/s]"
     ]
    },
    {
     "name": "stdout",
     "output_type": "stream",
     "text": [
      "1051.txt\n",
      "1052.txt\n",
      "1053.txt\n",
      "1054.txt\n",
      "1055.txt\n",
      "1056.txt\n",
      "1057.txt\n",
      "1058.txt\n"
     ]
    },
    {
     "name": "stderr",
     "output_type": "stream",
     "text": [
      " 18%|█▊        | 201/1144 [00:05<00:26, 35.95it/s]"
     ]
    },
    {
     "name": "stdout",
     "output_type": "stream",
     "text": [
      "1059.txt\n",
      "1060.txt\n",
      "1061.txt\n",
      "1062.txt\n",
      "1063.txt\n",
      "1064.txt\n",
      "1065.txt\n",
      "1066.txt\n"
     ]
    },
    {
     "name": "stderr",
     "output_type": "stream",
     "text": [
      " 18%|█▊        | 209/1144 [00:05<00:26, 34.78it/s]"
     ]
    },
    {
     "name": "stdout",
     "output_type": "stream",
     "text": [
      "1067.txt\n",
      "1068.txt\n",
      "1069.txt\n",
      "1070.txt\n",
      "1071.txt\n",
      "1072.txt\n",
      "1073.txt\n",
      "1074.txt\n"
     ]
    },
    {
     "name": "stderr",
     "output_type": "stream",
     "text": [
      " 19%|█▉        | 217/1144 [00:05<00:28, 32.47it/s]"
     ]
    },
    {
     "name": "stdout",
     "output_type": "stream",
     "text": [
      "1075.txt\n",
      "1076.txt\n",
      "1077.txt\n",
      "1078.txt\n",
      "1079.txt\n",
      "1080.txt\n"
     ]
    },
    {
     "name": "stderr",
     "output_type": "stream",
     "text": [
      " 20%|█▉        | 225/1144 [00:05<00:28, 32.22it/s]"
     ]
    },
    {
     "name": "stdout",
     "output_type": "stream",
     "text": [
      "1081.txt\n",
      "1082.txt\n",
      "1083.txt\n",
      "1084.txt\n",
      "1085.txt\n",
      "1086.txt\n",
      "1087.txt\n"
     ]
    },
    {
     "name": "stderr",
     "output_type": "stream",
     "text": [
      "\r",
      " 20%|██        | 229/1144 [00:06<00:28, 32.10it/s]"
     ]
    },
    {
     "name": "stdout",
     "output_type": "stream",
     "text": [
      "1088.txt\n",
      "1089.txt\n",
      "1090.txt\n",
      "1091.txt\n",
      "1092.txt\n",
      "1093.txt\n"
     ]
    },
    {
     "name": "stderr",
     "output_type": "stream",
     "text": [
      " 21%|██        | 237/1144 [00:06<00:27, 32.55it/s]"
     ]
    },
    {
     "name": "stdout",
     "output_type": "stream",
     "text": [
      "1094.txt\n",
      "1095.txt\n",
      "1096.txt\n",
      "1097.txt\n",
      "1098.txt\n",
      "1099.txt\n",
      "1100.txt\n",
      "1101.txt\n"
     ]
    },
    {
     "name": "stderr",
     "output_type": "stream",
     "text": [
      " 21%|██▏       | 245/1144 [00:06<00:25, 34.71it/s]"
     ]
    },
    {
     "name": "stdout",
     "output_type": "stream",
     "text": [
      "1102.txt\n",
      "1103.txt\n",
      "1104.txt\n",
      "1105.txt\n",
      "1106.txt\n",
      "1107.txt\n",
      "1108.txt\n",
      "1109.txt\n"
     ]
    },
    {
     "name": "stderr",
     "output_type": "stream",
     "text": [
      " 22%|██▏       | 254/1144 [00:06<00:23, 37.22it/s]"
     ]
    },
    {
     "name": "stdout",
     "output_type": "stream",
     "text": [
      "1110.txt\n",
      "1111.txt\n",
      "1112.txt\n",
      "1113.txt\n",
      "1114.txt\n",
      "1115.txt\n",
      "1116.txt\n",
      "1117.txt\n",
      "1118.txt\n"
     ]
    },
    {
     "name": "stderr",
     "output_type": "stream",
     "text": [
      " 23%|██▎       | 262/1144 [00:07<00:24, 36.11it/s]"
     ]
    },
    {
     "name": "stdout",
     "output_type": "stream",
     "text": [
      "1119.txt\n",
      "1120.txt\n",
      "1121.txt\n",
      "1122.txt\n",
      "1123.txt\n",
      "1124.txt\n",
      "1125.txt\n",
      "1126.txt\n"
     ]
    },
    {
     "name": "stderr",
     "output_type": "stream",
     "text": [
      " 24%|██▎       | 271/1144 [00:07<00:22, 38.28it/s]"
     ]
    },
    {
     "name": "stdout",
     "output_type": "stream",
     "text": [
      "1127.txt\n",
      "1128.txt\n",
      "1129.txt\n",
      "1130.txt\n",
      "1131.txt\n",
      "1132.txt\n",
      "1133.txt\n",
      "1134.txt\n",
      "1135.txt\n"
     ]
    },
    {
     "name": "stderr",
     "output_type": "stream",
     "text": [
      " 24%|██▍       | 280/1144 [00:07<00:22, 38.75it/s]"
     ]
    },
    {
     "name": "stdout",
     "output_type": "stream",
     "text": [
      "1323.txt\n",
      "1324.txt\n",
      "1325.txt\n",
      "1326.txt\n",
      "1327.txt\n",
      "1328.txt\n",
      "1329.txt\n",
      "1330.txt\n",
      "1331.txt\n"
     ]
    },
    {
     "name": "stderr",
     "output_type": "stream",
     "text": [
      " 25%|██▌       | 288/1144 [00:07<00:22, 38.64it/s]"
     ]
    },
    {
     "name": "stdout",
     "output_type": "stream",
     "text": [
      "1332.txt\n",
      "1333.txt\n",
      "1334.txt\n",
      "1335.txt\n",
      "1336.txt\n",
      "1337.txt\n",
      "1338.txt\n",
      "1339.txt\n",
      "1340.txt\n"
     ]
    },
    {
     "name": "stderr",
     "output_type": "stream",
     "text": [
      " 26%|██▌       | 296/1144 [00:07<00:22, 38.36it/s]"
     ]
    },
    {
     "name": "stdout",
     "output_type": "stream",
     "text": [
      "1341.txt\n",
      "1342.txt\n",
      "1343.txt\n",
      "1344.txt\n",
      "1345.txt\n",
      "1346.txt\n",
      "1347.txt\n",
      "1348.txt\n",
      "1349.txt\n"
     ]
    },
    {
     "name": "stderr",
     "output_type": "stream",
     "text": [
      " 27%|██▋       | 308/1144 [00:08<00:22, 37.78it/s]"
     ]
    },
    {
     "name": "stdout",
     "output_type": "stream",
     "text": [
      "1350.txt\n",
      "1351.txt\n",
      "1352.txt\n",
      "1353.txt\n",
      "1354.txt\n",
      "1355.txt\n",
      "1356.txt\n",
      "1357.txt\n"
     ]
    },
    {
     "name": "stderr",
     "output_type": "stream",
     "text": [
      " 28%|██▊       | 316/1144 [00:08<00:22, 37.51it/s]"
     ]
    },
    {
     "name": "stdout",
     "output_type": "stream",
     "text": [
      "1358.txt\n",
      "1359.txt\n",
      "1360.txt\n",
      "1361.txt\n",
      "1362.txt\n",
      "1363.txt\n",
      "1364.txt\n",
      "1365.txt\n"
     ]
    },
    {
     "name": "stderr",
     "output_type": "stream",
     "text": [
      " 28%|██▊       | 324/1144 [00:08<00:23, 35.51it/s]"
     ]
    },
    {
     "name": "stdout",
     "output_type": "stream",
     "text": [
      "1366.txt\n",
      "1367.txt\n",
      "1368.txt\n",
      "1369.txt\n",
      "1370.txt\n",
      "1371.txt\n",
      "1372.txt\n",
      "1373.txt\n"
     ]
    },
    {
     "name": "stderr",
     "output_type": "stream",
     "text": [
      "\r",
      " 29%|██▊       | 328/1144 [00:08<00:23, 34.68it/s]"
     ]
    },
    {
     "name": "stdout",
     "output_type": "stream",
     "text": [
      "1374.txt\n",
      "1375.txt\n",
      "1376.txt\n",
      "1377.txt\n",
      "1378.txt\n",
      "1379.txt\n",
      "1380.txt\n"
     ]
    },
    {
     "name": "stderr",
     "output_type": "stream",
     "text": [
      " 29%|██▉       | 336/1144 [00:09<00:23, 34.39it/s]"
     ]
    },
    {
     "name": "stdout",
     "output_type": "stream",
     "text": [
      "1381.txt\n",
      "1382.txt\n",
      "1383.txt\n",
      "1384.txt\n",
      "1385.txt\n",
      "1386.txt\n",
      "1387.txt\n"
     ]
    },
    {
     "name": "stderr",
     "output_type": "stream",
     "text": [
      " 30%|███       | 345/1144 [00:09<00:22, 36.21it/s]"
     ]
    },
    {
     "name": "stdout",
     "output_type": "stream",
     "text": [
      "1388.txt\n",
      "1389.txt\n",
      "1390.txt\n",
      "1391.txt\n",
      "1392.txt\n",
      "1393.txt\n",
      "1394.txt\n",
      "1395.txt\n",
      "1396.txt\n"
     ]
    },
    {
     "name": "stderr",
     "output_type": "stream",
     "text": [
      " 31%|███       | 354/1144 [00:09<00:20, 38.64it/s]"
     ]
    },
    {
     "name": "stdout",
     "output_type": "stream",
     "text": [
      "1397.txt\n",
      "1398.txt\n",
      "1399.txt\n",
      "1400.txt\n",
      "1401.txt\n",
      "1402.txt\n",
      "1403.txt\n",
      "1404.txt\n",
      "1405.txt\n"
     ]
    },
    {
     "name": "stderr",
     "output_type": "stream",
     "text": [
      " 32%|███▏      | 364/1144 [00:09<00:18, 41.63it/s]"
     ]
    },
    {
     "name": "stdout",
     "output_type": "stream",
     "text": [
      "1406.txt\n",
      "1407.txt\n",
      "1408.txt\n",
      "1409.txt\n",
      "1410.txt\n",
      "1411.txt\n",
      "1412.txt\n",
      "1413.txt\n",
      "1414.txt\n"
     ]
    },
    {
     "name": "stderr",
     "output_type": "stream",
     "text": [
      " 33%|███▎      | 374/1144 [00:09<00:18, 41.88it/s]"
     ]
    },
    {
     "name": "stdout",
     "output_type": "stream",
     "text": [
      "1415.txt\n",
      "1416.txt\n",
      "1417.txt\n",
      "1418.txt\n",
      "1419.txt\n",
      "1420.txt\n",
      "1421.txt\n",
      "1422.txt\n",
      "1423.txt\n",
      "1424.txt\n"
     ]
    },
    {
     "name": "stderr",
     "output_type": "stream",
     "text": [
      " 34%|███▎      | 384/1144 [00:10<00:17, 43.42it/s]"
     ]
    },
    {
     "name": "stdout",
     "output_type": "stream",
     "text": [
      "1425.txt\n",
      "1426.txt\n",
      "1427.txt\n",
      "1428.txt\n",
      "1429.txt\n",
      "1430.txt\n",
      "1431.txt\n",
      "1432.txt\n",
      "1433.txt\n"
     ]
    },
    {
     "name": "stderr",
     "output_type": "stream",
     "text": [
      "\r",
      " 34%|███▍      | 389/1144 [00:10<00:17, 43.43it/s]"
     ]
    },
    {
     "name": "stdout",
     "output_type": "stream",
     "text": [
      "1434.txt\n",
      "1435.txt\n",
      "1436.txt\n",
      "1437.txt\n",
      "1438.txt\n",
      "1439.txt\n",
      "1440.txt\n",
      "1441.txt\n",
      "1442.txt\n"
     ]
    },
    {
     "name": "stderr",
     "output_type": "stream",
     "text": [
      " 35%|███▍      | 399/1144 [00:10<00:16, 44.68it/s]"
     ]
    },
    {
     "name": "stdout",
     "output_type": "stream",
     "text": [
      "1443.txt\n",
      "1444.txt\n",
      "1445.txt\n",
      "1446.txt\n",
      "1447.txt\n",
      "1448.txt\n",
      "1449.txt\n",
      "1450.txt\n",
      "1451.txt\n",
      "1452.txt\n"
     ]
    },
    {
     "name": "stderr",
     "output_type": "stream",
     "text": [
      " 36%|███▌      | 409/1144 [00:10<00:16, 44.67it/s]"
     ]
    },
    {
     "name": "stdout",
     "output_type": "stream",
     "text": [
      "1453.txt\n",
      "1454.txt\n",
      "1945.txt\n",
      "1946.txt\n",
      "1947.txt\n",
      "1948.txt\n",
      "1949.txt\n",
      "1950.txt\n",
      "1951.txt\n",
      "1952.txt\n"
     ]
    },
    {
     "name": "stderr",
     "output_type": "stream",
     "text": [
      " 37%|███▋      | 419/1144 [00:10<00:15, 45.57it/s]"
     ]
    },
    {
     "name": "stdout",
     "output_type": "stream",
     "text": [
      "1953.txt\n",
      "1954.txt\n",
      "1955.txt\n",
      "1956.txt\n",
      "1957.txt\n",
      "1958.txt\n",
      "1959.txt\n",
      "2036.txt\n",
      "2037.txt\n",
      "2038.txt\n"
     ]
    },
    {
     "name": "stderr",
     "output_type": "stream",
     "text": [
      " 38%|███▊      | 429/1144 [00:11<00:18, 38.94it/s]"
     ]
    },
    {
     "name": "stdout",
     "output_type": "stream",
     "text": [
      "2039.txt\n",
      "2040.txt\n",
      "2041.txt\n",
      "2042.txt\n",
      "2043.txt\n",
      "2044.txt\n",
      "2045.txt\n",
      "2046.txt\n"
     ]
    },
    {
     "name": "stderr",
     "output_type": "stream",
     "text": [
      " 38%|███▊      | 438/1144 [00:11<00:17, 39.49it/s]"
     ]
    },
    {
     "name": "stdout",
     "output_type": "stream",
     "text": [
      "2047.txt\n",
      "2048.txt\n",
      "2049.txt\n",
      "2050.txt\n",
      "2051.txt\n",
      "2052.txt\n",
      "2053.txt\n",
      "2054.txt\n",
      "2055.txt\n",
      "2056.txt\n"
     ]
    },
    {
     "name": "stderr",
     "output_type": "stream",
     "text": [
      " 39%|███▉      | 448/1144 [00:11<00:17, 38.94it/s]"
     ]
    },
    {
     "name": "stdout",
     "output_type": "stream",
     "text": [
      "2057.txt\n",
      "2058.txt\n",
      "2059.txt\n",
      "2060.txt\n",
      "2061.txt\n",
      "2062.txt\n",
      "2063.txt\n",
      "2064.txt\n"
     ]
    },
    {
     "name": "stderr",
     "output_type": "stream",
     "text": [
      "\r",
      " 40%|███▉      | 452/1144 [00:11<00:19, 35.74it/s]"
     ]
    },
    {
     "name": "stdout",
     "output_type": "stream",
     "text": [
      "2065.txt\n",
      "2066.txt\n",
      "2067.txt\n",
      "2068.txt\n",
      "2069.txt\n",
      "2070.txt\n",
      "2071.txt\n"
     ]
    },
    {
     "name": "stderr",
     "output_type": "stream",
     "text": [
      " 40%|████      | 460/1144 [00:12<00:20, 33.12it/s]"
     ]
    },
    {
     "name": "stdout",
     "output_type": "stream",
     "text": [
      "2072.txt\n",
      "2073.txt\n",
      "2074.txt\n",
      "2075.txt\n",
      "2076.txt\n",
      "2077.txt\n",
      "3608.txt\n",
      "3609.txt\n"
     ]
    },
    {
     "name": "stderr",
     "output_type": "stream",
     "text": [
      " 41%|████      | 469/1144 [00:12<00:18, 36.16it/s]"
     ]
    },
    {
     "name": "stdout",
     "output_type": "stream",
     "text": [
      "3610.txt\n",
      "3611.txt\n",
      "3612.txt\n",
      "3613.txt\n",
      "3614.txt\n",
      "3615.txt\n",
      "3616.txt\n",
      "3617.txt\n",
      "3618.txt\n"
     ]
    },
    {
     "name": "stderr",
     "output_type": "stream",
     "text": [
      " 42%|████▏     | 480/1144 [00:12<00:16, 40.68it/s]"
     ]
    },
    {
     "name": "stdout",
     "output_type": "stream",
     "text": [
      "3619.txt\n",
      "3620.txt\n",
      "3621.txt\n",
      "3622.txt\n",
      "3623.txt\n",
      "3624.txt\n",
      "3625.txt\n",
      "3626.txt\n",
      "3627.txt\n",
      "3628.txt\n",
      "3629.txt\n"
     ]
    },
    {
     "name": "stderr",
     "output_type": "stream",
     "text": [
      " 43%|████▎     | 490/1144 [00:12<00:14, 44.16it/s]"
     ]
    },
    {
     "name": "stdout",
     "output_type": "stream",
     "text": [
      "3630.txt\n",
      "3631.txt\n",
      "3632.txt\n",
      "3633.txt\n",
      "3634.txt\n",
      "3635.txt\n",
      "3636.txt\n",
      "3637.txt\n",
      "3638.txt\n",
      "3639.txt\n",
      "3640.txt\n"
     ]
    },
    {
     "name": "stderr",
     "output_type": "stream",
     "text": [
      " 44%|████▎     | 500/1144 [00:13<00:16, 39.08it/s]"
     ]
    },
    {
     "name": "stdout",
     "output_type": "stream",
     "text": [
      "3641.txt\n",
      "3642.txt\n",
      "3643.txt\n",
      "3644.txt\n",
      "3645.txt\n",
      "3646.txt\n",
      "3647.txt\n"
     ]
    },
    {
     "name": "stderr",
     "output_type": "stream",
     "text": [
      "\r",
      " 44%|████▍     | 505/1144 [00:13<00:18, 34.87it/s]"
     ]
    },
    {
     "name": "stdout",
     "output_type": "stream",
     "text": [
      "3648.txt\n",
      "3649.txt\n",
      "3650.txt\n",
      "3651.txt\n",
      "3652.txt\n",
      "3653.txt\n"
     ]
    },
    {
     "name": "stderr",
     "output_type": "stream",
     "text": [
      " 45%|████▍     | 513/1144 [00:13<00:19, 32.31it/s]"
     ]
    },
    {
     "name": "stdout",
     "output_type": "stream",
     "text": [
      "3654.txt\n",
      "3655.txt\n",
      "3656.txt\n",
      "3657.txt\n",
      "3658.txt\n",
      "3659.txt\n",
      "3660.txt\n",
      "3661.txt\n"
     ]
    },
    {
     "name": "stderr",
     "output_type": "stream",
     "text": [
      " 46%|████▌     | 523/1144 [00:13<00:15, 38.96it/s]"
     ]
    },
    {
     "name": "stdout",
     "output_type": "stream",
     "text": [
      "3662.txt\n",
      "3663.txt\n",
      "3664.txt\n",
      "3665.txt\n",
      "3666.txt\n",
      "3667.txt\n",
      "3668.txt\n",
      "3669.txt\n",
      "3670.txt\n",
      "3671.txt\n"
     ]
    },
    {
     "name": "stderr",
     "output_type": "stream",
     "text": [
      " 47%|████▋     | 533/1144 [00:13<00:14, 41.55it/s]"
     ]
    },
    {
     "name": "stdout",
     "output_type": "stream",
     "text": [
      "3672.txt\n",
      "3673.txt\n",
      "3674.txt\n",
      "3675.txt\n",
      "3676.txt\n",
      "3677.txt\n",
      "3678.txt\n",
      "3679.txt\n",
      "3680.txt\n",
      "3681.txt\n",
      "3682.txt\n"
     ]
    },
    {
     "name": "stderr",
     "output_type": "stream",
     "text": [
      " 47%|████▋     | 543/1144 [00:14<00:13, 44.24it/s]"
     ]
    },
    {
     "name": "stdout",
     "output_type": "stream",
     "text": [
      "3683.txt\n",
      "3684.txt\n",
      "3685.txt\n",
      "3686.txt\n",
      "3687.txt\n",
      "4030.txt\n",
      "4031.txt\n",
      "4032.txt\n",
      "4033.txt\n",
      "4034.txt\n"
     ]
    },
    {
     "name": "stderr",
     "output_type": "stream",
     "text": [
      " 48%|████▊     | 553/1144 [00:14<00:13, 44.61it/s]"
     ]
    },
    {
     "name": "stdout",
     "output_type": "stream",
     "text": [
      "4035.txt\n",
      "4036.txt\n",
      "4037.txt\n",
      "4038.txt\n",
      "4039.txt\n",
      "4040.txt\n",
      "4041.txt\n",
      "4042.txt\n",
      "4043.txt\n",
      "4044.txt\n"
     ]
    },
    {
     "name": "stderr",
     "output_type": "stream",
     "text": [
      " 49%|████▉     | 563/1144 [00:14<00:14, 40.25it/s]"
     ]
    },
    {
     "name": "stdout",
     "output_type": "stream",
     "text": [
      "4045.txt\n",
      "4046.txt\n",
      "4047.txt\n",
      "4048.txt\n",
      "4049.txt\n",
      "4050.txt\n",
      "4051.txt\n",
      "4052.txt\n"
     ]
    },
    {
     "name": "stderr",
     "output_type": "stream",
     "text": [
      " 50%|█████     | 572/1144 [00:14<00:15, 36.98it/s]"
     ]
    },
    {
     "name": "stdout",
     "output_type": "stream",
     "text": [
      "4053.txt\n",
      "4054.txt\n",
      "4992.txt\n",
      "4993.txt\n",
      "4994.txt\n",
      "4995.txt\n",
      "4996.txt\n",
      "4997.txt\n"
     ]
    },
    {
     "name": "stderr",
     "output_type": "stream",
     "text": [
      " 51%|█████     | 580/1144 [00:15<00:16, 33.93it/s]"
     ]
    },
    {
     "name": "stdout",
     "output_type": "stream",
     "text": [
      "4998.txt\n",
      "4999.txt\n",
      "5000.txt\n",
      "5001.txt\n",
      "5002.txt\n",
      "5003.txt\n",
      "5004.txt\n"
     ]
    },
    {
     "name": "stderr",
     "output_type": "stream",
     "text": [
      " 51%|█████▏    | 588/1144 [00:15<00:16, 34.62it/s]"
     ]
    },
    {
     "name": "stdout",
     "output_type": "stream",
     "text": [
      "5005.txt\n",
      "5006.txt\n",
      "5007.txt\n",
      "5008.txt\n",
      "5009.txt\n",
      "5371.txt\n",
      "5372.txt\n",
      "5373.txt\n"
     ]
    },
    {
     "name": "stderr",
     "output_type": "stream",
     "text": [
      " 52%|█████▏    | 597/1144 [00:15<00:13, 39.49it/s]"
     ]
    },
    {
     "name": "stdout",
     "output_type": "stream",
     "text": [
      "5374.txt\n",
      "5375.txt\n",
      "5376.txt\n",
      "5377.txt\n",
      "5378.txt\n",
      "5379.txt\n",
      "5380.txt\n",
      "5381.txt\n",
      "5382.txt\n"
     ]
    },
    {
     "name": "stderr",
     "output_type": "stream",
     "text": [
      " 53%|█████▎    | 607/1144 [00:15<00:12, 43.63it/s]"
     ]
    },
    {
     "name": "stdout",
     "output_type": "stream",
     "text": [
      "5383.txt\n",
      "5384.txt\n",
      "5385.txt\n",
      "5386.txt\n",
      "5387.txt\n",
      "5388.txt\n",
      "5389.txt\n",
      "5390.txt\n",
      "5391.txt\n",
      "5392.txt\n"
     ]
    },
    {
     "name": "stderr",
     "output_type": "stream",
     "text": [
      "\r",
      " 53%|█████▎    | 612/1144 [00:15<00:11, 44.37it/s]"
     ]
    },
    {
     "name": "stdout",
     "output_type": "stream",
     "text": [
      "5393.txt\n",
      "5394.txt\n",
      "5395.txt\n",
      "5396.txt\n",
      "5397.txt\n",
      "5398.txt\n",
      "5399.txt\n",
      "5400.txt\n",
      "5401.txt\n",
      "5402.txt\n"
     ]
    },
    {
     "name": "stderr",
     "output_type": "stream",
     "text": [
      " 54%|█████▍    | 622/1144 [00:16<00:11, 45.59it/s]"
     ]
    },
    {
     "name": "stdout",
     "output_type": "stream",
     "text": [
      "5403.txt\n",
      "5404.txt\n",
      "5405.txt\n",
      "5406.txt\n",
      "5407.txt\n",
      "5408.txt\n",
      "5409.txt\n",
      "5410.txt\n",
      "5411.txt\n"
     ]
    },
    {
     "name": "stderr",
     "output_type": "stream",
     "text": [
      " 55%|█████▌    | 632/1144 [00:16<00:10, 46.66it/s]"
     ]
    },
    {
     "name": "stdout",
     "output_type": "stream",
     "text": [
      "5412.txt\n",
      "5413.txt\n",
      "5414.txt\n",
      "5415.txt\n",
      "5416.txt\n",
      "5417.txt\n",
      "5418.txt\n",
      "5419.txt\n",
      "5420.txt\n",
      "5421.txt\n",
      "5422.txt\n"
     ]
    },
    {
     "name": "stderr",
     "output_type": "stream",
     "text": [
      " 56%|█████▌    | 642/1144 [00:16<00:11, 44.39it/s]"
     ]
    },
    {
     "name": "stdout",
     "output_type": "stream",
     "text": [
      "5423.txt\n",
      "5424.txt\n",
      "5425.txt\n",
      "5426.txt\n",
      "5427.txt\n",
      "5428.txt\n",
      "5429.txt\n",
      "5430.txt\n",
      "5431.txt\n"
     ]
    },
    {
     "name": "stderr",
     "output_type": "stream",
     "text": [
      " 57%|█████▋    | 653/1144 [00:16<00:10, 46.92it/s]"
     ]
    },
    {
     "name": "stdout",
     "output_type": "stream",
     "text": [
      "5432.txt\n",
      "5433.txt\n",
      "5434.txt\n",
      "5435.txt\n",
      "5436.txt\n",
      "5437.txt\n",
      "5438.txt\n",
      "5439.txt\n",
      "5440.txt\n",
      "5441.txt\n",
      "5442.txt\n",
      "5443.txt\n"
     ]
    },
    {
     "name": "stderr",
     "output_type": "stream",
     "text": [
      " 58%|█████▊    | 663/1144 [00:17<00:10, 46.86it/s]"
     ]
    },
    {
     "name": "stdout",
     "output_type": "stream",
     "text": [
      "5444.txt\n",
      "5445.txt\n",
      "5446.txt\n",
      "5447.txt\n",
      "5448.txt\n",
      "5449.txt\n",
      "5450.txt\n",
      "5451.txt\n",
      "5452.txt\n",
      "5453.txt\n"
     ]
    },
    {
     "name": "stderr",
     "output_type": "stream",
     "text": [
      " 59%|█████▉    | 675/1144 [00:17<00:09, 49.25it/s]"
     ]
    },
    {
     "name": "stdout",
     "output_type": "stream",
     "text": [
      "5454.txt\n",
      "5455.txt\n",
      "5456.txt\n",
      "5457.txt\n",
      "5458.txt\n",
      "5459.txt\n",
      "5460.txt\n",
      "5461.txt\n",
      "5462.txt\n",
      "5463.txt\n",
      "5464.txt\n"
     ]
    },
    {
     "name": "stderr",
     "output_type": "stream",
     "text": [
      " 60%|█████▉    | 685/1144 [00:17<00:10, 44.16it/s]"
     ]
    },
    {
     "name": "stdout",
     "output_type": "stream",
     "text": [
      "5465.txt\n",
      "5466.txt\n",
      "5467.txt\n",
      "5468.txt\n",
      "5469.txt\n",
      "5470.txt\n",
      "5471.txt\n",
      "5472.txt\n"
     ]
    },
    {
     "name": "stderr",
     "output_type": "stream",
     "text": [
      "\r",
      " 60%|██████    | 690/1144 [00:17<00:11, 40.13it/s]"
     ]
    },
    {
     "name": "stdout",
     "output_type": "stream",
     "text": [
      "5473.txt\n",
      "5474.txt\n",
      "5475.txt\n",
      "5476.txt\n",
      "5477.txt\n",
      "5478.txt\n",
      "5479.txt\n"
     ]
    },
    {
     "name": "stderr",
     "output_type": "stream",
     "text": [
      " 61%|██████    | 699/1144 [00:18<00:13, 32.10it/s]"
     ]
    },
    {
     "name": "stdout",
     "output_type": "stream",
     "text": [
      "5480.txt\n",
      "5481.txt\n",
      "5482.txt\n",
      "5483.txt\n",
      "5484.txt\n"
     ]
    },
    {
     "name": "stderr",
     "output_type": "stream",
     "text": [
      "\r",
      " 61%|██████▏   | 703/1144 [00:18<00:14, 29.66it/s]"
     ]
    },
    {
     "name": "stdout",
     "output_type": "stream",
     "text": [
      "5485.txt\n",
      "5486.txt\n",
      "5487.txt\n",
      "5488.txt\n",
      "5489.txt\n"
     ]
    },
    {
     "name": "stderr",
     "output_type": "stream",
     "text": [
      " 62%|██████▏   | 710/1144 [00:18<00:15, 27.60it/s]"
     ]
    },
    {
     "name": "stdout",
     "output_type": "stream",
     "text": [
      "5490.txt\n",
      "5491.txt\n",
      "5492.txt\n",
      "5493.txt\n",
      "5494.txt\n",
      "5495.txt\n"
     ]
    },
    {
     "name": "stderr",
     "output_type": "stream",
     "text": [
      "\r",
      " 62%|██████▏   | 714/1144 [00:18<00:14, 28.81it/s]"
     ]
    },
    {
     "name": "stdout",
     "output_type": "stream",
     "text": [
      "5496.txt\n",
      "5497.txt\n",
      "5498.txt\n",
      "5499.txt\n",
      "5500.txt\n",
      "5501.txt\n",
      "5502.txt\n"
     ]
    },
    {
     "name": "stderr",
     "output_type": "stream",
     "text": [
      " 63%|██████▎   | 722/1144 [00:18<00:13, 30.93it/s]"
     ]
    },
    {
     "name": "stdout",
     "output_type": "stream",
     "text": [
      "5503.txt\n",
      "5504.txt\n",
      "5505.txt\n",
      "5506.txt\n",
      "5507.txt\n",
      "5508.txt\n",
      "5509.txt\n",
      "5510.txt\n"
     ]
    },
    {
     "name": "stderr",
     "output_type": "stream",
     "text": [
      " 64%|██████▍   | 732/1144 [00:19<00:10, 38.00it/s]"
     ]
    },
    {
     "name": "stdout",
     "output_type": "stream",
     "text": [
      "5511.txt\n",
      "5512.txt\n",
      "5513.txt\n",
      "5514.txt\n",
      "5515.txt\n",
      "5516.txt\n",
      "5517.txt\n",
      "5518.txt\n",
      "5519.txt\n",
      "5520.txt\n"
     ]
    },
    {
     "name": "stderr",
     "output_type": "stream",
     "text": [
      " 65%|██████▍   | 742/1144 [00:19<00:10, 37.74it/s]"
     ]
    },
    {
     "name": "stdout",
     "output_type": "stream",
     "text": [
      "5521.txt\n",
      "5522.txt\n",
      "5523.txt\n",
      "5524.txt\n",
      "5525.txt\n",
      "5526.txt\n",
      "5527.txt\n",
      "5528.txt\n"
     ]
    },
    {
     "name": "stderr",
     "output_type": "stream",
     "text": [
      " 66%|██████▌   | 752/1144 [00:19<00:09, 39.20it/s]"
     ]
    },
    {
     "name": "stdout",
     "output_type": "stream",
     "text": [
      "5529.txt\n",
      "5530.txt\n",
      "5531.txt\n",
      "5532.txt\n",
      "5533.txt\n",
      "5534.txt\n",
      "5535.txt\n",
      "5536.txt\n",
      "5537.txt\n"
     ]
    },
    {
     "name": "stderr",
     "output_type": "stream",
     "text": [
      "\r",
      " 66%|██████▌   | 756/1144 [00:19<00:09, 39.17it/s]"
     ]
    },
    {
     "name": "stdout",
     "output_type": "stream",
     "text": [
      "5538.txt\n",
      "5539.txt\n",
      "5540.txt\n",
      "5541.txt\n",
      "5542.txt\n",
      "5543.txt\n",
      "5544.txt\n",
      "5545.txt\n"
     ]
    },
    {
     "name": "stderr",
     "output_type": "stream",
     "text": [
      " 67%|██████▋   | 765/1144 [00:19<00:09, 39.30it/s]"
     ]
    },
    {
     "name": "stdout",
     "output_type": "stream",
     "text": [
      "5546.txt\n",
      "5547.txt\n",
      "5548.txt\n",
      "5549.txt\n",
      "5550.txt\n",
      "5551.txt\n",
      "5552.txt\n",
      "5553.txt\n",
      "5554.txt\n"
     ]
    },
    {
     "name": "stderr",
     "output_type": "stream",
     "text": [
      " 68%|██████▊   | 774/1144 [00:20<00:10, 36.78it/s]"
     ]
    },
    {
     "name": "stdout",
     "output_type": "stream",
     "text": [
      "5555.txt\n",
      "5556.txt\n",
      "5557.txt\n",
      "5558.txt\n",
      "5559.txt\n",
      "5560.txt\n",
      "5561.txt\n",
      "5562.txt\n"
     ]
    },
    {
     "name": "stderr",
     "output_type": "stream",
     "text": [
      " 68%|██████▊   | 783/1144 [00:20<00:09, 38.90it/s]"
     ]
    },
    {
     "name": "stdout",
     "output_type": "stream",
     "text": [
      "5563.txt\n",
      "5564.txt\n",
      "5565.txt\n",
      "5566.txt\n",
      "5567.txt\n",
      "5568.txt\n",
      "5569.txt\n",
      "5570.txt\n",
      "5571.txt\n"
     ]
    },
    {
     "name": "stderr",
     "output_type": "stream",
     "text": [
      " 69%|██████▉   | 791/1144 [00:20<00:09, 38.55it/s]"
     ]
    },
    {
     "name": "stdout",
     "output_type": "stream",
     "text": [
      "5572.txt\n",
      "5573.txt\n",
      "5574.txt\n",
      "5575.txt\n",
      "5576.txt\n",
      "5577.txt\n",
      "5578.txt\n",
      "5579.txt\n"
     ]
    },
    {
     "name": "stderr",
     "output_type": "stream",
     "text": [
      " 70%|██████▉   | 799/1144 [00:20<00:09, 36.60it/s]"
     ]
    },
    {
     "name": "stdout",
     "output_type": "stream",
     "text": [
      "5580.txt\n",
      "5581.txt\n",
      "5582.txt\n",
      "5583.txt\n",
      "5584.txt\n",
      "5585.txt\n",
      "5586.txt\n",
      "5587.txt\n"
     ]
    },
    {
     "name": "stderr",
     "output_type": "stream",
     "text": [
      " 71%|███████   | 807/1144 [00:21<00:09, 34.37it/s]"
     ]
    },
    {
     "name": "stdout",
     "output_type": "stream",
     "text": [
      "5588.txt\n",
      "5589.txt\n",
      "5590.txt\n",
      "5591.txt\n",
      "5592.txt\n",
      "5593.txt\n"
     ]
    },
    {
     "name": "stderr",
     "output_type": "stream",
     "text": [
      "\r",
      " 71%|███████   | 811/1144 [00:21<00:10, 32.52it/s]"
     ]
    },
    {
     "name": "stdout",
     "output_type": "stream",
     "text": [
      "5594.txt\n",
      "5595.txt\n",
      "5596.txt\n",
      "5597.txt\n",
      "5598.txt\n",
      "5599.txt\n"
     ]
    },
    {
     "name": "stderr",
     "output_type": "stream",
     "text": [
      " 72%|███████▏  | 819/1144 [00:21<00:10, 31.07it/s]"
     ]
    },
    {
     "name": "stdout",
     "output_type": "stream",
     "text": [
      "5600.txt\n",
      "5601.txt\n",
      "5602.txt\n",
      "5603.txt\n",
      "5604.txt\n",
      "5605.txt\n",
      "5606.txt\n"
     ]
    },
    {
     "name": "stderr",
     "output_type": "stream",
     "text": [
      " 72%|███████▏  | 827/1144 [00:21<00:10, 30.98it/s]"
     ]
    },
    {
     "name": "stdout",
     "output_type": "stream",
     "text": [
      "5607.txt\n",
      "5608.txt\n",
      "5609.txt\n",
      "5610.txt\n",
      "5611.txt\n",
      "5612.txt\n",
      "5613.txt\n"
     ]
    },
    {
     "name": "stderr",
     "output_type": "stream",
     "text": [
      " 73%|███████▎  | 835/1144 [00:21<00:10, 30.51it/s]"
     ]
    },
    {
     "name": "stdout",
     "output_type": "stream",
     "text": [
      "5614.txt\n",
      "5615.txt\n",
      "5616.txt\n",
      "5617.txt\n",
      "5618.txt\n",
      "5619.txt\n",
      "5620.txt\n"
     ]
    },
    {
     "name": "stderr",
     "output_type": "stream",
     "text": [
      "\r",
      " 73%|███████▎  | 839/1144 [00:22<00:10, 29.73it/s]"
     ]
    },
    {
     "name": "stdout",
     "output_type": "stream",
     "text": [
      "5621.txt\n",
      "5622.txt\n",
      "5623.txt\n",
      "5624.txt\n",
      "5625.txt\n",
      "5626.txt\n",
      "5627.txt\n"
     ]
    },
    {
     "name": "stderr",
     "output_type": "stream",
     "text": [
      " 74%|███████▍  | 847/1144 [00:22<00:09, 30.24it/s]"
     ]
    },
    {
     "name": "stdout",
     "output_type": "stream",
     "text": [
      "5628.txt\n",
      "5629.txt\n",
      "5630.txt\n",
      "5631.txt\n",
      "5632.txt\n",
      "5633.txt\n",
      "5634.txt\n"
     ]
    },
    {
     "name": "stderr",
     "output_type": "stream",
     "text": [
      " 75%|███████▍  | 855/1144 [00:22<00:09, 30.71it/s]"
     ]
    },
    {
     "name": "stdout",
     "output_type": "stream",
     "text": [
      "5635.txt\n",
      "5636.txt\n",
      "5637.txt\n",
      "5638.txt\n",
      "5639.txt\n",
      "5640.txt\n",
      "5641.txt\n"
     ]
    },
    {
     "name": "stderr",
     "output_type": "stream",
     "text": [
      "\r",
      " 75%|███████▌  | 859/1144 [00:22<00:08, 32.16it/s]"
     ]
    },
    {
     "name": "stdout",
     "output_type": "stream",
     "text": [
      "5642.txt\n",
      "5643.txt\n",
      "5644.txt\n",
      "5645.txt\n",
      "5646.txt\n"
     ]
    },
    {
     "name": "stderr",
     "output_type": "stream",
     "text": [
      " 76%|███████▌  | 867/1144 [00:23<00:09, 28.20it/s]"
     ]
    },
    {
     "name": "stdout",
     "output_type": "stream",
     "text": [
      "5647.txt\n",
      "5648.txt\n",
      "5649.txt\n",
      "5650.txt\n",
      "5651.txt\n",
      "5652.txt\n",
      "5653.txt\n"
     ]
    },
    {
     "name": "stderr",
     "output_type": "stream",
     "text": [
      " 76%|███████▋  | 875/1144 [00:23<00:08, 31.98it/s]"
     ]
    },
    {
     "name": "stdout",
     "output_type": "stream",
     "text": [
      "5654.txt\n",
      "5655.txt\n",
      "5656.txt\n",
      "5657.txt\n",
      "5658.txt\n",
      "5659.txt\n",
      "5660.txt\n",
      "5661.txt\n"
     ]
    },
    {
     "name": "stderr",
     "output_type": "stream",
     "text": [
      " 77%|███████▋  | 884/1144 [00:23<00:07, 34.90it/s]"
     ]
    },
    {
     "name": "stdout",
     "output_type": "stream",
     "text": [
      "5662.txt\n",
      "5663.txt\n",
      "5664.txt\n",
      "5665.txt\n",
      "5666.txt\n",
      "5667.txt\n",
      "5668.txt\n",
      "5669.txt\n"
     ]
    },
    {
     "name": "stderr",
     "output_type": "stream",
     "text": [
      " 78%|███████▊  | 893/1144 [00:23<00:06, 37.25it/s]"
     ]
    },
    {
     "name": "stdout",
     "output_type": "stream",
     "text": [
      "5670.txt\n",
      "5671.txt\n",
      "5672.txt\n",
      "5673.txt\n",
      "5674.txt\n",
      "5675.txt\n",
      "5676.txt\n",
      "5677.txt\n",
      "5678.txt\n"
     ]
    },
    {
     "name": "stderr",
     "output_type": "stream",
     "text": [
      "\r",
      " 78%|███████▊  | 898/1144 [00:23<00:06, 39.74it/s]"
     ]
    },
    {
     "name": "stdout",
     "output_type": "stream",
     "text": [
      "5679.txt\n",
      "5680.txt\n",
      "5681.txt\n",
      "5682.txt\n",
      "5683.txt\n",
      "5684.txt\n",
      "5685.txt\n",
      "5686.txt\n",
      "5687.txt\n"
     ]
    },
    {
     "name": "stderr",
     "output_type": "stream",
     "text": [
      " 79%|███████▉  | 908/1144 [00:24<00:05, 39.93it/s]"
     ]
    },
    {
     "name": "stdout",
     "output_type": "stream",
     "text": [
      "5688.txt\n",
      "5689.txt\n",
      "5690.txt\n",
      "5691.txt\n",
      "5692.txt\n",
      "5693.txt\n",
      "5694.txt\n",
      "5695.txt\n"
     ]
    },
    {
     "name": "stderr",
     "output_type": "stream",
     "text": [
      " 80%|████████  | 918/1144 [00:24<00:06, 37.09it/s]"
     ]
    },
    {
     "name": "stdout",
     "output_type": "stream",
     "text": [
      "5696.txt\n",
      "5697.txt\n",
      "5698.txt\n",
      "5699.txt\n",
      "5700.txt\n",
      "5701.txt\n",
      "5702.txt\n",
      "5703.txt\n"
     ]
    },
    {
     "name": "stderr",
     "output_type": "stream",
     "text": [
      " 81%|████████  | 926/1144 [00:24<00:05, 37.13it/s]"
     ]
    },
    {
     "name": "stdout",
     "output_type": "stream",
     "text": [
      "5704.txt\n",
      "5705.txt\n",
      "5706.txt\n",
      "5707.txt\n",
      "5708.txt\n",
      "5709.txt\n",
      "5710.txt\n",
      "5711.txt\n"
     ]
    },
    {
     "name": "stderr",
     "output_type": "stream",
     "text": [
      " 82%|████████▏ | 935/1144 [00:24<00:05, 39.08it/s]"
     ]
    },
    {
     "name": "stdout",
     "output_type": "stream",
     "text": [
      "5712.txt\n",
      "5713.txt\n",
      "5714.txt\n",
      "5715.txt\n",
      "5716.txt\n",
      "5717.txt\n",
      "5718.txt\n",
      "5719.txt\n",
      "5720.txt\n"
     ]
    },
    {
     "name": "stderr",
     "output_type": "stream",
     "text": [
      "\r",
      " 82%|████████▏ | 940/1144 [00:24<00:04, 40.92it/s]"
     ]
    },
    {
     "name": "stdout",
     "output_type": "stream",
     "text": [
      "5721.txt\n",
      "5722.txt\n",
      "5723.txt\n",
      "5724.txt\n",
      "5725.txt\n",
      "5726.txt\n",
      "5727.txt\n",
      "5728.txt\n",
      "5729.txt\n",
      "5730.txt\n"
     ]
    },
    {
     "name": "stderr",
     "output_type": "stream",
     "text": [
      " 83%|████████▎ | 950/1144 [00:25<00:04, 42.34it/s]"
     ]
    },
    {
     "name": "stdout",
     "output_type": "stream",
     "text": [
      "5731.txt\n",
      "5732.txt\n",
      "5733.txt\n",
      "5734.txt\n",
      "5735.txt\n",
      "5736.txt\n",
      "5737.txt\n",
      "5738.txt\n",
      "5739.txt\n"
     ]
    },
    {
     "name": "stderr",
     "output_type": "stream",
     "text": [
      " 84%|████████▍ | 960/1144 [00:25<00:04, 40.14it/s]"
     ]
    },
    {
     "name": "stdout",
     "output_type": "stream",
     "text": [
      "5740.txt\n",
      "5741.txt\n",
      "5742.txt\n",
      "5743.txt\n",
      "5744.txt\n",
      "5745.txt\n",
      "5746.txt\n",
      "5747.txt\n"
     ]
    },
    {
     "name": "stderr",
     "output_type": "stream",
     "text": [
      " 85%|████████▍ | 970/1144 [00:25<00:04, 40.98it/s]"
     ]
    },
    {
     "name": "stdout",
     "output_type": "stream",
     "text": [
      "5748.txt\n",
      "5749.txt\n",
      "5750.txt\n",
      "5751.txt\n",
      "5752.txt\n",
      "5753.txt\n",
      "5754.txt\n",
      "5755.txt\n",
      "5756.txt\n"
     ]
    },
    {
     "name": "stderr",
     "output_type": "stream",
     "text": [
      " 86%|████████▌ | 980/1144 [00:25<00:03, 42.83it/s]"
     ]
    },
    {
     "name": "stdout",
     "output_type": "stream",
     "text": [
      "5757.txt\n",
      "5758.txt\n",
      "5759.txt\n",
      "5760.txt\n",
      "5761.txt\n",
      "5762.txt\n",
      "5763.txt\n",
      "5764.txt\n",
      "5765.txt\n",
      "5766.txt\n"
     ]
    },
    {
     "name": "stderr",
     "output_type": "stream",
     "text": [
      "\r",
      " 86%|████████▌ | 985/1144 [00:26<00:04, 39.02it/s]"
     ]
    },
    {
     "name": "stdout",
     "output_type": "stream",
     "text": [
      "5767.txt\n",
      "5768.txt\n",
      "5769.txt\n",
      "5770.txt\n",
      "5771.txt\n",
      "5772.txt\n",
      "5773.txt\n",
      "5774.txt\n"
     ]
    },
    {
     "name": "stderr",
     "output_type": "stream",
     "text": [
      " 87%|████████▋ | 995/1144 [00:26<00:03, 42.12it/s]"
     ]
    },
    {
     "name": "stdout",
     "output_type": "stream",
     "text": [
      "5775.txt\n",
      "5776.txt\n",
      "5777.txt\n",
      "5778.txt\n",
      "5779.txt\n",
      "5780.txt\n",
      "5781.txt\n",
      "5782.txt\n",
      "5783.txt\n",
      "5784.txt\n"
     ]
    },
    {
     "name": "stderr",
     "output_type": "stream",
     "text": [
      " 88%|████████▊ | 1005/1144 [00:26<00:03, 40.27it/s]"
     ]
    },
    {
     "name": "stdout",
     "output_type": "stream",
     "text": [
      "5785.txt\n",
      "5786.txt\n",
      "5787.txt\n",
      "5788.txt\n",
      "5789.txt\n",
      "5790.txt\n",
      "5791.txt\n",
      "5792.txt\n",
      "5793.txt\n"
     ]
    },
    {
     "name": "stderr",
     "output_type": "stream",
     "text": [
      " 89%|████████▊ | 1015/1144 [00:26<00:03, 42.88it/s]"
     ]
    },
    {
     "name": "stdout",
     "output_type": "stream",
     "text": [
      "5794.txt\n",
      "5795.txt\n",
      "5796.txt\n",
      "5797.txt\n",
      "5798.txt\n",
      "5799.txt\n",
      "5800.txt\n",
      "5801.txt\n",
      "5802.txt\n"
     ]
    },
    {
     "name": "stderr",
     "output_type": "stream",
     "text": [
      " 90%|████████▉ | 1025/1144 [00:27<00:02, 40.48it/s]"
     ]
    },
    {
     "name": "stdout",
     "output_type": "stream",
     "text": [
      "5803.txt\n",
      "5804.txt\n",
      "5805.txt\n",
      "5806.txt\n",
      "5807.txt\n",
      "5808.txt\n",
      "5809.txt\n",
      "5810.txt\n"
     ]
    },
    {
     "name": "stderr",
     "output_type": "stream",
     "text": [
      "\r",
      " 90%|█████████ | 1030/1144 [00:27<00:02, 39.60it/s]"
     ]
    },
    {
     "name": "stdout",
     "output_type": "stream",
     "text": [
      "5811.txt\n",
      "5812.txt\n",
      "5813.txt\n",
      "5814.txt\n",
      "5815.txt\n",
      "5816.txt\n",
      "5817.txt\n",
      "5818.txt\n"
     ]
    },
    {
     "name": "stderr",
     "output_type": "stream",
     "text": [
      " 91%|█████████ | 1040/1144 [00:27<00:02, 38.77it/s]"
     ]
    },
    {
     "name": "stdout",
     "output_type": "stream",
     "text": [
      "5819.txt\n",
      "5820.txt\n",
      "5821.txt\n",
      "5822.txt\n",
      "5823.txt\n",
      "5824.txt\n",
      "5825.txt\n",
      "5826.txt\n",
      "5827.txt\n"
     ]
    },
    {
     "name": "stderr",
     "output_type": "stream",
     "text": [
      " 92%|█████████▏| 1050/1144 [00:27<00:02, 40.70it/s]"
     ]
    },
    {
     "name": "stdout",
     "output_type": "stream",
     "text": [
      "5828.txt\n",
      "5829.txt\n",
      "5830.txt\n",
      "5831.txt\n",
      "5832.txt\n",
      "5833.txt\n",
      "5834.txt\n",
      "5835.txt\n",
      "5836.txt\n"
     ]
    },
    {
     "name": "stderr",
     "output_type": "stream",
     "text": [
      " 93%|█████████▎| 1060/1144 [00:27<00:02, 41.59it/s]"
     ]
    },
    {
     "name": "stdout",
     "output_type": "stream",
     "text": [
      "5837.txt\n",
      "5838.txt\n",
      "5839.txt\n",
      "5840.txt\n",
      "5841.txt\n",
      "5842.txt\n",
      "5843.txt\n",
      "5844.txt\n",
      "5845.txt\n"
     ]
    },
    {
     "name": "stderr",
     "output_type": "stream",
     "text": [
      "\r",
      " 93%|█████████▎| 1065/1144 [00:28<00:01, 42.97it/s]"
     ]
    },
    {
     "name": "stdout",
     "output_type": "stream",
     "text": [
      "5846.txt\n",
      "5847.txt\n",
      "5848.txt\n",
      "5849.txt\n",
      "5850.txt\n",
      "5851.txt\n",
      "5852.txt\n",
      "5853.txt\n",
      "5854.txt\n"
     ]
    },
    {
     "name": "stderr",
     "output_type": "stream",
     "text": [
      " 94%|█████████▍| 1075/1144 [00:28<00:01, 43.29it/s]"
     ]
    },
    {
     "name": "stdout",
     "output_type": "stream",
     "text": [
      "5855.txt\n",
      "5856.txt\n",
      "5857.txt\n",
      "5858.txt\n",
      "5859.txt\n",
      "5860.txt\n",
      "5861.txt\n",
      "5862.txt\n",
      "5863.txt\n",
      "5864.txt\n"
     ]
    },
    {
     "name": "stderr",
     "output_type": "stream",
     "text": [
      " 95%|█████████▍| 1085/1144 [00:28<00:01, 43.12it/s]"
     ]
    },
    {
     "name": "stdout",
     "output_type": "stream",
     "text": [
      "5865.txt\n",
      "5866.txt\n",
      "5867.txt\n",
      "5868.txt\n",
      "5869.txt\n",
      "5870.txt\n",
      "5871.txt\n",
      "5872.txt\n",
      "5873.txt\n"
     ]
    },
    {
     "name": "stderr",
     "output_type": "stream",
     "text": [
      " 96%|█████████▌| 1095/1144 [00:28<00:01, 44.95it/s]"
     ]
    },
    {
     "name": "stdout",
     "output_type": "stream",
     "text": [
      "5874.txt\n",
      "5875.txt\n",
      "5876.txt\n",
      "5877.txt\n",
      "5878.txt\n",
      "5879.txt\n",
      "5880.txt\n",
      "5881.txt\n",
      "5882.txt\n",
      "5883.txt\n"
     ]
    },
    {
     "name": "stderr",
     "output_type": "stream",
     "text": [
      " 97%|█████████▋| 1105/1144 [00:28<00:00, 45.82it/s]"
     ]
    },
    {
     "name": "stdout",
     "output_type": "stream",
     "text": [
      "5884.txt\n",
      "5885.txt\n",
      "5886.txt\n",
      "5887.txt\n",
      "5888.txt\n",
      "5889.txt\n",
      "5890.txt\n",
      "5891.txt\n",
      "5892.txt\n",
      "5893.txt\n",
      "5894.txt\n"
     ]
    },
    {
     "name": "stderr",
     "output_type": "stream",
     "text": [
      " 97%|█████████▋| 1115/1144 [00:29<00:00, 46.30it/s]"
     ]
    },
    {
     "name": "stdout",
     "output_type": "stream",
     "text": [
      "5895.txt\n",
      "5896.txt\n",
      "5897.txt\n",
      "5898.txt\n",
      "5899.txt\n",
      "5900.txt\n",
      "5901.txt\n",
      "5902.txt\n",
      "5903.txt\n",
      "5904.txt\n"
     ]
    },
    {
     "name": "stderr",
     "output_type": "stream",
     "text": [
      " 99%|█████████▉| 1130/1144 [00:29<00:00, 47.49it/s]"
     ]
    },
    {
     "name": "stdout",
     "output_type": "stream",
     "text": [
      "5905.txt\n",
      "5906.txt\n",
      "5907.txt\n",
      "5908.txt\n",
      "5909.txt\n",
      "5910.txt\n",
      "5911.txt\n",
      "5912.txt\n",
      "5913.txt\n",
      "5914.txt\n",
      "5915.txt\n"
     ]
    },
    {
     "name": "stderr",
     "output_type": "stream",
     "text": [
      "\r",
      " 99%|█████████▉| 1135/1144 [00:29<00:00, 46.94it/s]"
     ]
    },
    {
     "name": "stdout",
     "output_type": "stream",
     "text": [
      "5916.txt\n",
      "5917.txt\n",
      "5918.txt\n",
      "5919.txt\n",
      "5920.txt\n",
      "5921.txt\n",
      "5922.txt\n",
      "5923.txt\n",
      "5924.txt\n"
     ]
    },
    {
     "name": "stderr",
     "output_type": "stream",
     "text": [
      "100%|██████████| 1144/1144 [00:29<00:00, 38.46it/s]"
     ]
    },
    {
     "name": "stdout",
     "output_type": "stream",
     "text": [
      "5925.txt\n",
      "5926.txt\n",
      "5927.txt\n",
      "5928.txt\n",
      "5929.txt\n"
     ]
    },
    {
     "name": "stderr",
     "output_type": "stream",
     "text": [
      "\n"
     ]
    }
   ],
   "source": [
    "create_dataset('images_thermal_val',annotations_val, images_val)"
   ]
  },
  {
   "cell_type": "code",
   "execution_count": null,
   "id": "91188375",
   "metadata": {},
   "outputs": [],
   "source": []
  }
 ],
 "metadata": {
  "kernelspec": {
   "display_name": "Python 3 (ipykernel)",
   "language": "python",
   "name": "python3"
  },
  "language_info": {
   "codemirror_mode": {
    "name": "ipython",
    "version": 3
   },
   "file_extension": ".py",
   "mimetype": "text/x-python",
   "name": "python",
   "nbconvert_exporter": "python",
   "pygments_lexer": "ipython3",
   "version": "3.9.13"
  }
 },
 "nbformat": 4,
 "nbformat_minor": 5
}
